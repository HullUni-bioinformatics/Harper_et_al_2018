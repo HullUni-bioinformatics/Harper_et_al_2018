{
 "cells": [
  {
   "cell_type": "markdown",
   "metadata": {},
   "source": [
    "# Re-analysis of unassigned reads"
   ]
  },
  {
   "cell_type": "markdown",
   "metadata": {},
   "source": [
    "It is important to know the identity of unassigned reads for contamination or reference database ambiguities. This code will BLAST unassigned reads against entire GenBank.\n",
    "\n",
    "Based on the results of the 98% BLAST identity metaBEAT run, a new BIOM table containing only OTUs that were not taxonomically assigned is generated. A fasta file with the corresponding sequences is also prepared.\n",
    "\n",
    "\n",
    "Required files:\n",
    "\n",
    " - fasta file containing all query sequences (global centroids), as produced by 98% identity metaBEAT run\n",
    "\n",
    " - taxonomy annotated OTU biom table in json format from a metaBEAT run - not the taxonomy collapsed BIOM table.\n",
    "\n",
    "\n",
    "Load the necessary functions. Functions are in place as of version '0.97.4-global' (commit: 9110e5a3f4a979e85733f83cb0388b00586544f6)."
   ]
  },
  {
   "cell_type": "code",
   "execution_count": 1,
   "metadata": {
    "collapsed": false
   },
   "outputs": [
    {
     "name": "stdout",
     "output_type": "stream",
     "text": [
      "/home/working/Harper_et_al_2018/Jupyter_notebooks\r\n"
     ]
    }
   ],
   "source": [
    "!pwd"
   ]
  },
  {
   "cell_type": "code",
   "execution_count": 2,
   "metadata": {
    "collapsed": false
   },
   "outputs": [
    {
     "name": "stdout",
     "output_type": "stream",
     "text": [
      "/home/working/Harper_et_al_2018\n"
     ]
    }
   ],
   "source": [
    "cd .."
   ]
  },
  {
   "cell_type": "code",
   "execution_count": 3,
   "metadata": {
    "collapsed": true
   },
   "outputs": [],
   "source": [
    "!mkdir 4-unassigned"
   ]
  },
  {
   "cell_type": "code",
   "execution_count": 4,
   "metadata": {
    "collapsed": false
   },
   "outputs": [
    {
     "name": "stdout",
     "output_type": "stream",
     "text": [
      "/home/working/Harper_et_al_2018/4-unassigned\n"
     ]
    }
   ],
   "source": [
    "cd 4-unassigned/"
   ]
  },
  {
   "cell_type": "code",
   "execution_count": 5,
   "metadata": {
    "collapsed": true
   },
   "outputs": [],
   "source": [
    "import metaBEAT_global_misc_functions as mb"
   ]
  },
  {
   "cell_type": "markdown",
   "metadata": {},
   "source": [
    "Read in BIOM file from metaBEAT analysis."
   ]
  },
  {
   "cell_type": "code",
   "execution_count": 6,
   "metadata": {
    "collapsed": false
   },
   "outputs": [
    {
     "name": "stdout",
     "output_type": "stream",
     "text": [
      "\n",
      "Specified BIOM input format 'json' - ok!\n"
     ]
    }
   ],
   "source": [
    "table = mb.load_BIOM('../3-taxonomic_assignment/GLOBAL/BLAST_0.98/12S-trim30_crop110_min90_merge-forwonly_nonchimera_c0.97cov5_blast98-id1-OTU-taxonomy.blast.biom', \n",
    "                     informat='json')"
   ]
  },
  {
   "cell_type": "code",
   "execution_count": 7,
   "metadata": {
    "collapsed": false
   },
   "outputs": [],
   "source": [
    "# Double check that we've got a table\n",
    "#print table"
   ]
  },
  {
   "cell_type": "markdown",
   "metadata": {},
   "source": [
    "Extract only OTUs that were not assigned to any taxa i.e. 'unassigned'."
   ]
  },
  {
   "cell_type": "code",
   "execution_count": 8,
   "metadata": {
    "collapsed": false
   },
   "outputs": [
    {
     "name": "stdout",
     "output_type": "stream",
     "text": [
      "Found taxonomy metadata with OTUs - ok!\n"
     ]
    }
   ],
   "source": [
    "unassigned_table = mb.BIOM_return_by_tax_level(taxlevel='unassigned', BIOM=table, invert=False)"
   ]
  },
  {
   "cell_type": "code",
   "execution_count": 9,
   "metadata": {
    "collapsed": false
   },
   "outputs": [],
   "source": [
    "# Check metadata in new table to see if we only got the unassigned bits\n",
    "#print unassigned_table.metadata(axis='observation')"
   ]
  },
  {
   "cell_type": "markdown",
   "metadata": {},
   "source": [
    "Extract only sequences mentioned in the table."
   ]
  },
  {
   "cell_type": "code",
   "execution_count": 10,
   "metadata": {
    "collapsed": false
   },
   "outputs": [
    {
     "name": "stdout",
     "output_type": "stream",
     "text": [
      "Looking to extract 7609 sequences\n",
      "Parsing ../3-taxonomic_assignment/GLOBAL/global_queries.fasta\n",
      "identified 7609 target sequences .. OK!\n",
      "Writing sequences to file: unassigned_only.fasta\n"
     ]
    }
   ],
   "source": [
    "mb.extract_fasta_by_BIOM_OTU_ids(in_fasta='../3-taxonomic_assignment/GLOBAL/global_queries.fasta', \n",
    "                                 BIOM=unassigned_table, \n",
    "                                 out_fasta='unassigned_only.fasta')"
   ]
  },
  {
   "cell_type": "code",
   "execution_count": 11,
   "metadata": {
    "collapsed": true
   },
   "outputs": [],
   "source": [
    "unassigned_table_notax = mb.drop_BIOM_taxonomy(unassigned_table)"
   ]
  },
  {
   "cell_type": "code",
   "execution_count": 12,
   "metadata": {
    "collapsed": false
   },
   "outputs": [],
   "source": [
    "# Double check that the taxonomy is gone\n",
    "#print unassigned_table_notax.metadata(axis='observation')"
   ]
  },
  {
   "cell_type": "markdown",
   "metadata": {},
   "source": [
    "Write reduced table without taxonomy metadata, i.e. denovo table, to file"
   ]
  },
  {
   "cell_type": "code",
   "execution_count": 13,
   "metadata": {
    "collapsed": false
   },
   "outputs": [
    {
     "name": "stdout",
     "output_type": "stream",
     "text": [
      "Writing 'unassigned_only_denovo.biom'\n",
      "Writing 'unassigned_only_denovo.tsv'\n"
     ]
    }
   ],
   "source": [
    "mb.write_BIOM(BIOM=unassigned_table_notax, target_prefix='unassigned_only_denovo', outfmt=['json','tsv'])"
   ]
  },
  {
   "cell_type": "markdown",
   "metadata": {},
   "source": [
    "A `gb_to_taxid.csv` file is required for the unassigned BLAST to match GenBank accession numbers to the corresponding taxid for a given organism. This has been provided for you in the directory containing this Jupyter notebook (`./Jupyter_notebooks/`) but you will have to move it to `../4-unassigned/`."
   ]
  },
  {
   "cell_type": "code",
   "execution_count": 14,
   "metadata": {
    "collapsed": false
   },
   "outputs": [],
   "source": [
    "!cp ../Jupyter_notebooks/gb_to_taxid.csv ../4-unassigned/"
   ]
  },
  {
   "cell_type": "markdown",
   "metadata": {},
   "source": [
    "Make sure `gb_to_taxid.csv` file is present."
   ]
  },
  {
   "cell_type": "code",
   "execution_count": 16,
   "metadata": {
    "collapsed": false
   },
   "outputs": [
    {
     "name": "stdout",
     "output_type": "stream",
     "text": [
      "KF451804.1,9606\r\n",
      "KX211931.1,9597\r\n",
      "998452514,9606\r\n",
      "KC252392.1,9606\r\n",
      "KT749813.1,9606\r\n",
      "LC062069.1,10090\r\n",
      "930576047,9606\r\n",
      "647737363,9615\r\n",
      "998452864,9606\r\n",
      "KX211933.1,9597\r\n"
     ]
    }
   ],
   "source": [
    "!head gb_to_taxid.csv"
   ]
  },
  {
   "cell_type": "markdown",
   "metadata": {},
   "source": [
    "You will need to make sure you have a copy of the NCBI nucleotide database on your computer. Use the command line to download this [here](ftp://ftp.ncbi.nih.gov/)."
   ]
  },
  {
   "cell_type": "markdown",
   "metadata": {},
   "source": [
    "The files `unassigned_only_denovo.biom` and `unassigned_only.fasta` can be used as input for new metaBEAT run."
   ]
  },
  {
   "cell_type": "code",
   "execution_count": 17,
   "metadata": {
    "collapsed": false
   },
   "outputs": [
    {
     "name": "stdout",
     "output_type": "stream",
     "text": [
      "usage: metaBEAT.py [-h] [-Q <FILE>] [-B <FILE>] [--g_queries <FILE>] [-v] [-s]\r\n",
      "                   [-f] [-p] [-k] [-t] [-b] [-m <string>] [-n <INT>] [-E] [-e]\r\n",
      "                   [--read_stats_off] [--PCR_primer <FILE>] [--bc_dist <INT>]\r\n",
      "                   [--trim_adapter <FILE>] [--trim_qual <INT>] [--phred <INT>]\r\n",
      "                   [--trim_window <INT>] [--read_crop <INT>]\r\n",
      "                   [--trim_minlength <INT>] [--merge] [--product_length <INT>]\r\n",
      "                   [--merged_only] [--forward_only] [--length_filter <INT>]\r\n",
      "                   [--length_deviation <FLOAT>] [-R <FILE>] [--gb_out <FILE>]\r\n",
      "                   [--rec_check] [--gb_to_taxid <FILE>] [--cluster]\r\n",
      "                   [--clust_match <FLOAT>] [--clust_cov <INT>]\r\n",
      "                   [--blast_db <PATH>] [--blast_xml <PATH>]\r\n",
      "                   [--update_taxonomy] [--taxonomy_db <FILE>]\r\n",
      "                   [--min_ident <FLOAT>] [--min_ali_length <FLOAT>]\r\n",
      "                   [--bitscore_skim_LCA <FLOAT>] [--bitscore_skim_adjust_off]\r\n",
      "                   [--min_bit <INT>] [--refpkg <DIR>] [--jplace <FILE>]\r\n",
      "                   [--jellyfish_hash_size <STR>] [--kraken_db <DIR>]\r\n",
      "                   [--kraken_score_threshold <FLOAT>] [--rm_kraken_db]\r\n",
      "                   [-o OUTPUT_PREFIX] [--metadata METADATA]\r\n",
      "                   [-@ <email-address>] [--version]\r\n",
      "\r\n",
      "metaBEAT - metaBarcoding and Environmental DNA Analyses tool version:\r\n",
      "v.0.97.11-global\r\n",
      "\r\n",
      "optional arguments:\r\n",
      "  -h, --help            show this help message and exit\r\n",
      "  -Q <FILE>, --querylist <FILE>\r\n",
      "                        file containing a list of query files\r\n",
      "  -B <FILE>, --BIOM_input <FILE>\r\n",
      "                        OTU table in BIOM format\r\n",
      "  --g_queries <FILE>    fasta file containing query sequences (in combination\r\n",
      "                        with '-B' sequence headers are expected to match)\r\n",
      "  -v, --verbose         turn verbose output on\r\n",
      "  -s, --seqinfo         write out seq_info.csv file\r\n",
      "  -f, --fasta           write out ref.fasta file\r\n",
      "  -p, --pplace          perform phylogenetic placement\r\n",
      "  -k, --kraken          perform phylogenetic placement\r\n",
      "  -t, --taxids          write out taxid.txt file\r\n",
      "  -b, --blast           compile local blast db and blast queries\r\n",
      "  -m <string>, --marker <string>\r\n",
      "                        marker ID (default: marker)\r\n",
      "  -n <INT>, --n_threads <INT>\r\n",
      "                        Number of threads (default: 1)\r\n",
      "  -E, --extract_centroid_reads\r\n",
      "                        extract centroid reads to files\r\n",
      "  -e, --extract_all_reads\r\n",
      "                        extract reads to files\r\n",
      "  --read_stats_off      ommit writing read stats to file\r\n",
      "  --version             show program's version number and exit\r\n",
      "\r\n",
      "Query preprocessing:\r\n",
      "  The parameters in this group affect how the query sequences are processed\r\n",
      "\r\n",
      "  --PCR_primer <FILE>   PCR primers (provided in fasta file) to be clipped\r\n",
      "                        from reads\r\n",
      "  --bc_dist <INT>       Number of mismatches allowed in barcode sequences\r\n",
      "  --trim_adapter <FILE>\r\n",
      "                        trim adapters provided in file\r\n",
      "  --trim_qual <INT>     minimum phred quality score (default: 30)\r\n",
      "  --phred <INT>         phred quality score offset - 33 or 64 (default: 33)\r\n",
      "  --trim_window <INT>   sliding window size (default: 5) for trimming; if\r\n",
      "                        average quality drops below the specified minimum\r\n",
      "                        quality all subsequent bases are removed from the\r\n",
      "                        reads\r\n",
      "  --read_crop <INT>     Crop reads to this length if they are longer than that\r\n",
      "                        (default: off)\r\n",
      "  --trim_minlength <INT>\r\n",
      "                        minimum length of reads to be retained after trimming\r\n",
      "                        (default: 50)\r\n",
      "  --merge               attempt to merge paired-end reads\r\n",
      "  --product_length <INT>\r\n",
      "                        estimated length of PCR product (specifying this\r\n",
      "                        option increases merging efficiency)\r\n",
      "  --merged_only         only process successfully merged read-pairs\r\n",
      "  --forward_only        only process sequences that contain forward reads\r\n",
      "                        (i.e. unmerged forward reads and merged reads)\r\n",
      "  --length_filter <INT>\r\n",
      "                        only process reads, which are within +/- 10 percent of\r\n",
      "                        this length\r\n",
      "  --length_deviation <FLOAT>\r\n",
      "                        allowed deviation (in percent) from length specified\r\n",
      "                        by --length_filter (default=0.1)\r\n",
      "\r\n",
      "Reference:\r\n",
      "  The parameters in this group affect the reference to be used in the\r\n",
      "  analyses\r\n",
      "\r\n",
      "  -R <FILE>, --REFlist <FILE>\r\n",
      "                        file containing a list of files to be used as\r\n",
      "                        reference sequences\r\n",
      "  --gb_out <FILE>       output the corrected gb file\r\n",
      "  --rec_check           check records to be used as reference\r\n",
      "  --gb_to_taxid <FILE>  comma delimited file containing 'gb accession,taxid'\r\n",
      "                        for a list of taxa\r\n",
      "\r\n",
      "Query clustering options:\r\n",
      "  The parameters in this group affect read clustering\r\n",
      "\r\n",
      "  --cluster             perform clustering of query sequences using vsearch\r\n",
      "  --clust_match <FLOAT>\r\n",
      "                        identity threshold for clustering in percent (default:\r\n",
      "                        1)\r\n",
      "  --clust_cov <INT>     minimum number of records in cluster (default: 1)\r\n",
      "\r\n",
      "BLAST search:\r\n",
      "  The parameters in this group affect BLAST search and BLAST based taxonomic\r\n",
      "  assignment\r\n",
      "\r\n",
      "  --blast_db <PATH>     path to precompiled blast database\r\n",
      "  --blast_xml <PATH>    path to Blast result in xml format\r\n",
      "  --update_taxonomy     Download/update taxonomy database. Database will be\r\n",
      "                        called 'taxonomy.db' and will be compiled in the same\r\n",
      "                        location as the metaBEAT.py script.\r\n",
      "  --taxonomy_db <FILE>  taxonomy database file location. In case it's not the\r\n",
      "                        default, which is 'taxonomy.db' in the same directory\r\n",
      "                        as the metaBEAT.py script.\r\n",
      "  --min_ident <FLOAT>   minimum identity threshold in percent (default: 0.80)\r\n",
      "  --min_ali_length <FLOAT>\r\n",
      "                        minimum alignment length in percent of total query\r\n",
      "                        length (default: 0.95)\r\n",
      "  --bitscore_skim_LCA <FLOAT>\r\n",
      "                        Only BLAST hits with bitscores differing by less than\r\n",
      "                        this factor from the top hit (bitscore skim window)\r\n",
      "                        will be considered for LCA (0-1; default: 0.1)\r\n",
      "  --bitscore_skim_adjust_off\r\n",
      "                        Per default a 100% identity BLAST top hit across the\r\n",
      "                        minimum alignment length triggers an adjustment of the\r\n",
      "                        bitscore skim window to '0', i.e. only hits with\r\n",
      "                        bitscores as good as the top hit are considered for\r\n",
      "                        LCA. This flag switches this behaviour off.\r\n",
      "  --min_bit <INT>       minimum bitscore (default: 80)\r\n",
      "\r\n",
      "Phylogenetic placement:\r\n",
      "  The parameters in this group affect phylogenetic placement\r\n",
      "\r\n",
      "  --refpkg <DIR>        PATH to refpkg for pplacer\r\n",
      "  --jplace <FILE>       phylogenetic placement result from prefious pplacer\r\n",
      "                        run in *.jplace format\r\n",
      "\r\n",
      "Kraken:\r\n",
      "  The parameters in this group affect taxonomic assignment using Kraken\r\n",
      "\r\n",
      "  --jellyfish_hash_size <STR>\r\n",
      "                        jellyfish hash size to control memory usage during\r\n",
      "                        kraken database building. A table size of '6400M' will\r\n",
      "                        require ~44G of RAM. '2700M' -> 20G RAM.\r\n",
      "  --kraken_db <DIR>     PATH to a Kraken database\r\n",
      "  --kraken_score_threshold <FLOAT>\r\n",
      "                        minimum proportion of k-mers to support assignment\r\n",
      "                        (0-1; default: 0)\r\n",
      "  --rm_kraken_db        Remove Kraken database after successful completion\r\n",
      "\r\n",
      "BIOM OUTPUT:\r\n",
      "  The arguments in this groups affect the output in BIOM format\r\n",
      "\r\n",
      "  -o OUTPUT_PREFIX, --output_prefix OUTPUT_PREFIX\r\n",
      "                        prefix for BIOM output files (default='metaBEAT')\r\n",
      "  --metadata METADATA   comma delimited file containing metadata (optional)\r\n",
      "\r\n",
      "Entrez identification:\r\n",
      "  metaBEAT is querying the NCBI Entrez databases, please provide an email\r\n",
      "  address for identification\r\n",
      "\r\n",
      "  -@ <email-address>, --email <email-address>\r\n",
      "                        provide your email address for identification to NCBI\r\n"
     ]
    }
   ],
   "source": [
    "!metaBEAT_global.py -h"
   ]
  },
  {
   "cell_type": "markdown",
   "metadata": {},
   "source": [
    "**GO!**"
   ]
  },
  {
   "cell_type": "code",
   "execution_count": 17,
   "metadata": {
    "collapsed": false
   },
   "outputs": [],
   "source": [
    "%%bash\n",
    "\n",
    "metaBEAT_global.py \\\n",
    "-B unassigned_only_denovo.biom \\\n",
    "--g_queries unassigned_only.fasta \\\n",
    "--blast --blast_db ../../entireGB_DB/nt/nt --min_ident 0.98 --min_ali_length 0.8 \\\n",
    "-m 12S -n 5 \\\n",
    "-v \\\n",
    "-@ L.Harper@2015.hull.ac.uk \\\n",
    "-o unassigned_only &> log_unassigned"
   ]
  },
  {
   "cell_type": "code",
   "execution_count": 18,
   "metadata": {
    "collapsed": false
   },
   "outputs": [],
   "source": [
    "!tail -n 50 log_unassigned"
   ]
  },
  {
   "cell_type": "markdown",
   "metadata": {},
   "source": [
    "If the analysis breaks, you have to find the OTU and GenBank ('gb') accession number that caused this.\n",
    "\n",
    "Open the log file and look for the query that was being processed when the analysis broke. The log file will tell you how many gb accession numbers have been seen before until eventually one will cause the pipeline to break. If it has seen the gb accession number before in the first 10 hits for example, it is the gb accession number of the 11th hit that broke the pipeline. Open the `global_blastn.out.xml` in the command line using vim and find the last query that was being processed. Look for the hit with the gb accession number that caused the analysis to break. Copy the gb number and search NCBI with it. The result returned is the species that we need to obtain a taxid for. Click on the species and copy the taxid on the species page. Manually append this taxid, along with the gb number, to your `gb_to_taxid.csv` file in text editor.\n",
    "\n",
    "Continue to re-run BLAST and repeat trouble-shooting process until metaBEAT completes successfully."
   ]
  }
 ],
 "metadata": {
  "kernelspec": {
   "display_name": "Python 2",
   "language": "python",
   "name": "python2"
  },
  "language_info": {
   "codemirror_mode": {
    "name": "ipython",
    "version": 2
   },
   "file_extension": ".py",
   "mimetype": "text/x-python",
   "name": "python",
   "nbconvert_exporter": "python",
   "pygments_lexer": "ipython2",
   "version": "2.7.6"
  }
 },
 "nbformat": 4,
 "nbformat_minor": 0
}
