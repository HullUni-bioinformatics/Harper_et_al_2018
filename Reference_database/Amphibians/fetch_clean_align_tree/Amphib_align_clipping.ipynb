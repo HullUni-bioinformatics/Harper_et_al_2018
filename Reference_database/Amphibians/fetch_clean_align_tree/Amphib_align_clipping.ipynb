{
 "cells": [
  {
   "cell_type": "code",
   "execution_count": 1,
   "metadata": {
    "collapsed": true
   },
   "outputs": [],
   "source": [
    "from reprophylo import *"
   ]
  },
  {
   "cell_type": "markdown",
   "metadata": {},
   "source": [
    "Remove redundancy by clustering the 12S sequences with vsearch."
   ]
  },
  {
   "cell_type": "code",
   "execution_count": 2,
   "metadata": {
    "collapsed": false
   },
   "outputs": [
    {
     "name": "stdout",
     "output_type": "stream",
     "text": [
      "vsearch v1.1.0_linux_x86_64, 31.3GB RAM, 8 cores\r\n",
      "https://github.com/torognes/vsearch\r\n",
      "\r\n",
      "Reading file ../fetch_clean_align/12S_AmphibAlign.fasta 0%\r\n",
      "\r\n",
      "Fatal error: illegal character '-' on line 2 in the database file\r\n"
     ]
    }
   ],
   "source": [
    "!vsearch -threads 5 --cluster_fast ../fetch_clean_align/12S_AmphibAlign.fasta --strand both --uc 12S_id-1.uc --id 1 --query_cov 1"
   ]
  },
  {
   "cell_type": "code",
   "execution_count": 4,
   "metadata": {
    "collapsed": false
   },
   "outputs": [
    {
     "name": "stderr",
     "output_type": "stream",
     "text": [
      "DEBUG:Cloud:Log file (/root/.picloud/cloud.log) opened\n"
     ]
    }
   ],
   "source": [
    "pj=Project('../fetch_clean_align/target_locus.csv', pickle='new.pkl', git=False)"
   ]
  },
  {
   "cell_type": "code",
   "execution_count": 5,
   "metadata": {
    "collapsed": false
   },
   "outputs": [],
   "source": [
    "#pj = unpickle_pj('new.pkl', git=False)"
   ]
  },
  {
   "cell_type": "markdown",
   "metadata": {},
   "source": [
    "The next code cell reads the GenBank file containing the reference sequences into memory. DO NOT RUN MORE THAN ONCE. Otherwise you must remove the pickle that has already been created."
   ]
  },
  {
   "cell_type": "code",
   "execution_count": 5,
   "metadata": {
    "collapsed": false
   },
   "outputs": [
    {
     "name": "stderr",
     "output_type": "stream",
     "text": [
      "/home/reprophylo/reprophylo.py:1015: UserWarning: Version control off\n",
      "  warnings.warn('Version control off')\n"
     ]
    }
   ],
   "source": [
    "pj.read_embl_genbank(['../fetch_and_clean/amphib12S_cropped_500bp.gb'])"
   ]
  },
  {
   "cell_type": "code",
   "execution_count": 6,
   "metadata": {
    "collapsed": true
   },
   "outputs": [],
   "source": [
    "pj.extract_by_locus()"
   ]
  },
  {
   "cell_type": "code",
   "execution_count": 7,
   "metadata": {
    "collapsed": false
   },
   "outputs": [
    {
     "name": "stdout",
     "output_type": "stream",
     "text": [
      "Distribution Of Sequence Lengths\n",
      "Distribution Of Sequence Statistic \"Gc_Content\"\n"
     ]
    },
    {
     "name": "stderr",
     "output_type": "stream",
     "text": [
      "/usr/lib/pymodules/python2.7/matplotlib/figure.py:371: UserWarning: matplotlib is currently using a non-GUI backend, so cannot show the figure\n",
      "  \"matplotlib is currently using a non-GUI backend, \"\n"
     ]
    },
    {
     "data": {
      "image/png": "[encoded data removed]",
      "text/plain": [
       "<matplotlib.figure.Figure at 0x7fd7a54ea5d0>"
      ]
     },
     "metadata": {},
     "output_type": "display_data"
    },
    {
     "data": {
      "image/png": "[encoded data removed]",
      "text/plain": [
       "<matplotlib.figure.Figure at 0x7fd7a53f1210>"
      ]
     },
     "metadata": {},
     "output_type": "display_data"
    }
   ],
   "source": [
    "%matplotlib inline\n",
    "pj.report_seq_stats()"
   ]
  },
  {
   "cell_type": "code",
   "execution_count": 8,
   "metadata": {
    "collapsed": false
   },
   "outputs": [
    {
     "name": "stdout",
     "output_type": "stream",
     "text": [
      "Total number of records: 90\n",
      "Number of species (see below for full list): 18\n",
      "['Alytes obstetricans', 'Pelophylax ridibundus', 'Triturus cristatus', 'Epidalea calamita', 'Rana catesbeiana', 'Salamandra salamandra', 'Discoglossus pictus', 'Hyla arborea', 'Bufo bufo', 'Xenopus laevis', 'Pelophylax esculentus', 'Lissotriton vulgaris', 'Bombina bombina', 'Pelophylax lessonae', 'Triturus carnifex', 'Rana temporaria', 'Ichthyosaura alpestris', 'Bombina variegata']\n"
     ]
    }
   ],
   "source": [
    "species=[]\n",
    "for r in pj.records:\n",
    "    source = [f for f in r.features if f.type == 'source'][0]\n",
    "    species.append(\" \".join(source.qualifiers['organism'][0].split()[0:2]))\n",
    "    \n",
    "#print set(species)\n",
    "total=len(species)\n",
    "species=list(set(species))\n",
    "\n",
    "print \"Total number of records: %i\" %total\n",
    "print \"Number of species (see below for full list): %i\" %len(species)\n",
    "print species"
   ]
  },
  {
   "cell_type": "markdown",
   "metadata": {},
   "source": [
    "Extract ids of representative sequences identified by vsearch -> remove all others from the object.\n",
    "\n",
    "NB: 'rrnS' must be used as this is the default loci name for 12S rRNA."
   ]
  },
  {
   "cell_type": "code",
   "execution_count": 9,
   "metadata": {
    "collapsed": false
   },
   "outputs": [
    {
     "name": "stdout",
     "output_type": "stream",
     "text": [
      "to drop: 30\n",
      "to keep: 60\n",
      "TOTAL: 90\n"
     ]
    }
   ],
   "source": [
    "ids = []\n",
    "recs_to_keep = {}\n",
    "recs_to_drop = {}\n",
    "\n",
    "\n",
    "uc=open('12S_500bp_id-1.uc', 'r')\n",
    "\n",
    "for line in uc:\n",
    "    if line.startswith('C'):\n",
    "        ids.append(line.split(\"\\t\")[8])\n",
    "        \n",
    "recs_to_keep = {'rrnS': ids}\n",
    "recs_to_drop = {'rrnS': []}\n",
    "\n",
    "for r in pj.records:\n",
    "    if not r.id in recs_to_keep['rrnS']:\n",
    "        recs_to_drop['rrnS'].append(r.id)\n",
    "        \n",
    "print \"to drop: %s\" %len(recs_to_drop['rrnS'])\n",
    "print \"to keep: %s\" %len(recs_to_keep['rrnS'])\n",
    "\n",
    "print \"TOTAL: %s\" %(len(recs_to_drop['rrnS']) + len(recs_to_keep['rrnS']))"
   ]
  },
  {
   "cell_type": "markdown",
   "metadata": {},
   "source": [
    "Exclude redundant records from object."
   ]
  },
  {
   "cell_type": "code",
   "execution_count": 10,
   "metadata": {
    "collapsed": false
   },
   "outputs": [],
   "source": [
    "pj.exclude(start_from_max=False, **recs_to_drop)"
   ]
  },
  {
   "cell_type": "code",
   "execution_count": 11,
   "metadata": {
    "collapsed": false
   },
   "outputs": [
    {
     "name": "stdout",
     "output_type": "stream",
     "text": [
      "Total number of records: 60\n",
      "Number of species (see below for full list): 18\n",
      "['Alytes obstetricans', 'Pelophylax ridibundus', 'Pelophylax lessonae', 'Epidalea calamita', 'Rana catesbeiana', 'Salamandra salamandra', 'Triturus cristatus', 'Discoglossus pictus', 'Hyla arborea', 'Bufo bufo', 'Xenopus laevis', 'Pelophylax esculentus', 'Lissotriton vulgaris', 'Bombina bombina', 'Triturus carnifex', 'Rana temporaria', 'Ichthyosaura alpestris', 'Bombina variegata']\n"
     ]
    }
   ],
   "source": [
    "species=[]\n",
    "for r in pj.records:\n",
    "    if r.id in recs_to_keep['rrnS']:\n",
    "        source = [f for f in r.features if f.type == 'source'][0]\n",
    "        species.append(\" \".join(source.qualifiers['organism'][0].split()[0:2]))\n",
    "    \n",
    "#print set(species)\n",
    "total=len(species)\n",
    "species=list(set(species))\n",
    "\n",
    "print \"Total number of records: %i\" %total\n",
    "print \"Number of species (see below for full list): %i\" %len(species)\n",
    "print species"
   ]
  },
  {
   "cell_type": "markdown",
   "metadata": {},
   "source": [
    "Write full Genbank records to file for later processing with SATIVA."
   ]
  },
  {
   "cell_type": "code",
   "execution_count": 12,
   "metadata": {
    "collapsed": false
   },
   "outputs": [],
   "source": [
    "seqs = []\n",
    "from Bio import SeqIO\n",
    "for r in pj.records:\n",
    "    if r.id in recs_to_keep['rrnS']:\n",
    "        seqs.append(r)\n",
    "\n",
    "out = open('12S_500_pre_Sativa.gb','w')\n",
    "SeqIO.write(seqs, out, 'genbank')\n",
    "out.close()"
   ]
  },
  {
   "cell_type": "markdown",
   "metadata": {},
   "source": [
    "Configure Alignment."
   ]
  },
  {
   "cell_type": "code",
   "execution_count": 13,
   "metadata": {
    "collapsed": false
   },
   "outputs": [
    {
     "name": "stdout",
     "output_type": "stream",
     "text": [
      "muscle -in 832571474456826.89_rrnS.fasta\n"
     ]
    }
   ],
   "source": [
    "rRNA = [\"rrnS\"]\n",
    "\n",
    "muscle = AlnConf(pj, loci=rRNA,\n",
    "                 method_name='muscleDefault', \n",
    "                 program_name='muscle')"
   ]
  },
  {
   "cell_type": "markdown",
   "metadata": {},
   "source": [
    "Perform alignment."
   ]
  },
  {
   "cell_type": "code",
   "execution_count": 14,
   "metadata": {
    "collapsed": false
   },
   "outputs": [],
   "source": [
    "pj.align([muscle])"
   ]
  },
  {
   "cell_type": "code",
   "execution_count": 15,
   "metadata": {
    "collapsed": false
   },
   "outputs": [
    {
     "data": {
      "text/plain": [
       "['rrnS@muscleDefault']"
      ]
     },
     "execution_count": 15,
     "metadata": {},
     "output_type": "execute_result"
    }
   ],
   "source": [
    "pj.alignments.keys()"
   ]
  },
  {
   "cell_type": "code",
   "execution_count": 16,
   "metadata": {
    "collapsed": false
   },
   "outputs": [
    {
     "name": "stdout",
     "output_type": "stream",
     "text": [
      "AlnConf named muscleDefault with ID 832571474456826.89\n",
      "Loci: rrnS \n",
      "Created on: Wed Sep 21 11:20:26 2016\n",
      "Commands:\n",
      "rrnS: muscle -in 832571474456826.89_rrnS.fasta\n",
      "\n",
      "Environment:\n",
      "Platform: Linux-4.4.0-38-generic-x86_64-with-Ubuntu-14.04-trusty\n",
      " Processor: x86_64\n",
      " Python build: defaultMar 22 2014 22:59:56\n",
      " Python compiler: GCC 4.8.2\n",
      " Python implementation: CPython\n",
      " Python version: 2.7.6\n",
      " ete2 version: 2.2.1072\n",
      " biopython version: 1.68\n",
      " dendropy version: 3.12.2\n",
      " cloud version: 2.8.5\n",
      " reprophylo version 1.3\n",
      " User: biopc4\n",
      " Program and version: MUSCLE v3.8.31\\nPal2Nal v14\n",
      " Program reference:\\nEdgar 2004: MUSCLE: multiple sequence alignment with high accuracy and high throughput. Nucleic Acids Research 32(5):1792-1797\\nMikita Suyama\n",
      " David Torrents\n",
      " and Peer Bork (2006) PAL2NAL: robust conversion of protein sequence alignments into the corresponding codon alignments.Nucleic Acids Res. 34\n",
      " W609-W612.\n",
      "execution time:\n",
      "7.93936300278\n",
      "\n",
      "\n",
      "==============================\n",
      "Core Methods section sentence:\n",
      "==============================\n",
      "The dataset(s) rrnS were first aligned at the protein level using the program MUSCLE v3.8.31 [1].\n",
      "The resulting alignments served as guides to codon-align the DNA sequences using Pal2Nal v14 [2].\n",
      "\n",
      "Reference:\n",
      "[1]Edgar 2004: MUSCLE: multiple sequence alignment with high accuracy and high throughput. Nucleic Acids Research 32(5):1792-1797\n",
      "[2]Mikita Suyama, David Torrents, and Peer Bork (2006) PAL2NAL: robust conversion of protein sequence alignments into the corresponding codon alignments.Nucleic Acids Res. 34, W609-W612.\n",
      "\n"
     ]
    }
   ],
   "source": [
    "print pj.used_methods['muscleDefault']"
   ]
  },
  {
   "cell_type": "code",
   "execution_count": 17,
   "metadata": {
    "collapsed": false
   },
   "outputs": [
    {
     "data": {
      "text/plain": [
       "'500.pkl'"
      ]
     },
     "execution_count": 17,
     "metadata": {},
     "output_type": "execute_result"
    }
   ],
   "source": [
    "pickle_pj(pj, '500.pkl')"
   ]
  },
  {
   "cell_type": "code",
   "execution_count": 18,
   "metadata": {
    "collapsed": false
   },
   "outputs": [
    {
     "data": {
      "text/plain": [
       "['rrnS@muscleDefault_aln.fasta']"
      ]
     },
     "execution_count": 18,
     "metadata": {},
     "output_type": "execute_result"
    }
   ],
   "source": [
    "pj.write_alns(id=['record_id','source_organism'], format='fasta')"
   ]
  },
  {
   "cell_type": "markdown",
   "metadata": {},
   "source": [
    "Alignment needs fair amount of trimming and several gaps within sequences. The below cell contains a custom solution for start/end-clipping the alignment.\n",
    "\n",
    "We only want to trim the alignment from the end because this is the alignment that should be used for phylogenetic placement and it needs to be possible to align reads to the alignment.\n",
    "\n",
    "Clipping positions are determined from start/end of the alignment by assessing the average per column completeness across 10 bp sliding windows. per column completeness is the proportion of sequences represented by ACGT in a given column. Average completeness is assessed across 10bp sliding windows.\n",
    "\n",
    "The clipping point is defined as the position at which the alignment, starting from the 5'/3'-ends, respectively, retained an average completeness > 0.7 (i.e. 70% of the sequences are informative) for 10 consecutive sliding windows.\n"
   ]
  },
  {
   "cell_type": "code",
   "execution_count": 19,
   "metadata": {
    "collapsed": false
   },
   "outputs": [
    {
     "name": "stdout",
     "output_type": "stream",
     "text": [
      "returning alignment object rrnS@muscleDefault\n",
      "\n",
      "Finding forward clip position:\n",
      "\n",
      "1 145 0.716666666667\n",
      "2 146 0.733333333333\n",
      "3 147 0.75\n",
      "4 148 0.766666666667\n",
      "5 149 0.783333333333\n",
      "6 150 0.8\n",
      "7 151 0.816666666667\n",
      "8 152 0.816666666667\n",
      "9 153 0.8\n",
      "10 154 0.783333333333\n",
      "Suggested forward clip at: 144 (10,154)\n",
      "\n",
      "Finding reverse clip position:\n",
      "\n",
      "1 982 0.711666666667\n",
      "2 981 0.778333333333\n",
      "3 980 0.84\n",
      "4 979 0.901666666667\n",
      "5 978 0.93\n",
      "6 977 0.956666666667\n",
      "7 976 0.966666666667\n",
      "8 975 0.966666666667\n",
      "9 974 0.966666666667\n",
      "10 973 0.966666666667\n",
      "Suggested reverse clip at: 983 (10,973)\n"
     ]
    }
   ],
   "source": [
    "import numpy as np\n",
    "\n",
    "per_col=[]\n",
    "\n",
    "aln = pj.fa('rrnS@muscleDefault')\n",
    "\n",
    "\n",
    "icol=0\n",
    "for a in aln[1,:]:\n",
    "    ACGT_count=0\n",
    "    col=aln[:,icol]\n",
    "    for i in range(len(col)):\n",
    "        if col[i] in ['A','G','C','T']:\n",
    "            ACGT_count+=1\n",
    "#    print pj.fa('rrnS@muscle_defaults)[:,a]\n",
    "    per_col.append(float(ACGT_count)/len(col))\n",
    "    icol+=1\n",
    "\n",
    "wsize=10\n",
    "min_prop=0.7\n",
    "    \n",
    "print \"\\nFinding forward clip position:\\n\"\n",
    "forw_count=0\n",
    "forw_clip=0\n",
    "for i in range(len(per_col)-wsize):\n",
    "        \n",
    "    if np.mean(per_col[i:i+10]) > min_prop:\n",
    "        forw_count+=1\n",
    "        forw_clip=i\n",
    "        print forw_count,i,np.mean(per_col[i:i+wsize])\n",
    "    else:\n",
    "        forw_count=0\n",
    "        \n",
    "    if forw_count >= wsize:\n",
    "        break\n",
    "        \n",
    "print \"Suggested forward clip at: %s (%s,%s)\" %(forw_clip-wsize,forw_count,forw_clip)\n",
    "\n",
    "print \"\\nFinding reverse clip position:\\n\"\n",
    "reve_count=0\n",
    "reve_clip=0\n",
    "for i in reversed(range(len(per_col)-wsize)):\n",
    "        \n",
    "    if np.mean(per_col[i:i+10]) > min_prop:\n",
    "        reve_count+=1\n",
    "        reve_clip=i\n",
    "        print reve_count,i,np.mean(per_col[i:i+wsize])\n",
    "    else:\n",
    "        reve_count=0\n",
    "        \n",
    "    if reve_count >= wsize:\n",
    "        break\n",
    "    \n",
    "print \"Suggested reverse clip at: %s (%s,%s)\" %(reve_clip+wsize,reve_count,reve_clip)"
   ]
  },
  {
   "cell_type": "markdown",
   "metadata": {},
   "source": [
    "Clip the alignment at the positions determined above and write to file. We'll use Biopython functions to do this.\n",
    "\n",
    "Clip alignment - the new Biopython alignment object is called clipped_aln."
   ]
  },
  {
   "cell_type": "code",
   "execution_count": 20,
   "metadata": {
    "collapsed": false
   },
   "outputs": [
    {
     "name": "stdout",
     "output_type": "stream",
     "text": [
      "returning alignment object rrnS@muscleDefault\n"
     ]
    }
   ],
   "source": [
    "from Bio import AlignIO\n",
    "\n",
    "aln = pj.fa('rrnS@muscleDefault')\n",
    "\n",
    "clipped_aln = aln[:,forw_clip-wsize:reve_clip+wsize]"
   ]
  },
  {
   "cell_type": "markdown",
   "metadata": {},
   "source": [
    "Convert the clipped alignment (which is a Biopython alignment object) to a ReproPhylo trimmed alignment object, so that we can resume working with it in ReproPhylo."
   ]
  },
  {
   "cell_type": "code",
   "execution_count": 21,
   "metadata": {
    "collapsed": true
   },
   "outputs": [],
   "source": [
    "pj.trimmed_alignments[\"rrnS@muscleDefault_aln_clipped_500bp\"] = clipped_aln"
   ]
  },
  {
   "cell_type": "code",
   "execution_count": 22,
   "metadata": {
    "collapsed": false
   },
   "outputs": [
    {
     "data": {
      "text/plain": [
       "{'rrnS@muscleDefault_aln_clipped_500bp': <<class 'Bio.Align.MultipleSeqAlignment'> instance (60 records of length 839, SingleLetterAlphabet()) at 7fd7a4f57590>}"
      ]
     },
     "execution_count": 22,
     "metadata": {},
     "output_type": "execute_result"
    }
   ],
   "source": [
    "pj.trimmed_alignments"
   ]
  },
  {
   "cell_type": "markdown",
   "metadata": {},
   "source": [
    "Write clipped alignment to file for downstream taxonomic curation using SATIVA."
   ]
  },
  {
   "cell_type": "code",
   "execution_count": 23,
   "metadata": {
    "collapsed": false
   },
   "outputs": [],
   "source": [
    "from Bio import AlignIO\n",
    "\n",
    "out=open('rrnS@muscleDefault_aln_clipped_500bp.phy', 'w')\n",
    "AlignIO.write(clipped_aln, out, 'phylip-relaxed')\n",
    "out.close()"
   ]
  },
  {
   "cell_type": "markdown",
   "metadata": {},
   "source": [
    "How to run SATIVA is described in a different notebook. It may be a good strategy to set this going now in a separate notebook. Then contnue onwards in this notebook.\n",
    "\n",
    "Infer Maximum Likelihood tree based on the clipped alignment. We are going to use RAxML.\n",
    "\n",
    "Configure RAxML."
   ]
  },
  {
   "cell_type": "code",
   "execution_count": 24,
   "metadata": {
    "collapsed": false
   },
   "outputs": [
    {
     "name": "stdout",
     "output_type": "stream",
     "text": [
      "raxmlHPC-PTHREADS-SSE3 -f a -m GTRGAMMA -n 398211474456904.99_rrnS@muscleDefault_aln_clipped_500bp0 -p 883 -s 398211474456904.99_rrnS@muscleDefault_aln_clipped_500bp.fasta -T 5 -x 696 -N 100\n"
     ]
    }
   ],
   "source": [
    "raxml = RaxmlConf(pj, method_name='raxml-muscleDefault-clipped',\n",
    "                  program_name='raxmlHPC-PTHREADS-SSE3',\n",
    "                  keepfiles=True,\n",
    "                  cmd='raxmlHPC-PTHREADS-SSE3',\n",
    "                  preset='fa',\n",
    "                  alns=['rrnS@muscleDefault_aln_clipped_500bp'],\n",
    "                  model='GAMMA',\n",
    "                  threads=5,\n",
    "                  cline_args={'-#': 100})"
   ]
  },
  {
   "cell_type": "code",
   "execution_count": 25,
   "metadata": {
    "collapsed": false
   },
   "outputs": [],
   "source": [
    "pj.tree([raxml])"
   ]
  },
  {
   "cell_type": "code",
   "execution_count": 26,
   "metadata": {
    "collapsed": false
   },
   "outputs": [
    {
     "name": "stdout",
     "output_type": "stream",
     "text": [
      "RaxmlConf named raxml-muscleDefault-clipped with ID 398211474456904.99\n",
      "Alignments: rrnS@muscleDefault_aln_clipped_500bp \n",
      "Created on: Wed Sep 21 11:21:44 2016\n",
      "Commands:\n",
      "rrnS@muscleDefault_aln_clipped_500bp:\n",
      "raxmlHPC-PTHREADS-SSE3 -f a -m GTRGAMMA -n 398211474456904.99_rrnS@muscleDefault_aln_clipped_500bp0 -p 883 -s 398211474456904.99_rrnS@muscleDefault_aln_clipped_500bp.fasta -T 5 -x 696 -N 100\n",
      "\n",
      "Environment:\n",
      "Platform: Linux-4.4.0-38-generic-x86_64-with-Ubuntu-14.04-trusty\n",
      " Processor: x86_64\n",
      " Python build: defaultMar 22 2014 22:59:56\n",
      " Python compiler: GCC 4.8.2\n",
      " Python implementation: CPython\n",
      " Python version: 2.7.6\n",
      " ete2 version: 2.2.1072\n",
      " biopython version: 1.68\n",
      " dendropy version: 3.12.2\n",
      " cloud version: 2.8.5\n",
      " reprophylo version 1.3\n",
      " User: biopc4\n",
      " Program and version: raxmlHPC-PTHREADS-SSE3RAxML version 8.0.12\n",
      " Program reference: A. Stamatakis: RAxML Version 8: A tool for Phylogenetic Analysis and Post-Analysis of Large Phylogenies. In Bioinformatics\n",
      " 2014.\n",
      "execution time:\n",
      "113.423015833\n",
      "\n",
      "==============================\n",
      "Core Methods section sentence:\n",
      "==============================\n",
      "Phylogenetic trees were reconstructed from the dataset(s) rrnS@muscleDefault_aln_clipped_500bp using the program raxmlHPC-PTHREADS-SSE3RAxML version 8.0.12 [1].\n",
      "\n",
      "Reference:\n",
      "A. Stamatakis: RAxML Version 8: A tool for Phylogenetic Analysis and Post-Analysis of Large Phylogenies. In Bioinformatics, 2014.\n",
      "\n"
     ]
    }
   ],
   "source": [
    "print pj.used_methods['raxml-muscleDefault-clipped']"
   ]
  },
  {
   "cell_type": "code",
   "execution_count": 27,
   "metadata": {
    "collapsed": false
   },
   "outputs": [
    {
     "data": {
      "text/plain": [
       "'500.pkl'"
      ]
     },
     "execution_count": 27,
     "metadata": {},
     "output_type": "execute_result"
    }
   ],
   "source": [
    "pickle_pj(pj, '500.pkl')"
   ]
  },
  {
   "cell_type": "markdown",
   "metadata": {},
   "source": [
    "Now let's visualize the tree.\n",
    "\n",
    "Prepare tree annotation:\n",
    "\n",
    " - define outgroups\n",
    " - specify support coloration\n"
   ]
  },
  {
   "cell_type": "code",
   "execution_count": 28,
   "metadata": {
    "collapsed": true
   },
   "outputs": [],
   "source": [
    "pj.add_qualifier_from_source('organism')"
   ]
  },
  {
   "cell_type": "code",
   "execution_count": 29,
   "metadata": {
    "collapsed": true
   },
   "outputs": [],
   "source": [
    "for species in ['Xenopus','Hyla']:\n",
    "    pj.if_this_then_that(species, 'organism', 'outgroup', 'outgroup',\n",
    "                         mode='part')"
   ]
  },
  {
   "cell_type": "code",
   "execution_count": 30,
   "metadata": {
    "collapsed": true
   },
   "outputs": [],
   "source": [
    "supports = {'black': [100,95],\n",
    "            'dimgray': [95,75],\n",
    "            'silver': [75,50]}"
   ]
  },
  {
   "cell_type": "code",
   "execution_count": 31,
   "metadata": {
    "collapsed": true
   },
   "outputs": [],
   "source": [
    "pj.clear_tree_annotations()\n",
    "pj.annotate('.', 'outgroup', 'outgroup', \n",
    "            ['source_organism', 'record_id'], \n",
    "            node_support_dict=supports, multifurc=10,\n",
    "            html='muscleDefault-clipped-500bp-raxml.html')"
   ]
  },
  {
   "cell_type": "markdown",
   "metadata": {},
   "source": [
    "Check tree out. Have a think which sequences you would consider mislabelled and should better be removed from the reference database.\n",
    "\n",
    "Create a static copy of the tree (the last *.png with the expected alignment id) for later"
   ]
  },
  {
   "cell_type": "code",
   "execution_count": 32,
   "metadata": {
    "collapsed": true
   },
   "outputs": [],
   "source": [
    "%%bash\n",
    "\n",
    "last_png=$(ls -hlrt *rrnS@muscleDefault_aln_clipped_500bp.png | tail -n 1 | perl -ne 'chomp; @a=split(\" \"); print \"$a[-1]\"')\n",
    "cp $last_png rrnS_muscleDefault_clipped_500bp_raxml.png"
   ]
  },
  {
   "cell_type": "markdown",
   "metadata": {},
   "source": [
    "Now compare the Muscle alignment with Mafft alignment.\n",
    "\n",
    "Configure Mafft alignment."
   ]
  },
  {
   "cell_type": "code",
   "execution_count": 33,
   "metadata": {
    "collapsed": false
   },
   "outputs": [
    {
     "name": "stdout",
     "output_type": "stream",
     "text": [
      "mafft --localpair --maxiterate 1000 267641474457297.81_rrnS.fasta\n"
     ]
    }
   ],
   "source": [
    "mafft_linsi = AlnConf(pj,                              # The Project\n",
    "                      method_name='mafftLinsi',        # Any unique method name,\n",
    "                      CDSAlign=False,                   # Specify as false as 12S rRNA is not recognised as a CDS\n",
    "                      codontable=0,                    # The genetic code that\n",
    "                      program_name='mafft',            # mafft or muscle.\n",
    "                      cmd='mafft',                     # The command on your machine\n",
    "                      loci=['rrnS'],                   # A list of loci names to align.vel.\n",
    "                      cline_args={'localpair': True,   # Program specific keywords and arguments.\n",
    "                                  'maxiterate': 1000}  # cine_args=={} by default, which will\n",
    "                     )"
   ]
  },
  {
   "cell_type": "markdown",
   "metadata": {},
   "source": [
    "Perform alignment."
   ]
  },
  {
   "cell_type": "code",
   "execution_count": 34,
   "metadata": {
    "collapsed": true
   },
   "outputs": [],
   "source": [
    "pj.align([mafft_linsi])"
   ]
  },
  {
   "cell_type": "code",
   "execution_count": 35,
   "metadata": {
    "collapsed": false
   },
   "outputs": [
    {
     "name": "stdout",
     "output_type": "stream",
     "text": [
      "AlnConf named mafftLinsi with ID 267641474457297.81\n",
      "Loci: rrnS \n",
      "Created on: Wed Sep 21 11:28:17 2016\n",
      "Commands:\n",
      "rrnS: mafft --localpair --maxiterate 1000 267641474457297.81_rrnS.fasta\n",
      "\n",
      "Environment:\n",
      "Platform: Linux-4.4.0-38-generic-x86_64-with-Ubuntu-14.04-trusty\n",
      " Processor: x86_64\n",
      " Python build: defaultMar 22 2014 22:59:56\n",
      " Python compiler: GCC 4.8.2\n",
      " Python implementation: CPython\n",
      " Python version: 2.7.6\n",
      " ete2 version: 2.2.1072\n",
      " biopython version: 1.68\n",
      " dendropy version: 3.12.2\n",
      " cloud version: 2.8.5\n",
      " reprophylo version 1.3\n",
      " User: biopc4\n",
      " Program and version: MAFFT v7.123b\n",
      " Program reference:Katoh\n",
      " Standley 2013 (Molecular Biology and Evolution 30:772-780) MAFFT multiple sequence alignment software version 7: improvements in performance and usability.\n",
      "execution time:\n",
      "12.1976089478\n",
      "\n",
      "\n",
      "==============================\n",
      "Core Methods section sentence:\n",
      "==============================\n",
      "The dataset(s) rrnS were aligned using the program MAFFT v7.123b [1].\n",
      "\n",
      "Reference:\n",
      "Katoh, Standley 2013 (Molecular Biology and Evolution 30:772-780) MAFFT multiple sequence alignment software version 7: improvements in performance and usability.\n",
      "\n"
     ]
    }
   ],
   "source": [
    "print pj.used_methods['mafftLinsi']"
   ]
  },
  {
   "cell_type": "code",
   "execution_count": 36,
   "metadata": {
    "collapsed": false
   },
   "outputs": [
    {
     "data": {
      "text/plain": [
       "'500.pkl'"
      ]
     },
     "execution_count": 36,
     "metadata": {},
     "output_type": "execute_result"
    }
   ],
   "source": [
    "pickle_pj(pj, '500.pkl')"
   ]
  },
  {
   "cell_type": "code",
   "execution_count": 37,
   "metadata": {
    "collapsed": false
   },
   "outputs": [
    {
     "data": {
      "text/plain": [
       "['rrnS@mafftLinsi_aln.fasta', 'rrnS@muscleDefault_aln.fasta']"
      ]
     },
     "execution_count": 37,
     "metadata": {},
     "output_type": "execute_result"
    }
   ],
   "source": [
    "pj.write_alns(id=['record_id','source_organism'], format='fasta')"
   ]
  },
  {
   "cell_type": "markdown",
   "metadata": {},
   "source": [
    "Start/end-clip the alignment."
   ]
  },
  {
   "cell_type": "code",
   "execution_count": 38,
   "metadata": {
    "collapsed": false
   },
   "outputs": [
    {
     "name": "stdout",
     "output_type": "stream",
     "text": [
      "returning alignment object rrnS@mafftLinsi\n",
      "\n",
      "Finding forward clip position:\n",
      "\n",
      "Suggested forward clip at: -10 (0,0)\n",
      "\n",
      "Finding reverse clip position:\n",
      "\n",
      "Suggested reverse clip at: 10 (0,0)\n"
     ]
    }
   ],
   "source": [
    "import numpy as np\n",
    "\n",
    "per_col=[]\n",
    "\n",
    "aln = pj.fa('rrnS@mafftLinsi')\n",
    "\n",
    "\n",
    "icol=0\n",
    "for a in aln[1,:]:\n",
    "    ACGT_count=0\n",
    "    col=aln[:,icol]\n",
    "    for i in range(len(col)):\n",
    "        if col[i] in ['A','G','C','T']:\n",
    "            ACGT_count+=1\n",
    "#    print pj.fa('rrnS@mafftDefault')[:,a]\n",
    "    per_col.append(float(ACGT_count)/len(col))\n",
    "    icol+=1\n",
    "\n",
    "wsize=10\n",
    "min_prop=0.7\n",
    "    \n",
    "print \"\\nFinding forward clip position:\\n\"\n",
    "forw_count=0\n",
    "forw_clip=0\n",
    "for i in range(len(per_col)-wsize):\n",
    "        \n",
    "    if np.mean(per_col[i:i+10]) > min_prop:\n",
    "        forw_count+=1\n",
    "        forw_clip=i\n",
    "        print forw_count,i,np.mean(per_col[i:i+wsize])\n",
    "    else:\n",
    "        forw_count=0\n",
    "        \n",
    "    if forw_count >= wsize:\n",
    "        break\n",
    "        \n",
    "print \"Suggested forward clip at: %s (%s,%s)\" %(forw_clip-wsize,forw_count,forw_clip)\n",
    "\n",
    "print \"\\nFinding reverse clip position:\\n\"\n",
    "reve_count=0\n",
    "reve_clip=0\n",
    "for i in reversed(range(len(per_col)-wsize)):\n",
    "        \n",
    "    if np.mean(per_col[i:i+10]) > min_prop:\n",
    "        reve_count+=1\n",
    "        reve_clip=i\n",
    "        print reve_count,i,np.mean(per_col[i:i+wsize])\n",
    "    else:\n",
    "        reve_count=0\n",
    "        \n",
    "    if reve_count >= wsize:\n",
    "        break\n",
    "    \n",
    "print \"Suggested reverse clip at: %s (%s,%s)\" %(reve_clip+wsize,reve_count,reve_clip)"
   ]
  },
  {
   "cell_type": "code",
   "execution_count": 39,
   "metadata": {
    "collapsed": false
   },
   "outputs": [
    {
     "name": "stdout",
     "output_type": "stream",
     "text": [
      "returning alignment object rrnS@mafftLinsi\n"
     ]
    }
   ],
   "source": [
    "from Bio import AlignIO\n",
    "\n",
    "aln = pj.fa('rrnS@mafftLinsi')\n",
    "\n",
    "clipped_aln = aln[:,forw_clip-wsize:reve_clip+wsize]"
   ]
  },
  {
   "cell_type": "markdown",
   "metadata": {},
   "source": [
    "Convert the clipped alignment (which is a Biopython alignment object) to a ReproPhylo trimmed alignment object, so that we can resume working with it in ReproPhylo."
   ]
  },
  {
   "cell_type": "code",
   "execution_count": 40,
   "metadata": {
    "collapsed": true
   },
   "outputs": [],
   "source": [
    "pj.trimmed_alignments[\"rrnS@mafftLinsi_aln_clipped_500bp\"] = clipped_aln"
   ]
  },
  {
   "cell_type": "code",
   "execution_count": 41,
   "metadata": {
    "collapsed": false
   },
   "outputs": [
    {
     "data": {
      "text/plain": [
       "{'rrnS@mafftLinsi_aln_clipped_500bp': <<class 'Bio.Align.MultipleSeqAlignment'> instance (60 records of length 0, SingleLetterAlphabet()) at 7fd7a5250850>,\n",
       " 'rrnS@muscleDefault_aln_clipped_500bp': <<class 'Bio.Align.MultipleSeqAlignment'> instance (60 records of length 839, SingleLetterAlphabet()) at 7fd7a4f57590>}"
      ]
     },
     "execution_count": 41,
     "metadata": {},
     "output_type": "execute_result"
    }
   ],
   "source": [
    "pj.trimmed_alignments"
   ]
  },
  {
   "cell_type": "markdown",
   "metadata": {},
   "source": [
    "Write clipped alignment to file for downstream taxonomic curation using SATIVA."
   ]
  },
  {
   "cell_type": "code",
   "execution_count": 42,
   "metadata": {
    "collapsed": false
   },
   "outputs": [
    {
     "ename": "ValueError",
     "evalue": "Non-empty sequences are required",
     "output_type": "error",
     "traceback": [
      "\u001b[1;31m---------------------------------------------------------------------------\u001b[0m",
      "\u001b[1;31mValueError\u001b[0m                                Traceback (most recent call last)",
      "\u001b[1;32m<ipython-input-42-a79417a76d61>\u001b[0m in \u001b[0;36m<module>\u001b[1;34m()\u001b[0m\n\u001b[0;32m      2\u001b[0m \u001b[1;33m\u001b[0m\u001b[0m\n\u001b[0;32m      3\u001b[0m \u001b[0mout\u001b[0m\u001b[1;33m=\u001b[0m\u001b[0mopen\u001b[0m\u001b[1;33m(\u001b[0m\u001b[1;34m'rrnS@mafftLinsi_aln_clipped_500bp.phy'\u001b[0m\u001b[1;33m,\u001b[0m \u001b[1;34m'w'\u001b[0m\u001b[1;33m)\u001b[0m\u001b[1;33m\u001b[0m\u001b[0m\n\u001b[1;32m----> 4\u001b[1;33m \u001b[0mAlignIO\u001b[0m\u001b[1;33m.\u001b[0m\u001b[0mwrite\u001b[0m\u001b[1;33m(\u001b[0m\u001b[0mclipped_aln\u001b[0m\u001b[1;33m,\u001b[0m \u001b[0mout\u001b[0m\u001b[1;33m,\u001b[0m \u001b[1;34m'phylip-relaxed'\u001b[0m\u001b[1;33m)\u001b[0m\u001b[1;33m\u001b[0m\u001b[0m\n\u001b[0m\u001b[0;32m      5\u001b[0m \u001b[0mout\u001b[0m\u001b[1;33m.\u001b[0m\u001b[0mclose\u001b[0m\u001b[1;33m(\u001b[0m\u001b[1;33m)\u001b[0m\u001b[1;33m\u001b[0m\u001b[0m\n",
      "\u001b[1;32m/usr/local/lib/python2.7/dist-packages/Bio/AlignIO/__init__.pyc\u001b[0m in \u001b[0;36mwrite\u001b[1;34m(alignments, handle, format)\u001b[0m\n\u001b[0;32m    212\u001b[0m         \u001b[1;32mif\u001b[0m \u001b[0mformat\u001b[0m \u001b[1;32min\u001b[0m \u001b[0m_FormatToWriter\u001b[0m\u001b[1;33m:\u001b[0m\u001b[1;33m\u001b[0m\u001b[0m\n\u001b[0;32m    213\u001b[0m             \u001b[0mwriter_class\u001b[0m \u001b[1;33m=\u001b[0m \u001b[0m_FormatToWriter\u001b[0m\u001b[1;33m[\u001b[0m\u001b[0mformat\u001b[0m\u001b[1;33m]\u001b[0m\u001b[1;33m\u001b[0m\u001b[0m\n\u001b[1;32m--> 214\u001b[1;33m             \u001b[0mcount\u001b[0m \u001b[1;33m=\u001b[0m \u001b[0mwriter_class\u001b[0m\u001b[1;33m(\u001b[0m\u001b[0mfp\u001b[0m\u001b[1;33m)\u001b[0m\u001b[1;33m.\u001b[0m\u001b[0mwrite_file\u001b[0m\u001b[1;33m(\u001b[0m\u001b[0malignments\u001b[0m\u001b[1;33m)\u001b[0m\u001b[1;33m\u001b[0m\u001b[0m\n\u001b[0m\u001b[0;32m    215\u001b[0m         \u001b[1;32melif\u001b[0m \u001b[0mformat\u001b[0m \u001b[1;32min\u001b[0m \u001b[0mSeqIO\u001b[0m\u001b[1;33m.\u001b[0m\u001b[0m_FormatToWriter\u001b[0m\u001b[1;33m:\u001b[0m\u001b[1;33m\u001b[0m\u001b[0m\n\u001b[0;32m    216\u001b[0m             \u001b[1;31m# Exploit the existing SeqIO parser to do the dirty work!\u001b[0m\u001b[1;33m\u001b[0m\u001b[1;33m\u001b[0m\u001b[0m\n",
      "\u001b[1;32m/usr/local/lib/python2.7/dist-packages/Bio/AlignIO/Interfaces.pyc\u001b[0m in \u001b[0;36mwrite_file\u001b[1;34m(self, alignments)\u001b[0m\n\u001b[0;32m    129\u001b[0m         \u001b[0mcount\u001b[0m \u001b[1;33m=\u001b[0m \u001b[1;36m0\u001b[0m\u001b[1;33m\u001b[0m\u001b[0m\n\u001b[0;32m    130\u001b[0m         \u001b[1;32mfor\u001b[0m \u001b[0malignment\u001b[0m \u001b[1;32min\u001b[0m \u001b[0malignments\u001b[0m\u001b[1;33m:\u001b[0m\u001b[1;33m\u001b[0m\u001b[0m\n\u001b[1;32m--> 131\u001b[1;33m             \u001b[0mself\u001b[0m\u001b[1;33m.\u001b[0m\u001b[0mwrite_alignment\u001b[0m\u001b[1;33m(\u001b[0m\u001b[0malignment\u001b[0m\u001b[1;33m)\u001b[0m\u001b[1;33m\u001b[0m\u001b[0m\n\u001b[0m\u001b[0;32m    132\u001b[0m             \u001b[0mcount\u001b[0m \u001b[1;33m+=\u001b[0m \u001b[1;36m1\u001b[0m\u001b[1;33m\u001b[0m\u001b[0m\n\u001b[0;32m    133\u001b[0m         \u001b[0mself\u001b[0m\u001b[1;33m.\u001b[0m\u001b[0mwrite_footer\u001b[0m\u001b[1;33m(\u001b[0m\u001b[1;33m)\u001b[0m\u001b[1;33m\u001b[0m\u001b[0m\n",
      "\u001b[1;32m/usr/local/lib/python2.7/dist-packages/Bio/AlignIO/PhylipIO.pyc\u001b[0m in \u001b[0;36mwrite_alignment\u001b[1;34m(self, alignment)\u001b[0m\n\u001b[0;32m    293\u001b[0m         \u001b[1;32melse\u001b[0m\u001b[1;33m:\u001b[0m\u001b[1;33m\u001b[0m\u001b[0m\n\u001b[0;32m    294\u001b[0m             \u001b[0mid_width\u001b[0m \u001b[1;33m=\u001b[0m \u001b[0mmax\u001b[0m\u001b[1;33m(\u001b[0m\u001b[1;33m(\u001b[0m\u001b[0mlen\u001b[0m\u001b[1;33m(\u001b[0m\u001b[0ms\u001b[0m\u001b[1;33m.\u001b[0m\u001b[0mid\u001b[0m\u001b[1;33m.\u001b[0m\u001b[0mstrip\u001b[0m\u001b[1;33m(\u001b[0m\u001b[1;33m)\u001b[0m\u001b[1;33m)\u001b[0m \u001b[1;32mfor\u001b[0m \u001b[0ms\u001b[0m \u001b[1;32min\u001b[0m \u001b[0malignment\u001b[0m\u001b[1;33m)\u001b[0m\u001b[1;33m)\u001b[0m \u001b[1;33m+\u001b[0m \u001b[1;36m1\u001b[0m\u001b[1;33m\u001b[0m\u001b[0m\n\u001b[1;32m--> 295\u001b[1;33m         \u001b[0msuper\u001b[0m\u001b[1;33m(\u001b[0m\u001b[0mRelaxedPhylipWriter\u001b[0m\u001b[1;33m,\u001b[0m \u001b[0mself\u001b[0m\u001b[1;33m)\u001b[0m\u001b[1;33m.\u001b[0m\u001b[0mwrite_alignment\u001b[0m\u001b[1;33m(\u001b[0m\u001b[0malignment\u001b[0m\u001b[1;33m,\u001b[0m \u001b[0mid_width\u001b[0m\u001b[1;33m)\u001b[0m\u001b[1;33m\u001b[0m\u001b[0m\n\u001b[0m\u001b[0;32m    296\u001b[0m \u001b[1;33m\u001b[0m\u001b[0m\n\u001b[0;32m    297\u001b[0m \u001b[1;33m\u001b[0m\u001b[0m\n",
      "\u001b[1;32m/usr/local/lib/python2.7/dist-packages/Bio/AlignIO/PhylipIO.pyc\u001b[0m in \u001b[0;36mwrite_alignment\u001b[1;34m(self, alignment, id_width)\u001b[0m\n\u001b[0;32m     74\u001b[0m                 \u001b[1;32mraise\u001b[0m \u001b[0mValueError\u001b[0m\u001b[1;33m(\u001b[0m\u001b[1;34m\"Sequences must all be the same length\"\u001b[0m\u001b[1;33m)\u001b[0m\u001b[1;33m\u001b[0m\u001b[0m\n\u001b[0;32m     75\u001b[0m         \u001b[1;32mif\u001b[0m \u001b[0mlength_of_seqs\u001b[0m \u001b[1;33m<=\u001b[0m \u001b[1;36m0\u001b[0m\u001b[1;33m:\u001b[0m\u001b[1;33m\u001b[0m\u001b[0m\n\u001b[1;32m---> 76\u001b[1;33m             \u001b[1;32mraise\u001b[0m \u001b[0mValueError\u001b[0m\u001b[1;33m(\u001b[0m\u001b[1;34m\"Non-empty sequences are required\"\u001b[0m\u001b[1;33m)\u001b[0m\u001b[1;33m\u001b[0m\u001b[0m\n\u001b[0m\u001b[0;32m     77\u001b[0m \u001b[1;33m\u001b[0m\u001b[0m\n\u001b[0;32m     78\u001b[0m         \u001b[1;31m# Check for repeated identifiers...\u001b[0m\u001b[1;33m\u001b[0m\u001b[1;33m\u001b[0m\u001b[0m\n",
      "\u001b[1;31mValueError\u001b[0m: Non-empty sequences are required"
     ]
    }
   ],
   "source": [
    "from Bio import AlignIO\n",
    "\n",
    "out=open('rrnS@mafftLinsi_aln_clipped_500bp.phy', 'w')\n",
    "AlignIO.write(clipped_aln, out, 'phylip-relaxed')\n",
    "out.close()"
   ]
  },
  {
   "cell_type": "markdown",
   "metadata": {},
   "source": [
    "Infer Maximum Likelihood tree based on the clipped alignment. We are going to use RAxML.\n",
    "\n",
    "Configure RAxML."
   ]
  },
  {
   "cell_type": "code",
   "execution_count": 78,
   "metadata": {
    "collapsed": false
   },
   "outputs": [
    {
     "name": "stdout",
     "output_type": "stream",
     "text": [
      "raxmlHPC-PTHREADS-SSE3 -f a -m GTRGAMMA -n 257301474389474.4_rrnS@mafftLinsi_aln_clipped0 -p 291 -s 257301474389474.4_rrnS@mafftLinsi_aln_clipped.fasta -T 5 -x 655 -N 100\n"
     ]
    }
   ],
   "source": [
    "raxml = RaxmlConf(pj, method_name='raxml-mafftLinsi-clipped', \n",
    "                  program_name='raxmlHPC-PTHREADS-SSE3',\n",
    "                  keepfiles=True,\n",
    "                  cmd='raxmlHPC-PTHREADS-SSE3',\n",
    "                  preset='fa',\n",
    "                  alns=['rrnS@mafftLinsi_aln_clipped'],\n",
    "                  model='GAMMA',\n",
    "                  threads=5,\n",
    "                  cline_args={'-#': 100})"
   ]
  },
  {
   "cell_type": "markdown",
   "metadata": {},
   "source": [
    "Run RAxML."
   ]
  },
  {
   "cell_type": "code",
   "execution_count": 79,
   "metadata": {
    "collapsed": false
   },
   "outputs": [
    {
     "ename": "ApplicationError",
     "evalue": "Non-zero return code 255 from 'raxmlHPC-PTHREADS-SSE3 -f a -m GTRGAMMA -n 257301474389474.4_rrnS@mafftLinsi_aln_clipped0 -p 291 -s 257301474389474.4_rrnS@mafftLinsi_aln_clipped.fasta -T 5 -x 655 -N 100'",
     "output_type": "error",
     "traceback": [
      "\u001b[1;31m---------------------------------------------------------------------------\u001b[0m",
      "\u001b[1;31mApplicationError\u001b[0m                          Traceback (most recent call last)",
      "\u001b[1;32m<ipython-input-79-14dce67923aa>\u001b[0m in \u001b[0;36m<module>\u001b[1;34m()\u001b[0m\n\u001b[1;32m----> 1\u001b[1;33m \u001b[0mpj\u001b[0m\u001b[1;33m.\u001b[0m\u001b[0mtree\u001b[0m\u001b[1;33m(\u001b[0m\u001b[1;33m[\u001b[0m\u001b[0mraxml\u001b[0m\u001b[1;33m]\u001b[0m\u001b[1;33m)\u001b[0m\u001b[1;33m\u001b[0m\u001b[0m\n\u001b[0m",
      "\u001b[1;32m/home/reprophylo/reprophylo.pyc\u001b[0m in \u001b[0;36mtree\u001b[1;34m(self, raxml_methods, bpcomp, bpcomp_burnin, bpcomp_step, bpcomp_cutoff)\u001b[0m\n\u001b[0;32m   2629\u001b[0m                 \u001b[1;32mfor\u001b[0m \u001b[0mcline\u001b[0m \u001b[1;32min\u001b[0m \u001b[0mraxml_method\u001b[0m\u001b[1;33m.\u001b[0m\u001b[0mcommand_lines\u001b[0m\u001b[1;33m[\u001b[0m\u001b[0mtrimmed_alignment\u001b[0m\u001b[1;33m]\u001b[0m\u001b[1;33m:\u001b[0m\u001b[1;33m\u001b[0m\u001b[0m\n\u001b[0;32m   2630\u001b[0m                     \u001b[1;32mif\u001b[0m \u001b[0misinstance\u001b[0m\u001b[1;33m(\u001b[0m\u001b[0mraxml_method\u001b[0m\u001b[1;33m,\u001b[0m \u001b[0mRaxmlConf\u001b[0m\u001b[1;33m)\u001b[0m\u001b[1;33m:\u001b[0m\u001b[1;33m\u001b[0m\u001b[0m\n\u001b[1;32m-> 2631\u001b[1;33m                         \u001b[0mstdout\u001b[0m\u001b[1;33m,\u001b[0m \u001b[0mstderr\u001b[0m \u001b[1;33m=\u001b[0m \u001b[0mcline\u001b[0m\u001b[1;33m(\u001b[0m\u001b[1;33m)\u001b[0m\u001b[1;33m\u001b[0m\u001b[0m\n\u001b[0m\u001b[0;32m   2632\u001b[0m                     \u001b[1;32melif\u001b[0m \u001b[0misinstance\u001b[0m\u001b[1;33m(\u001b[0m\u001b[0mraxml_method\u001b[0m\u001b[1;33m,\u001b[0m \u001b[0mPbConf\u001b[0m\u001b[1;33m)\u001b[0m\u001b[1;33m:\u001b[0m\u001b[1;33m\u001b[0m\u001b[0m\n\u001b[0;32m   2633\u001b[0m                         \u001b[0msub\u001b[0m\u001b[1;33m.\u001b[0m\u001b[0mcall\u001b[0m\u001b[1;33m(\u001b[0m\u001b[0mcline\u001b[0m\u001b[1;33m,\u001b[0m \u001b[0mshell\u001b[0m\u001b[1;33m=\u001b[0m\u001b[0mTrue\u001b[0m\u001b[1;33m)\u001b[0m\u001b[1;33m\u001b[0m\u001b[0m\n",
      "\u001b[1;32m/usr/local/lib/python2.7/dist-packages/Bio/Application/__init__.pyc\u001b[0m in \u001b[0;36m__call__\u001b[1;34m(self, stdin, stdout, stderr, cwd, env)\u001b[0m\n\u001b[0;32m    514\u001b[0m         \u001b[1;32mif\u001b[0m \u001b[0mreturn_code\u001b[0m\u001b[1;33m:\u001b[0m\u001b[1;33m\u001b[0m\u001b[0m\n\u001b[0;32m    515\u001b[0m             raise ApplicationError(return_code, str(self),\n\u001b[1;32m--> 516\u001b[1;33m                                    stdout_str, stderr_str)\n\u001b[0m\u001b[0;32m    517\u001b[0m         \u001b[1;32mreturn\u001b[0m \u001b[0mstdout_str\u001b[0m\u001b[1;33m,\u001b[0m \u001b[0mstderr_str\u001b[0m\u001b[1;33m\u001b[0m\u001b[0m\n\u001b[0;32m    518\u001b[0m \u001b[1;33m\u001b[0m\u001b[0m\n",
      "\u001b[1;31mApplicationError\u001b[0m: Non-zero return code 255 from 'raxmlHPC-PTHREADS-SSE3 -f a -m GTRGAMMA -n 257301474389474.4_rrnS@mafftLinsi_aln_clipped0 -p 291 -s 257301474389474.4_rrnS@mafftLinsi_aln_clipped.fasta -T 5 -x 655 -N 100'"
     ]
    }
   ],
   "source": [
    "pj.tree([raxml])"
   ]
  },
  {
   "cell_type": "code",
   "execution_count": 80,
   "metadata": {
    "collapsed": false
   },
   "outputs": [
    {
     "ename": "KeyError",
     "evalue": "'raxml-mafftLinsi-clipped'",
     "output_type": "error",
     "traceback": [
      "\u001b[1;31m---------------------------------------------------------------------------\u001b[0m",
      "\u001b[1;31mKeyError\u001b[0m                                  Traceback (most recent call last)",
      "\u001b[1;32m<ipython-input-80-f1117e8ea97d>\u001b[0m in \u001b[0;36m<module>\u001b[1;34m()\u001b[0m\n\u001b[1;32m----> 1\u001b[1;33m \u001b[1;32mprint\u001b[0m \u001b[0mpj\u001b[0m\u001b[1;33m.\u001b[0m\u001b[0mused_methods\u001b[0m\u001b[1;33m[\u001b[0m\u001b[1;34m'raxml-mafftLinsi-clipped'\u001b[0m\u001b[1;33m]\u001b[0m\u001b[1;33m\u001b[0m\u001b[0m\n\u001b[0m",
      "\u001b[1;31mKeyError\u001b[0m: 'raxml-mafftLinsi-clipped'"
     ]
    }
   ],
   "source": [
    "print pj.used_methods['raxml-mafftLinsi-clipped']"
   ]
  },
  {
   "cell_type": "code",
   "execution_count": null,
   "metadata": {
    "collapsed": true
   },
   "outputs": [],
   "source": [
    "pickle_pj(pj, 'nr.pkl')"
   ]
  },
  {
   "cell_type": "markdown",
   "metadata": {},
   "source": [
    "Now let's visualize the tree constructed from the mafft alignment.\n",
    "\n",
    "Prepare tree annotation:\n",
    "\n",
    " -   define outgroups\n",
    " -   specify support coloration"
   ]
  },
  {
   "cell_type": "code",
   "execution_count": null,
   "metadata": {
    "collapsed": true
   },
   "outputs": [],
   "source": [
    "pj.add_qualifier_from_source('organism')"
   ]
  },
  {
   "cell_type": "code",
   "execution_count": null,
   "metadata": {
    "collapsed": true
   },
   "outputs": [],
   "source": [
    "for species in ['Xenopus','Hyla']:\n",
    "    pj.if_this_then_that(species, 'organism', 'outgroup', 'outgroup',\n",
    "                         mode='part')"
   ]
  },
  {
   "cell_type": "code",
   "execution_count": null,
   "metadata": {
    "collapsed": true
   },
   "outputs": [],
   "source": [
    "supports = {'black': [100,95],\n",
    "            'dimgray': [95,75],\n",
    "            'silver': [75,50]}"
   ]
  },
  {
   "cell_type": "code",
   "execution_count": null,
   "metadata": {
    "collapsed": true
   },
   "outputs": [],
   "source": [
    "pj.clear_tree_annotations()\n",
    "pj.annotate('.', 'outgroup', 'outgroup', \n",
    "            ['source_organism', 'record_id'], \n",
    "            node_support_dict=supports, multifurc=10,\n",
    "            html='mafftLinsi-clipped-raxml.html')"
   ]
  },
  {
   "cell_type": "markdown",
   "metadata": {},
   "source": [
    "Check tree out and compare to the tree constructed from the muscle alignment.\n",
    "\n",
    "Create a static copy of the tree (the last *.png with the expected alignment id for later."
   ]
  },
  {
   "cell_type": "code",
   "execution_count": null,
   "metadata": {
    "collapsed": true
   },
   "outputs": [],
   "source": [
    "%%bash\n",
    "\n",
    "last_png=$(ls -hlrt *CytB@mafftLinsi_aln_clipped.png | tail -n 1 | perl -ne 'chomp; @a=split(\" \"); print \"$a[-1]\"')\n",
    "cp $last_png rrnS_mafftLinsi_clipped_raxml.png"
   ]
  },
  {
   "cell_type": "code",
   "execution_count": null,
   "metadata": {
    "collapsed": true
   },
   "outputs": [],
   "source": []
  },
  {
   "cell_type": "markdown",
   "metadata": {},
   "source": [
    "In the meantime we have run SATIVA on the alignment that was the basis of the above tree.\n",
    "\n",
    "Now we are going to highlight the records that SATIVA considers mislabelled in the tree. We are also going to add a heatmap to the tree illustrating the confidence that SATIVA has in a given call.\n",
    "\n",
    "Parse SATIVA output and record putatively mislabelled sequence records and the confidence of the call.\n"
   ]
  },
  {
   "cell_type": "code",
   "execution_count": null,
   "metadata": {
    "collapsed": true
   },
   "outputs": [],
   "source": [
    "rec_mislabelled = {}\n",
    "sativa=open('../3-SATIVA/CytB.mis', 'r')\n",
    "\n",
    "for line in sativa:\n",
    "    if not line.startswith(\";\"):\n",
    "        rec_mislabelled[line.split(\"\\t\")[0]] = line.split(\"\\t\")[4]"
   ]
  },
  {
   "cell_type": "markdown",
   "metadata": {},
   "source": [
    "Add two new qualifiers containing info about he SATIVA results to the sequence features."
   ]
  },
  {
   "cell_type": "code",
   "execution_count": null,
   "metadata": {
    "collapsed": true
   },
   "outputs": [],
   "source": [
    "for r in pj.records:\n",
    "    if r.id in rec_mislabelled:\n",
    "        for f in r.features:\n",
    "            f.qualifiers['mislabeled'] = ['yes']\n",
    "            f.qualifiers['mislabeled_conf'] = [rec_mislabelled[r.id]]\n",
    "    else:\n",
    "        for f in r.features:\n",
    "            f.qualifiers['mislabeled'] = ['no']\n",
    "            f.qualifiers['mislabeled_conf'] = [0.0001]"
   ]
  },
  {
   "cell_type": "code",
   "execution_count": null,
   "metadata": {
    "collapsed": true
   },
   "outputs": [],
   "source": [
    "pj.propagate_metadata()"
   ]
  },
  {
   "cell_type": "markdown",
   "metadata": {},
   "source": [
    "Prepare tree annotation:\n",
    "\n",
    "  - color records that were identified by SATIVA as being mislabelled.\n",
    "  - add heatmap with mislabel confidence"
   ]
  },
  {
   "cell_type": "code",
   "execution_count": null,
   "metadata": {
    "collapsed": true
   },
   "outputs": [],
   "source": [
    "leaf_colors = {'yes':'red', 'no': 'black'}\n",
    "bg_colors = {'yes':'red', 'no': 'white'}"
   ]
  },
  {
   "cell_type": "code",
   "execution_count": null,
   "metadata": {
    "collapsed": true
   },
   "outputs": [],
   "source": [
    "pj.clear_tree_annotations()\n",
    "pj.annotate('.', 'outgroup', 'outgroup', \n",
    "            ['source_organism', 'record_id'], \n",
    "            node_support_dict=supports, multifurc=10,\n",
    "            html='muscleDefault-clipped-raxml-SATIVA.html',\n",
    "            fsize=13,\n",
    "            heat_map_meta = ['mislabeled_conf'], heat_map_colour_scheme = 1,\n",
    "            leaf_node_color_meta = 'mislabeled', leaf_label_colors = leaf_colors)"
   ]
  },
  {
   "cell_type": "code",
   "execution_count": null,
   "metadata": {
    "collapsed": true
   },
   "outputs": [],
   "source": [
    "%%bash\n",
    "\n",
    "last_png=$(ls -hlrt *rrnS@muscleDefault_aln_clipped.png | tail -n 1 | perl -ne 'chomp; @a=split(\" \"); print \"$a[-1]\"')\n",
    "cp $last_png rrnS_muscleDefault_clipped_raxml_SATIVA_leaf_colored.png"
   ]
  },
  {
   "cell_type": "code",
   "execution_count": null,
   "metadata": {
    "collapsed": true
   },
   "outputs": [],
   "source": [
    "pj.clear_tree_annotations()\n",
    "pj.annotate('.', 'outgroup', 'outgroup', \n",
    "            ['source_organism', 'record_id'], \n",
    "            node_support_dict=supports, multifurc=10,\n",
    "            html='muscleDefault-clipped-raxml-SATIVA.html',\n",
    "            fsize=13,\n",
    "            heat_map_meta = ['mislabeled_conf'], heat_map_colour_scheme = 1,\n",
    "            node_bg_meta = 'mislabeled', node_bg_color = bg_colors)"
   ]
  },
  {
   "cell_type": "code",
   "execution_count": null,
   "metadata": {
    "collapsed": true
   },
   "outputs": [],
   "source": [
    "%%bash\n",
    "\n",
    "target=rrnS_muscleDefault_clipped_raxml_SATIVA_bg_colored.png\n",
    "\n",
    "last_png=$(ls -hlrt *rrnS@muscleDefault_aln_clipped.png | tail -n 1 | perl -ne 'chomp; @a=split(\" \"); print \"$a[-1]\"')\n",
    "cp $last_png $target"
   ]
  },
  {
   "cell_type": "markdown",
   "metadata": {},
   "source": [
    "Have a look!"
   ]
  },
  {
   "cell_type": "code",
   "execution_count": 42,
   "metadata": {
    "collapsed": false
   },
   "outputs": [
    {
     "data": {
      "text/plain": [
       "'nr.pkl'"
      ]
     },
     "execution_count": 42,
     "metadata": {},
     "output_type": "execute_result"
    }
   ],
   "source": [
    "pickle_pj(pj, 'nr.pkl')"
   ]
  }
 ],
 "metadata": {
  "kernelspec": {
   "display_name": "Python 2",
   "language": "python",
   "name": "python2"
  },
  "language_info": {
   "codemirror_mode": {
    "name": "ipython",
    "version": 2
   },
   "file_extension": ".py",
   "mimetype": "text/x-python",
   "name": "python",
   "nbconvert_exporter": "python",
   "pygments_lexer": "ipython2",
   "version": "2.7.6"
  }
 },
 "nbformat": 4,
 "nbformat_minor": 0
}
