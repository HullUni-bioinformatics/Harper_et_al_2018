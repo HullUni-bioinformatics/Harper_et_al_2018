{
 "cells": [
  {
   "cell_type": "markdown",
   "metadata": {},
   "source": [
    "SATIVA might be installed on your machine, but if not, it's easily installed like so"
   ]
  },
  {
   "cell_type": "code",
   "execution_count": 1,
   "metadata": {
    "collapsed": false
   },
   "outputs": [
    {
     "name": "stdout",
     "output_type": "stream",
     "text": [
      "Cloning into 'sativa'...\n",
      "remote: Counting objects: 541, done.\u001b[K\n",
      "remote: Total 541 (delta 0), reused 0 (delta 0), pack-reused 541\u001b[K\n",
      "Receiving objects: 100% (541/541), 3.81 MiB | 2.32 MiB/s, done.\n",
      "Resolving deltas: 100% (346/346), done.\n",
      "Checking connectivity... done.\n"
     ]
    }
   ],
   "source": [
    "!git clone --recursive https://github.com/amkozlov/sativa.git"
   ]
  },
  {
   "cell_type": "code",
   "execution_count": 2,
   "metadata": {
    "collapsed": false
   },
   "outputs": [
    {
     "name": "stdout",
     "output_type": "stream",
     "text": [
      "/home/working/Reference_Alignment/Amphibians/SATIVA/sativa\n"
     ]
    }
   ],
   "source": [
    "cd sativa/"
   ]
  },
  {
   "cell_type": "markdown",
   "metadata": {},
   "source": [
    "Record SHA-1 checksum for the current commit for reproducibility."
   ]
  },
  {
   "cell_type": "code",
   "execution_count": 3,
   "metadata": {
    "collapsed": false
   },
   "outputs": [
    {
     "name": "stdout",
     "output_type": "stream",
     "text": [
      "commit 8a99328f3f5382f7f541526878d049415af70999\r\n"
     ]
    }
   ],
   "source": [
    "!git log -1 | head -n 1"
   ]
  },
  {
   "cell_type": "code",
   "execution_count": 4,
   "metadata": {
    "collapsed": false
   },
   "outputs": [
    {
     "name": "stdout",
     "output_type": "stream",
     "text": [
      "Your compiler: gcc 4.8\n",
      "Building AVX: yes\n",
      "Building AVX2: yes\n",
      "make: Entering directory `/home/working/Reference_Alignment/Amphibians/SATIVA/sativa/raxml'\n",
      "(DIR=builddir.SSE3.PTHREADS; \\\n",
      "\trm -rf $DIR &&\\\n",
      "\tmkdir $DIR &&\\\n",
      "\ttar -C $DIR --strip-components=1 -xzf sativa-RAxML-8.2.3.tar.gz &&\\\n",
      "\tsed -i 's/-march=native//' $DIR/Makefile*)\n",
      "touch unpack.SSE3.PTHREADS.stamp -r sativa-RAxML-8.2.3.tar.gz\t\n",
      "MAKEFLAGS= make -C builddir.SSE3.PTHREADS -f Makefile.SSE3.PTHREADS.gcc -j 2\n",
      "make[1]: Entering directory `/home/working/Reference_Alignment/Amphibians/SATIVA/sativa/raxml/builddir.SSE3.PTHREADS'\n",
      "gcc  -D_USE_PTHREADS -D__SIM_SSE3 -O2 -D_GNU_SOURCE -msse3 -fomit-frame-pointer -funroll-loops     -c -o axml.o axml.c\n",
      "gcc  -D_USE_PTHREADS -D__SIM_SSE3 -O2 -D_GNU_SOURCE -msse3 -fomit-frame-pointer -funroll-loops     -c -o optimizeModel.o optimizeModel.c\n",
      "gcc  -D_USE_PTHREADS -D__SIM_SSE3 -O2 -D_GNU_SOURCE -msse3 -fomit-frame-pointer -funroll-loops     -c -o multiple.o multiple.c\n",
      "gcc  -D_USE_PTHREADS -D__SIM_SSE3 -O2 -D_GNU_SOURCE -msse3 -fomit-frame-pointer -funroll-loops     -c -o searchAlgo.o searchAlgo.c\n",
      "gcc  -D_USE_PTHREADS -D__SIM_SSE3 -O2 -D_GNU_SOURCE -msse3 -fomit-frame-pointer -funroll-loops     -c -o topologies.o topologies.c\n",
      "gcc  -D_USE_PTHREADS -D__SIM_SSE3 -O2 -D_GNU_SOURCE -msse3 -fomit-frame-pointer -funroll-loops     -c -o parsePartitions.o parsePartitions.c\n",
      "gcc  -D_USE_PTHREADS -D__SIM_SSE3 -O2 -D_GNU_SOURCE -msse3 -fomit-frame-pointer -funroll-loops     -c -o treeIO.o treeIO.c\n",
      "gcc  -D_USE_PTHREADS -D__SIM_SSE3 -O2 -D_GNU_SOURCE -msse3 -fomit-frame-pointer -funroll-loops     -c -o models.o models.c\n",
      "gcc  -D_USE_PTHREADS -D__SIM_SSE3 -O2 -D_GNU_SOURCE -msse3 -fomit-frame-pointer -funroll-loops     -c -o bipartitionList.o bipartitionList.c\n",
      "gcc  -D_USE_PTHREADS -D__SIM_SSE3 -O2 -D_GNU_SOURCE -msse3 -fomit-frame-pointer -funroll-loops     -c -o rapidBootstrap.o rapidBootstrap.c\n",
      "gcc  -D_USE_PTHREADS -D__SIM_SSE3 -O2 -D_GNU_SOURCE -msse3 -fomit-frame-pointer -funroll-loops     -c -o evaluatePartialGenericSpecial.o evaluatePartialGenericSpecial.c\n",
      "gcc  -D_USE_PTHREADS -D__SIM_SSE3 -O2 -D_GNU_SOURCE -msse3 -fomit-frame-pointer -funroll-loops     -c -o evaluateGenericSpecial.o evaluateGenericSpecial.c\n",
      "gcc  -D_USE_PTHREADS -D__SIM_SSE3 -O2 -D_GNU_SOURCE -msse3 -fomit-frame-pointer -funroll-loops     -c -o newviewGenericSpecial.o newviewGenericSpecial.c\n",
      "gcc  -D_USE_PTHREADS -D__SIM_SSE3 -O2 -D_GNU_SOURCE -msse3 -fomit-frame-pointer -funroll-loops     -c -o makenewzGenericSpecial.o makenewzGenericSpecial.c\n",
      "gcc  -D_USE_PTHREADS -D__SIM_SSE3 -O2 -D_GNU_SOURCE -msse3 -fomit-frame-pointer -funroll-loops     -c -o classify.o classify.c\n",
      "gcc  -D_USE_PTHREADS -D__SIM_SSE3 -O2 -D_GNU_SOURCE -msse3 -fomit-frame-pointer -funroll-loops     -c -o fastDNAparsimony.o fastDNAparsimony.c\n",
      "gcc  -D_USE_PTHREADS -D__SIM_SSE3 -O2 -D_GNU_SOURCE -msse3 -fomit-frame-pointer -funroll-loops     -c -o fastSearch.o fastSearch.c\n",
      "gcc  -D_USE_PTHREADS -D__SIM_SSE3 -O2 -D_GNU_SOURCE -msse3 -fomit-frame-pointer -funroll-loops     -c -o leaveDropping.o leaveDropping.c\n",
      "gcc  -D_USE_PTHREADS -D__SIM_SSE3 -O2 -D_GNU_SOURCE -msse3 -fomit-frame-pointer -funroll-loops     -c -o rmqs.o rmqs.c\n",
      "gcc  -D_USE_PTHREADS -D__SIM_SSE3 -O2 -D_GNU_SOURCE -msse3 -fomit-frame-pointer -funroll-loops     -c -o rogueEPA.o rogueEPA.c\n",
      "gcc  -D_USE_PTHREADS -D__SIM_SSE3 -O2 -D_GNU_SOURCE -msse3 -fomit-frame-pointer -funroll-loops     -c -o ancestralStates.o ancestralStates.c\n",
      "gcc  -D_USE_PTHREADS -D__SIM_SSE3 -O2 -D_GNU_SOURCE -msse3 -fomit-frame-pointer -funroll-loops     -c -o mem_alloc.o mem_alloc.c\n",
      "gcc  -c -o eigen.o eigen.c \n",
      "gcc  -D_USE_PTHREADS -D__SIM_SSE3 -O2 -D_GNU_SOURCE -msse3 -fomit-frame-pointer -funroll-loops     -c -o leaveOneOutTest.o leaveOneOutTest.c\n",
      "gcc  -D_USE_PTHREADS -D__SIM_SSE3 -O2 -D_GNU_SOURCE -msse3 -fomit-frame-pointer -funroll-loops     -c -o checkpoint.o checkpoint.c\n",
      "gcc  -o raxmlHPC-PTHREADS-SSE3 axml.o  optimizeModel.o multiple.o searchAlgo.o topologies.o parsePartitions.o treeIO.o models.o bipartitionList.o rapidBootstrap.o evaluatePartialGenericSpecial.o evaluateGenericSpecial.o newviewGenericSpecial.o makenewzGenericSpecial.o   classify.o  fastDNAparsimony.o fastSearch.o leaveDropping.o rmqs.o rogueEPA.o ancestralStates.o  mem_alloc.o eigen.o leaveOneOutTest.o checkpoint.o -lm -pthread   \n",
      "make[1]: Leaving directory `/home/working/Reference_Alignment/Amphibians/SATIVA/sativa/raxml/builddir.SSE3.PTHREADS'\n",
      "cp builddir.SSE3.PTHREADS/raxmlHPC-* ../raxml/raxmlHPC8-SSE3.PTHREADS\n",
      "(DIR=builddir.PTHREADS; \\\n",
      "\trm -rf $DIR &&\\\n",
      "\tmkdir $DIR &&\\\n",
      "\ttar -C $DIR --strip-components=1 -xzf sativa-RAxML-8.2.3.tar.gz &&\\\n",
      "\tsed -i 's/-march=native//' $DIR/Makefile*)\n",
      "touch unpack.PTHREADS.stamp -r sativa-RAxML-8.2.3.tar.gz\t\n",
      "MAKEFLAGS= make -C builddir.PTHREADS -f Makefile.PTHREADS.gcc -j 2\n",
      "make[1]: Entering directory `/home/working/Reference_Alignment/Amphibians/SATIVA/sativa/raxml/builddir.PTHREADS'\n",
      "gcc  -D_ALL_ENTRIES -D_GNU_SOURCE -fomit-frame-pointer -funroll-loops -O2  -D_USE_PTHREADS -msse    -c -o axml.o axml.c\n",
      "gcc  -D_ALL_ENTRIES -D_GNU_SOURCE -fomit-frame-pointer -funroll-loops -O2  -D_USE_PTHREADS -msse    -c -o optimizeModel.o optimizeModel.c\n",
      "gcc  -D_ALL_ENTRIES -D_GNU_SOURCE -fomit-frame-pointer -funroll-loops -O2  -D_USE_PTHREADS -msse    -c -o multiple.o multiple.c\n",
      "gcc  -D_ALL_ENTRIES -D_GNU_SOURCE -fomit-frame-pointer -funroll-loops -O2  -D_USE_PTHREADS -msse    -c -o searchAlgo.o searchAlgo.c\n",
      "gcc  -D_ALL_ENTRIES -D_GNU_SOURCE -fomit-frame-pointer -funroll-loops -O2  -D_USE_PTHREADS -msse    -c -o topologies.o topologies.c\n",
      "gcc  -D_ALL_ENTRIES -D_GNU_SOURCE -fomit-frame-pointer -funroll-loops -O2  -D_USE_PTHREADS -msse    -c -o parsePartitions.o parsePartitions.c\n",
      "gcc  -D_ALL_ENTRIES -D_GNU_SOURCE -fomit-frame-pointer -funroll-loops -O2  -D_USE_PTHREADS -msse    -c -o treeIO.o treeIO.c\n",
      "gcc  -D_ALL_ENTRIES -D_GNU_SOURCE -fomit-frame-pointer -funroll-loops -O2  -D_USE_PTHREADS -msse    -c -o models.o models.c\n",
      "gcc  -D_ALL_ENTRIES -D_GNU_SOURCE -fomit-frame-pointer -funroll-loops -O2  -D_USE_PTHREADS -msse    -c -o bipartitionList.o bipartitionList.c\n",
      "gcc  -D_ALL_ENTRIES -D_GNU_SOURCE -fomit-frame-pointer -funroll-loops -O2  -D_USE_PTHREADS -msse    -c -o rapidBootstrap.o rapidBootstrap.c\n",
      "gcc  -D_ALL_ENTRIES -D_GNU_SOURCE -fomit-frame-pointer -funroll-loops -O2  -D_USE_PTHREADS -msse    -c -o evaluatePartialGenericSpecial.o evaluatePartialGenericSpecial.c\n",
      "gcc  -D_ALL_ENTRIES -D_GNU_SOURCE -fomit-frame-pointer -funroll-loops -O2  -D_USE_PTHREADS -msse    -c -o evaluateGenericSpecial.o evaluateGenericSpecial.c\n",
      "gcc  -D_ALL_ENTRIES -D_GNU_SOURCE -fomit-frame-pointer -funroll-loops -O2  -D_USE_PTHREADS -msse    -c -o newviewGenericSpecial.o newviewGenericSpecial.c\n",
      "gcc  -D_ALL_ENTRIES -D_GNU_SOURCE -fomit-frame-pointer -funroll-loops -O2  -D_USE_PTHREADS -msse    -c -o makenewzGenericSpecial.o makenewzGenericSpecial.c\n",
      "gcc  -D_ALL_ENTRIES -D_GNU_SOURCE -fomit-frame-pointer -funroll-loops -O2  -D_USE_PTHREADS -msse    -c -o classify.o classify.c\n",
      "gcc  -D_ALL_ENTRIES -D_GNU_SOURCE -fomit-frame-pointer -funroll-loops -O2  -D_USE_PTHREADS -msse    -c -o fastDNAparsimony.o fastDNAparsimony.c\n",
      "gcc  -D_ALL_ENTRIES -D_GNU_SOURCE -fomit-frame-pointer -funroll-loops -O2  -D_USE_PTHREADS -msse    -c -o fastSearch.o fastSearch.c\n",
      "gcc  -D_ALL_ENTRIES -D_GNU_SOURCE -fomit-frame-pointer -funroll-loops -O2  -D_USE_PTHREADS -msse    -c -o leaveDropping.o leaveDropping.c\n",
      "gcc  -D_ALL_ENTRIES -D_GNU_SOURCE -fomit-frame-pointer -funroll-loops -O2  -D_USE_PTHREADS -msse    -c -o rmqs.o rmqs.c\n",
      "gcc  -D_ALL_ENTRIES -D_GNU_SOURCE -fomit-frame-pointer -funroll-loops -O2  -D_USE_PTHREADS -msse    -c -o rogueEPA.o rogueEPA.c\n",
      "gcc  -D_ALL_ENTRIES -D_GNU_SOURCE -fomit-frame-pointer -funroll-loops -O2  -D_USE_PTHREADS -msse    -c -o ancestralStates.o ancestralStates.c\n",
      "gcc  -D_ALL_ENTRIES -D_GNU_SOURCE -fomit-frame-pointer -funroll-loops -O2  -D_USE_PTHREADS -msse    -c -o mem_alloc.o mem_alloc.c\n",
      "gcc  -c -o eigen.o eigen.c \n",
      "gcc  -D_ALL_ENTRIES -D_GNU_SOURCE -fomit-frame-pointer -funroll-loops -O2  -D_USE_PTHREADS -msse    -c -o leaveOneOutTest.o leaveOneOutTest.c\n",
      "gcc  -D_ALL_ENTRIES -D_GNU_SOURCE -fomit-frame-pointer -funroll-loops -O2  -D_USE_PTHREADS -msse    -c -o checkpoint.o checkpoint.c\n",
      "gcc  -o  raxmlHPC-PTHREADS axml.o  optimizeModel.o multiple.o searchAlgo.o topologies.o parsePartitions.o treeIO.o models.o bipartitionList.o rapidBootstrap.o evaluatePartialGenericSpecial.o evaluateGenericSpecial.o newviewGenericSpecial.o makenewzGenericSpecial.o   classify.o  fastDNAparsimony.o fastSearch.o leaveDropping.o rmqs.o rogueEPA.o ancestralStates.o  mem_alloc.o eigen.o leaveOneOutTest.o checkpoint.o -lm -pthread  \n",
      "make[1]: Leaving directory `/home/working/Reference_Alignment/Amphibians/SATIVA/sativa/raxml/builddir.PTHREADS'\n",
      "cp builddir.PTHREADS/raxmlHPC-* ../raxml/raxmlHPC8-PTHREADS\n",
      "(DIR=builddir.AVX.PTHREADS; \\\n",
      "\trm -rf $DIR &&\\\n",
      "\tmkdir $DIR &&\\\n",
      "\ttar -C $DIR --strip-components=1 -xzf sativa-RAxML-8.2.3.tar.gz &&\\\n",
      "\tsed -i 's/-march=native//' $DIR/Makefile*)\n",
      "touch unpack.AVX.PTHREADS.stamp -r sativa-RAxML-8.2.3.tar.gz\t\n",
      "MAKEFLAGS= make -C builddir.AVX.PTHREADS -f Makefile.AVX.PTHREADS.gcc -j 2\n",
      "make[1]: Entering directory `/home/working/Reference_Alignment/Amphibians/SATIVA/sativa/raxml/builddir.AVX.PTHREADS'\n",
      "gcc -D_USE_PTHREADS -D__SIM_SSE3 -O2 -D_GNU_SOURCE -msse3 -fomit-frame-pointer -funroll-loops  -D__AVX    -c -o axml.o axml.c\n",
      "gcc -D_USE_PTHREADS -D__SIM_SSE3 -O2 -D_GNU_SOURCE -msse3 -fomit-frame-pointer -funroll-loops  -D__AVX    -c -o optimizeModel.o optimizeModel.c\n",
      "gcc -D_USE_PTHREADS -D__SIM_SSE3 -O2 -D_GNU_SOURCE -msse3 -fomit-frame-pointer -funroll-loops  -D__AVX    -c -o multiple.o multiple.c\n",
      "gcc -D_USE_PTHREADS -D__SIM_SSE3 -O2 -D_GNU_SOURCE -msse3 -fomit-frame-pointer -funroll-loops  -D__AVX    -c -o searchAlgo.o searchAlgo.c\n",
      "gcc -D_USE_PTHREADS -D__SIM_SSE3 -O2 -D_GNU_SOURCE -msse3 -fomit-frame-pointer -funroll-loops  -D__AVX    -c -o topologies.o topologies.c\n",
      "gcc -D_USE_PTHREADS -D__SIM_SSE3 -O2 -D_GNU_SOURCE -msse3 -fomit-frame-pointer -funroll-loops  -D__AVX    -c -o parsePartitions.o parsePartitions.c\n",
      "gcc -D_USE_PTHREADS -D__SIM_SSE3 -O2 -D_GNU_SOURCE -msse3 -fomit-frame-pointer -funroll-loops  -D__AVX    -c -o treeIO.o treeIO.c\n",
      "gcc -D_USE_PTHREADS -D__SIM_SSE3 -O2 -D_GNU_SOURCE -msse3 -fomit-frame-pointer -funroll-loops  -D__AVX    -c -o models.o models.c\n",
      "gcc -D_USE_PTHREADS -D__SIM_SSE3 -O2 -D_GNU_SOURCE -msse3 -fomit-frame-pointer -funroll-loops  -D__AVX    -c -o bipartitionList.o bipartitionList.c\n",
      "gcc -D_USE_PTHREADS -D__SIM_SSE3 -O2 -D_GNU_SOURCE -msse3 -fomit-frame-pointer -funroll-loops  -D__AVX    -c -o rapidBootstrap.o rapidBootstrap.c\n",
      "gcc -D_USE_PTHREADS -D__SIM_SSE3 -O2 -D_GNU_SOURCE -msse3 -fomit-frame-pointer -funroll-loops  -D__AVX    -c -o evaluatePartialGenericSpecial.o evaluatePartialGenericSpecial.c\n",
      "gcc -D_USE_PTHREADS -D__SIM_SSE3 -O2 -D_GNU_SOURCE -msse3 -fomit-frame-pointer -funroll-loops  -D__AVX    -c -o evaluateGenericSpecial.o evaluateGenericSpecial.c\n",
      "gcc -D_USE_PTHREADS -D__SIM_SSE3 -O2 -D_GNU_SOURCE -msse3 -fomit-frame-pointer -funroll-loops  -D__AVX    -c -o newviewGenericSpecial.o newviewGenericSpecial.c\n",
      "gcc -D_USE_PTHREADS -D__SIM_SSE3 -O2 -D_GNU_SOURCE -msse3 -fomit-frame-pointer -funroll-loops  -D__AVX    -c -o makenewzGenericSpecial.o makenewzGenericSpecial.c\n",
      "gcc -D_USE_PTHREADS -D__SIM_SSE3 -O2 -D_GNU_SOURCE -msse3 -fomit-frame-pointer -funroll-loops  -D__AVX    -c -o classify.o classify.c\n",
      "gcc -D_USE_PTHREADS -D__SIM_SSE3 -O2 -D_GNU_SOURCE -msse3 -fomit-frame-pointer -funroll-loops  -D__AVX  -mavx -c -o fastDNAparsimony.o fastDNAparsimony.c\n",
      "gcc -D_USE_PTHREADS -D__SIM_SSE3 -O2 -D_GNU_SOURCE -msse3 -fomit-frame-pointer -funroll-loops  -D__AVX    -c -o fastSearch.o fastSearch.c\n",
      "gcc -D_USE_PTHREADS -D__SIM_SSE3 -O2 -D_GNU_SOURCE -msse3 -fomit-frame-pointer -funroll-loops  -D__AVX    -c -o leaveDropping.o leaveDropping.c\n",
      "gcc -D_USE_PTHREADS -D__SIM_SSE3 -O2 -D_GNU_SOURCE -msse3 -fomit-frame-pointer -funroll-loops  -D__AVX    -c -o rmqs.o rmqs.c\n",
      "gcc -D_USE_PTHREADS -D__SIM_SSE3 -O2 -D_GNU_SOURCE -msse3 -fomit-frame-pointer -funroll-loops  -D__AVX    -c -o rogueEPA.o rogueEPA.c\n",
      "gcc -D_USE_PTHREADS -D__SIM_SSE3 -O2 -D_GNU_SOURCE -msse3 -fomit-frame-pointer -funroll-loops  -D__AVX    -c -o ancestralStates.o ancestralStates.c\n",
      "gcc -D_USE_PTHREADS -D__SIM_SSE3 -O2 -D_GNU_SOURCE -msse3 -fomit-frame-pointer -funroll-loops  -D__AVX  -mavx -c -o avxLikelihood.o avxLikelihood.c\n",
      "gcc -D_USE_PTHREADS -D__SIM_SSE3 -O2 -D_GNU_SOURCE -msse3 -fomit-frame-pointer -funroll-loops  -D__AVX    -c -o mem_alloc.o mem_alloc.c\n",
      "gcc -c -o eigen.o eigen.c \n",
      "gcc -D_USE_PTHREADS -D__SIM_SSE3 -O2 -D_GNU_SOURCE -msse3 -fomit-frame-pointer -funroll-loops  -D__AVX    -c -o leaveOneOutTest.o leaveOneOutTest.c\n",
      "gcc -D_USE_PTHREADS -D__SIM_SSE3 -O2 -D_GNU_SOURCE -msse3 -fomit-frame-pointer -funroll-loops  -D__AVX    -c -o checkpoint.o checkpoint.c\n",
      "gcc -o raxmlHPC-PTHREADS-AVX axml.o  optimizeModel.o multiple.o searchAlgo.o topologies.o parsePartitions.o treeIO.o models.o bipartitionList.o rapidBootstrap.o evaluatePartialGenericSpecial.o evaluateGenericSpecial.o newviewGenericSpecial.o makenewzGenericSpecial.o   classify.o fastDNAparsimony.o fastSearch.o leaveDropping.o rmqs.o rogueEPA.o ancestralStates.o avxLikelihood.o  mem_alloc.o eigen.o leaveOneOutTest.o checkpoint.o -lm -pthread   \n",
      "make[1]: Leaving directory `/home/working/Reference_Alignment/Amphibians/SATIVA/sativa/raxml/builddir.AVX.PTHREADS'\n",
      "cp builddir.AVX.PTHREADS/raxmlHPC-* ../raxml/raxmlHPC8-AVX.PTHREADS\n",
      "(DIR=builddir.AVX2.PTHREADS; \\\n",
      "\trm -rf $DIR &&\\\n",
      "\tmkdir $DIR &&\\\n",
      "\ttar -C $DIR --strip-components=1 -xzf sativa-RAxML-8.2.3.tar.gz &&\\\n",
      "\tsed -i 's/-march=native//' $DIR/Makefile*)\n",
      "touch unpack.AVX2.PTHREADS.stamp -r sativa-RAxML-8.2.3.tar.gz\t\n",
      "MAKEFLAGS= make -C builddir.AVX2.PTHREADS -f Makefile.AVX2.PTHREADS.gcc -j 2\n",
      "make[1]: Entering directory `/home/working/Reference_Alignment/Amphibians/SATIVA/sativa/raxml/builddir.AVX2.PTHREADS'\n",
      "gcc  -D_USE_PTHREADS -D__SIM_SSE3 -O2 -D_GNU_SOURCE -msse3 -fomit-frame-pointer -funroll-loops  -D__AVX    -c -o axml.o axml.c\n",
      "gcc  -D_USE_PTHREADS -D__SIM_SSE3 -O2 -D_GNU_SOURCE -msse3 -fomit-frame-pointer -funroll-loops  -D__AVX    -c -o optimizeModel.o optimizeModel.c\n",
      "gcc  -D_USE_PTHREADS -D__SIM_SSE3 -O2 -D_GNU_SOURCE -msse3 -fomit-frame-pointer -funroll-loops  -D__AVX    -c -o multiple.o multiple.c\n",
      "gcc  -D_USE_PTHREADS -D__SIM_SSE3 -O2 -D_GNU_SOURCE -msse3 -fomit-frame-pointer -funroll-loops  -D__AVX    -c -o searchAlgo.o searchAlgo.c\n",
      "gcc  -D_USE_PTHREADS -D__SIM_SSE3 -O2 -D_GNU_SOURCE -msse3 -fomit-frame-pointer -funroll-loops  -D__AVX    -c -o topologies.o topologies.c\n",
      "gcc  -D_USE_PTHREADS -D__SIM_SSE3 -O2 -D_GNU_SOURCE -msse3 -fomit-frame-pointer -funroll-loops  -D__AVX    -c -o parsePartitions.o parsePartitions.c\n",
      "gcc  -D_USE_PTHREADS -D__SIM_SSE3 -O2 -D_GNU_SOURCE -msse3 -fomit-frame-pointer -funroll-loops  -D__AVX    -c -o treeIO.o treeIO.c\n",
      "gcc  -D_USE_PTHREADS -D__SIM_SSE3 -O2 -D_GNU_SOURCE -msse3 -fomit-frame-pointer -funroll-loops  -D__AVX    -c -o models.o models.c\n",
      "gcc  -D_USE_PTHREADS -D__SIM_SSE3 -O2 -D_GNU_SOURCE -msse3 -fomit-frame-pointer -funroll-loops  -D__AVX    -c -o bipartitionList.o bipartitionList.c\n",
      "gcc  -D_USE_PTHREADS -D__SIM_SSE3 -O2 -D_GNU_SOURCE -msse3 -fomit-frame-pointer -funroll-loops  -D__AVX    -c -o rapidBootstrap.o rapidBootstrap.c\n",
      "gcc  -D_USE_PTHREADS -D__SIM_SSE3 -O2 -D_GNU_SOURCE -msse3 -fomit-frame-pointer -funroll-loops  -D__AVX    -c -o evaluatePartialGenericSpecial.o evaluatePartialGenericSpecial.c\n",
      "gcc  -D_USE_PTHREADS -D__SIM_SSE3 -O2 -D_GNU_SOURCE -msse3 -fomit-frame-pointer -funroll-loops  -D__AVX    -c -o evaluateGenericSpecial.o evaluateGenericSpecial.c\n",
      "gcc  -D_USE_PTHREADS -D__SIM_SSE3 -O2 -D_GNU_SOURCE -msse3 -fomit-frame-pointer -funroll-loops  -D__AVX    -c -o newviewGenericSpecial.o newviewGenericSpecial.c\n",
      "gcc  -D_USE_PTHREADS -D__SIM_SSE3 -O2 -D_GNU_SOURCE -msse3 -fomit-frame-pointer -funroll-loops  -D__AVX    -c -o makenewzGenericSpecial.o makenewzGenericSpecial.c\n",
      "gcc  -D_USE_PTHREADS -D__SIM_SSE3 -O2 -D_GNU_SOURCE -msse3 -fomit-frame-pointer -funroll-loops  -D__AVX    -c -o classify.o classify.c\n",
      "gcc  -D_USE_PTHREADS -D__SIM_SSE3 -O2 -D_GNU_SOURCE -msse3 -fomit-frame-pointer -funroll-loops  -D__AVX  -mavx -c -o fastDNAparsimony.o fastDNAparsimony.c\n",
      "gcc  -D_USE_PTHREADS -D__SIM_SSE3 -O2 -D_GNU_SOURCE -msse3 -fomit-frame-pointer -funroll-loops  -D__AVX    -c -o fastSearch.o fastSearch.c\n",
      "gcc  -D_USE_PTHREADS -D__SIM_SSE3 -O2 -D_GNU_SOURCE -msse3 -fomit-frame-pointer -funroll-loops  -D__AVX    -c -o leaveDropping.o leaveDropping.c\n",
      "gcc  -D_USE_PTHREADS -D__SIM_SSE3 -O2 -D_GNU_SOURCE -msse3 -fomit-frame-pointer -funroll-loops  -D__AVX    -c -o rmqs.o rmqs.c\n",
      "gcc  -D_USE_PTHREADS -D__SIM_SSE3 -O2 -D_GNU_SOURCE -msse3 -fomit-frame-pointer -funroll-loops  -D__AVX    -c -o rogueEPA.o rogueEPA.c\n",
      "gcc  -D_USE_PTHREADS -D__SIM_SSE3 -O2 -D_GNU_SOURCE -msse3 -fomit-frame-pointer -funroll-loops  -D__AVX    -c -o ancestralStates.o ancestralStates.c\n",
      "gcc  -D_USE_PTHREADS -D__SIM_SSE3 -O2 -D_GNU_SOURCE -msse3 -fomit-frame-pointer -funroll-loops  -D__AVX  -mavx2 -D_FMA -march=core-avx2 -c -o avxLikelihood.o avxLikelihood.c\n",
      "gcc  -D_USE_PTHREADS -D__SIM_SSE3 -O2 -D_GNU_SOURCE -msse3 -fomit-frame-pointer -funroll-loops  -D__AVX    -c -o leaveOneOutTest.o leaveOneOutTest.c\n",
      "gcc  -D_USE_PTHREADS -D__SIM_SSE3 -O2 -D_GNU_SOURCE -msse3 -fomit-frame-pointer -funroll-loops  -D__AVX    -c -o mem_alloc.o mem_alloc.c\n",
      "gcc -c -o eigen.o eigen.c \n",
      "gcc  -D_USE_PTHREADS -D__SIM_SSE3 -O2 -D_GNU_SOURCE -msse3 -fomit-frame-pointer -funroll-loops  -D__AVX    -c -o checkpoint.o checkpoint.c\n",
      "gcc -o raxmlHPC-PTHREADS-AVX2 axml.o  optimizeModel.o multiple.o searchAlgo.o topologies.o parsePartitions.o treeIO.o models.o bipartitionList.o rapidBootstrap.o evaluatePartialGenericSpecial.o evaluateGenericSpecial.o newviewGenericSpecial.o makenewzGenericSpecial.o   classify.o fastDNAparsimony.o fastSearch.o leaveDropping.o rmqs.o rogueEPA.o ancestralStates.o avxLikelihood.o leaveOneOutTest.o mem_alloc.o eigen.o checkpoint.o -lm -pthread   \n",
      "make[1]: Leaving directory `/home/working/Reference_Alignment/Amphibians/SATIVA/sativa/raxml/builddir.AVX2.PTHREADS'\n",
      "cp builddir.AVX2.PTHREADS/raxmlHPC-* ../raxml/raxmlHPC8-AVX2.PTHREADS\n",
      "rm -rf builddir.*\n",
      "rm -f unpack.*.stamp\n",
      "make: Leaving directory `/home/working/Reference_Alignment/Amphibians/SATIVA/sativa/raxml'\n",
      "\n",
      "Done!\n"
     ]
    }
   ],
   "source": [
    "!./install.sh"
   ]
  },
  {
   "cell_type": "code",
   "execution_count": 5,
   "metadata": {
    "collapsed": false
   },
   "outputs": [
    {
     "name": "stdout",
     "output_type": "stream",
     "text": [
      "/home/working/Reference_Alignment/Amphibians/SATIVA\n"
     ]
    }
   ],
   "source": [
    "cd .."
   ]
  }
 ],
 "metadata": {
  "kernelspec": {
   "display_name": "Python 2",
   "language": "python",
   "name": "python2"
  },
  "language_info": {
   "codemirror_mode": {
    "name": "ipython",
    "version": 2
   },
   "file_extension": ".py",
   "mimetype": "text/x-python",
   "name": "python",
   "nbconvert_exporter": "python",
   "pygments_lexer": "ipython2",
   "version": "2.7.6"
  }
 },
 "nbformat": 4,
 "nbformat_minor": 0
}
