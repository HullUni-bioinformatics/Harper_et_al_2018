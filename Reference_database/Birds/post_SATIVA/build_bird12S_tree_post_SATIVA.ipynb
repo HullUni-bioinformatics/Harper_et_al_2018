{
 "cells": [
  {
   "cell_type": "markdown",
   "metadata": {},
   "source": [
    "Exclude the records that SATIVA has highligted, redo the alignment and rebuild the tree."
   ]
  },
  {
   "cell_type": "code",
   "execution_count": 1,
   "metadata": {
    "collapsed": true
   },
   "outputs": [],
   "source": [
    "from reprophylo import *"
   ]
  },
  {
   "cell_type": "code",
   "execution_count": 2,
   "metadata": {
    "collapsed": false
   },
   "outputs": [
    {
     "name": "stderr",
     "output_type": "stream",
     "text": [
      "DEBUG:Cloud:Log file (/root/.picloud/cloud.log) opened\n"
     ]
    }
   ],
   "source": [
    "pj=Project('../fetch_clean_align_tree/bird_target_locus.csv', pickle='bird_post_SATIVA.pkl', git=False)"
   ]
  },
  {
   "cell_type": "code",
   "execution_count": 3,
   "metadata": {
    "collapsed": false
   },
   "outputs": [
    {
     "name": "stderr",
     "output_type": "stream",
     "text": [
      "/home/reprophylo/reprophylo.py:1015: UserWarning: Version control off\n",
      "  warnings.warn('Version control off')\n"
     ]
    }
   ],
   "source": [
    "pj.read_embl_genbank(['../fetch_clean_align_tree/12S_preSATIVA_birds.gb'])"
   ]
  },
  {
   "cell_type": "code",
   "execution_count": 4,
   "metadata": {
    "collapsed": true
   },
   "outputs": [],
   "source": [
    "pj.extract_by_locus()"
   ]
  },
  {
   "cell_type": "markdown",
   "metadata": {},
   "source": [
    "Set the stage:"
   ]
  },
  {
   "cell_type": "code",
   "execution_count": 5,
   "metadata": {
    "collapsed": false
   },
   "outputs": [
    {
     "name": "stdout",
     "output_type": "stream",
     "text": [
      "to drop: 0\n",
      "to keep: 0\n",
      "TOTAL: 0\n"
     ]
    }
   ],
   "source": [
    "recs_to_keep = {'rrnS': []}\n",
    "recs_to_drop = {'rrnS': []}\n",
    "\n",
    "print \"to drop: %s\" %len(recs_to_drop['rrnS'])\n",
    "print \"to keep: %s\" %len(recs_to_keep['rrnS'])\n",
    "\n",
    "print \"TOTAL: %s\" %(len(recs_to_drop['rrnS']) + len(recs_to_keep['rrnS']))"
   ]
  },
  {
   "cell_type": "markdown",
   "metadata": {},
   "source": [
    "Record all record ids and assign them the status keep."
   ]
  },
  {
   "cell_type": "code",
   "execution_count": 6,
   "metadata": {
    "collapsed": true
   },
   "outputs": [],
   "source": [
    "for r in pj.records_by_locus['rrnS']:\n",
    "    recs_to_keep['rrnS'].append(\"_\".join(r.id.split(\"_\")[:-1]))"
   ]
  },
  {
   "cell_type": "code",
   "execution_count": 7,
   "metadata": {
    "collapsed": false
   },
   "outputs": [
    {
     "name": "stdout",
     "output_type": "stream",
     "text": [
      "to drop: 0\n",
      "to keep: 675\n",
      "TOTAL: 675\n"
     ]
    }
   ],
   "source": [
    "print \"to drop: %s\" %len(recs_to_drop['rrnS'])\n",
    "print \"to keep: %s\" %len(recs_to_keep['rrnS'])\n",
    "\n",
    "print \"TOTAL: %s\" %(len(recs_to_drop['rrnS']) + len(recs_to_keep['rrnS']))"
   ]
  },
  {
   "cell_type": "markdown",
   "metadata": {},
   "source": [
    "How many do we want to drop? Parse SATIVA output and extract records ids putatively mislabeled."
   ]
  },
  {
   "cell_type": "code",
   "execution_count": 8,
   "metadata": {
    "collapsed": true
   },
   "outputs": [],
   "source": [
    "rec_mislabelled = {}\n",
    "sativa=open('../SATIVA/12S.mis', 'r')\n",
    "\n",
    "for line in sativa:\n",
    "    if not line.startswith(\";\"):\n",
    "        rec_mislabelled[line.split(\"\\t\")[0]] = line.split(\"\\t\")[4]\n",
    "        "
   ]
  },
  {
   "cell_type": "code",
   "execution_count": 9,
   "metadata": {
    "collapsed": false
   },
   "outputs": [
    {
     "name": "stdout",
     "output_type": "stream",
     "text": [
      "53\n"
     ]
    }
   ],
   "source": [
    "print len(rec_mislabelled)"
   ]
  },
  {
   "cell_type": "markdown",
   "metadata": {},
   "source": [
    "Adjust lists accordingly."
   ]
  },
  {
   "cell_type": "code",
   "execution_count": 10,
   "metadata": {
    "collapsed": false
   },
   "outputs": [
    {
     "name": "stdout",
     "output_type": "stream",
     "text": [
      "EF027311.1\n",
      "\tadd to droplist\n",
      "\tremove from keeplist\n",
      "AF447226.1\n",
      "\tadd to droplist\n",
      "\tremove from keeplist\n",
      "HQ852931.1\n",
      "\tadd to droplist\n",
      "\tremove from keeplist\n",
      "FR873680.1\n",
      "\tadd to droplist\n",
      "\tremove from keeplist\n",
      "AY635106.1\n",
      "\tadd to droplist\n",
      "\tremove from keeplist\n",
      "DQ674556.1\n",
      "\tadd to droplist\n",
      "\tremove from keeplist\n",
      "FJ603663.1\n",
      "\tadd to droplist\n",
      "\tremove from keeplist\n",
      "AF173577.1\n",
      "\tadd to droplist\n",
      "\tremove from keeplist\n",
      "EF027300.1\n",
      "\tadd to droplist\n",
      "\tremove from keeplist\n",
      "AY164523.1\n",
      "\tadd to droplist\n",
      "\tremove from keeplist\n",
      "FJ752434.1\n",
      "\tadd to droplist\n",
      "\tremove from keeplist\n",
      "AY259407.1\n",
      "\tadd to droplist\n",
      "\tremove from keeplist\n",
      "KP171706.1\n",
      "\tadd to droplist\n",
      "\tremove from keeplist\n",
      "AF230154.1\n",
      "\tadd to droplist\n",
      "\tremove from keeplist\n",
      "AF447237.1\n",
      "\tadd to droplist\n",
      "\tremove from keeplist\n",
      "EU154482.1\n",
      "\tadd to droplist\n",
      "\tremove from keeplist\n",
      "FJ752433.1\n",
      "\tadd to droplist\n",
      "\tremove from keeplist\n",
      "AY631338.1\n",
      "\tadd to droplist\n",
      "\tremove from keeplist\n",
      "AY259424.1\n",
      "\tadd to droplist\n",
      "\tremove from keeplist\n",
      "AF173564.1\n",
      "\tadd to droplist\n",
      "\tremove from keeplist\n",
      "AY259404.1\n",
      "\tadd to droplist\n",
      "\tremove from keeplist\n",
      "EF373090.2\n",
      "\tadd to droplist\n",
      "\tremove from keeplist\n",
      "KC407232.1\n",
      "\tadd to droplist\n",
      "\tremove from keeplist\n",
      "EU167070.1\n",
      "\tadd to droplist\n",
      "\tremove from keeplist\n",
      "KF781333.1\n",
      "\tadd to droplist\n",
      "\tremove from keeplist\n",
      "AY513589.1\n",
      "\tadd to droplist\n",
      "\tremove from keeplist\n",
      "KC545397.1\n",
      "\tadd to droplist\n",
      "\tremove from keeplist\n",
      "KR215630.1\n",
      "\tadd to droplist\n",
      "\tremove from keeplist\n",
      "AY275847.1\n",
      "\tadd to droplist\n",
      "\tremove from keeplist\n",
      "AF173599.1\n",
      "\tadd to droplist\n",
      "\tremove from keeplist\n",
      "AF407087.1\n",
      "\tadd to droplist\n",
      "\tremove from keeplist\n",
      "AM237310.1\n",
      "\tadd to droplist\n",
      "\tremove from keeplist\n",
      "EF373082.2\n",
      "\tadd to droplist\n",
      "\tremove from keeplist\n",
      "AB918148.1\n",
      "\tadd to droplist\n",
      "\tremove from keeplist\n",
      "AF173585.1\n",
      "\tadd to droplist\n",
      "\tremove from keeplist\n",
      "AY259421.1\n",
      "\tadd to droplist\n",
      "\tremove from keeplist\n",
      "KM078790.1\n",
      "\tadd to droplist\n",
      "\tremove from keeplist\n",
      "AY259399.1\n",
      "\tadd to droplist\n",
      "\tremove from keeplist\n",
      "HQ852943.1\n",
      "\tadd to droplist\n",
      "\tremove from keeplist\n",
      "HQ852942.1\n",
      "\tadd to droplist\n",
      "\tremove from keeplist\n",
      "AF407431.1\n",
      "\tadd to droplist\n",
      "\tremove from keeplist\n",
      "KF997863.1\n",
      "\tadd to droplist\n",
      "\tremove from keeplist\n",
      "AY259411.1\n",
      "\tadd to droplist\n",
      "\tremove from keeplist\n",
      "HQ852945.1\n",
      "\tadd to droplist\n",
      "\tremove from keeplist\n",
      "L22477.1\n",
      "\tadd to droplist\n",
      "\tremove from keeplist\n",
      "KU158188.1\n",
      "\tadd to droplist\n",
      "\tremove from keeplist\n",
      "U83758.1\n",
      "\tadd to droplist\n",
      "\tremove from keeplist\n",
      "JQ962983.1\n",
      "\tadd to droplist\n",
      "\tremove from keeplist\n",
      "HQ852941.1\n",
      "\tadd to droplist\n",
      "\tremove from keeplist\n",
      "AY259390.1\n",
      "\tadd to droplist\n",
      "\tremove from keeplist\n",
      "KJ710708.1\n",
      "\tadd to droplist\n",
      "\tremove from keeplist\n",
      "DQ832102.1\n",
      "\tadd to droplist\n",
      "\tremove from keeplist\n",
      "GU390886.1\n",
      "\tadd to droplist\n",
      "\tremove from keeplist\n"
     ]
    }
   ],
   "source": [
    "for r in rec_mislabelled:\n",
    "    print r\n",
    "    if not r in recs_to_drop['rrnS']:\n",
    "        print \"\\tadd to droplist\"\n",
    "        recs_to_drop['rrnS'].append(r)\n",
    "    for i in reversed(range(len(recs_to_keep['rrnS']))):\n",
    "#        print i\n",
    "        if r in recs_to_keep['rrnS'][i]:\n",
    "            print \"\\tremove from keeplist\"\n",
    "            del(recs_to_keep['rrnS'][i])"
   ]
  },
  {
   "cell_type": "code",
   "execution_count": 11,
   "metadata": {
    "collapsed": false
   },
   "outputs": [
    {
     "name": "stdout",
     "output_type": "stream",
     "text": [
      "to drop: 53\n",
      "to keep: 622\n",
      "TOTAL: 675\n"
     ]
    }
   ],
   "source": [
    "print \"to drop: %s\" %len(recs_to_drop['rrnS'])\n",
    "print \"to keep: %s\" %len(recs_to_keep['rrnS'])\n",
    "\n",
    "print \"TOTAL: %s\" %(len(recs_to_drop['rrnS']) + len(recs_to_keep['rrnS']))"
   ]
  },
  {
   "cell_type": "markdown",
   "metadata": {},
   "source": [
    "Write out good records in full Genbank format including all metadata. Adjust to valid species and taxids before doing it.\n",
    "\n",
    "Identify records with Subspecies."
   ]
  },
  {
   "cell_type": "code",
   "execution_count": 12,
   "metadata": {
    "collapsed": false
   },
   "outputs": [
    {
     "name": "stdout",
     "output_type": "stream",
     "text": [
      "Chrysolophus pictus  .. add to records\n",
      "Schoeniclus spodocephala  .. add to records\n",
      "Tringa brevipes  .. add to records\n",
      "Phoenicopterus roseus  .. add to records\n",
      "Botaurus stellaris  .. add to records\n",
      "Poecile palustris  .. add to records\n",
      "Dupetor flavicollis  .. add to records\n",
      "Fregata magnificens  .. add to records\n",
      "Phoenicopterus ruber  .. add to records\n",
      "Remiz consobrinus  .. add to records\n",
      "Coturnix coturnix  .. add to records\n",
      "subspecies: Passer montanus saturatus\n",
      "Emberiza pusilla  .. add to records\n",
      "Turdus migratorius  .. add to records\n",
      "Dupetor flavicollis  .. already covered\n",
      "Fulica americana  .. add to records\n",
      "Turdus philomelos  .. add to records\n",
      "Chlidonias leucopterus  .. add to records\n",
      "Abrornis inornata  .. add to records\n",
      "subspecies: Falco tinnunculus interstinctus\n",
      "subspecies: Buteo buteo burmanicus\n",
      "Falco naumanni  .. add to records\n",
      "Charadrius semipalmatus  .. add to records\n",
      "Recurvirostra avosetta  .. add to records\n",
      "Pluvialis dominica  .. add to records\n",
      "Luscinia cyanura  .. add to records\n",
      "Uria aalge  .. add to records\n",
      "Falco columbarius  .. add to records\n",
      "Porzana carolina  .. add to records\n",
      "Regulus satrapa  .. add to records\n",
      "Tringa erythropus  .. add to records\n",
      "Anas discors  .. add to records\n",
      "Haematopus ostralegus  .. add to records\n",
      "Nycticorax nycticorax  .. add to records\n",
      "Lanius collurio  .. add to records\n",
      "Ardeola bacchus  .. add to records\n",
      "Fregata magnificens  .. already covered\n",
      "Fringilla coelebs  .. add to records\n",
      "Ciconia nigra  .. add to records\n",
      "Aix galericulata  .. add to records\n",
      "Vanellus cinereus  .. add to records\n",
      "Botaurus stellaris  .. already covered\n",
      "Anas discors  .. already covered\n",
      "Actitis hypoleucos  .. add to records\n",
      "Passerina cyanea  .. add to records\n",
      "Egretta garzetta  .. add to records\n",
      "Alle alle  .. add to records\n",
      "Chaetura pelagica  .. add to records\n",
      "Bubo virginianus  .. add to records\n",
      "Psittacula krameri  .. add to records\n",
      "Columba livia  .. add to records\n",
      "Tadorna tadorna  .. add to records\n",
      "Tringa flavipes  .. add to records\n",
      "Coturnix coturnix  .. already covered\n",
      "Merops viridis  .. add to records\n",
      "Coccothraustes coccothraustes  .. add to records\n",
      "Acrocephalus arundinaceus  .. add to records\n",
      "Tryngites subruficollis  .. add to records\n",
      "Tetrao urogallus  .. add to records\n",
      "Ciconia nigra  .. already covered\n",
      "Anas formosa  .. add to records\n",
      "Sylvia cantillans  .. add to records\n",
      "Pinicola enucleator  .. add to records\n",
      "Anas crecca  .. add to records\n",
      "Accipiter gentilis  .. add to records\n",
      "subspecies: Milvus migrans lineatus\n",
      "Piranga rubra  .. add to records\n",
      "Dumetella carolinensis  .. add to records\n",
      "Pheucticus ludovicianus  .. add to records\n",
      "Charadrius morinellus  .. add to records\n",
      "Passer montanus  .. add to records\n",
      "Tadorna ferruginea  .. add to records\n",
      "Tringa nebularia  .. add to records\n",
      "Gallinula chloropus  .. add to records\n",
      "Cepphus grylle  .. add to records\n",
      "Circus aeruginosus  .. add to records\n",
      "Oriolus auratus  .. add to records\n",
      "Locustella ochotensis  .. add to records\n",
      "Phylloscopus orientalis  .. add to records\n",
      "Aegithalos caudatus  .. add to records\n",
      "Lanius senator  .. add to records\n",
      "Tringa totanus  .. add to records\n",
      "subspecies: Haliaeetus albicilla albicilla\n",
      "Cisticola fulvicapilla  .. add to records\n",
      "Bucephala clangula  .. add to records\n",
      "Eremophila alpestris  .. add to records\n",
      "Pluvialis squatarola  .. add to records\n",
      "Picus viridis  .. add to records\n",
      "Phalaropus lobatus  .. add to records\n",
      "Tyto alba  .. add to records\n",
      "Phoenicopterus ruber  .. already covered\n",
      "Tachymarptis melba  .. add to records\n",
      "Chlidonias niger  .. add to records\n",
      "Sternula albifrons  .. add to records\n",
      "Calidris pugnax  .. add to records\n",
      "subspecies: Turdus ruficollis ruficollis\n",
      "Accipiter nisus  .. add to records\n",
      "Tringa solitaria  .. add to records\n",
      "Aythya fuligula  .. add to records\n",
      "Poecile montanus  .. add to records\n",
      "subspecies: Pandion haliaetus haliaetus\n",
      "Aythya fuligula  .. already covered\n",
      "subspecies: Phylloscopus fuscatus robustus\n",
      "Alauda arvensis  .. add to records\n",
      "Pica pica  .. add to records\n",
      "Neophron percnopterus  .. add to records\n",
      "subspecies: Phylloscopus fuscatus fuscatus\n",
      "Actitis macularia  .. add to records\n",
      "Lanius cristatus  .. add to records\n",
      "Gavia pacifica  .. add to records\n",
      "Podiceps auritus  .. add to records\n",
      "Schoeniclus rusticus  .. add to records\n",
      "Tringa melanoleuca  .. add to records\n",
      "Falco tinnunculus  .. add to records\n",
      "Arenaria interpres  .. add to records\n",
      "Phasianus colchicus  .. add to records\n",
      "subspecies: Hirundo rustica gutturalis\n",
      "subspecies: Loxia leucoptera leucoptera\n",
      "subspecies: Loxia curvirostra minor\n",
      "Burhinus vermiculatus  .. add to records\n",
      "Cisticola cantans  .. add to records\n",
      "Glareola pratincola  .. add to records\n",
      "Calidris tenuirostris  .. add to records\n",
      "Numenius phaeopus  .. add to records\n",
      "Asio flammeus  .. add to records\n",
      "Phalaropus tricolor  .. add to records\n",
      "Jynx torquilla  .. add to records\n",
      "Tachybaptus ruficollis  .. add to records\n",
      "Nycticorax nycticorax  .. already covered\n",
      "Bombycilla garrulus  .. add to records\n",
      "Limosa limosa  .. add to records\n",
      "Phylloscopus fuscatus  .. add to records\n",
      "Otus scops  .. add to records\n",
      "Columba livia  .. already covered\n",
      "Burhinus bistriatus  .. add to records\n",
      "Synthliboramphus antiquus  .. add to records\n",
      "Pandion haliaetus  .. add to records\n",
      "Calidris fuscicollis  .. add to records\n",
      "Porphyrio alleni  .. add to records\n",
      "Aegithalos caudatus  .. already covered\n",
      "Calidris minuta  .. add to records\n",
      "Calidris maritima  .. add to records\n",
      "Limosa lapponica  .. add to records\n",
      "Calidris mauri  .. add to records\n",
      "Limosa lapponica  .. already covered\n",
      "Accipiter gentilis  .. already covered\n",
      "Pterodroma hasitata  .. add to records\n",
      "Numenius arquata  .. add to records\n",
      "Progne chalybea  .. add to records\n",
      "Merops nubicus  .. add to records\n",
      "Limicola falcinellus  .. add to records\n",
      "Egretta eulophotes  .. add to records\n",
      "Synthliboramphus antiquus  .. already covered\n",
      "Anser anser  .. add to records\n",
      "Pelecanus crispus  .. add to records\n",
      "Calidris acuminata  .. add to records\n",
      "subspecies: Limosa limosa melanuroides\n",
      "Calidris alpina  .. add to records\n",
      "Emberiza chrysophrys  .. add to records\n",
      "Tryngites subruficollis  .. already covered\n",
      "Calidris ruficollis  .. add to records\n",
      "Asio flammeus  .. already covered\n",
      "Numenius hudsonicus  .. add to records\n",
      "Gavia immer  .. add to records\n",
      "Calidris canutus  .. add to records\n",
      "Ciconia nigra  .. already covered\n",
      "Sphyrapicus varius  .. add to records\n",
      "Luscinia cyanura  .. already covered\n",
      "Anas platyrhynchos  .. add to records\n",
      "Regulus regulus  .. add to records\n",
      "Branta bernicla  .. add to records\n",
      "Sitta europaea  .. add to records\n",
      "Aythya fuligula  .. already covered\n",
      "Calidris pugnax  .. already covered\n",
      "Vireo olivaceus  .. add to records\n",
      "Turdus philomelos  .. already covered\n",
      "Egretta garzetta  .. already covered\n",
      "Aythya americana  .. add to records\n",
      "Phasianus colchicus  .. already covered\n",
      "Puffinus gravis  .. add to records\n",
      "Egretta garzetta  .. already covered\n",
      "Sylvia atricapilla  .. add to records\n",
      "Ixobrychus cinnamomeus  .. add to records\n",
      "Alectoris rufa  .. add to records\n",
      "Fringilla montifringilla  .. add to records\n",
      "Himantopus mexicanus  .. add to records\n",
      "Grus canadensis  .. add to records\n",
      "Vanellus vanellus  .. add to records\n",
      "Zenaida macroura  .. add to records\n",
      "Calidris temminckii  .. add to records\n",
      "Vanellus chilensis  .. add to records\n",
      "Gallinula chloropus  .. already covered\n",
      "Lymnocryptes minimus  .. add to records\n",
      "Streptopelia capicola  .. add to records\n",
      "Gavia stellata  .. add to records\n",
      "Ixobrychus cinnamomeus  .. already covered\n",
      "Actitis macularia  .. already covered\n",
      "Larus atricilla  .. add to records\n",
      "Netta rufina  .. add to records\n",
      "Egretta eulophotes  .. already covered\n",
      "Caprimulgus vociferus  .. add to records\n",
      "Charadrius vociferus  .. add to records\n",
      "Hylocichla mustelina  .. add to records\n",
      "Ficedula albicollis  .. add to records\n",
      "Strix varia  .. add to records\n",
      "Otis tarda  .. add to records\n",
      "Anas platyrhynchos  .. already covered\n",
      "Phasianus colchicus  .. already covered\n",
      "Phoenicopterus ruber  .. already covered\n",
      "Botaurus stellaris  .. already covered\n",
      "Chordeiles minor  .. add to records\n",
      "Circaetus gallicus  .. add to records\n",
      "Puffinus griseus  .. add to records\n",
      "Nucifraga columbiana  .. add to records\n",
      "Turdus obscurus  .. add to records\n",
      "Parus major  .. add to records\n",
      "Muscicapa striata  .. add to records\n",
      "Plegadis falcinellus  .. add to records\n",
      "Aythya ferina  .. add to records\n",
      "Alectoris rufa  .. already covered\n",
      "Gavia stellata  .. already covered\n",
      "Phoenicurus auroreus  .. add to records\n",
      "Scolopax rusticola  .. add to records\n",
      "Alectoris rufa  .. already covered\n",
      "Platalea leucorodia  .. add to records\n",
      "Anas crecca  .. already covered\n",
      "Buteo lagopus  .. add to records\n",
      "Pica pica  .. already covered\n",
      "Panurus biarmicus  .. add to records\n",
      "Turdus pilaris  .. add to records\n",
      "Streptopelia orientalis  .. add to records\n",
      "Calidris melanotos  .. add to records\n",
      "Fulica atra  .. add to records\n",
      "Ixoreus naevius  .. add to records\n",
      "Chlidonias hybridus  .. add to records\n",
      "Columba palumbus  .. add to records\n",
      "Burhinus senegalensis  .. add to records\n",
      "Gavia stellata  .. already covered\n",
      "Bubulcus ibis  .. add to records\n",
      "Megaceryle alcyon  .. add to records\n",
      "Bombycilla cedrorum  .. add to records\n",
      "Carpodacus erythrinus  .. add to records\n",
      "Larus glaucoides  .. add to records\n",
      "Emberiza chrysophrys  .. already covered\n",
      "Acrocephalus aedon  .. add to records\n",
      "Anas clypeata  .. add to records\n",
      "Geothlypis trichas  .. add to records\n",
      "Buteo lagopus  .. already covered\n",
      "Poecile palustris  .. already covered\n",
      "Falco peregrinus  .. add to records\n",
      "Acrocephalus aedon  .. already covered\n",
      "Anas discors  .. already covered\n",
      "Parus major  .. already covered\n",
      "Tachycineta bicolor  .. add to records\n",
      "Fulica americana  .. already covered\n",
      "Motacilla cinerea  .. add to records\n",
      "Anas platyrhynchos  .. already covered\n",
      "Xenus cinereus  .. add to records\n",
      "Tachymarptis melba  .. already covered\n",
      "Anser albifrons  .. add to records\n",
      "Lanius isabellinus  .. add to records\n",
      "Phylloscopus trochilus  .. add to records\n",
      "Lanius schach  .. add to records\n",
      "Coccothraustes coccothraustes  .. already covered\n",
      "Turdus merula  .. add to records\n",
      "Anser fabalis  .. add to records\n",
      "subspecies: Buteo buteo vulpinus\n",
      "Bubulcus ibis  .. already covered\n",
      "Stercorarius longicaudus  .. add to records\n",
      "subspecies: Phylloscopus trochiloides trochiloides\n",
      "Acrocephalus dumetorum  .. add to records\n",
      "Falco rusticolus  .. add to records\n",
      "Podiceps auritus  .. already covered\n",
      "Abrornis proregulus  .. add to records\n",
      "Grus canadensis  .. already covered\n",
      "Lagopus lagopus  .. add to records\n",
      "Thalassarche melanophrys  .. add to records\n",
      "Apus pacificus  .. add to records\n",
      "Oenanthe pleschanka  .. add to records\n",
      "Mergellus albellus  .. add to records\n",
      "Parus major  .. already covered\n",
      "Onychoprion aleuticus  .. add to records\n",
      "subspecies: Poecile montanus baicalensis\n",
      "Apus affinis  .. add to records\n",
      "Tringa glareola  .. add to records\n",
      "Tringa stagnatilis  .. add to records\n",
      "Stercorarius skua  .. add to records\n",
      "Sylvia curruca  .. add to records\n",
      "Grus grus  .. add to records\n",
      "Asio flammeus  .. already covered\n",
      "subspecies: Oenanthe oenanthe oenanthe\n",
      "Erithacus rubecula  .. add to records\n",
      "Syrrhaptes paradoxus  .. add to records\n",
      "Spinus spinus  .. add to records\n",
      "Tringa erythropus  .. already covered\n",
      "Mareca penelope  .. add to records\n",
      "Xema sabini  .. add to records\n",
      "Mimus polyglottos  .. add to records\n",
      "Tringa melanoleuca  .. already covered\n",
      "Upupa epops  .. add to records\n",
      "Ixobrychus sinensis  .. add to records\n",
      "Piranga olivacea  .. add to records\n",
      "Passer domesticus  .. add to records\n",
      "Larus delawarensis  .. add to records\n",
      "Acanthis hornemanni  .. add to records\n",
      "Grus canadensis  .. already covered\n",
      "Abrornis inornata  .. already covered\n",
      "Scolopax rusticola  .. already covered\n",
      "Tringa ochropus  .. add to records\n",
      "Uria lomvia  .. add to records\n",
      "Phalaropus fulicaria  .. add to records\n",
      "Pelecanus onocrotalus  .. add to records\n",
      "Apus affinis  .. already covered\n",
      "Dendrocopos major  .. add to records\n",
      "Aythya fuligula  .. already covered\n",
      "Ciconia ciconia  .. add to records\n",
      "Pyrrhula pyrrhula  .. add to records\n",
      "Catharus guttatus  .. add to records\n",
      "Onychoprion anaethetus  .. add to records\n",
      "Ciconia ciconia  .. already covered\n",
      "Tyto alba  .. already covered\n",
      "Calidris pugnax  .. already covered\n",
      "Columba palumbus  .. already covered\n",
      "Lyrurus tetrix  .. add to records\n",
      "Rhodostethia rosea  .. add to records\n",
      "Parus major  .. already covered\n",
      "Onychoprion fuscatus  .. add to records\n",
      "subspecies: Zoothera dauma aurea\n",
      "Anas platyrhynchos  .. already covered\n",
      "Puffinus gravis  .. already covered\n",
      "Hesperiphona vespertina  .. add to records\n",
      "Limosa limosa  .. already covered\n",
      "Oriolus chinensis  .. add to records\n",
      "Acrocephalus scirpaceus  .. add to records\n",
      "Acrocephalus arundinaceus  .. already covered\n",
      "Porphyrio martinica  .. add to records\n",
      "Coturnix coturnix  .. already covered\n",
      "subspecies: Accipiter gentilis fujiyamae\n",
      "Burhinus grallarius  .. add to records\n",
      "subspecies: Aquila chrysaetos japonica\n",
      "subspecies: Limosa limosa islandica\n",
      "Parus major  .. already covered\n",
      "Phalaropus tricolor  .. already covered\n",
      "Limicola falcinellus  .. already covered\n",
      "Alectoris rufa  .. already covered\n",
      "Platalea leucorodia  .. already covered\n",
      "subspecies: Numenius phaeopus variegatus\n",
      "subspecies: Dendrocopos major pinetorum\n",
      "Corvus frugilegus  .. add to records\n",
      "Tetrax tetrax  .. add to records\n",
      "Sayornis phoebe  .. add to records\n",
      "Fregata aquila  .. add to records\n",
      "Chaetura pelagica  .. already covered\n",
      "Apus pacificus  .. already covered\n",
      "Limosa haemastica  .. add to records\n",
      "Coccyzus americanus  .. add to records\n",
      "Milvus migrans  .. add to records\n",
      "Chlidonias leucopterus  .. already covered\n",
      "Numenius minutus  .. add to records\n",
      "Anas platyrhynchos  .. already covered\n",
      "Pagophila eburnea  .. add to records\n",
      "Gymnoris dentata  .. add to records\n",
      "Aix galericulata  .. already covered\n",
      "Calliope calliope  .. add to records\n",
      "Turdus philomelos  .. already covered\n",
      "Limosa haemastica  .. already covered\n",
      "Alca torda  .. add to records\n",
      "Coccyzus erythropthalmus  .. add to records\n",
      "Aythya fuligula  .. already covered\n",
      "Tetrao urogallus  .. already covered\n",
      "Calidris pusilla  .. add to records\n",
      "Calidris ferruginea  .. add to records\n",
      "Pterodroma heraldica  .. add to records\n",
      "Glareola maldivarum  .. add to records\n",
      "Calidris minutilla  .. add to records\n",
      "subspecies: Loxia curvirostra luzonensis\n",
      "Calidris himantopus  .. add to records\n",
      "Corvus corone  .. add to records\n",
      "Calidris himantopus  .. already covered\n",
      "Nycticorax nycticorax  .. already covered\n",
      "Columba livia  .. already covered\n",
      "Limnodromus scolopaceus  .. add to records\n",
      "subspecies: Turdus naumanni naumanni\n",
      "Calidris canutus  .. already covered\n",
      "Buteo buteo  .. add to records\n",
      "Mareca strepera  .. add to records\n",
      "Chordeiles minor  .. already covered\n",
      "Anas querquedula  .. add to records\n",
      "Calonectris diomedea  .. add to records\n",
      "Ardea purpurea  .. add to records\n",
      "Turdus philomelos  .. already covered\n",
      "Anas crecca  .. already covered\n",
      "Schoeniclus spodocephala  .. already covered\n",
      "Aegolius acadicus  .. add to records\n",
      "Turdus merula  .. already covered\n",
      "Pelecanus crispus  .. already covered\n",
      "Columba livia  .. already covered\n",
      "Cygnus cygnus  .. add to records\n",
      "Aegolius acadicus  .. already covered\n",
      "Gallinula chloropus  .. already covered\n",
      "Ixobrychus cinnamomeus  .. already covered\n",
      "Cygnus olor  .. add to records\n",
      "Pelagodroma marina  .. add to records\n",
      "subspecies: Loxia curvirostra himalayensis\n",
      "Sturnus vulgaris  .. add to records\n",
      "Anas crecca  .. already covered\n",
      "Calidris alba  .. add to records\n",
      "Bartramia longicauda  .. add to records\n",
      "Numenius phaeopus  .. already covered\n",
      "Calidris subminuta  .. add to records\n",
      "Gavia adamsii  .. add to records\n",
      "Calidris bairdii  .. add to records\n",
      "Columba livia  .. already covered\n",
      "Turdus philomelos  .. already covered\n",
      "Sylvia melanocephala  .. add to records\n",
      "Scolopax rusticola  .. already covered\n",
      "Accipiter nisus  .. already covered\n",
      "Charadrius semipalmatus  .. already covered\n",
      "Schoeniclus aureolus  .. add to records\n",
      "Apus apus  .. add to records\n",
      "Erithacus rubecula  .. already covered\n",
      "Emberiza citrinella  .. add to records\n",
      "Ixobrychus sinensis  .. already covered\n",
      "Lagopus muta  .. add to records\n",
      "Columba livia  .. already covered\n",
      "Dendrocopos major  .. already covered\n",
      "Egretta garzetta  .. already covered\n",
      "Asio flammeus  .. already covered\n",
      "Himantopus mexicanus  .. already covered\n",
      "Milvus migrans  .. already covered\n",
      "Mergus merganser  .. add to records\n",
      "Phasianus colchicus  .. already covered\n",
      "Sterna bengalensis  .. add to records\n",
      "Anas acuta  .. add to records\n",
      "Vireo olivaceus  .. already covered\n",
      "Seiurus aurocapilla  .. add to records\n",
      "Anas platyrhynchos  .. already covered\n",
      "Anser fabalis  .. already covered\n",
      "Falco tinnunculus  .. already covered\n",
      "Lanius collurio  .. already covered\n",
      "Prunella montanella  .. add to records\n",
      "Phasianus colchicus  .. already covered\n",
      "Coccyzus erythropthalmus  .. already covered\n",
      "Upupa epops  .. already covered\n",
      "Hydroprogne caspia  .. add to records\n",
      "subspecies: Cygnus columbianus jankowskii\n",
      "Sterna hirundo  .. add to records\n",
      "Anas platyrhynchos  .. already covered\n",
      "Motacilla cinerea  .. already covered\n",
      "Calonectris diomedea  .. already covered\n",
      "Tetrao urogallus  .. already covered\n",
      "subspecies: Oxyura jamaicensis jamaicensis\n",
      "Bubulcus ibis  .. already covered\n",
      "Columba livia  .. already covered\n",
      "subspecies: Gallinago gallinago gallinago\n",
      "Ardea cinerea  .. add to records\n",
      "Alectoris rufa  .. already covered\n",
      "subspecies: Loxia curvirostra pusilla\n",
      "Chroicocephalus ridibundus  .. add to records\n",
      "Alectoris rufa  .. already covered\n",
      "Perdix perdix  .. add to records\n",
      "Ardea purpurea  .. already covered\n",
      "subspecies: Loxia leucoptera megaplaga\n",
      "Apus affinis  .. already covered\n",
      "subspecies: Hirundo rustica erythrogaster\n",
      "Vanellus cinereus  .. already covered\n",
      "Pyrrhocorax pyrrhocorax  .. add to records\n",
      "Buteo buteo  .. already covered\n",
      "Tringa ochropus  .. already covered\n",
      "Upupa epops  .. already covered\n",
      "Aquila chrysaetos  .. add to records\n",
      "subspecies: Cygnus columbianus bewickii\n",
      "Columba livia  .. already covered\n",
      "subspecies: Dendrocopos major brevirostris\n",
      "subspecies: Seicercus borealis borealis\n",
      "Somateria fischeri  .. add to records\n",
      "Tetrao urogallus  .. already covered\n",
      "Loxia pytyopsittacus  .. add to records\n",
      "Sphyrapicus varius  .. already covered\n",
      "Cygnus columbianus  .. add to records\n",
      "Columba oenas  .. add to records\n",
      "Pipilo erythrophthalmus  .. add to records\n",
      "Neophron percnopterus  .. already covered\n",
      "Numenius phaeopus  .. already covered\n",
      "Columba livia  .. already covered\n",
      "Sterna paradisaea  .. add to records\n",
      "Apus apus  .. already covered\n",
      "subspecies: Dendrocopos minor hortorum\n",
      "Bubo virginianus  .. already covered\n",
      "Podiceps nigricollis  .. add to records\n",
      "Garrulus glandarius  .. add to records\n",
      "Anas platyrhynchos  .. already covered\n",
      "Gallinago media  .. add to records\n",
      "Phasianus colchicus  .. already covered\n",
      "Apus pallidus  .. add to records\n",
      "Tetrao urogallus  .. already covered\n",
      "Pandion haliaetus  .. already covered\n",
      "Passer domesticus  .. already covered\n",
      "Larus atricilla  .. already covered\n",
      "Tringa melanoleuca  .. already covered\n",
      "Phylloscopus coronatus  .. add to records\n",
      "Falco subbuteo  .. add to records\n",
      "Sylvia atricapilla  .. already covered\n",
      "Tyto alba  .. already covered\n",
      "Hirundapus caudacutus  .. add to records\n",
      "Mareca americana  .. add to records\n",
      "Pernis apivorus  .. add to records\n",
      "Lyrurus tetrix  .. already covered\n",
      "Botaurus lentiginosus  .. add to records\n",
      "Anser anser  .. already covered\n",
      "Cursorius temminckii  .. add to records\n",
      "subspecies: Phasianus colchicus alaschanicus\n",
      "Anas carolinensis  .. add to records\n",
      "Hydroprogne caspia  .. already covered\n",
      "Egretta garzetta  .. already covered\n",
      "Perdix perdix  .. already covered\n",
      "Dendrocopos major  .. already covered\n",
      "Columba livia  .. already covered\n",
      "Ardea cinerea  .. already covered\n",
      "Grus canadensis  .. already covered\n",
      "Thalasseus maximus  .. add to records\n",
      "Gavia stellata  .. already covered\n",
      "Turdus merula  .. already covered\n",
      "Stercorarius pomarinus  .. add to records\n",
      "Vanellus resplendens  .. add to records\n",
      "Aythya fuligula  .. already covered\n",
      "subspecies: Picus viridis sharpei\n",
      "Ardeola bacchus  .. already covered\n",
      "Phylloscopus trochiloides  .. add to records\n",
      "Fratercula arctica  .. add to records\n",
      "Anas clypeata  .. already covered\n",
      "Serinus serinus  .. add to records\n",
      "Dupetor flavicollis  .. already covered\n",
      "Troglodytes troglodytes  .. add to records\n",
      "Ardea alba  .. add to records\n",
      "Alopochen aegyptiacus  .. add to records\n",
      "subspecies: Sylvia atricapilla atricapilla\n",
      "Abrornis humei  .. add to records\n",
      "Nycticorax nycticorax  .. already covered\n",
      "Anser anser  .. already covered\n",
      "Plectrophenax nivalis  .. add to records\n",
      "Caprimulgus vociferus  .. already covered\n",
      "Phylloscopus collybita  .. add to records\n",
      "Psittacula krameri  .. already covered\n",
      "Histrionicus histrionicus  .. add to records\n",
      "Turdus merula  .. already covered\n",
      "Cecropis daurica  .. add to records\n",
      "Alectoris rufa  .. already covered\n",
      "Buteo buteo  .. already covered\n",
      "Schoeniclus spodocephala  .. already covered\n",
      "Gelochelidon nilotica  .. add to records\n",
      "Hippolais polyglotta  .. add to records\n",
      "Thalasseus maximus  .. already covered\n",
      "Sterna dougallii  .. add to records\n",
      "Columba livia  .. already covered\n",
      "Columba livia  .. already covered\n",
      "Asio otus  .. add to records\n",
      "Chaetura pelagica  .. already covered\n",
      "Prunella modularis  .. add to records\n",
      "Podiceps cristatus  .. add to records\n",
      "subspecies: Turdus viscivorus viscivorus\n",
      "Motacilla alba  .. add to records\n",
      "Tachymarptis melba  .. already covered\n",
      "subspecies: Zoothera dauma aurea\n",
      "subspecies: Phylloscopus fuscatus fuscatus\n",
      "Phylloscopus coronatus  .. already covered\n",
      "Falco peregrinus  .. already covered\n",
      "subspecies: Phylloscopus collybita abietinus\n",
      "Haliaeetus albicilla  .. add to records\n",
      "Phylloscopus bonelli  .. add to records\n",
      "Branta canadensis  .. add to records\n",
      "subspecies: Thalasseus sandvicensis acuflavidus\n",
      "Falco sparverius  .. add to records\n",
      "Apus pallidus  .. already covered\n",
      "Limnodromus griseus  .. add to records\n",
      "Periparus ater  .. add to records\n",
      "subspecies: Picus viridis viridis\n",
      "Sitta europaea  .. already covered\n",
      "Apus pallidus  .. already covered\n",
      "Carduelis carduelis  .. add to records\n",
      "subspecies: Acrocephalus scirpaceus scirpaceus\n",
      "subspecies: Loxia leucoptera bifasciata\n",
      "Rissa tridactyla  .. add to records\n",
      "Fulica atra  .. already covered\n",
      "Tyto alba  .. already covered\n",
      "Uria aalge  .. already covered\n",
      "Pandion haliaetus  .. already covered\n",
      "Acanthis flammea  .. add to records\n",
      "Charadrius vociferus  .. already covered\n",
      "Columba livia  .. already covered\n",
      "subspecies: Haematopus ostralegus finschi\n",
      "Columba palumbus  .. already covered\n",
      "Anas clypeata  .. already covered\n",
      "Brachyramphus perdix  .. add to records\n",
      "Coccyzus americanus  .. already covered\n",
      "Apus affinis  .. already covered\n",
      "Falco peregrinus  .. already covered\n",
      "subspecies: Haematopus ostralegus ostralegus\n",
      "Sterna forsteri  .. add to records\n",
      "Accipiter nisus  .. already covered\n",
      "Gavia arctica  .. add to records\n",
      "Abrornis inornata  .. already covered\n",
      "Tadorna tadorna  .. already covered\n",
      "Abrornis humei  .. already covered\n",
      "Anas acuta  .. already covered\n",
      "subspecies: Zoothera sibirica davisoni\n",
      "Stercorarius skua  .. already covered\n",
      "Gallinago gallinago  .. add to records\n",
      "Circus cyaneus  .. add to records\n",
      "Vipera berus  .. add to records\n",
      "Trachemys scripta  .. add to records\n",
      "Vipera berus  .. already covered\n",
      "Trachemys scripta  .. already covered\n",
      "subspecies: Trachemys scripta elegans\n",
      "Lacerta agilis  .. add to records\n",
      "Lacerta agilis  .. already covered\n",
      "Lacerta agilis  .. already covered\n",
      "Trachemys scripta  .. already covered\n",
      "Lacerta agilis  .. already covered\n",
      "subspecies: Trachemys scripta elegans\n",
      "subspecies: Trachemys scripta scripta\n",
      "subspecies: Trachemys scripta elegans\n"
     ]
    }
   ],
   "source": [
    "from collections import defaultdict\n",
    "\n",
    "Seqs = []\n",
    "taxon_to_taxid = {}\n",
    "recs_to_adjust = defaultdict(list)\n",
    "taxon_to_recs = defaultdict(list)\n",
    "\n",
    "for r in pj.records:\n",
    "    if r.id in recs_to_keep['rrnS']:\n",
    "        Seqs.append(r)\n",
    "        \n",
    "        source = [f for f in r.features if f.type == 'source'][0]\n",
    "\n",
    "        #screen for subspecies and record taxids of valid species\n",
    "        #if valid species record the taxid\n",
    "        if (len(source.qualifiers['organism'][0].split(\" \")) == 2):\n",
    "            print source.qualifiers['organism'][0],\n",
    "            if 'db_xref' in source.qualifiers:\n",
    "#                print source.qualifiers['db_xref']\n",
    "                for t in source.qualifiers['db_xref']:\n",
    "#                    print t\n",
    "                    if 'taxon' in t:\n",
    "                        if not source.qualifiers['organism'][0] in taxon_to_taxid:\n",
    "                            print \" .. add to records\"\n",
    "                            taxon_to_taxid[source.qualifiers['organism'][0]] = t.split(\":\")[1]\n",
    "                        else:\n",
    "                            print \" .. already covered\"\n",
    "                        taxon_to_recs[source.qualifiers['organism'][0]].append(r.id)\n",
    "        #if the species status is 'sp.' but has a valid taxid\n",
    "        elif (len(source.qualifiers['organism'][0].split(\" \")) > 2 and source.qualifiers['organism'][0].split(\" \")[1] == 'sp.'):\n",
    "            print source.qualifiers['organism'][0],\n",
    "            if 'db_xref' in source.qualifiers:\n",
    "                for t in source.qualifiers['db_xref']:\n",
    "                    if 'taxon' in t:\n",
    "                        if not source.qualifiers['organism'][0] in taxon_to_taxid:\n",
    "                            print \" .. add to records\"\n",
    "                            taxon_to_taxid[source.qualifiers['organism'][0]] = t.split(\":\")[1]\n",
    "                        else:\n",
    "                            print \" .. already covered\" \n",
    "                        taxon_to_recs[source.qualifiers['organism'][0]].append(r.id)\n",
    "        #all other cases we consider dubious, e.g. supspecies\n",
    "        else:\n",
    "            print \"subspecies: %s\" %source.qualifiers['organism'][0]\n",
    "            recs_to_adjust[r.id] = []"
   ]
  },
  {
   "cell_type": "markdown",
   "metadata": {},
   "source": [
    "Check if any of the taxa that were considered dubious are not already covered in the list after removing subspecies."
   ]
  },
  {
   "cell_type": "code",
   "execution_count": 13,
   "metadata": {
    "collapsed": false
   },
   "outputs": [
    {
     "name": "stdout",
     "output_type": "stream",
     "text": [
      "Passer montanus saturatus -> Passer montanus\n",
      "Falco tinnunculus interstinctus -> Falco tinnunculus\n",
      "Buteo buteo burmanicus -> Buteo buteo\n",
      "Milvus migrans lineatus -> Milvus migrans\n",
      "Haliaeetus albicilla albicilla -> Haliaeetus albicilla\n",
      "Turdus ruficollis ruficollis -> Turdus ruficollis\n",
      "Pandion haliaetus haliaetus -> Pandion haliaetus\n",
      "Phylloscopus fuscatus robustus -> Phylloscopus fuscatus\n",
      "Phylloscopus fuscatus fuscatus -> Phylloscopus fuscatus\n",
      "Hirundo rustica gutturalis -> Hirundo rustica\n",
      "Loxia leucoptera leucoptera -> Loxia leucoptera\n",
      "Loxia curvirostra minor -> Loxia curvirostra\n",
      "Limosa limosa melanuroides -> Limosa limosa\n",
      "Buteo buteo vulpinus -> Buteo buteo\n",
      "Phylloscopus trochiloides trochiloides -> Phylloscopus trochiloides\n",
      "Poecile montanus baicalensis -> Poecile montanus\n",
      "Oenanthe oenanthe oenanthe -> Oenanthe oenanthe\n",
      "Zoothera dauma aurea -> Zoothera dauma\n",
      "Accipiter gentilis fujiyamae -> Accipiter gentilis\n",
      "Aquila chrysaetos japonica -> Aquila chrysaetos\n",
      "Limosa limosa islandica -> Limosa limosa\n",
      "Numenius phaeopus variegatus -> Numenius phaeopus\n",
      "Dendrocopos major pinetorum -> Dendrocopos major\n",
      "Loxia curvirostra luzonensis -> Loxia curvirostra\n",
      "Turdus naumanni naumanni -> Turdus naumanni\n",
      "Loxia curvirostra himalayensis -> Loxia curvirostra\n",
      "Cygnus columbianus jankowskii -> Cygnus columbianus\n",
      "Oxyura jamaicensis jamaicensis -> Oxyura jamaicensis\n",
      "Gallinago gallinago gallinago -> Gallinago gallinago\n",
      "Loxia curvirostra pusilla -> Loxia curvirostra\n",
      "Loxia leucoptera megaplaga -> Loxia leucoptera\n",
      "Hirundo rustica erythrogaster -> Hirundo rustica\n",
      "Cygnus columbianus bewickii -> Cygnus columbianus\n",
      "Dendrocopos major brevirostris -> Dendrocopos major\n",
      "Seicercus borealis borealis -> Seicercus borealis\n",
      "Dendrocopos minor hortorum -> Dendrocopos minor\n",
      "Phasianus colchicus alaschanicus -> Phasianus colchicus\n",
      "Picus viridis sharpei -> Picus viridis\n",
      "Sylvia atricapilla atricapilla -> Sylvia atricapilla\n",
      "Turdus viscivorus viscivorus -> Turdus viscivorus\n",
      "Zoothera dauma aurea -> Zoothera dauma\n",
      "Phylloscopus fuscatus fuscatus -> Phylloscopus fuscatus\n",
      "Phylloscopus collybita abietinus -> Phylloscopus collybita\n",
      "Thalasseus sandvicensis acuflavidus -> Thalasseus sandvicensis\n",
      "Picus viridis viridis -> Picus viridis\n",
      "Acrocephalus scirpaceus scirpaceus -> Acrocephalus scirpaceus\n",
      "Loxia leucoptera bifasciata -> Loxia leucoptera\n",
      "Haematopus ostralegus finschi -> Haematopus ostralegus\n",
      "Haematopus ostralegus ostralegus -> Haematopus ostralegus\n",
      "Zoothera sibirica davisoni -> Zoothera sibirica\n",
      "Trachemys scripta elegans -> Trachemys scripta\n",
      "Trachemys scripta elegans -> Trachemys scripta\n",
      "Trachemys scripta scripta -> Trachemys scripta\n",
      "Trachemys scripta elegans -> Trachemys scripta\n"
     ]
    }
   ],
   "source": [
    "from collections import defaultdict\n",
    "\n",
    "to_fetch = defaultdict(list)\n",
    "\n",
    "for r in Seqs:\n",
    "    if r.id in recs_to_adjust:\n",
    "        source = [f for f in r.features if f.type == 'source'][0]\n",
    "        adjust_from = source.qualifiers['organism'][0]\n",
    "        adjust_to = \" \".join(adjust_from.split(\" \")[:2])\n",
    "        print \"%s -> %s\" %(adjust_from,adjust_to)\n",
    "        if adjust_to in taxon_to_taxid:\n",
    "            taxon_to_recs[adjust_to].append(r.id)\n",
    "            recs_to_adjust[r.id].append(adjust_to)\n",
    "            recs_to_adjust[r.id].append(taxon_to_taxid[adjust_to])\n",
    "        else:\n",
    "            to_fetch[adjust_to].append(r.id)\n",
    "            recs_to_adjust[r.id].append(adjust_to)"
   ]
  },
  {
   "cell_type": "code",
   "execution_count": 14,
   "metadata": {
    "collapsed": false
   },
   "outputs": [
    {
     "name": "stdout",
     "output_type": "stream",
     "text": [
      "13\n"
     ]
    }
   ],
   "source": [
    "print len(to_fetch)"
   ]
  },
  {
   "cell_type": "code",
   "execution_count": 15,
   "metadata": {
    "collapsed": false
   },
   "outputs": [
    {
     "name": "stdout",
     "output_type": "stream",
     "text": [
      "defaultdict(<type 'list'>, {'Dendrocopos minor': ['KF766041.1'], 'Oenanthe oenanthe': ['EU154491.1'], 'Thalasseus sandvicensis': ['AY631349.1'], 'Turdus ruficollis': ['EU154560.1'], 'Zoothera sibirica': ['EU154578.1'], 'Zoothera dauma': ['KT340629.1', 'EU154573.1'], 'Turdus viscivorus': ['EU154569.1'], 'Loxia leucoptera': ['AF171655.1', 'AF171660.1', 'AF171661.1'], 'Turdus naumanni': ['KJ834096.1'], 'Hirundo rustica': ['KP148840.1', 'KX398931.1'], 'Loxia curvirostra': ['AF171658.1', 'AF171653.1', 'AF171652.1', 'AF171662.1'], 'Seicercus borealis': ['AY635094.1'], 'Oxyura jamaicensis': ['AY747700.1']})\n"
     ]
    }
   ],
   "source": [
    "print to_fetch"
   ]
  },
  {
   "cell_type": "code",
   "execution_count": 16,
   "metadata": {
    "collapsed": false
   },
   "outputs": [
    {
     "name": "stdout",
     "output_type": "stream",
     "text": [
      "Dendrocopos minor\n",
      "1517834\n",
      "Oenanthe oenanthe\n",
      "279966\n",
      "Thalasseus sandvicensis\n",
      "126723\n",
      "Turdus ruficollis\n",
      "411525\n",
      "Zoothera sibirica\n",
      "311352\n",
      "Zoothera dauma\n",
      "36288\n",
      "Turdus viscivorus\n",
      "301543\n",
      "Loxia leucoptera\n",
      "96539\n",
      "Turdus naumanni\n",
      "34940\n",
      "Hirundo rustica\n",
      "43150\n",
      "Loxia curvirostra\n",
      "64802\n",
      "Seicercus borealis\n",
      "36273\n",
      "Oxyura jamaicensis\n",
      "8884\n"
     ]
    }
   ],
   "source": [
    "from Bio import Entrez\n",
    "Entrez.email = \"L.Harper@2015.hull.ac.uk\"\n",
    "\n",
    "for binomial in to_fetch:\n",
    "    print binomial\n",
    "    handle = Entrez.esearch(db=\"Taxonomy\", term=binomial)\n",
    "    record = Entrez.read(handle)\n",
    "    print record[\"IdList\"][0]\n",
    "    taxon_to_taxid[binomial] = record[\"IdList\"][0]\n",
    "    \n",
    "    taxon_to_recs[binomial] = to_fetch[binomial]"
   ]
  },
  {
   "cell_type": "markdown",
   "metadata": {},
   "source": [
    "Update the dictionary that contains binomial name and taxid for every record id with the ones that we have just fetched from NCBI."
   ]
  },
  {
   "cell_type": "code",
   "execution_count": 17,
   "metadata": {
    "collapsed": false
   },
   "outputs": [
    {
     "name": "stdout",
     "output_type": "stream",
     "text": [
      "['KF766041.1']\n",
      "KF766041.1 ['Dendrocopos minor']\n",
      "KF766041.1 ['Dendrocopos minor', '1517834']\n",
      "['EU154491.1']\n",
      "EU154491.1 ['Oenanthe oenanthe']\n",
      "EU154491.1 ['Oenanthe oenanthe', '279966']\n",
      "['AY631349.1']\n",
      "AY631349.1 ['Thalasseus sandvicensis']\n",
      "AY631349.1 ['Thalasseus sandvicensis', '126723']\n",
      "['EU154560.1']\n",
      "EU154560.1 ['Turdus ruficollis']\n",
      "EU154560.1 ['Turdus ruficollis', '411525']\n",
      "['EU154578.1']\n",
      "EU154578.1 ['Zoothera sibirica']\n",
      "EU154578.1 ['Zoothera sibirica', '311352']\n",
      "['KT340629.1', 'EU154573.1']\n",
      "KT340629.1 ['Zoothera dauma']\n",
      "KT340629.1 ['Zoothera dauma', '36288']\n",
      "EU154573.1 ['Zoothera dauma']\n",
      "EU154573.1 ['Zoothera dauma', '36288']\n",
      "['EU154569.1']\n",
      "EU154569.1 ['Turdus viscivorus']\n",
      "EU154569.1 ['Turdus viscivorus', '301543']\n",
      "['AF171655.1', 'AF171660.1', 'AF171661.1']\n",
      "AF171655.1 ['Loxia leucoptera']\n",
      "AF171655.1 ['Loxia leucoptera', '96539']\n",
      "AF171660.1 ['Loxia leucoptera']\n",
      "AF171660.1 ['Loxia leucoptera', '96539']\n",
      "AF171661.1 ['Loxia leucoptera']\n",
      "AF171661.1 ['Loxia leucoptera', '96539']\n",
      "['KJ834096.1']\n",
      "KJ834096.1 ['Turdus naumanni']\n",
      "KJ834096.1 ['Turdus naumanni', '34940']\n",
      "['KP148840.1', 'KX398931.1']\n",
      "KP148840.1 ['Hirundo rustica']\n",
      "KP148840.1 ['Hirundo rustica', '43150']\n",
      "KX398931.1 ['Hirundo rustica']\n",
      "KX398931.1 ['Hirundo rustica', '43150']\n",
      "['AF171658.1', 'AF171653.1', 'AF171652.1', 'AF171662.1']\n",
      "AF171658.1 ['Loxia curvirostra']\n",
      "AF171658.1 ['Loxia curvirostra', '64802']\n",
      "AF171653.1 ['Loxia curvirostra']\n",
      "AF171653.1 ['Loxia curvirostra', '64802']\n",
      "AF171652.1 ['Loxia curvirostra']\n",
      "AF171652.1 ['Loxia curvirostra', '64802']\n",
      "AF171662.1 ['Loxia curvirostra']\n",
      "AF171662.1 ['Loxia curvirostra', '64802']\n",
      "['AY635094.1']\n",
      "AY635094.1 ['Seicercus borealis']\n",
      "AY635094.1 ['Seicercus borealis', '36273']\n",
      "['AY747700.1']\n",
      "AY747700.1 ['Oxyura jamaicensis']\n",
      "AY747700.1 ['Oxyura jamaicensis', '8884']\n"
     ]
    }
   ],
   "source": [
    "for sp in to_fetch:\n",
    "    print to_fetch[sp]\n",
    "    for r in to_fetch[sp]:\n",
    "        print r,recs_to_adjust[r]\n",
    "        recs_to_adjust[r].append(taxon_to_taxid[recs_to_adjust[r][0]])\n",
    "        print r,recs_to_adjust[r]"
   ]
  },
  {
   "cell_type": "markdown",
   "metadata": {},
   "source": [
    "Modify the records (if necessary) - adjust subspecies to species."
   ]
  },
  {
   "cell_type": "code",
   "execution_count": 18,
   "metadata": {
    "collapsed": false
   },
   "outputs": [
    {
     "name": "stdout",
     "output_type": "stream",
     "text": [
      "adjusting KM577704.1\n",
      "Passer montanus saturatus\t->\tPasser montanus\n",
      "adjusting AB219557.1\n",
      "Falco tinnunculus interstinctus\t->\tFalco tinnunculus\n",
      "adjusting KM364882.1\n",
      "Buteo buteo burmanicus\t->\tButeo buteo\n",
      "adjusting AB219546.1\n",
      "Milvus migrans lineatus\t->\tMilvus migrans\n",
      "adjusting AB219552.1\n",
      "Haliaeetus albicilla albicilla\t->\tHaliaeetus albicilla\n",
      "adjusting EU154560.1\n",
      "Turdus ruficollis ruficollis\t->\tTurdus ruficollis\n",
      "adjusting AB219554.1\n",
      "Pandion haliaetus haliaetus\t->\tPandion haliaetus\n",
      "adjusting JF505332.1\n",
      "Phylloscopus fuscatus robustus\t->\tPhylloscopus fuscatus\n",
      "adjusting JF505330.1\n",
      "Phylloscopus fuscatus fuscatus\t->\tPhylloscopus fuscatus\n",
      "adjusting KP148840.1\n",
      "Hirundo rustica gutturalis\t->\tHirundo rustica\n",
      "adjusting AF171655.1\n",
      "Loxia leucoptera leucoptera\t->\tLoxia leucoptera\n",
      "adjusting AF171658.1\n",
      "Loxia curvirostra minor\t->\tLoxia curvirostra\n",
      "adjusting JQ962991.1\n",
      "Limosa limosa melanuroides\t->\tLimosa limosa\n",
      "adjusting AF202187.1\n",
      "Buteo buteo vulpinus\t->\tButeo buteo\n",
      "adjusting AY903609.1\n",
      "Phylloscopus trochiloides trochiloides\t->\tPhylloscopus trochiloides\n",
      "adjusting KX388479.1\n",
      "Poecile montanus baicalensis\t->\tPoecile montanus\n",
      "adjusting EU154491.1\n",
      "Oenanthe oenanthe oenanthe\t->\tOenanthe oenanthe\n",
      "adjusting KT340629.1\n",
      "Zoothera dauma aurea\t->\tZoothera dauma\n",
      "adjusting AB219551.1\n",
      "Accipiter gentilis fujiyamae\t->\tAccipiter gentilis\n",
      "adjusting AB219549.1\n",
      "Aquila chrysaetos japonica\t->\tAquila chrysaetos\n",
      "adjusting JQ962990.1\n",
      "Limosa limosa islandica\t->\tLimosa limosa\n",
      "adjusting JQ962996.1\n",
      "Numenius phaeopus variegatus\t->\tNumenius phaeopus\n",
      "adjusting KF766048.1\n",
      "Dendrocopos major pinetorum\t->\tDendrocopos major\n",
      "adjusting AF171653.1\n",
      "Loxia curvirostra luzonensis\t->\tLoxia curvirostra\n",
      "adjusting KJ834096.1\n",
      "Turdus naumanni naumanni\t->\tTurdus naumanni\n",
      "adjusting AF171652.1\n",
      "Loxia curvirostra himalayensis\t->\tLoxia curvirostra\n",
      "adjusting KF800698.1\n",
      "Cygnus columbianus jankowskii\t->\tCygnus columbianus\n",
      "adjusting AY747700.1\n",
      "Oxyura jamaicensis jamaicensis\t->\tOxyura jamaicensis\n",
      "adjusting FJ603666.1\n",
      "Gallinago gallinago gallinago\t->\tGallinago gallinago\n",
      "adjusting AF171662.1\n",
      "Loxia curvirostra pusilla\t->\tLoxia curvirostra\n",
      "adjusting AF171660.1\n",
      "Loxia leucoptera megaplaga\t->\tLoxia leucoptera\n",
      "adjusting KX398931.1\n",
      "Hirundo rustica erythrogaster\t->\tHirundo rustica\n",
      "adjusting JQ282800.1\n",
      "Cygnus columbianus bewickii\t->\tCygnus columbianus\n",
      "adjusting KF766047.1\n",
      "Dendrocopos major brevirostris\t->\tDendrocopos major\n",
      "adjusting AY635094.1\n",
      "Seicercus borealis borealis\t->\tSeicercus borealis\n",
      "adjusting KF766041.1\n",
      "Dendrocopos minor hortorum\t->\tDendrocopos minor\n",
      "adjusting KU049722.1\n",
      "Phasianus colchicus alaschanicus\t->\tPhasianus colchicus\n",
      "adjusting KF766027.1\n",
      "Picus viridis sharpei\t->\tPicus viridis\n",
      "adjusting AY635139.1\n",
      "Sylvia atricapilla atricapilla\t->\tSylvia atricapilla\n",
      "adjusting EU154569.1\n",
      "Turdus viscivorus viscivorus\t->\tTurdus viscivorus\n",
      "adjusting EU154573.1\n",
      "Zoothera dauma aurea\t->\tZoothera dauma\n",
      "adjusting AY635097.1\n",
      "Phylloscopus fuscatus fuscatus\t->\tPhylloscopus fuscatus\n",
      "adjusting AY635095.1\n",
      "Phylloscopus collybita abietinus\t->\tPhylloscopus collybita\n",
      "adjusting AY631349.1\n",
      "Thalasseus sandvicensis acuflavidus\t->\tThalasseus sandvicensis\n",
      "adjusting KF766026.1\n",
      "Picus viridis viridis\t->\tPicus viridis\n",
      "adjusting AY635092.1\n",
      "Acrocephalus scirpaceus scirpaceus\t->\tAcrocephalus scirpaceus\n",
      "adjusting AF171661.1\n",
      "Loxia leucoptera bifasciata\t->\tLoxia leucoptera\n",
      "adjusting EF514931.1\n",
      "Haematopus ostralegus finschi\t->\tHaematopus ostralegus\n",
      "adjusting EF514932.1\n",
      "Haematopus ostralegus ostralegus\t->\tHaematopus ostralegus\n",
      "adjusting EU154578.1\n",
      "Zoothera sibirica davisoni\t->\tZoothera sibirica\n",
      "adjusting HQ442366.1\n",
      "Trachemys scripta elegans\t->\tTrachemys scripta\n",
      "adjusting GU477770.1\n",
      "Trachemys scripta elegans\t->\tTrachemys scripta\n",
      "adjusting KM216749.1\n",
      "Trachemys scripta scripta\t->\tTrachemys scripta\n",
      "adjusting KM216748.1\n",
      "Trachemys scripta elegans\t->\tTrachemys scripta\n"
     ]
    }
   ],
   "source": [
    "for r in Seqs:\n",
    "    if r.id in recs_to_adjust:\n",
    "        print \"adjusting %s\" %r.id\n",
    "        source = r.features[0]\n",
    "        print \"%s\\t->\\t%s\" %(source.qualifiers['organism'][0],recs_to_adjust[r.id][0])\n",
    "        source = r.features[0]\n",
    "        source.qualifiers['organism'] = [recs_to_adjust[r.id][0]]\n",
    "        for i in range(len(source.qualifiers['db_xref'])):\n",
    "            if 'taxon' in source.qualifiers['db_xref'][i]:\n",
    "                source.qualifiers['db_xref'][i] = \"taxon:\"+recs_to_adjust[r.id][1]\n",
    "        if not 'note' in source.qualifiers:\n",
    "            source.qualifiers['note'] = ['modified from original record: adjusted to species']\n",
    "        else:\n",
    "            source.qualifiers['note'].append('modified from original record: adjusted to species')\n",
    "#        print r.format('genbank')       \n",
    "#    print r,recs_to_adjust[r]"
   ]
  },
  {
   "cell_type": "markdown",
   "metadata": {},
   "source": [
    "Write only good records with all metadata in Genbank format."
   ]
  },
  {
   "cell_type": "code",
   "execution_count": 19,
   "metadata": {
    "collapsed": true
   },
   "outputs": [],
   "source": [
    "from Bio import SeqIO\n",
    "       \n",
    "out = open('../12S_UKbirds_SATIVA_cleaned.gb','w')\n",
    "SeqIO.write(Seqs, out, \"genbank\")\n",
    "out.close()"
   ]
  },
  {
   "cell_type": "markdown",
   "metadata": {},
   "source": [
    "Exclude the records that were highlighted by SATIVA. Then realign and rebuild phylogeny."
   ]
  },
  {
   "cell_type": "code",
   "execution_count": 20,
   "metadata": {
    "collapsed": true
   },
   "outputs": [],
   "source": [
    "pj.exclude(start_from_max=False, **recs_to_drop)"
   ]
  },
  {
   "cell_type": "code",
   "execution_count": 21,
   "metadata": {
    "collapsed": false
   },
   "outputs": [
    {
     "name": "stdout",
     "output_type": "stream",
     "text": [
      "Total number of records: 622\n",
      "Number of species (see below for full list): 372\n",
      "['Abrornis humei', 'Abrornis inornata', 'Abrornis proregulus', 'Acanthis flammea', 'Acanthis hornemanni', 'Accipiter gentilis', 'Accipiter nisus', 'Acrocephalus aedon', 'Acrocephalus arundinaceus', 'Acrocephalus dumetorum', 'Acrocephalus scirpaceus', 'Actitis hypoleucos', 'Actitis macularia', 'Aegithalos caudatus', 'Aegolius acadicus', 'Aix galericulata', 'Alauda arvensis', 'Alca torda', 'Alectoris rufa', 'Alle alle', 'Alopochen aegyptiacus', 'Anas acuta', 'Anas carolinensis', 'Anas clypeata', 'Anas crecca', 'Anas discors', 'Anas formosa', 'Anas platyrhynchos', 'Anas querquedula', 'Anser albifrons', 'Anser anser', 'Anser fabalis', 'Apus affinis', 'Apus apus', 'Apus pacificus', 'Apus pallidus', 'Aquila chrysaetos', 'Ardea alba', 'Ardea cinerea', 'Ardea purpurea', 'Ardeola bacchus', 'Arenaria interpres', 'Asio flammeus', 'Asio otus', 'Aythya americana', 'Aythya ferina', 'Aythya fuligula', 'Bartramia longicauda', 'Bombycilla cedrorum', 'Bombycilla garrulus', 'Botaurus lentiginosus', 'Botaurus stellaris', 'Brachyramphus perdix', 'Branta bernicla', 'Branta canadensis', 'Bubo virginianus', 'Bubulcus ibis', 'Bucephala clangula', 'Burhinus bistriatus', 'Burhinus grallarius', 'Burhinus senegalensis', 'Burhinus vermiculatus', 'Buteo buteo', 'Buteo lagopus', 'Calidris acuminata', 'Calidris alba', 'Calidris alpina', 'Calidris bairdii', 'Calidris canutus', 'Calidris ferruginea', 'Calidris fuscicollis', 'Calidris himantopus', 'Calidris maritima', 'Calidris mauri', 'Calidris melanotos', 'Calidris minuta', 'Calidris minutilla', 'Calidris pugnax', 'Calidris pusilla', 'Calidris ruficollis', 'Calidris subminuta', 'Calidris temminckii', 'Calidris tenuirostris', 'Calliope calliope', 'Calonectris diomedea', 'Caprimulgus vociferus', 'Carduelis carduelis', 'Carpodacus erythrinus', 'Catharus guttatus', 'Cecropis daurica', 'Cepphus grylle', 'Chaetura pelagica', 'Charadrius morinellus', 'Charadrius semipalmatus', 'Charadrius vociferus', 'Chlidonias hybridus', 'Chlidonias leucopterus', 'Chlidonias niger', 'Chordeiles minor', 'Chroicocephalus ridibundus', 'Chrysolophus pictus', 'Ciconia ciconia', 'Ciconia nigra', 'Circaetus gallicus', 'Circus aeruginosus', 'Circus cyaneus', 'Cisticola cantans', 'Cisticola fulvicapilla', 'Coccothraustes coccothraustes', 'Coccyzus americanus', 'Coccyzus erythropthalmus', 'Columba livia', 'Columba oenas', 'Columba palumbus', 'Corvus corone', 'Corvus frugilegus', 'Coturnix coturnix', 'Cursorius temminckii', 'Cygnus columbianus', 'Cygnus cygnus', 'Cygnus olor', 'Dendrocopos major', 'Dendrocopos minor', 'Dumetella carolinensis', 'Dupetor flavicollis', 'Egretta eulophotes', 'Egretta garzetta', 'Emberiza chrysophrys', 'Emberiza citrinella', 'Emberiza pusilla', 'Eremophila alpestris', 'Erithacus rubecula', 'Falco columbarius', 'Falco naumanni', 'Falco peregrinus', 'Falco rusticolus', 'Falco sparverius', 'Falco subbuteo', 'Falco tinnunculus', 'Ficedula albicollis', 'Fratercula arctica', 'Fregata aquila', 'Fregata magnificens', 'Fringilla coelebs', 'Fringilla montifringilla', 'Fulica americana', 'Fulica atra', 'Gallinago gallinago', 'Gallinago media', 'Gallinula chloropus', 'Garrulus glandarius', 'Gavia adamsii', 'Gavia arctica', 'Gavia immer', 'Gavia pacifica', 'Gavia stellata', 'Gelochelidon nilotica', 'Geothlypis trichas', 'Glareola maldivarum', 'Glareola pratincola', 'Grus canadensis', 'Grus grus', 'Gymnoris dentata', 'Haematopus ostralegus', 'Haliaeetus albicilla', 'Hesperiphona vespertina', 'Himantopus mexicanus', 'Hippolais polyglotta', 'Hirundapus caudacutus', 'Hirundo rustica', 'Histrionicus histrionicus', 'Hydroprogne caspia', 'Hylocichla mustelina', 'Ixobrychus cinnamomeus', 'Ixobrychus sinensis', 'Ixoreus naevius', 'Jynx torquilla', 'Lacerta agilis', 'Lagopus lagopus', 'Lagopus muta', 'Lanius collurio', 'Lanius cristatus', 'Lanius isabellinus', 'Lanius schach', 'Lanius senator', 'Larus atricilla', 'Larus delawarensis', 'Larus glaucoides', 'Limicola falcinellus', 'Limnodromus griseus', 'Limnodromus scolopaceus', 'Limosa haemastica', 'Limosa lapponica', 'Limosa limosa', 'Locustella ochotensis', 'Loxia curvirostra', 'Loxia leucoptera', 'Loxia pytyopsittacus', 'Luscinia cyanura', 'Lymnocryptes minimus', 'Lyrurus tetrix', 'Mareca americana', 'Mareca penelope', 'Mareca strepera', 'Megaceryle alcyon', 'Mergellus albellus', 'Mergus merganser', 'Merops nubicus', 'Merops viridis', 'Milvus migrans', 'Mimus polyglottos', 'Motacilla alba', 'Motacilla cinerea', 'Muscicapa striata', 'Neophron percnopterus', 'Netta rufina', 'Nucifraga columbiana', 'Numenius arquata', 'Numenius hudsonicus', 'Numenius minutus', 'Numenius phaeopus', 'Nycticorax nycticorax', 'Oenanthe oenanthe', 'Oenanthe pleschanka', 'Onychoprion aleuticus', 'Onychoprion anaethetus', 'Onychoprion fuscatus', 'Oriolus auratus', 'Oriolus chinensis', 'Otis tarda', 'Otus scops', 'Oxyura jamaicensis', 'Pagophila eburnea', 'Pandion haliaetus', 'Panurus biarmicus', 'Parus major', 'Passer domesticus', 'Passer montanus', 'Passerina cyanea', 'Pelagodroma marina', 'Pelecanus crispus', 'Pelecanus onocrotalus', 'Perdix perdix', 'Periparus ater', 'Pernis apivorus', 'Phalaropus fulicaria', 'Phalaropus lobatus', 'Phalaropus tricolor', 'Phasianus colchicus', 'Pheucticus ludovicianus', 'Phoenicopterus roseus', 'Phoenicopterus ruber', 'Phoenicurus auroreus', 'Phylloscopus bonelli', 'Phylloscopus collybita', 'Phylloscopus coronatus', 'Phylloscopus fuscatus', 'Phylloscopus orientalis', 'Phylloscopus trochiloides', 'Phylloscopus trochilus', 'Pica pica', 'Picus viridis', 'Pinicola enucleator', 'Pipilo erythrophthalmus', 'Piranga olivacea', 'Piranga rubra', 'Platalea leucorodia', 'Plectrophenax nivalis', 'Plegadis falcinellus', 'Pluvialis dominica', 'Pluvialis squatarola', 'Podiceps auritus', 'Podiceps cristatus', 'Podiceps nigricollis', 'Poecile montanus', 'Poecile palustris', 'Porphyrio alleni', 'Porphyrio martinica', 'Porzana carolina', 'Progne chalybea', 'Prunella modularis', 'Prunella montanella', 'Psittacula krameri', 'Pterodroma hasitata', 'Pterodroma heraldica', 'Puffinus gravis', 'Puffinus griseus', 'Pyrrhocorax pyrrhocorax', 'Pyrrhula pyrrhula', 'Recurvirostra avosetta', 'Regulus regulus', 'Regulus satrapa', 'Remiz consobrinus', 'Rhodostethia rosea', 'Rissa tridactyla', 'Sayornis phoebe', 'Schoeniclus aureolus', 'Schoeniclus rusticus', 'Schoeniclus spodocephala', 'Scolopax rusticola', 'Seicercus borealis', 'Seiurus aurocapilla', 'Serinus serinus', 'Sitta europaea', 'Somateria fischeri', 'Sphyrapicus varius', 'Spinus spinus', 'Stercorarius longicaudus', 'Stercorarius pomarinus', 'Stercorarius skua', 'Sterna bengalensis', 'Sterna dougallii', 'Sterna forsteri', 'Sterna hirundo', 'Sterna paradisaea', 'Sternula albifrons', 'Streptopelia capicola', 'Streptopelia orientalis', 'Strix varia', 'Sturnus vulgaris', 'Sylvia atricapilla', 'Sylvia cantillans', 'Sylvia curruca', 'Sylvia melanocephala', 'Synthliboramphus antiquus', 'Syrrhaptes paradoxus', 'Tachybaptus ruficollis', 'Tachycineta bicolor', 'Tachymarptis melba', 'Tadorna ferruginea', 'Tadorna tadorna', 'Tetrao urogallus', 'Tetrax tetrax', 'Thalassarche melanophrys', 'Thalasseus maximus', 'Thalasseus sandvicensis', 'Trachemys scripta', 'Tringa brevipes', 'Tringa erythropus', 'Tringa flavipes', 'Tringa glareola', 'Tringa melanoleuca', 'Tringa nebularia', 'Tringa ochropus', 'Tringa solitaria', 'Tringa stagnatilis', 'Tringa totanus', 'Troglodytes troglodytes', 'Tryngites subruficollis', 'Turdus merula', 'Turdus migratorius', 'Turdus naumanni', 'Turdus obscurus', 'Turdus philomelos', 'Turdus pilaris', 'Turdus ruficollis', 'Turdus viscivorus', 'Tyto alba', 'Upupa epops', 'Uria aalge', 'Uria lomvia', 'Vanellus chilensis', 'Vanellus cinereus', 'Vanellus resplendens', 'Vanellus vanellus', 'Vipera berus', 'Vireo olivaceus', 'Xema sabini', 'Xenus cinereus', 'Zenaida macroura', 'Zoothera dauma', 'Zoothera sibirica']\n"
     ]
    }
   ],
   "source": [
    "species=[]\n",
    "for r in pj.records:\n",
    "    if r.id in recs_to_keep['rrnS']:\n",
    "        source = [f for f in r.features if f.type == 'source'][0]\n",
    "        species.append(\" \".join(source.qualifiers['organism'][0].split()[0:2]))\n",
    "    \n",
    "#print set(species)\n",
    "total=len(species)\n",
    "species=list(set(species))\n",
    "\n",
    "print \"Total number of records: %i\" %total\n",
    "print \"Number of species (see below for full list): %i\" %len(species)\n",
    "print sorted(species)"
   ]
  },
  {
   "cell_type": "markdown",
   "metadata": {},
   "source": [
    "Write short 12S rRNA sequences (< 500bp) to fasta file to build new alignment outside Reprophylo later in script using hmmbuild. The Hidden Markov Model alignment will include all 12S rRNA sequences - short and long."
   ]
  },
  {
   "cell_type": "code",
   "execution_count": 22,
   "metadata": {
    "collapsed": false
   },
   "outputs": [
    {
     "name": "stdout",
     "output_type": "stream",
     "text": [
      "Total number of records: 130\n"
     ]
    }
   ],
   "source": [
    "temp_seq = []\n",
    "\n",
    "for r in pj.records_by_locus['rrnS']:\n",
    "    if len(r.seq) < 500:\n",
    "        temp_seq.append(r)\n",
    "        \n",
    "total = len(temp_seq)\n",
    "print \"Total number of records: %i\" %total\n",
    "\n",
    "from Bio import SeqIO\n",
    "\n",
    "out=open('bird_short_to_align_SATIVA.fasta','w')\n",
    "SeqIO.write(temp_seq, out, 'fasta')\n",
    "out.close()"
   ]
  },
  {
   "cell_type": "markdown",
   "metadata": {},
   "source": [
    "# Filter by Length"
   ]
  },
  {
   "cell_type": "markdown",
   "metadata": {},
   "source": [
    "Write cropped records (minimum length of 500bp) to fasta and Genbank file."
   ]
  },
  {
   "cell_type": "code",
   "execution_count": 23,
   "metadata": {
    "collapsed": true
   },
   "outputs": [],
   "source": [
    "from Bio import SeqIO\n",
    "\n",
    "temp=[]\n",
    "for r in pj.records:\n",
    "    if len(r.seq) >= 500:\n",
    "        temp.append(r)\n",
    "\n",
    "out = open('bird12S_cropped_500bp_SATIVA.gb', 'w')\n",
    "SeqIO.write(temp, out, 'genbank')\n",
    "out.close()\n",
    "\n",
    "out = open('bird12S_cropped_500bp_SATIVA.fa', 'w')\n",
    "SeqIO.write(temp, out, 'fasta')\n",
    "out.close()\n",
    "\n",
    "\n",
    "del(temp)"
   ]
  },
  {
   "cell_type": "markdown",
   "metadata": {},
   "source": [
    "Now view records in cropped genbank file."
   ]
  },
  {
   "cell_type": "code",
   "execution_count": 24,
   "metadata": {
    "collapsed": false
   },
   "outputs": [
    {
     "name": "stdout",
     "output_type": "stream",
     "text": [
      "index 0, ID = LC012932.1, length 651, with 2 features\n",
      "index 1, ID = AY894140.1, length 557, with 2 features\n",
      "index 2, ID = EF532932.1, length 970, with 2 features\n",
      "index 3, ID = DQ674556.1, length 966, with 2 features\n",
      "index 4, ID = KJ190955.1, length 976, with 2 features\n",
      "index 5, ID = KP184518.1, length 987, with 2 features\n",
      "index 6, ID = KJ643141.1, length 971, with 2 features\n",
      "index 7, ID = AF173576.1, length 973, with 2 features\n",
      "index 8, ID = DQ674554.1, length 970, with 2 features\n",
      "index 9, ID = KC463856.1, length 980, with 2 features\n",
      "index 10, ID = KM577704.1, length 979, with 2 features\n",
      "index 11, ID = HQ852938.1, length 537, with 2 features\n",
      "index 12, ID = KJ909198.1, length 973, with 2 features\n",
      "index 13, ID = AF407141.1, length 972, with 2 features\n",
      "index 14, ID = EU167074.1, length 972, with 2 features\n",
      "index 15, ID = AM902522.1, length 724, with 2 features\n",
      "index 16, ID = AY631324.1, length 688, with 2 features\n",
      "index 17, ID = HQ852942.1, length 531, with 2 features\n",
      "index 18, ID = AB219557.1, length 947, with 2 features\n",
      "index 19, ID = KM364882.1, length 971, with 2 features\n",
      "index 20, ID = KM251414.1, length 916, with 2 features\n",
      "index 21, ID = AF173565.1, length 975, with 2 features\n",
      "index 22, ID = KP757766.1, length 967, with 2 features\n",
      "index 23, ID = AY164523.1, length 991, with 2 features\n",
      "index 24, ID = DQ674562.1, length 975, with 2 features\n",
      "index 25, ID = HQ852932.1, length 526, with 2 features\n",
      "index 26, ID = AJ242686.1, length 968, with 2 features\n",
      "index 27, ID = KM264304.1, length 979, with 2 features\n",
      "index 28, ID = DQ485826.1, length 977, with 2 features\n",
      "index 29, ID = AY136561.1, length 976, with 2 features\n",
      "index 30, ID = KX230491.1, length 969, with 2 features\n",
      "index 31, ID = EU167052.1, length 967, with 2 features\n",
      "index 32, ID = KJ190954.1, length 973, with 2 features\n",
      "index 33, ID = EU167054.1, length 972, with 2 features\n",
      "index 34, ID = KJ190952.1, length 977, with 2 features\n",
      "index 35, ID = AF173577.1, length 976, with 2 features\n",
      "index 36, ID = AF407088.1, length 973, with 2 features\n",
      "index 37, ID = AF173571.1, length 972, with 2 features\n",
      "index 38, ID = AY164515.1, length 997, with 2 features\n",
      "index 39, ID = KM873665.1, length 978, with 2 features\n",
      "index 40, ID = AF407139.1, length 976, with 2 features\n",
      "index 41, ID = AY894144.1, length 557, with 2 features\n",
      "index 42, ID = AF447246.1, length 858, with 2 features\n",
      "index 43, ID = KJ190950.1, length 971, with 2 features\n",
      "index 44, ID = AJ242684.1, length 971, with 2 features\n",
      "index 45, ID = KT809406.1, length 961, with 2 features\n",
      "index 46, ID = U83757.1, length 981, with 2 features\n",
      "index 47, ID = KP306517.1, length 973, with 2 features\n",
      "index 48, ID = AY164521.1, length 991, with 2 features\n",
      "index 49, ID = AY894142.1, length 556, with 2 features\n",
      "index 50, ID = AM902516.1, length 716, with 2 features\n",
      "index 51, ID = EU167057.1, length 968, with 2 features\n",
      "index 52, ID = KM078789.1, length 972, with 2 features\n",
      "index 53, ID = HQ852926.1, length 533, with 2 features\n",
      "index 54, ID = EF373114.2, length 550, with 2 features\n",
      "index 55, ID = AM902520.1, length 714, with 2 features\n",
      "index 56, ID = JF730435.1, length 984, with 2 features\n",
      "index 57, ID = AY136575.1, length 981, with 2 features\n",
      "index 58, ID = KM078781.1, length 976, with 2 features\n",
      "index 59, ID = AY164519.1, length 986, with 2 features\n",
      "index 60, ID = NC_011818.1, length 971, with 2 features\n",
      "index 61, ID = AB219546.1, length 939, with 2 features\n",
      "index 62, ID = AF447250.1, length 859, with 2 features\n",
      "index 63, ID = AF447248.1, length 858, with 2 features\n",
      "index 64, ID = EF373080.2, length 555, with 2 features\n",
      "index 65, ID = JX486030.1, length 981, with 2 features\n",
      "index 66, ID = KF684946.1, length 982, with 2 features\n",
      "index 67, ID = AY894148.1, length 555, with 2 features\n",
      "index 68, ID = DQ485828.1, length 970, with 2 features\n",
      "index 69, ID = AJ242688.1, length 968, with 2 features\n",
      "index 70, ID = U83716.1, length 972, with 2 features\n",
      "index 71, ID = AY136582.1, length 982, with 2 features\n",
      "index 72, ID = AF407098.1, length 977, with 2 features\n",
      "index 73, ID = HQ852928.1, length 536, with 2 features\n",
      "index 74, ID = AF407103.1, length 974, with 2 features\n",
      "index 75, ID = AY894152.1, length 554, with 2 features\n",
      "index 76, ID = AB219552.1, length 940, with 2 features\n",
      "index 77, ID = AF407094.1, length 977, with 2 features\n",
      "index 78, ID = AF407092.1, length 979, with 2 features\n",
      "index 79, ID = EF373101.2, length 543, with 2 features\n",
      "index 80, ID = AY894154.1, length 559, with 2 features\n",
      "index 81, ID = EU167085.1, length 969, with 2 features\n",
      "index 82, ID = U83714.2, length 970, with 2 features\n",
      "index 83, ID = JQ520019.1, length 994, with 2 features\n",
      "index 84, ID = AY631325.1, length 708, with 2 features\n",
      "index 85, ID = KT350612.1, length 967, with 2 features\n",
      "index 86, ID = KM360148.1, length 971, with 2 features\n",
      "index 87, ID = AY894150.1, length 555, with 2 features\n",
      "index 88, ID = KX388478.1, length 985, with 2 features\n",
      "index 89, ID = AB219554.1, length 940, with 2 features\n",
      "index 90, ID = JF505332.1, length 783, with 2 features\n",
      "index 91, ID = JQ322641.1, length 973, with 2 features\n",
      "index 92, ID = HQ915867.1, length 979, with 2 features\n",
      "index 93, ID = JF505330.1, length 576, with 2 features\n",
      "index 94, ID = AY894146.1, length 557, with 2 features\n",
      "index 95, ID = KT004451.1, length 975, with 2 features\n",
      "index 96, ID = AP009190.1, length 977, with 2 features\n",
      "index 97, ID = AF173567.1, length 968, with 2 features\n",
      "index 98, ID = KC831775.1, length 976, with 2 features\n",
      "index 99, ID = EU196361.1, length 978, with 2 features\n",
      "index 100, ID = AY074885.2, length 970, with 2 features\n",
      "index 101, ID = KT364526.1, length 966, with 2 features\n",
      "index 102, ID = KP148840.1, length 971, with 2 features\n",
      "index 103, ID = AF171655.1, length 974, with 2 features\n",
      "index 104, ID = AF171658.1, length 974, with 2 features\n",
      "index 105, ID = EF380264.2, length 552, with 2 features\n",
      "index 106, ID = AY136563.1, length 979, with 2 features\n",
      "index 107, ID = EU372667.2, length 973, with 2 features\n",
      "index 108, ID = KF041199.1, length 624, with 2 features\n",
      "index 109, ID = KP889214.1, length 990, with 2 features\n",
      "index 110, ID = AY894155.1, length 550, with 2 features\n",
      "index 111, ID = AY940754.1, length 974, with 2 features\n",
      "index 112, ID = KJ913674.1, length 972, with 2 features\n",
      "index 113, ID = AF407145.1, length 973, with 2 features\n",
      "index 114, ID = HQ852940.1, length 552, with 2 features\n",
      "index 115, ID = KT340630.1, length 983, with 2 features\n",
      "index 116, ID = GQ240309.1, length 973, with 2 features\n",
      "index 117, ID = DQ674587.1, length 975, with 2 features\n",
      "index 118, ID = AP009042.1, length 973, with 2 features\n",
      "index 119, ID = DQ780884.1, length 971, with 2 features\n",
      "index 120, ID = KF041187.1, length 624, with 2 features\n",
      "index 121, ID = AY136558.1, length 978, with 2 features\n",
      "index 122, ID = KF041192.1, length 624, with 2 features\n",
      "index 123, ID = KF041189.1, length 624, with 2 features\n",
      "index 124, ID = KF041190.1, length 624, with 2 features\n",
      "index 125, ID = EU167072.1, length 972, with 2 features\n",
      "index 126, ID = JQ962993.1, length 555, with 2 features\n",
      "index 127, ID = JQ071623.1, length 971, with 2 features\n",
      "index 128, ID = U89224.1, length 926, with 2 features\n",
      "index 129, ID = EF373089.2, length 553, with 2 features\n",
      "index 130, ID = JQ962983.1, length 557, with 2 features\n",
      "index 131, ID = EU072995.1, length 971, with 2 features\n",
      "index 132, ID = EF373111.2, length 552, with 2 features\n",
      "index 133, ID = U83758.1, length 978, with 2 features\n",
      "index 134, ID = KF041181.1, length 624, with 2 features\n",
      "index 135, ID = JQ962991.1, length 550, with 2 features\n",
      "index 136, ID = KF041183.1, length 624, with 2 features\n",
      "index 137, ID = HQ896034.1, length 976, with 2 features\n",
      "index 138, ID = KF041207.1, length 624, with 2 features\n",
      "index 139, ID = KF041196.1, length 624, with 2 features\n",
      "index 140, ID = U89228.1, length 946, with 2 features\n",
      "index 141, ID = JQ962995.1, length 552, with 2 features\n",
      "index 142, ID = EU167047.1, length 975, with 2 features\n",
      "index 143, ID = KF041185.1, length 624, with 2 features\n",
      "index 144, ID = KU158188.1, length 974, with 2 features\n",
      "index 145, ID = KF906246.1, length 971, with 2 features\n",
      "index 146, ID = U89208.1, length 924, with 2 features\n",
      "index 147, ID = KF997864.1, length 983, with 2 features\n",
      "index 148, ID = KJ637997.1, length 985, with 2 features\n",
      "index 149, ID = KT934324.1, length 973, with 2 features\n",
      "index 150, ID = HM063557.1, length 989, with 2 features\n",
      "index 151, ID = KF041205.1, length 624, with 2 features\n",
      "index 152, ID = KJ909193.1, length 972, with 2 features\n",
      "index 153, ID = KC545406.1, length 974, with 2 features\n",
      "index 154, ID = AF090337.1, length 982, with 2 features\n",
      "index 155, ID = FJ752430.1, length 966, with 2 features\n",
      "index 156, ID = AF173572.1, length 973, with 2 features\n",
      "index 157, ID = KJ192197.1, length 971, with 2 features\n",
      "index 158, ID = HQ690247.1, length 971, with 2 features\n",
      "index 159, ID = FN675611.1, length 647, with 2 features\n",
      "index 160, ID = JQ922259.1, length 974, with 2 features\n",
      "index 161, ID = KF041203.1, length 624, with 2 features\n",
      "index 162, ID = EU167070.1, length 963, with 2 features\n",
      "index 163, ID = EU167051.1, length 974, with 2 features\n",
      "index 164, ID = KM577158.1, length 973, with 2 features\n",
      "index 165, ID = EF373325.1, length 696, with 2 features\n",
      "index 166, ID = KF041198.1, length 624, with 2 features\n",
      "index 167, ID = EF373115.2, length 542, with 2 features\n",
      "index 168, ID = HQ896036.1, length 969, with 2 features\n",
      "index 169, ID = EF373092.2, length 553, with 2 features\n",
      "index 170, ID = EF373319.1, length 698, with 2 features\n",
      "index 171, ID = KC407232.1, length 976, with 2 features\n",
      "index 172, ID = AF173578.1, length 979, with 2 features\n",
      "index 173, ID = KJ190959.1, length 972, with 2 features\n",
      "index 174, ID = DQ674579.1, length 970, with 2 features\n",
      "index 175, ID = EU167055.1, length 963, with 2 features\n",
      "index 176, ID = KC466568.1, length 983, with 2 features\n",
      "index 177, ID = FJ752434.1, length 969, with 2 features\n",
      "index 178, ID = KJ190949.1, length 971, with 2 features\n",
      "index 179, ID = U89214.1, length 926, with 2 features\n",
      "index 180, ID = DQ385269.1, length 721, with 2 features\n",
      "index 181, ID = KF293721.1, length 983, with 2 features\n",
      "index 182, ID = FJ751803.1, length 969, with 2 features\n",
      "index 183, ID = AM902515.1, length 717, with 2 features\n",
      "index 184, ID = AF173568.1, length 970, with 2 features\n",
      "index 185, ID = AF407140.1, length 976, with 2 features\n",
      "index 186, ID = EU167037.1, length 973, with 2 features\n",
      "index 187, ID = U83717.1, length 963, with 2 features\n",
      "index 188, ID = KF509923.1, length 976, with 2 features\n",
      "index 189, ID = AF484936.1, length 646, with 2 features\n",
      "index 190, ID = AY164520.1, length 984, with 2 features\n",
      "index 191, ID = AM902517.1, length 722, with 2 features\n",
      "index 192, ID = HQ852927.1, length 523, with 2 features\n",
      "index 193, ID = AM902519.1, length 732, with 2 features\n",
      "index 194, ID = FN675609.1, length 646, with 2 features\n",
      "index 195, ID = AY465753.1, length 973, with 2 features\n",
      "index 196, ID = KC771255.1, length 986, with 2 features\n",
      "index 197, ID = GQ264621.1, length 972, with 2 features\n",
      "index 198, ID = AY136574.1, length 980, with 2 features\n",
      "index 199, ID = KT182929.1, length 970, with 2 features\n",
      "index 200, ID = KF041191.1, length 624, with 2 features\n",
      "index 201, ID = KP313718.1, length 972, with 2 features\n",
      "index 202, ID = AY631323.1, length 705, with 2 features\n",
      "index 203, ID = AM902521.1, length 725, with 2 features\n",
      "index 204, ID = AY274007.1, length 974, with 2 features\n",
      "index 205, ID = KJ190945.1, length 971, with 2 features\n",
      "index 206, ID = EU167039.1, length 967, with 2 features\n",
      "index 207, ID = KJ909187.1, length 978, with 2 features\n",
      "index 208, ID = KM078766.1, length 973, with 2 features\n",
      "index 209, ID = AF173566.1, length 964, with 2 features\n",
      "index 210, ID = HQ852935.1, length 543, with 2 features\n",
      "index 211, ID = HQ852933.1, length 545, with 2 features\n",
      "index 212, ID = KT345702.1, length 986, with 2 features\n",
      "index 213, ID = AF447233.1, length 861, with 2 features\n",
      "index 214, ID = AF173564.1, length 973, with 2 features\n",
      "index 215, ID = KP337337.1, length 973, with 2 features\n",
      "index 216, ID = KX388475.1, length 987, with 2 features\n",
      "index 217, ID = JX029991.1, length 979, with 2 features\n",
      "index 218, ID = HQ852929.1, length 541, with 2 features\n",
      "index 219, ID = AY136560.1, length 973, with 2 features\n",
      "index 220, ID = HQ852941.1, length 562, with 2 features\n",
      "index 221, ID = DQ485827.1, length 971, with 2 features\n",
      "index 222, ID = KR092187.1, length 973, with 2 features\n",
      "index 223, ID = L22478.1, length 538, with 2 features\n",
      "index 224, ID = AY894153.1, length 558, with 2 features\n",
      "index 225, ID = HQ852931.1, length 530, with 2 features\n",
      "index 226, ID = JQ520020.1, length 994, with 2 features\n",
      "index 227, ID = AF363031.1, length 988, with 2 features\n",
      "index 228, ID = KP995437.1, length 976, with 2 features\n",
      "index 229, ID = AF407093.1, length 979, with 2 features\n",
      "index 230, ID = KU058639.1, length 974, with 2 features\n",
      "index 231, ID = AF447237.1, length 860, with 2 features\n",
      "index 232, ID = KT601060.1, length 976, with 2 features\n",
      "index 233, ID = AY164514.1, length 989, with 2 features\n",
      "index 234, ID = EF373082.2, length 554, with 2 features\n",
      "index 235, ID = AF407144.1, length 972, with 2 features\n",
      "index 236, ID = EF373109.2, length 546, with 2 features\n",
      "index 237, ID = KT989235.1, length 984, with 2 features\n",
      "index 238, ID = AF407087.1, length 974, with 2 features\n",
      "index 239, ID = U76012.1, length 869, with 2 features\n",
      "index 240, ID = AY158677.2, length 974, with 2 features\n",
      "index 241, ID = JQ520024.1, length 994, with 2 features\n",
      "index 242, ID = AY164516.1, length 997, with 2 features\n",
      "index 243, ID = AY136557.1, length 980, with 2 features\n",
      "index 244, ID = AY631355.1, length 681, with 2 features\n",
      "index 245, ID = KX388479.1, length 985, with 2 features\n",
      "index 246, ID = JQ520026.1, length 993, with 2 features\n",
      "index 247, ID = AY894143.1, length 556, with 2 features\n",
      "index 248, ID = AY894151.1, length 556, with 2 features\n",
      "index 249, ID = EU167080.1, length 981, with 2 features\n",
      "index 250, ID = DQ485809.1, length 970, with 2 features\n",
      "index 251, ID = AF406881.1, length 959, with 2 features\n",
      "index 252, ID = DQ832102.1, length 647, with 2 features\n",
      "index 253, ID = DQ674559.1, length 973, with 2 features\n",
      "index 254, ID = HQ915866.1, length 976, with 2 features\n",
      "index 255, ID = AY894141.1, length 558, with 2 features\n",
      "index 256, ID = AY164518.1, length 984, with 2 features\n",
      "index 257, ID = EF373116.2, length 547, with 2 features\n",
      "index 258, ID = AY894147.1, length 555, with 2 features\n",
      "index 259, ID = EU167086.1, length 924, with 2 features\n",
      "index 260, ID = AF407142.1, length 971, with 2 features\n",
      "index 261, ID = AF447249.1, length 859, with 2 features\n",
      "index 262, ID = AF407085.1, length 979, with 2 features\n",
      "index 263, ID = AY631327.1, length 685, with 2 features\n",
      "index 264, ID = AF171659.1, length 975, with 2 features\n",
      "index 265, ID = DQ485815.1, length 973, with 2 features\n",
      "index 266, ID = KF742677.1, length 961, with 2 features\n",
      "index 267, ID = KM434134.1, length 979, with 2 features\n",
      "index 268, ID = AY894149.1, length 549, with 2 features\n",
      "index 269, ID = AJ242687.1, length 968, with 2 features\n",
      "index 270, ID = JQ520028.1, length 922, with 2 features\n",
      "index 271, ID = KT350609.1, length 960, with 2 features\n",
      "index 272, ID = KM078804.1, length 974, with 2 features\n",
      "index 273, ID = EU372672.2, length 979, with 2 features\n",
      "index 274, ID = AY631332.1, length 703, with 2 features\n",
      "index 275, ID = AB026818.1, length 968, with 2 features\n",
      "index 276, ID = EU410491.1, length 970, with 2 features\n",
      "index 277, ID = EF373100.2, length 557, with 2 features\n",
      "index 278, ID = FN675575.1, length 724, with 2 features\n",
      "index 279, ID = EF373106.2, length 546, with 2 features\n",
      "index 280, ID = KX388480.1, length 980, with 2 features\n",
      "index 281, ID = AY631341.1, length 682, with 2 features\n",
      "index 282, ID = KT340629.1, length 981, with 2 features\n",
      "index 283, ID = L16770.1, length 985, with 2 features\n",
      "index 284, ID = KC545397.1, length 974, with 2 features\n",
      "index 285, ID = KM078770.1, length 978, with 2 features\n",
      "index 286, ID = EF373090.2, length 552, with 2 features\n",
      "index 287, ID = JQ083495.1, length 981, with 2 features\n",
      "index 288, ID = AM889139.1, length 977, with 2 features\n",
      "index 289, ID = AB492871.1, length 979, with 2 features\n",
      "index 290, ID = X57245.1, length 971, with 2 features\n",
      "index 291, ID = AB219551.1, length 940, with 2 features\n",
      "index 292, ID = DQ385270.1, length 732, with 2 features\n",
      "index 293, ID = AB219549.1, length 938, with 2 features\n",
      "index 294, ID = JQ962990.1, length 555, with 2 features\n",
      "index 295, ID = AY513589.1, length 880, with 2 features\n",
      "index 296, ID = DQ674581.1, length 970, with 2 features\n",
      "index 297, ID = KR215630.1, length 983, with 2 features\n",
      "index 298, ID = KF041204.1, length 624, with 2 features\n",
      "index 299, ID = KC749448.1, length 966, with 2 features\n",
      "index 300, ID = GQ199608.1, length 974, with 2 features\n",
      "index 301, ID = KF766048.1, length 962, with 2 features\n",
      "index 302, ID = Y18522.2, length 975, with 2 features\n",
      "index 303, ID = DQ674589.1, length 976, with 2 features\n",
      "index 304, ID = U83765.2, length 974, with 2 features\n",
      "index 305, ID = EU167044.1, length 972, with 2 features\n",
      "index 306, ID = JQ520009.1, length 987, with 2 features\n",
      "index 307, ID = JQ520022.1, length 994, with 2 features\n",
      "index 308, ID = U83721.1, length 971, with 2 features\n",
      "index 309, ID = EF373073.2, length 544, with 2 features\n",
      "index 310, ID = EF373095.2, length 556, with 2 features\n",
      "index 311, ID = EF373097.2, length 550, with 2 features\n",
      "index 312, ID = AF407084.1, length 978, with 2 features\n",
      "index 313, ID = KF437906.1, length 997, with 2 features\n",
      "index 314, ID = HQ690246.1, length 982, with 2 features\n",
      "index 315, ID = EF373091.2, length 554, with 2 features\n",
      "index 316, ID = AJ242683.1, length 971, with 2 features\n",
      "index 317, ID = U83747.1, length 971, with 2 features\n",
      "index 318, ID = KF041195.1, length 624, with 2 features\n",
      "index 319, ID = KF041186.1, length 624, with 2 features\n",
      "index 320, ID = EF373083.2, length 548, with 2 features\n",
      "index 321, ID = KF041193.1, length 624, with 2 features\n",
      "index 322, ID = AF171653.1, length 974, with 2 features\n",
      "index 323, ID = EF373093.2, length 520, with 2 features\n",
      "index 324, ID = AF386463.1, length 841, with 2 features\n",
      "index 325, ID = KF041188.1, length 624, with 2 features\n",
      "index 326, ID = JN018412.1, length 973, with 2 features\n",
      "index 327, ID = KJ834096.1, length 985, with 2 features\n",
      "index 328, ID = EF373071.2, length 551, with 2 features\n",
      "index 329, ID = U83719.1, length 972, with 2 features\n",
      "index 330, ID = U83761.1, length 974, with 2 features\n",
      "index 331, ID = KJ190948.1, length 969, with 2 features\n",
      "index 332, ID = AF484935.1, length 643, with 2 features\n",
      "index 333, ID = KF203133.1, length 988, with 2 features\n",
      "index 334, ID = FJ752433.1, length 969, with 2 features\n",
      "index 335, ID = KC758647.1, length 977, with 2 features\n",
      "index 336, ID = U83759.1, length 986, with 2 features\n",
      "index 337, ID = KF907308.1, length 961, with 2 features\n",
      "index 338, ID = KP981363.1, length 991, with 2 features\n",
      "index 339, ID = U89227.1, length 943, with 2 features\n",
      "index 340, ID = U76017.1, length 865, with 2 features\n",
      "index 341, ID = AF407143.1, length 971, with 2 features\n",
      "index 342, ID = AM237310.1, length 970, with 2 features\n",
      "index 343, ID = AB918148.1, length 989, with 2 features\n",
      "index 344, ID = HM063558.1, length 992, with 2 features\n",
      "index 345, ID = KC875856.1, length 972, with 2 features\n",
      "index 346, ID = AF171652.1, length 974, with 2 features\n",
      "index 347, ID = AF407091.1, length 974, with 2 features\n",
      "index 348, ID = FN675616.1, length 689, with 2 features\n",
      "index 349, ID = KF041182.1, length 624, with 2 features\n",
      "index 350, ID = EF373069.2, length 551, with 2 features\n",
      "index 351, ID = KF041197.1, length 624, with 2 features\n",
      "index 352, ID = EU167048.1, length 974, with 2 features\n",
      "index 353, ID = KF041184.1, length 624, with 2 features\n",
      "index 354, ID = KP319029.1, length 974, with 2 features\n",
      "index 355, ID = FN675614.1, length 688, with 2 features\n",
      "index 356, ID = AF484931.1, length 833, with 2 features\n",
      "index 357, ID = FN675612.1, length 649, with 2 features\n",
      "index 358, ID = KJ680300.1, length 972, with 2 features\n",
      "index 359, ID = KJ710708.1, length 982, with 2 features\n",
      "index 360, ID = EU167040.1, length 974, with 2 features\n",
      "index 361, ID = KF111713.1, length 975, with 2 features\n",
      "index 362, ID = AY513124.1, length 969, with 2 features\n",
      "index 363, ID = KF997863.1, length 982, with 2 features\n",
      "index 364, ID = KJ190958.1, length 970, with 2 features\n",
      "index 365, ID = KC785614.1, length 967, with 2 features\n",
      "index 366, ID = FN675580.1, length 726, with 2 features\n",
      "index 367, ID = AF447226.1, length 858, with 2 features\n",
      "index 368, ID = AF407135.1, length 971, with 2 features\n",
      "index 369, ID = AF406882.1, length 958, with 2 features\n",
      "index 370, ID = DQ674564.1, length 973, with 2 features\n",
      "index 371, ID = AY164529.1, length 993, with 2 features\n",
      "index 372, ID = KJ502237.1, length 966, with 2 features\n",
      "index 373, ID = AY631334.1, length 706, with 2 features\n",
      "index 374, ID = AY164525.1, length 986, with 2 features\n",
      "index 375, ID = AY136584.1, length 974, with 2 features\n",
      "index 376, ID = AF447254.1, length 861, with 2 features\n",
      "index 377, ID = HQ890328.1, length 984, with 2 features\n",
      "index 378, ID = U86142.1, length 974, with 2 features\n",
      "index 379, ID = AF407082.1, length 974, with 2 features\n",
      "index 380, ID = AY274015.1, length 972, with 2 features\n",
      "index 381, ID = KT356220.1, length 968, with 2 features\n",
      "index 382, ID = AY631338.1, length 686, with 2 features\n",
      "index 383, ID = AY631336.1, length 709, with 2 features\n",
      "index 384, ID = KF800698.1, length 992, with 2 features\n",
      "index 385, ID = AY631342.1, length 688, with 2 features\n",
      "index 386, ID = EU009397.1, length 985, with 2 features\n",
      "index 387, ID = U86138.1, length 973, with 2 features\n",
      "index 388, ID = AY139624.1, length 975, with 2 features\n",
      "index 389, ID = FN675567.1, length 714, with 2 features\n",
      "index 390, ID = AY747700.1, length 984, with 2 features\n",
      "index 391, ID = DQ485800.1, length 972, with 2 features\n",
      "index 392, ID = FN675579.1, length 726, with 2 features\n",
      "index 393, ID = FJ603666.1, length 554, with 2 features\n",
      "index 394, ID = KJ190947.1, length 972, with 2 features\n",
      "index 395, ID = FN675553.1, length 723, with 2 features\n",
      "index 396, ID = AF171662.1, length 975, with 2 features\n",
      "index 397, ID = KM577662.1, length 965, with 2 features\n",
      "index 398, ID = FN675555.1, length 724, with 2 features\n",
      "index 399, ID = FN675565.1, length 717, with 2 features\n",
      "index 400, ID = AF407137.1, length 970, with 2 features\n",
      "index 401, ID = AF171660.1, length 974, with 2 features\n",
      "index 402, ID = JQ520027.1, length 993, with 2 features\n",
      "index 403, ID = KX398931.1, length 972, with 2 features\n",
      "index 404, ID = KM404175.1, length 981, with 2 features\n",
      "index 405, ID = KJ598622.1, length 976, with 2 features\n",
      "index 406, ID = AF380305.2, length 972, with 2 features\n",
      "index 407, ID = AF173597.1, length 968, with 2 features\n",
      "index 408, ID = KF905228.1, length 968, with 2 features\n",
      "index 409, ID = JQ282800.1, length 992, with 2 features\n",
      "index 410, ID = FN675577.1, length 726, with 2 features\n",
      "index 411, ID = KF766047.1, length 963, with 2 features\n",
      "index 412, ID = U83738.1, length 990, with 2 features\n",
      "index 413, ID = FN675573.1, length 714, with 2 features\n",
      "index 414, ID = AF171664.1, length 974, with 2 features\n",
      "index 415, ID = AY940770.1, length 970, with 2 features\n",
      "index 416, ID = DQ083161.1, length 991, with 2 features\n",
      "index 417, ID = FN675576.1, length 727, with 2 features\n",
      "index 418, ID = JN393215.1, length 528, with 2 features\n",
      "index 419, ID = AF173581.1, length 968, with 2 features\n",
      "index 420, ID = KP308149.1, length 975, with 2 features\n",
      "index 421, ID = KP168712.1, length 973, with 2 features\n",
      "index 422, ID = AY631348.1, length 683, with 2 features\n",
      "index 423, ID = JQ520039.1, length 993, with 2 features\n",
      "index 424, ID = KF766041.1, length 968, with 2 features\n",
      "index 425, ID = AF173593.1, length 979, with 2 features\n",
      "index 426, ID = EU167071.1, length 964, with 2 features\n",
      "index 427, ID = JN018413.1, length 978, with 2 features\n",
      "index 428, ID = JQ962985.1, length 555, with 2 features\n",
      "index 429, ID = U83742.1, length 965, with 2 features\n",
      "index 430, ID = JQ520041.1, length 993, with 2 features\n",
      "index 431, ID = AF173585.1, length 970, with 2 features\n",
      "index 432, ID = FN675574.1, length 713, with 2 features\n",
      "index 433, ID = EU167063.1, length 970, with 2 features\n",
      "index 434, ID = KM078784.1, length 978, with 2 features\n",
      "index 435, ID = DQ485795.1, length 964, with 2 features\n",
      "index 436, ID = DQ674580.1, length 968, with 2 features\n",
      "index 437, ID = AF173599.1, length 973, with 2 features\n",
      "index 438, ID = AM889140.1, length 976, with 2 features\n",
      "index 439, ID = EF373290.1, length 695, with 2 features\n",
      "index 440, ID = HM063537.1, length 985, with 2 features\n",
      "index 441, ID = U83724.1, length 970, with 2 features\n",
      "index 442, ID = KF955638.1, length 971, with 2 features\n",
      "index 443, ID = DQ485799.1, length 973, with 2 features\n",
      "index 444, ID = DQ385277.1, length 735, with 2 features\n",
      "index 445, ID = KU049722.1, length 966, with 2 features\n",
      "index 446, ID = HM063539.1, length 985, with 2 features\n",
      "index 447, ID = DQ674569.1, length 967, with 2 features\n",
      "index 448, ID = KC749469.1, length 966, with 2 features\n",
      "index 449, ID = FN675581.1, length 726, with 2 features\n",
      "index 450, ID = AF407136.1, length 972, with 2 features\n",
      "index 451, ID = FJ769855.1, length 970, with 2 features\n",
      "index 452, ID = DQ674571.1, length 967, with 2 features\n",
      "index 453, ID = AY293618.1, length 979, with 2 features\n",
      "index 454, ID = DQ674573.1, length 981, with 2 features\n",
      "index 455, ID = DQ674565.1, length 974, with 2 features\n",
      "index 456, ID = AY164528.1, length 984, with 2 features\n",
      "index 457, ID = KF766027.1, length 974, with 2 features\n",
      "index 458, ID = AF407138.1, length 976, with 2 features\n",
      "index 459, ID = DQ385279.1, length 732, with 2 features\n",
      "index 460, ID = AY164526.1, length 986, with 2 features\n",
      "index 461, ID = AF447255.1, length 860, with 2 features\n",
      "index 462, ID = KJ190957.1, length 970, with 2 features\n",
      "index 463, ID = AF407134.1, length 970, with 2 features\n",
      "index 464, ID = HM063553.1, length 994, with 2 features\n",
      "index 465, ID = AF339358.1, length 973, with 2 features\n",
      "index 466, ID = AY164530.1, length 989, with 2 features\n",
      "index 467, ID = AF447251.1, length 859, with 2 features\n",
      "index 468, ID = EF373292.1, length 692, with 2 features\n",
      "index 469, ID = KT373849.1, length 984, with 2 features\n",
      "index 470, ID = KJ499911.1, length 973, with 2 features\n",
      "index 471, ID = FN675558.1, length 723, with 2 features\n",
      "index 472, ID = GQ264612.1, length 972, with 2 features\n",
      "index 473, ID = AF447227.1, length 861, with 2 features\n",
      "index 474, ID = AY631347.1, length 709, with 2 features\n",
      "index 475, ID = AY631345.1, length 707, with 2 features\n",
      "index 476, ID = AY631337.1, length 682, with 2 features\n",
      "index 477, ID = FN675578.1, length 726, with 2 features\n",
      "index 478, ID = KF926376.1, length 962, with 2 features\n",
      "index 479, ID = AY274022.1, length 978, with 2 features\n",
      "index 480, ID = EF373291.1, length 690, with 2 features\n",
      "index 481, ID = AF407081.1, length 974, with 2 features\n",
      "index 482, ID = AP009194.1, length 967, with 2 features\n",
      "index 483, ID = AF407083.1, length 973, with 2 features\n",
      "index 484, ID = AY513121.1, length 976, with 2 features\n",
      "index 485, ID = FJ603663.1, length 675, with 2 features\n",
      "index 486, ID = JQ282801.1, length 979, with 2 features\n",
      "index 487, ID = DQ019124.1, length 985, with 2 features\n",
      "index 488, ID = AY631349.1, length 682, with 2 features\n",
      "index 489, ID = DQ780880.1, length 983, with 2 features\n",
      "index 490, ID = JQ520042.1, length 993, with 2 features\n",
      "index 491, ID = JQ962988.1, length 555, with 2 features\n",
      "index 492, ID = KM588075.1, length 979, with 2 features\n",
      "index 493, ID = KF766026.1, length 976, with 2 features\n",
      "index 494, ID = JQ520040.1, length 993, with 2 features\n",
      "index 495, ID = AF171661.1, length 974, with 2 features\n",
      "index 496, ID = DQ385280.1, length 721, with 2 features\n",
      "index 497, ID = KF644582.1, length 972, with 2 features\n",
      "index 498, ID = U83749.1, length 966, with 2 features\n",
      "index 499, ID = DQ485794.1, length 968, with 2 features\n",
      "index 500, ID = U83725.1, length 973, with 2 features\n",
      "index 501, ID = KR422696.1, length 977, with 2 features\n",
      "index 502, ID = DQ485792.1, length 971, with 2 features\n",
      "index 503, ID = KP258178.1, length 973, with 2 features\n",
      "index 504, ID = FN675606.1, length 679, with 2 features\n",
      "index 505, ID = HM063536.1, length 986, with 2 features\n",
      "index 506, ID = EF380307.1, length 549, with 2 features\n",
      "index 507, ID = AF173582.1, length 975, with 2 features\n",
      "index 508, ID = AF173586.1, length 969, with 2 features\n",
      "index 509, ID = AF090338.1, length 979, with 2 features\n",
      "index 510, ID = DQ674570.1, length 967, with 2 features\n",
      "index 511, ID = AY139633.1, length 975, with 2 features\n",
      "index 512, ID = HM063544.1, length 991, with 2 features\n",
      "index 513, ID = KF312717.1, length 986, with 2 features\n",
      "index 514, ID = DQ385278.1, length 732, with 2 features\n",
      "index 515, ID = DQ674576.1, length 972, with 2 features\n",
      "index 516, ID = L28077.1, length 966, with 2 features\n",
      "index 517, ID = EU543221.1, length 669, with 2 features\n",
      "index 518, ID = FJ392294.1, length 969, with 2 features\n",
      "index 519, ID = HQ442366.1, length 971, with 2 features\n",
      "index 520, ID = KC990830.1, length 946, with 2 features\n",
      "index 521, ID = KM216749.1, length 968, with 2 features\n",
      "index 522, ID = KM216748.1, length 969, with 2 features\n"
     ]
    }
   ],
   "source": [
    "for index, record in enumerate(SeqIO.parse(\"bird12S_cropped_500bp_SATIVA.gb\", \"genbank\")):\n",
    "        print(\"index %i, ID = %s, length %i, with %i features\"\n",
    "          % (index, record.id, len(record.seq), len(record.features)))"
   ]
  },
  {
   "cell_type": "markdown",
   "metadata": {},
   "source": [
    "Now need to filter all 12S rRNA sequences within pj.records dictionary by length to remove all sequences shorter than 500bp within Reprophylo."
   ]
  },
  {
   "cell_type": "code",
   "execution_count": 25,
   "metadata": {
    "collapsed": false
   },
   "outputs": [
    {
     "name": "stdout",
     "output_type": "stream",
     "text": [
      "Distribution Of Sequence Lengths\n",
      "Distribution Of Sequence Statistic \"Gc_Content\"\n"
     ]
    },
    {
     "name": "stderr",
     "output_type": "stream",
     "text": [
      "/usr/lib/pymodules/python2.7/matplotlib/figure.py:371: UserWarning: matplotlib is currently using a non-GUI backend, so cannot show the figure\n",
      "  \"matplotlib is currently using a non-GUI backend, \"\n"
     ]
    },
    {
     "data": {
      "image/png": "[encoded data removed]",
      "text/plain": [
       "<matplotlib.figure.Figure at 0x7efd9edeb650>"
      ]
     },
     "metadata": {},
     "output_type": "display_data"
    },
    {
     "data": {
      "image/png": "[encoded data removed]",
      "text/plain": [
       "<matplotlib.figure.Figure at 0x7efd9e851590>"
      ]
     },
     "metadata": {},
     "output_type": "display_data"
    }
   ],
   "source": [
    "%matplotlib inline\n",
    "pj.report_seq_stats()"
   ]
  },
  {
   "cell_type": "code",
   "execution_count": 26,
   "metadata": {
    "collapsed": true
   },
   "outputs": [],
   "source": [
    "# Define minima and maxima\n",
    "\n",
    "gc_inliers = {\n",
    "    'rrnS': [43,54]\n",
    "}\n",
    "len_inliers = {\n",
    "    'rrnS': [500,1000]\n",
    "}\n",
    "\n",
    "\n",
    "# Apply to loci data\n",
    "for locus in gc_inliers:\n",
    "    # trim GC outliers\n",
    "    pj.filter_by_gc_content(locus,\n",
    "                            min_percent_gc=gc_inliers[locus][0],\n",
    "                            max_percent_gc=gc_inliers[locus][1])\n",
    "\n",
    "    # trim length outlier\n",
    "    pj.filter_by_seq_length(locus,\n",
    "                            min_length=len_inliers[locus][0],\n",
    "                            max_length=len_inliers[locus][1])"
   ]
  },
  {
   "cell_type": "markdown",
   "metadata": {},
   "source": [
    "Confirm that the length filter has worked."
   ]
  },
  {
   "cell_type": "code",
   "execution_count": 27,
   "metadata": {
    "collapsed": false
   },
   "outputs": [
    {
     "name": "stdout",
     "output_type": "stream",
     "text": [
      "Distribution Of Sequence Lengths\n",
      "Distribution Of Sequence Statistic \"Gc_Content\"\n"
     ]
    },
    {
     "data": {
      "image/png": "[encoded data removed]",
      "text/plain": [
       "<matplotlib.figure.Figure at 0x7efd9edbcc50>"
      ]
     },
     "metadata": {},
     "output_type": "display_data"
    },
    {
     "data": {
      "image/png": "[encoded data removed]",
      "text/plain": [
       "<matplotlib.figure.Figure at 0x7efd9e66a310>"
      ]
     },
     "metadata": {},
     "output_type": "display_data"
    }
   ],
   "source": [
    "pj.report_seq_stats()"
   ]
  },
  {
   "cell_type": "markdown",
   "metadata": {},
   "source": [
    "Pickle the project."
   ]
  },
  {
   "cell_type": "code",
   "execution_count": 28,
   "metadata": {
    "collapsed": false
   },
   "outputs": [
    {
     "data": {
      "text/plain": [
       "'bird_post_SATIVA.pkl'"
      ]
     },
     "execution_count": 28,
     "metadata": {},
     "output_type": "execute_result"
    }
   ],
   "source": [
    "pickle_pj(pj, 'bird_post_SATIVA.pkl')"
   ]
  },
  {
   "cell_type": "markdown",
   "metadata": {},
   "source": [
    "# Long Alignment"
   ]
  },
  {
   "cell_type": "markdown",
   "metadata": {},
   "source": [
    "Now, need to produce a sequence alignment file based on an alignment of all 12S sequences longer than 500bp. This will be done with the AlnConf class."
   ]
  },
  {
   "cell_type": "code",
   "execution_count": 29,
   "metadata": {
    "collapsed": false
   },
   "outputs": [],
   "source": [
    "pj = unpickle_pj('bird_post_SATIVA.pkl', git=False)"
   ]
  },
  {
   "cell_type": "markdown",
   "metadata": {},
   "source": [
    "muscle default configuration:"
   ]
  },
  {
   "cell_type": "code",
   "execution_count": 30,
   "metadata": {
    "collapsed": false
   },
   "outputs": [
    {
     "name": "stdout",
     "output_type": "stream",
     "text": [
      "muscle -in 562051477670544.94_rrnS.fasta\n"
     ]
    }
   ],
   "source": [
    "muscle_default = AlnConf(pj,\n",
    "                         method_name=\"muscleDefault-500bp-SATIVA\",\n",
    "                         program_name=\"muscle\",\n",
    "                         loci=['rrnS'])"
   ]
  },
  {
   "cell_type": "code",
   "execution_count": 31,
   "metadata": {
    "collapsed": true
   },
   "outputs": [],
   "source": [
    "pj.align([muscle_default])"
   ]
  },
  {
   "cell_type": "code",
   "execution_count": 32,
   "metadata": {
    "collapsed": false
   },
   "outputs": [
    {
     "name": "stdout",
     "output_type": "stream",
     "text": [
      "AlnConf named muscleDefault-500bp-SATIVA with ID 562051477670544.94\n",
      "Loci: rrnS \n",
      "Created on: Fri Oct 28 16:02:24 2016\n",
      "Commands:\n",
      "rrnS: muscle -in 562051477670544.94_rrnS.fasta\n",
      "\n",
      "Environment:\n",
      "Platform: Linux-4.4.0-38-generic-x86_64-with-Ubuntu-14.04-trusty\n",
      " Processor: x86_64\n",
      " Python build: defaultMar 22 2014 22:59:56\n",
      " Python compiler: GCC 4.8.2\n",
      " Python implementation: CPython\n",
      " Python version: 2.7.6\n",
      " ete2 version: 2.2.1072\n",
      " biopython version: 1.68\n",
      " dendropy version: 3.12.2\n",
      " cloud version: 2.8.5\n",
      " reprophylo version 1.3\n",
      " User: biopc4\n",
      " Program and version: MUSCLE v3.8.31\\nPal2Nal v14\n",
      " Program reference:\\nEdgar 2004: MUSCLE: multiple sequence alignment with high accuracy and high throughput. Nucleic Acids Research 32(5):1792-1797\\nMikita Suyama\n",
      " David Torrents\n",
      " and Peer Bork (2006) PAL2NAL: robust conversion of protein sequence alignments into the corresponding codon alignments.Nucleic Acids Res. 34\n",
      " W609-W612.\n",
      "execution time:\n",
      "266.57525301\n",
      "\n",
      "\n",
      "==============================\n",
      "Core Methods section sentence:\n",
      "==============================\n",
      "The dataset(s) rrnS were first aligned at the protein level using the program MUSCLE v3.8.31 [1].\n",
      "The resulting alignments served as guides to codon-align the DNA sequences using Pal2Nal v14 [2].\n",
      "\n",
      "Reference:\n",
      "[1]Edgar 2004: MUSCLE: multiple sequence alignment with high accuracy and high throughput. Nucleic Acids Research 32(5):1792-1797\n",
      "[2]Mikita Suyama, David Torrents, and Peer Bork (2006) PAL2NAL: robust conversion of protein sequence alignments into the corresponding codon alignments.Nucleic Acids Res. 34, W609-W612.\n",
      "\n"
     ]
    }
   ],
   "source": [
    "print pj.used_methods['muscleDefault-500bp-SATIVA']"
   ]
  },
  {
   "cell_type": "code",
   "execution_count": 33,
   "metadata": {
    "collapsed": false
   },
   "outputs": [
    {
     "data": {
      "text/plain": [
       "{'rrnS@muscleDefault-500bp-SATIVA': <<class 'Bio.Align.MultipleSeqAlignment'> instance (485 records of length 1215, IUPACProtein()) at 7efd9f2f2850>}"
      ]
     },
     "execution_count": 33,
     "metadata": {},
     "output_type": "execute_result"
    }
   ],
   "source": [
    "pj.alignments"
   ]
  },
  {
   "cell_type": "code",
   "execution_count": 34,
   "metadata": {
    "collapsed": false
   },
   "outputs": [
    {
     "data": {
      "text/plain": [
       "['rrnS@muscleDefault-500bp-SATIVA_aln.fasta']"
      ]
     },
     "execution_count": 34,
     "metadata": {},
     "output_type": "execute_result"
    }
   ],
   "source": [
    "# record_id and source_organism are feature qualifiers in the SeqRecord object\n",
    "files = pj.write_alns(id=['record_id','source_organism'],\n",
    "                      format='fasta')\n",
    "files"
   ]
  },
  {
   "cell_type": "markdown",
   "metadata": {},
   "source": [
    "Pickle the project."
   ]
  },
  {
   "cell_type": "code",
   "execution_count": 35,
   "metadata": {
    "collapsed": false
   },
   "outputs": [
    {
     "data": {
      "text/plain": [
       "'bird_post_SATIVA.pkl'"
      ]
     },
     "execution_count": 35,
     "metadata": {},
     "output_type": "execute_result"
    }
   ],
   "source": [
    "pickle_pj(pj, 'bird_post_SATIVA.pkl')"
   ]
  },
  {
   "cell_type": "markdown",
   "metadata": {},
   "source": [
    "# Build tree from long alignment"
   ]
  },
  {
   "cell_type": "markdown",
   "metadata": {},
   "source": [
    "Trim the alignment."
   ]
  },
  {
   "cell_type": "code",
   "execution_count": 36,
   "metadata": {
    "collapsed": false
   },
   "outputs": [
    {
     "name": "stdout",
     "output_type": "stream",
     "text": [
      "trimal -in 584671477670851.23_rrnS@muscleDefault-500bp-SATIVA.fasta -gappyout\n"
     ]
    }
   ],
   "source": [
    "muscle_gappyout = TrimalConf(pj,                       # The Project\n",
    "\n",
    "                            method_name='gappyout',  # Any unique string \n",
    "                                                     # ('gappyout' is default)\n",
    "                            \n",
    "                            program_name='trimal',   # No alternatives in \n",
    "                                                     # this ReproPhylo version\n",
    "                            \n",
    "                            cmd='default',           # the default is trimal. \n",
    "                                                     # Change it here\n",
    "                                                     # or in pj.defaults['trimal']\n",
    "                            \n",
    "                            alns=['rrnS@muscleDefault-500bp-SATIVA'],  # 'all' by default\n",
    "                            \n",
    "                            trimal_commands={'gappyout': True} # By default, the gappyout algorithm is used.\n",
    "                           )"
   ]
  },
  {
   "cell_type": "code",
   "execution_count": 37,
   "metadata": {
    "collapsed": true
   },
   "outputs": [],
   "source": [
    "pj.trim([muscle_gappyout])"
   ]
  },
  {
   "cell_type": "code",
   "execution_count": 38,
   "metadata": {
    "collapsed": false
   },
   "outputs": [
    {
     "name": "stdout",
     "output_type": "stream",
     "text": [
      "TrimalConf named gappyout with ID 584671477670851.23\n",
      "Alignments: rrnS@muscleDefault-500bp-SATIVA \n",
      "Created on: Fri Oct 28 16:07:31 2016\n",
      "Commands:\n",
      "rrnS@muscleDefault-500bp-SATIVA@gappyout: trimal -in 584671477670851.23_rrnS@muscleDefault-500bp-SATIVA.fasta -gappyout\n",
      "\n",
      "Environment:Platform: Linux-4.4.0-38-generic-x86_64-with-Ubuntu-14.04-trusty\n",
      " Processor: x86_64\n",
      " Python build: defaultMar 22 2014 22:59:56\n",
      " Python compiler: GCC 4.8.2\n",
      " Python implementation: CPython\n",
      " Python version: 2.7.6\n",
      " ete2 version: 2.2.1072\n",
      " biopython version: 1.68\n",
      " dendropy version: 3.12.2\n",
      " cloud version: 2.8.5\n",
      " reprophylo version 1.3\n",
      " User: biopc4\n",
      " Program and version: trimAl 1.2rev59\n",
      " Program reference: Salvador Capella-Gutierrez; Jose M. Silla-Martinez; Toni Gabaldon. trimAl: a tool for automated alignment trimming in large-scale phylogenetic analyses. Bioinformatics 2009 25: 1972-1973.\n",
      "execution time:\n",
      "2.99957513809\n",
      "\n",
      "==============================\n",
      "Core Methods section sentence:\n",
      "==============================\n",
      "The alignment(s) rrnS@muscleDefault-500bp-SATIVA were trimmed using the program trimAl 1.2rev59 [1].\n",
      "\n",
      "Reference:\n",
      "Salvador Capella-Gutierrez; Jose M. Silla-Martinez; Toni Gabaldon. trimAl: a tool for automated alignment trimming in large-scale phylogenetic analyses. Bioinformatics 2009 25: 1972-1973.\n",
      "\n"
     ]
    }
   ],
   "source": [
    "print pj.used_methods['gappyout']"
   ]
  },
  {
   "cell_type": "code",
   "execution_count": 39,
   "metadata": {
    "collapsed": false
   },
   "outputs": [
    {
     "data": {
      "text/plain": [
       "{'rrnS@muscleDefault-500bp-SATIVA@gappyout': <<class 'Bio.Align.MultipleSeqAlignment'> instance (485 records of length 605, IUPACAmbiguousDNA()) at 7efd9de5bc50>}"
      ]
     },
     "execution_count": 39,
     "metadata": {},
     "output_type": "execute_result"
    }
   ],
   "source": [
    "pj.trimmed_alignments"
   ]
  },
  {
   "cell_type": "code",
   "execution_count": 40,
   "metadata": {
    "collapsed": false
   },
   "outputs": [
    {
     "data": {
      "text/plain": [
       "['rrnS@muscleDefault-500bp-SATIVA@gappyout_trimmed_aln.fasta']"
      ]
     },
     "execution_count": 40,
     "metadata": {},
     "output_type": "execute_result"
    }
   ],
   "source": [
    "files = pj.write_trimmed_alns(id=['record_id','source_organism'],\n",
    "                                   format='fasta')\n",
    "files"
   ]
  },
  {
   "cell_type": "markdown",
   "metadata": {},
   "source": [
    "Infer Maximum Likelihood tree based on the clipped alignment. We are going to use RAxML. Configure RAxML for trimmed muscle alignment."
   ]
  },
  {
   "cell_type": "code",
   "execution_count": 41,
   "metadata": {
    "collapsed": false
   },
   "outputs": [
    {
     "name": "stdout",
     "output_type": "stream",
     "text": [
      "raxmlHPC-PTHREADS-SSE3 -f a -m GTRGAMMA -n 406631477670872.96_rrnS@muscleDefault-500bp-SATIVA@gappyout0 -p 405 -s 406631477670872.96_rrnS@muscleDefault-500bp-SATIVA@gappyout.fasta -T 5 -x 879 -N 100\n"
     ]
    }
   ],
   "source": [
    "raxml = RaxmlConf(pj, method_name='raxml-muscleDefault-500bp-SATIVA-trimmed',\n",
    "                  program_name='raxmlHPC-PTHREADS-SSE3',\n",
    "                  keepfiles=True,\n",
    "                  cmd='raxmlHPC-PTHREADS-SSE3',\n",
    "                  preset='fa',\n",
    "                  alns=['rrnS@muscleDefault-500bp-SATIVA@gappyout'],\n",
    "                  model='GAMMA',\n",
    "                  threads=5,\n",
    "                  cline_args={'-#': 100})"
   ]
  },
  {
   "cell_type": "markdown",
   "metadata": {},
   "source": [
    "Infer tree."
   ]
  },
  {
   "cell_type": "code",
   "execution_count": 42,
   "metadata": {
    "collapsed": false
   },
   "outputs": [],
   "source": [
    "pj.tree([raxml])"
   ]
  },
  {
   "cell_type": "code",
   "execution_count": 43,
   "metadata": {
    "collapsed": false
   },
   "outputs": [
    {
     "name": "stdout",
     "output_type": "stream",
     "text": [
      "RaxmlConf named raxml-muscleDefault-500bp-SATIVA-trimmed with ID 406631477670872.96\n",
      "Alignments: rrnS@muscleDefault-500bp-SATIVA@gappyout \n",
      "Created on: Fri Oct 28 16:07:52 2016\n",
      "Commands:\n",
      "rrnS@muscleDefault-500bp-SATIVA@gappyout:\n",
      "raxmlHPC-PTHREADS-SSE3 -f a -m GTRGAMMA -n 406631477670872.96_rrnS@muscleDefault-500bp-SATIVA@gappyout0 -p 405 -s 406631477670872.96_rrnS@muscleDefault-500bp-SATIVA@gappyout.fasta -T 5 -x 879 -N 100\n",
      "\n",
      "Environment:\n",
      "Platform: Linux-4.4.0-38-generic-x86_64-with-Ubuntu-14.04-trusty\n",
      " Processor: x86_64\n",
      " Python build: defaultMar 22 2014 22:59:56\n",
      " Python compiler: GCC 4.8.2\n",
      " Python implementation: CPython\n",
      " Python version: 2.7.6\n",
      " ete2 version: 2.2.1072\n",
      " biopython version: 1.68\n",
      " dendropy version: 3.12.2\n",
      " cloud version: 2.8.5\n",
      " reprophylo version 1.3\n",
      " User: biopc4\n",
      " Program and version: raxmlHPC-PTHREADS-SSE3RAxML version 8.0.12\n",
      " Program reference: A. Stamatakis: RAxML Version 8: A tool for Phylogenetic Analysis and Post-Analysis of Large Phylogenies. In Bioinformatics\n",
      " 2014.\n",
      "execution time:\n",
      "3269.51806903\n",
      "\n",
      "==============================\n",
      "Core Methods section sentence:\n",
      "==============================\n",
      "Phylogenetic trees were reconstructed from the dataset(s) rrnS@muscleDefault-500bp-SATIVA@gappyout using the program raxmlHPC-PTHREADS-SSE3RAxML version 8.0.12 [1].\n",
      "\n",
      "Reference:\n",
      "A. Stamatakis: RAxML Version 8: A tool for Phylogenetic Analysis and Post-Analysis of Large Phylogenies. In Bioinformatics, 2014.\n",
      "\n"
     ]
    }
   ],
   "source": [
    "print pj.used_methods['raxml-muscleDefault-500bp-SATIVA-trimmed']"
   ]
  },
  {
   "cell_type": "code",
   "execution_count": 44,
   "metadata": {
    "collapsed": false
   },
   "outputs": [
    {
     "data": {
      "text/plain": [
       "'bird_post_SATIVA.pkl'"
      ]
     },
     "execution_count": 44,
     "metadata": {},
     "output_type": "execute_result"
    }
   ],
   "source": [
    "pickle_pj(pj, 'bird_post_SATIVA.pkl')"
   ]
  },
  {
   "cell_type": "markdown",
   "metadata": {},
   "source": [
    "# Visualise Tree"
   ]
  },
  {
   "cell_type": "markdown",
   "metadata": {},
   "source": [
    "Annotate final tree."
   ]
  },
  {
   "cell_type": "code",
   "execution_count": 45,
   "metadata": {
    "collapsed": true
   },
   "outputs": [],
   "source": [
    "pj.add_qualifier_from_source('organism')"
   ]
  },
  {
   "cell_type": "code",
   "execution_count": 46,
   "metadata": {
    "collapsed": true
   },
   "outputs": [],
   "source": [
    "supports = {'black': [100,95],\n",
    "            'dimgray': [95,75],\n",
    "            'silver': [75,50]}"
   ]
  },
  {
   "cell_type": "code",
   "execution_count": 47,
   "metadata": {
    "collapsed": true
   },
   "outputs": [],
   "source": [
    "for species in ['Lacerta','Trachemys','Vipera']:\n",
    "    pj.if_this_then_that(species, 'organism', 'outgroup', 'outgroup',\n",
    "                         mode='part')"
   ]
  },
  {
   "cell_type": "code",
   "execution_count": 48,
   "metadata": {
    "collapsed": true
   },
   "outputs": [],
   "source": [
    "pj.clear_tree_annotations()\n",
    "pj.annotate('.', 'outgroup', 'outgroup', \n",
    "            ['source_organism', 'record_id'], \n",
    "            node_support_dict=supports, multifurc=None,\n",
    "            html='muscleDefault-trimmed-500bp-bird-raxml-post_SATIVA.html')"
   ]
  },
  {
   "cell_type": "markdown",
   "metadata": {},
   "source": [
    "Create a static copy of the tree (the last *.png with the expected alignment id) for later."
   ]
  },
  {
   "cell_type": "code",
   "execution_count": 49,
   "metadata": {
    "collapsed": true
   },
   "outputs": [],
   "source": [
    "%%bash\n",
    "\n",
    "last_png=$(ls -hlrt *rrnS@muscleDefault-500bp-SATIVA@gappyout.png | tail -n 1 | perl -ne 'chomp; @a=split(\" \"); print \"$a[-1]\"')\n",
    "cp $last_png rrnS_muscleDefault_trimmed_bird_500bp_SATIVA_raxml.png"
   ]
  },
  {
   "cell_type": "markdown",
   "metadata": {},
   "source": [
    "Pickle the project."
   ]
  },
  {
   "cell_type": "code",
   "execution_count": 50,
   "metadata": {
    "collapsed": false
   },
   "outputs": [
    {
     "data": {
      "text/plain": [
       "'bird_post_SATIVA.pkl'"
      ]
     },
     "execution_count": 50,
     "metadata": {},
     "output_type": "execute_result"
    }
   ],
   "source": [
    "pickle_pj(pj, 'bird_post_SATIVA.pkl')"
   ]
  },
  {
   "cell_type": "markdown",
   "metadata": {},
   "source": [
    "**=======================================================================================================**"
   ]
  },
  {
   "cell_type": "code",
   "execution_count": 51,
   "metadata": {
    "collapsed": true
   },
   "outputs": [],
   "source": [
    "from reprophylo import *"
   ]
  },
  {
   "cell_type": "code",
   "execution_count": 52,
   "metadata": {
    "collapsed": false
   },
   "outputs": [],
   "source": [
    "pj = unpickle_pj('bird_post_SATIVA.pkl', git=False)"
   ]
  },
  {
   "cell_type": "markdown",
   "metadata": {},
   "source": [
    "- Identify the record IDs of the sequences shorter than 500bp\n",
    "- Write these sequences to new fasta file (make sure the sequence IDs are as Reprophylo expects them: 'id_f0')\n",
    "- Prepare a hmm profile for the alignment the tree is built on (either muscle 'or mafft)"
   ]
  },
  {
   "cell_type": "code",
   "execution_count": 53,
   "metadata": {
    "collapsed": false
   },
   "outputs": [
    {
     "data": {
      "text/plain": [
       "{'rrnS@muscleDefault-500bp-SATIVA': <<class 'Bio.Align.MultipleSeqAlignment'> instance (485 records of length 1215, IUPACProtein()) at 7efd983f9990>}"
      ]
     },
     "execution_count": 53,
     "metadata": {},
     "output_type": "execute_result"
    }
   ],
   "source": [
    "pj.alignments"
   ]
  },
  {
   "cell_type": "code",
   "execution_count": 54,
   "metadata": {
    "collapsed": false
   },
   "outputs": [
    {
     "name": "stdout",
     "output_type": "stream",
     "text": [
      "returning trimmed alignment object rrnS@muscleDefault-500bp-SATIVA@gappyout\n"
     ]
    },
    {
     "data": {
      "text/plain": [
       "1"
      ]
     },
     "execution_count": 54,
     "metadata": {},
     "output_type": "execute_result"
    }
   ],
   "source": [
    "from Bio import AlignIO\n",
    "\n",
    "out=open('500bp_bird_align_SATIVA.fasta','w')\n",
    "\n",
    "AlignIO.write(pj.fta('rrnS@muscleDefault-500bp-SATIVA'), out, 'fasta')"
   ]
  },
  {
   "cell_type": "markdown",
   "metadata": {},
   "source": [
    "Check number of records in file containing short 12S rRNA sequences."
   ]
  },
  {
   "cell_type": "code",
   "execution_count": 55,
   "metadata": {
    "collapsed": false
   },
   "outputs": [
    {
     "name": "stdout",
     "output_type": "stream",
     "text": [
      "Total records: 130\n"
     ]
    }
   ],
   "source": [
    "from Bio import SeqIO\n",
    "\n",
    "records = list(SeqIO.parse(\"bird_short_to_align_SATIVA.fasta\", \"fasta\"))\n",
    "print(\"Total records: %i\" % len(records))"
   ]
  },
  {
   "cell_type": "markdown",
   "metadata": {},
   "source": [
    "Check that record IDs are in format that reprophylo expects for alignment."
   ]
  },
  {
   "cell_type": "code",
   "execution_count": 56,
   "metadata": {
    "collapsed": false
   },
   "outputs": [
    {
     "name": "stdout",
     "output_type": "stream",
     "text": [
      "HQ852944.1_f0\n",
      "JN695767.1_f0\n",
      "HQ852934.1_f0\n",
      "JF914828.1_f0\n",
      "X86804.1_f0\n",
      "JF914834.1_f0\n",
      "EU197058.1_f0\n",
      "L33370.1_f0\n",
      "AF140990.1_f0\n",
      "AY887673.1_f0\n",
      "AF173712.1_f0\n",
      "EF027325.1_f0\n",
      "GQ255993.1_f0\n",
      "EU154560.1_f0\n",
      "JQ422404.1_f0\n",
      "JQ422391.1_f0\n",
      "L33380.1_f0\n",
      "AF285807.1_f0\n",
      "AF285805.1_f0\n",
      "AB042364.1_f0\n",
      "AF285799.1_f0\n",
      "KJ685955.1_f0\n",
      "AF285801.1_f0\n",
      "AF285803.1_f0\n",
      "FJ627047.1_f0\n",
      "AJ583550.1_f0\n",
      "JX683977.1_f0\n",
      "EF027329.1_f0\n",
      "JQ422425.1_f0\n",
      "AY766387.1_f0\n",
      "KJ676690.1_f0\n",
      "EU154487.1_f0\n",
      "U88028.1_f0\n",
      "JN695762.1_f0\n",
      "U88024.1_f0\n",
      "EU154539.1_f0\n",
      "EF027314.1_f0\n",
      "U88020.1_f0\n",
      "X87621.1_f0\n",
      "EF027324.1_f0\n",
      "EU154549.1_f0\n",
      "EU154488.1_f0\n",
      "L33376.1_f0\n",
      "AF376937.1_f0\n",
      "JF914825.1_f0\n",
      "KF781332.1_f0\n",
      "AF202187.1_f0\n",
      "AY903609.1_f0\n",
      "AY887668.1_f0\n",
      "L33388.1_f0\n",
      "AY635103.1_f0\n",
      "AF230152.1_f0\n",
      "EU154492.1_f0\n",
      "U38355.1_f0\n",
      "EU154491.1_f0\n",
      "KJ676688.1_f0\n",
      "AF140997.1_f0\n",
      "JQ962998.1_f0\n",
      "JX683980.1_f0\n",
      "JQ422386.1_f0\n",
      "AY766388.1_f0\n",
      "AF230156.1_f0\n",
      "L33390.1_f0\n",
      "AF285800.1_f0\n",
      "KJ685956.1_f0\n",
      "KJ676689.1_f0\n",
      "JQ962996.1_f0\n",
      "AF285808.1_f0\n",
      "X87855.1_f0\n",
      "X87853.1_f0\n",
      "KJ676687.1_f0\n",
      "JQ422444.1_f0\n",
      "AF230158.1_f0\n",
      "U88023.1_f0\n",
      "X87857.1_f0\n",
      "AF285806.1_f0\n",
      "AF173689.1_f0\n",
      "AF173691.1_f0\n",
      "U88002.1_f0\n",
      "KJ676686.1_f0\n",
      "JX683976.1_f0\n",
      "AF285804.1_f0\n",
      "EF027303.1_f0\n",
      "AF232902.1_f0\n",
      "AB080369.1_f0\n",
      "AM778107.1_f0\n",
      "AJ490507.1_f0\n",
      "AY447960.1_f0\n",
      "AY447962.1_f0\n",
      "AY447952.1_f0\n",
      "AY635094.1_f0\n",
      "GU799592.1_f0\n",
      "AB042354.1_f0\n",
      "GU390892.1_f0\n",
      "GU799590.1_f0\n",
      "JN695748.1_f0\n",
      "KF469284.1_f0\n",
      "AB080368.1_f0\n",
      "KF781324.1_f0\n",
      "KP267717.1_f0\n",
      "EF027334.1_f0\n",
      "AY635139.1_f0\n",
      "KP267713.1_f0\n",
      "KP267715.1_f0\n",
      "AM778108.1_f0\n",
      "AF173713.1_f0\n",
      "AY167413.1_f0\n",
      "EU154569.1_f0\n",
      "EU154573.1_f0\n",
      "AY635097.1_f0\n",
      "AY635096.1_f0\n",
      "AY635095.1_f0\n",
      "AY034150.1_f0\n",
      "AY635093.1_f0\n",
      "AB042353.1_f0\n",
      "EF027299.1_f0\n",
      "AY635092.1_f0\n",
      "EF514931.1_f0\n",
      "EF514932.1_f0\n",
      "GU390889.1_f0\n",
      "AY635099.1_f0\n",
      "KP267716.1_f0\n",
      "EU154578.1_f0\n",
      "GU390887.1_f0\n",
      "EU624267.1_f0\n",
      "KX080601.1_f0\n",
      "AF080298.1_f0\n",
      "U81328.1_f0\n",
      "AF149947.1_f0\n",
      "GU477770.1_f0\n"
     ]
    }
   ],
   "source": [
    "from Bio import SeqIO\n",
    "\n",
    "short_seq = open(\"bird_short_to_align_SATIVA.fasta\", \"rU\")\n",
    "sequences = []\n",
    "\n",
    "for r in SeqIO.parse(short_seq, \"fasta\"):\n",
    "    print(r.id)"
   ]
  },
  {
   "cell_type": "markdown",
   "metadata": {},
   "source": [
    "If record IDs were not in the format Reprophylo expects for tree construction, the code cells below could be used to format them to be 'id_f0'."
   ]
  },
  {
   "cell_type": "code",
   "execution_count": 57,
   "metadata": {
    "collapsed": false
   },
   "outputs": [],
   "source": [
    "#temp_seq = []\n",
    "\n",
    "#for r in pj.records:\n",
    "    #if len(r.seq) < 500:\n",
    "        #temp_seq.append(r)\n",
    "\n",
    "#from Bio import SeqIO\n",
    "\n",
    "#out=open('short_to_align.fasta','w')\n",
    "#SeqIO.write(temp_seq, out, 'fasta')\n",
    "#out.close()"
   ]
  },
  {
   "cell_type": "code",
   "execution_count": 58,
   "metadata": {
    "collapsed": true
   },
   "outputs": [],
   "source": [
    "#from Bio import SeqIO\n",
    "\n",
    "#short_seq = open(\"short_to_align.fasta\", \"rU\")\n",
    "#sequences = []\n",
    "\n",
    "#for r in SeqIO.parse(short_seq, \"fasta\"):\n",
    "    #print(r.id)\n",
    "    #r.description = r.id+'_f0'\n",
    "    #r.id = r.description\n",
    "    #print r.description\n",
    "    #sequences.append(r)\n",
    "\n",
    "\n",
    "#out = open(\"seq_to_align.fasta\", \"w\")\n",
    "#SeqIO.write(sequences, out, \"fasta\")\n",
    "#out.close()"
   ]
  },
  {
   "cell_type": "markdown",
   "metadata": {},
   "source": [
    "Check that sequences in reprophylo project have not been altered."
   ]
  },
  {
   "cell_type": "code",
   "execution_count": 59,
   "metadata": {
    "collapsed": false
   },
   "outputs": [
    {
     "name": "stdout",
     "output_type": "stream",
     "text": [
      "HQ852944.1\n",
      "Emberiza spodocephala 12S ribosomal RNA gene, partial sequence.\n",
      "JN695767.1\n",
      "Coturnix coturnix isolate Q1 12S ribosomal RNA gene, partial sequence; mitochondrial.\n",
      "HQ852934.1\n",
      "Phylloscopus inornatus 12S ribosomal RNA gene, partial sequence; mitochondrial.\n",
      "JF914828.1\n",
      "Anas discors voucher UAM:REW 001 D-loop, partial sequence; tRNA-Phe gene, complete sequence; and 12S ribosomal RNA gene, partial sequence; mitochondrial.\n",
      "X86804.1\n",
      "F.magnificens 12S mitochondrial rRNA.\n",
      "JF914834.1\n",
      "Anas discors voucher UAM:REW 007 D-loop, partial sequence; tRNA-Phe gene, complete sequence; and 12S ribosomal RNA gene, partial sequence; mitochondrial.\n",
      "EU197058.1\n",
      "Psittacula krameri isolate T2 12S ribosomal RNA gene, partial sequence; mitochondrial.\n",
      "L22477.1\n",
      "Anas platyrhynchos NADH dehydrogenase subunit 6 (ND6) gene, partial cds, tRNA-Glu and tRNA-Phe and 12S ribosomal RNA gene, partial sequence, mitochondrial genes for mitochondrial products.\n",
      "AY259390.1\n",
      "Motacilla cinerea cinerea isolate M.cin.Heil mitochondrial control region, partial sequence; tRNA-Phe gene, complete sequence; and 12S ribosomal RNA gene, partial sequence.\n",
      "L33370.1\n",
      "Ciconia nigra mitochondrial 12S ribosomal RNA (12S rRNA) gene, 3' end.\n",
      "AF140990.1\n",
      "Dumetella carolinenis 12S ribosomal RNA gene, partial sequence; mitochondrial gene for mitochondrial product.\n",
      "AY887673.1\n",
      "Phylloscopus orientalis 12S ribosomal RNA gene, partial sequence; mitochondrial.\n",
      "AF173712.1\n",
      "Bucephala clangula 12S ribosomal RNA gene, partial sequence; mitochondrial gene for mitochondrial product.\n",
      "EF027325.1\n",
      "Picus viridis 12S ribosomal RNA gene, partial sequence; mitochondrial.\n",
      "GQ255993.1\n",
      "Philomachus pugnax isolate ruff # 1481191 D-loop and tRNA-Pro gene, complete sequence; NADH dehydrogenase subunit 6 (ND6) gene, complete cds; tRNA-Glu gene, D-loop, and tRNA-Phe gene, complete sequence; and 12S ribosomal RNA gene, partial sequence; mitochondrial.\n",
      "EU154560.1\n",
      "Turdus ruficollis subsp. ruficollis voucher NRM-2005-06-09 12S ribosomal RNA gene, partial sequence; mitochondrial.\n",
      "JQ422404.1\n",
      "Aythya fuligula haplotype HAP19 D-loop, partial sequence; tRNA-Phe gene, complete sequence; and 12S ribosomal RNA gene, partial sequence; mitochondrial.\n",
      "JQ422391.1\n",
      "Aythya fuligula haplotype HAP06 D-loop, partial sequence; tRNA-Phe gene, complete sequence; and 12S ribosomal RNA gene, partial sequence; mitochondrial.\n",
      "L33380.1\n",
      "Neophron percnopterus mitochondrial 12S ribosomal RNA (12S rRNA) gene.\n",
      "KP171706.1\n",
      "Anas platyrhynchos 12S ribosomal RNA gene, partial sequence; mitochondrial.\n",
      "AF285807.1\n",
      "Tringa melanoleuca 12S ribosomal RNA gene, partial sequence; mitochondrial gene for mitochondrial product.\n",
      "AF285805.1\n",
      "Numenius phaeopus isolate UAM10237 12S ribosomal RNA gene, partial sequence; mitochondrial gene for mitochondrial product.\n",
      "FR873680.1\n",
      "Columba livia partial 12S rRNA gene, isolate Seq08.\n",
      "AB042364.1\n",
      "Bombycilla garrulus mitochondrial gene for 12S ribosomal RNA, partial sequence.\n",
      "AF285799.1\n",
      "Limosa limosa isolate UAM8216 12S ribosomal RNA gene, partial sequence; mitochondrial gene for mitochondrial product.\n",
      "KJ685955.1\n",
      "Porphyrio alleni isolate Peni1 12S ribosomal RNA gene, partial sequence; mitochondrial.\n",
      "AF285801.1\n",
      "Limosa lapponica isolate UAM8832 12S ribosomal RNA gene, partial sequence; mitochondrial gene for mitochondrial product.\n",
      "AF285803.1\n",
      "Limosa lapponica isolate NCSM13192 12S ribosomal RNA gene, partial sequence; mitochondrial gene for mitochondrial product.\n",
      "FJ627047.1\n",
      "Accipiter gentilis isolate HAB-1A tRNA-Thr gene, partial sequence; control region and tRNA-Pro gene, complete sequence; NADH dehydrogenase subunit 6 (nd6) gene, complete cds; tRNA-Glu and tRNA-Phe genes, complete sequence; and 12S ribosomal RNA gene, partial sequence; mitochondrial.\n",
      "AJ583550.1\n",
      "Anser anser partial 12S rRNA gene.\n",
      "JX683977.1\n",
      "Pelecanus crispus isolate 2 12S ribosomal RNA gene, partial sequence; mitochondrial.\n",
      "EF027329.1\n",
      "Sitta europaea 12S ribosomal RNA gene, partial sequence; mitochondrial.\n",
      "JQ422425.1\n",
      "Aythya fuligula haplotype HAP40 D-loop, partial sequence; tRNA-Phe gene, complete sequence; and 12S ribosomal RNA gene, partial sequence; mitochondrial.\n",
      "AY766387.1\n",
      "Egretta garzetta 12S ribosomal RNA gene, partial sequence; mitochondrial.\n",
      "KJ676690.1\n",
      "Sylvia atricapilla 12S ribosomal RNA gene, partial sequence; mitochondrial.\n",
      "EU154487.1\n",
      "Hylocichla mustelina voucher AMNH-PAC 691 12S ribosomal RNA gene, partial sequence; mitochondrial.\n",
      "U88028.1\n",
      "Strix varia 12S mitochondrial ribosomal RNA, small subunit, mitochondrial gene, partial sequence.\n",
      "JN695762.1\n",
      "Anas platyrhynchos isolate BD9 12S ribosomal RNA gene, partial sequence; mitochondrial.\n",
      "KF781333.1\n",
      "Sturnus vulgaris strain 8705 12S ribosomal RNA gene, partial sequence; mitochondrial.\n",
      "U88024.1\n",
      "Puffinus griseus 12S mitochondrial ribosomal RNA, small subunit, mitochondrial gene, partial sequence.\n",
      "EU154539.1\n",
      "Turdus obscurus voucher NRM 2007 6480 12S ribosomal RNA gene, partial sequence; mitochondrial.\n",
      "EF027314.1\n",
      "Parus major isolate 1 12S ribosomal RNA gene, partial sequence; mitochondrial.\n",
      "U88020.1\n",
      "Plegadis falcinellus 12S mitochondrial ribosomal RNA, small subunit, mitochondrial gene, partial sequence.\n",
      "X87621.1\n",
      "G.stellata mitochondrion DNA for 12S ribosomal RNA.\n",
      "EF027324.1\n",
      "Pica pica 12S ribosomal RNA gene, partial sequence; mitochondrial.\n",
      "EU154549.1\n",
      "Turdus pilaris voucher NRM 2007 6483 12S ribosomal RNA gene, partial sequence; mitochondrial.\n",
      "EU154488.1\n",
      "Ixoreus naevius voucher AMNH-GFB 3236 12S ribosomal RNA gene, partial sequence; mitochondrial.\n",
      "L33376.1\n",
      "Gavia stellata mitochondrial 12S ribosomal RNA (12S rRNA) gene, 3' end.\n",
      "KM078790.1\n",
      "Carduelis carduelis mitochondrion, complete genome.\n",
      "AF376937.1\n",
      "Acrocephalus aedon 12S ribosomal RNA gene, partial sequence; mitochondrial gene for mitochondrial product.\n",
      "JF914825.1\n",
      "Anas discors voucher UAM:REW 121 D-loop, partial sequence; tRNA-Phe gene, complete sequence; and 12S ribosomal RNA gene, partial sequence; mitochondrial.\n",
      "KF781332.1\n",
      "Coccothraustes coccothraustes strain 8905 12S ribosomal RNA gene, partial sequence; mitochondrial.\n",
      "AF202187.1\n",
      "Buteo buteo vulpinus NADH dehydrogenase subunit 6 (ND6) gene, partial cds; tRNA-Glu gene, complete sequence; mitochondrial DNA pseudo-control region, complete sequence; tRNA-Phe gene, complete sequence; and 12S ribosomal RNA gene, partial sequence; mitochondrial genes for mitochondrial products.\n",
      "AY903609.1\n",
      "Phylloscopus trochiloides trochiloides 12S ribosomal RNA gene, partial sequence; mitochondrial.\n",
      "AY887668.1\n",
      "Acrocephalus dumetorum 12S ribosomal RNA gene, partial sequence; mitochondrial.\n",
      "L33388.1\n",
      "Podiceps auritus mitochondrial 12S ribosomal RNA (12S rRNA) gene, 3' end.\n",
      "AY635103.1\n",
      "Phylloscopus proregulus 12S ribosomal RNA gene, partial sequence; mitochondrial.\n",
      "AF230152.1\n",
      "Lagopus lagopus 12S ribosomal RNA gene, partial sequence; mitochondrial gene for mitochondrial product.\n",
      "HQ852943.1\n",
      "Emberiza aureola 12S ribosomal RNA gene, partial sequence.\n",
      "EU154492.1\n",
      "Oenanthe pleschanka voucher MIUT-2003-26(30) 12S ribosomal RNA gene, partial sequence; mitochondrial.\n",
      "HQ852945.1\n",
      "Locustella lanceolata 12S ribosomal RNA gene, partial sequence.\n",
      "U38355.1\n",
      "Sylvia curruca 12S ribosomal RNA, mitochondrial gene encoding mitochondrial RNA, partial sequence.\n",
      "EU154491.1\n",
      "Oenanthe oenanthe subsp. oenanthe voucher NRM-2004 6483 12S ribosomal RNA gene, partial sequence; mitochondrial.\n",
      "KJ676688.1\n",
      "Erithacus rubecula 12S ribosomal RNA gene, partial sequence; mitochondrial.\n",
      "EF027300.1\n",
      "Certhia brachydactyla 12S ribosomal RNA gene, partial sequence; mitochondrial.\n",
      "AF140997.1\n",
      "Mimus polyglottos 12S ribosomal RNA gene, partial sequence; mitochondrial gene for mitochondrial product.\n",
      "JQ962998.1\n",
      "Phalaropus fulicaria 12S ribosomal RNA gene, partial sequence; mitochondrial.\n",
      "JX683980.1\n",
      "Pelecanus onocrotalus isolate 1 12S ribosomal RNA gene, partial sequence; mitochondrial.\n",
      "JQ422386.1\n",
      "Aythya fuligula haplotype HAP01 D-loop, partial sequence; tRNA-Phe gene, complete sequence; and 12S ribosomal RNA gene, partial sequence; mitochondrial.\n",
      "AY766388.1\n",
      "Ciconia ciconia 12S ribosomal RNA gene, partial sequence; mitochondrial.\n",
      "AF230156.1\n",
      "Tetrao tetrix 12S ribosomal RNA gene, partial sequence; mitochondrial gene for mitochondrial product.\n",
      "AF407431.1\n",
      "Coracias garrulus FMNH 347816 12S ribosomal RNA gene, partial sequence; mitochondrial gene for mitochondrial product.\n",
      "L33390.1\n",
      "Puffinus gravis mitochondrial 12S ribosomal RNA (12S rRNA) gene, 3' end.\n",
      "AF285800.1\n",
      "Limosa limosa isolate UAM8400 12S ribosomal RNA gene, partial sequence; mitochondrial gene for mitochondrial product.\n",
      "KJ685956.1\n",
      "Porphyrio martinica isolate Pmar2 12S ribosomal RNA gene, partial sequence; mitochondrial.\n",
      "KJ676689.1\n",
      "Parus major 12S ribosomal RNA gene, partial sequence; mitochondrial.\n",
      "JQ962996.1\n",
      "Numenius phaeopus variegatus 12S ribosomal RNA gene, partial sequence; mitochondrial.\n",
      "AF285808.1\n",
      "Limosa haemastica UAM8259 12S ribosomal RNA gene, partial sequence; mitochondrial gene for mitochondrial product.\n",
      "X87855.1\n",
      "C.americanus mitochondrial gene for 12S ribosomal RNA.\n",
      "X87853.1\n",
      "A.platyrhynchos mitochondrial gene for 12S ribosomal RNA.\n",
      "KJ676687.1\n",
      "Turdus philomelos 12S ribosomal RNA gene, partial sequence; mitochondrial.\n",
      "JQ422444.1\n",
      "Aythya fuligula haplotype HAP59 D-loop, partial sequence; tRNA-Phe gene, complete sequence; and 12S ribosomal RNA gene, partial sequence; mitochondrial.\n",
      "AF230158.1\n",
      "Tetrao urogallus 12S ribosomal RNA gene, partial sequence; mitochondrial gene for mitochondrial product.\n",
      "U88023.1\n",
      "Pterodroma heraldica 12S mitochondrial ribosomal RNA, small subunit, mitochondrial gene, partial sequence.\n",
      "X87857.1\n",
      "C.livia mitochondrial gene for 12S ribosomal RNA.\n",
      "AF285806.1\n",
      "Limnodromus scolopaceus 12S ribosomal RNA gene, partial sequence; mitochondrial gene for mitochondrial product.\n",
      "AF173689.1\n",
      "Anas strepera 12S ribosomal RNA gene, partial sequence; mitochondrial gene for mitochondrial product.\n",
      "AF173691.1\n",
      "Anas querquedula 12S ribosomal RNA gene, partial sequence; mitochondrial gene for mitochondrial product.\n",
      "U88002.1\n",
      "Calonectris diomedea 12S mitochondrial ribosomal RNA, small subunit, mitochondrial gene, partial sequence.\n",
      "KJ676686.1\n",
      "Turdus merula 12S ribosomal RNA gene, partial sequence; mitochondrial.\n",
      "JX683976.1\n",
      "Pelecanus crispus isolate 1 12S ribosomal RNA gene, partial sequence; mitochondrial.\n",
      "AF285804.1\n",
      "Numenius phaeopus isolate UAM8212 12S ribosomal RNA gene, partial sequence; mitochondrial gene for mitochondrial product.\n",
      "EF027303.1\n",
      "Erithacus rubecula isolate 1 12S ribosomal RNA gene, partial sequence; mitochondrial.\n",
      "AF232902.1\n",
      "Emberiza citrinella 12S ribosomal RNA gene, partial sequence; mitochondrial gene for mitochondrial product.\n",
      "AY259411.1\n",
      "Motacilla flava flava isolate M.f.fla.H mitochondrial control region, partial sequence; tRNA-Phe gene, complete sequence; and 12S ribosomal RNA gene, partial sequence.\n",
      "AB080369.1\n",
      "Dendrocopos major mitochondrial gene for 12S rRNA, partial sequence.\n",
      "AM778107.1\n",
      "Milvus migrans mitochondrial partial 12S rRNA gene.\n",
      "AJ490507.1\n",
      "Anas platyrhynchos mitochondrial partial 12S rRNA gene.\n",
      "AY447960.1\n",
      "Falco tinnunculus 12S ribosomal RNA gene, partial sequence; mitochondrial.\n",
      "EF027311.1\n",
      "Parus ater isolate 1 12S ribosomal RNA gene, partial sequence; mitochondrial.\n",
      "AY447962.1\n",
      "Phasianus colchicus 12S ribosomal RNA gene, partial sequence; mitochondrial.\n",
      "AY259421.1\n",
      "Motacilla flava lutea isolate Ug39 mitochondrial control region, partial sequence; tRNA-Phe gene, complete sequence; and 12S ribosomal RNA gene, partial sequence.\n",
      "AY635106.1\n",
      "Phylloscopus schwarzi 12S ribosomal RNA gene, partial sequence; mitochondrial.\n",
      "AY259407.1\n",
      "Motacilla flava feldegg isolate T83 mitochondrial control region, partial sequence; tRNA-Phe gene, complete sequence; and 12S ribosomal RNA gene, partial sequence.\n",
      "AY447952.1\n",
      "Tringa ochropus 12S ribosomal RNA gene, partial sequence; mitochondrial.\n",
      "AY635094.1\n",
      "Phylloscopus borealis borealis 12S ribosomal RNA gene, partial sequence; mitochondrial.\n",
      "GU799592.1\n",
      "Anas platyrhynchos voucher PV_E1 12S ribosomal RNA gene, partial sequence; mitochondrial.\n",
      "AY275847.1\n",
      "Apus apus 12S ribosomal RNA gene, partial sequence; mitochondrial gene for mitochondrial product.\n",
      "AB042354.1\n",
      "Phylloscopus coronatus mitochondrial gene for 12S ribosomal RNA, partial sequence.\n",
      "GU390892.1\n",
      "Falco subbuteo 12S ribosomal RNA gene, partial sequence; mitochondrial.\n",
      "GU799590.1\n",
      "Tyto alba voucher TH_E1 12S ribosomal RNA gene, partial sequence; mitochondrial.\n",
      "JN695748.1\n",
      "Anser anser isolate G2 12S ribosomal RNA gene, partial sequence; mitochondrial.\n",
      "GU390886.1\n",
      "Aquila nipalensis 12S ribosomal RNA gene, partial sequence; mitochondrial.\n",
      "KF469284.1\n",
      "Egretta garzetta isolate 4 12S ribosomal RNA gene, partial sequence; mitochondrial.\n",
      "AB080368.1\n",
      "Dendrocopos major mitochondrial gene for 12S rRNA, partial sequence.\n",
      "KF781324.1\n",
      "Turdus merula strain SP77 12S ribosomal RNA gene, partial sequence; mitochondrial.\n",
      "KP267717.1\n",
      "Phylloscopus trochiloides isolate MAR322 12S ribosomal RNA gene, partial sequence; mitochondrial.\n",
      "EF027334.1\n",
      "Troglodytes troglodytes 12S ribosomal RNA gene, partial sequence; mitochondrial.\n",
      "AY635139.1\n",
      "Sylvia atricapilla atricapilla 12S ribosomal RNA gene, partial sequence; mitochondrial.\n",
      "KP267713.1\n",
      "Abrornis humei isolate MAR6491 12S ribosomal RNA gene, partial sequence; mitochondrial.\n",
      "EU154482.1\n",
      "Catharus ustulatus voucher ZMUC-121 362 12S ribosomal RNA gene, partial sequence; mitochondrial.\n",
      "KP267715.1\n",
      "Phylloscopus collybita isolate MAR5509 12S ribosomal RNA gene, partial sequence; mitochondrial.\n",
      "AM778108.1\n",
      "Psittacula krameri mitochondrial partial 12S rRNA gene.\n",
      "AF173713.1\n",
      "Histrionicus histrionicus 12S ribosomal RNA gene, partial sequence; mitochondrial gene for mitochondrial product.\n",
      "AF230154.1\n",
      "Lagopus mutus 12S ribosomal RNA gene, partial sequence; mitochondrial gene for mitochondrial product.\n",
      "AY167413.1\n",
      "Hippolais polyglotta 12S ribosomal RNA gene, partial sequence; mitochondrial gene for mitochondrial product.\n",
      "AY259424.1\n",
      "Motacilla flava pygmaea isolate Eg02 mitochondrial control region, partial sequence; tRNA-Phe gene, complete sequence; and 12S ribosomal RNA gene, partial sequence.\n",
      "AY259404.1\n",
      "Motacilla flava feldegg isolate Is07 mitochondrial control region, partial sequence; tRNA-Phe gene, complete sequence; and 12S ribosomal RNA gene, partial sequence.\n",
      "EU154569.1\n",
      "Turdus viscivorus subsp. viscivorus voucher NRM 2007 6486 12S ribosomal RNA gene, partial sequence; mitochondrial.\n",
      "EU154573.1\n",
      "Zoothera dauma subsp. aurea voucher NRM 2007 6487 12S ribosomal RNA gene, partial sequence; mitochondrial.\n",
      "AY635097.1\n",
      "Phylloscopus fuscatus fuscatus 12S ribosomal RNA gene, partial sequence; mitochondrial.\n",
      "AY635096.1\n",
      "Phylloscopus coronatus 12S ribosomal RNA gene, partial sequence; mitochondrial.\n",
      "AY635095.1\n",
      "Phylloscopus collybita abietinus 12S ribosomal RNA gene, partial sequence; mitochondrial.\n",
      "AY034150.1\n",
      "Haliaeetus albicilla NADH dehydrogenase subunit 6 (ND6) gene, partial cds; tRNA-Glu and tRNA-Phe genes, complete sequence; mitochondrial DNA pseudo-control region, complete sequence; and 12S ribosomal RNA gene, partial sequence; mitochondrial genes for mitochondrial products.\n",
      "AY635093.1\n",
      "Phylloscopus bonelli 12S ribosomal RNA gene, partial sequence; mitochondrial.\n",
      "AB042353.1\n",
      "Sitta europaea mitochondrial gene for 12S ribosomal RNA, partial sequence.\n",
      "EF027299.1\n",
      "Carduelis carduelis 12S ribosomal RNA gene, partial sequence; mitochondrial.\n",
      "AY635092.1\n",
      "Acrocephalus scirpaceus scirpaceus 12S ribosomal RNA gene, partial sequence; mitochondrial.\n",
      "AY259399.1\n",
      "Motacilla flava cinereocapilla isolate It04 mitochondrial control region, partial sequence; tRNA-Phe gene, complete sequence; and 12S ribosomal RNA gene, partial sequence.\n",
      "EF514931.1\n",
      "Haematopus ostralegus finschi 12S ribosomal RNA gene, partial sequence; mitochondrial.\n",
      "EF514932.1\n",
      "Haematopus ostralegus ostralegus 12S ribosomal RNA gene, partial sequence; mitochondrial.\n",
      "GU390889.1\n",
      "Accipiter nisus 12S ribosomal RNA gene, partial sequence; mitochondrial.\n",
      "AY635099.1\n",
      "Phylloscopus inornatus 12S ribosomal RNA gene, partial sequence; mitochondrial.\n",
      "KP267716.1\n",
      "Abrornis humei isolate MAR90111 12S ribosomal RNA gene, partial sequence; mitochondrial.\n",
      "EU154578.1\n",
      "Zoothera sibirica subsp. davisoni voucher NRM 2007 6490 12S ribosomal RNA gene, partial sequence; mitochondrial.\n",
      "GU390887.1\n",
      "Circus cyaneus 12S ribosomal RNA gene, partial sequence; mitochondrial.\n",
      "EU624267.1\n",
      "Vipera berus isolate 199 12S ribosomal RNA gene, partial sequence; mitochondrial.\n",
      "KX080601.1\n",
      "Lacerta agilis isolate S10401 12S ribosomal RNA gene, partial sequence; mitochondrial.\n",
      "AF080298.1\n",
      "Lacerta agilis 12S ribosomal RNA gene, mitochondrial gene for mitochondrial RNA, partial sequence.\n",
      "U81328.1\n",
      "Trachemys scripta 12S mitochondrial ribosomal RNA, small subunit, mitochondrial gene, partial sequence.\n",
      "AF149947.1\n",
      "Lacerta agilis 12S ribosomal RNA gene, partial sequence; mitochondrial gene for mitochondrial product.\n",
      "GU477770.1\n",
      "Trachemys scripta elegans 12S ribosomal RNA gene, partial sequence; mitochondrial.\n"
     ]
    }
   ],
   "source": [
    "for r in pj.records:\n",
    "    if len(r.seq) < 500:\n",
    "        print r.id\n",
    "        print r.description"
   ]
  },
  {
   "cell_type": "markdown",
   "metadata": {},
   "source": [
    "Pickle the project."
   ]
  },
  {
   "cell_type": "code",
   "execution_count": 60,
   "metadata": {
    "collapsed": false
   },
   "outputs": [
    {
     "data": {
      "text/plain": [
       "'bird_post_SATIVA.pkl'"
      ]
     },
     "execution_count": 60,
     "metadata": {},
     "output_type": "execute_result"
    }
   ],
   "source": [
    "pickle_pj(pj, 'bird_post_SATIVA.pkl')"
   ]
  },
  {
   "cell_type": "markdown",
   "metadata": {},
   "source": [
    "# Add short sequences to reference alignment"
   ]
  },
  {
   "cell_type": "code",
   "execution_count": 2,
   "metadata": {
    "collapsed": false
   },
   "outputs": [
    {
     "name": "stdout",
     "output_type": "stream",
     "text": [
      "# hmmbuild :: profile HMM construction from multiple sequence alignments\n",
      "# HMMER 3.1b1 (May 2013); http://hmmer.org/\n",
      "# Copyright (C) 2013 Howard Hughes Medical Institute.\n",
      "# Freely distributed under the GNU General Public License (GPLv3).\n",
      "# - - - - - - - - - - - - - - - - - - - - - - - - - - - - - - - - - - - -\n",
      "# input alignment file:             500bp_bird_align_SATIVA.fasta\n",
      "# output HMM file:                  12S_bird_ref_SATIVA.hmm\n",
      "# - - - - - - - - - - - - - - - - - - - - - - - - - - - - - - - - - - - -\n",
      "\n",
      "# idx name                  nseq  alen  mlen     W eff_nseq re/pos description\n",
      "#---- -------------------- ----- ----- ----- ----- -------- ------ -----------\n",
      "1     500bp_bird_align_SATIVA   485   605   605   794     1.85  0.450 \n",
      "\n",
      "# CPU time: 0.28u 0.00s 00:00:00.28 Elapsed: 00:00:00.28\n"
     ]
    }
   ],
   "source": [
    "!hmmbuild 12S_bird_ref_SATIVA.hmm 500bp_bird_align_SATIVA.fasta"
   ]
  },
  {
   "cell_type": "markdown",
   "metadata": {},
   "source": [
    "Now use hmmalign to align the short 12S rRNA sequences to the longer reference alignment."
   ]
  },
  {
   "cell_type": "code",
   "execution_count": 3,
   "metadata": {
    "collapsed": false
   },
   "outputs": [],
   "source": [
    "%%bash\n",
    "\n",
    "hmmalign -o 12S_bird500bpref_plus_short_query_SATIVA.sto \\\n",
    "--mapali 500bp_bird_align_SATIVA.fasta \\\n",
    "12S_bird_ref_SATIVA.hmm bird_short_to_align_SATIVA.fasta"
   ]
  },
  {
   "cell_type": "markdown",
   "metadata": {},
   "source": [
    "The hmmalign command has produced a file containing a new alignment of all 12S rRNA sequences (long and short) in stockholm output format. This must be converted to a more useful file format such as fasta or GenBank using the Seq command in BioPython."
   ]
  },
  {
   "cell_type": "code",
   "execution_count": 4,
   "metadata": {
    "collapsed": false
   },
   "outputs": [
    {
     "name": "stdout",
     "output_type": "stream",
     "text": [
      "Converted 615 records\n"
     ]
    }
   ],
   "source": [
    "from Bio import AlignIO\n",
    "\n",
    "input_file = open(\"12S_bird500bpref_plus_short_query_SATIVA.sto\", \"rU\")\n",
    "output_file = open(\"12S_BirdAlign_ALL_SATIVA.fasta\", \"w\")\n",
    "\n",
    "alignment = AlignIO.read(input_file, \"stockholm\")\n",
    "count = len(alignment)\n",
    "AlignIO.write(alignment, output_file, \"fasta\")\n",
    "\n",
    "output_file.close()\n",
    "input_file.close()\n",
    "print(\"Converted %i records\" % count)"
   ]
  },
  {
   "cell_type": "markdown",
   "metadata": {},
   "source": [
    "# Tree Building"
   ]
  },
  {
   "cell_type": "markdown",
   "metadata": {},
   "source": [
    "The fasta file containing the 12S rRNA amphibian sequence alignment must now be converted into a format which can be used for alignment trimming. The alignment must be parsed to an alignment object, aln."
   ]
  },
  {
   "cell_type": "code",
   "execution_count": 5,
   "metadata": {
    "collapsed": false
   },
   "outputs": [
    {
     "name": "stderr",
     "output_type": "stream",
     "text": [
      "DEBUG:Cloud:Log file (/root/.picloud/cloud.log) opened\n"
     ]
    }
   ],
   "source": [
    "pj=unpickle_pj('bird_post_SATIVA.pkl', git=False)"
   ]
  },
  {
   "cell_type": "code",
   "execution_count": 6,
   "metadata": {
    "collapsed": false
   },
   "outputs": [
    {
     "name": "stdout",
     "output_type": "stream",
     "text": [
      "EU167057.1_f0 is 1269bp\n",
      "U89224.1_f0 is 1269bp\n",
      "U83759.1_f0 is 1269bp\n",
      "U89227.1_f0 is 1269bp\n",
      "AF173597.1_f0 is 1269bp\n",
      "EU167086.1_f0 is 1269bp\n",
      "KT356220.1_f0 is 1269bp\n",
      "AY274022.1_f0 is 1269bp\n",
      "AF406881.1_f0 is 1269bp\n",
      "AF406882.1_f0 is 1269bp\n",
      "KP889214.1_f0 is 1269bp\n",
      "U89228.1_f0 is 1269bp\n",
      "U83757.1_f0 is 1269bp\n",
      "AF173593.1_f0 is 1269bp\n",
      "AY940754.1_f0 is 1269bp\n",
      "U89208.1_f0 is 1269bp\n",
      "AY940770.1_f0 is 1269bp\n",
      "KF766027.1_f0 is 1269bp\n",
      "KF766026.1_f0 is 1269bp\n",
      "KF766041.1_f0 is 1269bp\n",
      "KT350609.1_f0 is 1269bp\n",
      "KF766048.1_f0 is 1269bp\n",
      "KF766047.1_f0 is 1269bp\n",
      "KT340630.1_f0 is 1269bp\n",
      "U83765.2_f0 is 1269bp\n",
      "KJ909193.1_f0 is 1269bp\n",
      "AY136584.1_f0 is 1269bp\n",
      "AF407103.1_f0 is 1269bp\n",
      "KP995437.1_f0 is 1269bp\n",
      "EU167054.1_f0 is 1269bp\n",
      "U86142.1_f0 is 1269bp\n",
      "KT004451.1_f0 is 1269bp\n",
      "KU058639.1_f0 is 1269bp\n",
      "KJ598622.1_f0 is 1269bp\n",
      "HQ915867.1_f0 is 1269bp\n",
      "JN018413.1_f0 is 1269bp\n",
      "KF509923.1_f0 is 1269bp\n",
      "Y18522.2_f0 is 1269bp\n",
      "AF386463.1_f0 is 1269bp\n",
      "AY136582.1_f0 is 1269bp\n",
      "JQ083495.1_f0 is 1269bp\n",
      "KC463856.1_f0 is 1269bp\n",
      "KJ909187.1_f0 is 1269bp\n",
      "AM889140.1_f0 is 1269bp\n",
      "AY136575.1_f0 is 1269bp\n",
      "AF484931.1_f0 is 1269bp\n",
      "AF407098.1_f0 is 1269bp\n",
      "KJ499911.1_f0 is 1269bp\n",
      "KP148840.1_f0 is 1269bp\n",
      "KX398931.1_f0 is 1269bp\n",
      "JQ071623.1_f0 is 1269bp\n",
      "AY136560.1_f0 is 1269bp\n",
      "AF407092.1_f0 is 1269bp\n",
      "JQ322641.1_f0 is 1269bp\n",
      "AY136561.1_f0 is 1269bp\n",
      "KT934324.1_f0 is 1269bp\n",
      "AF407082.1_f0 is 1269bp\n",
      "AF407081.1_f0 is 1269bp\n",
      "AF407084.1_f0 is 1269bp\n",
      "AF407085.1_f0 is 1269bp\n",
      "KM078784.1_f0 is 1269bp\n",
      "KM577704.1_f0 is 1269bp\n",
      "JX486030.1_f0 is 1269bp\n",
      "U86138.1_f0 is 1269bp\n",
      "KR092187.1_f0 is 1269bp\n",
      "AF407083.1_f0 is 1269bp\n",
      "AF407088.1_f0 is 1269bp\n",
      "JQ922259.1_f0 is 1269bp\n",
      "KM078789.1_f0 is 1269bp\n",
      "KM078770.1_f0 is 1269bp\n",
      "AF447248.1_f0 is 1269bp\n",
      "KM078766.1_f0 is 1269bp\n",
      "HQ915866.1_f0 is 1269bp\n",
      "AF447255.1_f0 is 1269bp\n",
      "AF171658.1_f0 is 1269bp\n",
      "AF171662.1_f0 is 1269bp\n",
      "AF171652.1_f0 is 1269bp\n",
      "AF171664.1_f0 is 1269bp\n",
      "AF171653.1_f0 is 1269bp\n",
      "AF171655.1_f0 is 1269bp\n",
      "AF171659.1_f0 is 1269bp\n",
      "KR422696.1_f0 is 1269bp\n",
      "AF171660.1_f0 is 1269bp\n",
      "AF171661.1_f0 is 1269bp\n",
      "AF447233.1_f0 is 1269bp\n",
      "AF447254.1_f0 is 1269bp\n",
      "KM078781.1_f0 is 1269bp\n",
      "KM078804.1_f0 is 1269bp\n",
      "JN393215.1_f0 is 1269bp\n",
      "AF447250.1_f0 is 1269bp\n",
      "AF447249.1_f0 is 1269bp\n",
      "AF447251.1_f0 is 1269bp\n",
      "AF447246.1_f0 is 1269bp\n",
      "KC831775.1_f0 is 1269bp\n",
      "KF111713.1_f0 is 1269bp\n",
      "HQ852935.1_f0 is 1269bp\n",
      "HQ896034.1_f0 is 1269bp\n",
      "HQ852938.1_f0 is 1269bp\n",
      "KC758647.1_f0 is 1269bp\n",
      "AF447227.1_f0 is 1269bp\n",
      "AY136574.1_f0 is 1269bp\n",
      "AF407094.1_f0 is 1269bp\n",
      "AY136563.1_f0 is 1269bp\n",
      "AF407091.1_f0 is 1269bp\n",
      "AF484936.1_f0 is 1269bp\n",
      "HQ852932.1_f0 is 1269bp\n",
      "KF997864.1_f0 is 1269bp\n",
      "KF293721.1_f0 is 1269bp\n",
      "HQ852927.1_f0 is 1269bp\n",
      "HQ690246.1_f0 is 1269bp\n",
      "KT340629.1_f0 is 1269bp\n",
      "EU372672.2_f0 is 1269bp\n",
      "KJ909198.1_f0 is 1269bp\n",
      "KT601060.1_f0 is 1269bp\n",
      "KT373849.1_f0 is 1269bp\n",
      "KJ834096.1_f0 is 1269bp\n",
      "FN675614.1_f0 is 1269bp\n",
      "AM902522.1_f0 is 1269bp\n",
      "KC545406.1_f0 is 1269bp\n",
      "AF484935.1_f0 is 1269bp\n",
      "HQ852926.1_f0 is 1269bp\n",
      "HQ852933.1_f0 is 1269bp\n",
      "AM889139.1_f0 is 1269bp\n",
      "AB492871.1_f0 is 1269bp\n",
      "AF407093.1_f0 is 1269bp\n",
      "HQ852928.1_f0 is 1269bp\n",
      "AY136558.1_f0 is 1269bp\n",
      "KF742677.1_f0 is 1269bp\n",
      "HQ852940.1_f0 is 1269bp\n",
      "JF505332.1_f0 is 1269bp\n",
      "JF505330.1_f0 is 1269bp\n",
      "KM588075.1_f0 is 1269bp\n",
      "KX388480.1_f0 is 1269bp\n",
      "HQ852929.1_f0 is 1269bp\n",
      "AY136557.1_f0 is 1269bp\n",
      "KP184518.1_f0 is 1269bp\n",
      "KX388475.1_f0 is 1269bp\n",
      "KX388478.1_f0 is 1269bp\n",
      "KX388479.1_f0 is 1269bp\n",
      "KC749448.1_f0 is 1269bp\n",
      "FN675609.1_f0 is 1269bp\n",
      "FN675558.1_f0 is 1269bp\n",
      "FN675611.1_f0 is 1269bp\n",
      "AM902517.1_f0 is 1269bp\n",
      "FN675553.1_f0 is 1269bp\n",
      "FN675555.1_f0 is 1269bp\n",
      "FN675565.1_f0 is 1269bp\n",
      "KC749469.1_f0 is 1269bp\n",
      "LC012932.1_f0 is 1269bp\n",
      "AM902516.1_f0 is 1269bp\n",
      "X57245.1_f0 is 1269bp\n",
      "KJ502237.1_f0 is 1269bp\n",
      "AM902515.1_f0 is 1269bp\n",
      "FJ752430.1_f0 is 1269bp\n",
      "KU049722.1_f0 is 1269bp\n",
      "KT364526.1_f0 is 1269bp\n",
      "U83742.1_f0 is 1269bp\n",
      "KC785614.1_f0 is 1269bp\n",
      "KF955638.1_f0 is 1269bp\n",
      "AM902520.1_f0 is 1269bp\n",
      "FN675574.1_f0 is 1269bp\n",
      "FN675567.1_f0 is 1269bp\n",
      "FN675573.1_f0 is 1269bp\n",
      "U83725.1_f0 is 1269bp\n",
      "EU167063.1_f0 is 1269bp\n",
      "AB219554.1_f0 is 1269bp\n",
      "DQ780884.1_f0 is 1269bp\n",
      "U83724.1_f0 is 1269bp\n",
      "AF173581.1_f0 is 1269bp\n",
      "U83717.1_f0 is 1269bp\n",
      "AB219549.1_f0 is 1269bp\n",
      "KF905228.1_f0 is 1269bp\n",
      "KM360148.1_f0 is 1269bp\n",
      "KJ680300.1_f0 is 1269bp\n",
      "U83716.1_f0 is 1269bp\n",
      "NC_011818.1_f0 is 1269bp\n",
      "AB219551.1_f0 is 1269bp\n",
      "GQ264621.1_f0 is 1269bp\n",
      "KP337337.1_f0 is 1269bp\n",
      "KM364882.1_f0 is 1269bp\n",
      "GQ264612.1_f0 is 1269bp\n",
      "U83719.1_f0 is 1269bp\n",
      "AF380305.2_f0 is 1269bp\n",
      "AB219552.1_f0 is 1269bp\n",
      "AB219546.1_f0 is 1269bp\n",
      "U83721.1_f0 is 1269bp\n",
      "AY747700.1_f0 is 1269bp\n",
      "KF437906.1_f0 is 1269bp\n",
      "AY164515.1_f0 is 1269bp\n",
      "HM063553.1_f0 is 1269bp\n",
      "KF684946.1_f0 is 1269bp\n",
      "AY164521.1_f0 is 1269bp\n",
      "HM063544.1_f0 is 1269bp\n",
      "AY164516.1_f0 is 1269bp\n",
      "AY164529.1_f0 is 1269bp\n",
      "U83738.1_f0 is 1269bp\n",
      "KC466568.1_f0 is 1269bp\n",
      "AY164528.1_f0 is 1269bp\n",
      "AF090337.1_f0 is 1269bp\n",
      "AY164520.1_f0 is 1269bp\n",
      "L16770.1_f0 is 1269bp\n",
      "L22478.1_f0 is 1269bp\n",
      "KJ637997.1_f0 is 1269bp\n",
      "EU009397.1_f0 is 1269bp\n",
      "AY164518.1_f0 is 1269bp\n",
      "HM063537.1_f0 is 1269bp\n",
      "AY164525.1_f0 is 1269bp\n",
      "KF312717.1_f0 is 1269bp\n",
      "HM063539.1_f0 is 1269bp\n",
      "KF203133.1_f0 is 1269bp\n",
      "AY164519.1_f0 is 1269bp\n",
      "KC771255.1_f0 is 1269bp\n",
      "FN675616.1_f0 is 1269bp\n",
      "JF730435.1_f0 is 1269bp\n",
      "AY164526.1_f0 is 1269bp\n",
      "HM063536.1_f0 is 1269bp\n",
      "KT345702.1_f0 is 1269bp\n",
      "HQ890328.1_f0 is 1269bp\n",
      "HM063558.1_f0 is 1269bp\n",
      "KP981363.1_f0 is 1269bp\n",
      "DQ083161.1_f0 is 1269bp\n",
      "KF800698.1_f0 is 1269bp\n",
      "JQ282800.1_f0 is 1269bp\n",
      "AF363031.1_f0 is 1269bp\n",
      "AY164514.1_f0 is 1269bp\n",
      "AY164530.1_f0 is 1269bp\n",
      "HM063557.1_f0 is 1269bp\n",
      "DQ019124.1_f0 is 1269bp\n",
      "EU196361.1_f0 is 1269bp\n",
      "AB219557.1_f0 is 1269bp\n",
      "KM251414.1_f0 is 1269bp\n",
      "DQ780880.1_f0 is 1269bp\n",
      "KM264304.1_f0 is 1269bp\n",
      "KT989235.1_f0 is 1269bp\n",
      "JX029991.1_f0 is 1269bp\n",
      "JQ282801.1_f0 is 1269bp\n",
      "AF090338.1_f0 is 1269bp\n",
      "U83749.1_f0 is 1269bp\n",
      "EU167085.1_f0 is 1269bp\n",
      "EU410491.1_f0 is 1269bp\n",
      "DQ485826.1_f0 is 1269bp\n",
      "EU167074.1_f0 is 1269bp\n",
      "DQ485827.1_f0 is 1269bp\n",
      "KP313718.1_f0 is 1269bp\n",
      "KF644582.1_f0 is 1269bp\n",
      "HQ896036.1_f0 is 1269bp\n",
      "DQ485828.1_f0 is 1269bp\n",
      "U76017.1_f0 is 1269bp\n",
      "EF373325.1_f0 is 1269bp\n",
      "EF373319.1_f0 is 1269bp\n",
      "KT182929.1_f0 is 1269bp\n",
      "AM902521.1_f0 is 1269bp\n",
      "FN675575.1_f0 is 1269bp\n",
      "FN675606.1_f0 is 1269bp\n",
      "FN675576.1_f0 is 1269bp\n",
      "KF907308.1_f0 is 1269bp\n",
      "KP306517.1_f0 is 1269bp\n",
      "KP258178.1_f0 is 1269bp\n",
      "KP319029.1_f0 is 1269bp\n",
      "KF926376.1_f0 is 1269bp\n",
      "FN675579.1_f0 is 1269bp\n",
      "FN675577.1_f0 is 1269bp\n",
      "FN675581.1_f0 is 1269bp\n",
      "FN675578.1_f0 is 1269bp\n",
      "FN675580.1_f0 is 1269bp\n",
      "KP168712.1_f0 is 1269bp\n",
      "GQ240309.1_f0 is 1269bp\n",
      "EU167039.1_f0 is 1269bp\n",
      "AF173582.1_f0 is 1269bp\n",
      "U83747.1_f0 is 1269bp\n",
      "AY274015.1_f0 is 1269bp\n",
      "DQ674559.1_f0 is 1269bp\n",
      "U89214.1_f0 is 1269bp\n",
      "EF373292.1_f0 is 1269bp\n",
      "EU167037.1_f0 is 1269bp\n",
      "U83761.1_f0 is 1269bp\n",
      "AF173576.1_f0 is 1269bp\n",
      "EU167044.1_f0 is 1269bp\n",
      "KF041203.1_f0 is 1269bp\n",
      "EU167052.1_f0 is 1269bp\n",
      "KP757766.1_f0 is 1269bp\n",
      "DQ674564.1_f0 is 1269bp\n",
      "DQ674562.1_f0 is 1269bp\n",
      "EF373101.2_f0 is 1269bp\n",
      "KM873665.1_f0 is 1269bp\n",
      "KM404175.1_f0 is 1269bp\n",
      "KM577158.1_f0 is 1269bp\n",
      "EF373115.2_f0 is 1269bp\n",
      "DQ674565.1_f0 is 1269bp\n",
      "EF373080.2_f0 is 1269bp\n",
      "DQ385269.1_f0 is 1269bp\n",
      "DQ485792.1_f0 is 1269bp\n",
      "AF173565.1_f0 is 1269bp\n",
      "EU167040.1_f0 is 1269bp\n",
      "KJ913674.1_f0 is 1269bp\n",
      "KJ192197.1_f0 is 1269bp\n",
      "KJ190952.1_f0 is 1269bp\n",
      "AF407138.1_f0 is 1269bp\n",
      "EU072995.1_f0 is 1269bp\n",
      "KJ190949.1_f0 is 1269bp\n",
      "KJ190950.1_f0 is 1269bp\n",
      "AF407135.1_f0 is 1269bp\n",
      "AF339358.1_f0 is 1269bp\n",
      "KJ190954.1_f0 is 1269bp\n",
      "AF407145.1_f0 is 1269bp\n",
      "JN018412.1_f0 is 1269bp\n",
      "AF407134.1_f0 is 1269bp\n",
      "DQ485800.1_f0 is 1269bp\n",
      "KJ190945.1_f0 is 1269bp\n",
      "AF407144.1_f0 is 1269bp\n",
      "KJ190948.1_f0 is 1269bp\n",
      "AF407137.1_f0 is 1269bp\n",
      "KJ190947.1_f0 is 1269bp\n",
      "AF407136.1_f0 is 1269bp\n",
      "AF407142.1_f0 is 1269bp\n",
      "KJ190958.1_f0 is 1269bp\n",
      "KJ190957.1_f0 is 1269bp\n",
      "KJ643141.1_f0 is 1269bp\n",
      "AF407141.1_f0 is 1269bp\n",
      "KJ190959.1_f0 is 1269bp\n",
      "HQ690247.1_f0 is 1269bp\n",
      "AF407143.1_f0 is 1269bp\n",
      "DQ485799.1_f0 is 1269bp\n",
      "KJ190955.1_f0 is 1269bp\n",
      "AF407139.1_f0 is 1269bp\n",
      "AF407140.1_f0 is 1269bp\n",
      "DQ674587.1_f0 is 1269bp\n",
      "DQ385270.1_f0 is 1269bp\n",
      "EF380264.2_f0 is 1269bp\n",
      "AY274007.1_f0 is 1269bp\n",
      "AP009194.1_f0 is 1269bp\n",
      "AF173567.1_f0 is 1269bp\n",
      "EU167071.1_f0 is 1269bp\n",
      "AB026818.1_f0 is 1269bp\n",
      "AF173571.1_f0 is 1269bp\n",
      "KF906246.1_f0 is 1269bp\n",
      "KC875856.1_f0 is 1269bp\n",
      "AY158677.2_f0 is 1269bp\n",
      "EF532932.1_f0 is 1269bp\n",
      "U83714.2_f0 is 1269bp\n",
      "AF173568.1_f0 is 1269bp\n",
      "DQ674554.1_f0 is 1269bp\n",
      "AF173578.1_f0 is 1269bp\n",
      "AY293618.1_f0 is 1269bp\n",
      "AY139633.1_f0 is 1269bp\n",
      "AP009190.1_f0 is 1269bp\n",
      "EU167047.1_f0 is 1269bp\n",
      "EU167048.1_f0 is 1269bp\n",
      "AY465753.1_f0 is 1269bp\n",
      "GQ199608.1_f0 is 1269bp\n",
      "DQ485809.1_f0 is 1269bp\n",
      "U76012.1_f0 is 1269bp\n",
      "FJ769855.1_f0 is 1269bp\n",
      "EU167051.1_f0 is 1269bp\n",
      "DQ485815.1_f0 is 1269bp\n",
      "EF373290.1_f0 is 1269bp\n",
      "EF373291.1_f0 is 1269bp\n",
      "JQ520009.1_f0 is 1269bp\n",
      "KT809406.1_f0 is 1269bp\n",
      "AY513121.1_f0 is 1269bp\n",
      "JQ520019.1_f0 is 1269bp\n",
      "JQ520020.1_f0 is 1269bp\n",
      "AF173586.1_f0 is 1269bp\n",
      "JQ520026.1_f0 is 1269bp\n",
      "JQ520028.1_f0 is 1269bp\n",
      "JQ520027.1_f0 is 1269bp\n",
      "JQ520040.1_f0 is 1269bp\n",
      "JQ520042.1_f0 is 1269bp\n",
      "JQ520041.1_f0 is 1269bp\n",
      "AY513124.1_f0 is 1269bp\n",
      "JQ520039.1_f0 is 1269bp\n",
      "JQ520024.1_f0 is 1269bp\n",
      "JQ520022.1_f0 is 1269bp\n",
      "EU372667.2_f0 is 1269bp\n",
      "EF373083.2_f0 is 1269bp\n",
      "KM434134.1_f0 is 1269bp\n",
      "AM902519.1_f0 is 1269bp\n",
      "FN675612.1_f0 is 1269bp\n",
      "DQ385277.1_f0 is 1269bp\n",
      "AJ242688.1_f0 is 1269bp\n",
      "KT350612.1_f0 is 1269bp\n",
      "AY631347.1_f0 is 1269bp\n",
      "AY631336.1_f0 is 1269bp\n",
      "DQ674569.1_f0 is 1269bp\n",
      "DQ674570.1_f0 is 1269bp\n",
      "AY631337.1_f0 is 1269bp\n",
      "AY631342.1_f0 is 1269bp\n",
      "AY631348.1_f0 is 1269bp\n",
      "AY631323.1_f0 is 1269bp\n",
      "AY631325.1_f0 is 1269bp\n",
      "AY631324.1_f0 is 1269bp\n",
      "EF373073.2_f0 is 1269bp\n",
      "AY631349.1_f0 is 1269bp\n",
      "AY631334.1_f0 is 1269bp\n",
      "DQ674571.1_f0 is 1269bp\n",
      "AY631345.1_f0 is 1269bp\n",
      "AY631355.1_f0 is 1269bp\n",
      "AY631341.1_f0 is 1269bp\n",
      "AY631332.1_f0 is 1269bp\n",
      "EF380307.1_f0 is 1269bp\n",
      "EF373109.2_f0 is 1269bp\n",
      "DQ385278.1_f0 is 1269bp\n",
      "EU167080.1_f0 is 1269bp\n",
      "DQ674573.1_f0 is 1269bp\n",
      "AP009042.1_f0 is 1269bp\n",
      "EF373111.2_f0 is 1269bp\n",
      "AJ242687.1_f0 is 1269bp\n",
      "AJ242686.1_f0 is 1269bp\n",
      "DQ485794.1_f0 is 1269bp\n",
      "AJ242683.1_f0 is 1269bp\n",
      "AJ242684.1_f0 is 1269bp\n",
      "DQ385279.1_f0 is 1269bp\n",
      "EF373106.2_f0 is 1269bp\n",
      "EF373097.2_f0 is 1269bp\n",
      "KM577662.1_f0 is 1269bp\n",
      "EU167055.1_f0 is 1269bp\n",
      "DQ485795.1_f0 is 1269bp\n",
      "EF373116.2_f0 is 1269bp\n",
      "DQ385280.1_f0 is 1269bp\n",
      "AF173566.1_f0 is 1269bp\n",
      "AY631327.1_f0 is 1269bp\n",
      "FJ751803.1_f0 is 1269bp\n",
      "DQ674589.1_f0 is 1269bp\n",
      "EU167072.1_f0 is 1269bp\n",
      "AF173572.1_f0 is 1269bp\n",
      "AY139624.1_f0 is 1269bp\n",
      "EF373069.2_f0 is 1269bp\n",
      "JQ962993.1_f0 is 1269bp\n",
      "EF373095.2_f0 is 1269bp\n",
      "JQ962995.1_f0 is 1269bp\n",
      "KP308149.1_f0 is 1269bp\n",
      "AY074885.2_f0 is 1269bp\n",
      "AY894149.1_f0 is 1269bp\n",
      "AY894144.1_f0 is 1269bp\n",
      "AY894146.1_f0 is 1269bp\n",
      "DQ674579.1_f0 is 1269bp\n",
      "AY894150.1_f0 is 1269bp\n",
      "AY894154.1_f0 is 1269bp\n",
      "AY894155.1_f0 is 1269bp\n",
      "DQ674581.1_f0 is 1269bp\n",
      "AY894140.1_f0 is 1269bp\n",
      "AY894151.1_f0 is 1269bp\n",
      "AY894152.1_f0 is 1269bp\n",
      "AY894143.1_f0 is 1269bp\n",
      "AY894142.1_f0 is 1269bp\n",
      "AY894148.1_f0 is 1269bp\n",
      "AY894147.1_f0 is 1269bp\n",
      "DQ674580.1_f0 is 1269bp\n",
      "KX230491.1_f0 is 1269bp\n",
      "AY894141.1_f0 is 1269bp\n",
      "EF373092.2_f0 is 1269bp\n",
      "AY894153.1_f0 is 1269bp\n",
      "EF373091.2_f0 is 1269bp\n",
      "JQ962991.1_f0 is 1269bp\n",
      "JQ962990.1_f0 is 1269bp\n",
      "JQ962985.1_f0 is 1269bp\n",
      "FJ603666.1_f0 is 1269bp\n",
      "DQ674576.1_f0 is 1269bp\n",
      "EF373093.2_f0 is 1269bp\n",
      "KF041185.1_f0 is 1269bp\n",
      "KF041204.1_f0 is 1269bp\n",
      "KF041181.1_f0 is 1269bp\n",
      "KF041205.1_f0 is 1269bp\n",
      "KF041186.1_f0 is 1269bp\n",
      "KF041196.1_f0 is 1269bp\n",
      "KF041184.1_f0 is 1269bp\n",
      "KF041188.1_f0 is 1269bp\n",
      "KF041199.1_f0 is 1269bp\n",
      "KF041189.1_f0 is 1269bp\n",
      "KF041187.1_f0 is 1269bp\n",
      "KF041183.1_f0 is 1269bp\n",
      "KF041192.1_f0 is 1269bp\n",
      "KF041182.1_f0 is 1269bp\n",
      "KF041193.1_f0 is 1269bp\n",
      "KF041207.1_f0 is 1269bp\n",
      "KF041191.1_f0 is 1269bp\n",
      "KF041190.1_f0 is 1269bp\n",
      "KF041195.1_f0 is 1269bp\n",
      "KF041198.1_f0 is 1269bp\n",
      "KF041197.1_f0 is 1269bp\n",
      "JQ962988.1_f0 is 1269bp\n",
      "EF373114.2_f0 is 1269bp\n",
      "EF373071.2_f0 is 1269bp\n",
      "EF373100.2_f0 is 1269bp\n",
      "EF373089.2_f0 is 1269bp\n",
      "HQ852944.1_f0 is 1269bp\n",
      "JN695767.1_f0 is 1269bp\n",
      "HQ852934.1_f0 is 1269bp\n",
      "JF914828.1_f0 is 1269bp\n",
      "X86804.1_f0 is 1269bp\n",
      "JF914834.1_f0 is 1269bp\n",
      "EU197058.1_f0 is 1269bp\n",
      "L33370.1_f0 is 1269bp\n",
      "AF140990.1_f0 is 1269bp\n",
      "AY887673.1_f0 is 1269bp\n",
      "AF173712.1_f0 is 1269bp\n",
      "EF027325.1_f0 is 1269bp\n",
      "GQ255993.1_f0 is 1269bp\n",
      "EU154560.1_f0 is 1269bp\n",
      "JQ422404.1_f0 is 1269bp\n",
      "JQ422391.1_f0 is 1269bp\n",
      "L33380.1_f0 is 1269bp\n",
      "AF285807.1_f0 is 1269bp\n",
      "AF285805.1_f0 is 1269bp\n",
      "AB042364.1_f0 is 1269bp\n",
      "AF285799.1_f0 is 1269bp\n",
      "KJ685955.1_f0 is 1269bp\n",
      "AF285801.1_f0 is 1269bp\n",
      "AF285803.1_f0 is 1269bp\n",
      "FJ627047.1_f0 is 1269bp\n",
      "AJ583550.1_f0 is 1269bp\n",
      "JX683977.1_f0 is 1269bp\n",
      "EF027329.1_f0 is 1269bp\n",
      "JQ422425.1_f0 is 1269bp\n",
      "AY766387.1_f0 is 1269bp\n",
      "KJ676690.1_f0 is 1269bp\n",
      "EU154487.1_f0 is 1269bp\n",
      "U88028.1_f0 is 1269bp\n",
      "JN695762.1_f0 is 1269bp\n",
      "U88024.1_f0 is 1269bp\n",
      "EU154539.1_f0 is 1269bp\n",
      "EF027314.1_f0 is 1269bp\n",
      "U88020.1_f0 is 1269bp\n",
      "X87621.1_f0 is 1269bp\n",
      "EF027324.1_f0 is 1269bp\n",
      "EU154549.1_f0 is 1269bp\n",
      "EU154488.1_f0 is 1269bp\n",
      "L33376.1_f0 is 1269bp\n",
      "AF376937.1_f0 is 1269bp\n",
      "JF914825.1_f0 is 1269bp\n",
      "KF781332.1_f0 is 1269bp\n",
      "AF202187.1_f0 is 1269bp\n",
      "AY903609.1_f0 is 1269bp\n",
      "AY887668.1_f0 is 1269bp\n",
      "L33388.1_f0 is 1269bp\n",
      "AY635103.1_f0 is 1269bp\n",
      "AF230152.1_f0 is 1269bp\n",
      "EU154492.1_f0 is 1269bp\n",
      "U38355.1_f0 is 1269bp\n",
      "EU154491.1_f0 is 1269bp\n",
      "KJ676688.1_f0 is 1269bp\n",
      "AF140997.1_f0 is 1269bp\n",
      "JQ962998.1_f0 is 1269bp\n",
      "JX683980.1_f0 is 1269bp\n",
      "JQ422386.1_f0 is 1269bp\n",
      "AY766388.1_f0 is 1269bp\n",
      "AF230156.1_f0 is 1269bp\n",
      "L33390.1_f0 is 1269bp\n",
      "AF285800.1_f0 is 1269bp\n",
      "KJ685956.1_f0 is 1269bp\n",
      "KJ676689.1_f0 is 1269bp\n",
      "JQ962996.1_f0 is 1269bp\n",
      "AF285808.1_f0 is 1269bp\n",
      "X87855.1_f0 is 1269bp\n",
      "X87853.1_f0 is 1269bp\n",
      "KJ676687.1_f0 is 1269bp\n",
      "JQ422444.1_f0 is 1269bp\n",
      "AF230158.1_f0 is 1269bp\n",
      "U88023.1_f0 is 1269bp\n",
      "X87857.1_f0 is 1269bp\n",
      "AF285806.1_f0 is 1269bp\n",
      "AF173689.1_f0 is 1269bp\n",
      "AF173691.1_f0 is 1269bp\n",
      "U88002.1_f0 is 1269bp\n",
      "KJ676686.1_f0 is 1269bp\n",
      "JX683976.1_f0 is 1269bp\n",
      "AF285804.1_f0 is 1269bp\n",
      "EF027303.1_f0 is 1269bp\n",
      "AF232902.1_f0 is 1269bp\n",
      "AB080369.1_f0 is 1269bp\n",
      "AM778107.1_f0 is 1269bp\n",
      "AJ490507.1_f0 is 1269bp\n",
      "AY447960.1_f0 is 1269bp\n",
      "AY447962.1_f0 is 1269bp\n",
      "AY447952.1_f0 is 1269bp\n",
      "AY635094.1_f0 is 1269bp\n",
      "GU799592.1_f0 is 1269bp\n",
      "AB042354.1_f0 is 1269bp\n",
      "GU390892.1_f0 is 1269bp\n",
      "GU799590.1_f0 is 1269bp\n",
      "JN695748.1_f0 is 1269bp\n",
      "KF469284.1_f0 is 1269bp\n",
      "AB080368.1_f0 is 1269bp\n",
      "KF781324.1_f0 is 1269bp\n",
      "KP267717.1_f0 is 1269bp\n",
      "EF027334.1_f0 is 1269bp\n",
      "AY635139.1_f0 is 1269bp\n",
      "KP267713.1_f0 is 1269bp\n",
      "KP267715.1_f0 is 1269bp\n",
      "AM778108.1_f0 is 1269bp\n",
      "AF173713.1_f0 is 1269bp\n",
      "AY167413.1_f0 is 1269bp\n",
      "EU154569.1_f0 is 1269bp\n",
      "EU154573.1_f0 is 1269bp\n",
      "AY635097.1_f0 is 1269bp\n",
      "AY635096.1_f0 is 1269bp\n",
      "AY635095.1_f0 is 1269bp\n",
      "AY034150.1_f0 is 1269bp\n",
      "AY635093.1_f0 is 1269bp\n",
      "AB042353.1_f0 is 1269bp\n",
      "EF027299.1_f0 is 1269bp\n",
      "AY635092.1_f0 is 1269bp\n",
      "EF514931.1_f0 is 1269bp\n",
      "EF514932.1_f0 is 1269bp\n",
      "GU390889.1_f0 is 1269bp\n",
      "AY635099.1_f0 is 1269bp\n",
      "KP267716.1_f0 is 1269bp\n",
      "EU154578.1_f0 is 1269bp\n",
      "GU390887.1_f0 is 1269bp\n",
      "EU624267.1_f0 is 1269bp\n",
      "KX080601.1_f0 is 1269bp\n",
      "AF080298.1_f0 is 1269bp\n",
      "U81328.1_f0 is 1269bp\n",
      "AF149947.1_f0 is 1269bp\n",
      "GU477770.1_f0 is 1269bp\n"
     ]
    }
   ],
   "source": [
    "from Bio import AlignIO\n",
    "from Bio.Alphabet import generic_dna\n",
    "\n",
    "aln = AlignIO.read(open(\"12S_bird500bpref_plus_short_query_SATIVA.sto\"), \"stockholm\", alphabet=generic_dna)\n",
    "for r in aln:\n",
    "    print(r.id + \" is \" + str(len(r)) + \"bp\")"
   ]
  },
  {
   "cell_type": "code",
   "execution_count": 7,
   "metadata": {
    "collapsed": true
   },
   "outputs": [],
   "source": [
    "pj.alignments['rrnS@bird_align_allseq_SATIVA'] = aln"
   ]
  },
  {
   "cell_type": "code",
   "execution_count": 8,
   "metadata": {
    "collapsed": false
   },
   "outputs": [
    {
     "data": {
      "text/plain": [
       "{'rrnS@bird_align_allseq_SATIVA': <<class 'Bio.Align.MultipleSeqAlignment'> instance (615 records of length 1269, DNAAlphabet()) at 7f9d6de41fd0>,\n",
       " 'rrnS@muscleDefault-500bp-SATIVA': <<class 'Bio.Align.MultipleSeqAlignment'> instance (485 records of length 1215, IUPACProtein()) at 7f9d6de0a410>}"
      ]
     },
     "execution_count": 8,
     "metadata": {},
     "output_type": "execute_result"
    }
   ],
   "source": [
    "pj.alignments"
   ]
  },
  {
   "cell_type": "code",
   "execution_count": 9,
   "metadata": {
    "collapsed": false
   },
   "outputs": [
    {
     "data": {
      "text/plain": [
       "['rrnS@bird_align_allseq_SATIVA', 'rrnS@muscleDefault-500bp-SATIVA']"
      ]
     },
     "execution_count": 9,
     "metadata": {},
     "output_type": "execute_result"
    }
   ],
   "source": [
    "pj.alignments.keys()"
   ]
  },
  {
   "cell_type": "markdown",
   "metadata": {},
   "source": [
    "Trim the alignment."
   ]
  },
  {
   "cell_type": "code",
   "execution_count": 10,
   "metadata": {
    "collapsed": false
   },
   "outputs": [
    {
     "name": "stdout",
     "output_type": "stream",
     "text": [
      "trimal -in 397151477849508.27_rrnS@bird_align_allseq_SATIVA.fasta -gappyout\n"
     ]
    }
   ],
   "source": [
    "gappyout = TrimalConf(pj,                      # The Project\n",
    "\n",
    "                      method_name='gappyout',  # Any unique string \n",
    "                                               # ('gappyout' is default)\n",
    "\n",
    "                      program_name='trimal',   # No alternatives in \n",
    "                                               # this ReproPhylo version\n",
    "\n",
    "                      cmd='default',           # the default is trimal. \n",
    "                                               # Change it here\n",
    "                                               # or in pj.defaults['trimal']\n",
    "\n",
    "                      alns=['rrnS@bird_align_allseq_SATIVA'],# 'all' by default\n",
    "\n",
    "                      trimal_commands={'gappyout': True} # By default, the gappyout algorithm is used.\n",
    "                      )"
   ]
  },
  {
   "cell_type": "code",
   "execution_count": 11,
   "metadata": {
    "collapsed": true
   },
   "outputs": [],
   "source": [
    "pj.trim([gappyout])"
   ]
  },
  {
   "cell_type": "code",
   "execution_count": 12,
   "metadata": {
    "collapsed": false
   },
   "outputs": [
    {
     "name": "stdout",
     "output_type": "stream",
     "text": [
      "TrimalConf named gappyout with ID 397151477849508.27\n",
      "Alignments: rrnS@bird_align_allseq_SATIVA \n",
      "Created on: Sun Oct 30 17:45:08 2016\n",
      "Commands:\n",
      "rrnS@bird_align_allseq_SATIVA@gappyout: trimal -in 397151477849508.27_rrnS@bird_align_allseq_SATIVA.fasta -gappyout\n",
      "\n",
      "Environment:Platform: Linux-4.4.0-38-generic-x86_64-with-Ubuntu-14.04-trusty\n",
      " Processor: x86_64\n",
      " Python build: defaultMar 22 2014 22:59:56\n",
      " Python compiler: GCC 4.8.2\n",
      " Python implementation: CPython\n",
      " Python version: 2.7.6\n",
      " ete2 version: 2.2.1072\n",
      " biopython version: 1.68\n",
      " dendropy version: 3.12.2\n",
      " cloud version: 2.8.5\n",
      " reprophylo version 1.3\n",
      " User: biopc4\n",
      " Program and version: trimAl 1.2rev59\n",
      " Program reference: Salvador Capella-Gutierrez; Jose M. Silla-Martinez; Toni Gabaldon. trimAl: a tool for automated alignment trimming in large-scale phylogenetic analyses. Bioinformatics 2009 25: 1972-1973.\n",
      "execution time:\n",
      "4.07524299622\n",
      "\n",
      "==============================\n",
      "Core Methods section sentence:\n",
      "==============================\n",
      "The alignment(s) rrnS@bird_align_allseq_SATIVA were trimmed using the program trimAl 1.2rev59 [1].\n",
      "\n",
      "Reference:\n",
      "Salvador Capella-Gutierrez; Jose M. Silla-Martinez; Toni Gabaldon. trimAl: a tool for automated alignment trimming in large-scale phylogenetic analyses. Bioinformatics 2009 25: 1972-1973.\n",
      "\n"
     ]
    }
   ],
   "source": [
    "print pj.used_methods['gappyout']"
   ]
  },
  {
   "cell_type": "code",
   "execution_count": 13,
   "metadata": {
    "collapsed": false
   },
   "outputs": [
    {
     "data": {
      "text/plain": [
       "{'rrnS@bird_align_allseq_SATIVA@gappyout': <<class 'Bio.Align.MultipleSeqAlignment'> instance (615 records of length 604, IUPACAmbiguousDNA()) at 7f9d6de794d0>,\n",
       " 'rrnS@muscleDefault-500bp-SATIVA@gappyout': <<class 'Bio.Align.MultipleSeqAlignment'> instance (485 records of length 605, IUPACAmbiguousDNA()) at 7f9d7031dd90>}"
      ]
     },
     "execution_count": 13,
     "metadata": {},
     "output_type": "execute_result"
    }
   ],
   "source": [
    "pj.trimmed_alignments"
   ]
  },
  {
   "cell_type": "code",
   "execution_count": 14,
   "metadata": {
    "collapsed": false
   },
   "outputs": [
    {
     "data": {
      "text/plain": [
       "['rrnS@muscleDefault-500bp-SATIVA@gappyout_trimmed_aln.fasta',\n",
       " 'rrnS@bird_align_allseq_SATIVA@gappyout_trimmed_aln.fasta']"
      ]
     },
     "execution_count": 14,
     "metadata": {},
     "output_type": "execute_result"
    }
   ],
   "source": [
    "files = pj.write_trimmed_alns(id=['record_id','source_organism'],\n",
    "                                   format='fasta')\n",
    "files"
   ]
  },
  {
   "cell_type": "markdown",
   "metadata": {},
   "source": [
    "Infer Maximum Likelihood tree based on the clipped alignment. We are going to use RAxML.\n",
    "\n",
    "Configure RAxML."
   ]
  },
  {
   "cell_type": "code",
   "execution_count": 15,
   "metadata": {
    "collapsed": false
   },
   "outputs": [
    {
     "name": "stdout",
     "output_type": "stream",
     "text": [
      "raxmlHPC-PTHREADS-SSE3 -f a -m GTRGAMMA -n 567111477849675.06_rrnS@bird_align_allseq_SATIVA@gappyout0 -p 651 -s 567111477849675.06_rrnS@bird_align_allseq_SATIVA@gappyout.fasta -T 5 -x 122 -N 100\n"
     ]
    }
   ],
   "source": [
    "raxml = RaxmlConf(pj, method_name='raxml-muscleDefault-trimmed',\n",
    "                  program_name='raxmlHPC-PTHREADS-SSE3',\n",
    "                  keepfiles=True,\n",
    "                  cmd='raxmlHPC-PTHREADS-SSE3',\n",
    "                  preset='fa',\n",
    "                  alns=['rrnS@bird_align_allseq_SATIVA@gappyout'],\n",
    "                  model='GAMMA', \n",
    "                  threads=5,\n",
    "                  cline_args={'-#': 100})"
   ]
  },
  {
   "cell_type": "code",
   "execution_count": 16,
   "metadata": {
    "collapsed": false
   },
   "outputs": [],
   "source": [
    "pj.tree([raxml])"
   ]
  },
  {
   "cell_type": "code",
   "execution_count": 17,
   "metadata": {
    "collapsed": false
   },
   "outputs": [
    {
     "name": "stdout",
     "output_type": "stream",
     "text": [
      "RaxmlConf named raxml-muscleDefault-trimmed with ID 567111477849675.06\n",
      "Alignments: rrnS@bird_align_allseq_SATIVA@gappyout \n",
      "Created on: Sun Oct 30 17:47:55 2016\n",
      "Commands:\n",
      "rrnS@bird_align_allseq_SATIVA@gappyout:\n",
      "raxmlHPC-PTHREADS-SSE3 -f a -m GTRGAMMA -n 567111477849675.06_rrnS@bird_align_allseq_SATIVA@gappyout0 -p 651 -s 567111477849675.06_rrnS@bird_align_allseq_SATIVA@gappyout.fasta -T 5 -x 122 -N 100\n",
      "\n",
      "Environment:\n",
      "Platform: Linux-4.4.0-38-generic-x86_64-with-Ubuntu-14.04-trusty\n",
      " Processor: x86_64\n",
      " Python build: defaultMar 22 2014 22:59:56\n",
      " Python compiler: GCC 4.8.2\n",
      " Python implementation: CPython\n",
      " Python version: 2.7.6\n",
      " ete2 version: 2.2.1072\n",
      " biopython version: 1.68\n",
      " dendropy version: 3.12.2\n",
      " cloud version: 2.8.5\n",
      " reprophylo version 1.3\n",
      " User: biopc4\n",
      " Program and version: raxmlHPC-PTHREADS-SSE3RAxML version 8.0.12\n",
      " Program reference: A. Stamatakis: RAxML Version 8: A tool for Phylogenetic Analysis and Post-Analysis of Large Phylogenies. In Bioinformatics\n",
      " 2014.\n",
      "execution time:\n",
      "6658.6409061\n",
      "\n",
      "==============================\n",
      "Core Methods section sentence:\n",
      "==============================\n",
      "Phylogenetic trees were reconstructed from the dataset(s) rrnS@bird_align_allseq_SATIVA@gappyout using the program raxmlHPC-PTHREADS-SSE3RAxML version 8.0.12 [1].\n",
      "\n",
      "Reference:\n",
      "A. Stamatakis: RAxML Version 8: A tool for Phylogenetic Analysis and Post-Analysis of Large Phylogenies. In Bioinformatics, 2014.\n",
      "\n"
     ]
    }
   ],
   "source": [
    "print pj.used_methods['raxml-muscleDefault-trimmed']"
   ]
  },
  {
   "cell_type": "code",
   "execution_count": 18,
   "metadata": {
    "collapsed": false
   },
   "outputs": [
    {
     "data": {
      "text/plain": [
       "['rrnS@muscleDefault-500bp-SATIVA@gappyout@raxml-muscleDefault-500bp-SATIVA-trimmed',\n",
       " 'rrnS@bird_align_allseq_SATIVA@gappyout@raxml-muscleDefault-trimmed']"
      ]
     },
     "execution_count": 18,
     "metadata": {},
     "output_type": "execute_result"
    }
   ],
   "source": [
    "pj.trees.keys()"
   ]
  },
  {
   "cell_type": "markdown",
   "metadata": {},
   "source": [
    "Pickle the project."
   ]
  },
  {
   "cell_type": "code",
   "execution_count": 19,
   "metadata": {
    "collapsed": false
   },
   "outputs": [
    {
     "data": {
      "text/plain": [
       "'bird_post_SATIVA.pkl'"
      ]
     },
     "execution_count": 19,
     "metadata": {},
     "output_type": "execute_result"
    }
   ],
   "source": [
    "pickle_pj(pj, 'bird_post_SATIVA.pkl')"
   ]
  },
  {
   "cell_type": "markdown",
   "metadata": {},
   "source": [
    "# Visualise tree"
   ]
  },
  {
   "cell_type": "markdown",
   "metadata": {},
   "source": [
    "Now let's visualize the tree containing all 12S rRNA sequences with outliers identified by SATIVA removed.\n",
    "\n",
    "- Prepare tree annotation:\n",
    "- define outgroups\n",
    "- specify support coloration"
   ]
  },
  {
   "cell_type": "code",
   "execution_count": 20,
   "metadata": {
    "collapsed": true
   },
   "outputs": [],
   "source": [
    "pj.add_qualifier_from_source('organism')"
   ]
  },
  {
   "cell_type": "code",
   "execution_count": 21,
   "metadata": {
    "collapsed": true
   },
   "outputs": [],
   "source": [
    "for species in ['Lacerta','Trachemys','Vipera']:\n",
    "    pj.if_this_then_that(species, 'organism', 'outgroup', 'outgroup',\n",
    "                         mode='part')"
   ]
  },
  {
   "cell_type": "code",
   "execution_count": 22,
   "metadata": {
    "collapsed": true
   },
   "outputs": [],
   "source": [
    "supports = {'black': [100,95],\n",
    "            'dimgray': [95,75],\n",
    "            'silver': [75,50]}"
   ]
  },
  {
   "cell_type": "code",
   "execution_count": 23,
   "metadata": {
    "collapsed": true
   },
   "outputs": [],
   "source": [
    "pj.clear_tree_annotations()\n",
    "pj.annotate('.', 'outgroup', 'outgroup', \n",
    "            ['source_organism', 'record_id'], \n",
    "            node_support_dict=supports, multifurc=10,\n",
    "            html='muscleDefault-trimmed-bird-all-SATIVA-raxml.html')"
   ]
  },
  {
   "cell_type": "markdown",
   "metadata": {},
   "source": [
    "Create a static copy of the tree (the last *.png with the expected alignment id) for later."
   ]
  },
  {
   "cell_type": "code",
   "execution_count": 24,
   "metadata": {
    "collapsed": false
   },
   "outputs": [],
   "source": [
    "%%bash\n",
    "\n",
    "last_png=$(ls -hlrt *rrnS@bird_align_allseq_SATIVA@gappyout.png | tail -n 1 | perl -ne 'chomp; @a=split(\" \"); print \"$a[-1]\"')\n",
    "cp $last_png rrnS_muscleDefault-trimmed-bird-all-SATIVA-raxml.png"
   ]
  },
  {
   "cell_type": "markdown",
   "metadata": {},
   "source": [
    "Pickle the project."
   ]
  },
  {
   "cell_type": "code",
   "execution_count": 25,
   "metadata": {
    "collapsed": false
   },
   "outputs": [
    {
     "data": {
      "text/plain": [
       "'bird_post_SATIVA.pkl'"
      ]
     },
     "execution_count": 25,
     "metadata": {},
     "output_type": "execute_result"
    }
   ],
   "source": [
    "pickle_pj(pj, 'bird_post_SATIVA.pkl')"
   ]
  },
  {
   "cell_type": "markdown",
   "metadata": {},
   "source": [
    "Write out alignment for pplacer input. Need to modify record id - remove the '_f0' that is appended by Reprophylo."
   ]
  },
  {
   "cell_type": "code",
   "execution_count": 26,
   "metadata": {
    "collapsed": false
   },
   "outputs": [
    {
     "name": "stdout",
     "output_type": "stream",
     "text": [
      "returning trimmed alignment object rrnS@bird_align_allseq_SATIVA@gappyout\n"
     ]
    }
   ],
   "source": [
    "from Bio import AlignIO\n",
    "\n",
    "aln = pj.fta('rrnS@bird_align_allseq_SATIVA@gappyout')\n",
    "\n",
    "for r in aln:\n",
    "    r.id = \"_\".join(r.id.split(\"_\")[:-1])\n",
    "    r.description = r.id\n",
    "    \n",
    "out=open('../12S_UKbirds_SATIVA_cleaned.alignment.fasta', 'w')\n",
    "AlignIO.write(aln, out, 'fasta')\n",
    "out.close()\n",
    "\n",
    "out=open('../12S_UKbirds_SATIVA_cleaned.alignment.phylip', 'w')\n",
    "AlignIO.write(aln, out, 'phylip-relaxed')\n",
    "out.close()"
   ]
  }
 ],
 "metadata": {
  "kernelspec": {
   "display_name": "Python 2",
   "language": "python",
   "name": "python2"
  },
  "language_info": {
   "codemirror_mode": {
    "name": "ipython",
    "version": 2
   },
   "file_extension": ".py",
   "mimetype": "text/x-python",
   "name": "python",
   "nbconvert_exporter": "python",
   "pygments_lexer": "ipython2",
   "version": "2.7.6"
  }
 },
 "nbformat": 4,
 "nbformat_minor": 0
}
