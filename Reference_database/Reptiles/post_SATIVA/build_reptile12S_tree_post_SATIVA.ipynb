{
 "cells": [
  {
   "cell_type": "markdown",
   "metadata": {},
   "source": [
    "Exclude the records that SATIVA has highligted, redo the alignment and rebuild the tree."
   ]
  },
  {
   "cell_type": "code",
   "execution_count": 4,
   "metadata": {
    "collapsed": true
   },
   "outputs": [],
   "source": [
    "from reprophylo import *"
   ]
  },
  {
   "cell_type": "code",
   "execution_count": 2,
   "metadata": {
    "collapsed": false
   },
   "outputs": [
    {
     "name": "stderr",
     "output_type": "stream",
     "text": [
      "DEBUG:Cloud:Log file (/root/.picloud/cloud.log) opened\n"
     ]
    }
   ],
   "source": [
    "pj=Project('../fetch_clean_align_tree/reptile_target_locus.csv', pickle='rep_post_SATIVA.pkl', git=False)"
   ]
  },
  {
   "cell_type": "code",
   "execution_count": 3,
   "metadata": {
    "collapsed": false
   },
   "outputs": [
    {
     "name": "stderr",
     "output_type": "stream",
     "text": [
      "/home/reprophylo/reprophylo.py:1015: UserWarning: Version control off\n",
      "  warnings.warn('Version control off')\n"
     ]
    }
   ],
   "source": [
    "pj.read_embl_genbank(['../fetch_clean_align_tree/12S_preSATIVA_reptiles.gb'])"
   ]
  },
  {
   "cell_type": "code",
   "execution_count": 4,
   "metadata": {
    "collapsed": true
   },
   "outputs": [],
   "source": [
    "pj.extract_by_locus()"
   ]
  },
  {
   "cell_type": "markdown",
   "metadata": {},
   "source": [
    "Set the stage:"
   ]
  },
  {
   "cell_type": "code",
   "execution_count": 5,
   "metadata": {
    "collapsed": false
   },
   "outputs": [
    {
     "name": "stdout",
     "output_type": "stream",
     "text": [
      "to drop: 0\n",
      "to keep: 0\n",
      "TOTAL: 0\n"
     ]
    }
   ],
   "source": [
    "recs_to_keep = {'rrnS': []}\n",
    "recs_to_drop = {'rrnS': []}\n",
    "\n",
    "print \"to drop: %s\" %len(recs_to_drop['rrnS'])\n",
    "print \"to keep: %s\" %len(recs_to_keep['rrnS'])\n",
    "\n",
    "print \"TOTAL: %s\" %(len(recs_to_drop['rrnS']) + len(recs_to_keep['rrnS']))"
   ]
  },
  {
   "cell_type": "markdown",
   "metadata": {},
   "source": [
    "Record all record ids and assign them the status keep."
   ]
  },
  {
   "cell_type": "code",
   "execution_count": 6,
   "metadata": {
    "collapsed": true
   },
   "outputs": [],
   "source": [
    "for r in pj.records_by_locus['rrnS']:\n",
    "    recs_to_keep['rrnS'].append(\"_\".join(r.id.split(\"_\")[:-1]))"
   ]
  },
  {
   "cell_type": "code",
   "execution_count": 7,
   "metadata": {
    "collapsed": false
   },
   "outputs": [
    {
     "name": "stdout",
     "output_type": "stream",
     "text": [
      "to drop: 0\n",
      "to keep: 113\n",
      "TOTAL: 113\n"
     ]
    }
   ],
   "source": [
    "print \"to drop: %s\" %len(recs_to_drop['rrnS'])\n",
    "print \"to keep: %s\" %len(recs_to_keep['rrnS'])\n",
    "\n",
    "print \"TOTAL: %s\" %(len(recs_to_drop['rrnS']) + len(recs_to_keep['rrnS']))"
   ]
  },
  {
   "cell_type": "markdown",
   "metadata": {},
   "source": [
    "How many do we want to drop? Parse SATIVA output and extract records ids putatively mislabeled."
   ]
  },
  {
   "cell_type": "code",
   "execution_count": 8,
   "metadata": {
    "collapsed": true
   },
   "outputs": [],
   "source": [
    "rec_mislabelled = {}\n",
    "sativa=open('../SATIVA/12S.mis', 'r')\n",
    "\n",
    "for line in sativa:\n",
    "    if not line.startswith(\";\"):\n",
    "        rec_mislabelled[line.split(\"\\t\")[0]] = line.split(\"\\t\")[4]\n",
    "        "
   ]
  },
  {
   "cell_type": "code",
   "execution_count": 9,
   "metadata": {
    "collapsed": false
   },
   "outputs": [
    {
     "name": "stdout",
     "output_type": "stream",
     "text": [
      "1\n"
     ]
    }
   ],
   "source": [
    "print len(rec_mislabelled)"
   ]
  },
  {
   "cell_type": "markdown",
   "metadata": {},
   "source": [
    "Adjust lists accordingly."
   ]
  },
  {
   "cell_type": "code",
   "execution_count": 10,
   "metadata": {
    "collapsed": false
   },
   "outputs": [
    {
     "name": "stdout",
     "output_type": "stream",
     "text": [
      "HQ442366.1\n",
      "\tadd to droplist\n",
      "\tremove from keeplist\n"
     ]
    }
   ],
   "source": [
    "for r in rec_mislabelled:\n",
    "    print r\n",
    "    if not r in recs_to_drop['rrnS']:\n",
    "        print \"\\tadd to droplist\"\n",
    "        recs_to_drop['rrnS'].append(r)\n",
    "    for i in reversed(range(len(recs_to_keep['rrnS']))):\n",
    "#        print i\n",
    "        if r in recs_to_keep['rrnS'][i]:\n",
    "            print \"\\tremove from keeplist\"\n",
    "            del(recs_to_keep['rrnS'][i])"
   ]
  },
  {
   "cell_type": "code",
   "execution_count": 11,
   "metadata": {
    "collapsed": false
   },
   "outputs": [
    {
     "name": "stdout",
     "output_type": "stream",
     "text": [
      "to drop: 1\n",
      "to keep: 112\n",
      "TOTAL: 113\n"
     ]
    }
   ],
   "source": [
    "print \"to drop: %s\" %len(recs_to_drop['rrnS'])\n",
    "print \"to keep: %s\" %len(recs_to_keep['rrnS'])\n",
    "\n",
    "print \"TOTAL: %s\" %(len(recs_to_drop['rrnS']) + len(recs_to_keep['rrnS']))"
   ]
  },
  {
   "cell_type": "markdown",
   "metadata": {},
   "source": [
    "Write out good records in full Genbank format including all metadata. Adjust to valid species and taxids before doing it.\n",
    "\n",
    "Identify records with Subspecies."
   ]
  },
  {
   "cell_type": "code",
   "execution_count": 12,
   "metadata": {
    "collapsed": false
   },
   "outputs": [
    {
     "name": "stdout",
     "output_type": "stream",
     "text": [
      "Podarcis muralis  .. add to records\n",
      "Podarcis muralis  .. already covered\n",
      "Emys orbicularis  .. add to records\n",
      "Podarcis muralis  .. already covered\n",
      "Chelonia mydas  .. add to records\n",
      "Zootoca vivipara  .. add to records\n",
      "Zootoca vivipara  .. already covered\n",
      "Zootoca vivipara  .. already covered\n",
      "Eretmochelys imbricata  .. add to records\n",
      "Zootoca vivipara  .. already covered\n",
      "Eretmochelys imbricata  .. already covered\n",
      "Chelonia mydas  .. already covered\n",
      "Lacerta viridis  .. add to records\n",
      "Emys orbicularis  .. already covered\n",
      "Lacerta agilis  .. add to records\n",
      "Eretmochelys imbricata  .. already covered\n",
      "Podarcis muralis  .. already covered\n",
      "Chelydra serpentina  .. add to records\n",
      "Trachemys scripta  .. add to records\n",
      "Podarcis muralis  .. already covered\n",
      "Chelonia mydas  .. already covered\n",
      "Podarcis muralis  .. already covered\n",
      "Podarcis muralis  .. already covered\n",
      "Podarcis muralis  .. already covered\n",
      "Podarcis muralis  .. already covered\n",
      "Lacerta viridis  .. already covered\n",
      "Lepidochelys kempii  .. add to records\n",
      "Chelonia mydas  .. already covered\n",
      "Emys orbicularis  .. already covered\n",
      "Caretta caretta  .. add to records\n",
      "Emys orbicularis  .. already covered\n",
      "Podarcis muralis  .. already covered\n",
      "Lacerta viridis  .. already covered\n",
      "subspecies: Chrysemys picta bellii\n",
      "Podarcis muralis  .. already covered\n",
      "Chelydra serpentina  .. already covered\n",
      "Lepidochelys kempii  .. already covered\n",
      "Eretmochelys imbricata  .. already covered\n",
      "Podarcis muralis  .. already covered\n",
      "Zootoca vivipara  .. already covered\n",
      "Emys orbicularis  .. already covered\n",
      "Chelonia mydas  .. already covered\n",
      "Natrix natrix  .. add to records\n",
      "Chelydra serpentina  .. already covered\n",
      "subspecies: Emys orbicularis orbicularis\n",
      "Caretta caretta  .. already covered\n",
      "subspecies: Trachemys scripta scripta\n",
      "Natrix natrix  .. already covered\n",
      "Lacerta viridis  .. already covered\n",
      "Chrysemys picta  .. add to records\n",
      "Caretta caretta  .. already covered\n",
      "Dermochelys coriacea  .. add to records\n",
      "Trachemys scripta  .. already covered\n",
      "Lacerta agilis  .. already covered\n",
      "Lacerta viridis  .. already covered\n",
      "Caretta caretta  .. already covered\n",
      "Eretmochelys imbricata  .. already covered\n",
      "Lacerta agilis  .. already covered\n",
      "Anguis fragilis  .. add to records\n",
      "Podarcis muralis  .. already covered\n",
      "Emys orbicularis  .. already covered\n",
      "Coronella austriaca  .. add to records\n",
      "subspecies: Emys orbicularis orbicularis\n",
      "Podarcis muralis  .. already covered\n",
      "Trachemys scripta  .. already covered\n",
      "Chelydra serpentina  .. already covered\n",
      "Vipera berus  .. add to records\n",
      "Dermochelys coriacea  .. already covered\n",
      "subspecies: Lacerta viridis viridis\n",
      "Mauremys caspica  .. add to records\n",
      "Chelonia mydas  .. already covered\n",
      "Zamenis longissimus  .. add to records\n",
      "Lacerta viridis  .. already covered\n",
      "Vipera berus  .. already covered\n",
      "Podarcis muralis  .. already covered\n",
      "Chelonia mydas  .. already covered\n",
      "Mauremys caspica  .. already covered\n",
      "Coronella austriaca  .. already covered\n",
      "Caretta caretta  .. already covered\n",
      "Lacerta agilis  .. already covered\n",
      "Natrix natrix  .. already covered\n",
      "Podarcis muralis  .. already covered\n",
      "subspecies: Trachemys scripta elegans\n",
      "Podarcis muralis  .. already covered\n",
      "subspecies: Trachemys scripta elegans\n",
      "subspecies: Mus musculus castaneus\n",
      "subspecies: Mus musculus musculus\n",
      "Mus musculus  .. add to records\n",
      "Xenopus laevis  .. add to records\n",
      "Xenopus laevis  .. already covered\n",
      "subspecies: Mus musculus castaneus\n",
      "Mus musculus  .. already covered\n",
      "Mus musculus  .. already covered\n",
      "subspecies: Mus musculus castaneus\n",
      "Cottus gobio  .. add to records\n",
      "Mus musculus  .. already covered\n",
      "subspecies: Mus musculus castaneus\n",
      "subspecies: Mus musculus musculus\n",
      "Xenopus laevis  .. already covered\n",
      "subspecies: Mus musculus molossinus\n",
      "Xenopus laevis  .. already covered\n",
      "subspecies: Mus musculus musculus\n",
      "subspecies: Mus musculus domesticus\n",
      "Mus musculus  .. already covered\n",
      "Xenopus laevis  .. already covered\n",
      "subspecies: Mus musculus musculus\n",
      "subspecies: Xenopus laevis sudanensis\n",
      "Xenopus laevis  .. already covered\n",
      "Xenopus laevis  .. already covered\n",
      "Xenopus laevis  .. already covered\n",
      "subspecies: Mus musculus musculus\n",
      "subspecies: Mus musculus castaneus\n"
     ]
    }
   ],
   "source": [
    "from collections import defaultdict\n",
    "\n",
    "Seqs = []\n",
    "taxon_to_taxid = {}\n",
    "recs_to_adjust = defaultdict(list)\n",
    "taxon_to_recs = defaultdict(list)\n",
    "\n",
    "for r in pj.records:\n",
    "    if r.id in recs_to_keep['rrnS']:\n",
    "        Seqs.append(r)\n",
    "        \n",
    "        source = [f for f in r.features if f.type == 'source'][0]\n",
    "\n",
    "        #screen for subspecies and record taxids of valid species\n",
    "        #if valid species record the taxid\n",
    "        if (len(source.qualifiers['organism'][0].split(\" \")) == 2):\n",
    "            print source.qualifiers['organism'][0],\n",
    "            if 'db_xref' in source.qualifiers:\n",
    "#                print source.qualifiers['db_xref']\n",
    "                for t in source.qualifiers['db_xref']:\n",
    "#                    print t\n",
    "                    if 'taxon' in t:\n",
    "                        if not source.qualifiers['organism'][0] in taxon_to_taxid:\n",
    "                            print \" .. add to records\"\n",
    "                            taxon_to_taxid[source.qualifiers['organism'][0]] = t.split(\":\")[1]\n",
    "                        else:\n",
    "                            print \" .. already covered\"\n",
    "                        taxon_to_recs[source.qualifiers['organism'][0]].append(r.id)\n",
    "        #if the species status is 'sp.' but has a valid taxid\n",
    "        elif (len(source.qualifiers['organism'][0].split(\" \")) > 2 and source.qualifiers['organism'][0].split(\" \")[1] == 'sp.'):\n",
    "            print source.qualifiers['organism'][0],\n",
    "            if 'db_xref' in source.qualifiers:\n",
    "                for t in source.qualifiers['db_xref']:\n",
    "                    if 'taxon' in t:\n",
    "                        if not source.qualifiers['organism'][0] in taxon_to_taxid:\n",
    "                            print \" .. add to records\"\n",
    "                            taxon_to_taxid[source.qualifiers['organism'][0]] = t.split(\":\")[1]\n",
    "                        else:\n",
    "                            print \" .. already covered\" \n",
    "                        taxon_to_recs[source.qualifiers['organism'][0]].append(r.id)\n",
    "        #all other cases we consider dubious, e.g. supspecies\n",
    "        else:\n",
    "            print \"subspecies: %s\" %source.qualifiers['organism'][0]\n",
    "            recs_to_adjust[r.id] = []"
   ]
  },
  {
   "cell_type": "markdown",
   "metadata": {},
   "source": [
    "Check if any of the taxa that were considered dubious are not already covered in the list after removing subspecies."
   ]
  },
  {
   "cell_type": "code",
   "execution_count": 13,
   "metadata": {
    "collapsed": false
   },
   "outputs": [
    {
     "name": "stdout",
     "output_type": "stream",
     "text": [
      "Chrysemys picta bellii -> Chrysemys picta\n",
      "Emys orbicularis orbicularis -> Emys orbicularis\n",
      "Trachemys scripta scripta -> Trachemys scripta\n",
      "Emys orbicularis orbicularis -> Emys orbicularis\n",
      "Lacerta viridis viridis -> Lacerta viridis\n",
      "Trachemys scripta elegans -> Trachemys scripta\n",
      "Trachemys scripta elegans -> Trachemys scripta\n",
      "Mus musculus castaneus -> Mus musculus\n",
      "Mus musculus musculus -> Mus musculus\n",
      "Mus musculus castaneus -> Mus musculus\n",
      "Mus musculus castaneus -> Mus musculus\n",
      "Mus musculus castaneus -> Mus musculus\n",
      "Mus musculus musculus -> Mus musculus\n",
      "Mus musculus molossinus -> Mus musculus\n",
      "Mus musculus musculus -> Mus musculus\n",
      "Mus musculus domesticus -> Mus musculus\n",
      "Mus musculus musculus -> Mus musculus\n",
      "Xenopus laevis sudanensis -> Xenopus laevis\n",
      "Mus musculus musculus -> Mus musculus\n",
      "Mus musculus castaneus -> Mus musculus\n"
     ]
    }
   ],
   "source": [
    "from collections import defaultdict\n",
    "\n",
    "to_fetch = defaultdict(list)\n",
    "\n",
    "for r in Seqs:\n",
    "    if r.id in recs_to_adjust:\n",
    "        source = [f for f in r.features if f.type == 'source'][0]\n",
    "        adjust_from = source.qualifiers['organism'][0]\n",
    "        adjust_to = \" \".join(adjust_from.split(\" \")[:2])\n",
    "        print \"%s -> %s\" %(adjust_from,adjust_to)\n",
    "        if adjust_to in taxon_to_taxid:\n",
    "            taxon_to_recs[adjust_to].append(r.id)\n",
    "            recs_to_adjust[r.id].append(adjust_to)\n",
    "            recs_to_adjust[r.id].append(taxon_to_taxid[adjust_to])\n",
    "        else:\n",
    "            to_fetch[adjust_to].append(r.id)\n",
    "            recs_to_adjust[r.id].append(adjust_to)"
   ]
  },
  {
   "cell_type": "code",
   "execution_count": 14,
   "metadata": {
    "collapsed": false
   },
   "outputs": [
    {
     "name": "stdout",
     "output_type": "stream",
     "text": [
      "defaultdict(<type 'list'>, {'HQ681908.1': ['Emys orbicularis', '82168'], 'DQ874614.2': ['Mus musculus', '10090'], 'HQ681907.1': ['Emys orbicularis', '82168'], 'KF781660.1': ['Mus musculus', '10090'], 'KF781662.1': ['Mus musculus', '10090'], 'AY057791.1': ['Mus musculus', '10090'], 'KF781663.1': ['Mus musculus', '10090'], 'AY581640.1': ['Xenopus laevis', '8355'], 'AM176577.1': ['Lacerta viridis', '65476'], 'KF781656.1': ['Mus musculus', '10090'], 'JX945964.1': ['Mus musculus', '10090'], 'KF781653.1': ['Mus musculus', '10090'], 'KF874616.1': ['Chrysemys picta', '8479'], 'KF781661.1': ['Mus musculus', '10090'], 'AY057793.1': ['Mus musculus', '10090'], 'GU477770.1': ['Trachemys scripta', '34903'], 'KM216749.1': ['Trachemys scripta', '34903'], 'AY057792.1': ['Mus musculus', '10090'], 'KF781654.1': ['Mus musculus', '10090'], 'KM216748.1': ['Trachemys scripta', '34903']})\n"
     ]
    }
   ],
   "source": [
    "print recs_to_adjust"
   ]
  },
  {
   "cell_type": "code",
   "execution_count": 15,
   "metadata": {
    "collapsed": false
   },
   "outputs": [
    {
     "name": "stdout",
     "output_type": "stream",
     "text": [
      "0\n"
     ]
    }
   ],
   "source": [
    "print len(to_fetch)"
   ]
  },
  {
   "cell_type": "code",
   "execution_count": 16,
   "metadata": {
    "collapsed": false
   },
   "outputs": [],
   "source": [
    "#print to_fetch"
   ]
  },
  {
   "cell_type": "code",
   "execution_count": 17,
   "metadata": {
    "collapsed": false
   },
   "outputs": [],
   "source": [
    "#from Bio import Entrez\n",
    "#Entrez.email = \"L.Harper@2015.hull.ac.uk\"\n",
    "\n",
    "#for binomial in to_fetch:\n",
    "    #print binomial\n",
    "    #handle = Entrez.esearch(db=\"Taxonomy\", term=binomial)\n",
    "    #record = Entrez.read(handle)\n",
    "    #print record[\"IdList\"][0]\n",
    "    #taxon_to_taxid[binomial] = record[\"IdList\"][0]\n",
    "    \n",
    "    #taxon_to_recs[binomial] = to_fetch[binomial]"
   ]
  },
  {
   "cell_type": "markdown",
   "metadata": {},
   "source": [
    "Update the dictionary that contains binomial, taxid for every record id with the ones that we have just fetched from NCBI."
   ]
  },
  {
   "cell_type": "code",
   "execution_count": 18,
   "metadata": {
    "collapsed": false
   },
   "outputs": [],
   "source": [
    "#for sp in to_fetch:\n",
    "#    print to_fetch[sp]\n",
    "#    for r in to_fetch[sp]:\n",
    "#        print r,recs_to_adjust[r]\n",
    "#        recs_to_adjust[r].append(taxon_to_taxid[recs_to_adjust[r][0]])\n",
    "#        print r,recs_to_adjust[r]"
   ]
  },
  {
   "cell_type": "markdown",
   "metadata": {},
   "source": [
    "Modify the records (if necessary) - adjust subspecies to species."
   ]
  },
  {
   "cell_type": "code",
   "execution_count": 19,
   "metadata": {
    "collapsed": false
   },
   "outputs": [
    {
     "name": "stdout",
     "output_type": "stream",
     "text": [
      "adjusting KF874616.1\n",
      "Chrysemys picta bellii\t->\tChrysemys picta\n",
      "adjusting HQ681907.1\n",
      "Emys orbicularis orbicularis\t->\tEmys orbicularis\n",
      "adjusting KM216749.1\n",
      "Trachemys scripta scripta\t->\tTrachemys scripta\n",
      "adjusting HQ681908.1\n",
      "Emys orbicularis orbicularis\t->\tEmys orbicularis\n",
      "adjusting AM176577.1\n",
      "Lacerta viridis viridis\t->\tLacerta viridis\n",
      "adjusting GU477770.1\n",
      "Trachemys scripta elegans\t->\tTrachemys scripta\n",
      "adjusting KM216748.1\n",
      "Trachemys scripta elegans\t->\tTrachemys scripta\n",
      "adjusting KF781663.1\n",
      "Mus musculus castaneus\t->\tMus musculus\n",
      "adjusting KF781656.1\n",
      "Mus musculus musculus\t->\tMus musculus\n",
      "adjusting KF781660.1\n",
      "Mus musculus castaneus\t->\tMus musculus\n",
      "adjusting AY057792.1\n",
      "Mus musculus castaneus\t->\tMus musculus\n",
      "adjusting KF781661.1\n",
      "Mus musculus castaneus\t->\tMus musculus\n",
      "adjusting KF781654.1\n",
      "Mus musculus musculus\t->\tMus musculus\n",
      "adjusting AY057793.1\n",
      "Mus musculus molossinus\t->\tMus musculus\n",
      "adjusting AY057791.1\n",
      "Mus musculus musculus\t->\tMus musculus\n",
      "adjusting JX945964.1\n",
      "Mus musculus domesticus\t->\tMus musculus\n",
      "adjusting DQ874614.2\n",
      "Mus musculus musculus\t->\tMus musculus\n",
      "adjusting AY581640.1\n",
      "Xenopus laevis sudanensis\t->\tXenopus laevis\n",
      "adjusting KF781653.1\n",
      "Mus musculus musculus\t->\tMus musculus\n",
      "adjusting KF781662.1\n",
      "Mus musculus castaneus\t->\tMus musculus\n"
     ]
    }
   ],
   "source": [
    "for r in Seqs:\n",
    "    if r.id in recs_to_adjust:\n",
    "        print \"adjusting %s\" %r.id\n",
    "        source = r.features[0]\n",
    "        print \"%s\\t->\\t%s\" %(source.qualifiers['organism'][0],recs_to_adjust[r.id][0])\n",
    "        source = r.features[0]\n",
    "        source.qualifiers['organism'] = [recs_to_adjust[r.id][0]]\n",
    "#        print source.qualifiers['organism']\n",
    "        for i in range(len(source.qualifiers['db_xref'])):\n",
    "            if 'taxon' in source.qualifiers['db_xref'][i]:\n",
    "                source.qualifiers['db_xref'][i] = \"taxon:\"+recs_to_adjust[r.id][1]\n",
    "        if not 'note' in source.qualifiers:\n",
    "            source.qualifiers['note'] = ['modified from original record: adjusted to species']\n",
    "        else:\n",
    "            source.qualifiers['note'].append('modified from original record: adjusted to species')\n",
    "#        print r.format('genbank')       \n",
    "#    print r,recs_to_adjust[r]"
   ]
  },
  {
   "cell_type": "markdown",
   "metadata": {},
   "source": [
    "Write only good records with all metadata in Genbank format."
   ]
  },
  {
   "cell_type": "code",
   "execution_count": 20,
   "metadata": {
    "collapsed": true
   },
   "outputs": [],
   "source": [
    "from Bio import SeqIO\n",
    "       \n",
    "out = open('../12S_UKreptiles_SATIVA_cleaned.gb','w')\n",
    "SeqIO.write(Seqs, out, \"genbank\")\n",
    "out.close()"
   ]
  },
  {
   "cell_type": "markdown",
   "metadata": {},
   "source": [
    "Exclude the records that were highlighted by SATIVA. Then realign and rebuild phylogeny."
   ]
  },
  {
   "cell_type": "code",
   "execution_count": 21,
   "metadata": {
    "collapsed": true
   },
   "outputs": [],
   "source": [
    "pj.exclude(start_from_max=False, **recs_to_drop)"
   ]
  },
  {
   "cell_type": "code",
   "execution_count": 22,
   "metadata": {
    "collapsed": false
   },
   "outputs": [
    {
     "name": "stdout",
     "output_type": "stream",
     "text": [
      "Total number of records: 112\n",
      "Number of species (see below for full list): 22\n",
      "['Anguis fragilis', 'Caretta caretta', 'Chelonia mydas', 'Chelydra serpentina', 'Chrysemys picta', 'Coronella austriaca', 'Cottus gobio', 'Dermochelys coriacea', 'Emys orbicularis', 'Eretmochelys imbricata', 'Lacerta agilis', 'Lacerta viridis', 'Lepidochelys kempii', 'Mauremys caspica', 'Mus musculus', 'Natrix natrix', 'Podarcis muralis', 'Trachemys scripta', 'Vipera berus', 'Xenopus laevis', 'Zamenis longissimus', 'Zootoca vivipara']\n"
     ]
    }
   ],
   "source": [
    "species=[]\n",
    "for r in pj.records:\n",
    "    if r.id in recs_to_keep['rrnS']:\n",
    "        source = [f for f in r.features if f.type == 'source'][0]\n",
    "        species.append(\" \".join(source.qualifiers['organism'][0].split()[0:2]))\n",
    "    \n",
    "#print set(species)\n",
    "total=len(species)\n",
    "species=list(set(species))\n",
    "\n",
    "print \"Total number of records: %i\" %total\n",
    "print \"Number of species (see below for full list): %i\" %len(species)\n",
    "print sorted(species)"
   ]
  },
  {
   "cell_type": "markdown",
   "metadata": {},
   "source": [
    "Write short 12S rRNA sequences (< 400bp) to fasta file to build new alignment outside Reprophylo later in script using hmmbuild. The Hidden Markov Model alignment will include all 12S rRNA sequences - short and long."
   ]
  },
  {
   "cell_type": "code",
   "execution_count": 23,
   "metadata": {
    "collapsed": false
   },
   "outputs": [
    {
     "name": "stdout",
     "output_type": "stream",
     "text": [
      "Total number of records: 33\n"
     ]
    }
   ],
   "source": [
    "temp_seq = []\n",
    "\n",
    "for r in pj.records_by_locus['rrnS']:\n",
    "    if len(r.seq) < 400:\n",
    "        temp_seq.append(r)\n",
    "        \n",
    "total = len(temp_seq)\n",
    "print \"Total number of records: %i\" %total\n",
    "\n",
    "from Bio import SeqIO\n",
    "\n",
    "out=open('reptile_short_to_align_SATIVA.fasta','w')\n",
    "SeqIO.write(temp_seq, out, 'fasta')\n",
    "out.close()"
   ]
  },
  {
   "cell_type": "markdown",
   "metadata": {},
   "source": [
    "# Filter by Length"
   ]
  },
  {
   "cell_type": "markdown",
   "metadata": {},
   "source": [
    "Write cropped records (minimum length of 400bp) to fasta and Genbank file."
   ]
  },
  {
   "cell_type": "code",
   "execution_count": 24,
   "metadata": {
    "collapsed": true
   },
   "outputs": [],
   "source": [
    "from Bio import SeqIO\n",
    "\n",
    "temp=[]\n",
    "for r in pj.records:\n",
    "    if len(r.seq) >= 400:\n",
    "        temp.append(r)\n",
    "\n",
    "out = open('reptile12S_cropped_400bp_SATIVA.gb', 'w')\n",
    "SeqIO.write(temp, out, 'genbank')\n",
    "out.close()\n",
    "\n",
    "out = open('reptile12S_cropped_400bp_SATIVA.fa', 'w')\n",
    "SeqIO.write(temp, out, 'fasta')\n",
    "out.close()\n",
    "\n",
    "\n",
    "del(temp)"
   ]
  },
  {
   "cell_type": "markdown",
   "metadata": {},
   "source": [
    "Now view records in cropped genbank file."
   ]
  },
  {
   "cell_type": "code",
   "execution_count": 25,
   "metadata": {
    "collapsed": false
   },
   "outputs": [
    {
     "name": "stdout",
     "output_type": "stream",
     "text": [
      "index 0, ID = AJ001471.1, length 544, with 2 features\n",
      "index 1, ID = JX454972.1, length 969, with 2 features\n",
      "index 2, ID = GQ142072.1, length 459, with 2 features\n",
      "index 3, ID = KM401599.1, length 953, with 2 features\n",
      "index 4, ID = KF781329.1, length 430, with 2 features\n",
      "index 5, ID = JX454980.1, length 968, with 2 features\n",
      "index 6, ID = JX454970.1, length 968, with 2 features\n",
      "index 7, ID = JX454976.1, length 969, with 2 features\n",
      "index 8, ID = AJ001480.1, length 543, with 2 features\n",
      "index 9, ID = AF149947.1, length 460, with 2 features\n",
      "index 10, ID = KP221806.1, length 969, with 2 features\n",
      "index 11, ID = L28077.1, length 966, with 2 features\n",
      "index 12, ID = JX454990.1, length 969, with 2 features\n",
      "index 13, ID = AJ001472.1, length 547, with 2 features\n",
      "index 14, ID = AJ001470.1, length 544, with 2 features\n",
      "index 15, ID = AF149962.1, length 465, with 2 features\n",
      "index 16, ID = AY770536.1, length 440, with 2 features\n",
      "index 17, ID = JX454983.1, length 970, with 2 features\n",
      "index 18, ID = AF149960.1, length 465, with 2 features\n",
      "index 19, ID = KF874616.1, length 969, with 2 features\n",
      "index 20, ID = EF122793.1, length 965, with 2 features\n",
      "index 21, ID = JX454981.1, length 968, with 2 features\n",
      "index 22, ID = HQ442366.1, length 971, with 2 features\n",
      "index 23, ID = JX454986.1, length 967, with 2 features\n",
      "index 24, ID = KX694573.1, length 455, with 2 features\n",
      "index 25, ID = GU477775.1, length 445, with 2 features\n",
      "index 26, ID = KP256531.1, length 973, with 2 features\n",
      "index 27, ID = KM216749.1, length 968, with 2 features\n",
      "index 28, ID = AY122682.1, length 590, with 2 features\n",
      "index 29, ID = AF149959.1, length 459, with 2 features\n",
      "index 30, ID = AF069423.1, length 969, with 2 features\n",
      "index 31, ID = AY770537.1, length 424, with 2 features\n",
      "index 32, ID = JX454969.1, length 968, with 2 features\n",
      "index 33, ID = FJ392294.1, length 969, with 2 features\n",
      "index 34, ID = AF149961.1, length 459, with 2 features\n",
      "index 35, ID = JX454984.1, length 969, with 2 features\n",
      "index 36, ID = DQ533485.1, length 968, with 2 features\n",
      "index 37, ID = KC990830.1, length 946, with 2 features\n",
      "index 38, ID = EU443256.1, length 941, with 2 features\n",
      "index 39, ID = FJ460597.1, length 955, with 2 features\n",
      "index 40, ID = JN999703.2, length 884, with 2 features\n",
      "index 41, ID = AJ001468.1, length 544, with 2 features\n",
      "index 42, ID = JN860636.1, length 965, with 2 features\n",
      "index 43, ID = EU543221.1, length 669, with 2 features\n",
      "index 44, ID = AM176577.1, length 943, with 2 features\n",
      "index 45, ID = KC692465.1, length 973, with 2 features\n",
      "index 46, ID = JX454971.1, length 969, with 2 features\n",
      "index 47, ID = AY122780.1, length 591, with 2 features\n",
      "index 48, ID = AF149958.1, length 460, with 2 features\n",
      "index 49, ID = AB012104.1, length 969, with 2 features\n",
      "index 50, ID = AY122836.1, length 593, with 2 features\n",
      "index 51, ID = JX454977.1, length 969, with 2 features\n",
      "index 52, ID = AJ001469.1, length 544, with 2 features\n",
      "index 53, ID = GU477770.1, length 421, with 2 features\n",
      "index 54, ID = KM216748.1, length 969, with 2 features\n",
      "index 55, ID = KF781663.1, length 955, with 2 features\n",
      "index 56, ID = KF781656.1, length 955, with 2 features\n",
      "index 57, ID = AY012114.1, length 953, with 2 features\n",
      "index 58, ID = AY581648.1, length 840, with 2 features\n",
      "index 59, ID = M10217.1, length 819, with 2 features\n",
      "index 60, ID = KF781660.1, length 955, with 2 features\n",
      "index 61, ID = V00665.1, length 956, with 2 features\n",
      "index 62, ID = X84382.1, length 956, with 2 features\n",
      "index 63, ID = AY057792.1, length 956, with 2 features\n",
      "index 64, ID = AB188189.1, length 783, with 2 features\n",
      "index 65, ID = AY533105.1, length 955, with 2 features\n",
      "index 66, ID = KF781661.1, length 955, with 2 features\n",
      "index 67, ID = KF781654.1, length 955, with 2 features\n",
      "index 68, ID = AY581639.1, length 840, with 2 features\n",
      "index 69, ID = AY057793.1, length 956, with 2 features\n",
      "index 70, ID = M27605.1, length 945, with 2 features\n",
      "index 71, ID = AY057791.1, length 956, with 2 features\n",
      "index 72, ID = JX945964.1, length 955, with 2 features\n",
      "index 73, ID = Y10943.1, length 946, with 2 features\n",
      "index 74, ID = DQ874614.2, length 955, with 2 features\n",
      "index 75, ID = AY581640.1, length 840, with 2 features\n",
      "index 76, ID = AY581638.1, length 838, with 2 features\n",
      "index 77, ID = AY581644.1, length 840, with 2 features\n",
      "index 78, ID = KF781653.1, length 955, with 2 features\n",
      "index 79, ID = KF781662.1, length 955, with 2 features\n"
     ]
    }
   ],
   "source": [
    "for index, record in enumerate(SeqIO.parse(\"reptile12S_cropped_400bp_SATIVA.gb\", \"genbank\")):\n",
    "        print(\"index %i, ID = %s, length %i, with %i features\"\n",
    "          % (index, record.id, len(record.seq), len(record.features)))"
   ]
  },
  {
   "cell_type": "markdown",
   "metadata": {},
   "source": [
    "Now need to filter all 12S rRNA sequences within pj.records dictionary by length to remove all sequences shorter than 400bp within Reprophylo."
   ]
  },
  {
   "cell_type": "code",
   "execution_count": 26,
   "metadata": {
    "collapsed": false
   },
   "outputs": [
    {
     "name": "stdout",
     "output_type": "stream",
     "text": [
      "Distribution Of Sequence Lengths\n",
      "Distribution Of Sequence Statistic \"Gc_Content\"\n"
     ]
    },
    {
     "name": "stderr",
     "output_type": "stream",
     "text": [
      "/usr/lib/pymodules/python2.7/matplotlib/figure.py:371: UserWarning: matplotlib is currently using a non-GUI backend, so cannot show the figure\n",
      "  \"matplotlib is currently using a non-GUI backend, \"\n"
     ]
    },
    {
     "data": {
      "image/png": "[encoded data removed]",
      "text/plain": [
       "<matplotlib.figure.Figure at 0x7f7bd6ea9f10>"
      ]
     },
     "metadata": {},
     "output_type": "display_data"
    },
    {
     "data": {
      "image/png": "[encoded data removed]",
      "text/plain": [
       "<matplotlib.figure.Figure at 0x7f7bd61cfa10>"
      ]
     },
     "metadata": {},
     "output_type": "display_data"
    }
   ],
   "source": [
    "%matplotlib inline\n",
    "pj.report_seq_stats()"
   ]
  },
  {
   "cell_type": "code",
   "execution_count": 27,
   "metadata": {
    "collapsed": true
   },
   "outputs": [],
   "source": [
    "# Define minima and maxima\n",
    "\n",
    "gc_inliers = {\n",
    "    'rrnS': [40,46]\n",
    "}\n",
    "len_inliers = {\n",
    "    'rrnS': [400,1000]\n",
    "}\n",
    "\n",
    "\n",
    "# Apply to loci data\n",
    "for locus in gc_inliers:\n",
    "    # trim GC outliers\n",
    "    pj.filter_by_gc_content(locus,\n",
    "                            min_percent_gc=gc_inliers[locus][0],\n",
    "                            max_percent_gc=gc_inliers[locus][1])\n",
    "\n",
    "    # trim length outlier\n",
    "    pj.filter_by_seq_length(locus,\n",
    "                            min_length=len_inliers[locus][0],\n",
    "                            max_length=len_inliers[locus][1])"
   ]
  },
  {
   "cell_type": "markdown",
   "metadata": {},
   "source": [
    "Confirm that the length filter has worked."
   ]
  },
  {
   "cell_type": "code",
   "execution_count": 28,
   "metadata": {
    "collapsed": false
   },
   "outputs": [
    {
     "name": "stdout",
     "output_type": "stream",
     "text": [
      "Distribution Of Sequence Lengths\n",
      "Distribution Of Sequence Statistic \"Gc_Content\"\n"
     ]
    },
    {
     "data": {
      "image/png": "[encoded data removed]",
      "text/plain": [
       "<matplotlib.figure.Figure at 0x7f7bd61f1c90>"
      ]
     },
     "metadata": {},
     "output_type": "display_data"
    },
    {
     "data": {
      "image/png": "[encoded data removed]",
      "text/plain": [
       "<matplotlib.figure.Figure at 0x7f7bd6250690>"
      ]
     },
     "metadata": {},
     "output_type": "display_data"
    }
   ],
   "source": [
    "pj.report_seq_stats()"
   ]
  },
  {
   "cell_type": "markdown",
   "metadata": {},
   "source": [
    "Pickle the project."
   ]
  },
  {
   "cell_type": "code",
   "execution_count": 29,
   "metadata": {
    "collapsed": false
   },
   "outputs": [
    {
     "data": {
      "text/plain": [
       "'rep_post_SATIVA.pkl'"
      ]
     },
     "execution_count": 29,
     "metadata": {},
     "output_type": "execute_result"
    }
   ],
   "source": [
    "pickle_pj(pj, 'rep_post_SATIVA.pkl')"
   ]
  },
  {
   "cell_type": "markdown",
   "metadata": {},
   "source": [
    "# Long Alignment"
   ]
  },
  {
   "cell_type": "markdown",
   "metadata": {},
   "source": [
    "Now, need to produce a sequence alignment file based on an alignment of all 12S sequences longer than 400bp. This will be done with the AlnConf class."
   ]
  },
  {
   "cell_type": "code",
   "execution_count": 30,
   "metadata": {
    "collapsed": false
   },
   "outputs": [],
   "source": [
    "pj = unpickle_pj('rep_post_SATIVA.pkl', git=False)"
   ]
  },
  {
   "cell_type": "markdown",
   "metadata": {},
   "source": [
    "muscle default configuration:"
   ]
  },
  {
   "cell_type": "code",
   "execution_count": 31,
   "metadata": {
    "collapsed": false
   },
   "outputs": [
    {
     "name": "stdout",
     "output_type": "stream",
     "text": [
      "muscle -in 815371477497805.69_rrnS.fasta\n"
     ]
    }
   ],
   "source": [
    "muscle_default = AlnConf(pj,\n",
    "                         method_name=\"muscleDefault-400bp-SATIVA\",\n",
    "                         program_name=\"muscle\",\n",
    "                         loci=['rrnS'])"
   ]
  },
  {
   "cell_type": "code",
   "execution_count": 32,
   "metadata": {
    "collapsed": true
   },
   "outputs": [],
   "source": [
    "pj.align([muscle_default])"
   ]
  },
  {
   "cell_type": "code",
   "execution_count": 33,
   "metadata": {
    "collapsed": false
   },
   "outputs": [
    {
     "name": "stdout",
     "output_type": "stream",
     "text": [
      "AlnConf named muscleDefault-400bp-SATIVA with ID 815371477497805.69\n",
      "Loci: rrnS \n",
      "Created on: Wed Oct 26 16:03:25 2016\n",
      "Commands:\n",
      "rrnS: muscle -in 815371477497805.69_rrnS.fasta\n",
      "\n",
      "Environment:\n",
      "Platform: Linux-4.4.0-38-generic-x86_64-with-Ubuntu-14.04-trusty\n",
      " Processor: x86_64\n",
      " Python build: defaultMar 22 2014 22:59:56\n",
      " Python compiler: GCC 4.8.2\n",
      " Python implementation: CPython\n",
      " Python version: 2.7.6\n",
      " ete2 version: 2.2.1072\n",
      " biopython version: 1.68\n",
      " dendropy version: 3.12.2\n",
      " cloud version: 2.8.5\n",
      " reprophylo version 1.3\n",
      " User: biopc4\n",
      " Program and version: MUSCLE v3.8.31\\nPal2Nal v14\n",
      " Program reference:\\nEdgar 2004: MUSCLE: multiple sequence alignment with high accuracy and high throughput. Nucleic Acids Research 32(5):1792-1797\\nMikita Suyama\n",
      " David Torrents\n",
      " and Peer Bork (2006) PAL2NAL: robust conversion of protein sequence alignments into the corresponding codon alignments.Nucleic Acids Res. 34\n",
      " W609-W612.\n",
      "execution time:\n",
      "8.54806089401\n",
      "\n",
      "\n",
      "==============================\n",
      "Core Methods section sentence:\n",
      "==============================\n",
      "The dataset(s) rrnS were first aligned at the protein level using the program MUSCLE v3.8.31 [1].\n",
      "The resulting alignments served as guides to codon-align the DNA sequences using Pal2Nal v14 [2].\n",
      "\n",
      "Reference:\n",
      "[1]Edgar 2004: MUSCLE: multiple sequence alignment with high accuracy and high throughput. Nucleic Acids Research 32(5):1792-1797\n",
      "[2]Mikita Suyama, David Torrents, and Peer Bork (2006) PAL2NAL: robust conversion of protein sequence alignments into the corresponding codon alignments.Nucleic Acids Res. 34, W609-W612.\n",
      "\n"
     ]
    }
   ],
   "source": [
    "print pj.used_methods['muscleDefault-400bp-SATIVA']"
   ]
  },
  {
   "cell_type": "code",
   "execution_count": 34,
   "metadata": {
    "collapsed": false
   },
   "outputs": [
    {
     "data": {
      "text/plain": [
       "{'rrnS@muscleDefault-400bp-SATIVA': <<class 'Bio.Align.MultipleSeqAlignment'> instance (62 records of length 1043, IUPACProtein()) at 7f7bd5d29f50>}"
      ]
     },
     "execution_count": 34,
     "metadata": {},
     "output_type": "execute_result"
    }
   ],
   "source": [
    "pj.alignments"
   ]
  },
  {
   "cell_type": "code",
   "execution_count": 35,
   "metadata": {
    "collapsed": false
   },
   "outputs": [
    {
     "data": {
      "text/plain": [
       "['rrnS@muscleDefault-400bp-SATIVA_aln.fasta']"
      ]
     },
     "execution_count": 35,
     "metadata": {},
     "output_type": "execute_result"
    }
   ],
   "source": [
    "# record_id and source_organism are feature qualifiers in the SeqRecord object\n",
    "files = pj.write_alns(id=['record_id','source_organism'],\n",
    "                      format='fasta')\n",
    "files"
   ]
  },
  {
   "cell_type": "markdown",
   "metadata": {},
   "source": [
    "Pickle the project."
   ]
  },
  {
   "cell_type": "code",
   "execution_count": 36,
   "metadata": {
    "collapsed": false
   },
   "outputs": [
    {
     "data": {
      "text/plain": [
       "'rep_post_SATIVA.pkl'"
      ]
     },
     "execution_count": 36,
     "metadata": {},
     "output_type": "execute_result"
    }
   ],
   "source": [
    "pickle_pj(pj, 'rep_post_SATIVA.pkl')"
   ]
  },
  {
   "cell_type": "markdown",
   "metadata": {},
   "source": [
    "# Build tree from long alignment"
   ]
  },
  {
   "cell_type": "markdown",
   "metadata": {},
   "source": [
    "Trim the alignment."
   ]
  },
  {
   "cell_type": "code",
   "execution_count": 37,
   "metadata": {
    "collapsed": false
   },
   "outputs": [
    {
     "name": "stdout",
     "output_type": "stream",
     "text": [
      "trimal -in 339891477497877.55_rrnS@muscleDefault-400bp-SATIVA.fasta -gappyout\n"
     ]
    }
   ],
   "source": [
    "muscle_gappyout = TrimalConf(pj,                       # The Project\n",
    "\n",
    "                            method_name='gappyout',  # Any unique string \n",
    "                                                     # ('gappyout' is default)\n",
    "                            \n",
    "                            program_name='trimal',   # No alternatives in \n",
    "                                                     # this ReproPhylo version\n",
    "                            \n",
    "                            cmd='default',           # the default is trimal. \n",
    "                                                     # Change it here\n",
    "                                                     # or in pj.defaults['trimal']\n",
    "                            \n",
    "                            alns=['rrnS@muscleDefault-400bp-SATIVA'],  # 'all' by default\n",
    "                            \n",
    "                            trimal_commands={'gappyout': True} # By default, the gappyout algorithm is used.\n",
    "                           )"
   ]
  },
  {
   "cell_type": "code",
   "execution_count": 38,
   "metadata": {
    "collapsed": true
   },
   "outputs": [],
   "source": [
    "pj.trim([muscle_gappyout])"
   ]
  },
  {
   "cell_type": "code",
   "execution_count": 39,
   "metadata": {
    "collapsed": false
   },
   "outputs": [
    {
     "name": "stdout",
     "output_type": "stream",
     "text": [
      "TrimalConf named gappyout with ID 339891477497877.55\n",
      "Alignments: rrnS@muscleDefault-400bp-SATIVA \n",
      "Created on: Wed Oct 26 16:04:37 2016\n",
      "Commands:\n",
      "rrnS@muscleDefault-400bp-SATIVA@gappyout: trimal -in 339891477497877.55_rrnS@muscleDefault-400bp-SATIVA.fasta -gappyout\n",
      "\n",
      "Environment:Platform: Linux-4.4.0-38-generic-x86_64-with-Ubuntu-14.04-trusty\n",
      " Processor: x86_64\n",
      " Python build: defaultMar 22 2014 22:59:56\n",
      " Python compiler: GCC 4.8.2\n",
      " Python implementation: CPython\n",
      " Python version: 2.7.6\n",
      " ete2 version: 2.2.1072\n",
      " biopython version: 1.68\n",
      " dendropy version: 3.12.2\n",
      " cloud version: 2.8.5\n",
      " reprophylo version 1.3\n",
      " User: biopc4\n",
      " Program and version: trimAl 1.2rev59\n",
      " Program reference: Salvador Capella-Gutierrez; Jose M. Silla-Martinez; Toni Gabaldon. trimAl: a tool for automated alignment trimming in large-scale phylogenetic analyses. Bioinformatics 2009 25: 1972-1973.\n",
      "execution time:\n",
      "0.460474967957\n",
      "\n",
      "==============================\n",
      "Core Methods section sentence:\n",
      "==============================\n",
      "The alignment(s) rrnS@muscleDefault-400bp-SATIVA were trimmed using the program trimAl 1.2rev59 [1].\n",
      "\n",
      "Reference:\n",
      "Salvador Capella-Gutierrez; Jose M. Silla-Martinez; Toni Gabaldon. trimAl: a tool for automated alignment trimming in large-scale phylogenetic analyses. Bioinformatics 2009 25: 1972-1973.\n",
      "\n"
     ]
    }
   ],
   "source": [
    "print pj.used_methods['gappyout']"
   ]
  },
  {
   "cell_type": "code",
   "execution_count": 40,
   "metadata": {
    "collapsed": false
   },
   "outputs": [
    {
     "data": {
      "text/plain": [
       "{'rrnS@muscleDefault-400bp-SATIVA@gappyout': <<class 'Bio.Align.MultipleSeqAlignment'> instance (62 records of length 757, IUPACAmbiguousDNA()) at 7f7bd5a99410>}"
      ]
     },
     "execution_count": 40,
     "metadata": {},
     "output_type": "execute_result"
    }
   ],
   "source": [
    "pj.trimmed_alignments"
   ]
  },
  {
   "cell_type": "code",
   "execution_count": 41,
   "metadata": {
    "collapsed": false
   },
   "outputs": [
    {
     "data": {
      "text/plain": [
       "['rrnS@muscleDefault-400bp-SATIVA@gappyout_trimmed_aln.fasta']"
      ]
     },
     "execution_count": 41,
     "metadata": {},
     "output_type": "execute_result"
    }
   ],
   "source": [
    "files = pj.write_trimmed_alns(id=['record_id','source_organism'],\n",
    "                                   format='fasta')\n",
    "files"
   ]
  },
  {
   "cell_type": "markdown",
   "metadata": {},
   "source": [
    "Infer Maximum Likelihood tree based on the clipped alignment. We are going to use RAxML. Configure RAxML for trimmed muscle alignment."
   ]
  },
  {
   "cell_type": "code",
   "execution_count": 42,
   "metadata": {
    "collapsed": false
   },
   "outputs": [
    {
     "name": "stdout",
     "output_type": "stream",
     "text": [
      "raxmlHPC-PTHREADS-SSE3 -f a -m GTRGAMMA -n 387341477497898.72_rrnS@muscleDefault-400bp-SATIVA@gappyout0 -p 206 -s 387341477497898.72_rrnS@muscleDefault-400bp-SATIVA@gappyout.fasta -T 5 -x 328 -N 100\n"
     ]
    }
   ],
   "source": [
    "raxml = RaxmlConf(pj, method_name='raxml-muscleDefault-400bp-SATIVA-trimmed',\n",
    "                  program_name='raxmlHPC-PTHREADS-SSE3',\n",
    "                  keepfiles=True,\n",
    "                  cmd='raxmlHPC-PTHREADS-SSE3',\n",
    "                  preset='fa',\n",
    "                  alns=['rrnS@muscleDefault-400bp-SATIVA@gappyout'],\n",
    "                  model='GAMMA',\n",
    "                  threads=5,\n",
    "                  cline_args={'-#': 100})"
   ]
  },
  {
   "cell_type": "markdown",
   "metadata": {},
   "source": [
    "Infer tree."
   ]
  },
  {
   "cell_type": "code",
   "execution_count": 43,
   "metadata": {
    "collapsed": false
   },
   "outputs": [],
   "source": [
    "pj.tree([raxml])"
   ]
  },
  {
   "cell_type": "code",
   "execution_count": 44,
   "metadata": {
    "collapsed": false
   },
   "outputs": [
    {
     "name": "stdout",
     "output_type": "stream",
     "text": [
      "RaxmlConf named raxml-muscleDefault-400bp-SATIVA-trimmed with ID 387341477497898.72\n",
      "Alignments: rrnS@muscleDefault-400bp-SATIVA@gappyout \n",
      "Created on: Wed Oct 26 16:04:58 2016\n",
      "Commands:\n",
      "rrnS@muscleDefault-400bp-SATIVA@gappyout:\n",
      "raxmlHPC-PTHREADS-SSE3 -f a -m GTRGAMMA -n 387341477497898.72_rrnS@muscleDefault-400bp-SATIVA@gappyout0 -p 206 -s 387341477497898.72_rrnS@muscleDefault-400bp-SATIVA@gappyout.fasta -T 5 -x 328 -N 100\n",
      "\n",
      "Environment:\n",
      "Platform: Linux-4.4.0-38-generic-x86_64-with-Ubuntu-14.04-trusty\n",
      " Processor: x86_64\n",
      " Python build: defaultMar 22 2014 22:59:56\n",
      " Python compiler: GCC 4.8.2\n",
      " Python implementation: CPython\n",
      " Python version: 2.7.6\n",
      " ete2 version: 2.2.1072\n",
      " biopython version: 1.68\n",
      " dendropy version: 3.12.2\n",
      " cloud version: 2.8.5\n",
      " reprophylo version 1.3\n",
      " User: biopc4\n",
      " Program and version: raxmlHPC-PTHREADS-SSE3RAxML version 8.0.12\n",
      " Program reference: A. Stamatakis: RAxML Version 8: A tool for Phylogenetic Analysis and Post-Analysis of Large Phylogenies. In Bioinformatics\n",
      " 2014.\n",
      "execution time:\n",
      "134.670024157\n",
      "\n",
      "==============================\n",
      "Core Methods section sentence:\n",
      "==============================\n",
      "Phylogenetic trees were reconstructed from the dataset(s) rrnS@muscleDefault-400bp-SATIVA@gappyout using the program raxmlHPC-PTHREADS-SSE3RAxML version 8.0.12 [1].\n",
      "\n",
      "Reference:\n",
      "A. Stamatakis: RAxML Version 8: A tool for Phylogenetic Analysis and Post-Analysis of Large Phylogenies. In Bioinformatics, 2014.\n",
      "\n"
     ]
    }
   ],
   "source": [
    "print pj.used_methods['raxml-muscleDefault-400bp-SATIVA-trimmed']"
   ]
  },
  {
   "cell_type": "code",
   "execution_count": 45,
   "metadata": {
    "collapsed": false
   },
   "outputs": [
    {
     "data": {
      "text/plain": [
       "'rep_post_SATIVA.pkl'"
      ]
     },
     "execution_count": 45,
     "metadata": {},
     "output_type": "execute_result"
    }
   ],
   "source": [
    "pickle_pj(pj, 'rep_post_SATIVA.pkl')"
   ]
  },
  {
   "cell_type": "markdown",
   "metadata": {},
   "source": [
    "# Visualise Tree"
   ]
  },
  {
   "cell_type": "markdown",
   "metadata": {},
   "source": [
    "Annotate final tree."
   ]
  },
  {
   "cell_type": "code",
   "execution_count": 46,
   "metadata": {
    "collapsed": true
   },
   "outputs": [],
   "source": [
    "pj.add_qualifier_from_source('organism')"
   ]
  },
  {
   "cell_type": "code",
   "execution_count": 47,
   "metadata": {
    "collapsed": true
   },
   "outputs": [],
   "source": [
    "supports = {'black': [100,95],\n",
    "            'dimgray': [95,75],\n",
    "            'silver': [75,50]}"
   ]
  },
  {
   "cell_type": "code",
   "execution_count": 48,
   "metadata": {
    "collapsed": true
   },
   "outputs": [],
   "source": [
    "for species in ['Cottus','Mus','Xenopus']:\n",
    "    pj.if_this_then_that(species, 'organism', 'outgroup', 'outgroup',\n",
    "                         mode='part')"
   ]
  },
  {
   "cell_type": "code",
   "execution_count": 49,
   "metadata": {
    "collapsed": true
   },
   "outputs": [],
   "source": [
    "pj.clear_tree_annotations()\n",
    "pj.annotate('.', 'outgroup', 'outgroup', \n",
    "            ['source_organism', 'record_id'], \n",
    "            node_support_dict=supports, multifurc=None,\n",
    "            html='muscleDefault-trimmed-400bp-reptile-raxml-post_SATIVA.html')"
   ]
  },
  {
   "cell_type": "markdown",
   "metadata": {},
   "source": [
    "Create a static copy of the tree (the last *.png with the expected alignment id) for later."
   ]
  },
  {
   "cell_type": "code",
   "execution_count": 50,
   "metadata": {
    "collapsed": true
   },
   "outputs": [],
   "source": [
    "%%bash\n",
    "\n",
    "last_png=$(ls -hlrt *rrnS@muscleDefault-400bp-SATIVA@gappyout.png | tail -n 1 | perl -ne 'chomp; @a=split(\" \"); print \"$a[-1]\"')\n",
    "cp $last_png rrnS_muscleDefault_trimmed_reptile_400bp_SATIVA_raxml.png"
   ]
  },
  {
   "cell_type": "markdown",
   "metadata": {},
   "source": [
    "Pickle the project."
   ]
  },
  {
   "cell_type": "code",
   "execution_count": 51,
   "metadata": {
    "collapsed": false
   },
   "outputs": [
    {
     "data": {
      "text/plain": [
       "'rep_post_SATIVA.pkl'"
      ]
     },
     "execution_count": 51,
     "metadata": {},
     "output_type": "execute_result"
    }
   ],
   "source": [
    "pickle_pj(pj, 'rep_post_SATIVA.pkl')"
   ]
  },
  {
   "cell_type": "markdown",
   "metadata": {},
   "source": [
    "**=======================================================================================================**"
   ]
  },
  {
   "cell_type": "code",
   "execution_count": 52,
   "metadata": {
    "collapsed": true
   },
   "outputs": [],
   "source": [
    "from reprophylo import *"
   ]
  },
  {
   "cell_type": "code",
   "execution_count": 53,
   "metadata": {
    "collapsed": false
   },
   "outputs": [],
   "source": [
    "pj = unpickle_pj('rep_post_SATIVA.pkl', git=False)"
   ]
  },
  {
   "cell_type": "markdown",
   "metadata": {},
   "source": [
    "- Identify the record IDs of the sequences shorter than 500bp\n",
    "- Write these sequences to new fasta file (make sure the sequence IDs are as Reprophylo expects them: 'id_f0')\n",
    "- Prepare a hmm profile for the alignment the tree is built on (either muscle 'or mafft)"
   ]
  },
  {
   "cell_type": "code",
   "execution_count": 54,
   "metadata": {
    "collapsed": false
   },
   "outputs": [
    {
     "data": {
      "text/plain": [
       "{'rrnS@muscleDefault-400bp-SATIVA': <<class 'Bio.Align.MultipleSeqAlignment'> instance (62 records of length 1043, IUPACProtein()) at 7f7bd26668d0>}"
      ]
     },
     "execution_count": 54,
     "metadata": {},
     "output_type": "execute_result"
    }
   ],
   "source": [
    "pj.alignments"
   ]
  },
  {
   "cell_type": "code",
   "execution_count": 55,
   "metadata": {
    "collapsed": false
   },
   "outputs": [
    {
     "name": "stdout",
     "output_type": "stream",
     "text": [
      "returning trimmed alignment object rrnS@muscleDefault-400bp-SATIVA@gappyout\n"
     ]
    },
    {
     "data": {
      "text/plain": [
       "1"
      ]
     },
     "execution_count": 55,
     "metadata": {},
     "output_type": "execute_result"
    }
   ],
   "source": [
    "from Bio import AlignIO\n",
    "\n",
    "out=open('400bp_reptile_align_SATIVA.fasta','w')\n",
    "\n",
    "AlignIO.write(pj.fta('rrnS@muscleDefault-400bp-SATIVA'), out, 'fasta')"
   ]
  },
  {
   "cell_type": "markdown",
   "metadata": {},
   "source": [
    "Check number of records in file containing short 12S rRNA sequences."
   ]
  },
  {
   "cell_type": "code",
   "execution_count": 56,
   "metadata": {
    "collapsed": false
   },
   "outputs": [
    {
     "name": "stdout",
     "output_type": "stream",
     "text": [
      "Total records: 33\n"
     ]
    }
   ],
   "source": [
    "from Bio import SeqIO\n",
    "\n",
    "records = list(SeqIO.parse(\"reptile_short_to_align_SATIVA.fasta\", \"fasta\"))\n",
    "print(\"Total records: %i\" % len(records))\n"
   ]
  },
  {
   "cell_type": "markdown",
   "metadata": {},
   "source": [
    "Check that record IDs are in format that reprophylo expects for alignment."
   ]
  },
  {
   "cell_type": "code",
   "execution_count": 57,
   "metadata": {
    "collapsed": false
   },
   "outputs": [
    {
     "name": "stdout",
     "output_type": "stream",
     "text": [
      "AY151988.1_f0\n",
      "KX080575.1_f0\n",
      "HG802830.1_f0\n",
      "AY151993.1_f0\n",
      "HG802772.1_f0\n",
      "DQ081074.1_f0\n",
      "U81335.1_f0\n",
      "KT030712.1_f0\n",
      "EF027342.1_f0\n",
      "AY151990.1_f0\n",
      "FJ039991.1_f0\n",
      "AB090021.1_f0\n",
      "HG802786.1_f0\n",
      "AY151992.1_f0\n",
      "AF080277.1_f0\n",
      "DQ081073.1_f0\n",
      "AF080334.1_f0\n",
      "HG802805.1_f0\n",
      "U81329.1_f0\n",
      "HQ681907.1_f0\n",
      "AF080298.1_f0\n",
      "KX694589.1_f0\n",
      "HQ681908.1_f0\n",
      "U81328.1_f0\n",
      "U81340.1_f0\n",
      "EU624267.1_f0\n",
      "KT030713.1_f0\n",
      "AB090043.1_f0\n",
      "KX080601.1_f0\n",
      "AF158461.1_f0\n",
      "KX080576.1_f0\n",
      "JQ287761.1_f0\n",
      "M13046.1_f0\n"
     ]
    }
   ],
   "source": [
    "from Bio import SeqIO\n",
    "\n",
    "short_seq = open(\"reptile_short_to_align_SATIVA.fasta\", \"rU\")\n",
    "sequences = []\n",
    "\n",
    "for r in SeqIO.parse(short_seq, \"fasta\"):\n",
    "    print(r.id)\n"
   ]
  },
  {
   "cell_type": "markdown",
   "metadata": {},
   "source": [
    "If record IDs were not in the format Reprophylo expects for tree construction, the code cells below could be used to format them to be 'id_f0'."
   ]
  },
  {
   "cell_type": "code",
   "execution_count": 58,
   "metadata": {
    "collapsed": true
   },
   "outputs": [],
   "source": [
    "#temp_seq = []\n",
    "\n",
    "#for r in pj.records:\n",
    "    #if len(r.seq) < 500:\n",
    "        #temp_seq.append(r)\n",
    "\n",
    "#from Bio import SeqIO\n",
    "\n",
    "#out=open('short_to_align.fasta','w')\n",
    "#SeqIO.write(temp_seq, out, 'fasta')\n",
    "#out.close()"
   ]
  },
  {
   "cell_type": "code",
   "execution_count": 59,
   "metadata": {
    "collapsed": true
   },
   "outputs": [],
   "source": [
    "#from Bio import SeqIO\n",
    "\n",
    "#short_seq = open(\"short_to_align.fasta\", \"rU\")\n",
    "#sequences = []\n",
    "\n",
    "#for r in SeqIO.parse(short_seq, \"fasta\"):\n",
    "    #print(r.id)\n",
    "    #r.description = r.id+'_f0'\n",
    "    #r.id = r.description\n",
    "    #print r.description\n",
    "    #sequences.append(r)\n",
    "\n",
    "\n",
    "#out = open(\"seq_to_align.fasta\", \"w\")\n",
    "#SeqIO.write(sequences, out, \"fasta\")\n",
    "#out.close()"
   ]
  },
  {
   "cell_type": "markdown",
   "metadata": {},
   "source": [
    "Check that sequences in reprophylo project have not been altered."
   ]
  },
  {
   "cell_type": "code",
   "execution_count": 60,
   "metadata": {
    "collapsed": false
   },
   "outputs": [
    {
     "name": "stdout",
     "output_type": "stream",
     "text": [
      "AY151988.1\n",
      "Podarcis muralis isolate E2106124 12S ribosomal RNA gene, partial sequence; mitochondrial gene for mitochondrial product.\n",
      "KX080575.1\n",
      "Podarcis muralis isolate 509 12S ribosomal RNA gene, partial sequence; mitochondrial.\n",
      "HG802830.1\n",
      "Emys orbicularis partial 12S rRNA gene, specimen voucher MTD:T:1488.\n",
      "AY151993.1\n",
      "Zootoca vivipara 12S ribosomal RNA gene, partial sequence; mitochondrial gene for mitochondrial product.\n",
      "HG802772.1\n",
      "Emys orbicularis partial 12S rRNA gene, specimen voucher MTD:T:3244.\n",
      "DQ081074.1\n",
      "Podarcis muralis isolate MTA1 12S ribosomal RNA gene, partial sequence; mitochondrial.\n",
      "U81335.1\n",
      "Chelydra serpentina 12S mitochondrial ribosomal RNA, small subunit, mitochondrial gene, partial sequence.\n",
      "KT030712.1\n",
      "Podarcis muralis isolate Mur01 12S ribosomal RNA gene, partial sequence; mitochondrial.\n",
      "EF027342.1\n",
      "Podarcis muralis isolate 1 12S ribosomal RNA gene, partial sequence; mitochondrial.\n",
      "AY151990.1\n",
      "Podarcis muralis isolate E2106126 12S ribosomal RNA gene, partial sequence; mitochondrial gene for mitochondrial product.\n",
      "FJ039991.1\n",
      "Lepidochelys kempii isolate LK_Atlantic 12S ribosomal RNA gene, partial sequence; mitochondrial.\n",
      "AB090021.1\n",
      "Emys orbicularis mitochondrial gene for 12S rRNA, partial sequence.\n",
      "HG802786.1\n",
      "Emys orbicularis partial 12S rRNA gene, specimen voucher MTD:T:6420.\n",
      "AY151992.1\n",
      "Podarcis muralis isolate E2106128 12S ribosomal RNA gene, partial sequence; mitochondrial gene for mitochondrial product.\n",
      "AF080277.1\n",
      "Podarcis muralis 12S ribosomal RNA gene, mitochondrial gene for mitochondrial RNA, partial sequence.\n",
      "DQ081073.1\n",
      "Podarcis muralis isolate Gua1 12S ribosomal RNA gene, partial sequence; mitochondrial.\n",
      "AF080334.1\n",
      "Lacerta vivipara 12S ribosomal RNA gene, mitochondrial gene for mitochondrial RNA, partial sequence.\n",
      "HG802805.1\n",
      "Emys orbicularis partial 12S rRNA gene, specimen voucher MTD:T:3816.\n",
      "U81329.1\n",
      "Chelonia mydas 12S mitochondrial ribosomal RNA, small subunit, mitochondrial gene, partial sequence.\n",
      "HQ681907.1\n",
      "Emys orbicularis orbicularis isolate 219 12S ribosomal RNA gene, partial sequence; mitochondrial.\n",
      "AF080298.1\n",
      "Lacerta agilis 12S ribosomal RNA gene, mitochondrial gene for mitochondrial RNA, partial sequence.\n",
      "KX694589.1\n",
      "Coronella austriaca voucher ROM_26536 12S ribosomal RNA gene, partial sequence; mitochondrial.\n",
      "HQ681908.1\n",
      "Emys orbicularis orbicularis isolate 255 12S ribosomal RNA gene, partial sequence; mitochondrial.\n",
      "U81328.1\n",
      "Trachemys scripta 12S mitochondrial ribosomal RNA, small subunit, mitochondrial gene, partial sequence.\n",
      "U81340.1\n",
      "Dermochelys coriacea 12S mitochondrial ribosomal RNA, small subunit, mitochondrial gene, partial sequence.\n",
      "EU624267.1\n",
      "Vipera berus isolate 199 12S ribosomal RNA gene, partial sequence; mitochondrial.\n",
      "KT030713.1\n",
      "Podarcis muralis isolate Mur02 12S ribosomal RNA gene, partial sequence; mitochondrial.\n",
      "AB090043.1\n",
      "Mauremys caspica mitochondrial gene for 12S rRNA, partial sequence.\n",
      "KX080601.1\n",
      "Lacerta agilis isolate S10401 12S ribosomal RNA gene, partial sequence; mitochondrial.\n",
      "AF158461.1\n",
      "Natrix natrix 12S ribosomal RNA gene, partial sequence; mitochondrial gene for mitochondrial product.\n",
      "KX080576.1\n",
      "Podarcis muralis isolate 5937 12S ribosomal RNA gene, partial sequence; mitochondrial.\n",
      "JQ287761.1\n",
      "Mus musculus isolate ID5.4 12S ribosomal RNA gene, partial sequence; mitochondrial.\n",
      "M13046.1\n",
      "X.laevis mitochondrial origin of replication region containing the D-loop, Phe-tRNA, Pro-tRNA, 12S rRNA genes.\n"
     ]
    }
   ],
   "source": [
    "for r in pj.records:\n",
    "    if len(r.seq) < 400:\n",
    "        print r.id\n",
    "        print r.description"
   ]
  },
  {
   "cell_type": "markdown",
   "metadata": {},
   "source": [
    "Pickle the project."
   ]
  },
  {
   "cell_type": "code",
   "execution_count": 61,
   "metadata": {
    "collapsed": false
   },
   "outputs": [
    {
     "data": {
      "text/plain": [
       "'rep_post_SATIVA.pkl'"
      ]
     },
     "execution_count": 61,
     "metadata": {},
     "output_type": "execute_result"
    }
   ],
   "source": [
    "pickle_pj(pj, 'rep_post_SATIVA.pkl')"
   ]
  },
  {
   "cell_type": "markdown",
   "metadata": {},
   "source": [
    "# Add short sequences to reference alignment"
   ]
  },
  {
   "cell_type": "code",
   "execution_count": 1,
   "metadata": {
    "collapsed": false
   },
   "outputs": [
    {
     "name": "stdout",
     "output_type": "stream",
     "text": [
      "# hmmbuild :: profile HMM construction from multiple sequence alignments\n",
      "# HMMER 3.1b1 (May 2013); http://hmmer.org/\n",
      "# Copyright (C) 2013 Howard Hughes Medical Institute.\n",
      "# Freely distributed under the GNU General Public License (GPLv3).\n",
      "# - - - - - - - - - - - - - - - - - - - - - - - - - - - - - - - - - - - -\n",
      "# input alignment file:             400bp_reptile_align_SATIVA.fasta\n",
      "# output HMM file:                  12S_reptile_ref_SATIVA.hmm\n",
      "# - - - - - - - - - - - - - - - - - - - - - - - - - - - - - - - - - - - -\n",
      "\n",
      "# idx name                  nseq  alen  mlen     W eff_nseq re/pos description\n",
      "#---- -------------------- ----- ----- ----- ----- -------- ------ -----------\n",
      "1     400bp_reptile_align_SATIVA    62   757   757   934     2.52  0.450 \n",
      "\n",
      "# CPU time: 0.29u 0.00s 00:00:00.28 Elapsed: 00:00:00.30\n"
     ]
    }
   ],
   "source": [
    "!hmmbuild 12S_reptile_ref_SATIVA.hmm 400bp_reptile_align_SATIVA.fasta"
   ]
  },
  {
   "cell_type": "markdown",
   "metadata": {},
   "source": [
    "Now use hmmalign to align the short 12S rRNA sequences to the longer reference alignment."
   ]
  },
  {
   "cell_type": "code",
   "execution_count": 2,
   "metadata": {
    "collapsed": false
   },
   "outputs": [],
   "source": [
    "%%bash\n",
    "\n",
    "hmmalign -o 12S_reptile400bpref_plus_short_query_SATIVA.sto \\\n",
    "--mapali 400bp_reptile_align_SATIVA.fasta \\\n",
    "12S_reptile_ref_SATIVA.hmm reptile_short_to_align_SATIVA.fasta"
   ]
  },
  {
   "cell_type": "markdown",
   "metadata": {},
   "source": [
    "The hmmalign command has produced a file containing a new alignment of all 12S rRNA sequences (long and short) in stockholm output format. This must be converted to a more useful file format such as fasta or GenBank using the Seq command in BioPython."
   ]
  },
  {
   "cell_type": "code",
   "execution_count": 3,
   "metadata": {
    "collapsed": false
   },
   "outputs": [
    {
     "name": "stdout",
     "output_type": "stream",
     "text": [
      "Converted 95 records\n"
     ]
    }
   ],
   "source": [
    "from Bio import AlignIO\n",
    "\n",
    "input_file = open(\"12S_reptile400bpref_plus_short_query_SATIVA.sto\", \"rU\")\n",
    "output_file = open(\"12S_ReptileAlign_ALL_SATIVA.fasta\", \"w\")\n",
    "\n",
    "alignment = AlignIO.read(input_file, \"stockholm\")\n",
    "count = len(alignment)\n",
    "AlignIO.write(alignment, output_file, \"fasta\")\n",
    "\n",
    "output_file.close()\n",
    "input_file.close()\n",
    "print(\"Converted %i records\" % count)"
   ]
  },
  {
   "cell_type": "markdown",
   "metadata": {},
   "source": [
    "# Tree Building"
   ]
  },
  {
   "cell_type": "markdown",
   "metadata": {},
   "source": [
    "The fasta file containing the 12S rRNA amphibian sequence alignment must now be converted into a format which can be used for alignment trimming. The alignment must be parsed to an alignment object, aln."
   ]
  },
  {
   "cell_type": "code",
   "execution_count": 5,
   "metadata": {
    "collapsed": false
   },
   "outputs": [
    {
     "name": "stderr",
     "output_type": "stream",
     "text": [
      "DEBUG:Cloud:Log file (/root/.picloud/cloud.log) opened\n"
     ]
    }
   ],
   "source": [
    "pj=unpickle_pj('rep_post_SATIVA.pkl', git=False)"
   ]
  },
  {
   "cell_type": "code",
   "execution_count": 6,
   "metadata": {
    "collapsed": false
   },
   "outputs": [
    {
     "name": "stdout",
     "output_type": "stream",
     "text": [
      "EU543221.1_f0 is 954bp\n",
      "KX694573.1_f0 is 954bp\n",
      "AY122682.1_f0 is 954bp\n",
      "AY122780.1_f0 is 954bp\n",
      "AY122836.1_f0 is 954bp\n",
      "FJ460597.1_f0 is 954bp\n",
      "AJ001471.1_f0 is 954bp\n",
      "AJ001469.1_f0 is 954bp\n",
      "AJ001472.1_f0 is 954bp\n",
      "AJ001470.1_f0 is 954bp\n",
      "AJ001468.1_f0 is 954bp\n",
      "GQ142072.1_f0 is 954bp\n",
      "KM401599.1_f0 is 954bp\n",
      "KF781329.1_f0 is 954bp\n",
      "AF149947.1_f0 is 954bp\n",
      "KC990830.1_f0 is 954bp\n",
      "AM176577.1_f0 is 954bp\n",
      "AJ001480.1_f0 is 954bp\n",
      "AF149959.1_f0 is 954bp\n",
      "AF149961.1_f0 is 954bp\n",
      "AF149958.1_f0 is 954bp\n",
      "AF149962.1_f0 is 954bp\n",
      "AF149960.1_f0 is 954bp\n",
      "EU443256.1_f0 is 954bp\n",
      "M10217.1_f0 is 954bp\n",
      "Y10943.1_f0 is 954bp\n",
      "AY581639.1_f0 is 954bp\n",
      "M27605.1_f0 is 954bp\n",
      "AY581648.1_f0 is 954bp\n",
      "AY581640.1_f0 is 954bp\n",
      "AY581644.1_f0 is 954bp\n",
      "AY581638.1_f0 is 954bp\n",
      "JN999703.2_f0 is 954bp\n",
      "KF874616.1_f0 is 954bp\n",
      "AF069423.1_f0 is 954bp\n",
      "GU477770.1_f0 is 954bp\n",
      "L28077.1_f0 is 954bp\n",
      "KM216749.1_f0 is 954bp\n",
      "KM216748.1_f0 is 954bp\n",
      "FJ392294.1_f0 is 954bp\n",
      "KC692465.1_f0 is 954bp\n",
      "EF122793.1_f0 is 954bp\n",
      "JN860636.1_f0 is 954bp\n",
      "GU477775.1_f0 is 954bp\n",
      "JX454969.1_f0 is 954bp\n",
      "JX454972.1_f0 is 954bp\n",
      "AB012104.1_f0 is 954bp\n",
      "JX454990.1_f0 is 954bp\n",
      "AY770536.1_f0 is 954bp\n",
      "JX454976.1_f0 is 954bp\n",
      "JX454971.1_f0 is 954bp\n",
      "DQ533485.1_f0 is 954bp\n",
      "JX454986.1_f0 is 954bp\n",
      "JX454980.1_f0 is 954bp\n",
      "JX454970.1_f0 is 954bp\n",
      "KP221806.1_f0 is 954bp\n",
      "JX454981.1_f0 is 954bp\n",
      "KP256531.1_f0 is 954bp\n",
      "JX454984.1_f0 is 954bp\n",
      "JX454983.1_f0 is 954bp\n",
      "AY770537.1_f0 is 954bp\n",
      "JX454977.1_f0 is 954bp\n",
      "AY151988.1_f0 is 954bp\n",
      "KX080575.1_f0 is 954bp\n",
      "HG802830.1_f0 is 954bp\n",
      "AY151993.1_f0 is 954bp\n",
      "HG802772.1_f0 is 954bp\n",
      "DQ081074.1_f0 is 954bp\n",
      "U81335.1_f0 is 954bp\n",
      "KT030712.1_f0 is 954bp\n",
      "EF027342.1_f0 is 954bp\n",
      "AY151990.1_f0 is 954bp\n",
      "FJ039991.1_f0 is 954bp\n",
      "AB090021.1_f0 is 954bp\n",
      "HG802786.1_f0 is 954bp\n",
      "AY151992.1_f0 is 954bp\n",
      "AF080277.1_f0 is 954bp\n",
      "DQ081073.1_f0 is 954bp\n",
      "AF080334.1_f0 is 954bp\n",
      "HG802805.1_f0 is 954bp\n",
      "U81329.1_f0 is 954bp\n",
      "HQ681907.1_f0 is 954bp\n",
      "AF080298.1_f0 is 954bp\n",
      "KX694589.1_f0 is 954bp\n",
      "HQ681908.1_f0 is 954bp\n",
      "U81328.1_f0 is 954bp\n",
      "U81340.1_f0 is 954bp\n",
      "EU624267.1_f0 is 954bp\n",
      "KT030713.1_f0 is 954bp\n",
      "AB090043.1_f0 is 954bp\n",
      "KX080601.1_f0 is 954bp\n",
      "AF158461.1_f0 is 954bp\n",
      "KX080576.1_f0 is 954bp\n",
      "JQ287761.1_f0 is 954bp\n",
      "M13046.1_f0 is 954bp\n"
     ]
    }
   ],
   "source": [
    "from Bio import AlignIO\n",
    "from Bio.Alphabet import generic_dna\n",
    "\n",
    "aln = AlignIO.read(open(\"12S_reptile400bpref_plus_short_query_SATIVA.sto\"), \"stockholm\", alphabet=generic_dna)\n",
    "for r in aln:\n",
    "    print(r.id + \" is \" + str(len(r)) + \"bp\")"
   ]
  },
  {
   "cell_type": "code",
   "execution_count": 7,
   "metadata": {
    "collapsed": true
   },
   "outputs": [],
   "source": [
    "pj.alignments['rrnS@reptile_align_allseq_SATIVA'] = aln"
   ]
  },
  {
   "cell_type": "code",
   "execution_count": 8,
   "metadata": {
    "collapsed": false
   },
   "outputs": [
    {
     "data": {
      "text/plain": [
       "{'rrnS@muscleDefault-400bp-SATIVA': <<class 'Bio.Align.MultipleSeqAlignment'> instance (62 records of length 1043, IUPACProtein()) at 7f1f5e9455d0>,\n",
       " 'rrnS@reptile_align_allseq_SATIVA': <<class 'Bio.Align.MultipleSeqAlignment'> instance (95 records of length 954, DNAAlphabet()) at 7f1f5e5d5d10>}"
      ]
     },
     "execution_count": 8,
     "metadata": {},
     "output_type": "execute_result"
    }
   ],
   "source": [
    "pj.alignments"
   ]
  },
  {
   "cell_type": "code",
   "execution_count": 9,
   "metadata": {
    "collapsed": false
   },
   "outputs": [
    {
     "data": {
      "text/plain": [
       "['rrnS@muscleDefault-400bp-SATIVA', 'rrnS@reptile_align_allseq_SATIVA']"
      ]
     },
     "execution_count": 9,
     "metadata": {},
     "output_type": "execute_result"
    }
   ],
   "source": [
    "pj.alignments.keys()"
   ]
  },
  {
   "cell_type": "markdown",
   "metadata": {},
   "source": [
    "Trim the alignment."
   ]
  },
  {
   "cell_type": "code",
   "execution_count": 10,
   "metadata": {
    "collapsed": false
   },
   "outputs": [
    {
     "name": "stdout",
     "output_type": "stream",
     "text": [
      "trimal -in 237211477498428.39_rrnS@reptile_align_allseq_SATIVA.fasta -gappyout\n"
     ]
    }
   ],
   "source": [
    "gappyout = TrimalConf(pj,                      # The Project\n",
    "\n",
    "                      method_name='gappyout',  # Any unique string \n",
    "                                               # ('gappyout' is default)\n",
    "\n",
    "                      program_name='trimal',   # No alternatives in \n",
    "                                               # this ReproPhylo version\n",
    "\n",
    "                      cmd='default',           # the default is trimal. \n",
    "                                               # Change it here\n",
    "                                               # or in pj.defaults['trimal']\n",
    "\n",
    "                      alns=['rrnS@reptile_align_allseq_SATIVA'],# 'all' by default\n",
    "\n",
    "                      trimal_commands={'gappyout': True} # By default, the gappyout algorithm is used.\n",
    "                      )"
   ]
  },
  {
   "cell_type": "code",
   "execution_count": 11,
   "metadata": {
    "collapsed": true
   },
   "outputs": [],
   "source": [
    "pj.trim([gappyout])"
   ]
  },
  {
   "cell_type": "code",
   "execution_count": 12,
   "metadata": {
    "collapsed": false
   },
   "outputs": [
    {
     "name": "stdout",
     "output_type": "stream",
     "text": [
      "TrimalConf named gappyout with ID 237211477498428.39\n",
      "Alignments: rrnS@reptile_align_allseq_SATIVA \n",
      "Created on: Wed Oct 26 16:13:48 2016\n",
      "Commands:\n",
      "rrnS@reptile_align_allseq_SATIVA@gappyout: trimal -in 237211477498428.39_rrnS@reptile_align_allseq_SATIVA.fasta -gappyout\n",
      "\n",
      "Environment:Platform: Linux-4.4.0-38-generic-x86_64-with-Ubuntu-14.04-trusty\n",
      " Processor: x86_64\n",
      " Python build: defaultMar 22 2014 22:59:56\n",
      " Python compiler: GCC 4.8.2\n",
      " Python implementation: CPython\n",
      " Python version: 2.7.6\n",
      " ete2 version: 2.2.1072\n",
      " biopython version: 1.68\n",
      " dendropy version: 3.12.2\n",
      " cloud version: 2.8.5\n",
      " reprophylo version 1.3\n",
      " User: biopc4\n",
      " Program and version: trimAl 1.2rev59\n",
      " Program reference: Salvador Capella-Gutierrez; Jose M. Silla-Martinez; Toni Gabaldon. trimAl: a tool for automated alignment trimming in large-scale phylogenetic analyses. Bioinformatics 2009 25: 1972-1973.\n",
      "execution time:\n",
      "0.650861024857\n",
      "\n",
      "==============================\n",
      "Core Methods section sentence:\n",
      "==============================\n",
      "The alignment(s) rrnS@reptile_align_allseq_SATIVA were trimmed using the program trimAl 1.2rev59 [1].\n",
      "\n",
      "Reference:\n",
      "Salvador Capella-Gutierrez; Jose M. Silla-Martinez; Toni Gabaldon. trimAl: a tool for automated alignment trimming in large-scale phylogenetic analyses. Bioinformatics 2009 25: 1972-1973.\n",
      "\n"
     ]
    }
   ],
   "source": [
    "print pj.used_methods['gappyout']"
   ]
  },
  {
   "cell_type": "code",
   "execution_count": 13,
   "metadata": {
    "collapsed": false
   },
   "outputs": [
    {
     "data": {
      "text/plain": [
       "{'rrnS@muscleDefault-400bp-SATIVA@gappyout': <<class 'Bio.Align.MultipleSeqAlignment'> instance (62 records of length 757, IUPACAmbiguousDNA()) at 7f1f5ef47510>,\n",
       " 'rrnS@reptile_align_allseq_SATIVA@gappyout': <<class 'Bio.Align.MultipleSeqAlignment'> instance (95 records of length 757, IUPACAmbiguousDNA()) at 7f1f5e8fd390>}"
      ]
     },
     "execution_count": 13,
     "metadata": {},
     "output_type": "execute_result"
    }
   ],
   "source": [
    "pj.trimmed_alignments"
   ]
  },
  {
   "cell_type": "code",
   "execution_count": 14,
   "metadata": {
    "collapsed": false
   },
   "outputs": [
    {
     "data": {
      "text/plain": [
       "['rrnS@reptile_align_allseq_SATIVA@gappyout_trimmed_aln.fasta',\n",
       " 'rrnS@muscleDefault-400bp-SATIVA@gappyout_trimmed_aln.fasta']"
      ]
     },
     "execution_count": 14,
     "metadata": {},
     "output_type": "execute_result"
    }
   ],
   "source": [
    "files = pj.write_trimmed_alns(id=['record_id','source_organism'],\n",
    "                                   format='fasta')\n",
    "files"
   ]
  },
  {
   "cell_type": "markdown",
   "metadata": {},
   "source": [
    "Infer Maximum Likelihood tree based on the clipped alignment. We are going to use RAxML.\n",
    "\n",
    "Configure RAxML."
   ]
  },
  {
   "cell_type": "code",
   "execution_count": 15,
   "metadata": {
    "collapsed": false
   },
   "outputs": [
    {
     "name": "stdout",
     "output_type": "stream",
     "text": [
      "raxmlHPC-PTHREADS-SSE3 -f a -m GTRGAMMA -n 637231477498452.88_rrnS@reptile_align_allseq_SATIVA@gappyout0 -p 722 -s 637231477498452.88_rrnS@reptile_align_allseq_SATIVA@gappyout.fasta -T 5 -x 911 -N 100\n"
     ]
    }
   ],
   "source": [
    "raxml = RaxmlConf(pj, method_name='raxml-muscleDefault-trimmed',\n",
    "                  program_name='raxmlHPC-PTHREADS-SSE3',\n",
    "                  keepfiles=True,\n",
    "                  cmd='raxmlHPC-PTHREADS-SSE3',\n",
    "                  preset='fa',\n",
    "                  alns=['rrnS@reptile_align_allseq_SATIVA@gappyout'],\n",
    "                  model='GAMMA',\n",
    "                  threads=5,\n",
    "                  cline_args={'-#': 100})"
   ]
  },
  {
   "cell_type": "code",
   "execution_count": 16,
   "metadata": {
    "collapsed": false
   },
   "outputs": [],
   "source": [
    "pj.tree([raxml])"
   ]
  },
  {
   "cell_type": "code",
   "execution_count": 17,
   "metadata": {
    "collapsed": false
   },
   "outputs": [
    {
     "name": "stdout",
     "output_type": "stream",
     "text": [
      "RaxmlConf named raxml-muscleDefault-trimmed with ID 637231477498452.88\n",
      "Alignments: rrnS@reptile_align_allseq_SATIVA@gappyout \n",
      "Created on: Wed Oct 26 16:14:12 2016\n",
      "Commands:\n",
      "rrnS@reptile_align_allseq_SATIVA@gappyout:\n",
      "raxmlHPC-PTHREADS-SSE3 -f a -m GTRGAMMA -n 637231477498452.88_rrnS@reptile_align_allseq_SATIVA@gappyout0 -p 722 -s 637231477498452.88_rrnS@reptile_align_allseq_SATIVA@gappyout.fasta -T 5 -x 911 -N 100\n",
      "\n",
      "Environment:\n",
      "Platform: Linux-4.4.0-38-generic-x86_64-with-Ubuntu-14.04-trusty\n",
      " Processor: x86_64\n",
      " Python build: defaultMar 22 2014 22:59:56\n",
      " Python compiler: GCC 4.8.2\n",
      " Python implementation: CPython\n",
      " Python version: 2.7.6\n",
      " ete2 version: 2.2.1072\n",
      " biopython version: 1.68\n",
      " dendropy version: 3.12.2\n",
      " cloud version: 2.8.5\n",
      " reprophylo version 1.3\n",
      " User: biopc4\n",
      " Program and version: raxmlHPC-PTHREADS-SSE3RAxML version 8.0.12\n",
      " Program reference: A. Stamatakis: RAxML Version 8: A tool for Phylogenetic Analysis and Post-Analysis of Large Phylogenies. In Bioinformatics\n",
      " 2014.\n",
      "execution time:\n",
      "294.886958838\n",
      "\n",
      "==============================\n",
      "Core Methods section sentence:\n",
      "==============================\n",
      "Phylogenetic trees were reconstructed from the dataset(s) rrnS@reptile_align_allseq_SATIVA@gappyout using the program raxmlHPC-PTHREADS-SSE3RAxML version 8.0.12 [1].\n",
      "\n",
      "Reference:\n",
      "A. Stamatakis: RAxML Version 8: A tool for Phylogenetic Analysis and Post-Analysis of Large Phylogenies. In Bioinformatics, 2014.\n",
      "\n"
     ]
    }
   ],
   "source": [
    "print pj.used_methods['raxml-muscleDefault-trimmed']"
   ]
  },
  {
   "cell_type": "code",
   "execution_count": 18,
   "metadata": {
    "collapsed": false
   },
   "outputs": [
    {
     "data": {
      "text/plain": [
       "['rrnS@reptile_align_allseq_SATIVA@gappyout@raxml-muscleDefault-trimmed',\n",
       " 'rrnS@muscleDefault-400bp-SATIVA@gappyout@raxml-muscleDefault-400bp-SATIVA-trimmed']"
      ]
     },
     "execution_count": 18,
     "metadata": {},
     "output_type": "execute_result"
    }
   ],
   "source": [
    "pj.trees.keys()"
   ]
  },
  {
   "cell_type": "markdown",
   "metadata": {},
   "source": [
    "Pickle the project."
   ]
  },
  {
   "cell_type": "code",
   "execution_count": 19,
   "metadata": {
    "collapsed": false
   },
   "outputs": [
    {
     "data": {
      "text/plain": [
       "'rep_post_SATIVA.pkl'"
      ]
     },
     "execution_count": 19,
     "metadata": {},
     "output_type": "execute_result"
    }
   ],
   "source": [
    "pickle_pj(pj, 'rep_post_SATIVA.pkl')"
   ]
  },
  {
   "cell_type": "markdown",
   "metadata": {},
   "source": [
    "# Visualise tree"
   ]
  },
  {
   "cell_type": "markdown",
   "metadata": {},
   "source": [
    "Now let's visualize the tree containing all 12S rRNA sequences with outliers identified by SATIVA removed.\n",
    "\n",
    "- Prepare tree annotation:\n",
    "- define outgroups\n",
    "- specify support coloration"
   ]
  },
  {
   "cell_type": "code",
   "execution_count": 20,
   "metadata": {
    "collapsed": true
   },
   "outputs": [],
   "source": [
    "pj.add_qualifier_from_source('organism')"
   ]
  },
  {
   "cell_type": "code",
   "execution_count": 21,
   "metadata": {
    "collapsed": true
   },
   "outputs": [],
   "source": [
    "for species in ['Cottus','Mus','Xenopus']:\n",
    "    pj.if_this_then_that(species, 'organism', 'outgroup', 'outgroup',\n",
    "                         mode='part')"
   ]
  },
  {
   "cell_type": "code",
   "execution_count": 22,
   "metadata": {
    "collapsed": true
   },
   "outputs": [],
   "source": [
    "supports = {'black': [100,95],\n",
    "            'dimgray': [95,75],\n",
    "            'silver': [75,50]}"
   ]
  },
  {
   "cell_type": "code",
   "execution_count": 23,
   "metadata": {
    "collapsed": true
   },
   "outputs": [],
   "source": [
    "pj.clear_tree_annotations()\n",
    "pj.annotate('.', 'outgroup', 'outgroup', \n",
    "            ['source_organism', 'record_id'], \n",
    "            node_support_dict=supports, multifurc=10,\n",
    "            html='muscleDefault-trimmed-reptile-all-SATIVA-raxml.html')"
   ]
  },
  {
   "cell_type": "markdown",
   "metadata": {},
   "source": [
    "Create a static copy of the tree (the last *.png with the expected alignment id) for later."
   ]
  },
  {
   "cell_type": "code",
   "execution_count": 24,
   "metadata": {
    "collapsed": true
   },
   "outputs": [],
   "source": [
    "%%bash\n",
    "\n",
    "last_png=$(ls -hlrt *rrnS@reptile_align_allseq_SATIVA@gappyout.png | tail -n 1 | perl -ne 'chomp; @a=split(\" \"); print \"$a[-1]\"')\n",
    "cp $last_png rrnS_muscleDefault-trimmed-reptile-all-SATIVA-raxml.png"
   ]
  },
  {
   "cell_type": "markdown",
   "metadata": {},
   "source": [
    "Pickle the project."
   ]
  },
  {
   "cell_type": "code",
   "execution_count": 25,
   "metadata": {
    "collapsed": false
   },
   "outputs": [
    {
     "data": {
      "text/plain": [
       "'rep_post_SATIVA.pkl'"
      ]
     },
     "execution_count": 25,
     "metadata": {},
     "output_type": "execute_result"
    }
   ],
   "source": [
    "pickle_pj(pj, 'rep_post_SATIVA.pkl')"
   ]
  },
  {
   "cell_type": "markdown",
   "metadata": {},
   "source": [
    "Write out alignment for pplacer input. Need to modify record id - remove the '_f0' that is appended by Reprophylo."
   ]
  },
  {
   "cell_type": "code",
   "execution_count": 26,
   "metadata": {
    "collapsed": false
   },
   "outputs": [
    {
     "name": "stdout",
     "output_type": "stream",
     "text": [
      "returning trimmed alignment object rrnS@reptile_align_allseq_SATIVA@gappyout\n"
     ]
    }
   ],
   "source": [
    "from Bio import AlignIO\n",
    "\n",
    "aln = pj.fta('rrnS@reptile_align_allseq_SATIVA@gappyout')\n",
    "\n",
    "for r in aln:\n",
    "    r.id = \"_\".join(r.id.split(\"_\")[:-1])\n",
    "    r.description = r.id\n",
    "    \n",
    "out=open('../12S_UKreptiles_SATIVA_cleaned.alignment.fasta', 'w')\n",
    "AlignIO.write(aln, out, 'fasta')\n",
    "out.close()\n",
    "\n",
    "out=open('../12S_UKreptiles_SATIVA_cleaned.alignment.phylip', 'w')\n",
    "AlignIO.write(aln, out, 'phylip-relaxed')\n",
    "out.close()"
   ]
  }
 ],
 "metadata": {
  "kernelspec": {
   "display_name": "Python 2",
   "language": "python",
   "name": "python2"
  },
  "language_info": {
   "codemirror_mode": {
    "name": "ipython",
    "version": 2
   },
   "file_extension": ".py",
   "mimetype": "text/x-python",
   "name": "python",
   "nbconvert_exporter": "python",
   "pygments_lexer": "ipython2",
   "version": "2.7.6"
  }
 },
 "nbformat": 4,
 "nbformat_minor": 0
}
