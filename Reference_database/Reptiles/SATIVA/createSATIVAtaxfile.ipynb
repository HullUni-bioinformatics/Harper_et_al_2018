{
 "cells": [
  {
   "cell_type": "markdown",
   "metadata": {},
   "source": [
    "SATIVA requires a 'taxonomy file', i.e. a text file that links each sequence record to a ncbi taxonomic id (aka taxid - see here).\n",
    "\n",
    "We are going to generate this file from a bunch of sequence records downloaded from Genbank.\n",
    "\n",
    "We have downloaded our reference sequences from Genbank in the so-called, genbank format, which is a rich format containing all sorts of metadata for every sequence record, including a specific taxonomic id (taxid), i.e. a identity number that uniquely identifies every species (and also higher taxonomic levels, such as genera, families, classes, etc) recorded on Genbank.\n",
    "\n",
    "Let's parse our Genbank file using Biopython.\n"
   ]
  },
  {
   "cell_type": "code",
   "execution_count": 1,
   "metadata": {
    "collapsed": false
   },
   "outputs": [],
   "source": [
    "from Bio import SeqIO\n",
    "\n",
    "records = SeqIO.to_dict(SeqIO.parse(open('../fetch_clean_align_tree/12S_preSATIVA_reptiles.gb','r'),'genbank'))"
   ]
  },
  {
   "cell_type": "markdown",
   "metadata": {},
   "source": [
    "In the below cell we display the first of our sequence records in Genbank format. Try to identify the taxid of the record and use NCBI's taxonomy database (here) to retrieve the full taxonomic tree for the taxon."
   ]
  },
  {
   "cell_type": "code",
   "execution_count": 2,
   "metadata": {
    "collapsed": false
   },
   "outputs": [
    {
     "name": "stdout",
     "output_type": "stream",
     "text": [
      "LOCUS       KT030713                 387 bp    DNA     linear   VRT 20-JUN-2016\n",
      "DEFINITION  Podarcis muralis isolate Mur02 12S ribosomal RNA gene, partial\n",
      "            sequence; mitochondrial.\n",
      "ACCESSION   KT030713\n",
      "VERSION     KT030713.1\n",
      "KEYWORDS    .\n",
      "SOURCE      mitochondrion Podarcis muralis (common wall lizard)\n",
      "  ORGANISM  Podarcis muralis\n",
      "            Eukaryota; Metazoa; Chordata; Craniata; Vertebrata; Euteleostomi;\n",
      "            Lepidosauria; Squamata; Bifurcata; Unidentata; Episquamata;\n",
      "            Laterata; Lacertibaenia; Lacertidae; Podarcis.\n",
      "REFERENCE   1  (bases 1 to 387)\n",
      "  AUTHORS   Rodriguez,V., Buades,J.M., Brown,R.P., Terrasa,B., Perez-Mellado,V.,\n",
      "            Corti,C., Delaugerre,M., Castro,J.A., Picornell,A. and Ramon,C.\n",
      "  TITLE     A multilocus analysis of evolution of the endemic wall lizard\n",
      "            Podarcis tiliguerta from the Mediterranean islands of Corsica and\n",
      "            Sardinia\n",
      "  JOURNAL   Unpublished\n",
      "REFERENCE   2  (bases 1 to 387)\n",
      "  AUTHORS   Rodriguez,V., Buades,J.M., Brown,R.P., Terrasa,B., Perez-Mellado,V.,\n",
      "            Corti,C., Delaugerre,M., Castro,J.A., Picornell,A. and Ramon,C.\n",
      "  TITLE     Direct Submission\n",
      "  JOURNAL   Submitted (05-JUN-2015) Biology-Genetics, Balearic Islands\n",
      "            University, Crta Valldemosa Km 7.5, Palma de Mallorca, Balearic\n",
      "            Islands 07122, Spain\n",
      "FEATURES             Location/Qualifiers\n",
      "     source          1..387\n",
      "                     /db_xref=\"taxon:64176\"\n",
      "                     /feature_id=\"KT030713.1_source\"\n",
      "                     /isolate=\"Mur02\"\n",
      "                     /mol_type=\"genomic DNA\"\n",
      "                     /note=\"modified from original record: cropped to only\n",
      "                     CDS/rRNA 12S ribosomal RNA\"\n",
      "                     /organelle=\"mitochondrion\"\n",
      "                     /organism=\"Podarcis muralis\"\n",
      "     rRNA            1..387\n",
      "                     /GC_content=\"42.6356589147\"\n",
      "                     /feature_id=\"KT030713.1_f0\"\n",
      "                     /nuc_degen_prop=\"0.00258397932817\"\n",
      "                     /product=\"12S ribosomal RNA\"\n",
      "ORIGIN\n",
      "        1 ccctgaacat tgagagttac tcatacaaga ctttccgcca gagaactaca agtgaaaaac\n",
      "       61 ttgaamctca aaggacttga cggtgtccca tatcgaccta gaggagcctg tcctataatc\n",
      "      121 gatactcctc gctccacccg accccaacta gcaagtatac tcagcctata taccgccgtc\n",
      "      181 gacagtttac cctatgaagg tccaatagta gacacaacag cctttaacgc taacacgtca\n",
      "      241 ggtcaaggtg tagcaaatgt tggggaaaga gattggctac attttttata ataaaaaata\n",
      "      301 cggattgcac tatgaaataa tgcatgaagg tgaatttagt agtaaaacag ataagagtgt\n",
      "      361 ctgttttaac aacgctctgg gacgcgt\n",
      "//\n",
      "\n"
     ]
    }
   ],
   "source": [
    "for r in records.keys():\n",
    "    print records[r].format('genbank')\n",
    "    break"
   ]
  },
  {
   "cell_type": "markdown",
   "metadata": {},
   "source": [
    "We don't want to make our life harder than it already is and deal with subspecies so in the tax file for SATIVA we'll only do species.\n",
    "\n",
    "Iterate over all records and check if taxid is subspecies, if yes replace with taxid of species and extract taxonomy line. If it's a subspecies record the record id for further processing.\n"
   ]
  },
  {
   "cell_type": "code",
   "execution_count": 3,
   "metadata": {
    "collapsed": false
   },
   "outputs": [
    {
     "name": "stdout",
     "output_type": "stream",
     "text": [
      "Podarcis muralis  .. add to records\n",
      "Podarcis muralis  .. already covered\n",
      "Caretta caretta  .. add to records\n",
      "subspecies: Mus musculus castaneus\n",
      "Podarcis muralis  .. already covered\n",
      "Emys orbicularis  .. add to records\n",
      "Podarcis muralis  .. already covered\n",
      "Chelonia mydas  .. add to records\n",
      "Zootoca vivipara  .. add to records\n",
      "Zootoca vivipara  .. already covered\n",
      "Eretmochelys imbricata  .. add to records\n",
      "Zootoca vivipara  .. already covered\n",
      "Zootoca vivipara  .. already covered\n",
      "Eretmochelys imbricata  .. already covered\n",
      "Chelonia mydas  .. already covered\n",
      "Xenopus laevis  .. add to records\n",
      "Lacerta viridis  .. add to records\n",
      "Lacerta agilis  .. add to records\n",
      "Eretmochelys imbricata  .. already covered\n",
      "subspecies: Trachemys scripta scripta\n",
      "Chelydra serpentina  .. add to records\n",
      "Trachemys scripta  .. add to records\n",
      "subspecies: Mus musculus castaneus\n",
      "Podarcis muralis  .. already covered\n",
      "Chelonia mydas  .. already covered\n",
      "Podarcis muralis  .. already covered\n",
      "Podarcis muralis  .. already covered\n",
      "Podarcis muralis  .. already covered\n",
      "subspecies: Mus musculus castaneus\n",
      "Podarcis muralis  .. already covered\n",
      "Podarcis muralis  .. already covered\n",
      "Lacerta viridis  .. already covered\n",
      "Lepidochelys kempii  .. add to records\n",
      "Chelonia mydas  .. already covered\n",
      "Emys orbicularis  .. already covered\n",
      "Vipera berus  .. add to records\n",
      "Emys orbicularis  .. already covered\n",
      "Podarcis muralis  .. already covered\n",
      "Lacerta viridis  .. already covered\n",
      "subspecies: Chrysemys picta bellii\n",
      "Emys orbicularis  .. already covered\n",
      "Chelydra serpentina  .. already covered\n",
      "Lepidochelys kempii  .. already covered\n",
      "subspecies: Trachemys scripta elegans\n",
      "Mus musculus  .. add to records\n",
      "subspecies: Mus musculus castaneus\n",
      "Podarcis muralis  .. already covered\n",
      "Podarcis muralis  .. already covered\n",
      "Emys orbicularis  .. already covered\n",
      "Chelonia mydas  .. already covered\n",
      "Natrix natrix  .. add to records\n",
      "Chelydra serpentina  .. already covered\n",
      "subspecies: Emys orbicularis orbicularis\n",
      "Caretta caretta  .. already covered\n",
      "Natrix natrix  .. already covered\n",
      "subspecies: Mus musculus molossinus\n",
      "Xenopus laevis  .. already covered\n",
      "Chrysemys picta  .. add to records\n",
      "Caretta caretta  .. already covered\n",
      "Zootoca vivipara  .. already covered\n",
      "Xenopus laevis  .. already covered\n",
      "Dermochelys coriacea  .. add to records\n",
      "Trachemys scripta  .. already covered\n",
      "Lacerta viridis  .. already covered\n",
      "Lacerta viridis  .. already covered\n",
      "Caretta caretta  .. already covered\n",
      "Eretmochelys imbricata  .. already covered\n",
      "Lacerta agilis  .. already covered\n",
      "Anguis fragilis  .. add to records\n",
      "subspecies: Mus musculus musculus\n",
      "subspecies: Mus musculus domesticus\n",
      "Emys orbicularis  .. already covered\n",
      "subspecies: Emys orbicularis orbicularis\n",
      "Mus musculus  .. already covered\n",
      "Podarcis muralis  .. already covered\n",
      "Trachemys scripta  .. already covered\n",
      "subspecies: Xenopus laevis sudanensis\n",
      "Mus musculus  .. already covered\n",
      "Podarcis muralis  .. already covered\n",
      "Mauremys caspica  .. add to records\n",
      "Xenopus laevis  .. already covered\n",
      "subspecies: Mus musculus musculus\n",
      "Mus musculus  .. already covered\n",
      "Chelydra serpentina  .. already covered\n",
      "Coronella austriaca  .. add to records\n",
      "Dermochelys coriacea  .. already covered\n",
      "subspecies: Mus musculus musculus\n",
      "Chelonia mydas  .. already covered\n",
      "Zamenis longissimus  .. add to records\n",
      "Lacerta viridis  .. already covered\n",
      "Vipera berus  .. already covered\n",
      "subspecies: Mus musculus musculus\n",
      "Mus musculus  .. already covered\n",
      "Xenopus laevis  .. already covered\n",
      "Xenopus laevis  .. already covered\n",
      "Xenopus laevis  .. already covered\n",
      "Eretmochelys imbricata  .. already covered\n",
      "Chelonia mydas  .. already covered\n",
      "Mauremys caspica  .. already covered\n",
      "Coronella austriaca  .. already covered\n",
      "Caretta caretta  .. already covered\n",
      "Lacerta agilis  .. already covered\n",
      "Lacerta agilis  .. already covered\n",
      "Xenopus laevis  .. already covered\n",
      "Cottus gobio  .. add to records\n",
      "Natrix natrix  .. already covered\n",
      "subspecies: Lacerta viridis viridis\n",
      "Podarcis muralis  .. already covered\n",
      "subspecies: Mus musculus castaneus\n",
      "subspecies: Mus musculus musculus\n",
      "subspecies: Trachemys scripta elegans\n",
      "Podarcis muralis  .. already covered\n",
      "subspecies: Trachemys scripta elegans\n"
     ]
    }
   ],
   "source": [
    "from collections import defaultdict\n",
    "\n",
    "taxon_to_taxid = {}\n",
    "recs_to_adjust = []\n",
    "taxon_to_recs = defaultdict(list)\n",
    "\n",
    "for key in records.keys():\n",
    "    r = records[key]\n",
    "   \n",
    "    source = [f for f in r.features if f.type == 'source'][0]\n",
    "    if (len(source.qualifiers['organism'][0].split(\" \")) == 2):\n",
    "        print source.qualifiers['organism'][0],\n",
    "        if 'db_xref' in source.qualifiers:\n",
    "#            print source.qualifiers['db_xref']\n",
    "            for t in source.qualifiers['db_xref']:\n",
    "#                print t\n",
    "                if 'taxon' in t:\n",
    "                    if not source.qualifiers['organism'][0] in taxon_to_taxid:\n",
    "                        print \" .. add to records\"\n",
    "                        taxon_to_taxid[source.qualifiers['organism'][0]] = t.split(\":\")[1]\n",
    "                    else:\n",
    "                        print \" .. already covered\"\n",
    "                    taxon_to_recs[source.qualifiers['organism'][0]].append(r.id)\n",
    "    elif (len(source.qualifiers['organism'][0].split(\" \")) > 2 and source.qualifiers['organism'][0].split(\" \")[1] == 'sp.'):\n",
    "        print source.qualifiers['organism'][0],\n",
    "        if 'db_xref' in source.qualifiers:\n",
    "            for t in source.qualifiers['db_xref']:\n",
    "                if 'taxon' in t:\n",
    "                    if not str(t) in taxon_to_taxid:\n",
    "                        taxon_to_taxid[source.qualifiers['organism'][0]] = str(t)\n",
    "                    else:\n",
    "                        print \" .. already covered\" \n",
    "                    taxon_to_recs[source.qualifiers['organism'][0]].append(r.id)\n",
    "    else:\n",
    "        print \"subspecies: %s\" %source.qualifiers['organism'][0]\n",
    "        recs_to_adjust.append(r.id)"
   ]
  },
  {
   "cell_type": "markdown",
   "metadata": {},
   "source": [
    "For the records that were identified as being *subspecies* reduce to species and check whether the taxid for the species had already been encountered before. If not we'd need to fetch it from NCBI."
   ]
  },
  {
   "cell_type": "code",
   "execution_count": 4,
   "metadata": {
    "collapsed": false
   },
   "outputs": [
    {
     "name": "stdout",
     "output_type": "stream",
     "text": [
      "Mus musculus castaneus -> Mus musculus\n",
      "Trachemys scripta scripta -> Trachemys scripta\n",
      "Mus musculus castaneus -> Mus musculus\n",
      "Mus musculus castaneus -> Mus musculus\n",
      "Chrysemys picta bellii -> Chrysemys picta\n",
      "Trachemys scripta elegans -> Trachemys scripta\n",
      "Mus musculus castaneus -> Mus musculus\n",
      "Emys orbicularis orbicularis -> Emys orbicularis\n",
      "Mus musculus molossinus -> Mus musculus\n",
      "Mus musculus musculus -> Mus musculus\n",
      "Mus musculus domesticus -> Mus musculus\n",
      "Emys orbicularis orbicularis -> Emys orbicularis\n",
      "Xenopus laevis sudanensis -> Xenopus laevis\n",
      "Mus musculus musculus -> Mus musculus\n",
      "Mus musculus musculus -> Mus musculus\n",
      "Mus musculus musculus -> Mus musculus\n",
      "Lacerta viridis viridis -> Lacerta viridis\n",
      "Mus musculus castaneus -> Mus musculus\n",
      "Mus musculus musculus -> Mus musculus\n",
      "Trachemys scripta elegans -> Trachemys scripta\n",
      "Trachemys scripta elegans -> Trachemys scripta\n"
     ]
    }
   ],
   "source": [
    "from collections import defaultdict\n",
    "\n",
    "to_fetch = defaultdict(list)\n",
    "\n",
    "for key in records.keys():\n",
    "    r = records[key]\n",
    "    if r.id in recs_to_adjust:\n",
    "        source = [f for f in r.features if f.type == 'source'][0]\n",
    "        adjust_from = source.qualifiers['organism'][0]\n",
    "        adjust_to = \" \".join(adjust_from.split(\" \")[:2])\n",
    "        print \"%s -> %s\" %(adjust_from,adjust_to)\n",
    "        if adjust_to in taxon_to_taxid:\n",
    "            taxon_to_recs[adjust_to].append(r.id)\n",
    "        else:\n",
    "            to_fetch[adjust_to].append(r.id)"
   ]
  },
  {
   "cell_type": "markdown",
   "metadata": {},
   "source": [
    "Check if we are good, or if there are any taxids missing."
   ]
  },
  {
   "cell_type": "code",
   "execution_count": 5,
   "metadata": {
    "collapsed": false
   },
   "outputs": [
    {
     "name": "stdout",
     "output_type": "stream",
     "text": [
      "Have taxids for all records\n"
     ]
    }
   ],
   "source": [
    "if to_fetch:\n",
    "    print \"need to fetch some taxids\"\n",
    "else:\n",
    "    print \"Have taxids for all records\""
   ]
  },
  {
   "cell_type": "markdown",
   "metadata": {},
   "source": [
    "If need to fetch taxids, run cells below."
   ]
  },
  {
   "cell_type": "code",
   "execution_count": 6,
   "metadata": {
    "collapsed": false
   },
   "outputs": [
    {
     "name": "stdout",
     "output_type": "stream",
     "text": [
      "defaultdict(<type 'list'>, {})\n"
     ]
    }
   ],
   "source": [
    "#print to_fetch"
   ]
  },
  {
   "cell_type": "code",
   "execution_count": 7,
   "metadata": {
    "collapsed": false
   },
   "outputs": [],
   "source": [
    "#from Bio import Entrez\n",
    "#Entrez.email = \"L.Harper@2015.hull.ac.uk\"\n",
    "\n",
    "#for binomial in to_fetch:\n",
    "    #print binomial\n",
    "    #handle = Entrez.esearch(db=\"Taxonomy\", term=binomial)\n",
    "    #record = Entrez.read(handle)\n",
    "    #print record[\"IdList\"][0]\n",
    "    #taxon_to_taxid[binomial] = record[\"IdList\"][0]\n",
    "    \n",
    "    #taxon_to_recs[binomial] = to_fetch[binomial]"
   ]
  },
  {
   "cell_type": "markdown",
   "metadata": {},
   "source": [
    "Write taxids to file and fetch full taxonomy for all of them using taxit from the taxtastic package."
   ]
  },
  {
   "cell_type": "code",
   "execution_count": 7,
   "metadata": {
    "collapsed": true
   },
   "outputs": [],
   "source": [
    "taxids = []\n",
    "\n",
    "out=open(\"taxids.txt\",'w')\n",
    "for sp in taxon_to_taxid:\n",
    "    taxids.append(taxon_to_taxid[sp])\n",
    "    out.write(taxon_to_taxid[sp]+\"\\n\")\n",
    "out.close()"
   ]
  },
  {
   "cell_type": "markdown",
   "metadata": {},
   "source": [
    "Create tab-delimited text file with full taxonomic tree for each taxid."
   ]
  },
  {
   "cell_type": "code",
   "execution_count": 8,
   "metadata": {
    "collapsed": true
   },
   "outputs": [],
   "source": [
    "!taxit taxtable -d /usr/bin/taxonomy.db -t taxids.txt -o taxa.csv"
   ]
  },
  {
   "cell_type": "markdown",
   "metadata": {},
   "source": [
    "The full 'taxonomy string' for a given taxon as returned from NCBI could look, e.g. like so:\n",
    "\n",
    "cellular organisms; Eukaryota; Opisthokonta; Metazoa; Eumetazoa; Bilateria; Deuterostomia; Chordata; Craniata; Vertebrata; Gnathostomata; Teleostomi; Euteleostomi; Actinopterygii; Actinopteri; Neopterygii; Teleostei; Osteoglossocephalai; Clupeocephala; Euteleosteomorpha; Protacanthopterygii; Salmoniformes; Salmonidae; Salmoninae; Salmo; Salmo trutta\n",
    "\n",
    "The number of taxonomic levels in the taxonomy string may vary between taxa. Some taxonomic groups are classified into relatively uncommon intermediate taxonomic levels, that may not exist for other taxa.\n",
    "\n",
    "In order to make our lives easier downstream we will limit ourselves only to a defined set of the most common taxonomic levels, that should be known for pretty much all taxa.\n",
    "\n",
    "  -  superkingdom\n",
    "  -  phylum\n",
    "  -  class\n",
    "  -  order\n",
    "  -  family\n",
    "  -  genus\n",
    "  -  species\n",
    "\n",
    "Extract 'taxonomy sring' for a specific set of taxonomic levlels.\n"
   ]
  },
  {
   "cell_type": "code",
   "execution_count": 9,
   "metadata": {
    "collapsed": false
   },
   "outputs": [
    {
     "name": "stdout",
     "output_type": "stream",
     "text": [
      "8524 Eukaryota;Chordata;unknown;Squamata;Lacertidae;Zootoca;Zootoca vivipara\n",
      "201439 Eukaryota;Chordata;unknown;Squamata;Colubridae;Zamenis;Zamenis longissimus\n",
      "100952 Eukaryota;Chordata;Actinopteri;Perciformes;Cottidae;Cottus;Cottus gobio\n",
      "82168 Eukaryota;Chordata;unknown;Testudines;Emydidae;Emys;Emys orbicularis\n",
      "64176 Eukaryota;Chordata;unknown;Squamata;Lacertidae;Podarcis;Podarcis muralis\n",
      "8479 Eukaryota;Chordata;unknown;Testudines;Emydidae;Chrysemys;Chrysemys picta\n",
      "102178 Eukaryota;Chordata;unknown;Squamata;Anguidae;Anguis;Anguis fragilis\n",
      "201445 Eukaryota;Chordata;unknown;Squamata;Colubridae;Coronella;Coronella austriaca\n",
      "65476 Eukaryota;Chordata;unknown;Squamata;Lacertidae;Lacerta;Lacerta viridis\n",
      "8469 Eukaryota;Chordata;unknown;Testudines;Cheloniidae;Chelonia;Chelonia mydas\n",
      "8355 Eukaryota;Chordata;Amphibia;Anura;Pipidae;Xenopus;Xenopus laevis\n",
      "100823 Eukaryota;Chordata;unknown;Squamata;Colubridae;Natrix;Natrix natrix\n",
      "31155 Eukaryota;Chordata;unknown;Squamata;Viperidae;Vipera;Vipera berus\n",
      "10090 Eukaryota;Chordata;Mammalia;Rodentia;Muridae;Mus;Mus musculus\n",
      "27787 Eukaryota;Chordata;unknown;Testudines;Cheloniidae;Eretmochelys;Eretmochelys imbricata\n",
      "8472 Eukaryota;Chordata;unknown;Testudines;Cheloniidae;Lepidochelys;Lepidochelys kempii\n",
      "8467 Eukaryota;Chordata;unknown;Testudines;Cheloniidae;Caretta;Caretta caretta\n",
      "202459 Eukaryota;Chordata;unknown;Testudines;Geoemydidae;Mauremys;Mauremys caspica\n",
      "80427 Eukaryota;Chordata;unknown;Squamata;Lacertidae;Lacerta;Lacerta agilis\n",
      "8475 Eukaryota;Chordata;unknown;Testudines;Chelydridae;Chelydra;Chelydra serpentina\n",
      "27794 Eukaryota;Chordata;unknown;Testudines;Dermochelyidae;Dermochelys;Dermochelys coriacea\n",
      "34903 Eukaryota;Chordata;unknown;Testudines;Emydidae;Trachemys;Trachemys scripta\n"
     ]
    }
   ],
   "source": [
    "from collections import defaultdict\n",
    "\n",
    "tax_levels=['superkingdom','phylum','class','order','family','genus','species']\n",
    "indices = []\n",
    "taxdict = defaultdict(list)\n",
    "taxids_to_taxonomy = {}\n",
    "temp_tax_levels = []\n",
    "\n",
    "infile=open(\"taxa.csv\",'r')\n",
    "header=infile.next()\n",
    "\n",
    "header_as_list=header.strip().replace('\"','').split(\",\")\n",
    "for i in range(len(header_as_list)):\n",
    "#    print header_as_list[i]\n",
    "    if header_as_list[i] in tax_levels:\n",
    "#        print \"\\t\"+header_as_list[i],i\n",
    "        temp_tax_levels.append(header_as_list[i])\n",
    "        indices.append(i)\n",
    "        \n",
    "for line in infile:\n",
    "#    print line.strip()\n",
    "    line_as_list=line.strip().replace('\"',\"\").split(\",\")\n",
    "    taxdict[line_as_list[0]] = line_as_list[1:]\n",
    "\n",
    "infile.close()\n",
    "\n",
    "#In rare cases main taxonomic lavels are missing in all taxa that are to be processed. In such cases we'll adjust\n",
    "#list of taxonomic levels to be included in the taxonomy file for sativa\n",
    "if not len(tax_levels) == len(temp_tax_levels):\n",
    "    tax_levels = temp_tax_levels[:]\n",
    "\n",
    "\n",
    "for t in taxids:\n",
    "    print t,\n",
    "#    print taxdict[t]\n",
    "    taxonomy=\"\"\n",
    "    for i in range(len(tax_levels)):\n",
    "        if taxdict[t][indices[i]-1] == \"\":\n",
    "            taxonomy+='unknown'+';'\n",
    "        else:\n",
    "            taxonomy+=taxdict[taxdict[t][indices[i]-1]][2]+\";\"\n",
    "    print taxonomy[:-1]\n",
    "    taxids_to_taxonomy[t] = taxonomy[:-1]"
   ]
  },
  {
   "cell_type": "markdown",
   "metadata": {},
   "source": [
    "Write out *.tax file for SATIVA."
   ]
  },
  {
   "cell_type": "code",
   "execution_count": 10,
   "metadata": {
    "collapsed": false
   },
   "outputs": [],
   "source": [
    "out=open(\"tax_for_SATIVA.tax\", 'w')\n",
    "\n",
    "for sp in taxon_to_recs:\n",
    "    for rec in taxon_to_recs[sp]:\n",
    "        out.write(\"%s\\t%s\\n\" %(rec,taxids_to_taxonomy[taxon_to_taxid[sp]]))\n",
    "        \n",
    "out.close()"
   ]
  },
  {
   "cell_type": "code",
   "execution_count": 11,
   "metadata": {
    "collapsed": false
   },
   "outputs": [
    {
     "name": "stdout",
     "output_type": "stream",
     "text": [
      "GQ142072.1\tEukaryota;Chordata;unknown;Squamata;Lacertidae;Zootoca;Zootoca vivipara\r\n",
      "KM401599.1\tEukaryota;Chordata;unknown;Squamata;Lacertidae;Zootoca;Zootoca vivipara\r\n",
      "AY151993.1\tEukaryota;Chordata;unknown;Squamata;Lacertidae;Zootoca;Zootoca vivipara\r\n",
      "AF080334.1\tEukaryota;Chordata;unknown;Squamata;Lacertidae;Zootoca;Zootoca vivipara\r\n",
      "KF781329.1\tEukaryota;Chordata;unknown;Squamata;Lacertidae;Zootoca;Zootoca vivipara\r\n",
      "AY122780.1\tEukaryota;Chordata;unknown;Squamata;Colubridae;Zamenis;Zamenis longissimus\r\n",
      "AB188189.1\tEukaryota;Chordata;Actinopteri;Perciformes;Cottidae;Cottus;Cottus gobio\r\n",
      "HG802830.1\tEukaryota;Chordata;unknown;Testudines;Emydidae;Emys;Emys orbicularis\r\n",
      "AB090021.1\tEukaryota;Chordata;unknown;Testudines;Emydidae;Emys;Emys orbicularis\r\n",
      "HG802786.1\tEukaryota;Chordata;unknown;Testudines;Emydidae;Emys;Emys orbicularis\r\n",
      "HG802772.1\tEukaryota;Chordata;unknown;Testudines;Emydidae;Emys;Emys orbicularis\r\n",
      "HG802805.1\tEukaryota;Chordata;unknown;Testudines;Emydidae;Emys;Emys orbicularis\r\n",
      "JN999703.2\tEukaryota;Chordata;unknown;Testudines;Emydidae;Emys;Emys orbicularis\r\n",
      "HQ681907.1\tEukaryota;Chordata;unknown;Testudines;Emydidae;Emys;Emys orbicularis\r\n",
      "HQ681908.1\tEukaryota;Chordata;unknown;Testudines;Emydidae;Emys;Emys orbicularis\r\n",
      "KT030713.1\tEukaryota;Chordata;unknown;Squamata;Lacertidae;Podarcis;Podarcis muralis\r\n",
      "AY151988.1\tEukaryota;Chordata;unknown;Squamata;Lacertidae;Podarcis;Podarcis muralis\r\n",
      "KX080575.1\tEukaryota;Chordata;unknown;Squamata;Lacertidae;Podarcis;Podarcis muralis\r\n",
      "AJ001471.1\tEukaryota;Chordata;unknown;Squamata;Lacertidae;Podarcis;Podarcis muralis\r\n",
      "KT030712.1\tEukaryota;Chordata;unknown;Squamata;Lacertidae;Podarcis;Podarcis muralis\r\n",
      "AJ001472.1\tEukaryota;Chordata;unknown;Squamata;Lacertidae;Podarcis;Podarcis muralis\r\n",
      "FJ460597.1\tEukaryota;Chordata;unknown;Squamata;Lacertidae;Podarcis;Podarcis muralis\r\n",
      "EF027342.1\tEukaryota;Chordata;unknown;Squamata;Lacertidae;Podarcis;Podarcis muralis\r\n",
      "AJ001470.1\tEukaryota;Chordata;unknown;Squamata;Lacertidae;Podarcis;Podarcis muralis\r\n",
      "AY151990.1\tEukaryota;Chordata;unknown;Squamata;Lacertidae;Podarcis;Podarcis muralis\r\n",
      "AY151992.1\tEukaryota;Chordata;unknown;Squamata;Lacertidae;Podarcis;Podarcis muralis\r\n",
      "DQ081074.1\tEukaryota;Chordata;unknown;Squamata;Lacertidae;Podarcis;Podarcis muralis\r\n",
      "DQ081073.1\tEukaryota;Chordata;unknown;Squamata;Lacertidae;Podarcis;Podarcis muralis\r\n",
      "AJ001468.1\tEukaryota;Chordata;unknown;Squamata;Lacertidae;Podarcis;Podarcis muralis\r\n",
      "AF080277.1\tEukaryota;Chordata;unknown;Squamata;Lacertidae;Podarcis;Podarcis muralis\r\n",
      "AJ001469.1\tEukaryota;Chordata;unknown;Squamata;Lacertidae;Podarcis;Podarcis muralis\r\n",
      "KX080576.1\tEukaryota;Chordata;unknown;Squamata;Lacertidae;Podarcis;Podarcis muralis\r\n",
      "AF069423.1\tEukaryota;Chordata;unknown;Testudines;Emydidae;Chrysemys;Chrysemys picta\r\n",
      "KF874616.1\tEukaryota;Chordata;unknown;Testudines;Emydidae;Chrysemys;Chrysemys picta\r\n",
      "EU443256.1\tEukaryota;Chordata;unknown;Squamata;Anguidae;Anguis;Anguis fragilis\r\n",
      "KX694589.1\tEukaryota;Chordata;unknown;Squamata;Colubridae;Coronella;Coronella austriaca\r\n",
      "AY122836.1\tEukaryota;Chordata;unknown;Squamata;Colubridae;Coronella;Coronella austriaca\r\n",
      "AJ001480.1\tEukaryota;Chordata;unknown;Squamata;Lacertidae;Lacerta;Lacerta viridis\r\n",
      "AF149962.1\tEukaryota;Chordata;unknown;Squamata;Lacertidae;Lacerta;Lacerta viridis\r\n",
      "AF149960.1\tEukaryota;Chordata;unknown;Squamata;Lacertidae;Lacerta;Lacerta viridis\r\n",
      "AF149959.1\tEukaryota;Chordata;unknown;Squamata;Lacertidae;Lacerta;Lacerta viridis\r\n",
      "AF149961.1\tEukaryota;Chordata;unknown;Squamata;Lacertidae;Lacerta;Lacerta viridis\r\n",
      "AF149958.1\tEukaryota;Chordata;unknown;Squamata;Lacertidae;Lacerta;Lacerta viridis\r\n",
      "AM176577.1\tEukaryota;Chordata;unknown;Squamata;Lacertidae;Lacerta;Lacerta viridis\r\n",
      "JX454972.1\tEukaryota;Chordata;unknown;Testudines;Cheloniidae;Chelonia;Chelonia mydas\r\n",
      "JX454976.1\tEukaryota;Chordata;unknown;Testudines;Cheloniidae;Chelonia;Chelonia mydas\r\n",
      "JX454990.1\tEukaryota;Chordata;unknown;Testudines;Cheloniidae;Chelonia;Chelonia mydas\r\n",
      "AY770536.1\tEukaryota;Chordata;unknown;Testudines;Cheloniidae;Chelonia;Chelonia mydas\r\n",
      "U81329.1\tEukaryota;Chordata;unknown;Testudines;Cheloniidae;Chelonia;Chelonia mydas\r\n",
      "JX454971.1\tEukaryota;Chordata;unknown;Testudines;Cheloniidae;Chelonia;Chelonia mydas\r\n",
      "AB012104.1\tEukaryota;Chordata;unknown;Testudines;Cheloniidae;Chelonia;Chelonia mydas\r\n",
      "M10217.1\tEukaryota;Chordata;Amphibia;Anura;Pipidae;Xenopus;Xenopus laevis\r\n",
      "M27605.1\tEukaryota;Chordata;Amphibia;Anura;Pipidae;Xenopus;Xenopus laevis\r\n",
      "AY581639.1\tEukaryota;Chordata;Amphibia;Anura;Pipidae;Xenopus;Xenopus laevis\r\n",
      "Y10943.1\tEukaryota;Chordata;Amphibia;Anura;Pipidae;Xenopus;Xenopus laevis\r\n",
      "AY581638.1\tEukaryota;Chordata;Amphibia;Anura;Pipidae;Xenopus;Xenopus laevis\r\n",
      "AY581648.1\tEukaryota;Chordata;Amphibia;Anura;Pipidae;Xenopus;Xenopus laevis\r\n",
      "AY581644.1\tEukaryota;Chordata;Amphibia;Anura;Pipidae;Xenopus;Xenopus laevis\r\n",
      "M13046.1\tEukaryota;Chordata;Amphibia;Anura;Pipidae;Xenopus;Xenopus laevis\r\n",
      "AY581640.1\tEukaryota;Chordata;Amphibia;Anura;Pipidae;Xenopus;Xenopus laevis\r\n",
      "KX694573.1\tEukaryota;Chordata;unknown;Squamata;Colubridae;Natrix;Natrix natrix\r\n",
      "AY122682.1\tEukaryota;Chordata;unknown;Squamata;Colubridae;Natrix;Natrix natrix\r\n",
      "AF158461.1\tEukaryota;Chordata;unknown;Squamata;Colubridae;Natrix;Natrix natrix\r\n",
      "EU543221.1\tEukaryota;Chordata;unknown;Squamata;Viperidae;Vipera;Vipera berus\r\n",
      "EU624267.1\tEukaryota;Chordata;unknown;Squamata;Viperidae;Vipera;Vipera berus\r\n",
      "AY533105.1\tEukaryota;Chordata;Mammalia;Rodentia;Muridae;Mus;Mus musculus\r\n",
      "JQ287761.1\tEukaryota;Chordata;Mammalia;Rodentia;Muridae;Mus;Mus musculus\r\n",
      "X84382.1\tEukaryota;Chordata;Mammalia;Rodentia;Muridae;Mus;Mus musculus\r\n",
      "V00665.1\tEukaryota;Chordata;Mammalia;Rodentia;Muridae;Mus;Mus musculus\r\n",
      "AY012114.1\tEukaryota;Chordata;Mammalia;Rodentia;Muridae;Mus;Mus musculus\r\n",
      "KF781663.1\tEukaryota;Chordata;Mammalia;Rodentia;Muridae;Mus;Mus musculus\r\n",
      "KF781660.1\tEukaryota;Chordata;Mammalia;Rodentia;Muridae;Mus;Mus musculus\r\n",
      "AY057792.1\tEukaryota;Chordata;Mammalia;Rodentia;Muridae;Mus;Mus musculus\r\n",
      "KF781661.1\tEukaryota;Chordata;Mammalia;Rodentia;Muridae;Mus;Mus musculus\r\n",
      "AY057793.1\tEukaryota;Chordata;Mammalia;Rodentia;Muridae;Mus;Mus musculus\r\n",
      "AY057791.1\tEukaryota;Chordata;Mammalia;Rodentia;Muridae;Mus;Mus musculus\r\n",
      "JX945964.1\tEukaryota;Chordata;Mammalia;Rodentia;Muridae;Mus;Mus musculus\r\n",
      "DQ874614.2\tEukaryota;Chordata;Mammalia;Rodentia;Muridae;Mus;Mus musculus\r\n",
      "KF781653.1\tEukaryota;Chordata;Mammalia;Rodentia;Muridae;Mus;Mus musculus\r\n",
      "KF781656.1\tEukaryota;Chordata;Mammalia;Rodentia;Muridae;Mus;Mus musculus\r\n",
      "KF781662.1\tEukaryota;Chordata;Mammalia;Rodentia;Muridae;Mus;Mus musculus\r\n",
      "KF781654.1\tEukaryota;Chordata;Mammalia;Rodentia;Muridae;Mus;Mus musculus\r\n",
      "JX454980.1\tEukaryota;Chordata;unknown;Testudines;Cheloniidae;Eretmochelys;Eretmochelys imbricata\r\n",
      "JX454970.1\tEukaryota;Chordata;unknown;Testudines;Cheloniidae;Eretmochelys;Eretmochelys imbricata\r\n",
      "KP221806.1\tEukaryota;Chordata;unknown;Testudines;Cheloniidae;Eretmochelys;Eretmochelys imbricata\r\n",
      "DQ533485.1\tEukaryota;Chordata;unknown;Testudines;Cheloniidae;Eretmochelys;Eretmochelys imbricata\r\n",
      "JX454986.1\tEukaryota;Chordata;unknown;Testudines;Cheloniidae;Eretmochelys;Eretmochelys imbricata\r\n",
      "FJ039991.1\tEukaryota;Chordata;unknown;Testudines;Cheloniidae;Lepidochelys;Lepidochelys kempii\r\n",
      "JX454981.1\tEukaryota;Chordata;unknown;Testudines;Cheloniidae;Lepidochelys;Lepidochelys kempii\r\n",
      "JX454983.1\tEukaryota;Chordata;unknown;Testudines;Cheloniidae;Caretta;Caretta caretta\r\n",
      "KP256531.1\tEukaryota;Chordata;unknown;Testudines;Cheloniidae;Caretta;Caretta caretta\r\n",
      "AY770537.1\tEukaryota;Chordata;unknown;Testudines;Cheloniidae;Caretta;Caretta caretta\r\n",
      "JX454984.1\tEukaryota;Chordata;unknown;Testudines;Cheloniidae;Caretta;Caretta caretta\r\n",
      "JX454977.1\tEukaryota;Chordata;unknown;Testudines;Cheloniidae;Caretta;Caretta caretta\r\n",
      "KC692465.1\tEukaryota;Chordata;unknown;Testudines;Geoemydidae;Mauremys;Mauremys caspica\r\n",
      "AB090043.1\tEukaryota;Chordata;unknown;Testudines;Geoemydidae;Mauremys;Mauremys caspica\r\n",
      "AF149947.1\tEukaryota;Chordata;unknown;Squamata;Lacertidae;Lacerta;Lacerta agilis\r\n",
      "KC990830.1\tEukaryota;Chordata;unknown;Squamata;Lacertidae;Lacerta;Lacerta agilis\r\n",
      "KX080601.1\tEukaryota;Chordata;unknown;Squamata;Lacertidae;Lacerta;Lacerta agilis\r\n",
      "AF080298.1\tEukaryota;Chordata;unknown;Squamata;Lacertidae;Lacerta;Lacerta agilis\r\n",
      "U81335.1\tEukaryota;Chordata;unknown;Testudines;Chelydridae;Chelydra;Chelydra serpentina\r\n",
      "EF122793.1\tEukaryota;Chordata;unknown;Testudines;Chelydridae;Chelydra;Chelydra serpentina\r\n",
      "GU477775.1\tEukaryota;Chordata;unknown;Testudines;Chelydridae;Chelydra;Chelydra serpentina\r\n",
      "JN860636.1\tEukaryota;Chordata;unknown;Testudines;Chelydridae;Chelydra;Chelydra serpentina\r\n",
      "JX454969.1\tEukaryota;Chordata;unknown;Testudines;Dermochelyidae;Dermochelys;Dermochelys coriacea\r\n",
      "U81340.1\tEukaryota;Chordata;unknown;Testudines;Dermochelyidae;Dermochelys;Dermochelys coriacea\r\n",
      "L28077.1\tEukaryota;Chordata;unknown;Testudines;Emydidae;Trachemys;Trachemys scripta\r\n",
      "FJ392294.1\tEukaryota;Chordata;unknown;Testudines;Emydidae;Trachemys;Trachemys scripta\r\n",
      "U81328.1\tEukaryota;Chordata;unknown;Testudines;Emydidae;Trachemys;Trachemys scripta\r\n",
      "KM216749.1\tEukaryota;Chordata;unknown;Testudines;Emydidae;Trachemys;Trachemys scripta\r\n",
      "HQ442366.1\tEukaryota;Chordata;unknown;Testudines;Emydidae;Trachemys;Trachemys scripta\r\n",
      "GU477770.1\tEukaryota;Chordata;unknown;Testudines;Emydidae;Trachemys;Trachemys scripta\r\n",
      "KM216748.1\tEukaryota;Chordata;unknown;Testudines;Emydidae;Trachemys;Trachemys scripta\r\n"
     ]
    }
   ],
   "source": [
    "!cat tax_for_SATIVA.tax"
   ]
  }
 ],
 "metadata": {
  "kernelspec": {
   "display_name": "Python 2",
   "language": "python",
   "name": "python2"
  },
  "language_info": {
   "codemirror_mode": {
    "name": "ipython",
    "version": 2
   },
   "file_extension": ".py",
   "mimetype": "text/x-python",
   "name": "python",
   "nbconvert_exporter": "python",
   "pygments_lexer": "ipython2",
   "version": "2.7.6"
  }
 },
 "nbformat": 4,
 "nbformat_minor": 0
}
