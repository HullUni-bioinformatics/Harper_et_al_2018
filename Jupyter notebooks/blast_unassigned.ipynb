{
 "cells": [
  {
   "cell_type": "markdown",
   "metadata": {},
   "source": [
    "# Re-analysis of unassigned reads"
   ]
  },
  {
   "cell_type": "markdown",
   "metadata": {},
   "source": [
    "It is important to know the identity of unassigned reads for contamination or reference database ambiguities. This code will BLAST unassigned reads against entire genbank.\n",
    "\n",
    "Based on the results of the 98% BLAST identity metaBEAT run, a new BIOM table containing only OTUs that were not taxonomically assigned is generated. A fasta file with the corresponding sequences is also prepared.\n",
    "\n",
    "\n",
    "Required files:\n",
    "\n",
    " - fasta file containing all query sequences (global centroids), as produced by 98% identity metaBEAT run\n",
    "\n",
    " - taxonomy annotated OTU biom table in json format from a metaBEAT run. Not the taxonomy collapsed BIOM table.\n",
    "\n",
    "\n",
    "Load the necessary functions. Functions are in place as of version '0.97.4-global' (commit: 9110e5a3f4a979e85733f83cb0388b00586544f6)."
   ]
  },
  {
   "cell_type": "code",
   "execution_count": 1,
   "metadata": {
    "collapsed": true
   },
   "outputs": [],
   "source": [
    "import metaBEAT_global_misc_functions as mb"
   ]
  },
  {
   "cell_type": "markdown",
   "metadata": {},
   "source": [
    "Read in BIOM file from metaBEAT analysis."
   ]
  },
  {
   "cell_type": "code",
   "execution_count": 2,
   "metadata": {
    "collapsed": false
   },
   "outputs": [
    {
     "name": "stdout",
     "output_type": "stream",
     "text": [
      "\n",
      "Specified BIOM input format 'json' - ok!\n"
     ]
    }
   ],
   "source": [
    "table = mb.load_BIOM('../3-taxonomic_assignment/GLOBAL/BLAST_0.98/12S-trim30_crop110_min90_merge-forwonly_nonchimera_c0.97cov5_blast98-id1-OTU-taxonomy.blast.biom', \n",
    "                     informat='json')"
   ]
  },
  {
   "cell_type": "code",
   "execution_count": 3,
   "metadata": {
    "collapsed": false
   },
   "outputs": [],
   "source": [
    "#double check that we've got a table\n",
    "#print table"
   ]
  },
  {
   "cell_type": "markdown",
   "metadata": {},
   "source": [
    "Extract only OTUs that were not assigned to a taxonomy - i.e. 'unassigned'."
   ]
  },
  {
   "cell_type": "code",
   "execution_count": 4,
   "metadata": {
    "collapsed": false
   },
   "outputs": [
    {
     "name": "stdout",
     "output_type": "stream",
     "text": [
      "Found taxonomy metadata with OTUs - ok!\n"
     ]
    }
   ],
   "source": [
    "unassigned_table = mb.BIOM_return_by_tax_level(taxlevel='unassigned', BIOM=table, invert=False)"
   ]
  },
  {
   "cell_type": "code",
   "execution_count": 5,
   "metadata": {
    "collapsed": false
   },
   "outputs": [],
   "source": [
    "#check metadata in new table to see if we only got the unassigned bits\n",
    "#print unassigned_table.metadata(axis='observation')"
   ]
  },
  {
   "cell_type": "markdown",
   "metadata": {},
   "source": [
    "Extract only sequences mentioned in the table."
   ]
  },
  {
   "cell_type": "code",
   "execution_count": 6,
   "metadata": {
    "collapsed": false
   },
   "outputs": [
    {
     "name": "stdout",
     "output_type": "stream",
     "text": [
      "Looking to extract 7771 sequences\n",
      "Parsing ../3-taxonomic_assignment/GLOBAL/global_queries.fasta\n",
      "identified 7771 target sequences .. OK!\n",
      "Writing sequences to file: unassigned_only.fasta\n"
     ]
    }
   ],
   "source": [
    "mb.extract_fasta_by_BIOM_OTU_ids(in_fasta='../3-taxonomic_assignment/GLOBAL/global_queries.fasta', \n",
    "                                 BIOM=unassigned_table, \n",
    "                                 out_fasta='unassigned_only.fasta')"
   ]
  },
  {
   "cell_type": "code",
   "execution_count": 7,
   "metadata": {
    "collapsed": true
   },
   "outputs": [],
   "source": [
    "unassigned_table_notax = mb.drop_BIOM_taxonomy(unassigned_table)"
   ]
  },
  {
   "cell_type": "code",
   "execution_count": 8,
   "metadata": {
    "collapsed": false
   },
   "outputs": [],
   "source": [
    "#double check that the taxonomy is gone\n",
    "#print unassigned_table_notax.metadata(axis='observation')"
   ]
  },
  {
   "cell_type": "markdown",
   "metadata": {},
   "source": [
    "Write reduced table without taxonomy metadata, i.e. denovo table, to file"
   ]
  },
  {
   "cell_type": "code",
   "execution_count": 9,
   "metadata": {
    "collapsed": false
   },
   "outputs": [
    {
     "name": "stdout",
     "output_type": "stream",
     "text": [
      "Writing 'unassigned_only_denovo.biom'\n",
      "Writing 'unassigned_only_denovo.tsv'\n"
     ]
    }
   ],
   "source": [
    "mb.write_BIOM(BIOM=unassigned_table_notax, target_prefix='unassigned_only_denovo', outfmt=['json','tsv'])"
   ]
  },
  {
   "cell_type": "markdown",
   "metadata": {},
   "source": [
    "The files 'unassigned_only_denovo.biom' and 'unassigned_only.fasta' can be used as input for new metaBEAT run."
   ]
  },
  {
   "cell_type": "code",
   "execution_count": 10,
   "metadata": {
    "collapsed": false
   },
   "outputs": [
    {
     "name": "stdout",
     "output_type": "stream",
     "text": [
      "usage: metaBEAT.py [-h] [-Q <FILE>] [-B <FILE>] [--g_queries <FILE>] [-v] [-s]\r\n",
      "                   [-f] [-p] [-k] [-t] [-b] [-m <string>] [-n <INT>] [-E] [-e]\r\n",
      "                   [--read_stats_off] [--PCR_primer <FILE>]\r\n",
      "                   [--trim_adapter <FILE>] [--trim_qual <INT>] [--phred <INT>]\r\n",
      "                   [--trim_window <INT>] [--read_crop <INT>]\r\n",
      "                   [--trim_minlength <INT>] [--merge] [--product_length <INT>]\r\n",
      "                   [--merged_only] [--forward_only] [--length_filter <INT>]\r\n",
      "                   [--length_deviation <FLOAT>] [-R <FILE>] [--gb_out <FILE>]\r\n",
      "                   [--rec_check] [--gi_to_taxid <FILE>] [--cluster]\r\n",
      "                   [--clust_match <FLOAT>] [--clust_cov <INT>]\r\n",
      "                   [--blast_db <PATH>] [--blast_xml <PATH>]\r\n",
      "                   [--min_ident <FLOAT>] [--min_ali_length <FLOAT>]\r\n",
      "                   [--bitscore_skim_LCA <FLOAT>] [--bitscore_skim_adjust_off]\r\n",
      "                   [--min_bit <INT>] [--refpkg <DIR>] [--jplace <FILE>]\r\n",
      "                   [--jellyfish_hash_size <STR>] [--kraken_db <DIR>]\r\n",
      "                   [--kraken_score_threshold <FLOAT>] [--rm_kraken_db]\r\n",
      "                   [-o OUTPUT_PREFIX] [--metadata METADATA]\r\n",
      "                   [-@ <email-address>] [--version]\r\n",
      "\r\n",
      "metaBEAT - metaBarcoding and Environmental DNA Analyses tool version:\r\n",
      "v.0.97.7-global\r\n",
      "\r\n",
      "optional arguments:\r\n",
      "  -h, --help            show this help message and exit\r\n",
      "  -Q <FILE>, --querylist <FILE>\r\n",
      "                        file containing a list of query files\r\n",
      "  -B <FILE>, --BIOM_input <FILE>\r\n",
      "                        OTU table in BIOM format\r\n",
      "  --g_queries <FILE>    fasta file containing query sequences (in combination\r\n",
      "                        with '-B' sequence headers are expected to match)\r\n",
      "  -v, --verbose         turn verbose output on\r\n",
      "  -s, --seqinfo         write out seq_info.csv file\r\n",
      "  -f, --fasta           write out ref.fasta file\r\n",
      "  -p, --pplace          perform phylogenetic placement\r\n",
      "  -k, --kraken          perform phylogenetic placement\r\n",
      "  -t, --taxids          write out taxid.txt file\r\n",
      "  -b, --blast           compile local blast db and blast queries\r\n",
      "  -m <string>, --marker <string>\r\n",
      "                        marker ID (default: marker)\r\n",
      "  -n <INT>, --n_threads <INT>\r\n",
      "                        Number of threads (default: 1)\r\n",
      "  -E, --extract_centroid_reads\r\n",
      "                        extract centroid reads to files\r\n",
      "  -e, --extract_all_reads\r\n",
      "                        extract reads to files\r\n",
      "  --read_stats_off      ommit writing read stats to file\r\n",
      "  --version             show program's version number and exit\r\n",
      "\r\n",
      "Query preprocessing:\r\n",
      "  The parameters in this group affect how the query sequences are processed\r\n",
      "\r\n",
      "  --PCR_primer <FILE>   PCR primers (provided in fasta file) to be clipped\r\n",
      "                        from reads\r\n",
      "  --trim_adapter <FILE>\r\n",
      "                        trim adapters provided in file\r\n",
      "  --trim_qual <INT>     minimum phred quality score (default: 30)\r\n",
      "  --phred <INT>         phred quality score offset - 33 or 64 (default: 33)\r\n",
      "  --trim_window <INT>   sliding window size (default: 5) for trimming; if\r\n",
      "                        average quality drops below the specified minimum\r\n",
      "                        quality all subsequent bases are removed from the\r\n",
      "                        reads\r\n",
      "  --read_crop <INT>     Crop reads to this length if they are longer than that\r\n",
      "                        (default: off)\r\n",
      "  --trim_minlength <INT>\r\n",
      "                        minimum length of reads to be retained after trimming\r\n",
      "                        (default: 50)\r\n",
      "  --merge               attempt to merge paired-end reads\r\n",
      "  --product_length <INT>\r\n",
      "                        estimated length of PCR product (specifying this\r\n",
      "                        option increases merging efficiency)\r\n",
      "  --merged_only         only process successfully merged read-pairs\r\n",
      "  --forward_only        only process sequences that contain forward reads\r\n",
      "                        (i.e. unmerged forward reads and merged reads)\r\n",
      "  --length_filter <INT>\r\n",
      "                        only process reads, which are within +/- 10 percent of\r\n",
      "                        this length\r\n",
      "  --length_deviation <FLOAT>\r\n",
      "                        allowed deviation (in percent) from length specified\r\n",
      "                        by --length_filter (default=0.1)\r\n",
      "\r\n",
      "Reference:\r\n",
      "  The parameters in this group affect the reference to be used in the\r\n",
      "  analyses\r\n",
      "\r\n",
      "  -R <FILE>, --REFlist <FILE>\r\n",
      "                        file containing a list of files to be used as\r\n",
      "                        reference sequences\r\n",
      "  --gb_out <FILE>       output the corrected gb file\r\n",
      "  --rec_check           check records to be used as reference\r\n",
      "  --gi_to_taxid <FILE>  comma delimited file containing 'gi accession,taxid'\r\n",
      "                        for a list of taxa\r\n",
      "\r\n",
      "Query clustering options:\r\n",
      "  The parameters in this group affect read clustering\r\n",
      "\r\n",
      "  --cluster             perform clustering of query sequences using vsearch\r\n",
      "  --clust_match <FLOAT>\r\n",
      "                        identity threshold for clustering in percent (default:\r\n",
      "                        1)\r\n",
      "  --clust_cov <INT>     minimum number of records in cluster (default: 1)\r\n",
      "\r\n",
      "BLAST search:\r\n",
      "  The parameters in this group affect BLAST search and BLAST based taxonomic\r\n",
      "  assignment\r\n",
      "\r\n",
      "  --blast_db <PATH>     path to precompiled blast database\r\n",
      "  --blast_xml <PATH>    path to Blast result in xml format\r\n",
      "  --min_ident <FLOAT>   minimum identity threshold in percent (default: 0.80)\r\n",
      "  --min_ali_length <FLOAT>\r\n",
      "                        minimum alignment length in percent of total query\r\n",
      "                        length (default: 0.95)\r\n",
      "  --bitscore_skim_LCA <FLOAT>\r\n",
      "                        Only BLAST hits with bitscores differing by less than\r\n",
      "                        this factor from the top hit (bitscore skim window)\r\n",
      "                        will be considered for LCA (0-1; default: 0.1)\r\n",
      "  --bitscore_skim_adjust_off\r\n",
      "                        Per default a 100% identity BLAST top hit across the\r\n",
      "                        minimum alignment length triggers an adjustment of the\r\n",
      "                        bitscore skim window to '0', i.e. only hits with\r\n",
      "                        bitscores as good as the top hit are considered for\r\n",
      "                        LCA. This flag switches this behaviour off.\r\n",
      "  --min_bit <INT>       minimum bitscore (default: 80)\r\n",
      "\r\n",
      "Phylogenetic placement:\r\n",
      "  The parameters in this group affect phylogenetic placement\r\n",
      "\r\n",
      "  --refpkg <DIR>        PATH to refpkg for pplacer\r\n",
      "  --jplace <FILE>       phylogenetic placement result from prefious pplacer\r\n",
      "                        run in *.jplace format\r\n",
      "\r\n",
      "Kraken:\r\n",
      "  The parameters in this group affect taxonomic assignment using Kraken\r\n",
      "\r\n",
      "  --jellyfish_hash_size <STR>\r\n",
      "                        jellyfish hash size to control memory usage during\r\n",
      "                        kraken database building. A table size of '6400M' will\r\n",
      "                        require ~44G of RAM. '2700M' -> 20G RAM.\r\n",
      "  --kraken_db <DIR>     PATH to a Kraken database\r\n",
      "  --kraken_score_threshold <FLOAT>\r\n",
      "                        minimum proportion of k-mers to support assignment\r\n",
      "                        (0-1; default: 0)\r\n",
      "  --rm_kraken_db        Remove Kraken database after successful completion\r\n",
      "\r\n",
      "BIOM OUTPUT:\r\n",
      "  The arguments in this groups affect the output in BIOM format\r\n",
      "\r\n",
      "  -o OUTPUT_PREFIX, --output_prefix OUTPUT_PREFIX\r\n",
      "                        prefix for BIOM output files (default='metaBEAT')\r\n",
      "  --metadata METADATA   comma delimited file containing metadata (optional)\r\n",
      "\r\n",
      "Entrez identification:\r\n",
      "  metaBEAT is querying the NCBI Entrez databases, please provide an email\r\n",
      "  address for identification\r\n",
      "\r\n",
      "  -@ <email-address>, --email <email-address>\r\n",
      "                        provide your email address for identification to NCBI\r\n"
     ]
    }
   ],
   "source": [
    "!metaBEAT_global.py -h"
   ]
  },
  {
   "cell_type": "markdown",
   "metadata": {},
   "source": [
    "Ensure there is a gi_to_taxid file."
   ]
  },
  {
   "cell_type": "code",
   "execution_count": 11,
   "metadata": {
    "collapsed": false
   },
   "outputs": [
    {
     "name": "stdout",
     "output_type": "stream",
     "text": [
      "998452514,9606\r\n",
      "152031377,91750\r\n",
      "930576047,9606\r\n",
      "647737363,9615\r\n",
      "998452864,9606\r\n",
      "255365357,9606\r\n",
      "37725781,107026\r\n",
      "37725783,8838\r\n",
      "393007394,9615\r\n",
      "378554575,89337\r\n"
     ]
    }
   ],
   "source": [
    "!head gi_to_taxid.csv"
   ]
  },
  {
   "cell_type": "markdown",
   "metadata": {},
   "source": [
    "**GO!**"
   ]
  },
  {
   "cell_type": "code",
   "execution_count": 12,
   "metadata": {
    "collapsed": true
   },
   "outputs": [],
   "source": [
    "%%bash\n",
    "\n",
    "metaBEAT_global.py \\\n",
    "-B unassigned_only_denovo.biom \\\n",
    "--g_queries unassigned_only.fasta \\\n",
    "--blast --blast_db ../entireGB_DB/nt/nt --min_ident 0.98 --min_ali_length 0.8 \\\n",
    "-m 12S -n 5 \\\n",
    "-v \\\n",
    "-@ L.Harper@2015.hull.ac.uk \\\n",
    "-o unassigned_only &> log_unassigned"
   ]
  },
  {
   "cell_type": "code",
   "execution_count": 13,
   "metadata": {
    "collapsed": false
   },
   "outputs": [
    {
     "name": "stdout",
     "output_type": "stream",
     "text": [
      "\r\n",
      "direct assignment for F186_-nc|M01364:4:000000000-AGFG9:1:2104:14926:14776_ex -> 9606\r\n",
      "\r\n",
      "attempting LCA assignment for F491_-nc|M01364:9:000000000-AGEVG:1:1104:11973:8905_ex\r\n",
      "found LCA 8830 at level family\r\n",
      "assigned LCA Anatidae (taxid 8830) at level family\r\n",
      "\r\n",
      "attempting LCA assignment for F491_-nc|M01364:9:000000000-AGEVG:1:1103:14894:16071_ex\r\n",
      "found LCA 8830 at level family\r\n",
      "assigned LCA Anatidae (taxid 8830) at level family\r\n",
      "\r\n",
      "direct assignment for F106_-nc|M01364:4:000000000-AGFG9:1:1102:21929:24226_ex -> 9606\r\n",
      "\r\n",
      "direct assignment for F184_-nc|M01364:4:000000000-AGFG9:1:1103:26053:9370_ex -> 9606\r\n",
      "\r\n",
      "attempting LCA assignment for F199_-nc|M01364:4:000000000-AGFG9:1:1101:9228:21478_1:N:0:351\r\n",
      "found LCA 6668 at level genus\r\n",
      "assigned LCA Daphnia (taxid 6668) at level genus\r\n",
      "\r\n",
      "direct assignment for N6-4_-nc|M01364:4:000000000-AGFG9:1:1113:10033:13576_ex -> 9606\r\n",
      "\r\n",
      "direct assignment for F13_-nc|M01364:4:000000000-AGFG9:1:1105:16634:22049_ex -> 9606\r\n",
      "\r\n",
      "direct assignment for F472_-nc|M01364:9:000000000-AGEVG:1:1102:5941:18484_ex -> 9606\r\n",
      "\r\n",
      "direct assignment for F447_-nc|M01364:9:000000000-AGEVG:1:1102:3378:13385_ex -> 9606\r\n",
      "\r\n",
      "direct assignment for F188_-nc|M01364:4:000000000-AGFG9:1:1117:10336:18801_ex -> 9606\r\n",
      "\r\n",
      "LCA detection failed for 27 queries:\r\n",
      "{u'F122_-nc|M01364:4:000000000-AGFG9:1:1103:11823:20013_1:N:0:254': ['257470', '77133', '224209', '156588', '296825', '863493', '155900', '114704', '863496', '863497', '863495', '134633', '198431', '412056', '1184151', '91750', '1637999'], u'F46_-nc|M01364:4:000000000-AGFG9:1:1101:8371:24048_1:N:0:84': ['221218', '77133'], u'F308_-nc|M01364:9:000000000-AGEVG:1:1101:12652:18145_1:N:0:35': ['1851505', '154535', '336765', '1211', '77133', '1355883', '1672147', '1497020', '1188013', '292587', '1814214', '13136', '1672162', '1297576', '77022', '479972', '1672192', '155900'], u'F150_-nc|M01364:4:000000000-AGFG9:1:1101:15114:24435_1:N:0:259': ['1874557', '1887639', '1874555', '1867213', '1867216', '1874556', '1867212', '1867209', '1867207', '1867211', '1867206', '1867227', '1867228', '1869235', '1869236', '1869237', '1869232', '1086707', '1856647', '1867199', '1867198', '1869238', '1869239', '1887628', '77133', '1867195', '1887623', '1874567', '1887621', '1867208', '1887624', '1856649', '1867240', '1869244', '1869240', '1868299', '1887616', '1867188', '1887618', '1856648', '1867210'], u'F113_-nc|M01364:4:000000000-AGFG9:1:1101:18250:19678_1:N:0:144': ['120858', '1618337'], u'F237_-nc|M01364:4:000000000-AGFG9:1:1114:9681:13987_ex': ['32644', '9089', '9088', '1794763', '140445', '9046', '9044', '9054', '9055', '140447', '140446'], u'F246_-nc|M01364:9:000000000-AGEVG:1:1106:12714:21275_1:N:0:37': ['110977', '77133', '155900', '298571', '126087', '100233'], u'JL3_-nc|M01364:4:000000000-AGFG9:1:1102:20583:20739_1:N:0:384': ['120965', '1070623', '77133'], u'N2-2_-nc|M01364:4:000000000-AGFG9:1:1104:14398:19771_1:N:0:93': ['6265', '32595', '131310', '10847', '49338', '1246486', '562', '1460371', '1508658', '387005', '6186', '27848', '174720', '117903'], u'F494_-nc|M01364:9:000000000-AGEVG:1:1101:13737:3321_1:N:0:367': ['171953', '77133'], u'JL1_-nc|M01364:4:000000000-AGFG9:1:1101:22091:9685_1:N:0:382': ['77133', '155900', '926550', '662657', '435295', '1204385', '500842'], u'N2-1_-nc|M01364:4:000000000-AGFG9:1:1119:15073:14652_1:N:0:91': ['102285', '6265', '131310', '10847', '49338', '562', '1460371', '387005', '6186', '27848', '6252', '60517', '174720', '32595'], u'F247_-nc|M01364:9:000000000-AGEVG:1:1101:10136:14264_1:N:0:49': ['298571', '155900', '1826778', '77133', '179110'], u'F188_-nc|M01364:4:000000000-AGFG9:1:1101:14524:16478_1:N:0:302': ['77133', '164851'], u'N2-1_-nc|M01364:4:000000000-AGFG9:1:1119:6056:14060_1:N:0:91': ['102285', '6186', '174720', '32595', '131310', '10847', '49338', '51028', '562', '1460371', '1246486', '387005', '6216', '27848', '6265', '6252', '60517', '6290', '117903'], u'F42_-nc|M01364:4:000000000-AGFG9:1:1114:12410:21233_1:N:0:36': ['257470', '77133', '156588', '198431', '1639998', '670168'], u'F174_-nc|M01364:4:000000000-AGFG9:1:1109:23620:4392_1:N:0:216': ['171953', '190530', '77133', '164851'], u'F154_-nc|M01364:4:000000000-AGFG9:1:1101:15130:16718_1:N:0:224': ['77133', '411917', '179110', '1696961', '360056', '120965', '207831', '904984', '164851'], u'F196_-nc|M01364:4:000000000-AGFG9:1:1102:19537:19589_1:N:0:315': ['120858', '77133'], u'F470_-nc|M01364:9:000000000-AGEVG:1:1104:17791:22650_ex': ['32644', '257846', '134902', '371917', '73330', '109454', '466049', '30421', '46906', '36249', '34924', '30422', '266380', '180449', '127946', '75140', '874463', '701737', '56790', '56796', '874462', '50251', '50250', '193059', '626427', '99181', '8932', '193066', '85066', '276763'], u'F375_-nc|M01364:9:000000000-AGEVG:1:1106:23022:7450_1:N:0:179': ['77133', '221218', '164851', '199737'], u'F243_-nc|M01364:9:000000000-AGEVG:1:1101:4007:12770_1:N:0:1': ['351360', '77133', '91750'], u'F184_-nc|M01364:4:000000000-AGFG9:1:1101:16235:16774_1:N:0:337': ['329911', '77133'], u'F164_-nc|M01364:4:000000000-AGFG9:1:1108:19674:6736_1:N:0:261': ['543031', '77133', '876103', '358574', '166587'], u'F435_-nc|M01364:9:000000000-AGEVG:1:1102:21604:8371_1:N:0:239': ['886805', '77133', '886803'], u'F470_-nc|M01364:9:000000000-AGEVG:1:1101:4599:17232_ex': ['32644', '257846', '134902', '371917', '73330', '30421', '46906', '36249', '34924', '30422', '180449', '127946', '75140', '874463', '701737', '56790', '56796', '874462', '193059', '181626', '626427', '193066', '85066'], u'N1-2_-nc|M01364:4:000000000-AGFG9:1:1102:6511:5645_1:N:0:88': ['102285', '6265', '131310', '10847', '49338', '562', '1460371', '387005', '6186', '27848', '6252', '60517', '174720', '32595']}\r\n",
      "\r\n",
      "\r\n",
      "##### FORMATTING AND WRITING BIOM OUTPUT #####\r\n",
      "\r\n",
      "\r\n",
      "##### BLAST ANALYSIS DONE #####\r\n",
      "\r\n",
      "Find result tables in '/home/working/4-unassigned_blast/GLOBAL/BLAST_0.98'\r\n",
      "\r\n",
      "\r\n",
      "\r\n",
      "Tue Jan 24 18:09:25 2017\r\n",
      "\r\n",
      "\r\n",
      "##### DONE! #####\r\n",
      "\r\n",
      "\r\n",
      "Tue Jan 24 18:09:25 2017\r\n",
      "\r\n"
     ]
    }
   ],
   "source": [
    "!tail -n 50 log_unassigned"
   ]
  },
  {
   "cell_type": "markdown",
   "metadata": {},
   "source": [
    "If the analysis breaks, you have to find the OTU and GI number that caused this.\n",
    "\n",
    "Open the log file and look for the query that was being processed when the analysis broke. The log file will tell you how many gi's have been seen before until eventually one will cause the pipeline to break. If it has seen the gi before in the first 10 hits for example, it is the gi of the 11th hit that broke the pipeline. Open the global_blastn.out.xml in the command line using vim and find the last query that was being processed. Look for the hit with the gi that caused the analysis to break. Copy the gi number and search NCBI with it. The result returned is the species that we need to obtain a taxid for. Click on the species and copy the taxid on the species page. Manually append this taxid, along with the gi number, to your gi_to_taxid.csv file in text editor.\n",
    "\n",
    "Continue to re-run BLAST and repeat trouble-shooting process until metaBEAT completes successfully."
   ]
  }
 ],
 "metadata": {
  "kernelspec": {
   "display_name": "Python 2",
   "language": "python",
   "name": "python2"
  },
  "language_info": {
   "codemirror_mode": {
    "name": "ipython",
    "version": 2
   },
   "file_extension": ".py",
   "mimetype": "text/x-python",
   "name": "python",
   "nbconvert_exporter": "python",
   "pygments_lexer": "ipython2",
   "version": "2.7.6"
  }
 },
 "nbformat": 4,
 "nbformat_minor": 0
}
