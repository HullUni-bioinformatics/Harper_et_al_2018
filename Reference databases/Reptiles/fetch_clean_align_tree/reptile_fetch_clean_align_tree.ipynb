{
 "cells": [
  {
   "cell_type": "code",
   "execution_count": 1,
   "metadata": {
    "collapsed": true
   },
   "outputs": [],
   "source": [
    "from reprophylo import *"
   ]
  },
  {
   "cell_type": "markdown",
   "metadata": {},
   "source": [
    "Download all available 12S sequences for a list of UK reptile taxa from Genbank.\n",
    "\n",
    "The list of binomial species names was prepared in a simple text file: UK_Reptile_Species_List.txt."
   ]
  },
  {
   "cell_type": "code",
   "execution_count": 2,
   "metadata": {
    "collapsed": false
   },
   "outputs": [
    {
     "name": "stdout",
     "output_type": "stream",
     "text": [
      "Anguis fragilis\r\n",
      "Coronella austriaca \r\n",
      "Elaphe longissima\r\n",
      "Natrix natrix \r\n",
      "Natrix tessellata\r\n",
      "Lacerta agilis \r\n",
      "Lacerta viridis\r\n",
      "Podarcis muralis\r\n",
      "Zootoca vivipara \r\n",
      "Vipera berus \r\n"
     ]
    }
   ],
   "source": [
    "!head ./UK_Reptile_Species_List.txt"
   ]
  },
  {
   "cell_type": "code",
   "execution_count": 3,
   "metadata": {
    "collapsed": false
   },
   "outputs": [
    {
     "name": "stdout",
     "output_type": "stream",
     "text": [
      "\n",
      "metaBEAT may be querying NCBI's Entrez databases to fetch/verify taxonomic ids. Entrez User requirements state that you need to identify yourself by providing an email address so that NCBI can contact you in case there is a problem.\n",
      "\n",
      "You have specified: 'L.Harper@2015.hull.ac.uk'\n",
      "\n",
      "\n",
      "QUERYING GENBANK\n",
      "\n",
      "check for synonyms for \"12S\" (this is relevant only for Genbank searches)\n",
      "\n",
      "fetching accessions ..\n",
      "\n",
      "#\tAnguis fragilis\t2\n",
      "#\tCaretta caretta\t9\n",
      "#\tChelonia mydas\t15\n",
      "#\tChelydra serpentina\t8\n",
      "#\tChrysemys picta\t6\n",
      "#\tCoronella austriaca\t2\n",
      "#\tDermochelys coriacea\t7\n",
      "#\tElaphe longissima\t3\n",
      "#\tEmys orbicularis\t68\n",
      "#\tEretmochelys imbricata\t8\n",
      "#\tLacerta agilis\t8\n",
      "#\tLacerta viridis\t9\n",
      "#\tLepidochelys kempii\t3\n",
      "#\tMauremys caspica\t3\n",
      "#\tNatrix natrix\t5\n",
      "#\tNatrix tessellata\t0\n",
      "#\tPodarcis muralis\t25\n",
      "#\tTrachemys scripta\t17\n",
      "#\tVipera berus\t5\n",
      "#\tZootoca vivipara\t21\n",
      "\n",
      "total number of accessions fetched: 224\n",
      "\n",
      "\n",
      "downloading 224 records .. processing 1000 accessions per batch\n",
      "\n",
      "[Wed Oct 26 2016 15:31:29]\tbatch: 0000001\t224 unique records downloaded\t-> UK_reptile_12S_Genbank_raw.0000001.gb\t(total: 224 (100.00 %); remaining: 0 -> DONE!)\n",
      "\n",
      "Concatenate all files\t-> UK_reptile_12S_Genbank_raw.gb\n",
      "\n"
     ]
    }
   ],
   "source": [
    "!fetch_from_db.py -t UK_Reptile_Species_List.txt -m 12S -o UK_reptile_12S_Genbank_raw -@ L.Harper@2015.hull.ac.uk"
   ]
  },
  {
   "cell_type": "markdown",
   "metadata": {},
   "source": [
    "Read reference sequences into ReproPhylo and filter to keep only proper 12S records."
   ]
  },
  {
   "cell_type": "code",
   "execution_count": 4,
   "metadata": {
    "collapsed": true
   },
   "outputs": [],
   "source": [
    "list_loci_in_genbank('UK_reptile_12S_Genbank_raw.gb', # The input genbank file\n",
    "                     'reptile_loci.csv',      # The loci file\n",
    "                     'reptile_loci_counts.txt')"
   ]
  },
  {
   "cell_type": "code",
   "execution_count": 5,
   "metadata": {
    "collapsed": false
   },
   "outputs": [
    {
     "name": "stdout",
     "output_type": "stream",
     "text": [
      "\r\n",
      "There are 72 gene names (or gene product names) detected\r\n",
      "----------------------------------\r\n",
      "Gene and count sorted by gene name\r\n",
      "----------------------------------\r\n",
      "1 instances of CDS,ATP synthase F0 subunit 6\r\n",
      "1 instances of CDS,ATP synthase F0 subunit 8\r\n",
      "44 instances of CDS,ATP6\r\n",
      "43 instances of CDS,ATP8\r\n",
      "1 instances of CDS,ATPase 6\r\n",
      "1 instances of CDS,atpase 6\r\n",
      "1 instances of CDS,atpase 8\r\n",
      "1 instances of CDS,ATPase 8\r\n",
      "2 instances of CDS,ATPase subunit 6\r\n",
      "2 instances of CDS,ATPase subunit 8\r\n",
      "1 instances of CDS,CO1\r\n",
      "1 instances of CDS,CO2\r\n",
      "1 instances of CDS,CO3\r\n",
      "2 instances of CDS,COI\r\n",
      "2 instances of CDS,COII\r\n",
      "3 instances of CDS,COIII\r\n",
      "41 instances of CDS,COX1\r\n",
      "41 instances of CDS,COX2\r\n",
      "41 instances of CDS,COX3\r\n",
      "1 instances of CDS,COXI\r\n",
      "1 instances of CDS,COXII\r\n",
      "1 instances of CDS,COXIII\r\n",
      "1 instances of CDS,Cytb\r\n",
      "42 instances of CDS,CYTB\r\n",
      "2 instances of CDS,cytb\r\n",
      "5 instances of CDS,cytochrome b\r\n",
      "1 instances of CDS,cytochrome c oxidase subunit I\r\n",
      "1 instances of CDS,cytochrome c oxidase subunit II\r\n",
      "1 instances of CDS,cytochrome c oxidase subunit III\r\n",
      "2 instances of CDS,cytochrome oxidase subunit 1\r\n",
      "1 instances of CDS,cytochrome oxidase subunit 2\r\n",
      "1 instances of CDS,cytochrome oxidase subunit 3\r\n",
      "1 instances of CDS,cytochrome oxidase subunit I\r\n",
      "2 instances of CDS,cytochrome oxidase subunit II\r\n",
      "2 instances of CDS,cytochrome oxidase subunit III\r\n",
      "1 instances of CDS,ERAL1\r\n",
      "3 instances of CDS,NADH dehydrogenase subunit 1\r\n",
      "3 instances of CDS,NADH dehydrogenase subunit 2\r\n",
      "3 instances of CDS,NADH dehydrogenase subunit 3\r\n",
      "3 instances of CDS,NADH dehydrogenase subunit 4\r\n",
      "3 instances of CDS,NADH dehydrogenase subunit 4L\r\n",
      "3 instances of CDS,NADH dehydrogenase subunit 5\r\n",
      "3 instances of CDS,NADH dehydrogenase subunit 6\r\n",
      "1 instances of CDS,NADH dehydrogenase subunit I\r\n",
      "1 instances of CDS,NADH dehydrogenase subunit II\r\n",
      "1 instances of CDS,NADH dehydrogenase subunit III\r\n",
      "1 instances of CDS,NADH dehydrogenase subunit IV\r\n",
      "1 instances of CDS,NADH dehydrogenase subunit IV L\r\n",
      "1 instances of CDS,NADH dehydrogenase subunit V\r\n",
      "1 instances of CDS,NADH dehydrogenase subunit VI\r\n",
      "1 instances of CDS,NADH1\r\n",
      "1 instances of CDS,NADH2\r\n",
      "1 instances of CDS,NADH3\r\n",
      "1 instances of CDS,NADH4\r\n",
      "1 instances of CDS,NADH4L\r\n",
      "1 instances of CDS,NADH5\r\n",
      "1 instances of CDS,NADH6\r\n",
      "44 instances of CDS,ND1\r\n",
      "45 instances of CDS,ND2\r\n",
      "44 instances of CDS,ND3\r\n",
      "44 instances of CDS,ND4\r\n",
      "44 instances of CDS,ND4L\r\n",
      "44 instances of CDS,ND5\r\n",
      "44 instances of CDS,ND6\r\n",
      "118 instances of rRNA,12S ribosomal RNA\r\n",
      "78 instances of rRNA,12S rRNA\r\n",
      "2 instances of rRNA,12S small subunit ribosomal RNA\r\n",
      "43 instances of rRNA,16S ribosomal RNA\r\n",
      "2 instances of rRNA,16S rRNA\r\n",
      "1 instances of rRNA,16SrRNA\r\n",
      "7 instances of rRNA,l-rRNA\r\n",
      "7 instances of rRNA,s-rRNA\r\n",
      "-------------------------------\r\n",
      "Gene and count sorted by counts\r\n",
      "-------------------------------\r\n",
      "118 instances of rRNA,12S ribosomal RNA\r\n",
      "78 instances of rRNA,12S rRNA\r\n",
      "45 instances of CDS,ND2\r\n",
      "44 instances of CDS,ATP6\r\n",
      "44 instances of CDS,ND1\r\n",
      "44 instances of CDS,ND3\r\n",
      "44 instances of CDS,ND4\r\n",
      "44 instances of CDS,ND4L\r\n",
      "44 instances of CDS,ND5\r\n",
      "44 instances of CDS,ND6\r\n",
      "43 instances of CDS,ATP8\r\n",
      "43 instances of rRNA,16S ribosomal RNA\r\n",
      "42 instances of CDS,CYTB\r\n",
      "41 instances of CDS,COX1\r\n",
      "41 instances of CDS,COX2\r\n",
      "41 instances of CDS,COX3\r\n",
      "7 instances of rRNA,l-rRNA\r\n",
      "7 instances of rRNA,s-rRNA\r\n",
      "5 instances of CDS,cytochrome b\r\n",
      "3 instances of CDS,COIII\r\n",
      "3 instances of CDS,NADH dehydrogenase subunit 1\r\n",
      "3 instances of CDS,NADH dehydrogenase subunit 2\r\n",
      "3 instances of CDS,NADH dehydrogenase subunit 3\r\n",
      "3 instances of CDS,NADH dehydrogenase subunit 4\r\n",
      "3 instances of CDS,NADH dehydrogenase subunit 4L\r\n",
      "3 instances of CDS,NADH dehydrogenase subunit 5\r\n",
      "3 instances of CDS,NADH dehydrogenase subunit 6\r\n",
      "2 instances of CDS,ATPase subunit 6\r\n",
      "2 instances of CDS,ATPase subunit 8\r\n",
      "2 instances of CDS,COI\r\n",
      "2 instances of CDS,COII\r\n",
      "2 instances of CDS,cytb\r\n",
      "2 instances of CDS,cytochrome oxidase subunit 1\r\n",
      "2 instances of CDS,cytochrome oxidase subunit II\r\n",
      "2 instances of CDS,cytochrome oxidase subunit III\r\n",
      "2 instances of rRNA,12S small subunit ribosomal RNA\r\n",
      "2 instances of rRNA,16S rRNA\r\n",
      "1 instances of CDS,ATP synthase F0 subunit 6\r\n",
      "1 instances of CDS,ATP synthase F0 subunit 8\r\n",
      "1 instances of CDS,ATPase 6\r\n",
      "1 instances of CDS,atpase 6\r\n",
      "1 instances of CDS,atpase 8\r\n",
      "1 instances of CDS,ATPase 8\r\n",
      "1 instances of CDS,CO1\r\n",
      "1 instances of CDS,CO2\r\n",
      "1 instances of CDS,CO3\r\n",
      "1 instances of CDS,COXI\r\n",
      "1 instances of CDS,COXII\r\n",
      "1 instances of CDS,COXIII\r\n",
      "1 instances of CDS,Cytb\r\n",
      "1 instances of CDS,cytochrome c oxidase subunit I\r\n",
      "1 instances of CDS,cytochrome c oxidase subunit II\r\n",
      "1 instances of CDS,cytochrome c oxidase subunit III\r\n",
      "1 instances of CDS,cytochrome oxidase subunit 2\r\n",
      "1 instances of CDS,cytochrome oxidase subunit 3\r\n",
      "1 instances of CDS,cytochrome oxidase subunit I\r\n",
      "1 instances of CDS,ERAL1\r\n",
      "1 instances of CDS,NADH dehydrogenase subunit I\r\n",
      "1 instances of CDS,NADH dehydrogenase subunit II\r\n",
      "1 instances of CDS,NADH dehydrogenase subunit III\r\n",
      "1 instances of CDS,NADH dehydrogenase subunit IV\r\n",
      "1 instances of CDS,NADH dehydrogenase subunit IV L\r\n",
      "1 instances of CDS,NADH dehydrogenase subunit V\r\n",
      "1 instances of CDS,NADH dehydrogenase subunit VI\r\n",
      "1 instances of CDS,NADH1\r\n",
      "1 instances of CDS,NADH2\r\n",
      "1 instances of CDS,NADH3\r\n",
      "1 instances of CDS,NADH4\r\n",
      "1 instances of CDS,NADH4L\r\n",
      "1 instances of CDS,NADH5\r\n",
      "1 instances of CDS,NADH6\r\n",
      "1 instances of rRNA,16SrRNA\r\n"
     ]
    }
   ],
   "source": [
    "!cat reptile_loci_counts.txt"
   ]
  },
  {
   "cell_type": "code",
   "execution_count": 6,
   "metadata": {
    "collapsed": false
   },
   "outputs": [
    {
     "name": "stdout",
     "output_type": "stream",
     "text": [
      "dna,rRNA,12S_small_subunit_ribosomal_RNA,12S small subunit ribosomal RNA\r\n",
      "dna,rRNA,16SrRNA,16SrRNA\r\n",
      "dna,CDS,ATP_synthase_F0_subunit_6,ATP synthase F0 subunit 6\r\n",
      "dna,CDS,ATP_synthase_F0_subunit_8,ATP synthase F0 subunit 8\r\n",
      "dna,CDS,ATPase_6,ATPase 6\r\n",
      "dna,CDS,ATPase_8,ATPase 8\r\n",
      "dna,CDS,ATPase_subunit_6,ATPase subunit 6\r\n",
      "dna,CDS,ATPase_subunit_8,ATPase subunit 8\r\n",
      "dna,CDS,CO1,CO1\r\n",
      "dna,CDS,CO2,CO2\r\n",
      "dna,CDS,CO3,CO3\r\n",
      "dna,CDS,COXI,COXI\r\n",
      "dna,CDS,COXII,COXII\r\n",
      "dna,CDS,COXIII,COXIII\r\n",
      "dna,CDS,ERAL1,ERAL1\r\n",
      "dna,CDS,MT-ATP6,ATP6,atpase 6\r\n",
      "dna,CDS,MT-ATP8,ATP8,atpase 8\r\n",
      "dna,CDS,MT-CO1,COI,COX1,cytochrome c oxidase subunit I\r\n",
      "dna,CDS,MT-CO2,COII,COX2,cytochrome c oxidase subunit II\r\n",
      "dna,CDS,MT-CO3,COIII,COX3,cytochrome c oxidase subunit III\r\n",
      "dna,CDS,MT-CYB,Cytb,CYTB,cytb,cytochrome b\r\n",
      "dna,CDS,MT-ND1,NADH dehydrogenase subunit 1,NADH dehydrogenase subunit I,NADH1,ND1\r\n",
      "dna,CDS,MT-ND2,NADH dehydrogenase subunit 2,NADH dehydrogenase subunit II,NADH2,ND2\r\n",
      "dna,CDS,MT-ND3,NADH dehydrogenase subunit 3,NADH dehydrogenase subunit III,NADH3,ND3\r\n",
      "dna,CDS,MT-ND4,NADH dehydrogenase subunit 4,NADH dehydrogenase subunit IV,NADH4,ND4\r\n",
      "dna,CDS,MT-ND4L,NADH dehydrogenase subunit 4L,ND4L\r\n",
      "dna,CDS,MT-ND5,NADH dehydrogenase subunit 5,NADH dehydrogenase subunit V,NADH5,ND5\r\n",
      "dna,CDS,MT-ND6,NADH dehydrogenase subunit 6,NADH dehydrogenase subunit VI,NADH6,ND6\r\n",
      "dna,CDS,NADH4L,NADH4L\r\n",
      "dna,CDS,NADH_dehydrogenase_subunit_IV_L,NADH dehydrogenase subunit IV L\r\n",
      "dna,CDS,cytochrome_oxidase_subunit_1,cytochrome oxidase subunit 1\r\n",
      "dna,CDS,cytochrome_oxidase_subunit_2,cytochrome oxidase subunit 2\r\n",
      "dna,CDS,cytochrome_oxidase_subunit_3,cytochrome oxidase subunit 3\r\n",
      "dna,CDS,cytochrome_oxidase_subunit_I,cytochrome oxidase subunit I\r\n",
      "dna,CDS,cytochrome_oxidase_subunit_II,cytochrome oxidase subunit II\r\n",
      "dna,CDS,cytochrome_oxidase_subunit_III,cytochrome oxidase subunit III\r\n",
      "dna,rRNA,l-rRNA,l-rRNA\r\n",
      "dna,rRNA,rrnL,16S ribosomal RNA,16S rRNA\r\n",
      "dna,rRNA,rrnS,12S ribosomal RNA,12S rRNA\r\n",
      "dna,rRNA,s-rRNA,s-rRNA\r\n"
     ]
    }
   ],
   "source": [
    "!cat reptile_loci.csv"
   ]
  },
  {
   "cell_type": "markdown",
   "metadata": {},
   "source": [
    "Extract all synonyms for '12S' and write to text file."
   ]
  },
  {
   "cell_type": "code",
   "execution_count": 7,
   "metadata": {
    "collapsed": false
   },
   "outputs": [
    {
     "name": "stdout",
     "output_type": "stream",
     "text": [
      "Writing reptile_target_locus.csv\n"
     ]
    }
   ],
   "source": [
    "%%file reptile_target_locus.csv\n",
    "dna,rRNA,rrnS,12S ribosomal RNA,12S rRNA,1\n",
    "dna,rRNA,12S_ribosormal_RNA,12S ribosormal RNA,1\n",
    "dna,rRNA,s-rRNA,s-rRNA,1"
   ]
  },
  {
   "cell_type": "code",
   "execution_count": 8,
   "metadata": {
    "collapsed": false
   },
   "outputs": [
    {
     "name": "stdout",
     "output_type": "stream",
     "text": [
      "dna,rRNA,rrnS,12S ribosomal RNA,12S rRNA,1\r\n",
      "dna,rRNA,12S_ribosormal_RNA,12S ribosormal RNA,1\r\n",
      "dna,rRNA,s-rRNA,s-rRNA,1"
     ]
    }
   ],
   "source": [
    "!cat reptile_target_locus.csv"
   ]
  },
  {
   "cell_type": "markdown",
   "metadata": {},
   "source": [
    "Now, repeat process and create outgroups that can be used for tree construction as reference points for all amphibian sequences. *Xenopus laevis*, *Cottus gobio* and *Mus musculus*, are ideal outgroups and have been used in a well-referenced phylogenetic study of amphibians (Vidal *et al.* 2005; Shedlock *et al.* 2007; Townsend *et al.* 2008; Wiens *et al.* 2012; Pincheira-Donoso *et al.* 2013; Pyron *et al.* 2013; Reeder *et al.* 2015;). Other studies have used *Homo* but this would cause major problems downstream with laboratory contamination."
   ]
  },
  {
   "cell_type": "code",
   "execution_count": 9,
   "metadata": {
    "collapsed": false
   },
   "outputs": [
    {
     "name": "stdout",
     "output_type": "stream",
     "text": [
      "Writing outgroup.txt\n"
     ]
    }
   ],
   "source": [
    "%%file outgroup.txt\n",
    "Cottus gobio\n",
    "Mus musculus\n",
    "Xenopus laevis"
   ]
  },
  {
   "cell_type": "code",
   "execution_count": 10,
   "metadata": {
    "collapsed": false
   },
   "outputs": [
    {
     "name": "stdout",
     "output_type": "stream",
     "text": [
      "\n",
      "metaBEAT may be querying NCBI's Entrez databases to fetch/verify taxonomic ids. Entrez User requirements state that you need to identify yourself by providing an email address so that NCBI can contact you in case there is a problem.\n",
      "\n",
      "You have specified: 'L.Harper@2015.hull.ac.uk'\n",
      "\n",
      "\n",
      "QUERYING GENBANK\n",
      "\n",
      "check for synonyms for \"12S\" (this is relevant only for Genbank searches)\n",
      "\n",
      "fetching accessions ..\n",
      "\n",
      "#\tCottus gobio\t1\n",
      "#\tMus musculus\t217\n",
      "#\tXenopus laevis\t20\n",
      "\n",
      "total number of accessions fetched: 238\n",
      "\n",
      "\n",
      "downloading 238 records .. processing 1000 accessions per batch\n",
      "\n",
      "[Wed Oct 26 2016 15:32:28]\tbatch: 0000001\t238 unique records downloaded\t-> outgroups.0000001.gb\t(total: 238 (100.00 %); remaining: 0 -> DONE!)\n",
      "\n",
      "Concatenate all files\t-> outgroups.gb\n",
      "\n"
     ]
    }
   ],
   "source": [
    "!fetch_from_db.py -t ../fetch_clean_align_tree/outgroup.txt -m 12S -o outgroups -@ L.Harper@2015.hull.ac.uk"
   ]
  },
  {
   "cell_type": "code",
   "execution_count": 11,
   "metadata": {
    "collapsed": false
   },
   "outputs": [
    {
     "name": "stdout",
     "output_type": "stream",
     "text": [
      "Could not find either gene or product in V00711.1\n",
      "Could not find either gene or product in V00711.1\n",
      "Could not find either gene or product in V00711.1\n",
      "Could not find either gene or product in V00711.1\n",
      "Could not find either gene or product in V00711.1\n",
      "Could not find either gene or product in V00711.1\n",
      "Could not find either gene or product in V00711.1\n",
      "Could not find either gene or product in V00711.1\n",
      "Could not find either gene or product in V00711.1\n",
      "Could not find either gene or product in V00711.1\n",
      "Could not find either gene or product in V00711.1\n",
      "Could not find either gene or product in V00711.1\n",
      "Could not find either gene or product in V00711.1\n",
      "Could not find either gene or product in M10217.1\n",
      "Could not find either gene or product in M10217.1\n",
      "Could not find either gene or product in M10217.1\n",
      "Could not find either gene or product in M10217.1\n",
      "Could not find either gene or product in M10217.1\n",
      "Could not find either gene or product in M10188.1\n",
      "Could not find either gene or product in M10188.1\n",
      "\n",
      "There are 101 gene names (or gene product names) detected\n",
      "----------------------------------\n",
      "Gene and count sorted by gene name\n",
      "----------------------------------\n",
      "1 instances of CDS,ATP synthase F0 subunit 6\n",
      "1 instances of CDS,ATP synthase F0 subunit 8\n",
      "28 instances of CDS,Atp6\n",
      "117 instances of CDS,ATP6\n",
      "28 instances of CDS,Atp8\n",
      "117 instances of CDS,ATP8\n",
      "7 instances of CDS,ATPase 6\n",
      "6 instances of CDS,ATPase 8\n",
      "1 instances of CDS,ATPase subunit 6\n",
      "1 instances of CDS,ATPase6\n",
      "1 instances of CDS,ATPase8\n",
      "1 instances of CDS,Cldn23\n",
      "28 instances of CDS,Co1\n",
      "28 instances of CDS,Co2\n",
      "28 instances of CDS,Co3\n",
      "13 instances of CDS,COI\n",
      "13 instances of CDS,COII\n",
      "13 instances of CDS,COIII\n",
      "57 instances of CDS,COX1\n",
      "1 instances of CDS,COX1I\n",
      "56 instances of CDS,COX2\n",
      "59 instances of CDS,COX3\n",
      "53 instances of CDS,COXI\n",
      "53 instances of CDS,COXII\n",
      "53 instances of CDS,COXIII\n",
      "1 instances of CDS,Cyp2j6\n",
      "1 instances of CDS,Cyp2j9\n",
      "116 instances of CDS,CYTB\n",
      "5 instances of CDS,cytb\n",
      "30 instances of CDS,Cytb\n",
      "4 instances of CDS,cytochrome b\n",
      "1 instances of CDS,cytochrome c oxidase subunit I\n",
      "1 instances of CDS,cytochrome c oxidase subunit II\n",
      "1 instances of CDS,cytochrome c oxidase subunit III\n",
      "3 instances of CDS,cytochrome oxidase subunit 1\n",
      "3 instances of CDS,cytochrome oxidase subunit 2\n",
      "1 instances of CDS,cytochrome oxidase subunit 3\n",
      "1 instances of CDS,eral1.L\n",
      "1 instances of CDS,Gtpbp3\n",
      "1 instances of CDS,mst1.L\n",
      "1 instances of CDS,mst1.S\n",
      "3 instances of CDS,mt-Atp6\n",
      "3 instances of CDS,mt-Atp8\n",
      "3 instances of CDS,mt-Co1\n",
      "3 instances of CDS,mt-Co2\n",
      "3 instances of CDS,mt-Co3\n",
      "3 instances of CDS,mt-Cytb\n",
      "3 instances of CDS,mt-Nd1\n",
      "3 instances of CDS,mt-Nd2\n",
      "3 instances of CDS,mt-Nd3\n",
      "3 instances of CDS,mt-Nd4\n",
      "3 instances of CDS,mt-Nd4l\n",
      "3 instances of CDS,mt-Nd5\n",
      "3 instances of CDS,mt-Nd6\n",
      "1 instances of CDS,NADH dehydrogenase 1\n",
      "2 instances of CDS,NADH dehydrogenase subunit 1\n",
      "2 instances of CDS,NADH dehydrogenase subunit 2\n",
      "2 instances of CDS,NADH dehydrogenase subunit 3\n",
      "3 instances of CDS,NADH dehydrogenase subunit 4\n",
      "2 instances of CDS,NADH dehydrogenase subunit 4L\n",
      "2 instances of CDS,NADH dehydrogenase subunit 5\n",
      "2 instances of CDS,NADH dehydrogenase subunit 6\n",
      "123 instances of CDS,ND1\n",
      "28 instances of CDS,Nd1\n",
      "123 instances of CDS,ND2\n",
      "28 instances of CDS,Nd2\n",
      "123 instances of CDS,ND3\n",
      "28 instances of CDS,Nd3\n",
      "123 instances of CDS,ND4\n",
      "28 instances of CDS,Nd4\n",
      "123 instances of CDS,ND4L\n",
      "28 instances of CDS,Nd4l\n",
      "123 instances of CDS,ND5\n",
      "28 instances of CDS,Nd5\n",
      "123 instances of CDS,ND6\n",
      "28 instances of CDS,Nd6\n",
      "1 instances of CDS,Nsun4\n",
      "1 instances of CDS,ORF 3\n",
      "1 instances of CDS,protein 1\n",
      "1 instances of CDS,protein 2\n",
      "1 instances of CDS,protein 3\n",
      "1 instances of CDS,protein 4\n",
      "1 instances of CDS,protein 41\n",
      "1 instances of CDS,protein 5\n",
      "1 instances of CDS,protein 6\n",
      "1 instances of CDS,protein A61\n",
      "1 instances of CDS,Tfb1m\n",
      "1 instances of CDS,tfb1m.L\n",
      "3 instances of CDS,Tfb2m\n",
      "153 instances of rRNA,12S ribosomal RNA\n",
      "4 instances of rRNA,12S ribosome RNA\n",
      "3 instances of rRNA,12S rRNA\n",
      "138 instances of rRNA,16S ribosomal RNA\n",
      "4 instances of rRNA,16S ribosome RNA\n",
      "4 instances of rRNA,16S rRNA\n",
      "2 instances of rRNA,l-rRNA\n",
      "17 instances of rRNA,rnr1\n",
      "3 instances of rRNA,Rnr1\n",
      "17 instances of rRNA,rnr2\n",
      "3 instances of rRNA,Rnr2\n",
      "2 instances of rRNA,s-rRNA\n",
      "-------------------------------\n",
      "Gene and count sorted by counts\n",
      "-------------------------------\n",
      "153 instances of rRNA,12S ribosomal RNA\n",
      "138 instances of rRNA,16S ribosomal RNA\n",
      "123 instances of CDS,ND1\n",
      "123 instances of CDS,ND2\n",
      "123 instances of CDS,ND3\n",
      "123 instances of CDS,ND4\n",
      "123 instances of CDS,ND4L\n",
      "123 instances of CDS,ND5\n",
      "123 instances of CDS,ND6\n",
      "117 instances of CDS,ATP6\n",
      "117 instances of CDS,ATP8\n",
      "116 instances of CDS,CYTB\n",
      "59 instances of CDS,COX3\n",
      "57 instances of CDS,COX1\n",
      "56 instances of CDS,COX2\n",
      "53 instances of CDS,COXI\n",
      "53 instances of CDS,COXII\n",
      "53 instances of CDS,COXIII\n",
      "30 instances of CDS,Cytb\n",
      "28 instances of CDS,Atp6\n",
      "28 instances of CDS,Atp8\n",
      "28 instances of CDS,Co1\n",
      "28 instances of CDS,Co2\n",
      "28 instances of CDS,Co3\n",
      "28 instances of CDS,Nd1\n",
      "28 instances of CDS,Nd2\n",
      "28 instances of CDS,Nd3\n",
      "28 instances of CDS,Nd4\n",
      "28 instances of CDS,Nd4l\n",
      "28 instances of CDS,Nd5\n",
      "28 instances of CDS,Nd6\n",
      "17 instances of rRNA,rnr1\n",
      "17 instances of rRNA,rnr2\n",
      "13 instances of CDS,COI\n",
      "13 instances of CDS,COII\n",
      "13 instances of CDS,COIII\n",
      "7 instances of CDS,ATPase 6\n",
      "6 instances of CDS,ATPase 8\n",
      "5 instances of CDS,cytb\n",
      "4 instances of CDS,cytochrome b\n",
      "4 instances of rRNA,12S ribosome RNA\n",
      "4 instances of rRNA,16S ribosome RNA\n",
      "4 instances of rRNA,16S rRNA\n",
      "3 instances of CDS,cytochrome oxidase subunit 1\n",
      "3 instances of CDS,cytochrome oxidase subunit 2\n",
      "3 instances of CDS,mt-Atp6\n",
      "3 instances of CDS,mt-Atp8\n",
      "3 instances of CDS,mt-Co1\n",
      "3 instances of CDS,mt-Co2\n",
      "3 instances of CDS,mt-Co3\n",
      "3 instances of CDS,mt-Cytb\n",
      "3 instances of CDS,mt-Nd1\n",
      "3 instances of CDS,mt-Nd2\n",
      "3 instances of CDS,mt-Nd3\n",
      "3 instances of CDS,mt-Nd4\n",
      "3 instances of CDS,mt-Nd4l\n",
      "3 instances of CDS,mt-Nd5\n",
      "3 instances of CDS,mt-Nd6\n",
      "3 instances of CDS,NADH dehydrogenase subunit 4\n",
      "3 instances of CDS,Tfb2m\n",
      "3 instances of rRNA,12S rRNA\n",
      "3 instances of rRNA,Rnr1\n",
      "3 instances of rRNA,Rnr2\n",
      "2 instances of CDS,NADH dehydrogenase subunit 1\n",
      "2 instances of CDS,NADH dehydrogenase subunit 2\n",
      "2 instances of CDS,NADH dehydrogenase subunit 3\n",
      "2 instances of CDS,NADH dehydrogenase subunit 4L\n",
      "2 instances of CDS,NADH dehydrogenase subunit 5\n",
      "2 instances of CDS,NADH dehydrogenase subunit 6\n",
      "2 instances of rRNA,l-rRNA\n",
      "2 instances of rRNA,s-rRNA\n",
      "1 instances of CDS,ATP synthase F0 subunit 6\n",
      "1 instances of CDS,ATP synthase F0 subunit 8\n",
      "1 instances of CDS,ATPase subunit 6\n",
      "1 instances of CDS,ATPase6\n",
      "1 instances of CDS,ATPase8\n",
      "1 instances of CDS,Cldn23\n",
      "1 instances of CDS,COX1I\n",
      "1 instances of CDS,Cyp2j6\n",
      "1 instances of CDS,Cyp2j9\n",
      "1 instances of CDS,cytochrome c oxidase subunit I\n",
      "1 instances of CDS,cytochrome c oxidase subunit II\n",
      "1 instances of CDS,cytochrome c oxidase subunit III\n",
      "1 instances of CDS,cytochrome oxidase subunit 3\n",
      "1 instances of CDS,eral1.L\n",
      "1 instances of CDS,Gtpbp3\n",
      "1 instances of CDS,mst1.L\n",
      "1 instances of CDS,mst1.S\n",
      "1 instances of CDS,NADH dehydrogenase 1\n",
      "1 instances of CDS,Nsun4\n",
      "1 instances of CDS,ORF 3\n",
      "1 instances of CDS,protein 1\n",
      "1 instances of CDS,protein 2\n",
      "1 instances of CDS,protein 3\n",
      "1 instances of CDS,protein 4\n",
      "1 instances of CDS,protein 41\n",
      "1 instances of CDS,protein 5\n",
      "1 instances of CDS,protein 6\n",
      "1 instances of CDS,protein A61\n",
      "1 instances of CDS,Tfb1m\n",
      "1 instances of CDS,tfb1m.L\n"
     ]
    }
   ],
   "source": [
    "list_loci_in_genbank('outgroups.gb', 'outgroup_list_of_loci.csv')"
   ]
  },
  {
   "cell_type": "code",
   "execution_count": 12,
   "metadata": {
    "collapsed": false
   },
   "outputs": [
    {
     "name": "stdout",
     "output_type": "stream",
     "text": [
      "dna,rRNA,12S_ribosome_RNA,12S ribosome RNA\r\n",
      "dna,rRNA,16S_ribosome_RNA,16S ribosome RNA\r\n",
      "dna,CDS,ATP_synthase_F0_subunit_6,ATP synthase F0 subunit 6\r\n",
      "dna,CDS,ATP_synthase_F0_subunit_8,ATP synthase F0 subunit 8\r\n",
      "dna,CDS,ATPase_6,ATPase 6\r\n",
      "dna,CDS,ATPase_8,ATPase 8\r\n",
      "dna,CDS,ATPase_subunit_6,ATPase subunit 6\r\n",
      "dna,CDS,Atp6,Atp6\r\n",
      "dna,CDS,Atp8,Atp8\r\n",
      "dna,CDS,COX1I,COX1I\r\n",
      "dna,CDS,COXI,COXI\r\n",
      "dna,CDS,COXII,COXII\r\n",
      "dna,CDS,COXIII,COXIII\r\n",
      "dna,CDS,Cldn23,Cldn23\r\n",
      "dna,CDS,Co1,Co1\r\n",
      "dna,CDS,Co2,Co2\r\n",
      "dna,CDS,Co3,Co3\r\n",
      "dna,CDS,Cyp2j6,Cyp2j6\r\n",
      "dna,CDS,Cyp2j9,Cyp2j9\r\n",
      "dna,CDS,Gtpbp3,Gtpbp3\r\n",
      "dna,CDS,MT-ATP6,ATP6,ATPase6\r\n",
      "dna,CDS,MT-ATP8,ATP8,ATPase8\r\n",
      "dna,CDS,MT-CO1,COI,COX1,cytochrome c oxidase subunit I\r\n",
      "dna,CDS,MT-CO2,COII,COX2,cytochrome c oxidase subunit II\r\n",
      "dna,CDS,MT-CO3,COIII,COX3,cytochrome c oxidase subunit III\r\n",
      "dna,CDS,MT-CYB,CYTB,cytb,Cytb,cytochrome b\r\n",
      "dna,CDS,MT-ND1,NADH dehydrogenase subunit 1,ND1\r\n",
      "dna,CDS,MT-ND2,NADH dehydrogenase subunit 2,ND2\r\n",
      "dna,CDS,MT-ND3,NADH dehydrogenase subunit 3,ND3\r\n",
      "dna,CDS,MT-ND4,NADH dehydrogenase subunit 4,ND4\r\n",
      "dna,CDS,MT-ND4L,NADH dehydrogenase subunit 4L,ND4L\r\n",
      "dna,CDS,MT-ND5,NADH dehydrogenase subunit 5,ND5\r\n",
      "dna,CDS,MT-ND6,NADH dehydrogenase subunit 6,ND6\r\n",
      "dna,CDS,NADH_dehydrogenase_1,NADH dehydrogenase 1\r\n",
      "dna,CDS,Nd1,Nd1\r\n",
      "dna,CDS,Nd2,Nd2\r\n",
      "dna,CDS,Nd3,Nd3\r\n",
      "dna,CDS,Nd4,Nd4\r\n",
      "dna,CDS,Nd4l,Nd4l\r\n",
      "dna,CDS,Nd5,Nd5\r\n",
      "dna,CDS,Nd6,Nd6\r\n",
      "dna,CDS,Nsun4,Nsun4\r\n",
      "dna,CDS,ORF_3,ORF 3\r\n",
      "dna,rRNA,Rnr1,Rnr1\r\n",
      "dna,rRNA,Rnr2,Rnr2\r\n",
      "dna,CDS,Tfb1m,Tfb1m\r\n",
      "dna,CDS,Tfb2m,Tfb2m\r\n",
      "dna,CDS,cytochrome_oxidase_subunit_1,cytochrome oxidase subunit 1\r\n",
      "dna,CDS,cytochrome_oxidase_subunit_2,cytochrome oxidase subunit 2\r\n",
      "dna,CDS,cytochrome_oxidase_subunit_3,cytochrome oxidase subunit 3\r\n",
      "dna,CDS,eral1.L,eral1.L\r\n",
      "dna,rRNA,l-rRNA,l-rRNA\r\n",
      "dna,CDS,mst1.L,mst1.L\r\n",
      "dna,CDS,mst1.S,mst1.S\r\n",
      "dna,CDS,mt-Atp6,mt-Atp6\r\n",
      "dna,CDS,mt-Atp8,mt-Atp8\r\n",
      "dna,CDS,mt-Co1,mt-Co1\r\n",
      "dna,CDS,mt-Co2,mt-Co2\r\n",
      "dna,CDS,mt-Co3,mt-Co3\r\n",
      "dna,CDS,mt-Cytb,mt-Cytb\r\n",
      "dna,CDS,mt-Nd1,mt-Nd1\r\n",
      "dna,CDS,mt-Nd2,mt-Nd2\r\n",
      "dna,CDS,mt-Nd3,mt-Nd3\r\n",
      "dna,CDS,mt-Nd4,mt-Nd4\r\n",
      "dna,CDS,mt-Nd4l,mt-Nd4l\r\n",
      "dna,CDS,mt-Nd5,mt-Nd5\r\n",
      "dna,CDS,mt-Nd6,mt-Nd6\r\n",
      "dna,CDS,protein_1,protein 1\r\n",
      "dna,CDS,protein_2,protein 2\r\n",
      "dna,CDS,protein_3,protein 3\r\n",
      "dna,CDS,protein_4,protein 4\r\n",
      "dna,CDS,protein_41,protein 41\r\n",
      "dna,CDS,protein_5,protein 5\r\n",
      "dna,CDS,protein_6,protein 6\r\n",
      "dna,CDS,protein_A61,protein A61\r\n",
      "dna,rRNA,rnr1,rnr1\r\n",
      "dna,rRNA,rnr2,rnr2\r\n",
      "dna,rRNA,rrnL,16S ribosomal RNA,16S rRNA\r\n",
      "dna,rRNA,rrnS,12S ribosomal RNA,12S rRNA\r\n",
      "dna,rRNA,s-rRNA,s-rRNA\r\n",
      "dna,CDS,tfb1m.L,tfb1m.L\r\n"
     ]
    }
   ],
   "source": [
    "!cat outgroup_list_of_loci.csv"
   ]
  },
  {
   "cell_type": "markdown",
   "metadata": {},
   "source": [
    "# Reprophylo project"
   ]
  },
  {
   "cell_type": "markdown",
   "metadata": {},
   "source": [
    "Start ReproPhylo project."
   ]
  },
  {
   "cell_type": "code",
   "execution_count": 13,
   "metadata": {
    "collapsed": false
   },
   "outputs": [
    {
     "name": "stderr",
     "output_type": "stream",
     "text": [
      "DEBUG:Cloud:Log file (/root/.picloud/cloud.log) opened\n"
     ]
    }
   ],
   "source": [
    "pj=Project('reptile_target_locus.csv', pickle='rep_raw.pkl', git=False)"
   ]
  },
  {
   "cell_type": "code",
   "execution_count": 14,
   "metadata": {
    "collapsed": false
   },
   "outputs": [],
   "source": [
    "# pj=unpickle_pj('rep_raw.pkl', git=False)\n",
    "# Use this code cell if running program more than once."
   ]
  },
  {
   "cell_type": "markdown",
   "metadata": {},
   "source": [
    "Read sequences into ReproPhylo."
   ]
  },
  {
   "cell_type": "code",
   "execution_count": 14,
   "metadata": {
    "collapsed": false
   },
   "outputs": [
    {
     "name": "stderr",
     "output_type": "stream",
     "text": [
      "/home/reprophylo/reprophylo.py:1015: UserWarning: Version control off\n",
      "  warnings.warn('Version control off')\n"
     ]
    }
   ],
   "source": [
    "pj.read_embl_genbank(['UK_reptile_12S_Genbank_raw.gb', 'outgroups.gb'])"
   ]
  },
  {
   "cell_type": "code",
   "execution_count": 15,
   "metadata": {
    "collapsed": true
   },
   "outputs": [],
   "source": [
    "pj.extract_by_locus()"
   ]
  },
  {
   "cell_type": "code",
   "execution_count": 16,
   "metadata": {
    "collapsed": false
   },
   "outputs": [
    {
     "name": "stdout",
     "output_type": "stream",
     "text": [
      "Distribution Of Sequence Lengths\n",
      "Distribution Of Sequence Statistic \"Gc_Content\"\n"
     ]
    },
    {
     "name": "stderr",
     "output_type": "stream",
     "text": [
      "/usr/lib/pymodules/python2.7/matplotlib/figure.py:371: UserWarning: matplotlib is currently using a non-GUI backend, so cannot show the figure\n",
      "  \"matplotlib is currently using a non-GUI backend, \"\n"
     ]
    },
    {
     "data": {
      "image/png": "[encoded data removed]",
      "text/plain": [
       "<matplotlib.figure.Figure at 0x7fc4b0d40b50>"
      ]
     },
     "metadata": {},
     "output_type": "display_data"
    },
    {
     "data": {
      "image/png": "[encoded data removed]",
      "text/plain": [
       "<matplotlib.figure.Figure at 0x7fc4b0c3ea90>"
      ]
     },
     "metadata": {},
     "output_type": "display_data"
    }
   ],
   "source": [
    "%matplotlib inline\n",
    "pj.report_seq_stats()"
   ]
  },
  {
   "cell_type": "code",
   "execution_count": 17,
   "metadata": {
    "collapsed": true
   },
   "outputs": [],
   "source": [
    "pj.species_vs_loci('reptile_species_vs_locus_raw.csv')"
   ]
  },
  {
   "cell_type": "code",
   "execution_count": 18,
   "metadata": {
    "collapsed": false
   },
   "outputs": [
    {
     "name": "stdout",
     "output_type": "stream",
     "text": [
      "species\trrnS\r",
      "\r\n",
      "Anguis fragilis\t2\r",
      "\r\n",
      "Caretta caretta\t9\r",
      "\r\n",
      "Chelonia mydas\t15\r",
      "\r\n",
      "Chelydra serpentina\t7\r",
      "\r\n",
      "Chrysemys picta\t2\r",
      "\r\n",
      "Chrysemys picta bellii\t2\r",
      "\r\n",
      "Coronella austriaca\t2\r",
      "\r\n",
      "Cottus gobio\t1\r",
      "\r\n",
      "Dermochelys coriacea\t7\r",
      "\r\n",
      "Emys orbicularis\t64\r",
      "\r\n",
      "Emys orbicularis orbicularis\t3\r",
      "\r\n",
      "Eretmochelys imbricata\t8\r",
      "\r\n",
      "Lacerta agilis\t8\r",
      "\r\n",
      "Lacerta viridis\t7\r",
      "\r\n",
      "Lacerta viridis viridis\t2\r",
      "\r\n",
      "Lepidochelys kempii\t3\r",
      "\r\n",
      "Mauremys caspica\t3\r",
      "\r\n",
      "Mus musculus\t63\r",
      "\r\n",
      "Mus musculus castaneus\t12\r",
      "\r\n",
      "Mus musculus domesticus\t51\r",
      "\r\n",
      "Mus musculus molossinus\t3\r",
      "\r\n",
      "Mus musculus musculus\t16\r",
      "\r\n",
      "Natrix natrix\t4\r",
      "\r\n",
      "Podarcis muralis\t24\r",
      "\r\n",
      "Trachemys scripta\t5\r",
      "\r\n",
      "Trachemys scripta elegans\t7\r",
      "\r\n",
      "Trachemys scripta scripta\t4\r",
      "\r\n",
      "Vipera berus\t3\r",
      "\r\n",
      "Xenopus laevis\t10\r",
      "\r\n",
      "Xenopus laevis sudanensis\t2\r",
      "\r\n",
      "Zamenis longissimus\t3\r",
      "\r\n",
      "Zootoca vivipara\t8\r",
      "\r\n",
      "Zootoca vivipara sachalinensis\t1\r",
      "\r\n"
     ]
    }
   ],
   "source": [
    "!cat reptile_species_vs_locus_raw.csv"
   ]
  },
  {
   "cell_type": "code",
   "execution_count": 19,
   "metadata": {
    "collapsed": false
   },
   "outputs": [
    {
     "name": "stdout",
     "output_type": "stream",
     "text": [
      "Total number of records: 361\n",
      "Number of species (see below for full list): 22\n",
      "['Zootoca vivipara', 'Zamenis longissimus', 'Vipera berus', 'Caretta caretta', 'Podarcis muralis', 'Chrysemys picta', 'Anguis fragilis', 'Coronella austriaca', 'Lacerta viridis', 'Chelonia mydas', 'Xenopus laevis', 'Natrix natrix', 'Cottus gobio', 'Mus musculus', 'Eretmochelys imbricata', 'Lepidochelys kempii', 'Emys orbicularis', 'Mauremys caspica', 'Lacerta agilis', 'Chelydra serpentina', 'Dermochelys coriacea', 'Trachemys scripta']\n"
     ]
    }
   ],
   "source": [
    "species=[]\n",
    "for r in pj.records:\n",
    "    source = [f for f in r.features if f.type == 'source'][0]\n",
    "    species.append(\" \".join(source.qualifiers['organism'][0].split()[0:2]))\n",
    "    \n",
    "#print set(species)\n",
    "total=len(species)\n",
    "species=list(set(species))\n",
    "\n",
    "print \"Total number of records: %i\" %total\n",
    "print \"Number of species (see below for full list): %i\" %len(species)\n",
    "print species"
   ]
  },
  {
   "cell_type": "code",
   "execution_count": 20,
   "metadata": {
    "collapsed": false
   },
   "outputs": [],
   "source": [
    "def crop_to_CDS(record):\n",
    "    \"\"\"The function crops a Genbank record to only retain the sequence of the first CDS\"\"\"\n",
    "    \n",
    "    from Bio import SeqFeature\n",
    "    \n",
    "    strands=[]\n",
    "    r = record\n",
    "    print \"\\nprocessing record: '%s' \" %r.id,\n",
    "    if r.features:\n",
    "        for feature in r.features:\n",
    "            if feature.type == 'CDS':\n",
    "                strands.append(feature.location.strand)\n",
    "                gene_name = feature.qualifiers['gene'][0]\n",
    "                r.seq = r.seq[feature.location.start:feature.location.end]\n",
    "                feature.location = SeqFeature.FeatureLocation(SeqFeature.ExactPosition(0), \n",
    "                                                              SeqFeature.ExactPosition(feature.location.end - feature.location.start), \n",
    "                                                             1)\n",
    "                break    \n",
    "            elif feature.type == 'rRNA':\n",
    "                strands.append(feature.location.strand)\n",
    "                qualifiers = feature.qualifiers\n",
    "                               \n",
    "                if 'product' in qualifiers:\n",
    "                    gene_name = feature.qualifiers['product'][0]\n",
    "                    r.seq = r.seq[feature.location.start:feature.location.end]\n",
    "                    feature.location = SeqFeature.FeatureLocation(SeqFeature.ExactPosition(0), \n",
    "                                                                  SeqFeature.ExactPosition(feature.location.end - feature.location.start), \n",
    "                                                                  1)\n",
    "                    break\n",
    "                elif 'gene' in qualifiers:\n",
    "                    gene_name = feature.qualifiers['gene'][0]\n",
    "                    r.seq = r.seq[feature.location.start:feature.location.end]\n",
    "                    feature.location = SeqFeature.FeatureLocation(SeqFeature.ExactPosition(0), \n",
    "                                                                  SeqFeature.ExactPosition(feature.location.end - feature.location.start), \n",
    "                                                                  1)\n",
    "\n",
    "                \n",
    "        for feature in r.features:\n",
    "            if feature.type == 'source':\n",
    "                strands.append(feature.location.strand)\n",
    "                feature.qualifiers['note'] = ['modified from original record: cropped to only CDS/rRNA '+str(gene_name)]\n",
    "                feature.location = SeqFeature.FeatureLocation(SeqFeature.ExactPosition(0), \n",
    "                                                              SeqFeature.ExactPosition(len(r.seq)), \n",
    "                                                             feature.location.strand)\n",
    "                break\n",
    "                    \n",
    "        if len(list(set(strands))) > 1:\n",
    "            r.seq = r.seq.reverse_complement()\n",
    "            print \"\\t.. reverse complementing\",\n",
    "\n",
    "        print \"\\t.. final length: %s\" %len(r.seq),\n",
    "\n",
    "    else:\n",
    "        print \"\\t  no features found ..\"\n",
    "\n",
    "    #print r.format('genbank')"
   ]
  },
  {
   "cell_type": "code",
   "execution_count": 21,
   "metadata": {
    "collapsed": false
   },
   "outputs": [
    {
     "name": "stdout",
     "output_type": "stream",
     "text": [
      "\n",
      "processing record: 'NC_012431.1'  \t.. final length: 941 \n",
      "processing record: 'AJ001473.1'  \t.. final length: 547 \n",
      "processing record: 'AY151988.1'  \t.. final length: 398 \n",
      "processing record: 'AF316169.1'  \t.. final length: 457 \n",
      "processing record: 'KX080575.1'  \t.. final length: 364 \n",
      "processing record: 'HG802830.1'  \t.. final length: 394 \n",
      "processing record: 'NC_011573.1'  \t.. final length: 969 \n",
      "processing record: 'AJ001471.1'  \t.. final length: 544 \n",
      "processing record: 'JX454972.1'  \t.. final length: 969 \n",
      "processing record: 'GQ142072.1'  \t.. final length: 459 \n",
      "processing record: 'AY190305.1'  \t.. final length: 911 \n",
      "processing record: 'DQ658818.1'  \t.. final length: 380 \n",
      "processing record: 'HG802784.1'  \t.. final length: 394 \n",
      "processing record: 'HG802776.1'  \t.. final length: 394 \n",
      "processing record: 'AY151991.1'  \t.. final length: 398 \n",
      "processing record: 'HG802778.1'  \t.. final length: 394 \n",
      "processing record: 'KM401599.1'  \t.. final length: 953 \n",
      "processing record: 'AY122781.1'  \t.. final length: 591 \n",
      "processing record: 'KF781329.1'  \t.. final length: 430 \n",
      "processing record: 'JX454980.1'  \t.. final length: 968 \n",
      "processing record: 'AY151993.1'  \t.. final length: 396 \n",
      "processing record: 'FJ039913.1'  \t.. final length: 395 \n",
      "processing record: 'HG802788.1'  \t.. final length: 394 \n",
      "processing record: 'HE590290.1'  \t.. final length: 393 \n",
      "processing record: 'JX454970.1'  \t.. final length: 968 \n",
      "processing record: 'HG802829.1'  \t.. final length: 394 \n",
      "processing record: 'HG802835.1'  \t.. final length: 394 \n",
      "processing record: 'NC_012398.1'  \t.. final length: 968 \n",
      "processing record: 'HG802831.1'  \t.. final length: 394 \n",
      "processing record: 'FJ039941.1'  \t.. final length: 395 \n",
      "processing record: 'JX454976.1'  \t.. final length: 969 \n",
      "processing record: 'KX080600.1'  \t.. final length: 363 \n",
      "processing record: 'NC_016923.1'  \t.. final length: 970 \n",
      "processing record: 'AJ001480.1'  \t.. final length: 543 \n",
      "processing record: 'HG802793.1'  \t.. final length: 394 \n",
      "processing record: 'JX454974.1'  \t.. final length: 969 \n",
      "processing record: 'HG802810.1'  \t.. final length: 394 \n",
      "processing record: 'HG802772.1'  \t.. final length: 394 \n",
      "processing record: 'HE590289.1'  \t.. final length: 393 \n",
      "processing record: 'KF781315.1'  \t.. final length: 423 \n",
      "processing record: 'FJ009027.1'  \t.. final length: 396 \n",
      "processing record: 'HG802822.1'  \t.. final length: 394 \n",
      "processing record: 'HG802818.1'  \t.. final length: 394 \n",
      "processing record: 'KX080593.1'  \t.. final length: 360 \n",
      "processing record: 'AF149947.1'  \t.. final length: 460 \n",
      "processing record: 'KP221806.1'  \t.. final length: 969 \n",
      "processing record: 'DQ081074.1'  \t.. final length: 376 \n",
      "processing record: 'U81335.1'  \t.. final length: 328 \n",
      "processing record: 'HG802782.1'  \t.. final length: 394 \n",
      "processing record: 'L28077.1'  \t.. final length: 966 \n",
      "processing record: 'KT030712.1'  \t.. final length: 389 \n",
      "processing record: 'HG802827.1'  \t.. final length: 394 \n",
      "processing record: 'JX454990.1'  \t.. final length: 969 \n",
      "processing record: 'FR717130.1'  \t.. final length: 393 \n",
      "processing record: 'EF027343.1'  \t.. final length: 146 \n",
      "processing record: 'AJ001472.1'  \t.. final length: 547 \n",
      "processing record: 'AY151989.1'  \t.. final length: 398 \n",
      "processing record: 'EF027342.1'  \t.. final length: 146 \n",
      "processing record: 'HG802780.1'  \t.. final length: 394 \n",
      "processing record: 'HG802785.1'  \t.. final length: 394 \n",
      "processing record: 'FJ009020.1'  \t.. final length: 396 \n",
      "processing record: 'AJ001470.1'  \t.. final length: 544 \n",
      "processing record: 'AY151990.1'  \t.. final length: 398 \n",
      "processing record: 'AF149962.1'  \t.. final length: 465 \n",
      "processing record: 'FJ039991.1'  \t.. final length: 396 \n",
      "processing record: 'AY770536.1'  \t.. final length: 440 \n",
      "processing record: 'AY122783.1'  \t.. final length: 591 \n",
      "processing record: 'AB090021.1'  \t.. final length: 396 \n",
      "processing record: 'HG802775.1'  \t.. final length: 394 \n",
      "processing record: 'JX454983.1'  \t.. final length: 970 \n",
      "processing record: 'HG802786.1'  \t.. final length: 394 \n",
      "processing record: 'HG802820.1'  \t.. final length: 394 \n",
      "processing record: 'AY151992.1'  \t.. final length: 398 \n",
      "processing record: 'AF149960.1'  \t.. final length: 465 \n",
      "processing record: 'HG802799.1'  \t.. final length: 394 \n",
      "processing record: 'KF874616.1'  \t.. final length: 969 \n",
      "processing record: 'NC_023890.1'  \t.. final length: 969 \n",
      "processing record: 'AF080277.1'  \t.. final length: 310 \n",
      "processing record: 'NC_027826.1'  \t.. final length: 973 \n",
      "processing record: 'EF122793.1'  \t.. final length: 965 \n",
      "processing record: 'JX454981.1'  \t.. final length: 968 \n",
      "processing record: 'HG802795.1'  \t.. final length: 394 \n",
      "processing record: 'HG802828.1'  \t.. final length: 394 \n",
      "processing record: 'FJ039970.1'  \t.. final length: 395 \n",
      "processing record: 'HQ442366.1'  \t.. final length: 971 \n",
      "processing record: 'HG802803.1'  \t.. final length: 394 \n",
      "processing record: 'JX454986.1'  \t.. final length: 967 \n",
      "processing record: 'HG802797.1'  \t.. final length: 394 \n",
      "processing record: 'HG802792.1'  \t.. final length: 394 \n",
      "processing record: 'JX454988.1'  \t.. final length: 969 \n",
      "processing record: 'NC_002073.3'  \t.. final length: 969 \n",
      "processing record: 'HE590288.1'  \t.. final length: 393 \n",
      "processing record: 'DQ081073.1'  \t.. final length: 374 \n",
      "processing record: 'AF080334.1'  \t.. final length: 307 \n",
      "processing record: 'NC_026867.1'  \t.. final length: 953 \n",
      "processing record: 'HG802789.1'  \t.. final length: 394 \n",
      "processing record: 'HG802805.1'  \t.. final length: 394 \n",
      "processing record: 'HG802791.1'  \t.. final length: 394 \n",
      "processing record: 'U81329.1'  \t.. final length: 319 \n",
      "processing record: 'KX694573.1'  \t.. final length: 455 \n",
      "processing record: 'HE590285.1'  \t.. final length: 392 \n",
      "processing record: 'HG802816.1'  \t.. final length: 394 \n",
      "processing record: 'HG802807.1'  \t.. final length: 394 \n",
      "processing record: 'GU477775.1'  \t.. final length: 445 \n",
      "processing record: 'HG802815.1'  \t.. final length: 394 \n",
      "processing record: 'HQ681907.1'  \t.. final length: 396 \n",
      "processing record: 'KP256531.1'  \t.. final length: 973 \n",
      "processing record: 'KF781319.1'  \t.. final length: 423 \n",
      "processing record: 'HG802834.1'  \t.. final length: 394 \n",
      "processing record: 'HG802783.1'  \t.. final length: 394 \n",
      "processing record: 'HE590286.1'  \t.. final length: 393 \n",
      "processing record: 'KM216749.1'  \t.. final length: 968 \n",
      "processing record: 'HE590287.1'  \t.. final length: 392 \n",
      "processing record: 'AY122682.1'  \t.. final length: 590 \n",
      "processing record: 'HG802821.1'  \t.. final length: 394 \n",
      "processing record: 'AF149959.1'  \t.. final length: 459 \n",
      "processing record: 'AF069423.1'  \t.. final length: 969 \n",
      "processing record: 'HG802781.1'  \t.. final length: 394 \n",
      "processing record: 'NC_011198.1'  \t.. final length: 965 \n",
      "processing record: 'DQ097096.1'  \t.. final length: 356 \n",
      "processing record: 'AY770537.1'  \t.. reverse complementing \t.. final length: 424 \n",
      "processing record: 'HG802787.1'  \t.. final length: 394 \n",
      "processing record: 'HG802814.1'  \t.. final length: 394 \n",
      "processing record: 'JX454969.1'  \t.. final length: 968 \n",
      "processing record: 'FJ392294.1'  \t.. final length: 969 \n",
      "processing record: 'AF080298.1'  \t.. final length: 311 \n",
      "processing record: 'HG802798.1'  \t.. final length: 394 \n",
      "processing record: 'HG802813.1'  \t.. final length: 394 \n",
      "processing record: 'HG802801.1'  \t.. final length: 394 \n",
      "processing record: 'NC_011607.1'  \t.. final length: 955 \n",
      "processing record: 'FJ039934.1'  \t.. final length: 395 \n",
      "processing record: 'AF149961.1'  \t.. final length: 459 \n",
      "processing record: 'JX454984.1'  \t.. final length: 969 \n",
      "processing record: 'DQ533485.1'  \t.. final length: 968 \n",
      "processing record: 'HG802774.1'  \t.. final length: 394 \n",
      "processing record: 'FJ039963.1'  \t.. final length: 394 \n",
      "processing record: 'KC990830.1'  \t.. final length: 946 \n",
      "processing record: 'EU443256.1'  \t.. final length: 941 \n",
      "processing record: 'HG802794.1'  \t.. final length: 394 \n",
      "processing record: 'FJ039906.1'  \t.. final length: 394 \n",
      "processing record: 'FJ460597.1'  \t.. final length: 955 \n",
      "processing record: 'JN999703.2'  \t.. final length: 884 \n",
      "processing record: 'KX694589.1'  \t.. final length: 388 \n",
      "processing record: 'FJ230852.1'  \t.. final length: 395 \n",
      "processing record: 'HG802796.1'  \t.. final length: 394 \n",
      "processing record: 'HQ681908.1'  \t.. final length: 396 \n",
      "processing record: 'JQ920369.1'  \t.. final length: 440 \n",
      "processing record: 'KX080594.1'  \t.. final length: 360 \n",
      "processing record: 'HG802811.1'  \t.. final length: 394 \n",
      "processing record: 'HG802790.1'  \t.. final length: 394 \n",
      "processing record: 'AJ001468.1'  \t.. final length: 544 \n",
      "processing record: 'U81328.1'  \t.. final length: 333 \n",
      "processing record: 'HG802809.1'  \t.. final length: 394 \n",
      "processing record: 'HG802817.1'  \t.. final length: 394 \n",
      "processing record: 'AF440603.1'  \t.. final length: 464 \n",
      "processing record: 'HG802804.1'  \t.. final length: 394 \n",
      "processing record: 'HG802773.1'  \t.. final length: 394 \n",
      "processing record: 'JN204721.1'  \t.. final length: 8 \n",
      "processing record: 'FJ039927.1'  \t.. final length: 395 \n",
      "processing record: 'JX454978.1'  \t.. final length: 969 \n",
      "processing record: 'JX454989.1'  \t.. final length: 968 \n",
      "processing record: 'JX454973.1'  \t.. final length: 968 \n",
      "processing record: 'JN860636.1'  \t.. final length: 965 \n",
      "processing record: 'HG802802.1'  \t.. final length: 394 \n",
      "processing record: 'HG802823.1'  \t.. final length: 394 \n",
      "processing record: 'EU543221.1'  \t.. final length: 669 \n",
      "processing record: 'U81340.1'  \t.. final length: 317 \n",
      "processing record: 'AM176577.1'  \t.. final length: 943 \n",
      "processing record: 'KC692465.1'  \t.. final length: 973 \n",
      "processing record: 'JX454971.1'  \t.. final length: 969 \n",
      "processing record: 'HG802833.1'  \t.. final length: 394 \n",
      "processing record: 'HG802819.1'  \t.. final length: 394 \n",
      "processing record: 'AY122780.1'  \t.. final length: 591 \n",
      "processing record: 'HG802806.1'  \t.. final length: 394 \n",
      "processing record: 'AF149958.1'  \t.. final length: 460 \n",
      "processing record: 'EU624267.1'  \t.. final length: 376 \n",
      "processing record: 'KT030713.1'  \t.. final length: 387 \n",
      "processing record: 'HG802800.1'  \t.. final length: 394 \n",
      "processing record: 'NC_021766.1'  \t.. final length: 946 \n",
      "processing record: 'NC_008328.1'  \t.. final length: 943 \n",
      "processing record: 'JX454985.1'  \t.. final length: 969 \n",
      "processing record: 'JX454982.1'  \t.. final length: 968 \n",
      "processing record: 'HG802826.1'  \t.. final length: 394 \n",
      "processing record: 'HG802777.1'  \t.. final length: 394 \n",
      "processing record: 'AB012104.1'  \t.. final length: 969 \n",
      "processing record: 'FJ170114.1'  \t.. final length: 396 \n",
      "processing record: 'FJ039948.1'  \t.. final length: 394 \n",
      "processing record: 'AB090043.1'  \t.. final length: 399 \n",
      "processing record: 'AY122836.1'  \t.. final length: 593 \n",
      "processing record: 'JX454977.1'  \t.. final length: 969 \n",
      "processing record: 'KX080601.1'  \t.. final length: 363 \n",
      "processing record: 'JX454992.1'  \t.. final length: 968 \n",
      "processing record: 'HG802808.1'  \t.. final length: 394 \n",
      "processing record: 'AF158461.1'  \t.. final length: 277 \n",
      "processing record: 'FJ039920.1'  \t.. final length: 394 \n",
      "processing record: 'HG802779.1'  \t.. final length: 394 \n",
      "processing record: 'AJ001469.1'  \t.. final length: 544 \n",
      "processing record: 'HG802812.1'  \t.. final length: 394 \n",
      "processing record: 'HG802832.1'  \t.. final length: 394 \n",
      "processing record: 'GU477770.1'  \t.. final length: 421 \n",
      "processing record: 'KX080576.1'  \t.. final length: 363 \n",
      "processing record: 'AB090022.1'  \t.. final length: 395 \n",
      "processing record: 'KM216748.1'  \t.. final length: 969 \n",
      "processing record: 'EF108343.1'  \t.. final length: 955 \n",
      "processing record: 'FJ374643.1'  \t.. final length: 955 \n",
      "processing record: 'AY533106.1'  \t.. final length: 955 \n",
      "processing record: 'KF781663.1'  \t.. final length: 955 \n",
      "processing record: 'FJ374645.1'  \t.. final length: 955 \n",
      "processing record: 'V00711.1'  \t.. final length: 955 \n",
      "processing record: 'AB125788.1'  \t.. final length: 821 \n",
      "processing record: 'KF781656.1'  \t.. final length: 955 \n",
      "processing record: 'EF108345.1'  \t.. final length: 955 \n",
      "processing record: 'FJ374647.1'  \t.. final length: 955 \n",
      "processing record: 'EF027268.1'  \t.. final length: 146 \n",
      "processing record: 'EU315229.1'  \t.. final length: 955 \n",
      "processing record: 'FJ374660.1'  \t.. final length: 955 \n",
      "processing record: 'JX945977.1'  \t.. final length: 955 \n",
      "processing record: 'AY012114.1'  \t.. final length: 953 \n",
      "processing record: 'FJ374652.1'  \t.. final length: 955 \n",
      "processing record: 'EF108330.1'  \t.. final length: 955 \n",
      "processing record: 'JX945974.1'  \t.. final length: 955 \n",
      "processing record: 'KF781646.1'  \t.. final length: 955 \n",
      "processing record: 'AP013031.1'  \t.. final length: 955 \n",
      "processing record: 'AY581648.1'  \t.. final length: 840 \n",
      "processing record: 'EF108336.1'  \t.. final length: 955 \n",
      "processing record: 'EU851901.1'  \t.. final length: 435 \n",
      "processing record: 'FJ374650.1'  \t.. final length: 955 \n",
      "processing record: 'FJ374656.1'  \t.. final length: 955 \n",
      "processing record: 'AP014540.1'  \t.. final length: 955 \n",
      "processing record: 'M10217.1'  \t.. final length: 819 \n",
      "processing record: 'FJ374639.1'  \t.. final length: 955 \n",
      "processing record: 'GQ871745.1'  \t.. final length: 955 \n",
      "processing record: 'FJ374654.1'  \t.. final length: 955 \n",
      "processing record: 'HQ675028.1'  \t.. final length: 955 \n",
      "processing record: 'JX945968.1'  \t.. final length: 955 \n",
      "processing record: 'EF108341.1'  \t.. final length: 955 \n",
      "processing record: 'AY581641.1'  \t.. final length: 840 \n",
      "processing record: 'AY533108.1'  \t.. final length: 955 \n",
      "processing record: 'EU851900.1'  \t.. final length: 435 \n",
      "processing record: 'KF781660.1'  \t.. final length: 955 \n",
      "processing record: 'FJ374665.1'  \t.. final length: 955 \n",
      "processing record: 'EU312161.1'  \t.. final length: 955 \n",
      "processing record: 'KF781655.1'  \t.. final length: 955 \n",
      "processing record: 'V00665.1'  \t.. final length: 956 \n",
      "processing record: 'EF108342.1'  \t.. final length: 955 \n",
      "processing record: 'EF108332.1'  \t.. final length: 955 \n",
      "processing record: 'FJ374663.1'  \t.. final length: 955 \n",
      "processing record: 'X84382.1'  \t.. final length: 956 \n",
      "processing record: 'AY533107.1'  \t.. final length: 955 \n",
      "processing record: 'KR020499.1'  \t.. final length: 955 \n",
      "processing record: 'EF108344.1'  \t.. final length: 955 \n",
      "processing record: 'EU315228.1'  \t.. final length: 955 \n",
      "processing record: 'AY057792.1'  \t.. final length: 956 \n",
      "processing record: 'EF108339.1'  \t.. final length: 955 \n",
      "processing record: 'FJ374648.1'  \t.. final length: 955 \n",
      "processing record: 'FJ374661.1'  \t.. final length: 955 \n",
      "processing record: 'AB188189.1'  \t.. final length: 783 \n",
      "processing record: 'KP260516.1'  \t.. final length: 955 \n",
      "processing record: 'KR020498.1'  \t.. final length: 955 \n",
      "processing record: 'NC_001573.1'  \t.. final length: 819 \n",
      "processing record: 'EF108334.1'  \t.. final length: 955 \n",
      "processing record: 'AP013054.1'  \t.. final length: 955 \n",
      "processing record: 'JX945970.1'  \t.. final length: 955 \n",
      "processing record: 'KF781650.1'  \t.. final length: 955 \n",
      "processing record: 'AY533105.1'  \t.. final length: 955 \n",
      "processing record: 'EF108337.1'  \t.. final length: 955 \n",
      "processing record: 'AY675564.1'  \t.. final length: 955 \n",
      "processing record: 'AP014941.1'  \t.. final length: 955 \n",
      "processing record: 'JX945965.1'  \t.. final length: 955 \n",
      "processing record: 'KF781661.1'  \t.. final length: 955 \n",
      "processing record: 'EF108331.1'  \t.. final length: 955 \n",
      "processing record: 'GQ871744.1'  \t.. final length: 955 \n",
      "processing record: 'HQ675027.1'  \t.. final length: 955 \n",
      "processing record: 'KR020500.1'  \t.. final length: 955 \n",
      "processing record: 'AJ512208.1'  \t.. final length: 955 \n",
      "processing record: 'JX945967.1'  \t.. final length: 955 \n",
      "processing record: 'KF781654.1'  \t.. final length: 955 \n",
      "processing record: 'FJ374659.1'  \t.. final length: 955 \n",
      "processing record: 'AY581639.1'  \t.. final length: 840 \n",
      "processing record: 'EF108340.1'  \t.. final length: 955 \n",
      "processing record: 'KF781657.1'  \t.. final length: 955 \n",
      "processing record: 'FJ374657.1'  \t.. final length: 955 \n",
      "processing record: 'EF027267.1'  \t.. final length: 146 \n",
      "processing record: 'EU312160.1'  \t.. final length: 955 \n",
      "processing record: 'FJ803909.1'  \t.. final length: 955 \n",
      "processing record: 'EF108338.1'  \t.. final length: 955 \n",
      "processing record: 'EF108333.1'  \t.. final length: 955 \n",
      "processing record: 'HQ586004.1'  \t.. final length: 955 \n",
      "processing record: 'AP013030.1'  \t.. final length: 955 \n",
      "processing record: 'AY057793.1'  \t.. final length: 956 \n",
      "processing record: 'M27605.1'  \t.. final length: 945 \n",
      "processing record: 'AB042809.1'  \t.. final length: 955 \n",
      "processing record: 'JX945979.1'  \t.. final length: 955 \n",
      "processing record: 'HQ877407.1'  \t.. final length: 955 \n",
      "processing record: 'AY999076.1'  \t.. final length: 955 \n",
      "processing record: 'KF781651.1'  \t.. final length: 955 \n",
      "processing record: 'FJ374649.1'  \t.. final length: 955 \n",
      "processing record: 'AY466499.1'  \t.. final length: 955 \n",
      "processing record: 'FJ374642.1'  \t.. final length: 955 \n",
      "processing record: 'HQ675030.1'  \t.. final length: 955 \n",
      "processing record: 'EF108335.1'  \t.. final length: 955 \n",
      "processing record: 'JX945971.1'  \t.. final length: 955 \n",
      "processing record: 'FJ374644.1'  \t.. final length: 955 \n",
      "processing record: 'FJ374640.1'  \t.. final length: 955 \n",
      "processing record: 'AY057791.1'  \t.. final length: 956 \n",
      "processing record: 'JX945972.1'  \t.. final length: 955 \n",
      "processing record: 'JX945964.1'  \t.. final length: 955 \n",
      "processing record: 'AJ489607.1'  \t.. final length: 955 \n",
      "processing record: 'AY172335.1'  \t.. final length: 955 \n",
      "processing record: 'M10188.1'  \t.. final length: 169 \n",
      "processing record: 'JQ287761.1'  \t.. final length: 374 \n",
      "processing record: 'JX945966.1'  \t.. final length: 955 \n",
      "processing record: 'GQ871746.1'  \t.. final length: 955 \n",
      "processing record: 'KP260515.1'  \t.. final length: 955 \n",
      "processing record: 'JQ003190.1'  \t.. final length: 955 \n",
      "processing record: 'JX945975.1'  \t.. final length: 955 \n",
      "processing record: 'KF781648.1'  \t.. final length: 955 \n",
      "processing record: 'AB042523.1'  \t.. final length: 955 \n",
      "processing record: 'DQ106413.1'  \t.. final length: 955 \n",
      "processing record: 'FJ374658.1'  \t.. final length: 955 \n",
      "processing record: 'Y10943.1'  \t.. final length: 946 \n",
      "processing record: 'KF781664.1'  \t.. final length: 955 \n",
      "processing record: 'DQ874614.2'  \t.. final length: 955 \n",
      "processing record: 'AB042524.1'  \t.. final length: 955 \n",
      "processing record: 'J01420.1'  \t.. final length: 955 \n",
      "processing record: 'FJ374653.1'  \t.. final length: 955 \n",
      "processing record: 'KF781649.1'  \t.. final length: 955 \n",
      "processing record: 'FJ374662.1'  \t.. final length: 955 \n",
      "processing record: 'AY581640.1'  \t.. final length: 840 \n",
      "processing record: 'NC_012387.1'  \t.. final length: 955 \n",
      "processing record: 'KF781652.1'  \t.. final length: 955 \n",
      "processing record: 'FJ374651.1'  \t.. final length: 955 \n",
      "processing record: 'JX945976.1'  \t.. final length: 955 \n",
      "processing record: 'FJ374646.1'  \t.. final length: 955 \n",
      "processing record: 'AB049357.1'  \t.. final length: 955 \n",
      "processing record: 'AY581638.1'  \t.. final length: 838 \n",
      "processing record: 'KF781658.1'  \t.. final length: 955 \n",
      "processing record: 'HQ675029.1'  \t.. final length: 955 \n",
      "processing record: 'KF781647.1'  \t.. final length: 955 \n",
      "processing record: 'AY581644.1'  \t.. final length: 840 \n",
      "processing record: 'KF781659.1'  \t.. final length: 955 \n",
      "processing record: 'KP260514.1'  \t.. final length: 955 \n",
      "processing record: 'AY339599.2'  \t.. final length: 955 \n",
      "processing record: 'JX945973.1'  \t.. final length: 955 \n",
      "processing record: 'KR020497.1'  \t.. final length: 955 \n",
      "processing record: 'DQ106412.1'  \t.. final length: 955 \n",
      "processing record: 'FJ374641.1'  \t.. final length: 955 \n",
      "processing record: 'KP260517.1'  \t.. final length: 955 \n",
      "processing record: 'AP014541.1'  \t.. final length: 955 \n",
      "processing record: 'FJ374664.1'  \t.. final length: 955 \n",
      "processing record: 'M13046.1'  \t.. final length: 170 \n",
      "processing record: 'JX945969.1'  \t.. final length: 955 \n",
      "processing record: 'HQ675031.1'  \t.. final length: 955 \n",
      "processing record: 'FJ374655.1'  \t.. final length: 955 \n",
      "processing record: 'JX945978.1'  \t.. final length: 955 \n",
      "processing record: 'HQ675026.1'  \t.. final length: 955 \n",
      "processing record: 'KF781653.1'  \t.. final length: 955 \n",
      "processing record: 'KF781645.1'  \t.. final length: 955 \n",
      "processing record: 'NC_010339.1'  \t.. final length: 955 \n",
      "processing record: 'KF781662.1'  \t.. final length: 955 \n",
      "processing record: 'AB042432.1'  \t.. final length: 955\n"
     ]
    }
   ],
   "source": [
    "for r in pj.records:\n",
    "#    print r.format('genbank')\n",
    "    crop_to_CDS(record=r)"
   ]
  },
  {
   "cell_type": "markdown",
   "metadata": {},
   "source": [
    "Convert cleaned records to genbank and fasta format in order to perform vsearch and remove redundancy."
   ]
  },
  {
   "cell_type": "code",
   "execution_count": 22,
   "metadata": {
    "collapsed": false
   },
   "outputs": [
    {
     "name": "stdout",
     "output_type": "stream",
     "text": [
      "Converted 361 records\n"
     ]
    }
   ],
   "source": [
    "from Bio import SeqIO\n",
    "\n",
    "temp=[]\n",
    "for r in pj.records:\n",
    "    temp.append(r)\n",
    "\n",
    "out = open('reptile_12S_raw_cleaned.gb', 'w')\n",
    "SeqIO.write(temp, out, 'genbank')\n",
    "out.close()\n",
    "\n",
    "out = open('reptile_12S_raw_cleaned.fa', 'w')\n",
    "SeqIO.write(temp, out, 'fasta')\n",
    "out.close()\n",
    "\n",
    "print(\"Converted %i records\" % len(temp))\n",
    "\n",
    "del(temp)"
   ]
  },
  {
   "cell_type": "markdown",
   "metadata": {},
   "source": [
    "Pickle the project."
   ]
  },
  {
   "cell_type": "code",
   "execution_count": 23,
   "metadata": {
    "collapsed": false
   },
   "outputs": [
    {
     "data": {
      "text/plain": [
       "'rep_raw.pkl'"
      ]
     },
     "execution_count": 23,
     "metadata": {},
     "output_type": "execute_result"
    }
   ],
   "source": [
    "pickle_pj(pj, 'rep_raw.pkl')"
   ]
  },
  {
   "cell_type": "markdown",
   "metadata": {},
   "source": [
    "# Vsearch - remove redundancy"
   ]
  },
  {
   "cell_type": "markdown",
   "metadata": {},
   "source": [
    "Remove redundancy by clustering the 12S rRNA sequences with vsearch."
   ]
  },
  {
   "cell_type": "code",
   "execution_count": 24,
   "metadata": {
    "collapsed": false
   },
   "outputs": [
    {
     "name": "stdout",
     "output_type": "stream",
     "text": [
      "vsearch v1.1.0_linux_x86_64, 31.3GB RAM, 8 cores\n",
      "https://github.com/torognes/vsearch\n",
      "\n",
      "Reading file reptile_12S_raw_cleaned.fa 100%\n",
      "256337 nt in 360 seqs, min 146, max 973, avg 712\n",
      "WARNING: 1 sequences shorter than 32 nucleotides discarded.\n",
      "Indexing sequences 100%\n",
      "Masking 100%\n",
      "Sorting by length 100%\n",
      "Counting unique k-mers 100%\n",
      "Clustering 100%\n",
      "Writing clusters 100%\n",
      "Clusters: 113 Size min 1, max 83, avg 3.2\n",
      "Singletons: 63, 17.5% of seqs, 55.8% of clusters\n"
     ]
    }
   ],
   "source": [
    "!vsearch -threads 5 --cluster_fast reptile_12S_raw_cleaned.fa --strand both --uc 12S_id-1.uc --id 1 --query_cov 1"
   ]
  },
  {
   "cell_type": "code",
   "execution_count": 25,
   "metadata": {
    "collapsed": true
   },
   "outputs": [],
   "source": [
    "pj = Project('reptile_target_locus.csv', pickle='rep_nr.pkl', git=False)"
   ]
  },
  {
   "cell_type": "code",
   "execution_count": 26,
   "metadata": {
    "collapsed": true
   },
   "outputs": [],
   "source": [
    "#pj = unpickle_pj('rep_nr.pkl', git=False)"
   ]
  },
  {
   "cell_type": "code",
   "execution_count": 27,
   "metadata": {
    "collapsed": true
   },
   "outputs": [],
   "source": [
    "pj.read_embl_genbank(['reptile_12S_raw_cleaned.gb'])"
   ]
  },
  {
   "cell_type": "code",
   "execution_count": 28,
   "metadata": {
    "collapsed": true
   },
   "outputs": [],
   "source": [
    "pj.extract_by_locus()"
   ]
  },
  {
   "cell_type": "code",
   "execution_count": 29,
   "metadata": {
    "collapsed": false
   },
   "outputs": [
    {
     "name": "stdout",
     "output_type": "stream",
     "text": [
      "Distribution Of Sequence Lengths\n",
      "Distribution Of Sequence Statistic \"Gc_Content\"\n"
     ]
    },
    {
     "data": {
      "image/png": "[encoded data removed]",
      "text/plain": [
       "<matplotlib.figure.Figure at 0x7fc4b03cd210>"
      ]
     },
     "metadata": {},
     "output_type": "display_data"
    },
    {
     "data": {
      "image/png": "[encoded data removed]",
      "text/plain": [
       "<matplotlib.figure.Figure at 0x7fc4b0407e90>"
      ]
     },
     "metadata": {},
     "output_type": "display_data"
    }
   ],
   "source": [
    "%matplotlib inline\n",
    "pj.report_seq_stats()"
   ]
  },
  {
   "cell_type": "code",
   "execution_count": 30,
   "metadata": {
    "collapsed": false
   },
   "outputs": [
    {
     "name": "stdout",
     "output_type": "stream",
     "text": [
      "Total number of records: 361\n",
      "Number of species (see below for full list): 22\n",
      "['Zootoca vivipara', 'Zamenis longissimus', 'Vipera berus', 'Caretta caretta', 'Podarcis muralis', 'Chrysemys picta', 'Anguis fragilis', 'Coronella austriaca', 'Lacerta viridis', 'Chelonia mydas', 'Xenopus laevis', 'Natrix natrix', 'Cottus gobio', 'Mus musculus', 'Eretmochelys imbricata', 'Lepidochelys kempii', 'Emys orbicularis', 'Mauremys caspica', 'Lacerta agilis', 'Chelydra serpentina', 'Dermochelys coriacea', 'Trachemys scripta']\n"
     ]
    }
   ],
   "source": [
    "species=[]\n",
    "for r in pj.records:\n",
    "    source = [f for f in r.features if f.type == 'source'][0]\n",
    "    species.append(\" \".join(source.qualifiers['organism'][0].split()[0:2]))\n",
    "    \n",
    "#print set(species)\n",
    "total=len(species)\n",
    "species=list(set(species))\n",
    "\n",
    "print \"Total number of records: %i\" %total\n",
    "print \"Number of species (see below for full list): %i\" %len(species)\n",
    "print species"
   ]
  },
  {
   "cell_type": "markdown",
   "metadata": {},
   "source": [
    "Extract ids of representative sequences identified by vsearch -> remove all others from the object."
   ]
  },
  {
   "cell_type": "code",
   "execution_count": 31,
   "metadata": {
    "collapsed": false
   },
   "outputs": [
    {
     "name": "stdout",
     "output_type": "stream",
     "text": [
      "to drop: 248\n",
      "to keep: 113\n",
      "TOTAL: 361\n"
     ]
    }
   ],
   "source": [
    "ids = []\n",
    "\n",
    "uc=open('12S_id-1.uc', 'r')\n",
    "\n",
    "for line in uc:\n",
    "    if line.startswith('C'):\n",
    "        ids.append(line.split(\"\\t\")[8])\n",
    "        \n",
    "recs_to_keep = {'rrnS': ids}\n",
    "recs_to_drop = {'rrnS': []}\n",
    "\n",
    "for r in pj.records:\n",
    "    if not r.id in recs_to_keep['rrnS']:\n",
    "        recs_to_drop['rrnS'].append(r.id)\n",
    "        \n",
    "print \"to drop: %s\" %len(recs_to_drop['rrnS'])\n",
    "print \"to keep: %s\" %len(recs_to_keep['rrnS'])\n",
    "\n",
    "print \"TOTAL: %s\" %(len(recs_to_drop['rrnS']) + len(recs_to_keep['rrnS']))"
   ]
  },
  {
   "cell_type": "markdown",
   "metadata": {},
   "source": [
    "Exclude redundant records from object."
   ]
  },
  {
   "cell_type": "code",
   "execution_count": 32,
   "metadata": {
    "collapsed": true
   },
   "outputs": [],
   "source": [
    "pj.exclude(start_from_max=False, **recs_to_drop)"
   ]
  },
  {
   "cell_type": "code",
   "execution_count": 33,
   "metadata": {
    "collapsed": false
   },
   "outputs": [
    {
     "name": "stdout",
     "output_type": "stream",
     "text": [
      "Total number of records: 113\n",
      "Number of species (see below for full list): 22\n",
      "['Zootoca vivipara', 'Zamenis longissimus', 'Vipera berus', 'Caretta caretta', 'Podarcis muralis', 'Chrysemys picta', 'Anguis fragilis', 'Coronella austriaca', 'Lacerta viridis', 'Chelonia mydas', 'Xenopus laevis', 'Natrix natrix', 'Cottus gobio', 'Mus musculus', 'Eretmochelys imbricata', 'Lepidochelys kempii', 'Emys orbicularis', 'Mauremys caspica', 'Lacerta agilis', 'Chelydra serpentina', 'Dermochelys coriacea', 'Trachemys scripta']\n"
     ]
    }
   ],
   "source": [
    "species=[]\n",
    "for r in pj.records:\n",
    "    if r.id in recs_to_keep['rrnS']:\n",
    "        source = [f for f in r.features if f.type == 'source'][0]\n",
    "        species.append(\" \".join(source.qualifiers['organism'][0].split()[0:2]))\n",
    "    \n",
    "#print set(species)\n",
    "total=len(species)\n",
    "species=list(set(species))\n",
    "\n",
    "print \"Total number of records: %i\" %total\n",
    "print \"Number of species (see below for full list): %i\" %len(species)\n",
    "print species"
   ]
  },
  {
   "cell_type": "markdown",
   "metadata": {},
   "source": [
    "Write short 12S rRNA sequences (< 400bp) to fasta file to build new alignment outside Reprophylo later in script using hmmbuild. The Hidden Markov Model alignment will include all 12S rRNA sequences - short and long."
   ]
  },
  {
   "cell_type": "code",
   "execution_count": 34,
   "metadata": {
    "collapsed": false
   },
   "outputs": [
    {
     "name": "stdout",
     "output_type": "stream",
     "text": [
      "Total number of records: 33\n"
     ]
    }
   ],
   "source": [
    "temp_seq = []\n",
    "\n",
    "for r in pj.records_by_locus['rrnS']:\n",
    "    if len(r.seq) < 400:\n",
    "        temp_seq.append(r)\n",
    "        \n",
    "total = len(temp_seq)\n",
    "print \"Total number of records: %i\" %total\n",
    "\n",
    "from Bio import SeqIO\n",
    "\n",
    "out=open('reptile_short_to_align.fasta','w')\n",
    "SeqIO.write(temp_seq, out, 'fasta')\n",
    "out.close()"
   ]
  },
  {
   "cell_type": "markdown",
   "metadata": {},
   "source": [
    "# Filter by Length"
   ]
  },
  {
   "cell_type": "markdown",
   "metadata": {},
   "source": [
    "Write cropped records (minimum length of 400bp) to Genbank file."
   ]
  },
  {
   "cell_type": "code",
   "execution_count": 35,
   "metadata": {
    "collapsed": true
   },
   "outputs": [],
   "source": [
    "from Bio import SeqIO\n",
    "\n",
    "temp=[]\n",
    "for r in pj.records:\n",
    "    if len(r.seq) >= 400:\n",
    "        temp.append(r)\n",
    "\n",
    "out = open('reptile12S_cropped_400bp.gb', 'w')\n",
    "SeqIO.write(temp, out, 'genbank')\n",
    "out.close()\n",
    "\n",
    "out = open('reptile12S_cropped_400bp.fa', 'w')\n",
    "SeqIO.write(temp, out, 'fasta')\n",
    "out.close()\n",
    "\n",
    "\n",
    "del(temp)"
   ]
  },
  {
   "cell_type": "markdown",
   "metadata": {},
   "source": [
    "Pickle the project."
   ]
  },
  {
   "cell_type": "code",
   "execution_count": 36,
   "metadata": {
    "collapsed": false
   },
   "outputs": [
    {
     "data": {
      "text/plain": [
       "'rep_nr.pkl'"
      ]
     },
     "execution_count": 36,
     "metadata": {},
     "output_type": "execute_result"
    }
   ],
   "source": [
    "pickle_pj(pj, 'rep_nr.pkl')"
   ]
  },
  {
   "cell_type": "markdown",
   "metadata": {},
   "source": [
    "Now view records in cropped genbank file."
   ]
  },
  {
   "cell_type": "code",
   "execution_count": 37,
   "metadata": {
    "collapsed": false
   },
   "outputs": [
    {
     "name": "stdout",
     "output_type": "stream",
     "text": [
      "index 0, ID = NC_012431.1, length 941, with 2 features\n",
      "index 1, ID = AJ001473.1, length 547, with 2 features\n",
      "index 2, ID = AF316169.1, length 457, with 2 features\n",
      "index 3, ID = NC_011573.1, length 969, with 2 features\n",
      "index 4, ID = AJ001471.1, length 544, with 2 features\n",
      "index 5, ID = JX454972.1, length 969, with 2 features\n",
      "index 6, ID = GQ142072.1, length 459, with 2 features\n",
      "index 7, ID = AY190305.1, length 911, with 2 features\n",
      "index 8, ID = KM401599.1, length 953, with 2 features\n",
      "index 9, ID = AY122781.1, length 591, with 2 features\n",
      "index 10, ID = KF781329.1, length 430, with 2 features\n",
      "index 11, ID = JX454980.1, length 968, with 2 features\n",
      "index 12, ID = JX454970.1, length 968, with 2 features\n",
      "index 13, ID = NC_012398.1, length 968, with 2 features\n",
      "index 14, ID = JX454976.1, length 969, with 2 features\n",
      "index 15, ID = NC_016923.1, length 970, with 2 features\n",
      "index 16, ID = AJ001480.1, length 543, with 2 features\n",
      "index 17, ID = JX454974.1, length 969, with 2 features\n",
      "index 18, ID = KF781315.1, length 423, with 2 features\n",
      "index 19, ID = AF149947.1, length 460, with 2 features\n",
      "index 20, ID = KP221806.1, length 969, with 2 features\n",
      "index 21, ID = L28077.1, length 966, with 2 features\n",
      "index 22, ID = JX454990.1, length 969, with 2 features\n",
      "index 23, ID = AJ001472.1, length 547, with 2 features\n",
      "index 24, ID = AJ001470.1, length 544, with 2 features\n",
      "index 25, ID = AF149962.1, length 465, with 2 features\n",
      "index 26, ID = AY770536.1, length 440, with 2 features\n",
      "index 27, ID = AY122783.1, length 591, with 2 features\n",
      "index 28, ID = JX454983.1, length 970, with 2 features\n",
      "index 29, ID = AF149960.1, length 465, with 2 features\n",
      "index 30, ID = KF874616.1, length 969, with 2 features\n",
      "index 31, ID = NC_023890.1, length 969, with 2 features\n",
      "index 32, ID = NC_027826.1, length 973, with 2 features\n",
      "index 33, ID = EF122793.1, length 965, with 2 features\n",
      "index 34, ID = JX454981.1, length 968, with 2 features\n",
      "index 35, ID = HQ442366.1, length 971, with 2 features\n",
      "index 36, ID = JX454986.1, length 967, with 2 features\n",
      "index 37, ID = JX454988.1, length 969, with 2 features\n",
      "index 38, ID = NC_002073.3, length 969, with 2 features\n",
      "index 39, ID = NC_026867.1, length 953, with 2 features\n",
      "index 40, ID = KX694573.1, length 455, with 2 features\n",
      "index 41, ID = GU477775.1, length 445, with 2 features\n",
      "index 42, ID = KP256531.1, length 973, with 2 features\n",
      "index 43, ID = KF781319.1, length 423, with 2 features\n",
      "index 44, ID = KM216749.1, length 968, with 2 features\n",
      "index 45, ID = AY122682.1, length 590, with 2 features\n",
      "index 46, ID = AF149959.1, length 459, with 2 features\n",
      "index 47, ID = AF069423.1, length 969, with 2 features\n",
      "index 48, ID = NC_011198.1, length 965, with 2 features\n",
      "index 49, ID = AY770537.1, length 424, with 2 features\n",
      "index 50, ID = JX454969.1, length 968, with 2 features\n",
      "index 51, ID = FJ392294.1, length 969, with 2 features\n",
      "index 52, ID = NC_011607.1, length 955, with 2 features\n",
      "index 53, ID = AF149961.1, length 459, with 2 features\n",
      "index 54, ID = JX454984.1, length 969, with 2 features\n",
      "index 55, ID = DQ533485.1, length 968, with 2 features\n",
      "index 56, ID = KC990830.1, length 946, with 2 features\n",
      "index 57, ID = EU443256.1, length 941, with 2 features\n",
      "index 58, ID = FJ460597.1, length 955, with 2 features\n",
      "index 59, ID = JN999703.2, length 884, with 2 features\n",
      "index 60, ID = JQ920369.1, length 440, with 2 features\n",
      "index 61, ID = AJ001468.1, length 544, with 2 features\n",
      "index 62, ID = AF440603.1, length 464, with 2 features\n",
      "index 63, ID = JX454978.1, length 969, with 2 features\n",
      "index 64, ID = JX454989.1, length 968, with 2 features\n",
      "index 65, ID = JX454973.1, length 968, with 2 features\n",
      "index 66, ID = JN860636.1, length 965, with 2 features\n",
      "index 67, ID = EU543221.1, length 669, with 2 features\n",
      "index 68, ID = AM176577.1, length 943, with 2 features\n",
      "index 69, ID = KC692465.1, length 973, with 2 features\n",
      "index 70, ID = JX454971.1, length 969, with 2 features\n",
      "index 71, ID = AY122780.1, length 591, with 2 features\n",
      "index 72, ID = AF149958.1, length 460, with 2 features\n",
      "index 73, ID = NC_021766.1, length 946, with 2 features\n",
      "index 74, ID = NC_008328.1, length 943, with 2 features\n",
      "index 75, ID = JX454985.1, length 969, with 2 features\n",
      "index 76, ID = JX454982.1, length 968, with 2 features\n",
      "index 77, ID = AB012104.1, length 969, with 2 features\n",
      "index 78, ID = AY122836.1, length 593, with 2 features\n",
      "index 79, ID = JX454977.1, length 969, with 2 features\n",
      "index 80, ID = JX454992.1, length 968, with 2 features\n",
      "index 81, ID = AJ001469.1, length 544, with 2 features\n",
      "index 82, ID = GU477770.1, length 421, with 2 features\n",
      "index 83, ID = KM216748.1, length 969, with 2 features\n",
      "index 84, ID = EF108343.1, length 955, with 2 features\n",
      "index 85, ID = FJ374643.1, length 955, with 2 features\n",
      "index 86, ID = AY533106.1, length 955, with 2 features\n",
      "index 87, ID = KF781663.1, length 955, with 2 features\n",
      "index 88, ID = FJ374645.1, length 955, with 2 features\n",
      "index 89, ID = V00711.1, length 955, with 2 features\n",
      "index 90, ID = AB125788.1, length 821, with 2 features\n",
      "index 91, ID = KF781656.1, length 955, with 2 features\n",
      "index 92, ID = EF108345.1, length 955, with 2 features\n",
      "index 93, ID = FJ374647.1, length 955, with 2 features\n",
      "index 94, ID = EU315229.1, length 955, with 2 features\n",
      "index 95, ID = FJ374660.1, length 955, with 2 features\n",
      "index 96, ID = JX945977.1, length 955, with 2 features\n",
      "index 97, ID = AY012114.1, length 953, with 2 features\n",
      "index 98, ID = FJ374652.1, length 955, with 2 features\n",
      "index 99, ID = EF108330.1, length 955, with 2 features\n",
      "index 100, ID = JX945974.1, length 955, with 2 features\n",
      "index 101, ID = KF781646.1, length 955, with 2 features\n",
      "index 102, ID = AP013031.1, length 955, with 2 features\n",
      "index 103, ID = AY581648.1, length 840, with 2 features\n",
      "index 104, ID = EF108336.1, length 955, with 2 features\n",
      "index 105, ID = EU851901.1, length 435, with 2 features\n",
      "index 106, ID = FJ374650.1, length 955, with 2 features\n",
      "index 107, ID = FJ374656.1, length 955, with 2 features\n",
      "index 108, ID = AP014540.1, length 955, with 2 features\n",
      "index 109, ID = M10217.1, length 819, with 2 features\n",
      "index 110, ID = FJ374639.1, length 955, with 2 features\n",
      "index 111, ID = GQ871745.1, length 955, with 2 features\n",
      "index 112, ID = FJ374654.1, length 955, with 2 features\n",
      "index 113, ID = HQ675028.1, length 955, with 2 features\n",
      "index 114, ID = JX945968.1, length 955, with 2 features\n",
      "index 115, ID = EF108341.1, length 955, with 2 features\n",
      "index 116, ID = AY581641.1, length 840, with 2 features\n",
      "index 117, ID = AY533108.1, length 955, with 2 features\n",
      "index 118, ID = EU851900.1, length 435, with 2 features\n",
      "index 119, ID = KF781660.1, length 955, with 2 features\n",
      "index 120, ID = FJ374665.1, length 955, with 2 features\n",
      "index 121, ID = EU312161.1, length 955, with 2 features\n",
      "index 122, ID = KF781655.1, length 955, with 2 features\n",
      "index 123, ID = V00665.1, length 956, with 2 features\n",
      "index 124, ID = EF108342.1, length 955, with 2 features\n",
      "index 125, ID = EF108332.1, length 955, with 2 features\n",
      "index 126, ID = FJ374663.1, length 955, with 2 features\n",
      "index 127, ID = X84382.1, length 956, with 2 features\n",
      "index 128, ID = AY533107.1, length 955, with 2 features\n",
      "index 129, ID = KR020499.1, length 955, with 2 features\n",
      "index 130, ID = EF108344.1, length 955, with 2 features\n",
      "index 131, ID = EU315228.1, length 955, with 2 features\n",
      "index 132, ID = AY057792.1, length 956, with 2 features\n",
      "index 133, ID = EF108339.1, length 955, with 2 features\n",
      "index 134, ID = FJ374648.1, length 955, with 2 features\n",
      "index 135, ID = FJ374661.1, length 955, with 2 features\n",
      "index 136, ID = AB188189.1, length 783, with 2 features\n",
      "index 137, ID = KP260516.1, length 955, with 2 features\n",
      "index 138, ID = KR020498.1, length 955, with 2 features\n",
      "index 139, ID = NC_001573.1, length 819, with 2 features\n",
      "index 140, ID = EF108334.1, length 955, with 2 features\n",
      "index 141, ID = AP013054.1, length 955, with 2 features\n",
      "index 142, ID = JX945970.1, length 955, with 2 features\n",
      "index 143, ID = KF781650.1, length 955, with 2 features\n",
      "index 144, ID = AY533105.1, length 955, with 2 features\n",
      "index 145, ID = EF108337.1, length 955, with 2 features\n",
      "index 146, ID = AY675564.1, length 955, with 2 features\n",
      "index 147, ID = AP014941.1, length 955, with 2 features\n",
      "index 148, ID = JX945965.1, length 955, with 2 features\n",
      "index 149, ID = KF781661.1, length 955, with 2 features\n",
      "index 150, ID = EF108331.1, length 955, with 2 features\n",
      "index 151, ID = GQ871744.1, length 955, with 2 features\n",
      "index 152, ID = HQ675027.1, length 955, with 2 features\n",
      "index 153, ID = KR020500.1, length 955, with 2 features\n",
      "index 154, ID = AJ512208.1, length 955, with 2 features\n",
      "index 155, ID = JX945967.1, length 955, with 2 features\n",
      "index 156, ID = KF781654.1, length 955, with 2 features\n",
      "index 157, ID = FJ374659.1, length 955, with 2 features\n",
      "index 158, ID = AY581639.1, length 840, with 2 features\n",
      "index 159, ID = EF108340.1, length 955, with 2 features\n",
      "index 160, ID = KF781657.1, length 955, with 2 features\n",
      "index 161, ID = FJ374657.1, length 955, with 2 features\n",
      "index 162, ID = EU312160.1, length 955, with 2 features\n",
      "index 163, ID = FJ803909.1, length 955, with 2 features\n",
      "index 164, ID = EF108338.1, length 955, with 2 features\n",
      "index 165, ID = EF108333.1, length 955, with 2 features\n",
      "index 166, ID = HQ586004.1, length 955, with 2 features\n",
      "index 167, ID = AP013030.1, length 955, with 2 features\n",
      "index 168, ID = AY057793.1, length 956, with 2 features\n",
      "index 169, ID = M27605.1, length 945, with 2 features\n",
      "index 170, ID = AB042809.1, length 955, with 2 features\n",
      "index 171, ID = JX945979.1, length 955, with 2 features\n",
      "index 172, ID = HQ877407.1, length 955, with 2 features\n",
      "index 173, ID = AY999076.1, length 955, with 2 features\n",
      "index 174, ID = KF781651.1, length 955, with 2 features\n",
      "index 175, ID = FJ374649.1, length 955, with 2 features\n",
      "index 176, ID = AY466499.1, length 955, with 2 features\n",
      "index 177, ID = FJ374642.1, length 955, with 2 features\n",
      "index 178, ID = HQ675030.1, length 955, with 2 features\n",
      "index 179, ID = EF108335.1, length 955, with 2 features\n",
      "index 180, ID = JX945971.1, length 955, with 2 features\n",
      "index 181, ID = FJ374644.1, length 955, with 2 features\n",
      "index 182, ID = FJ374640.1, length 955, with 2 features\n",
      "index 183, ID = AY057791.1, length 956, with 2 features\n",
      "index 184, ID = JX945972.1, length 955, with 2 features\n",
      "index 185, ID = JX945964.1, length 955, with 2 features\n",
      "index 186, ID = AJ489607.1, length 955, with 2 features\n",
      "index 187, ID = AY172335.1, length 955, with 2 features\n",
      "index 188, ID = JX945966.1, length 955, with 2 features\n",
      "index 189, ID = GQ871746.1, length 955, with 2 features\n",
      "index 190, ID = KP260515.1, length 955, with 2 features\n",
      "index 191, ID = JQ003190.1, length 955, with 2 features\n",
      "index 192, ID = JX945975.1, length 955, with 2 features\n",
      "index 193, ID = KF781648.1, length 955, with 2 features\n",
      "index 194, ID = AB042523.1, length 955, with 2 features\n",
      "index 195, ID = DQ106413.1, length 955, with 2 features\n",
      "index 196, ID = FJ374658.1, length 955, with 2 features\n",
      "index 197, ID = Y10943.1, length 946, with 2 features\n",
      "index 198, ID = KF781664.1, length 955, with 2 features\n",
      "index 199, ID = DQ874614.2, length 955, with 2 features\n",
      "index 200, ID = AB042524.1, length 955, with 2 features\n",
      "index 201, ID = J01420.1, length 955, with 2 features\n",
      "index 202, ID = FJ374653.1, length 955, with 2 features\n",
      "index 203, ID = KF781649.1, length 955, with 2 features\n",
      "index 204, ID = FJ374662.1, length 955, with 2 features\n",
      "index 205, ID = AY581640.1, length 840, with 2 features\n",
      "index 206, ID = NC_012387.1, length 955, with 2 features\n",
      "index 207, ID = KF781652.1, length 955, with 2 features\n",
      "index 208, ID = FJ374651.1, length 955, with 2 features\n",
      "index 209, ID = JX945976.1, length 955, with 2 features\n",
      "index 210, ID = FJ374646.1, length 955, with 2 features\n",
      "index 211, ID = AB049357.1, length 955, with 2 features\n",
      "index 212, ID = AY581638.1, length 838, with 2 features\n",
      "index 213, ID = KF781658.1, length 955, with 2 features\n",
      "index 214, ID = HQ675029.1, length 955, with 2 features\n",
      "index 215, ID = KF781647.1, length 955, with 2 features\n",
      "index 216, ID = AY581644.1, length 840, with 2 features\n",
      "index 217, ID = KF781659.1, length 955, with 2 features\n",
      "index 218, ID = KP260514.1, length 955, with 2 features\n",
      "index 219, ID = AY339599.2, length 955, with 2 features\n",
      "index 220, ID = JX945973.1, length 955, with 2 features\n",
      "index 221, ID = KR020497.1, length 955, with 2 features\n",
      "index 222, ID = DQ106412.1, length 955, with 2 features\n",
      "index 223, ID = FJ374641.1, length 955, with 2 features\n",
      "index 224, ID = KP260517.1, length 955, with 2 features\n",
      "index 225, ID = AP014541.1, length 955, with 2 features\n",
      "index 226, ID = FJ374664.1, length 955, with 2 features\n",
      "index 227, ID = JX945969.1, length 955, with 2 features\n",
      "index 228, ID = HQ675031.1, length 955, with 2 features\n",
      "index 229, ID = FJ374655.1, length 955, with 2 features\n",
      "index 230, ID = JX945978.1, length 955, with 2 features\n",
      "index 231, ID = HQ675026.1, length 955, with 2 features\n",
      "index 232, ID = KF781653.1, length 955, with 2 features\n",
      "index 233, ID = KF781645.1, length 955, with 2 features\n",
      "index 234, ID = NC_010339.1, length 955, with 2 features\n",
      "index 235, ID = KF781662.1, length 955, with 2 features\n",
      "index 236, ID = AB042432.1, length 955, with 2 features\n"
     ]
    }
   ],
   "source": [
    "for index, record in enumerate(SeqIO.parse(\"reptile12S_cropped_400bp.gb\", \"genbank\")):\n",
    "        print(\"index %i, ID = %s, length %i, with %i features\"\n",
    "          % (index, record.id, len(record.seq), len(record.features)))"
   ]
  },
  {
   "cell_type": "markdown",
   "metadata": {},
   "source": [
    "Now need to filter all 12S rRNA sequences within pj.records dictionary by length to remove all sequences shorter than 400bp within Reprophylo."
   ]
  },
  {
   "cell_type": "code",
   "execution_count": 38,
   "metadata": {
    "collapsed": true
   },
   "outputs": [],
   "source": [
    "# Define minima and maxima\n",
    "\n",
    "gc_inliers = {\n",
    "    'rrnS': [35,48]\n",
    "}\n",
    "len_inliers = {\n",
    "    'rrnS': [400,1000]\n",
    "}\n",
    "\n",
    "\n",
    "# Apply to loci data\n",
    "for locus in gc_inliers:\n",
    "    # trim GC outliers\n",
    "    pj.filter_by_gc_content(locus,\n",
    "                            min_percent_gc=gc_inliers[locus][0],\n",
    "                            max_percent_gc=gc_inliers[locus][1])\n",
    "\n",
    "    # trim length outlier\n",
    "    pj.filter_by_seq_length(locus,\n",
    "                            min_length=len_inliers[locus][0],\n",
    "                            max_length=len_inliers[locus][1])"
   ]
  },
  {
   "cell_type": "markdown",
   "metadata": {},
   "source": [
    "Confirm that the length filter has worked."
   ]
  },
  {
   "cell_type": "code",
   "execution_count": 39,
   "metadata": {
    "collapsed": false
   },
   "outputs": [
    {
     "name": "stdout",
     "output_type": "stream",
     "text": [
      "Distribution Of Sequence Lengths\n",
      "Distribution Of Sequence Statistic \"Gc_Content\"\n"
     ]
    },
    {
     "data": {
      "image/png": "[encoded data removed]",
      "text/plain": [
       "<matplotlib.figure.Figure at 0x7fc4b2215550>"
      ]
     },
     "metadata": {},
     "output_type": "display_data"
    },
    {
     "data": {
      "image/png": "[encoded data removed]",
      "text/plain": [
       "<matplotlib.figure.Figure at 0x7fc4b0abe1d0>"
      ]
     },
     "metadata": {},
     "output_type": "display_data"
    }
   ],
   "source": [
    "pj.report_seq_stats()"
   ]
  },
  {
   "cell_type": "markdown",
   "metadata": {},
   "source": [
    "Pickle the project."
   ]
  },
  {
   "cell_type": "code",
   "execution_count": 40,
   "metadata": {
    "collapsed": false
   },
   "outputs": [
    {
     "data": {
      "text/plain": [
       "'rep_nr.pkl'"
      ]
     },
     "execution_count": 40,
     "metadata": {},
     "output_type": "execute_result"
    }
   ],
   "source": [
    "pickle_pj(pj, 'rep_nr.pkl')"
   ]
  },
  {
   "cell_type": "markdown",
   "metadata": {},
   "source": [
    "# Long Alignment"
   ]
  },
  {
   "cell_type": "markdown",
   "metadata": {},
   "source": [
    "Now, need to produce a sequence alignment file based on an alignment of all 12S sequences longer than 400bp. This will be done with the AlnConf class."
   ]
  },
  {
   "cell_type": "code",
   "execution_count": 41,
   "metadata": {
    "collapsed": true
   },
   "outputs": [],
   "source": [
    "pj = unpickle_pj('rep_nr.pkl', git=False)"
   ]
  },
  {
   "cell_type": "markdown",
   "metadata": {},
   "source": [
    "muscle default configuration:"
   ]
  },
  {
   "cell_type": "code",
   "execution_count": 42,
   "metadata": {
    "collapsed": false
   },
   "outputs": [
    {
     "name": "stdout",
     "output_type": "stream",
     "text": [
      "muscle -in 248521477496123.26_rrnS.fasta\n"
     ]
    }
   ],
   "source": [
    "muscle_defaults = AlnConf(pj,\n",
    "                          method_name=\"muscleDefault\",\n",
    "                          program_name=\"muscle\",\n",
    "                          loci=['rrnS'])"
   ]
  },
  {
   "cell_type": "markdown",
   "metadata": {},
   "source": [
    "Once there are one or more AlnConf objects, they can be executed in one go using the Project method align. This method accepts a list of AlnConf objects and does whatever it is each of them tells it:"
   ]
  },
  {
   "cell_type": "code",
   "execution_count": 43,
   "metadata": {
    "collapsed": false
   },
   "outputs": [],
   "source": [
    "pj.align([muscle_defaults])"
   ]
  },
  {
   "cell_type": "markdown",
   "metadata": {},
   "source": [
    "When the process is done, the AlnConf objects will be stored in pj.used_methods, which is a dictionary using the method names as keys. If you print one of these AlnConf objects as a string, you will get complete details about the process, including programme versions and references:"
   ]
  },
  {
   "cell_type": "code",
   "execution_count": 44,
   "metadata": {
    "collapsed": false
   },
   "outputs": [
    {
     "name": "stdout",
     "output_type": "stream",
     "text": [
      "AlnConf named muscleDefault with ID 248521477496123.26\n",
      "Loci: rrnS \n",
      "Created on: Wed Oct 26 15:35:23 2016\n",
      "Commands:\n",
      "rrnS: muscle -in 248521477496123.26_rrnS.fasta\n",
      "\n",
      "Environment:\n",
      "Platform: Linux-4.4.0-38-generic-x86_64-with-Ubuntu-14.04-trusty\n",
      " Processor: x86_64\n",
      " Python build: defaultMar 22 2014 22:59:56\n",
      " Python compiler: GCC 4.8.2\n",
      " Python implementation: CPython\n",
      " Python version: 2.7.6\n",
      " ete2 version: 2.2.1072\n",
      " biopython version: 1.68\n",
      " dendropy version: 3.12.2\n",
      " cloud version: 2.8.5\n",
      " reprophylo version 1.3\n",
      " User: biopc4\n",
      " Program and version: MUSCLE v3.8.31\\nPal2Nal v14\n",
      " Program reference:\\nEdgar 2004: MUSCLE: multiple sequence alignment with high accuracy and high throughput. Nucleic Acids Research 32(5):1792-1797\\nMikita Suyama\n",
      " David Torrents\n",
      " and Peer Bork (2006) PAL2NAL: robust conversion of protein sequence alignments into the corresponding codon alignments.Nucleic Acids Res. 34\n",
      " W609-W612.\n",
      "execution time:\n",
      "11.5761458874\n",
      "\n",
      "\n",
      "==============================\n",
      "Core Methods section sentence:\n",
      "==============================\n",
      "The dataset(s) rrnS were first aligned at the protein level using the program MUSCLE v3.8.31 [1].\n",
      "The resulting alignments served as guides to codon-align the DNA sequences using Pal2Nal v14 [2].\n",
      "\n",
      "Reference:\n",
      "[1]Edgar 2004: MUSCLE: multiple sequence alignment with high accuracy and high throughput. Nucleic Acids Research 32(5):1792-1797\n",
      "[2]Mikita Suyama, David Torrents, and Peer Bork (2006) PAL2NAL: robust conversion of protein sequence alignments into the corresponding codon alignments.Nucleic Acids Res. 34, W609-W612.\n",
      "\n"
     ]
    }
   ],
   "source": [
    "print pj.used_methods['muscleDefault']"
   ]
  },
  {
   "cell_type": "markdown",
   "metadata": {},
   "source": [
    "The alignment itself is stored in the pj.alignments dictionary, using keys that follow this pattern: locus_name@method_name where method_name is the name you have provided to your AlnConf object."
   ]
  },
  {
   "cell_type": "code",
   "execution_count": 45,
   "metadata": {
    "collapsed": false
   },
   "outputs": [
    {
     "data": {
      "text/plain": [
       "{'rrnS@muscleDefault': <<class 'Bio.Align.MultipleSeqAlignment'> instance (80 records of length 1056, IUPACProtein()) at 7fc4b0d402d0>}"
      ]
     },
     "execution_count": 45,
     "metadata": {},
     "output_type": "execute_result"
    }
   ],
   "source": [
    "pj.alignments"
   ]
  },
  {
   "cell_type": "markdown",
   "metadata": {},
   "source": [
    "Alignment text files can be dumped in any AlignIO format for usage in an external command line or GUI program. When writing to files, you can control the header of the sequence by, for example, adding the organism name of the gene name, or by replacing the feature ID with the record ID."
   ]
  },
  {
   "cell_type": "code",
   "execution_count": 46,
   "metadata": {
    "collapsed": false
   },
   "outputs": [
    {
     "data": {
      "text/plain": [
       "['rrnS@muscleDefault_aln.fasta']"
      ]
     },
     "execution_count": 46,
     "metadata": {},
     "output_type": "execute_result"
    }
   ],
   "source": [
    "# record_id and source_organism are feature qualifiers in the SeqRecord object\n",
    "files = pj.write_alns(id=['record_id','source_organism'],\n",
    "                      format='fasta')\n",
    "files"
   ]
  },
  {
   "cell_type": "markdown",
   "metadata": {},
   "source": [
    "Pickle the project."
   ]
  },
  {
   "cell_type": "code",
   "execution_count": 47,
   "metadata": {
    "collapsed": false
   },
   "outputs": [
    {
     "data": {
      "text/plain": [
       "'rep_nr.pkl'"
      ]
     },
     "execution_count": 47,
     "metadata": {},
     "output_type": "execute_result"
    }
   ],
   "source": [
    "pickle_pj(pj, 'rep_nr.pkl')"
   ]
  },
  {
   "cell_type": "markdown",
   "metadata": {},
   "source": [
    "# Build tree"
   ]
  },
  {
   "cell_type": "markdown",
   "metadata": {},
   "source": [
    "The alignment needs to be trimmed to remove large gaps in sequences. The cell below contains the reprophylo solution for clipping the alignment - the default gappyout algorithm. With TrimalConf, instead of specifying loci names, we provide alignment names, as they appear in the keys of pj.alignments."
   ]
  },
  {
   "cell_type": "code",
   "execution_count": 48,
   "metadata": {
    "collapsed": false
   },
   "outputs": [
    {
     "name": "stdout",
     "output_type": "stream",
     "text": [
      "trimal -in 908181477496153.25_rrnS@muscleDefault.fasta -gappyout\n"
     ]
    }
   ],
   "source": [
    "muscle_gappyout = TrimalConf(pj,                       # The Project\n",
    "\n",
    "                            method_name='gappyout',  # Any unique string \n",
    "                                                     # ('gappyout' is default)\n",
    "                            \n",
    "                            program_name='trimal',   # No alternatives in \n",
    "                                                     # this ReproPhylo version\n",
    "                            \n",
    "                            cmd='default',           # the default is trimal. \n",
    "                                                     # Change it here\n",
    "                                                     # or in pj.defaults['trimal']\n",
    "                            \n",
    "                            alns=['rrnS@muscleDefault'],  # 'all' by default\n",
    "                            \n",
    "                            trimal_commands={'gappyout': True} # By default, the gappyout algorithm is used.\n",
    "                           )"
   ]
  },
  {
   "cell_type": "code",
   "execution_count": 49,
   "metadata": {
    "collapsed": true
   },
   "outputs": [],
   "source": [
    "pj.trim([muscle_gappyout])"
   ]
  },
  {
   "cell_type": "code",
   "execution_count": 50,
   "metadata": {
    "collapsed": false
   },
   "outputs": [
    {
     "name": "stdout",
     "output_type": "stream",
     "text": [
      "TrimalConf named gappyout with ID 908181477496153.25\n",
      "Alignments: rrnS@muscleDefault \n",
      "Created on: Wed Oct 26 15:35:53 2016\n",
      "Commands:\n",
      "rrnS@muscleDefault@gappyout: trimal -in 908181477496153.25_rrnS@muscleDefault.fasta -gappyout\n",
      "\n",
      "Environment:Platform: Linux-4.4.0-38-generic-x86_64-with-Ubuntu-14.04-trusty\n",
      " Processor: x86_64\n",
      " Python build: defaultMar 22 2014 22:59:56\n",
      " Python compiler: GCC 4.8.2\n",
      " Python implementation: CPython\n",
      " Python version: 2.7.6\n",
      " ete2 version: 2.2.1072\n",
      " biopython version: 1.68\n",
      " dendropy version: 3.12.2\n",
      " cloud version: 2.8.5\n",
      " reprophylo version 1.3\n",
      " User: biopc4\n",
      " Program and version: trimAl 1.2rev59\n",
      " Program reference: Salvador Capella-Gutierrez; Jose M. Silla-Martinez; Toni Gabaldon. trimAl: a tool for automated alignment trimming in large-scale phylogenetic analyses. Bioinformatics 2009 25: 1972-1973.\n",
      "execution time:\n",
      "0.663233995438\n",
      "\n",
      "==============================\n",
      "Core Methods section sentence:\n",
      "==============================\n",
      "The alignment(s) rrnS@muscleDefault were trimmed using the program trimAl 1.2rev59 [1].\n",
      "\n",
      "Reference:\n",
      "Salvador Capella-Gutierrez; Jose M. Silla-Martinez; Toni Gabaldon. trimAl: a tool for automated alignment trimming in large-scale phylogenetic analyses. Bioinformatics 2009 25: 1972-1973.\n",
      "\n"
     ]
    }
   ],
   "source": [
    "print pj.used_methods['gappyout']"
   ]
  },
  {
   "cell_type": "markdown",
   "metadata": {},
   "source": [
    "The trimmed alignments themselves are stored in the pj.trimmed_alignments dictionary, using keys."
   ]
  },
  {
   "cell_type": "code",
   "execution_count": 51,
   "metadata": {
    "collapsed": false
   },
   "outputs": [
    {
     "data": {
      "text/plain": [
       "{'rrnS@muscleDefault@gappyout': <<class 'Bio.Align.MultipleSeqAlignment'> instance (80 records of length 926, IUPACAmbiguousDNA()) at 7fc4b01ba0d0>}"
      ]
     },
     "execution_count": 51,
     "metadata": {},
     "output_type": "execute_result"
    }
   ],
   "source": [
    "pj.trimmed_alignments"
   ]
  },
  {
   "cell_type": "markdown",
   "metadata": {},
   "source": [
    "Trimmed alignment text files can be dumped in any AlignIO format for usage in an external command line or GUI program. When writing to files, you can control the header of the sequence by, for example, adding the organism name of the gene name, or by replacing the feature ID with the record ID:"
   ]
  },
  {
   "cell_type": "code",
   "execution_count": 52,
   "metadata": {
    "collapsed": false
   },
   "outputs": [
    {
     "data": {
      "text/plain": [
       "['rrnS@muscleDefault@gappyout_trimmed_aln.fasta']"
      ]
     },
     "execution_count": 52,
     "metadata": {},
     "output_type": "execute_result"
    }
   ],
   "source": [
    "files = pj.write_trimmed_alns(id=['record_id','source_organism'],\n",
    "                                   format='fasta')\n",
    "files"
   ]
  },
  {
   "cell_type": "markdown",
   "metadata": {},
   "source": [
    "Infer Maximum Likelihood tree based on the clipped alignment. We are going to use RAxML. Configure RAxML for trimmed muscle alignment."
   ]
  },
  {
   "cell_type": "code",
   "execution_count": 53,
   "metadata": {
    "collapsed": false
   },
   "outputs": [
    {
     "name": "stdout",
     "output_type": "stream",
     "text": [
      "raxmlHPC-PTHREADS-SSE3 -f a -m GTRGAMMA -n 196061477496171.35_rrnS@muscleDefault@gappyout0 -p 601 -s 196061477496171.35_rrnS@muscleDefault@gappyout.fasta -T 5 -x 601 -N 100\n"
     ]
    }
   ],
   "source": [
    "raxml = RaxmlConf(pj, method_name='raxml-muscleDefault-trimmed',\n",
    "                  program_name='raxmlHPC-PTHREADS-SSE3',\n",
    "                  keepfiles=True,\n",
    "                  cmd='raxmlHPC-PTHREADS-SSE3',\n",
    "                  preset='fa',\n",
    "                  alns=['rrnS@muscleDefault@gappyout'],\n",
    "                  model='GAMMA',\n",
    "                  threads=5,\n",
    "                  cline_args={'-#': 100})"
   ]
  },
  {
   "cell_type": "code",
   "execution_count": 54,
   "metadata": {
    "collapsed": true
   },
   "outputs": [],
   "source": [
    "pj.tree([raxml])"
   ]
  },
  {
   "cell_type": "code",
   "execution_count": 55,
   "metadata": {
    "collapsed": false
   },
   "outputs": [
    {
     "name": "stdout",
     "output_type": "stream",
     "text": [
      "RaxmlConf named raxml-muscleDefault-trimmed with ID 196061477496171.35\n",
      "Alignments: rrnS@muscleDefault@gappyout \n",
      "Created on: Wed Oct 26 15:36:11 2016\n",
      "Commands:\n",
      "rrnS@muscleDefault@gappyout:\n",
      "raxmlHPC-PTHREADS-SSE3 -f a -m GTRGAMMA -n 196061477496171.35_rrnS@muscleDefault@gappyout0 -p 601 -s 196061477496171.35_rrnS@muscleDefault@gappyout.fasta -T 5 -x 601 -N 100\n",
      "\n",
      "Environment:\n",
      "Platform: Linux-4.4.0-38-generic-x86_64-with-Ubuntu-14.04-trusty\n",
      " Processor: x86_64\n",
      " Python build: defaultMar 22 2014 22:59:56\n",
      " Python compiler: GCC 4.8.2\n",
      " Python implementation: CPython\n",
      " Python version: 2.7.6\n",
      " ete2 version: 2.2.1072\n",
      " biopython version: 1.68\n",
      " dendropy version: 3.12.2\n",
      " cloud version: 2.8.5\n",
      " reprophylo version 1.3\n",
      " User: biopc4\n",
      " Program and version: raxmlHPC-PTHREADS-SSE3RAxML version 8.0.12\n",
      " Program reference: A. Stamatakis: RAxML Version 8: A tool for Phylogenetic Analysis and Post-Analysis of Large Phylogenies. In Bioinformatics\n",
      " 2014.\n",
      "execution time:\n",
      "238.359686136\n",
      "\n",
      "==============================\n",
      "Core Methods section sentence:\n",
      "==============================\n",
      "Phylogenetic trees were reconstructed from the dataset(s) rrnS@muscleDefault@gappyout using the program raxmlHPC-PTHREADS-SSE3RAxML version 8.0.12 [1].\n",
      "\n",
      "Reference:\n",
      "A. Stamatakis: RAxML Version 8: A tool for Phylogenetic Analysis and Post-Analysis of Large Phylogenies. In Bioinformatics, 2014.\n",
      "\n"
     ]
    }
   ],
   "source": [
    "print pj.used_methods['raxml-muscleDefault-trimmed']"
   ]
  },
  {
   "cell_type": "markdown",
   "metadata": {},
   "source": [
    "Pickle the project."
   ]
  },
  {
   "cell_type": "code",
   "execution_count": 56,
   "metadata": {
    "collapsed": false
   },
   "outputs": [
    {
     "data": {
      "text/plain": [
       "'rep_nr.pkl'"
      ]
     },
     "execution_count": 56,
     "metadata": {},
     "output_type": "execute_result"
    }
   ],
   "source": [
    "pickle_pj(pj, 'rep_nr.pkl')"
   ]
  },
  {
   "cell_type": "markdown",
   "metadata": {},
   "source": [
    "# Visualise Tree"
   ]
  },
  {
   "cell_type": "markdown",
   "metadata": {},
   "source": [
    "Now let's visualize the tree.\n",
    "\n",
    "Prepare tree annotation:\n",
    "- define outgroups\n",
    "- specify support coloration"
   ]
  },
  {
   "cell_type": "code",
   "execution_count": 57,
   "metadata": {
    "collapsed": true
   },
   "outputs": [],
   "source": [
    "pj.add_qualifier_from_source('organism')"
   ]
  },
  {
   "cell_type": "code",
   "execution_count": 58,
   "metadata": {
    "collapsed": true
   },
   "outputs": [],
   "source": [
    "for species in ['Cottus','Mus','Xenopus']:\n",
    "    pj.if_this_then_that(species, 'organism', 'outgroup', 'outgroup',\n",
    "                         mode='part')"
   ]
  },
  {
   "cell_type": "code",
   "execution_count": 59,
   "metadata": {
    "collapsed": true
   },
   "outputs": [],
   "source": [
    "supports = {'black': [100,95],\n",
    "            'dimgray': [95,75],\n",
    "            'silver': [75,50]}"
   ]
  },
  {
   "cell_type": "code",
   "execution_count": 60,
   "metadata": {
    "collapsed": true
   },
   "outputs": [],
   "source": [
    "pj.clear_tree_annotations()\n",
    "\n",
    "pj.annotate('.', 'outgroup', 'outgroup', \n",
    "            ['source_organism', 'record_id'], \n",
    "            node_support_dict=supports, multifurc=10,\n",
    "            html='muscleDefault-trimmed-400bp-raxml.html')"
   ]
  },
  {
   "cell_type": "markdown",
   "metadata": {},
   "source": [
    "Check trees out. Have a think which sequences you would consider mislabelled and should better be removed from the reference database.\n",
    "\n",
    "Create a static copy of the tree (the last *.png with the expected alignment id) for later."
   ]
  },
  {
   "cell_type": "code",
   "execution_count": 61,
   "metadata": {
    "collapsed": true
   },
   "outputs": [],
   "source": [
    "%%bash\n",
    "\n",
    "last_png=$(ls -hlrt *rrnS@muscleDefault@gappyout.png | tail -n 1 | perl -ne 'chomp; @a=split(\" \"); print \"$a[-1]\"')\n",
    "cp $last_png rrnS_muscleDefault-trimmed-400bp-raxml.png"
   ]
  },
  {
   "cell_type": "markdown",
   "metadata": {},
   "source": [
    "**===========================================================================================**"
   ]
  },
  {
   "cell_type": "markdown",
   "metadata": {},
   "source": [
    "# Format long alignment and sequence IDs"
   ]
  },
  {
   "cell_type": "code",
   "execution_count": 62,
   "metadata": {
    "collapsed": true
   },
   "outputs": [],
   "source": [
    "from reprophylo import *"
   ]
  },
  {
   "cell_type": "code",
   "execution_count": 63,
   "metadata": {
    "collapsed": true
   },
   "outputs": [],
   "source": [
    "pj = unpickle_pj('rep_nr.pkl', git=False)"
   ]
  },
  {
   "cell_type": "markdown",
   "metadata": {},
   "source": [
    "- Identify the record IDs of the sequences shorter than 400bp\n",
    "- Write these sequences for to new fasta file (make sure the sequece IDs are as Reprophylo expects them: 'id_f0')\n",
    "- Prepare a hmm profile for the alignment the tree is built on (either muscle 'or mafft)"
   ]
  },
  {
   "cell_type": "code",
   "execution_count": 64,
   "metadata": {
    "collapsed": false
   },
   "outputs": [
    {
     "data": {
      "text/plain": [
       "{'rrnS@muscleDefault': <<class 'Bio.Align.MultipleSeqAlignment'> instance (80 records of length 1056, IUPACProtein()) at 7fc4b0580210>}"
      ]
     },
     "execution_count": 64,
     "metadata": {},
     "output_type": "execute_result"
    }
   ],
   "source": [
    "pj.alignments"
   ]
  },
  {
   "cell_type": "code",
   "execution_count": 65,
   "metadata": {
    "collapsed": false
   },
   "outputs": [
    {
     "name": "stdout",
     "output_type": "stream",
     "text": [
      "returning trimmed alignment object rrnS@muscleDefault@gappyout\n"
     ]
    },
    {
     "data": {
      "text/plain": [
       "1"
      ]
     },
     "execution_count": 65,
     "metadata": {},
     "output_type": "execute_result"
    }
   ],
   "source": [
    "from Bio import AlignIO\n",
    "\n",
    "out=open('400bp_reptile_align.fasta','w')\n",
    "\n",
    "AlignIO.write(pj.fta('rrnS@muscleDefault'), out, 'fasta')"
   ]
  },
  {
   "cell_type": "markdown",
   "metadata": {},
   "source": [
    "Check number of records in file containing short 12S rRNA sequences."
   ]
  },
  {
   "cell_type": "code",
   "execution_count": 66,
   "metadata": {
    "collapsed": false
   },
   "outputs": [
    {
     "name": "stdout",
     "output_type": "stream",
     "text": [
      "Total records: 33\n"
     ]
    }
   ],
   "source": [
    "from Bio import SeqIO\n",
    "\n",
    "records = list(SeqIO.parse(\"reptile_short_to_align.fasta\", \"fasta\"))\n",
    "print(\"Total records: %i\" % len(records))"
   ]
  },
  {
   "cell_type": "markdown",
   "metadata": {},
   "source": [
    "Check that record IDs are in format that reprophylo expects for alignment."
   ]
  },
  {
   "cell_type": "code",
   "execution_count": 67,
   "metadata": {
    "collapsed": false
   },
   "outputs": [
    {
     "name": "stdout",
     "output_type": "stream",
     "text": [
      "AY151988.1_f0\n",
      "KX080575.1_f0\n",
      "HG802830.1_f0\n",
      "AY151993.1_f0\n",
      "HG802772.1_f0\n",
      "DQ081074.1_f0\n",
      "U81335.1_f0\n",
      "KT030712.1_f0\n",
      "EF027342.1_f0\n",
      "AY151990.1_f0\n",
      "FJ039991.1_f0\n",
      "AB090021.1_f0\n",
      "HG802786.1_f0\n",
      "AY151992.1_f0\n",
      "AF080277.1_f0\n",
      "DQ081073.1_f0\n",
      "AF080334.1_f0\n",
      "HG802805.1_f0\n",
      "U81329.1_f0\n",
      "HQ681907.1_f0\n",
      "AF080298.1_f0\n",
      "KX694589.1_f0\n",
      "HQ681908.1_f0\n",
      "U81328.1_f0\n",
      "U81340.1_f0\n",
      "EU624267.1_f0\n",
      "KT030713.1_f0\n",
      "AB090043.1_f0\n",
      "KX080601.1_f0\n",
      "AF158461.1_f0\n",
      "KX080576.1_f0\n",
      "JQ287761.1_f0\n",
      "M13046.1_f0\n"
     ]
    }
   ],
   "source": [
    "from Bio import SeqIO\n",
    "\n",
    "short_seq = open(\"reptile_short_to_align.fasta\", \"rU\")\n",
    "sequences = []\n",
    "\n",
    "for r in SeqIO.parse(short_seq, \"fasta\"):\n",
    "    print(r.id)"
   ]
  },
  {
   "cell_type": "markdown",
   "metadata": {},
   "source": [
    "If record IDs were not in the format Reprophylo expects for tree construction, the code cells below could be used to format them to be 'id_f0'."
   ]
  },
  {
   "cell_type": "code",
   "execution_count": 68,
   "metadata": {
    "collapsed": true
   },
   "outputs": [],
   "source": [
    "#temp_seq = []\n",
    "\n",
    "#for r in pj.records:\n",
    "    #if len(r.seq) < 400:\n",
    "        #temp_seq.append(r)\n",
    "\n",
    "#from Bio import SeqIO\n",
    "\n",
    "#out=open('short_to_align.fasta','w')\n",
    "#SeqIO.write(temp_seq, out, 'fasta')\n",
    "#out.close()"
   ]
  },
  {
   "cell_type": "code",
   "execution_count": 69,
   "metadata": {
    "collapsed": true
   },
   "outputs": [],
   "source": [
    "#from Bio import SeqIO\n",
    "\n",
    "#short_seq = open(\"short_to_align.fasta\", \"rU\")\n",
    "#sequences = []\n",
    "\n",
    "#for r in SeqIO.parse(short_seq, \"fasta\"):\n",
    "    #print(r.id)\n",
    "    #r.description = r.id+'_f0'\n",
    "    #r.id = r.description\n",
    "    #print r.description\n",
    "    #sequences.append(r)\n",
    "\n",
    "\n",
    "#out = open(\"seq_to_align.fasta\", \"w\")\n",
    "#SeqIO.write(sequences, out, \"fasta\")\n",
    "#out.close()"
   ]
  },
  {
   "cell_type": "markdown",
   "metadata": {},
   "source": [
    "Check that sequences in reprophylo project have not been altered."
   ]
  },
  {
   "cell_type": "code",
   "execution_count": 70,
   "metadata": {
    "collapsed": false
   },
   "outputs": [
    {
     "name": "stdout",
     "output_type": "stream",
     "text": [
      "AY151988.1\n",
      "Podarcis muralis isolate E2106124 12S ribosomal RNA gene, partial sequence; mitochondrial gene for mitochondrial product.\n",
      "KX080575.1\n",
      "Podarcis muralis isolate 509 12S ribosomal RNA gene, partial sequence; mitochondrial.\n",
      "HG802830.1\n",
      "Emys orbicularis partial 12S rRNA gene, specimen voucher MTD:T:1488.\n",
      "DQ658818.1\n",
      "Lacerta agilis isolate AG 12S ribosomal RNA gene, partial sequence; mitochondrial.\n",
      "HG802784.1\n",
      "Emys orbicularis partial 12S rRNA gene, specimen voucher MTD:T:5570.\n",
      "HG802776.1\n",
      "Emys orbicularis partial 12S rRNA gene, specimen voucher MTD:T:3248.\n",
      "AY151991.1\n",
      "Podarcis muralis isolate E2106127 12S ribosomal RNA gene, partial sequence; mitochondrial gene for mitochondrial product.\n",
      "HG802778.1\n",
      "Emys orbicularis partial 12S rRNA gene, specimen voucher MTD:T:4095.\n",
      "AY151993.1\n",
      "Zootoca vivipara 12S ribosomal RNA gene, partial sequence; mitochondrial gene for mitochondrial product.\n",
      "FJ039913.1\n",
      "Dermochelys coriacea isolate DC_Atlantic 12S ribosomal RNA gene, partial sequence; mitochondrial.\n",
      "HG802788.1\n",
      "Emys orbicularis partial 12S rRNA gene, specimen voucher MTD:T:5103.\n",
      "HE590290.1\n",
      "Trachemys scripta mitochondrial partial 12S rRNA gene, specimen voucher MTD:D 42966_.\n",
      "HG802829.1\n",
      "Emys orbicularis partial 12S rRNA gene, specimen voucher MTD:T:3078.\n",
      "HG802835.1\n",
      "Emys orbicularis partial 12S rRNA gene, specimen voucher MTD:T:3977.\n",
      "HG802831.1\n",
      "Emys orbicularis partial 12S rRNA gene, specimen voucher MTD:T:1443.\n",
      "FJ039941.1\n",
      "Chelonia mydas isolate CM_Atlantic_1 12S ribosomal RNA gene, partial sequence; mitochondrial.\n",
      "KX080600.1\n",
      "Lacerta agilis isolate S10397 12S ribosomal RNA gene, partial sequence; mitochondrial.\n",
      "HG802793.1\n",
      "Emys orbicularis partial 12S rRNA gene, specimen voucher MTD:T:5874.\n",
      "HG802810.1\n",
      "Emys orbicularis partial 12S rRNA gene, specimen voucher MTD:T:9082.\n",
      "HG802772.1\n",
      "Emys orbicularis partial 12S rRNA gene, specimen voucher MTD:T:3244.\n",
      "HE590289.1\n",
      "Trachemys scripta elegans mitochondrial partial 12S rRNA gene, specimen voucher MTD:T 6005.\n",
      "FJ009027.1\n",
      "Caretta caretta isolate CC_Atlantic 12S ribosomal RNA gene, partial sequence; mitochondrial.\n",
      "HG802822.1\n",
      "Emys orbicularis partial 12S rRNA gene, specimen voucher MTD:T:1512.\n",
      "HG802818.1\n",
      "Emys orbicularis partial 12S rRNA gene, specimen voucher MTD:T:8152.\n",
      "KX080593.1\n",
      "Zootoca vivipara isolate zoo 12S ribosomal RNA gene, partial sequence; mitochondrial.\n",
      "DQ081074.1\n",
      "Podarcis muralis isolate MTA1 12S ribosomal RNA gene, partial sequence; mitochondrial.\n",
      "U81335.1\n",
      "Chelydra serpentina 12S mitochondrial ribosomal RNA, small subunit, mitochondrial gene, partial sequence.\n",
      "HG802782.1\n",
      "Emys orbicularis partial 12S rRNA gene, specimen voucher MTD:T:4099.\n",
      "KT030712.1\n",
      "Podarcis muralis isolate Mur01 12S ribosomal RNA gene, partial sequence; mitochondrial.\n",
      "HG802827.1\n",
      "Emys orbicularis partial 12S rRNA gene, specimen voucher MTD:T:2499.\n",
      "FR717130.1\n",
      "Trachemys scripta elegans mitochondrial partial 12S rRNA gene.\n",
      "EF027343.1\n",
      "Podarcis muralis isolate 2 12S ribosomal RNA gene, partial sequence; mitochondrial.\n",
      "AY151989.1\n",
      "Podarcis muralis isolate E2106125 12S ribosomal RNA gene, partial sequence; mitochondrial gene for mitochondrial product.\n",
      "EF027342.1\n",
      "Podarcis muralis isolate 1 12S ribosomal RNA gene, partial sequence; mitochondrial.\n",
      "HG802780.1\n",
      "Emys orbicularis partial 12S rRNA gene, specimen voucher MTD:T:4097.\n",
      "HG802785.1\n",
      "Emys orbicularis partial 12S rRNA gene, specimen voucher MTD:T:5571.\n",
      "FJ009020.1\n",
      "Caretta caretta isolate CC_Pacific 12S ribosomal RNA gene, partial sequence; mitochondrial.\n",
      "AY151990.1\n",
      "Podarcis muralis isolate E2106126 12S ribosomal RNA gene, partial sequence; mitochondrial gene for mitochondrial product.\n",
      "FJ039991.1\n",
      "Lepidochelys kempii isolate LK_Atlantic 12S ribosomal RNA gene, partial sequence; mitochondrial.\n",
      "AB090021.1\n",
      "Emys orbicularis mitochondrial gene for 12S rRNA, partial sequence.\n",
      "HG802775.1\n",
      "Emys orbicularis partial 12S rRNA gene, specimen voucher MTD:T:3247.\n",
      "HG802786.1\n",
      "Emys orbicularis partial 12S rRNA gene, specimen voucher MTD:T:6420.\n",
      "HG802820.1\n",
      "Emys orbicularis partial 12S rRNA gene, specimen voucher MTD:T:2712.\n",
      "AY151992.1\n",
      "Podarcis muralis isolate E2106128 12S ribosomal RNA gene, partial sequence; mitochondrial gene for mitochondrial product.\n",
      "HG802799.1\n",
      "Emys orbicularis partial 12S rRNA gene, specimen voucher MTD:T:9086.\n",
      "AF080277.1\n",
      "Podarcis muralis 12S ribosomal RNA gene, mitochondrial gene for mitochondrial RNA, partial sequence.\n",
      "HG802795.1\n",
      "Emys orbicularis partial 12S rRNA gene, specimen voucher MTD:T:5876.\n",
      "HG802828.1\n",
      "Emys orbicularis partial 12S rRNA gene, specimen voucher MTD:T:2479.\n",
      "FJ039970.1\n",
      "Eretmochelys imbricata isolate EI_Atlantic 12S ribosomal RNA gene, partial sequence; mitochondrial.\n",
      "HG802803.1\n",
      "Emys orbicularis partial 12S rRNA gene, specimen voucher MTD:T:2748.\n",
      "HG802797.1\n",
      "Emys orbicularis partial 12S rRNA gene, specimen voucher MTD:T:9084.\n",
      "HG802792.1\n",
      "Emys orbicularis partial 12S rRNA gene, specimen voucher MTD:T:5873.\n",
      "HE590288.1\n",
      "Trachemys scripta elegans mitochondrial partial 12S rRNA gene, specimen voucher MTD:T 496.\n",
      "DQ081073.1\n",
      "Podarcis muralis isolate Gua1 12S ribosomal RNA gene, partial sequence; mitochondrial.\n",
      "AF080334.1\n",
      "Lacerta vivipara 12S ribosomal RNA gene, mitochondrial gene for mitochondrial RNA, partial sequence.\n",
      "HG802789.1\n",
      "Emys orbicularis partial 12S rRNA gene, specimen voucher MTD:T:5104.\n",
      "HG802805.1\n",
      "Emys orbicularis partial 12S rRNA gene, specimen voucher MTD:T:3816.\n",
      "HG802791.1\n",
      "Emys orbicularis partial 12S rRNA gene, specimen voucher MTD:T:5367.\n",
      "U81329.1\n",
      "Chelonia mydas 12S mitochondrial ribosomal RNA, small subunit, mitochondrial gene, partial sequence.\n",
      "HE590285.1\n",
      "Trachemys scripta scripta mitochondrial partial 12S rRNA gene, specimen voucher MTD:T 117.\n",
      "HG802816.1\n",
      "Emys orbicularis partial 12S rRNA gene, specimen voucher MTD:T:8150.\n",
      "HG802807.1\n",
      "Emys orbicularis partial 12S rRNA gene, specimen voucher MTD:T:9079.\n",
      "HG802815.1\n",
      "Emys orbicularis partial 12S rRNA gene, specimen voucher MTD:T:8149.\n",
      "HQ681907.1\n",
      "Emys orbicularis orbicularis isolate 219 12S ribosomal RNA gene, partial sequence; mitochondrial.\n",
      "HG802834.1\n",
      "Emys orbicularis partial 12S rRNA gene, specimen voucher MTD:T:3974.\n",
      "HG802783.1\n",
      "Emys orbicularis partial 12S rRNA gene, specimen voucher MTD:T:4100.\n",
      "HE590286.1\n",
      "Trachemys scripta scripta mitochondrial partial 12S rRNA gene, specimen voucher MTD:T 407.\n",
      "HE590287.1\n",
      "Trachemys scripta scripta mitochondrial partial 12S rRNA gene, specimen voucher MTD:T 468.\n",
      "HG802821.1\n",
      "Emys orbicularis partial 12S rRNA gene, specimen voucher MTD:T:1647.\n",
      "HG802781.1\n",
      "Emys orbicularis partial 12S rRNA gene, specimen voucher MTD:T:4098.\n",
      "DQ097096.1\n",
      "Lacerta agilis isolate HO2 12S ribosomal RNA gene, partial sequence; mitochondrial.\n",
      "HG802787.1\n",
      "Emys orbicularis partial 12S rRNA gene, specimen voucher MTD:T:6421.\n",
      "HG802814.1\n",
      "Emys orbicularis partial 12S rRNA gene, specimen voucher MTD:T:8415.\n",
      "AF080298.1\n",
      "Lacerta agilis 12S ribosomal RNA gene, mitochondrial gene for mitochondrial RNA, partial sequence.\n",
      "HG802798.1\n",
      "Emys orbicularis partial 12S rRNA gene, specimen voucher MTD:T:9085.\n",
      "HG802813.1\n",
      "Emys orbicularis partial 12S rRNA gene, specimen voucher MTD:T:8414.\n",
      "HG802801.1\n",
      "Emys orbicularis partial 12S rRNA gene, specimen voucher MTD:T:9088.\n",
      "FJ039934.1\n",
      "Chelonia mydas isolate CM_EasternPacific_2 12S ribosomal RNA gene, partial sequence; mitochondrial.\n",
      "HG802774.1\n",
      "Emys orbicularis partial 12S rRNA gene, specimen voucher MTD:T:3246.\n",
      "FJ039963.1\n",
      "Eretmochelys imbricata isolate EI_Pacific 12S ribosomal RNA gene, partial sequence; mitochondrial.\n",
      "HG802794.1\n",
      "Emys orbicularis partial 12S rRNA gene, specimen voucher MTD:T:5875.\n",
      "FJ039906.1\n",
      "Dermochelys coriacea isolate DC_Pacific 12S ribosomal RNA gene, partial sequence; mitochondrial.\n",
      "KX694589.1\n",
      "Coronella austriaca voucher ROM_26536 12S ribosomal RNA gene, partial sequence; mitochondrial.\n",
      "FJ230852.1\n",
      "Chelydra serpentina 12S ribosomal RNA gene, partial sequence; mitochondrial.\n",
      "HG802796.1\n",
      "Emys orbicularis partial 12S rRNA gene, specimen voucher MTD:T:6422.\n",
      "HQ681908.1\n",
      "Emys orbicularis orbicularis isolate 255 12S ribosomal RNA gene, partial sequence; mitochondrial.\n",
      "KX080594.1\n",
      "Zootoca vivipara isolate 15305 12S ribosomal RNA gene, partial sequence; mitochondrial.\n",
      "HG802811.1\n",
      "Emys orbicularis partial 12S rRNA gene, specimen voucher MTD:T:9083.\n",
      "HG802790.1\n",
      "Emys orbicularis partial 12S rRNA gene, specimen voucher MTD:T:5105.\n",
      "U81328.1\n",
      "Trachemys scripta 12S mitochondrial ribosomal RNA, small subunit, mitochondrial gene, partial sequence.\n",
      "HG802809.1\n",
      "Emys orbicularis partial 12S rRNA gene, specimen voucher MTD:T:9081.\n",
      "HG802817.1\n",
      "Emys orbicularis partial 12S rRNA gene, specimen voucher MTD:T:8151.\n",
      "HG802804.1\n",
      "Emys orbicularis partial 12S rRNA gene, specimen voucher MTD:T:2749.\n",
      "HG802773.1\n",
      "Emys orbicularis partial 12S rRNA gene, specimen voucher MTD:T:3245.\n",
      "JN204721.1\n",
      "Vipera berus isolate V8 cytochrome b gene, partial cds; tRNA-Thr and tRNA-Phe genes, complete sequence; and 12S ribosomal RNA gene, partial sequence; mitochondrial.\n",
      "FJ039927.1\n",
      "Chelonia mydas isolate CM_EasternPacific_1 12S ribosomal RNA gene, partial sequence; mitochondrial.\n",
      "HG802802.1\n",
      "Emys orbicularis partial 12S rRNA gene, specimen voucher MTD:T:2456.\n",
      "HG802823.1\n",
      "Emys orbicularis partial 12S rRNA gene, specimen voucher MTD:T:1624.\n",
      "U81340.1\n",
      "Dermochelys coriacea 12S mitochondrial ribosomal RNA, small subunit, mitochondrial gene, partial sequence.\n",
      "HG802833.1\n",
      "Emys orbicularis partial 12S rRNA gene, specimen voucher MTD:T:4025.\n",
      "HG802819.1\n",
      "Emys orbicularis partial 12S rRNA gene, specimen voucher MTD:T:8153.\n",
      "HG802806.1\n",
      "Emys orbicularis partial 12S rRNA gene, specimen voucher MTD:T:7306.\n",
      "EU624267.1\n",
      "Vipera berus isolate 199 12S ribosomal RNA gene, partial sequence; mitochondrial.\n",
      "KT030713.1\n",
      "Podarcis muralis isolate Mur02 12S ribosomal RNA gene, partial sequence; mitochondrial.\n",
      "HG802800.1\n",
      "Emys orbicularis partial 12S rRNA gene, specimen voucher MTD:T:9087.\n",
      "HG802826.1\n",
      "Emys orbicularis partial 12S rRNA gene, specimen voucher MTD:T:3399.\n",
      "HG802777.1\n",
      "Emys orbicularis partial 12S rRNA gene, specimen voucher MTD:T:4094.\n",
      "FJ170114.1\n",
      "Emys orbicularis orbicularis 12S ribosomal RNA gene, partial sequence; mitochondrial.\n",
      "FJ039948.1\n",
      "Chelonia mydas isolate CM_Atlantic_2 12S ribosomal RNA gene, partial sequence; mitochondrial.\n",
      "AB090043.1\n",
      "Mauremys caspica mitochondrial gene for 12S rRNA, partial sequence.\n",
      "KX080601.1\n",
      "Lacerta agilis isolate S10401 12S ribosomal RNA gene, partial sequence; mitochondrial.\n",
      "HG802808.1\n",
      "Emys orbicularis partial 12S rRNA gene, specimen voucher MTD:T:9080.\n",
      "AF158461.1\n",
      "Natrix natrix 12S ribosomal RNA gene, partial sequence; mitochondrial gene for mitochondrial product.\n",
      "FJ039920.1\n",
      "Chelonia mydas isolate CM_Pacific 12S ribosomal RNA gene, partial sequence; mitochondrial.\n",
      "HG802779.1\n",
      "Emys orbicularis partial 12S rRNA gene, specimen voucher MTD:T:4096.\n",
      "HG802812.1\n",
      "Emys orbicularis partial 12S rRNA gene, specimen voucher MTD:T:8413.\n",
      "HG802832.1\n",
      "Emys orbicularis partial 12S rRNA gene, specimen voucher MTD:T:3303.\n",
      "KX080576.1\n",
      "Podarcis muralis isolate 5937 12S ribosomal RNA gene, partial sequence; mitochondrial.\n",
      "AB090022.1\n",
      "Trachemys scripta elegans mitochondrial gene for 12S rRNA, partial sequence.\n",
      "EF027268.1\n",
      "Mus musculus isolate 2 12S ribosomal RNA gene, partial sequence; mitochondrial.\n",
      "EF027267.1\n",
      "Mus musculus isolate 1 12S ribosomal RNA gene, partial sequence; mitochondrial.\n",
      "M10188.1\n",
      "X.laevis mitochondrial DNA containing the D-loop, and the 12S rRNA, apocytochrome b, Glu-tRNA, Thr-tRNA, Pro-tRNA and Phe-tRNA genes.\n",
      "JQ287761.1\n",
      "Mus musculus isolate ID5.4 12S ribosomal RNA gene, partial sequence; mitochondrial.\n",
      "M13046.1\n",
      "X.laevis mitochondrial origin of replication region containing the D-loop, Phe-tRNA, Pro-tRNA, 12S rRNA genes.\n"
     ]
    }
   ],
   "source": [
    "for r in pj.records:\n",
    "    if len(r.seq) < 400:\n",
    "        print r.id\n",
    "        print r.description"
   ]
  },
  {
   "cell_type": "markdown",
   "metadata": {},
   "source": [
    "Pickle the project."
   ]
  },
  {
   "cell_type": "code",
   "execution_count": 71,
   "metadata": {
    "collapsed": false
   },
   "outputs": [
    {
     "data": {
      "text/plain": [
       "'rep_nr.pkl'"
      ]
     },
     "execution_count": 71,
     "metadata": {},
     "output_type": "execute_result"
    }
   ],
   "source": [
    "pickle_pj(pj, 'rep_nr.pkl')"
   ]
  },
  {
   "cell_type": "markdown",
   "metadata": {},
   "source": [
    "# Feed short 12S rRNA sequences into long alignment"
   ]
  },
  {
   "cell_type": "markdown",
   "metadata": {},
   "source": [
    "Previously, sequences shorter than 400bp were removed from the pj.records dictionary before a muscle alignment was performed. Short sequences can cause problems in global paired alignments when the alignment algorithm attempts to match them to much longer sequences.\n",
    "\n",
    "Instead, we performed the long alignment of sequences longer than 400bp first and now we will attempt to incorporate the shorter sequences. This will be done using the hmmbuild command within the hmmer v3 program suite. to construct a Hidden Markov Model and produce a hmm file."
   ]
  },
  {
   "cell_type": "code",
   "execution_count": 1,
   "metadata": {
    "collapsed": false
   },
   "outputs": [
    {
     "name": "stdout",
     "output_type": "stream",
     "text": [
      "# hmmbuild :: profile HMM construction from multiple sequence alignments\r\n",
      "# HMMER 3.1b1 (May 2013); http://hmmer.org/\r\n",
      "# Copyright (C) 2013 Howard Hughes Medical Institute.\r\n",
      "# Freely distributed under the GNU General Public License (GPLv3).\r\n",
      "# - - - - - - - - - - - - - - - - - - - - - - - - - - - - - - - - - - - -\r\n",
      "Usage: hmmbuild [-options] <hmmfile_out> <msafile>\r\n",
      "\r\n",
      "Basic options:\r\n",
      "  -h     : show brief help on version and usage\r\n",
      "  -n <s> : name the HMM <s>\r\n",
      "  -o <f> : direct summary output to file <f>, not stdout\r\n",
      "  -O <f> : resave annotated, possibly modified MSA to file <f>\r\n",
      "\r\n",
      "Options for selecting alphabet rather than guessing it:\r\n",
      "  --amino : input alignment is protein sequence data\r\n",
      "  --dna   : input alignment is DNA sequence data\r\n",
      "  --rna   : input alignment is RNA sequence data\r\n",
      "\r\n",
      "Alternative model construction strategies:\r\n",
      "  --fast           : assign cols w/ >= symfrac residues as consensus  [default]\r\n",
      "  --hand           : manual construction (requires reference annotation)\r\n",
      "  --symfrac <x>    : sets sym fraction controlling --fast construction  [0.5]\r\n",
      "  --fragthresh <x> : if L <= x*alen, tag sequence as a fragment  [0.5]\r\n",
      "\r\n",
      "Alternative relative sequence weighting strategies:\r\n",
      "  --wpb     : Henikoff position-based weights  [default]\r\n",
      "  --wgsc    : Gerstein/Sonnhammer/Chothia tree weights\r\n",
      "  --wblosum : Henikoff simple filter weights\r\n",
      "  --wnone   : don't do any relative weighting; set all to 1\r\n",
      "  --wgiven  : use weights as given in MSA file\r\n",
      "  --wid <x> : for --wblosum: set identity cutoff  [0.62]  (0<=x<=1)\r\n",
      "\r\n",
      "Alternative effective sequence weighting strategies:\r\n",
      "  --eent       : adjust eff seq # to achieve relative entropy target  [default]\r\n",
      "  --eclust     : eff seq # is # of single linkage clusters\r\n",
      "  --enone      : no effective seq # weighting: just use nseq\r\n",
      "  --eset <x>   : set eff seq # for all models to <x>\r\n",
      "  --ere <x>    : for --eent: set minimum rel entropy/position to <x>\r\n",
      "  --esigma <x> : for --eent: set sigma param to <x>  [45.0]\r\n",
      "  --eid <x>    : for --eclust: set fractional identity cutoff to <x>  [0.62]\r\n",
      "\r\n",
      "Alternative prior strategies:\r\n",
      "  --pnone    : don't use any prior; parameters are frequencies\r\n",
      "  --plaplace : use a Laplace +1 prior\r\n",
      "\r\n",
      "Handling single sequence inputs:\r\n",
      "  --singlemx    : use substitution score matrix for single-sequence inputs\r\n",
      "  --popen <x>   : gap open probability (with --singlemx)\r\n",
      "  --pextend <x> : gap extend probability (with --singlemx)\r\n",
      "  --mx <s>      : substitution score matrix (built-in matrices, with --singlemx)\r\n",
      "  --mxfile <f>  : read substitution score matrix from file <f> (with --singlemx)\r\n",
      "\r\n",
      "Control of E-value calibration:\r\n",
      "  --EmL <n> : length of sequences for MSV Gumbel mu fit  [200]  (n>0)\r\n",
      "  --EmN <n> : number of sequences for MSV Gumbel mu fit  [200]  (n>0)\r\n",
      "  --EvL <n> : length of sequences for Viterbi Gumbel mu fit  [200]  (n>0)\r\n",
      "  --EvN <n> : number of sequences for Viterbi Gumbel mu fit  [200]  (n>0)\r\n",
      "  --EfL <n> : length of sequences for Forward exp tail tau fit  [100]  (n>0)\r\n",
      "  --EfN <n> : number of sequences for Forward exp tail tau fit  [200]  (n>0)\r\n",
      "  --Eft <x> : tail mass for Forward exponential tail tau fit  [0.04]  (0<x<1)\r\n",
      "\r\n",
      "Other options:\r\n",
      "  --cpu <n>          : number of parallel CPU workers for multithreads\r\n",
      "  --stall            : arrest after start: for attaching debugger to process\r\n",
      "  --informat <s>     : assert input alifile is in format <s> (no autodetect)\r\n",
      "  --seed <n>         : set RNG seed to <n> (if 0: one-time arbitrary seed)  [42]\r\n",
      "  --w_beta <x>       : tail mass at which window length is determined\r\n",
      "  --w_length <n>     : window length \r\n",
      "  --maxinsertlen <n> : pretend all inserts are length <= <n>\r\n"
     ]
    }
   ],
   "source": [
    "!hmmbuild -h #for help"
   ]
  },
  {
   "cell_type": "code",
   "execution_count": 2,
   "metadata": {
    "collapsed": false
   },
   "outputs": [
    {
     "name": "stdout",
     "output_type": "stream",
     "text": [
      "# hmmbuild :: profile HMM construction from multiple sequence alignments\n",
      "# HMMER 3.1b1 (May 2013); http://hmmer.org/\n",
      "# Copyright (C) 2013 Howard Hughes Medical Institute.\n",
      "# Freely distributed under the GNU General Public License (GPLv3).\n",
      "# - - - - - - - - - - - - - - - - - - - - - - - - - - - - - - - - - - - -\n",
      "# input alignment file:             400bp_reptile_align.fasta\n",
      "# output HMM file:                  12S_reptile_ref.hmm\n",
      "# - - - - - - - - - - - - - - - - - - - - - - - - - - - - - - - - - - - -\n",
      "\n",
      "# idx name                  nseq  alen  mlen     W eff_nseq re/pos description\n",
      "#---- -------------------- ----- ----- ----- ----- -------- ------ -----------\n",
      "1     400bp_reptile_align     80   926   926  1122     2.74  0.450 \n",
      "\n",
      "# CPU time: 0.36u 0.00s 00:00:00.36 Elapsed: 00:00:00.37\n"
     ]
    }
   ],
   "source": [
    "!hmmbuild 12S_reptile_ref.hmm 400bp_reptile_align.fasta"
   ]
  },
  {
   "cell_type": "markdown",
   "metadata": {},
   "source": [
    "Now use hmmalign to align the short 12S rRNA sequences to the longer reference alignment."
   ]
  },
  {
   "cell_type": "code",
   "execution_count": 3,
   "metadata": {
    "collapsed": false
   },
   "outputs": [
    {
     "name": "stdout",
     "output_type": "stream",
     "text": [
      "# hmmalign :: align sequences to a profile HMM\r\n",
      "# HMMER 3.1b1 (May 2013); http://hmmer.org/\r\n",
      "# Copyright (C) 2013 Howard Hughes Medical Institute.\r\n",
      "# Freely distributed under the GNU General Public License (GPLv3).\r\n",
      "# - - - - - - - - - - - - - - - - - - - - - - - - - - - - - - - - - - - -\r\n",
      "Usage: hmmalign [-options] <hmmfile> <seqfile>\r\n",
      "\r\n",
      "Basic options:\r\n",
      "  -h     : show brief help on version and usage\r\n",
      "  -o <f> : output alignment to file <f>, not stdout\r\n",
      "\r\n",
      "Less common options:\r\n",
      "  --mapali <f>    : include alignment in file <f> (same ali that HMM came from)\r\n",
      "  --trim          : trim terminal tails of nonaligned residues from alignment\r\n",
      "  --amino         : assert <seqfile>, <hmmfile> both protein: no autodetection\r\n",
      "  --dna           : assert <seqfile>, <hmmfile> both DNA: no autodetection\r\n",
      "  --rna           : assert <seqfile>, <hmmfile> both RNA: no autodetection\r\n",
      "  --informat <s>  : assert <seqfile> is in format <s>: no autodetection\r\n",
      "  --outformat <s> : output alignment in format <s>  [Stockholm]\r\n",
      "\r\n",
      "Sequence input formats include:   FASTA, EMBL, GenBank, UniProt\r\n",
      "Alignment output formats include: Stockholm, Pfam, A2M, PSIBLAST\r\n",
      "\r\n"
     ]
    }
   ],
   "source": [
    "!hmmalign -h #for help"
   ]
  },
  {
   "cell_type": "code",
   "execution_count": 4,
   "metadata": {
    "collapsed": false
   },
   "outputs": [],
   "source": [
    "%%bash\n",
    "\n",
    "hmmalign -o 12S_reptile400bpref_plus_short_query.sto \\\n",
    "--mapali 400bp_reptile_align.fasta \\\n",
    "12S_reptile_ref.hmm reptile_short_to_align.fasta"
   ]
  },
  {
   "cell_type": "markdown",
   "metadata": {},
   "source": [
    "The hmmalign command has produced a file containing a new alignment of all 12S rRNA sequences (long and short) in stockholm output format. This must be converted to a more useful file format such as fasta or GenBank using the Seq command in BioPython."
   ]
  },
  {
   "cell_type": "code",
   "execution_count": 5,
   "metadata": {
    "collapsed": false
   },
   "outputs": [
    {
     "name": "stdout",
     "output_type": "stream",
     "text": [
      "Converted 113 records\n"
     ]
    }
   ],
   "source": [
    "from Bio import AlignIO\n",
    "\n",
    "input_file = open(\"12S_reptile400bpref_plus_short_query.sto\", \"rU\")\n",
    "output_file = open(\"12S_ReptileAlign_ALL.fasta\", \"w\")\n",
    "\n",
    "alignment = AlignIO.read(input_file, \"stockholm\")\n",
    "count = len(alignment)\n",
    "AlignIO.write(alignment, output_file, \"fasta\")\n",
    "\n",
    "output_file.close()\n",
    "input_file.close()\n",
    "print(\"Converted %i records\" % count)"
   ]
  },
  {
   "cell_type": "markdown",
   "metadata": {},
   "source": [
    "# Tree Building"
   ]
  },
  {
   "cell_type": "markdown",
   "metadata": {},
   "source": [
    "The fasta file containing the 12S rRNA reptile sequence alignment must now be converted into a format which can be used for alignment trimming. The alignment must be parsed to an alignment object, aln."
   ]
  },
  {
   "cell_type": "code",
   "execution_count": 6,
   "metadata": {
    "collapsed": true
   },
   "outputs": [],
   "source": [
    "from reprophylo import *"
   ]
  },
  {
   "cell_type": "code",
   "execution_count": 7,
   "metadata": {
    "collapsed": false
   },
   "outputs": [
    {
     "name": "stderr",
     "output_type": "stream",
     "text": [
      "DEBUG:Cloud:Log file (/root/.picloud/cloud.log) opened\n"
     ]
    }
   ],
   "source": [
    "pj=unpickle_pj('rep_nr.pkl', git=False)"
   ]
  },
  {
   "cell_type": "code",
   "execution_count": 8,
   "metadata": {
    "collapsed": false
   },
   "outputs": [
    {
     "name": "stdout",
     "output_type": "stream",
     "text": [
      "EU543221.1_f0 is 1036bp\n",
      "KX694573.1_f0 is 1036bp\n",
      "AY122682.1_f0 is 1036bp\n",
      "AY122780.1_f0 is 1036bp\n",
      "AY122836.1_f0 is 1036bp\n",
      "AB188189.1_f0 is 1036bp\n",
      "FJ460597.1_f0 is 1036bp\n",
      "AJ001471.1_f0 is 1036bp\n",
      "AJ001469.1_f0 is 1036bp\n",
      "AJ001472.1_f0 is 1036bp\n",
      "AJ001470.1_f0 is 1036bp\n",
      "AJ001468.1_f0 is 1036bp\n",
      "GQ142072.1_f0 is 1036bp\n",
      "KM401599.1_f0 is 1036bp\n",
      "KF781329.1_f0 is 1036bp\n",
      "AF149947.1_f0 is 1036bp\n",
      "KC990830.1_f0 is 1036bp\n",
      "AM176577.1_f0 is 1036bp\n",
      "AJ001480.1_f0 is 1036bp\n",
      "AF149959.1_f0 is 1036bp\n",
      "AF149961.1_f0 is 1036bp\n",
      "AF149958.1_f0 is 1036bp\n",
      "AF149962.1_f0 is 1036bp\n",
      "AF149960.1_f0 is 1036bp\n",
      "EU443256.1_f0 is 1036bp\n",
      "AY533105.1_f0 is 1036bp\n",
      "KF781663.1_f0 is 1036bp\n",
      "KF781660.1_f0 is 1036bp\n",
      "KF781661.1_f0 is 1036bp\n",
      "KF781662.1_f0 is 1036bp\n",
      "AY057792.1_f0 is 1036bp\n",
      "AY012114.1_f0 is 1036bp\n",
      "JX945964.1_f0 is 1036bp\n",
      "V00665.1_f0 is 1036bp\n",
      "X84382.1_f0 is 1036bp\n",
      "AY057793.1_f0 is 1036bp\n",
      "DQ874614.2_f0 is 1036bp\n",
      "KF781653.1_f0 is 1036bp\n",
      "KF781656.1_f0 is 1036bp\n",
      "KF781654.1_f0 is 1036bp\n",
      "AY057791.1_f0 is 1036bp\n",
      "M10217.1_f0 is 1036bp\n",
      "Y10943.1_f0 is 1036bp\n",
      "AY581639.1_f0 is 1036bp\n",
      "M27605.1_f0 is 1036bp\n",
      "AY581648.1_f0 is 1036bp\n",
      "AY581640.1_f0 is 1036bp\n",
      "AY581644.1_f0 is 1036bp\n",
      "AY581638.1_f0 is 1036bp\n",
      "HQ442366.1_f0 is 1036bp\n",
      "KC692465.1_f0 is 1036bp\n",
      "JN999703.2_f0 is 1036bp\n",
      "KF874616.1_f0 is 1036bp\n",
      "AF069423.1_f0 is 1036bp\n",
      "GU477770.1_f0 is 1036bp\n",
      "L28077.1_f0 is 1036bp\n",
      "KM216749.1_f0 is 1036bp\n",
      "KM216748.1_f0 is 1036bp\n",
      "FJ392294.1_f0 is 1036bp\n",
      "EF122793.1_f0 is 1036bp\n",
      "JN860636.1_f0 is 1036bp\n",
      "GU477775.1_f0 is 1036bp\n",
      "JX454969.1_f0 is 1036bp\n",
      "JX454972.1_f0 is 1036bp\n",
      "AB012104.1_f0 is 1036bp\n",
      "JX454990.1_f0 is 1036bp\n",
      "AY770536.1_f0 is 1036bp\n",
      "JX454976.1_f0 is 1036bp\n",
      "JX454971.1_f0 is 1036bp\n",
      "DQ533485.1_f0 is 1036bp\n",
      "JX454986.1_f0 is 1036bp\n",
      "JX454980.1_f0 is 1036bp\n",
      "JX454970.1_f0 is 1036bp\n",
      "KP221806.1_f0 is 1036bp\n",
      "JX454981.1_f0 is 1036bp\n",
      "KP256531.1_f0 is 1036bp\n",
      "JX454984.1_f0 is 1036bp\n",
      "JX454983.1_f0 is 1036bp\n",
      "AY770537.1_f0 is 1036bp\n",
      "JX454977.1_f0 is 1036bp\n",
      "AY151988.1_f0 is 1036bp\n",
      "KX080575.1_f0 is 1036bp\n",
      "HG802830.1_f0 is 1036bp\n",
      "AY151993.1_f0 is 1036bp\n",
      "HG802772.1_f0 is 1036bp\n",
      "DQ081074.1_f0 is 1036bp\n",
      "U81335.1_f0 is 1036bp\n",
      "KT030712.1_f0 is 1036bp\n",
      "EF027342.1_f0 is 1036bp\n",
      "AY151990.1_f0 is 1036bp\n",
      "FJ039991.1_f0 is 1036bp\n",
      "AB090021.1_f0 is 1036bp\n",
      "HG802786.1_f0 is 1036bp\n",
      "AY151992.1_f0 is 1036bp\n",
      "AF080277.1_f0 is 1036bp\n",
      "DQ081073.1_f0 is 1036bp\n",
      "AF080334.1_f0 is 1036bp\n",
      "HG802805.1_f0 is 1036bp\n",
      "U81329.1_f0 is 1036bp\n",
      "HQ681907.1_f0 is 1036bp\n",
      "AF080298.1_f0 is 1036bp\n",
      "KX694589.1_f0 is 1036bp\n",
      "HQ681908.1_f0 is 1036bp\n",
      "U81328.1_f0 is 1036bp\n",
      "U81340.1_f0 is 1036bp\n",
      "EU624267.1_f0 is 1036bp\n",
      "KT030713.1_f0 is 1036bp\n",
      "AB090043.1_f0 is 1036bp\n",
      "KX080601.1_f0 is 1036bp\n",
      "AF158461.1_f0 is 1036bp\n",
      "KX080576.1_f0 is 1036bp\n",
      "JQ287761.1_f0 is 1036bp\n",
      "M13046.1_f0 is 1036bp\n"
     ]
    }
   ],
   "source": [
    "from Bio import AlignIO\n",
    "from Bio.Alphabet import generic_dna\n",
    "\n",
    "aln = AlignIO.read(open(\"12S_reptile400bpref_plus_short_query.sto\"), \"stockholm\", alphabet=generic_dna)\n",
    "for r in aln:\n",
    "    print(r.id + \" is \" + str(len(r)) + \"bp\")"
   ]
  },
  {
   "cell_type": "code",
   "execution_count": 9,
   "metadata": {
    "collapsed": true
   },
   "outputs": [],
   "source": [
    "pj.alignments['rrnS@reptile_align_allseq'] = aln"
   ]
  },
  {
   "cell_type": "code",
   "execution_count": 10,
   "metadata": {
    "collapsed": false
   },
   "outputs": [
    {
     "data": {
      "text/plain": [
       "{'rrnS@muscleDefault': <<class 'Bio.Align.MultipleSeqAlignment'> instance (80 records of length 1056, IUPACProtein()) at 7f94b5975390>,\n",
       " 'rrnS@reptile_align_allseq': <<class 'Bio.Align.MultipleSeqAlignment'> instance (113 records of length 1036, DNAAlphabet()) at 7f94b5b9a490>}"
      ]
     },
     "execution_count": 10,
     "metadata": {},
     "output_type": "execute_result"
    }
   ],
   "source": [
    "pj.alignments"
   ]
  },
  {
   "cell_type": "code",
   "execution_count": 11,
   "metadata": {
    "collapsed": false
   },
   "outputs": [
    {
     "data": {
      "text/plain": [
       "['rrnS@reptile_align_allseq', 'rrnS@muscleDefault']"
      ]
     },
     "execution_count": 11,
     "metadata": {},
     "output_type": "execute_result"
    }
   ],
   "source": [
    "pj.alignments.keys()"
   ]
  },
  {
   "cell_type": "markdown",
   "metadata": {},
   "source": [
    "The alignment needs trimming and removal of gaps within sequences. The cell below contains the reprophylo solution for clipping the alignment - the default gappyout algorithm.\n",
    "\n",
    "With TrimalConf, instead of specifying loci names, we provide alignment names, as they appear in the keys of pj.alignments."
   ]
  },
  {
   "cell_type": "code",
   "execution_count": 12,
   "metadata": {
    "collapsed": false
   },
   "outputs": [
    {
     "name": "stdout",
     "output_type": "stream",
     "text": [
      "trimal -in 985621477496703.64_rrnS@reptile_align_allseq.fasta -gappyout\n"
     ]
    }
   ],
   "source": [
    "gappyout = TrimalConf(pj,                      # The Project\n",
    "\n",
    "                      method_name='gappyout',  # Any unique string \n",
    "                                               # ('gappyout' is default)\n",
    "\n",
    "                      program_name='trimal',   # No alternatives in \n",
    "                                               # this ReproPhylo version\n",
    "\n",
    "                      cmd='default',           # the default is trimal. \n",
    "                                               # Change it here\n",
    "                                               # or in pj.defaults['trimal']\n",
    "\n",
    "                      alns=['rrnS@reptile_align_allseq'],# 'all' by default\n",
    "\n",
    "                      trimal_commands={'gappyout': True} # By default, the gappyout algorithm is used.\n",
    "                      )"
   ]
  },
  {
   "cell_type": "code",
   "execution_count": 13,
   "metadata": {
    "collapsed": true
   },
   "outputs": [],
   "source": [
    "pj.trim([gappyout])"
   ]
  },
  {
   "cell_type": "code",
   "execution_count": 14,
   "metadata": {
    "collapsed": false
   },
   "outputs": [
    {
     "name": "stdout",
     "output_type": "stream",
     "text": [
      "TrimalConf named gappyout with ID 985621477496703.64\n",
      "Alignments: rrnS@reptile_align_allseq \n",
      "Created on: Wed Oct 26 15:45:03 2016\n",
      "Commands:\n",
      "rrnS@reptile_align_allseq@gappyout: trimal -in 985621477496703.64_rrnS@reptile_align_allseq.fasta -gappyout\n",
      "\n",
      "Environment:Platform: Linux-4.4.0-38-generic-x86_64-with-Ubuntu-14.04-trusty\n",
      " Processor: x86_64\n",
      " Python build: defaultMar 22 2014 22:59:56\n",
      " Python compiler: GCC 4.8.2\n",
      " Python implementation: CPython\n",
      " Python version: 2.7.6\n",
      " ete2 version: 2.2.1072\n",
      " biopython version: 1.68\n",
      " dendropy version: 3.12.2\n",
      " cloud version: 2.8.5\n",
      " reprophylo version 1.3\n",
      " User: biopc4\n",
      " Program and version: trimAl 1.2rev59\n",
      " Program reference: Salvador Capella-Gutierrez; Jose M. Silla-Martinez; Toni Gabaldon. trimAl: a tool for automated alignment trimming in large-scale phylogenetic analyses. Bioinformatics 2009 25: 1972-1973.\n",
      "execution time:\n",
      "0.930802106857\n",
      "\n",
      "==============================\n",
      "Core Methods section sentence:\n",
      "==============================\n",
      "The alignment(s) rrnS@reptile_align_allseq were trimmed using the program trimAl 1.2rev59 [1].\n",
      "\n",
      "Reference:\n",
      "Salvador Capella-Gutierrez; Jose M. Silla-Martinez; Toni Gabaldon. trimAl: a tool for automated alignment trimming in large-scale phylogenetic analyses. Bioinformatics 2009 25: 1972-1973.\n",
      "\n"
     ]
    }
   ],
   "source": [
    "print pj.used_methods['gappyout']"
   ]
  },
  {
   "cell_type": "markdown",
   "metadata": {},
   "source": [
    "The trimmed alignments themselves are stored in the pj.trimmed_alignments dictionary, using keys."
   ]
  },
  {
   "cell_type": "code",
   "execution_count": 15,
   "metadata": {
    "collapsed": false
   },
   "outputs": [
    {
     "data": {
      "text/plain": [
       "{'rrnS@muscleDefault@gappyout': <<class 'Bio.Align.MultipleSeqAlignment'> instance (80 records of length 926, IUPACAmbiguousDNA()) at 7f94b64d8810>,\n",
       " 'rrnS@reptile_align_allseq@gappyout': <<class 'Bio.Align.MultipleSeqAlignment'> instance (113 records of length 926, IUPACAmbiguousDNA()) at 7f94b5bab5d0>}"
      ]
     },
     "execution_count": 15,
     "metadata": {},
     "output_type": "execute_result"
    }
   ],
   "source": [
    "pj.trimmed_alignments"
   ]
  },
  {
   "cell_type": "markdown",
   "metadata": {},
   "source": [
    "Trimmed alignment text files can be dumped in any AlignIO format for usage in an external command line or GUI program. When writing to files, you can control the header of the sequence by, for example, adding the organism name of the gene name, or by replacing the feature ID with the record ID:"
   ]
  },
  {
   "cell_type": "code",
   "execution_count": 16,
   "metadata": {
    "collapsed": false
   },
   "outputs": [
    {
     "data": {
      "text/plain": [
       "['rrnS@reptile_align_allseq@gappyout_trimmed_aln.fasta',\n",
       " 'rrnS@muscleDefault@gappyout_trimmed_aln.fasta']"
      ]
     },
     "execution_count": 16,
     "metadata": {},
     "output_type": "execute_result"
    }
   ],
   "source": [
    "files = pj.write_trimmed_alns(id=['record_id','source_organism'],\n",
    "                                   format='fasta')\n",
    "files"
   ]
  },
  {
   "cell_type": "markdown",
   "metadata": {},
   "source": [
    "Write clipped alignment to file for downstream taxonomic curation using SATIVA."
   ]
  },
  {
   "cell_type": "code",
   "execution_count": 17,
   "metadata": {
    "collapsed": true
   },
   "outputs": [],
   "source": [
    "from Bio import AlignIO\n",
    "\n",
    "clipped_aln = pj.trimmed_alignments[\"rrnS@reptile_align_allseq@gappyout\"]"
   ]
  },
  {
   "cell_type": "code",
   "execution_count": 18,
   "metadata": {
    "collapsed": true
   },
   "outputs": [],
   "source": [
    "out=open('trimmed_reptile_align_ALL.phy', 'w')\n",
    "AlignIO.write(clipped_aln, out, 'phylip-relaxed')\n",
    "out.close()"
   ]
  },
  {
   "cell_type": "markdown",
   "metadata": {},
   "source": [
    "SATIVA requires a taxonomic file that has been generated from a genbank file containing all record IDs included in the trimmed alignment.\n",
    "\n",
    "First, the alignment must be parsed in fasta format and record IDs altered to contain only the ID as entered on genbank e.g. EU116957.1\n",
    "\n",
    "Next, the record IDs must be extracted from the trimmed alignment file."
   ]
  },
  {
   "cell_type": "code",
   "execution_count": 19,
   "metadata": {
    "collapsed": false
   },
   "outputs": [
    {
     "name": "stdout",
     "output_type": "stream",
     "text": [
      "EU543221.1\n",
      "KX694573.1\n",
      "AY122682.1\n",
      "AY122780.1\n",
      "AY122836.1\n",
      "AB188189.1\n",
      "FJ460597.1\n",
      "AJ001471.1\n",
      "AJ001469.1\n",
      "AJ001472.1\n",
      "AJ001470.1\n",
      "AJ001468.1\n",
      "GQ142072.1\n",
      "KM401599.1\n",
      "KF781329.1\n",
      "AF149947.1\n",
      "KC990830.1\n",
      "AM176577.1\n",
      "AJ001480.1\n",
      "AF149959.1\n",
      "AF149961.1\n",
      "AF149958.1\n",
      "AF149962.1\n",
      "AF149960.1\n",
      "EU443256.1\n",
      "AY533105.1\n",
      "KF781663.1\n",
      "KF781660.1\n",
      "KF781661.1\n",
      "KF781662.1\n",
      "AY057792.1\n",
      "AY012114.1\n",
      "JX945964.1\n",
      "V00665.1\n",
      "X84382.1\n",
      "AY057793.1\n",
      "DQ874614.2\n",
      "KF781653.1\n",
      "KF781656.1\n",
      "KF781654.1\n",
      "AY057791.1\n",
      "M10217.1\n",
      "Y10943.1\n",
      "AY581639.1\n",
      "M27605.1\n",
      "AY581648.1\n",
      "AY581640.1\n",
      "AY581644.1\n",
      "AY581638.1\n",
      "HQ442366.1\n",
      "KC692465.1\n",
      "JN999703.2\n",
      "KF874616.1\n",
      "AF069423.1\n",
      "GU477770.1\n",
      "L28077.1\n",
      "KM216749.1\n",
      "KM216748.1\n",
      "FJ392294.1\n",
      "EF122793.1\n",
      "JN860636.1\n",
      "GU477775.1\n",
      "JX454969.1\n",
      "JX454972.1\n",
      "AB012104.1\n",
      "JX454990.1\n",
      "AY770536.1\n",
      "JX454976.1\n",
      "JX454971.1\n",
      "DQ533485.1\n",
      "JX454986.1\n",
      "JX454980.1\n",
      "JX454970.1\n",
      "KP221806.1\n",
      "JX454981.1\n",
      "KP256531.1\n",
      "JX454984.1\n",
      "JX454983.1\n",
      "AY770537.1\n",
      "JX454977.1\n",
      "AY151988.1\n",
      "KX080575.1\n",
      "HG802830.1\n",
      "AY151993.1\n",
      "HG802772.1\n",
      "DQ081074.1\n",
      "U81335.1\n",
      "KT030712.1\n",
      "EF027342.1\n",
      "AY151990.1\n",
      "FJ039991.1\n",
      "AB090021.1\n",
      "HG802786.1\n",
      "AY151992.1\n",
      "AF080277.1\n",
      "DQ081073.1\n",
      "AF080334.1\n",
      "HG802805.1\n",
      "U81329.1\n",
      "HQ681907.1\n",
      "AF080298.1\n",
      "KX694589.1\n",
      "HQ681908.1\n",
      "U81328.1\n",
      "U81340.1\n",
      "EU624267.1\n",
      "KT030713.1\n",
      "AB090043.1\n",
      "KX080601.1\n",
      "AF158461.1\n",
      "KX080576.1\n",
      "JQ287761.1\n",
      "M13046.1\n"
     ]
    }
   ],
   "source": [
    "from Bio import AlignIO\n",
    "from Bio.Alphabet import generic_dna\n",
    "\n",
    "input_file = AlignIO.read(open(\"rrnS@reptile_align_allseq@gappyout_trimmed_aln.fasta\"), \"fasta\")#, alphabet=generic_dna)\n",
    "\n",
    "to_keep = []\n",
    "\n",
    "for r in input_file:\n",
    "    record_id = \"_\".join(r.id.split(\"_\")[:-1])\n",
    "    print record_id\n",
    "    to_keep.append(record_id)"
   ]
  },
  {
   "cell_type": "markdown",
   "metadata": {},
   "source": [
    "You must create an empty list in which the record IDs in pj.records that match the record IDs from the trimmed alignment can be stored and then written out in a reduced genbank file."
   ]
  },
  {
   "cell_type": "code",
   "execution_count": 20,
   "metadata": {
    "collapsed": false
   },
   "outputs": [
    {
     "name": "stdout",
     "output_type": "stream",
     "text": [
      "AY151988.1\n",
      "KX080575.1\n",
      "HG802830.1\n",
      "AJ001471.1\n",
      "JX454972.1\n",
      "GQ142072.1\n",
      "KM401599.1\n",
      "KF781329.1\n",
      "JX454980.1\n",
      "AY151993.1\n",
      "JX454970.1\n",
      "JX454976.1\n",
      "AJ001480.1\n",
      "HG802772.1\n",
      "AF149947.1\n",
      "KP221806.1\n",
      "DQ081074.1\n",
      "U81335.1\n",
      "L28077.1\n",
      "KT030712.1\n",
      "JX454990.1\n",
      "AJ001472.1\n",
      "EF027342.1\n",
      "AJ001470.1\n",
      "AY151990.1\n",
      "AF149962.1\n",
      "FJ039991.1\n",
      "AY770536.1\n",
      "AB090021.1\n",
      "JX454983.1\n",
      "HG802786.1\n",
      "AY151992.1\n",
      "AF149960.1\n",
      "KF874616.1\n",
      "AF080277.1\n",
      "EF122793.1\n",
      "JX454981.1\n",
      "HQ442366.1\n",
      "JX454986.1\n",
      "DQ081073.1\n",
      "AF080334.1\n",
      "HG802805.1\n",
      "U81329.1\n",
      "KX694573.1\n",
      "GU477775.1\n",
      "HQ681907.1\n",
      "KP256531.1\n",
      "KM216749.1\n",
      "AY122682.1\n",
      "AF149959.1\n",
      "AF069423.1\n",
      "AY770537.1\n",
      "JX454969.1\n",
      "FJ392294.1\n",
      "AF080298.1\n",
      "AF149961.1\n",
      "JX454984.1\n",
      "DQ533485.1\n",
      "KC990830.1\n",
      "EU443256.1\n",
      "FJ460597.1\n",
      "JN999703.2\n",
      "KX694589.1\n",
      "HQ681908.1\n",
      "AJ001468.1\n",
      "U81328.1\n",
      "JN860636.1\n",
      "EU543221.1\n",
      "U81340.1\n",
      "AM176577.1\n",
      "KC692465.1\n",
      "JX454971.1\n",
      "AY122780.1\n",
      "AF149958.1\n",
      "EU624267.1\n",
      "KT030713.1\n",
      "AB012104.1\n",
      "AB090043.1\n",
      "AY122836.1\n",
      "JX454977.1\n",
      "KX080601.1\n",
      "AF158461.1\n",
      "AJ001469.1\n",
      "GU477770.1\n",
      "KX080576.1\n",
      "KM216748.1\n",
      "KF781663.1\n",
      "KF781656.1\n",
      "AY012114.1\n",
      "AY581648.1\n",
      "M10217.1\n",
      "KF781660.1\n",
      "V00665.1\n",
      "X84382.1\n",
      "AY057792.1\n",
      "AB188189.1\n",
      "AY533105.1\n",
      "KF781661.1\n",
      "KF781654.1\n",
      "AY581639.1\n",
      "AY057793.1\n",
      "M27605.1\n",
      "AY057791.1\n",
      "JX945964.1\n",
      "JQ287761.1\n",
      "Y10943.1\n",
      "DQ874614.2\n",
      "AY581640.1\n",
      "AY581638.1\n",
      "AY581644.1\n",
      "M13046.1\n",
      "KF781653.1\n",
      "KF781662.1\n"
     ]
    }
   ],
   "source": [
    "out_gb = []\n",
    "\n",
    "for r in pj.records:\n",
    "    if r.id in to_keep:\n",
    "        out_gb.append(r)\n",
    "\n",
    "for r in out_gb:\n",
    "    print r.id\n",
    "    \n",
    "out = open(\"12S_preSATIVA_reptiles.gb\", \"w\")\n",
    "SeqIO.write(out_gb, out, \"genbank\")\n",
    "out.close()"
   ]
  },
  {
   "cell_type": "markdown",
   "metadata": {},
   "source": [
    "How to run SATIVA is described in a different notebook. It may be a good strategy to set this going now in a separate notebook. Then continue onwards in this notebook."
   ]
  },
  {
   "cell_type": "markdown",
   "metadata": {},
   "source": [
    "**===============================================================================================**"
   ]
  },
  {
   "cell_type": "markdown",
   "metadata": {},
   "source": [
    "Infer Maximum Likelihood tree based on the clipped alignment. We are going to use RAxML.\n",
    "\n",
    "Configure RAxML."
   ]
  },
  {
   "cell_type": "code",
   "execution_count": 21,
   "metadata": {
    "collapsed": false
   },
   "outputs": [
    {
     "name": "stdout",
     "output_type": "stream",
     "text": [
      "raxmlHPC-PTHREADS-SSE3 -f a -m GTRGAMMA -n 880361477496748.45_rrnS@reptile_align_allseq@gappyout0 -p 114 -s 880361477496748.45_rrnS@reptile_align_allseq@gappyout.fasta -T 5 -x 831 -N 100\n"
     ]
    }
   ],
   "source": [
    "raxml = RaxmlConf(pj, method_name='raxml-muscleDefault-trimmed',\n",
    "                  program_name='raxmlHPC-PTHREADS-SSE3',\n",
    "                  keepfiles=True,\n",
    "                  cmd='raxmlHPC-PTHREADS-SSE3',\n",
    "                  preset='fa',\n",
    "                  alns=['rrnS@reptile_align_allseq@gappyout'],\n",
    "                  model='GAMMA',\n",
    "                  threads=5,\n",
    "                  cline_args={'-#': 100})"
   ]
  },
  {
   "cell_type": "code",
   "execution_count": 22,
   "metadata": {
    "collapsed": false
   },
   "outputs": [],
   "source": [
    "pj.tree([raxml])"
   ]
  },
  {
   "cell_type": "code",
   "execution_count": 23,
   "metadata": {
    "collapsed": false
   },
   "outputs": [
    {
     "name": "stdout",
     "output_type": "stream",
     "text": [
      "RaxmlConf named raxml-muscleDefault-trimmed with ID 880361477496748.45\n",
      "Alignments: rrnS@reptile_align_allseq@gappyout \n",
      "Created on: Wed Oct 26 15:45:48 2016\n",
      "Commands:\n",
      "rrnS@reptile_align_allseq@gappyout:\n",
      "raxmlHPC-PTHREADS-SSE3 -f a -m GTRGAMMA -n 880361477496748.45_rrnS@reptile_align_allseq@gappyout0 -p 114 -s 880361477496748.45_rrnS@reptile_align_allseq@gappyout.fasta -T 5 -x 831 -N 100\n",
      "\n",
      "Environment:\n",
      "Platform: Linux-4.4.0-38-generic-x86_64-with-Ubuntu-14.04-trusty\n",
      " Processor: x86_64\n",
      " Python build: defaultMar 22 2014 22:59:56\n",
      " Python compiler: GCC 4.8.2\n",
      " Python implementation: CPython\n",
      " Python version: 2.7.6\n",
      " ete2 version: 2.2.1072\n",
      " biopython version: 1.68\n",
      " dendropy version: 3.12.2\n",
      " cloud version: 2.8.5\n",
      " reprophylo version 1.3\n",
      " User: biopc4\n",
      " Program and version: raxmlHPC-PTHREADS-SSE3RAxML version 8.0.12\n",
      " Program reference: A. Stamatakis: RAxML Version 8: A tool for Phylogenetic Analysis and Post-Analysis of Large Phylogenies. In Bioinformatics\n",
      " 2014.\n",
      "execution time:\n",
      "466.439891815\n",
      "\n",
      "==============================\n",
      "Core Methods section sentence:\n",
      "==============================\n",
      "Phylogenetic trees were reconstructed from the dataset(s) rrnS@reptile_align_allseq@gappyout using the program raxmlHPC-PTHREADS-SSE3RAxML version 8.0.12 [1].\n",
      "\n",
      "Reference:\n",
      "A. Stamatakis: RAxML Version 8: A tool for Phylogenetic Analysis and Post-Analysis of Large Phylogenies. In Bioinformatics, 2014.\n",
      "\n"
     ]
    }
   ],
   "source": [
    "print pj.used_methods['raxml-muscleDefault-trimmed']"
   ]
  },
  {
   "cell_type": "code",
   "execution_count": 24,
   "metadata": {
    "collapsed": false
   },
   "outputs": [
    {
     "data": {
      "text/plain": [
       "['rrnS@muscleDefault@gappyout@raxml-muscleDefault-trimmed',\n",
       " 'rrnS@reptile_align_allseq@gappyout@raxml-muscleDefault-trimmed']"
      ]
     },
     "execution_count": 24,
     "metadata": {},
     "output_type": "execute_result"
    }
   ],
   "source": [
    "pj.trees.keys()"
   ]
  },
  {
   "cell_type": "markdown",
   "metadata": {},
   "source": [
    "Pickle the project."
   ]
  },
  {
   "cell_type": "code",
   "execution_count": 25,
   "metadata": {
    "collapsed": false
   },
   "outputs": [
    {
     "data": {
      "text/plain": [
       "'rep_nr.pkl'"
      ]
     },
     "execution_count": 25,
     "metadata": {},
     "output_type": "execute_result"
    }
   ],
   "source": [
    "pickle_pj(pj, 'rep_nr.pkl')"
   ]
  },
  {
   "cell_type": "markdown",
   "metadata": {},
   "source": [
    "# Visualise tree"
   ]
  },
  {
   "cell_type": "markdown",
   "metadata": {},
   "source": [
    "Now let's visualize the tree.\n",
    "\n",
    "Prepare tree annotation:\n",
    " - define outgroups\n",
    " - specify support coloration"
   ]
  },
  {
   "cell_type": "code",
   "execution_count": 26,
   "metadata": {
    "collapsed": true
   },
   "outputs": [],
   "source": [
    "pj.add_qualifier_from_source('organism')"
   ]
  },
  {
   "cell_type": "code",
   "execution_count": 27,
   "metadata": {
    "collapsed": true
   },
   "outputs": [],
   "source": [
    "for species in ['Cottus','Mus','Xenopus']:\n",
    "    pj.if_this_then_that(species, 'organism', 'outgroup', 'outgroup',\n",
    "                         mode='part')"
   ]
  },
  {
   "cell_type": "code",
   "execution_count": 28,
   "metadata": {
    "collapsed": true
   },
   "outputs": [],
   "source": [
    "supports = {'black': [100,95],\n",
    "            'dimgray': [95,75],\n",
    "            'silver': [75,50]}"
   ]
  },
  {
   "cell_type": "code",
   "execution_count": 29,
   "metadata": {
    "collapsed": true
   },
   "outputs": [],
   "source": [
    "pj.clear_tree_annotations()\n",
    "pj.annotate('.', 'outgroup', 'outgroup', \n",
    "            ['source_organism', 'record_id'], \n",
    "            node_support_dict=supports, multifurc=10,\n",
    "            html='muscleDefault-trimmed-reptile-all-raxml.html')"
   ]
  },
  {
   "cell_type": "markdown",
   "metadata": {},
   "source": [
    "Check tree out. Have a think which sequences you would consider mislabelled and should better be removed from the reference database.\n",
    "\n",
    "Create a static copy of the tree (the last *.png with the expected alignment id) for later."
   ]
  },
  {
   "cell_type": "code",
   "execution_count": 30,
   "metadata": {
    "collapsed": true
   },
   "outputs": [],
   "source": [
    "%%bash\n",
    "\n",
    "last_png=$(ls -hlrt *rrnS@reptile_align_allseq@gappyout.png | tail -n 1 | perl -ne 'chomp; @a=split(\" \"); print \"$a[-1]\"')\n",
    "cp $last_png rrnS_muscleDefault-trimmed-reptile-all-raxml.png"
   ]
  },
  {
   "cell_type": "markdown",
   "metadata": {},
   "source": [
    "**========================================================================================**"
   ]
  },
  {
   "cell_type": "markdown",
   "metadata": {},
   "source": [
    "In the meantime we have run SATIVA on the alignment that was the basis of the above tree.\n",
    "\n",
    "Now we are going to highlight the records that SATIVA considers mislabelled in the tree. We are also going to add a heatmap to the tree illustrating the confidence that SATIVA has in a given call.\n",
    "\n",
    "Parse SATIVA output and record putatively mislabelled sequence records and the confidence of the call."
   ]
  },
  {
   "cell_type": "code",
   "execution_count": 31,
   "metadata": {
    "collapsed": true
   },
   "outputs": [],
   "source": [
    "rec_mislabelled = {}\n",
    "sativa=open('../SATIVA/12S.mis', 'r')\n",
    "\n",
    "for line in sativa:\n",
    "    if not line.startswith(\";\"):\n",
    "        rec_mislabelled[line.split(\"\\t\")[0]] = line.split(\"\\t\")[4]"
   ]
  },
  {
   "cell_type": "markdown",
   "metadata": {},
   "source": [
    "Add two new qualifiers containing info about the SATIVA results to the sequence features."
   ]
  },
  {
   "cell_type": "code",
   "execution_count": 32,
   "metadata": {
    "collapsed": true
   },
   "outputs": [],
   "source": [
    "for r in pj.records:\n",
    "    if r.id in rec_mislabelled:\n",
    "        for f in r.features:\n",
    "            f.qualifiers['mislabeled'] = ['yes']\n",
    "            f.qualifiers['mislabeled_conf'] = [rec_mislabelled[r.id]]\n",
    "    else:\n",
    "        for f in r.features:\n",
    "            f.qualifiers['mislabeled'] = ['no']\n",
    "            f.qualifiers['mislabeled_conf'] = [0.0001]"
   ]
  },
  {
   "cell_type": "code",
   "execution_count": 33,
   "metadata": {
    "collapsed": true
   },
   "outputs": [],
   "source": [
    "pj.propagate_metadata()"
   ]
  },
  {
   "cell_type": "markdown",
   "metadata": {},
   "source": [
    "Prepare tree annotation:\n",
    "\n",
    " - color records that were identified by SATIVA as being mislabelled.\n",
    " - add heatmap with mislabel confidence"
   ]
  },
  {
   "cell_type": "code",
   "execution_count": 34,
   "metadata": {
    "collapsed": true
   },
   "outputs": [],
   "source": [
    "leaf_colors = {'yes':'red', 'no': 'black'}\n",
    "bg_colors = {'yes':'red', 'no': 'white'}"
   ]
  },
  {
   "cell_type": "code",
   "execution_count": 35,
   "metadata": {
    "collapsed": true
   },
   "outputs": [],
   "source": [
    "pj.clear_tree_annotations()\n",
    "pj.annotate('.', 'outgroup', 'outgroup', \n",
    "            ['source_organism', 'record_id'], \n",
    "            node_support_dict=supports, multifurc=10,\n",
    "            html='rrnS_muscleDefault-trimmed-reptile-all-raxml-SATIVA.html',\n",
    "            fsize=13,\n",
    "            heat_map_meta = ['mislabeled_conf'], heat_map_colour_scheme = 1,\n",
    "            leaf_node_color_meta = 'mislabeled', leaf_label_colors = leaf_colors)"
   ]
  },
  {
   "cell_type": "code",
   "execution_count": 36,
   "metadata": {
    "collapsed": true
   },
   "outputs": [],
   "source": [
    "%%bash\n",
    "\n",
    "last_png=$(ls -hlrt *rrnS@reptile_align_allseq@gappyout.png | tail -n 1 | perl -ne 'chomp; @a=split(\" \"); print \"$a[-1]\"')\n",
    "cp $last_png rrnS_muscleDefault_trimmed_reptile_all_raxml_SATIVA_leaf_colored.png"
   ]
  }
 ],
 "metadata": {
  "kernelspec": {
   "display_name": "Python 2",
   "language": "python",
   "name": "python2"
  },
  "language_info": {
   "codemirror_mode": {
    "name": "ipython",
    "version": 2
   },
   "file_extension": ".py",
   "mimetype": "text/x-python",
   "name": "python",
   "nbconvert_exporter": "python",
   "pygments_lexer": "ipython2",
   "version": "2.7.6"
  }
 },
 "nbformat": 4,
 "nbformat_minor": 0
}
