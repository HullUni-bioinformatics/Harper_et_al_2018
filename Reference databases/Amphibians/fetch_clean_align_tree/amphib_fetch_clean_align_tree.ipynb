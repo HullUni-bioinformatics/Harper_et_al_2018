{
 "cells": [
  {
   "cell_type": "code",
   "execution_count": 2,
   "metadata": {
    "collapsed": true
   },
   "outputs": [],
   "source": [
    "from reprophylo import *"
   ]
  },
  {
   "cell_type": "code",
   "execution_count": 2,
   "metadata": {
    "collapsed": false
   },
   "outputs": [
    {
     "name": "stdout",
     "output_type": "stream",
     "text": [
      "Alytes obstetricans\r\n",
      "Discoglossus pictus\r\n",
      "Bombina bombina\r\n",
      "Bombina variegata\r\n",
      "Bufo bufo\r\n",
      "Epidalea calamita\r\n",
      "Hyla arborea\r\n",
      "Xenopus laevis\r\n",
      "Lithobates catesbeianus\r\n",
      "Pelophylax esculentus\r\n"
     ]
    }
   ],
   "source": [
    "!head ../fetch_clean_align_tree/UK_Amphibian_Species_List.txt"
   ]
  },
  {
   "cell_type": "code",
   "execution_count": 3,
   "metadata": {
    "collapsed": false
   },
   "outputs": [
    {
     "name": "stdout",
     "output_type": "stream",
     "text": [
      "\n",
      "metaBEAT may be querying NCBI's Entrez databases to fetch/verify taxonomic ids. Entrez User requirements state that you need to identify yourself by providing an email address so that NCBI can contact you in case there is a problem.\n",
      "\n",
      "You have specified: 'L.Harper@2015.hull.ac.uk'\n",
      "\n",
      "\n",
      "QUERYING GENBANK\n",
      "\n",
      "check for synonyms for \"12S\" (this is relevant only for Genbank searches)\n",
      "\n",
      "fetching accessions ..\n",
      "\n",
      "#\tAlytes obstetricans\t21\n",
      "#\tBombina bombina\t10\n",
      "#\tBombina variegata\t21\n",
      "#\tBufo bufo\t5\n",
      "#\tDiscoglossus pictus\t25\n",
      "#\tEpidalea calamita\t4\n",
      "#\tHydromantes genei\t22\n",
      "#\tHyla arborea\t11\n",
      "#\tLissotriton helveticus\t1\n",
      "#\tLissotriton vulgaris\t3\n",
      "#\tLithobates catesbeianus\t15\n",
      "#\tMesotriton alpestris\t3\n",
      "#\tPelophylax esculentus\t3\n",
      "#\tPelophylax lessonae\t10\n",
      "#\tPelophylax ridibundus\t17\n",
      "#\tRana dalmatina\t2\n",
      "#\tRana temporaria\t39\n",
      "#\tSalamandra salamandra\t45\n",
      "#\tTriturus carnifex\t3\n",
      "#\tTriturus cristatus\t4\n",
      "#\tXenopus laevis\t20\n",
      "\n",
      "total number of accessions fetched: 284\n",
      "\n",
      "\n",
      "downloading 284 records .. processing 1000 accessions per batch\n",
      "\n",
      "[Wed Oct 26 2016 10:41:16]\tbatch: 0000001\t284 unique records downloaded\t-> UK_amphib_12S_Genbank_raw.0000001.gb\t(total: 284 (100.00 %); remaining: 0 -> DONE!)\n",
      "\n",
      "Concatenate all files\t-> UK_amphib_12S_Genbank_raw.gb\n",
      "\n"
     ]
    }
   ],
   "source": [
    "!fetch_from_db.py -t ../fetch_clean_align_tree/UK_Amphibian_Species_List.txt -m 12S -o UK_amphib_12S_Genbank_raw -@ L.Harper@2015.hull.ac.uk"
   ]
  },
  {
   "cell_type": "markdown",
   "metadata": {},
   "source": [
    "Read reference sequences into ReproPhylo and filter to keep only proper 12S records."
   ]
  },
  {
   "cell_type": "code",
   "execution_count": 4,
   "metadata": {
    "collapsed": true
   },
   "outputs": [],
   "source": [
    "list_loci_in_genbank('UK_amphib_12S_Genbank_raw.gb', # The input genbank file\n",
    "                     'loci.csv',                     # The loci file\n",
    "                     'loci_counts.txt')"
   ]
  },
  {
   "cell_type": "markdown",
   "metadata": {},
   "source": [
    "Write counts of loci to a text file."
   ]
  },
  {
   "cell_type": "code",
   "execution_count": 5,
   "metadata": {
    "collapsed": false
   },
   "outputs": [
    {
     "name": "stdout",
     "output_type": "stream",
     "text": [
      "Could not find either gene or product in M10217.1\r\n",
      "Could not find either gene or product in M10217.1\r\n",
      "Could not find either gene or product in M10217.1\r\n",
      "Could not find either gene or product in M10217.1\r\n",
      "Could not find either gene or product in M10217.1\r\n",
      "Could not find either gene or product in M10188.1\r\n",
      "Could not find either gene or product in M10188.1\r\n",
      "\r\n",
      "There are 57 gene names (or gene product names) detected\r\n",
      "----------------------------------\r\n",
      "Gene and count sorted by gene name\r\n",
      "----------------------------------\r\n",
      "1 instances of CDS,atp6\r\n",
      "28 instances of CDS,ATP6\r\n",
      "28 instances of CDS,ATP8\r\n",
      "1 instances of CDS,atp8\r\n",
      "1 instances of CDS,ATPase subunit 6\r\n",
      "1 instances of CDS,cob\r\n",
      "6 instances of CDS,COI\r\n",
      "6 instances of CDS,COII\r\n",
      "6 instances of CDS,COIII\r\n",
      "1 instances of CDS,cox1\r\n",
      "22 instances of CDS,COX1\r\n",
      "1 instances of CDS,cox2\r\n",
      "22 instances of CDS,COX2\r\n",
      "1 instances of CDS,cox3\r\n",
      "22 instances of CDS,COX3\r\n",
      "1 instances of CDS,cytb\r\n",
      "28 instances of CDS,CYTB\r\n",
      "5 instances of CDS,cytochrome b\r\n",
      "1 instances of CDS,cytochrome c oxidase subunit I\r\n",
      "1 instances of CDS,cytochrome c oxidase subunit II\r\n",
      "1 instances of CDS,cytochrome c oxidase subunit III\r\n",
      "1 instances of CDS,eral1.L\r\n",
      "1 instances of CDS,mst1.L\r\n",
      "1 instances of CDS,mst1.S\r\n",
      "1 instances of CDS,nad1\r\n",
      "1 instances of CDS,nad2\r\n",
      "1 instances of CDS,nad3\r\n",
      "1 instances of CDS,nad4\r\n",
      "1 instances of CDS,nad4L\r\n",
      "1 instances of CDS,nad5\r\n",
      "1 instances of CDS,nad6\r\n",
      "1 instances of CDS,NADH dehydrogenase 1\r\n",
      "1 instances of CDS,NADH dehydrogenase subunit 4\r\n",
      "1 instances of CDS,NADH1\r\n",
      "1 instances of CDS,NADH2\r\n",
      "1 instances of CDS,NADH3\r\n",
      "1 instances of CDS,NADH4\r\n",
      "1 instances of CDS,NADH4L\r\n",
      "1 instances of CDS,NADH5\r\n",
      "1 instances of CDS,NADH6\r\n",
      "27 instances of CDS,ND1\r\n",
      "27 instances of CDS,ND2\r\n",
      "27 instances of CDS,ND3\r\n",
      "27 instances of CDS,ND4\r\n",
      "27 instances of CDS,ND4L\r\n",
      "27 instances of CDS,ND5\r\n",
      "27 instances of CDS,ND6\r\n",
      "1 instances of CDS,NDI\r\n",
      "1 instances of CDS,ORF 3\r\n",
      "1 instances of CDS,tfb1m.L\r\n",
      "227 instances of rRNA,12S ribosomal RNA\r\n",
      "1 instances of rRNA,12S ribosormal RNA\r\n",
      "13 instances of rRNA,12S rRNA\r\n",
      "84 instances of rRNA,16S ribosomal RNA\r\n",
      "8 instances of rRNA,16S rRNA\r\n",
      "4 instances of rRNA,l-rRNA\r\n",
      "4 instances of rRNA,s-rRNA\r\n",
      "-------------------------------\r\n",
      "Gene and count sorted by counts\r\n",
      "-------------------------------\r\n",
      "227 instances of rRNA,12S ribosomal RNA\r\n",
      "84 instances of rRNA,16S ribosomal RNA\r\n",
      "28 instances of CDS,ATP6\r\n",
      "28 instances of CDS,ATP8\r\n",
      "28 instances of CDS,CYTB\r\n",
      "27 instances of CDS,ND1\r\n",
      "27 instances of CDS,ND2\r\n",
      "27 instances of CDS,ND3\r\n",
      "27 instances of CDS,ND4\r\n",
      "27 instances of CDS,ND4L\r\n",
      "27 instances of CDS,ND5\r\n",
      "27 instances of CDS,ND6\r\n",
      "22 instances of CDS,COX1\r\n",
      "22 instances of CDS,COX2\r\n",
      "22 instances of CDS,COX3\r\n",
      "13 instances of rRNA,12S rRNA\r\n",
      "8 instances of rRNA,16S rRNA\r\n",
      "6 instances of CDS,COI\r\n",
      "6 instances of CDS,COII\r\n",
      "6 instances of CDS,COIII\r\n",
      "5 instances of CDS,cytochrome b\r\n",
      "4 instances of rRNA,l-rRNA\r\n",
      "4 instances of rRNA,s-rRNA\r\n",
      "1 instances of CDS,atp6\r\n",
      "1 instances of CDS,atp8\r\n",
      "1 instances of CDS,ATPase subunit 6\r\n",
      "1 instances of CDS,cob\r\n",
      "1 instances of CDS,cox1\r\n",
      "1 instances of CDS,cox2\r\n",
      "1 instances of CDS,cox3\r\n",
      "1 instances of CDS,cytb\r\n",
      "1 instances of CDS,cytochrome c oxidase subunit I\r\n",
      "1 instances of CDS,cytochrome c oxidase subunit II\r\n",
      "1 instances of CDS,cytochrome c oxidase subunit III\r\n",
      "1 instances of CDS,eral1.L\r\n",
      "1 instances of CDS,mst1.L\r\n",
      "1 instances of CDS,mst1.S\r\n",
      "1 instances of CDS,nad1\r\n",
      "1 instances of CDS,nad2\r\n",
      "1 instances of CDS,nad3\r\n",
      "1 instances of CDS,nad4\r\n",
      "1 instances of CDS,nad4L\r\n",
      "1 instances of CDS,nad5\r\n",
      "1 instances of CDS,nad6\r\n",
      "1 instances of CDS,NADH dehydrogenase 1\r\n",
      "1 instances of CDS,NADH dehydrogenase subunit 4\r\n",
      "1 instances of CDS,NADH1\r\n",
      "1 instances of CDS,NADH2\r\n",
      "1 instances of CDS,NADH3\r\n",
      "1 instances of CDS,NADH4\r\n",
      "1 instances of CDS,NADH4L\r\n",
      "1 instances of CDS,NADH5\r\n",
      "1 instances of CDS,NADH6\r\n",
      "1 instances of CDS,NDI\r\n",
      "1 instances of CDS,ORF 3\r\n",
      "1 instances of CDS,tfb1m.L\r\n",
      "1 instances of rRNA,12S ribosormal RNA\r\n"
     ]
    }
   ],
   "source": [
    "!cat loci_counts.txt"
   ]
  },
  {
   "cell_type": "markdown",
   "metadata": {},
   "source": [
    "Write loci and associated counts to a csv file."
   ]
  },
  {
   "cell_type": "code",
   "execution_count": 6,
   "metadata": {
    "collapsed": false
   },
   "outputs": [
    {
     "name": "stdout",
     "output_type": "stream",
     "text": [
      "dna,rRNA,12S_ribosormal_RNA,12S ribosormal RNA\r\n",
      "dna,CDS,ATPase_subunit_6,ATPase subunit 6\r\n",
      "dna,CDS,MT-ATP6,atp6,ATP6\r\n",
      "dna,CDS,MT-ATP8,ATP8,atp8\r\n",
      "dna,CDS,MT-CO1,COI,cox1,COX1,cytochrome c oxidase subunit I\r\n",
      "dna,CDS,MT-CO2,COII,cox2,COX2,cytochrome c oxidase subunit II\r\n",
      "dna,CDS,MT-CO3,COIII,cox3,COX3,cytochrome c oxidase subunit III\r\n",
      "dna,CDS,MT-CYB,cytb,CYTB,cytochrome b\r\n",
      "dna,CDS,MT-ND1,nad1,NADH1,ND1\r\n",
      "dna,CDS,MT-ND2,nad2,NADH2,ND2\r\n",
      "dna,CDS,MT-ND3,nad3,NADH3,ND3\r\n",
      "dna,CDS,MT-ND4,nad4,NADH dehydrogenase subunit 4,NADH4,ND4\r\n",
      "dna,CDS,MT-ND4L,ND4L\r\n",
      "dna,CDS,MT-ND5,nad5,NADH5,ND5\r\n",
      "dna,CDS,MT-ND6,nad6,NADH6,ND6\r\n",
      "dna,CDS,NADH4L,NADH4L\r\n",
      "dna,CDS,NADH_dehydrogenase_1,NADH dehydrogenase 1\r\n",
      "dna,CDS,NDI,NDI\r\n",
      "dna,CDS,ORF_3,ORF 3\r\n",
      "dna,CDS,cob,cob\r\n",
      "dna,CDS,eral1.L,eral1.L\r\n",
      "dna,rRNA,l-rRNA,l-rRNA\r\n",
      "dna,CDS,mst1.L,mst1.L\r\n",
      "dna,CDS,mst1.S,mst1.S\r\n",
      "dna,CDS,nad4L,nad4L\r\n",
      "dna,rRNA,rrnL,16S ribosomal RNA,16S rRNA\r\n",
      "dna,rRNA,rrnS,12S ribosomal RNA,12S rRNA\r\n",
      "dna,rRNA,s-rRNA,s-rRNA\r\n",
      "dna,CDS,tfb1m.L,tfb1m.L\r\n"
     ]
    }
   ],
   "source": [
    "!cat loci.csv"
   ]
  },
  {
   "cell_type": "markdown",
   "metadata": {},
   "source": [
    "Extract all synonyms for '12S' and write to text file."
   ]
  },
  {
   "cell_type": "code",
   "execution_count": 7,
   "metadata": {
    "collapsed": false
   },
   "outputs": [
    {
     "name": "stdout",
     "output_type": "stream",
     "text": [
      "Writing target_locus.csv\n"
     ]
    }
   ],
   "source": [
    "%%file target_locus.csv\n",
    "dna,rRNA,rrnS,12S ribosomal RNA,12S rRNA,1\n",
    "dna,rRNA,12S_ribosormal_RNA,12S ribosormal RNA,1\n",
    "dna,rRNA,s-rRNA,s-rRNA,1"
   ]
  },
  {
   "cell_type": "code",
   "execution_count": 8,
   "metadata": {
    "collapsed": false
   },
   "outputs": [
    {
     "name": "stdout",
     "output_type": "stream",
     "text": [
      "dna,rRNA,rrnS,12S ribosomal RNA,12S rRNA,1\r\n",
      "dna,rRNA,12S_ribosormal_RNA,12S ribosormal RNA,1\r\n",
      "dna,rRNA,s-rRNA,s-rRNA,1"
     ]
    }
   ],
   "source": [
    "!cat target_locus.csv"
   ]
  },
  {
   "cell_type": "markdown",
   "metadata": {},
   "source": [
    "Now, repeat process and create outgroups that can be used for tree construction as reference points for all amphibian sequences. *Chelydra serpentina*, *Cottus gobio* and *Gallus gallus* are ideal outgroups and have been used in a well-referenced phylogenetic study of amphibians (Frost *et al.* 2006). Other studies have used *Homo* but this would cause major problems downstream with laboratory contamination. "
   ]
  },
  {
   "cell_type": "code",
   "execution_count": 9,
   "metadata": {
    "collapsed": false
   },
   "outputs": [
    {
     "name": "stdout",
     "output_type": "stream",
     "text": [
      "Writing outgroup.txt\n"
     ]
    }
   ],
   "source": [
    "%%file outgroup.txt\n",
    "Chelydra serpentina\n",
    "Cottus gobio\n",
    "Gallus gallus"
   ]
  },
  {
   "cell_type": "code",
   "execution_count": 10,
   "metadata": {
    "collapsed": false
   },
   "outputs": [
    {
     "name": "stdout",
     "output_type": "stream",
     "text": [
      "\n",
      "metaBEAT may be querying NCBI's Entrez databases to fetch/verify taxonomic ids. Entrez User requirements state that you need to identify yourself by providing an email address so that NCBI can contact you in case there is a problem.\n",
      "\n",
      "You have specified: 'L.Harper@2015.hull.ac.uk'\n",
      "\n",
      "\n",
      "QUERYING GENBANK\n",
      "\n",
      "check for synonyms for \"12S\" (this is relevant only for Genbank searches)\n",
      "\n",
      "fetching accessions ..\n",
      "\n",
      "#\tChelydra serpentina\t8\n",
      "#\tCottus gobio\t1\n",
      "#\tGallus gallus\t269\n",
      "\n",
      "total number of accessions fetched: 278\n",
      "\n",
      "\n",
      "downloading 278 records .. processing 1000 accessions per batch\n",
      "\n",
      "[Wed Oct 26 2016 10:41:28]\tbatch: 0000001\t278 unique records downloaded\t-> outgroups.0000001.gb\t(total: 278 (100.00 %); remaining: 0 -> DONE!)\n",
      "\n",
      "Concatenate all files\t-> outgroups.gb\n",
      "\n"
     ]
    }
   ],
   "source": [
    "!fetch_from_db.py -t ../fetch_clean_align_tree/outgroup.txt -m 12S -o outgroups -@ L.Harper@2015.hull.ac.uk"
   ]
  },
  {
   "cell_type": "code",
   "execution_count": 11,
   "metadata": {
    "collapsed": false
   },
   "outputs": [
    {
     "name": "stdout",
     "output_type": "stream",
     "text": [
      "Could not find either gene or product in X52392.1\n",
      "Could not find either gene or product in X52392.1\n",
      "Could not find either gene or product in X52392.1\n",
      "Could not find either gene or product in X52392.1\n",
      "Could not find either gene or product in X52392.1\n",
      "Could not find either gene or product in X52392.1\n",
      "Could not find either gene or product in X52392.1\n",
      "Could not find either gene or product in X52392.1\n",
      "Could not find either gene or product in X52392.1\n",
      "Could not find either gene or product in X52392.1\n",
      "\n",
      "There are 43 gene names (or gene product names) detected\n",
      "----------------------------------\n",
      "Gene and count sorted by gene name\n",
      "----------------------------------\n",
      "93 instances of CDS,ATP6\n",
      "93 instances of CDS,ATP8\n",
      "8 instances of CDS,ATPase 6\n",
      "1 instances of CDS,ATPase 8\n",
      "1 instances of CDS,ATPase subunit 6\n",
      "1 instances of CDS,ATPase subunit 8\n",
      "7 instances of CDS,ATPase8\n",
      "9 instances of CDS,COI\n",
      "9 instances of CDS,COII\n",
      "9 instances of CDS,COIII\n",
      "92 instances of CDS,COX1\n",
      "92 instances of CDS,COX2\n",
      "92 instances of CDS,COX3\n",
      "6 instances of CDS,cytb\n",
      "7 instances of CDS,Cytb\n",
      "93 instances of CDS,CYTB\n",
      "1 instances of CDS,cytochrome b\n",
      "1 instances of CDS,cytochrome oxidase subunit 1\n",
      "1 instances of CDS,cytochrome oxidase subunit 2\n",
      "1 instances of CDS,cytochrome oxidase subunit 3\n",
      "1 instances of CDS,cytochrome oxidase subunit I\n",
      "1 instances of CDS,cytochrome oxidase subunit III\n",
      "1 instances of CDS,ERAL1\n",
      "1 instances of CDS,NADH dehydrogenase subunit 1\n",
      "3 instances of CDS,NADH dehydrogenase subunit 2\n",
      "1 instances of CDS,NADH dehydrogenase subunit 3\n",
      "1 instances of CDS,NADH dehydrogenase subunit 4\n",
      "1 instances of CDS,NADH dehydrogenase subunit 4L\n",
      "1 instances of CDS,NADH dehydrogenase subunit 5\n",
      "1 instances of CDS,NADH dehydrogenase subunit 6\n",
      "1 instances of CDS,NADH dehydrogenase subunit IV\n",
      "101 instances of CDS,ND1\n",
      "99 instances of CDS,ND2\n",
      "98 instances of CDS,ND3\n",
      "101 instances of CDS,ND4\n",
      "101 instances of CDS,ND4L\n",
      "101 instances of CDS,ND5\n",
      "99 instances of CDS,ND6\n",
      "262 instances of rRNA,12S ribosomal RNA\n",
      "3 instances of rRNA,12S rRNA\n",
      "102 instances of rRNA,16S ribosomal RNA\n",
      "2 instances of rRNA,l-rRNA\n",
      "2 instances of rRNA,s-rRNA\n",
      "-------------------------------\n",
      "Gene and count sorted by counts\n",
      "-------------------------------\n",
      "262 instances of rRNA,12S ribosomal RNA\n",
      "102 instances of rRNA,16S ribosomal RNA\n",
      "101 instances of CDS,ND1\n",
      "101 instances of CDS,ND4\n",
      "101 instances of CDS,ND4L\n",
      "101 instances of CDS,ND5\n",
      "99 instances of CDS,ND2\n",
      "99 instances of CDS,ND6\n",
      "98 instances of CDS,ND3\n",
      "93 instances of CDS,ATP6\n",
      "93 instances of CDS,ATP8\n",
      "93 instances of CDS,CYTB\n",
      "92 instances of CDS,COX1\n",
      "92 instances of CDS,COX2\n",
      "92 instances of CDS,COX3\n",
      "9 instances of CDS,COI\n",
      "9 instances of CDS,COII\n",
      "9 instances of CDS,COIII\n",
      "8 instances of CDS,ATPase 6\n",
      "7 instances of CDS,ATPase8\n",
      "7 instances of CDS,Cytb\n",
      "6 instances of CDS,cytb\n",
      "3 instances of CDS,NADH dehydrogenase subunit 2\n",
      "3 instances of rRNA,12S rRNA\n",
      "2 instances of rRNA,l-rRNA\n",
      "2 instances of rRNA,s-rRNA\n",
      "1 instances of CDS,ATPase 8\n",
      "1 instances of CDS,ATPase subunit 6\n",
      "1 instances of CDS,ATPase subunit 8\n",
      "1 instances of CDS,cytochrome b\n",
      "1 instances of CDS,cytochrome oxidase subunit 1\n",
      "1 instances of CDS,cytochrome oxidase subunit 2\n",
      "1 instances of CDS,cytochrome oxidase subunit 3\n",
      "1 instances of CDS,cytochrome oxidase subunit I\n",
      "1 instances of CDS,cytochrome oxidase subunit III\n",
      "1 instances of CDS,ERAL1\n",
      "1 instances of CDS,NADH dehydrogenase subunit 1\n",
      "1 instances of CDS,NADH dehydrogenase subunit 3\n",
      "1 instances of CDS,NADH dehydrogenase subunit 4\n",
      "1 instances of CDS,NADH dehydrogenase subunit 4L\n",
      "1 instances of CDS,NADH dehydrogenase subunit 5\n",
      "1 instances of CDS,NADH dehydrogenase subunit 6\n",
      "1 instances of CDS,NADH dehydrogenase subunit IV\n"
     ]
    }
   ],
   "source": [
    "list_loci_in_genbank('outgroups.gb', 'outgroup_list_of_loci.csv')"
   ]
  },
  {
   "cell_type": "code",
   "execution_count": 12,
   "metadata": {
    "collapsed": false
   },
   "outputs": [
    {
     "name": "stdout",
     "output_type": "stream",
     "text": [
      "dna,CDS,ATPase_6,ATPase 6\r\n",
      "dna,CDS,ATPase_8,ATPase 8\r\n",
      "dna,CDS,ATPase_subunit_6,ATPase subunit 6\r\n",
      "dna,CDS,ATPase_subunit_8,ATPase subunit 8\r\n",
      "dna,CDS,ERAL1,ERAL1\r\n",
      "dna,CDS,MT-ATP6,ATP6\r\n",
      "dna,CDS,MT-ATP8,ATP8,ATPase8\r\n",
      "dna,CDS,MT-CO1,COI,COX1\r\n",
      "dna,CDS,MT-CO2,COII,COX2\r\n",
      "dna,CDS,MT-CO3,COIII,COX3\r\n",
      "dna,CDS,MT-CYB,cytb,Cytb,CYTB,cytochrome b\r\n",
      "dna,CDS,MT-ND1,NADH dehydrogenase subunit 1,ND1\r\n",
      "dna,CDS,MT-ND2,NADH dehydrogenase subunit 2,ND2\r\n",
      "dna,CDS,MT-ND3,NADH dehydrogenase subunit 3,ND3\r\n",
      "dna,CDS,MT-ND4,NADH dehydrogenase subunit 4,NADH dehydrogenase subunit IV,ND4\r\n",
      "dna,CDS,MT-ND4L,NADH dehydrogenase subunit 4L,ND4L\r\n",
      "dna,CDS,MT-ND5,NADH dehydrogenase subunit 5,ND5\r\n",
      "dna,CDS,MT-ND6,NADH dehydrogenase subunit 6,ND6\r\n",
      "dna,CDS,cytochrome_oxidase_subunit_1,cytochrome oxidase subunit 1\r\n",
      "dna,CDS,cytochrome_oxidase_subunit_2,cytochrome oxidase subunit 2\r\n",
      "dna,CDS,cytochrome_oxidase_subunit_3,cytochrome oxidase subunit 3\r\n",
      "dna,CDS,cytochrome_oxidase_subunit_I,cytochrome oxidase subunit I\r\n",
      "dna,CDS,cytochrome_oxidase_subunit_III,cytochrome oxidase subunit III\r\n",
      "dna,rRNA,l-rRNA,l-rRNA\r\n",
      "dna,rRNA,rrnL,16S ribosomal RNA\r\n",
      "dna,rRNA,rrnS,12S ribosomal RNA,12S rRNA\r\n",
      "dna,rRNA,s-rRNA,s-rRNA\r\n"
     ]
    }
   ],
   "source": [
    "!cat outgroup_list_of_loci.csv"
   ]
  },
  {
   "cell_type": "markdown",
   "metadata": {},
   "source": [
    "# Reprophylo project"
   ]
  },
  {
   "cell_type": "markdown",
   "metadata": {},
   "source": [
    "Start ReproPhylo project."
   ]
  },
  {
   "cell_type": "code",
   "execution_count": 13,
   "metadata": {
    "collapsed": false
   },
   "outputs": [
    {
     "name": "stderr",
     "output_type": "stream",
     "text": [
      "DEBUG:Cloud:Log file (/root/.picloud/cloud.log) opened\n"
     ]
    }
   ],
   "source": [
    "pj=Project('target_locus.csv', pickle='amphib_raw.pkl', git=False)"
   ]
  },
  {
   "cell_type": "code",
   "execution_count": 14,
   "metadata": {
    "collapsed": true
   },
   "outputs": [],
   "source": [
    "#pj=unpickle_pj('amphib_raw.pkl')"
   ]
  },
  {
   "cell_type": "markdown",
   "metadata": {},
   "source": [
    "Read sequences into ReproPhylo."
   ]
  },
  {
   "cell_type": "code",
   "execution_count": 15,
   "metadata": {
    "collapsed": false
   },
   "outputs": [
    {
     "name": "stderr",
     "output_type": "stream",
     "text": [
      "/home/reprophylo/reprophylo.py:1015: UserWarning: Version control off\n",
      "  warnings.warn('Version control off')\n"
     ]
    }
   ],
   "source": [
    "pj.read_embl_genbank(['UK_amphib_12S_Genbank_raw.gb', 'outgroups.gb'])"
   ]
  },
  {
   "cell_type": "code",
   "execution_count": 16,
   "metadata": {
    "collapsed": true
   },
   "outputs": [],
   "source": [
    "pj.extract_by_locus()"
   ]
  },
  {
   "cell_type": "code",
   "execution_count": 17,
   "metadata": {
    "collapsed": false
   },
   "outputs": [
    {
     "name": "stdout",
     "output_type": "stream",
     "text": [
      "Distribution Of Sequence Lengths\n",
      "Distribution Of Sequence Statistic \"Gc_Content\"\n"
     ]
    },
    {
     "name": "stderr",
     "output_type": "stream",
     "text": [
      "/usr/lib/pymodules/python2.7/matplotlib/figure.py:371: UserWarning: matplotlib is currently using a non-GUI backend, so cannot show the figure\n",
      "  \"matplotlib is currently using a non-GUI backend, \"\n"
     ]
    },
    {
     "data": {
      "image/png": "[encoded data removed]",
      "text/plain": [
       "<matplotlib.figure.Figure at 0x7f8870679350>"
      ]
     },
     "metadata": {},
     "output_type": "display_data"
    },
    {
     "data": {
      "image/png": "[encoded data removed]",
      "text/plain": [
       "<matplotlib.figure.Figure at 0x7f8870574f90>"
      ]
     },
     "metadata": {},
     "output_type": "display_data"
    }
   ],
   "source": [
    "%matplotlib inline\n",
    "pj.report_seq_stats()"
   ]
  },
  {
   "cell_type": "code",
   "execution_count": 18,
   "metadata": {
    "collapsed": true
   },
   "outputs": [],
   "source": [
    "pj.species_vs_loci('species_vs_locus_raw.csv')"
   ]
  },
  {
   "cell_type": "code",
   "execution_count": 19,
   "metadata": {
    "collapsed": false
   },
   "outputs": [
    {
     "name": "stdout",
     "output_type": "stream",
     "text": [
      "species\trrnS\r",
      "\r\n",
      "Alytes obstetricans\t2\r",
      "\r\n",
      "Alytes obstetricans almogavarii\t3\r",
      "\r\n",
      "Alytes obstetricans boscai\t5\r",
      "\r\n",
      "Alytes obstetricans obstetricans\t4\r",
      "\r\n",
      "Alytes obstetricans pertinax\t4\r",
      "\r\n",
      "Bombina bombina\t6\r",
      "\r\n",
      "Bombina variegata\t8\r",
      "\r\n",
      "Bombina variegata kolombatovici\t1\r",
      "\r\n",
      "Bombina variegata scabra\t3\r",
      "\r\n",
      "Bombina variegata variegata\t5\r",
      "\r\n",
      "Bufo bufo\t4\r",
      "\r\n",
      "Chelydra serpentina\t7\r",
      "\r\n",
      "Cottus gobio\t1\r",
      "\r\n",
      "Discoglossus pictus\t7\r",
      "\r\n",
      "Discoglossus pictus auritus\t10\r",
      "\r\n",
      "Discoglossus pictus pictus\t3\r",
      "\r\n",
      "Epidalea calamita\t3\r",
      "\r\n",
      "Gallus gallus\t241\r",
      "\r\n",
      "Gallus gallus bankiva\t1\r",
      "\r\n",
      "Gallus gallus gallus\t1\r",
      "\r\n",
      "Gallus gallus jabouillei\t2\r",
      "\r\n",
      "Gallus gallus murghi\t4\r",
      "\r\n",
      "Gallus gallus spadiceus\t10\r",
      "\r\n",
      "Hydromantes genei\t22\r",
      "\r\n",
      "Hyla arborea\t11\r",
      "\r\n",
      "Ichthyosaura alpestris\t2\r",
      "\r\n",
      "Ichthyosaura alpestris inexpectatus\t1\r",
      "\r\n",
      "Lissotriton helveticus\t1\r",
      "\r\n",
      "Lissotriton vulgaris\t2\r",
      "\r\n",
      "Lissotriton vulgaris meridionalis\t1\r",
      "\r\n",
      "Pelophylax esculentus\t2\r",
      "\r\n",
      "Pelophylax lessonae\t8\r",
      "\r\n",
      "Pelophylax ridibundus\t16\r",
      "\r\n",
      "Rana catesbeiana\t12\r",
      "\r\n",
      "Rana dalmatina\t2\r",
      "\r\n",
      "Rana temporaria\t35\r",
      "\r\n",
      "Salamandra salamandra\t18\r",
      "\r\n",
      "Salamandra salamandra alfredschmidti\t3\r",
      "\r\n",
      "Salamandra salamandra almanzoris\t1\r",
      "\r\n",
      "Salamandra salamandra bejarae\t1\r",
      "\r\n",
      "Salamandra salamandra bernardezi\t2\r",
      "\r\n",
      "Salamandra salamandra corsica\t1\r",
      "\r\n",
      "Salamandra salamandra crespoi\t1\r",
      "\r\n",
      "Salamandra salamandra fastuosa\t2\r",
      "\r\n",
      "Salamandra salamandra gallaica\t2\r",
      "\r\n",
      "Salamandra salamandra gigliolii\t2\r",
      "\r\n",
      "Salamandra salamandra longirostris\t3\r",
      "\r\n",
      "Salamandra salamandra morenica\t4\r",
      "\r\n",
      "Salamandra salamandra salamandra\t2\r",
      "\r\n",
      "Salamandra salamandra terrestris\t1\r",
      "\r\n",
      "Salamandra salamandra werneri\t1\r",
      "\r\n",
      "Triturus carnifex\t3\r",
      "\r\n",
      "Triturus cristatus\t3\r",
      "\r\n",
      "Xenopus laevis\t10\r",
      "\r\n",
      "Xenopus laevis sudanensis\t2\r",
      "\r\n"
     ]
    }
   ],
   "source": [
    "!cat species_vs_locus_raw.csv"
   ]
  },
  {
   "cell_type": "code",
   "execution_count": 20,
   "metadata": {
    "collapsed": false
   },
   "outputs": [
    {
     "name": "stdout",
     "output_type": "stream",
     "text": [
      "Total number of records: 512\n",
      "Number of species (see below for full list): 24\n",
      "['Alytes obstetricans', 'Pelophylax ridibundus', 'Discoglossus pictus', 'Lissotriton vulgaris', 'Bombina bombina', 'Lissotriton helveticus', 'Ichthyosaura alpestris', 'Rana dalmatina', 'Epidalea calamita', 'Xenopus laevis', 'Salamandra salamandra', 'Triturus carnifex', 'Rana temporaria', 'Bombina variegata', 'Cottus gobio', 'Hyla arborea', 'Gallus gallus', 'Pelophylax esculentus', 'Triturus cristatus', 'Rana catesbeiana', 'Bufo bufo', 'Pelophylax lessonae', 'Chelydra serpentina', 'Hydromantes genei']\n"
     ]
    }
   ],
   "source": [
    "species=[]\n",
    "for r in pj.records:\n",
    "    source = [f for f in r.features if f.type == 'source'][0]\n",
    "    species.append(\" \".join(source.qualifiers['organism'][0].split()[0:2]))\n",
    "    \n",
    "#print set(species)\n",
    "total=len(species)\n",
    "species=list(set(species))\n",
    "\n",
    "print \"Total number of records: %i\" %total\n",
    "print \"Number of species (see below for full list): %i\" %len(species)\n",
    "print species"
   ]
  },
  {
   "cell_type": "code",
   "execution_count": 21,
   "metadata": {
    "collapsed": true
   },
   "outputs": [],
   "source": [
    "def crop_to_CDS(record):\n",
    "    \"\"\"The function crops a Genbank record to only retain the sequence of the first CDS\"\"\"\n",
    "    \n",
    "    from Bio import SeqFeature\n",
    "    \n",
    "    strands=[]\n",
    "    r = record\n",
    "    print \"\\nprocessing record: '%s' \" %r.id,\n",
    "    if r.features:\n",
    "        for feature in r.features:\n",
    "            if feature.type == 'CDS':\n",
    "                strands.append(feature.location.strand)\n",
    "                gene_name = feature.qualifiers['gene'][0]\n",
    "                r.seq = r.seq[feature.location.start:feature.location.end]\n",
    "                feature.location = SeqFeature.FeatureLocation(SeqFeature.ExactPosition(0), \n",
    "                                                              SeqFeature.ExactPosition(feature.location.end - feature.location.start), \n",
    "                                                             1)\n",
    "                break    \n",
    "            elif feature.type == 'rRNA':\n",
    "                strands.append(feature.location.strand)\n",
    "                qualifiers = feature.qualifiers\n",
    "                               \n",
    "                if 'product' in qualifiers:\n",
    "                    gene_name = feature.qualifiers['product'][0]\n",
    "                    r.seq = r.seq[feature.location.start:feature.location.end]\n",
    "                    feature.location = SeqFeature.FeatureLocation(SeqFeature.ExactPosition(0), \n",
    "                                                                  SeqFeature.ExactPosition(feature.location.end - feature.location.start), \n",
    "                                                                  1)\n",
    "                    break\n",
    "                elif 'gene' in qualifiers:\n",
    "                    gene_name = feature.qualifiers['gene'][0]\n",
    "                    r.seq = r.seq[feature.location.start:feature.location.end]\n",
    "                    feature.location = SeqFeature.FeatureLocation(SeqFeature.ExactPosition(0), \n",
    "                                                                  SeqFeature.ExactPosition(feature.location.end - feature.location.start), \n",
    "                                                                  1)\n",
    "\n",
    "                \n",
    "        for feature in r.features:\n",
    "            if feature.type == 'source':\n",
    "                strands.append(feature.location.strand)\n",
    "                feature.qualifiers['note'] = ['modified from original record: cropped to only CDS/rRNA '+str(gene_name)]\n",
    "                feature.location = SeqFeature.FeatureLocation(SeqFeature.ExactPosition(0), \n",
    "                                                              SeqFeature.ExactPosition(len(r.seq)), \n",
    "                                                             feature.location.strand)\n",
    "                break\n",
    "                    \n",
    "        if len(list(set(strands))) > 1:\n",
    "            r.seq = r.seq.reverse_complement()\n",
    "            print \"\\t.. reverse complementing\",\n",
    "\n",
    "        print \"\\t.. final length: %s\" %len(r.seq),\n",
    "\n",
    "    else:\n",
    "        print \"\\t  no features found ..\"\n",
    "\n",
    "    #print r.format('genbank')"
   ]
  },
  {
   "cell_type": "code",
   "execution_count": 22,
   "metadata": {
    "collapsed": false
   },
   "outputs": [
    {
     "name": "stdout",
     "output_type": "stream",
     "text": [
      "\n",
      "processing record: 'AY585337.1'  \t.. final length: 937 \n",
      "processing record: 'AY322321.1'  \t.. final length: 495 \n",
      "processing record: 'FJ602094.1'  \t.. final length: 340 \n",
      "processing record: 'KC977221.1'  \t.. final length: 663 \n",
      "processing record: 'KF664601.1'  \t.. final length: 377 \n",
      "processing record: 'EU115993.1'  \t.. final length: 933 \n",
      "processing record: 'FJ595208.1'  \t.. final length: 367 \n",
      "processing record: 'U52726.1'  \t.. final length: 954 \n",
      "processing record: 'AY347451.1'  \t.. final length: 400 \n",
      "processing record: 'FJ602106.1'  \t.. final length: 371 \n",
      "processing record: 'JX893174.1'  \t.. final length: 933 \n",
      "processing record: 'AF161036.1'  \t.. final length: 382 \n",
      "processing record: 'AY581644.1'  \t.. final length: 840 \n",
      "processing record: 'JX893176.1'  \t.. final length: 932 \n",
      "processing record: 'AJ440767.1'  \t.. final length: 400 \n",
      "processing record: 'AJ222652.1'  \t.. final length: 373 \n",
      "processing record: 'NC_022696.1'  \t.. final length: 937 \n",
      "processing record: 'KP109553.1'  \t.. final length: 355 \n",
      "processing record: 'JX893175.1'  \t.. final length: 933 \n",
      "processing record: 'FJ602100.1'  \t.. final length: 341 \n",
      "processing record: 'KX269198.1'  \t.. final length: 477 \n",
      "processing record: 'KC977215.1'  \t.. final length: 663 \n",
      "processing record: 'AJ222711.1'  \t.. final length: 373 \n",
      "processing record: 'AY333688.1'  \t.. final length: 348 \n",
      "processing record: 'FJ602098.1'  \t.. final length: 340 \n",
      "processing record: 'AB761267.1'  \t.. final length: 937 \n",
      "processing record: 'AY581648.1'  \t.. final length: 840 \n",
      "processing record: 'X12841.1'  \t.. final length: 937 \n",
      "processing record: 'KF645375.1'  \t.. final length: 460 \n",
      "processing record: 'JX893178.1'  \t.. final length: 932 \n",
      "processing record: 'AY347456.1'  \t.. final length: 399 \n",
      "processing record: 'AY043038.1'  \t.. final length: 332 \n",
      "processing record: 'KC977204.1'  \t.. final length: 663 \n",
      "processing record: 'HQ697272.1'  \t.. final length: 924 \n",
      "processing record: 'EU116959.1'  \t.. final length: 371 \n",
      "processing record: 'X95493.1'  \t.. final length: 198 \n",
      "processing record: 'AY347452.1'  \t.. final length: 399 \n",
      "processing record: 'M10217.1'  \t.. final length: 819 \n",
      "processing record: 'KF645416.1'  \t.. final length: 450 \n",
      "processing record: 'AY333657.1'  \t.. final length: 359 \n",
      "processing record: 'AY333654.1'  \t.. final length: 367 \n",
      "processing record: 'AB023395.1'  \t.. final length: 403 \n",
      "processing record: 'AF218718.1'  \t.. final length: 425 \n",
      "processing record: 'KC977206.1'  \t.. final length: 663 \n",
      "processing record: 'AY333663.1'  \t.. final length: 351 \n",
      "processing record: 'EU880335.1'  \t.. final length: 926 \n",
      "processing record: 'AB640897.1'  \t.. final length: 931 \n",
      "processing record: 'KF645419.1'  \t.. final length: 450 \n",
      "processing record: 'FJ602108.1'  \t.. final length: 372 \n",
      "processing record: 'DQ055835.1'  \t.. final length: 936 \n",
      "processing record: 'AB023396.1'  \t.. final length: 403 \n",
      "processing record: 'AY222458.1'  \t.. final length: 367 \n",
      "processing record: 'KF664850.1'  \t.. final length: 378 \n",
      "processing record: 'AY581641.1'  \t.. final length: 840 \n",
      "processing record: 'AY333653.1'  \t.. final length: 367 \n",
      "processing record: 'KP109559.1'  \t.. final length: 355 \n",
      "processing record: 'FJ595206.1'  \t.. final length: 367 \n",
      "processing record: 'FJ602105.1'  \t.. final length: 371 \n",
      "processing record: 'KC977223.1'  \t.. final length: 663 \n",
      "processing record: 'JN627424.1'  \t.. final length: 930 \n",
      "processing record: 'DQ359960.1'  \t.. final length: 701 \n",
      "processing record: 'AY347473.1'  \t.. final length: 323 \n",
      "processing record: 'KF645417.1'  \t.. final length: 300 \n",
      "processing record: 'M27605.1'  \t.. final length: 945 \n",
      "processing record: 'AY333665.1'  \t.. final length: 367 \n",
      "processing record: 'AY147254.1'  \t.. final length: 355 \n",
      "processing record: 'FJ602102.1'  \t.. final length: 341 \n",
      "processing record: 'KF645409.1'  \t.. final length: 450 \n",
      "processing record: 'JX893172.1'  \t.. final length: 933 \n",
      "processing record: 'KF645411.1'  \t.. final length: 450 \n",
      "processing record: 'AY147256.1'  \t.. final length: 354 \n",
      "processing record: 'U04702.1'  \t.. final length: 355 \n",
      "processing record: 'DQ092285.1'  \t.. final length: 362 \n",
      "processing record: 'EU116958.1'  \t.. final length: 371 \n",
      "processing record: 'KJ858774.1'  \t.. final length: 524 \n",
      "processing record: 'KF645408.1'  \t.. final length: 450 \n",
      "processing record: 'AY325988.1'  \t.. final length: 931 \n",
      "processing record: 'AY347467.1'  \t.. final length: 323 \n",
      "processing record: 'KC977218.1'  \t.. final length: 663 \n",
      "processing record: 'NC_001573.1'  \t.. final length: 819 \n",
      "processing record: 'FJ595207.1'  \t.. final length: 367 \n",
      "processing record: 'AJ222710.1'  \t.. final length: 373 \n",
      "processing record: 'AY333669.1'  \t.. final length: 358 \n",
      "processing record: 'DQ221218.1'  \t.. final length: 367 \n",
      "processing record: 'KC977216.1'  \t.. final length: 663 \n",
      "processing record: 'KJ858776.1'  \t.. final length: 524 \n",
      "processing record: 'AY880481.1'  \t.. final length: 345 \n",
      "processing record: 'D12694.1'  \t.. final length: 620 \n",
      "processing record: 'AY347457.1'  \t.. final length: 399 \n",
      "processing record: 'KC977217.1'  \t.. final length: 663 \n",
      "processing record: 'AY333687.1'  \t.. final length: 367 \n",
      "processing record: 'X86235.1'  \t.. final length: 347 \n",
      "processing record: 'M57527.1'  \t.. final length: 938 \n",
      "processing record: 'KC977209.1'  \t.. final length: 663 \n",
      "processing record: 'AY347458.1'  \t.. final length: 399 \n",
      "processing record: 'DQ221219.1'  \t.. final length: 367 \n",
      "processing record: 'NC_015790.1'  \t.. final length: 926 \n",
      "processing record: 'KF645413.1'  \t.. final length: 450 \n",
      "processing record: 'DQ221213.1'  \t.. final length: 367 \n",
      "processing record: 'AY333667.1'  \t.. final length: 370 \n",
      "processing record: 'FJ595204.1'  \t.. final length: 367 \n",
      "processing record: 'AY333662.1'  \t.. final length: 367 \n",
      "processing record: 'KF645371.1'  \t.. final length: 459 \n",
      "processing record: 'AY333685.1'  \t.. final length: 351 \n",
      "processing record: 'KJ858769.1'  \t.. final length: 524 \n",
      "processing record: 'KF645418.1'  \t.. final length: 450 \n",
      "processing record: 'JN627423.1'  \t.. final length: 932 \n",
      "processing record: 'AY333655.1'  \t.. final length: 367 \n",
      "processing record: 'KF645374.1'  \t.. final length: 460 \n",
      "processing record: 'AB023397.1'  \t.. final length: 407 \n",
      "processing record: 'AY333683.1'  \t.. final length: 372 \n",
      "processing record: 'X95494.1'  \t.. final length: 198 \n",
      "processing record: 'U04704.1'  \t.. final length: 372 \n",
      "processing record: 'AY333661.1'  \t.. final length: 349 \n",
      "processing record: 'KF645415.1'  \t.. final length: 450 \n",
      "processing record: 'JN627421.1'  \t.. final length: 932 \n",
      "processing record: 'KJ858770.1'  \t.. final length: 524 \n",
      "processing record: 'JQ626644.1'  \t.. final length: 525 \n",
      "processing record: 'AY880461.1'  \t.. final length: 390 \n",
      "processing record: 'Y10943.1'  \t.. final length: 946 \n",
      "processing record: 'EU880339.1'  \t.. final length: 927 \n",
      "processing record: 'DQ221217.1'  \t.. final length: 367 \n",
      "processing record: 'KP109558.1'  \t.. final length: 355 \n",
      "processing record: 'KF645420.1'  \t.. final length: 450 \n",
      "processing record: 'KJ858773.1'  \t.. final length: 524 \n",
      "processing record: 'AB058864.1'  \t.. final length: 407 \n",
      "processing record: 'AY043041.1'  \t.. final length: 333 \n",
      "processing record: 'JN627426.1'  \t.. final length: 930 \n",
      "processing record: 'HQ697273.1'  \t.. final length: 926 \n",
      "processing record: 'KJ858772.1'  \t.. final length: 524 \n",
      "processing record: 'DQ092298.1'  \t.. final length: 359 \n",
      "processing record: 'KC977225.1'  \t.. final length: 663 \n",
      "processing record: 'KF645410.1'  \t.. final length: 450 \n",
      "processing record: 'KC977222.1'  \t.. final length: 663 \n",
      "processing record: 'KP109551.1'  \t.. final length: 355 \n",
      "processing record: 'AY326063.1'  \t.. final length: 930 \n",
      "processing record: 'JX893173.1'  \t.. final length: 933 \n",
      "processing record: 'KF645367.1'  \t.. final length: 460 \n",
      "processing record: 'AY581639.1'  \t.. final length: 840 \n",
      "processing record: 'KC977219.1'  \t.. final length: 663 \n",
      "processing record: 'KJ858778.1'  \t.. final length: 524 \n",
      "processing record: 'DQ221215.1'  \t.. final length: 367 \n",
      "processing record: 'AY333668.1'  \t.. final length: 370 \n",
      "processing record: 'DQ289102.1'  \t.. final length: 411 \n",
      "processing record: 'KJ858775.1'  \t.. final length: 524 \n",
      "processing record: 'EU880331.1'  \t.. final length: 921 \n",
      "processing record: 'KF645365.1'  \t.. final length: 463 \n",
      "processing record: 'AY347455.1'  \t.. final length: 399 \n",
      "processing record: 'JX893177.1'  \t.. final length: 932 \n",
      "processing record: 'KC977207.1'  \t.. final length: 663 \n",
      "processing record: 'AY333684.1'  \t.. final length: 372 \n",
      "processing record: 'KF645369.1'  \t.. final length: 424 \n",
      "processing record: 'AY347454.1'  \t.. final length: 399 \n",
      "processing record: 'KC977212.1'  \t.. final length: 663 \n",
      "processing record: 'AY043034.1'  \t.. final length: 331 \n",
      "processing record: 'AJ440762.1'  \t.. final length: 413 \n",
      "processing record: 'FJ602097.1'  \t.. final length: 340 \n",
      "processing record: 'KF645412.1'  \t.. final length: 450 \n",
      "processing record: 'DQ092286.1'  \t.. final length: 358 \n",
      "processing record: 'AY333664.1'  \t.. final length: 356 \n",
      "processing record: 'DQ158438.1'  \t.. final length: 902 \n",
      "processing record: 'KF645421.1'  \t.. final length: 450 \n",
      "processing record: 'EU116961.1'  \t.. final length: 372 \n",
      "processing record: 'KF645422.1'  \t.. final length: 450 \n",
      "processing record: 'AY043032.1'  \t.. final length: 331 \n",
      "processing record: 'KC977208.1'  \t.. final length: 663 \n",
      "processing record: 'KP109557.1'  \t.. final length: 355 \n",
      "processing record: 'KF645373.1'  \t.. final length: 461 \n",
      "processing record: 'KC977210.1'  \t.. final length: 663 \n",
      "processing record: 'KF645370.1'  \t.. final length: 459 \n",
      "processing record: 'FJ602095.1'  \t.. final length: 340 \n",
      "processing record: 'AY333666.1'  \t.. final length: 366 \n",
      "processing record: 'M10188.1'  \t.. final length: 169 \n",
      "processing record: 'KF645423.1'  \t.. final length: 450 \n",
      "processing record: 'AB159478.1'  \t.. final length: 413 \n",
      "processing record: 'KJ858777.1'  \t.. final length: 524 \n",
      "processing record: 'KP109555.1'  \t.. final length: 355 \n",
      "processing record: 'AJ440764.1'  \t.. final length: 414 \n",
      "processing record: 'KF645372.1'  \t.. final length: 402 \n",
      "processing record: 'JN627422.1'  \t.. final length: 930 \n",
      "processing record: 'AY928619.1'  \t.. final length: 824 \n",
      "processing record: 'DQ221220.1'  \t.. final length: 367 \n",
      "processing record: 'KJ858771.1'  \t.. final length: 524 \n",
      "processing record: 'DQ221216.1'  \t.. final length: 367 \n",
      "processing record: 'FJ602107.1'  \t.. final length: 372 \n",
      "processing record: 'KF645414.1'  \t.. final length: 300 \n",
      "processing record: 'DQ283127.1'  \t.. final length: 872 \n",
      "processing record: 'KC977226.1'  \t.. final length: 663 \n",
      "processing record: 'AY347450.1'  \t.. final length: 399 \n",
      "processing record: 'AF124103.1'  \t.. final length: 339 \n",
      "processing record: 'JQ626651.1'  \t.. final length: 523 \n",
      "processing record: 'AJ309142.1'  \t.. final length: 373 \n",
      "processing record: 'KU840522.1'  \t.. final length: 749 \n",
      "processing record: 'AY779191.1'  \t.. final length: 488 \n",
      "processing record: 'KC977224.1'  \t.. final length: 663 \n",
      "processing record: 'FJ595205.1'  \t.. final length: 367 \n",
      "processing record: 'KP109552.1'  \t.. final length: 355 \n",
      "processing record: 'AJ309138.1'  \t.. final length: 373 \n",
      "processing record: 'JQ626643.1'  \t.. final length: 525 \n",
      "processing record: 'AJ440759.1'  \t.. final length: 418 \n",
      "processing record: 'KF645366.1'  \t.. final length: 433 \n",
      "processing record: 'AY971143.1'  \t.. final length: 933 \n",
      "processing record: 'AY779206.1'  \t.. final length: 490 \n",
      "processing record: 'AY581640.1'  \t.. final length: 840 \n",
      "processing record: 'DQ221214.1'  \t.. final length: 367 \n",
      "processing record: 'FJ602103.1'  \t.. final length: 341 \n",
      "processing record: 'DQ221225.1'  \t.. final length: 367 \n",
      "processing record: 'AY333686.1'  \t.. final length: 372 \n",
      "processing record: 'KF645364.1'  \t.. final length: 461 \n",
      "processing record: 'AY581638.1'  \t.. final length: 838 \n",
      "processing record: 'FJ602101.1'  \t.. final length: 341 \n",
      "processing record: 'NC_009258.1'  \t.. final length: 933 \n",
      "processing record: 'KX269196.1'  \t.. final length: 478 \n",
      "processing record: 'DQ221223.1'  \t.. final length: 367 \n",
      "processing record: 'NC_015788.1'  \t.. final length: 924 \n",
      "processing record: 'FJ602099.1'  \t.. final length: 340 \n",
      "processing record: 'KC977213.1'  \t.. final length: 663 \n",
      "processing record: 'EU116957.1'  \t.. final length: 371 \n",
      "processing record: 'KC977214.1'  \t.. final length: 663 \n",
      "processing record: 'AY843601.1'  \t.. final length: 925 \n",
      "processing record: 'KC977205.1'  \t.. final length: 663 \n",
      "processing record: 'KF645368.1'  \t.. final length: 460 \n",
      "processing record: 'KP109556.1'  \t.. final length: 355 \n",
      "processing record: 'KC977211.1'  \t.. final length: 663 \n",
      "processing record: 'FJ602096.1'  \t.. final length: 340 \n",
      "processing record: 'AY347453.1'  \t.. final length: 399 \n",
      "processing record: 'EU116960.1'  \t.. final length: 372 \n",
      "processing record: 'KF049927.1'  \t.. final length: 937 \n",
      "processing record: 'M13046.1'  \t.. final length: 170 \n",
      "processing record: 'AB023394.1'  \t.. final length: 403 \n",
      "processing record: 'KX269208.1'  \t.. final length: 480 \n",
      "processing record: 'KP109554.1'  \t.. final length: 355 \n",
      "processing record: 'AY222459.1'  \t.. final length: 367 \n",
      "processing record: 'DQ221221.1'  \t.. final length: 367 \n",
      "processing record: 'EU938400.1'  \t.. final length: 932 \n",
      "processing record: 'FJ602109.1'  \t.. final length: 372 \n",
      "processing record: 'EU116962.1'  \t.. final length: 372 \n",
      "processing record: 'AY347459.1'  \t.. final length: 399 \n",
      "processing record: 'KT074476.1'  \t.. final length: 452 \n",
      "processing record: 'AB685766.1'  \t.. final length: 932 \n",
      "processing record: 'FJ602104.1'  \t.. final length: 371 \n",
      "processing record: 'KC977220.1'  \t.. final length: 663 \n",
      "processing record: 'EU880336.1'  \t.. final length: 926 \n",
      "processing record: 'AF224726.1'  \t.. final length: 397 \n",
      "processing record: 'JN627425.1'  \t.. final length: 930 \n",
      "processing record: 'KT626855.1'  \t.. final length: 976 \n",
      "processing record: 'AP003317.1'  \t.. final length: 976 \n",
      "processing record: 'KF826490.1'  \t.. final length: 976 \n",
      "processing record: 'KP211421.1'  \t.. final length: 976 \n",
      "processing record: 'EF362688.1'  \t.. final length: 473 \n",
      "processing record: 'GU261697.1'  \t.. final length: 976 \n",
      "processing record: 'HQ857211.1'  \t.. final length: 976 \n",
      "processing record: 'EF362703.1'  \t.. final length: 473 \n",
      "processing record: 'KT626857.1'  \t.. final length: 976 \n",
      "processing record: 'KM224333.1'  \t.. final length: 329 \n",
      "processing record: 'KF954727.1'  \t.. final length: 976 \n",
      "processing record: 'EF373884.1'  \t.. final length: 576 \n",
      "processing record: 'EF362680.1'  \t.. final length: 63 \n",
      "processing record: 'HQ857210.1'  \t.. final length: 976 \n",
      "processing record: 'EF362661.1'  \t.. final length: 63 \n",
      "processing record: 'KP269069.1'  \t.. final length: 976 \n",
      "processing record: 'AY309497.1'  \t.. final length: 143 \n",
      "processing record: 'EF373900.1'  \t.. final length: 576 \n",
      "processing record: 'EF373899.1'  \t.. final length: 576 \n",
      "processing record: 'EF362676.1'  \t.. final length: 63 \n",
      "processing record: 'DQ885561.1'  \t.. final length: 448 \n",
      "processing record: 'AP003319.1'  \t.. final length: 976 \n",
      "processing record: 'EF373906.1'  \t.. final length: 576 \n",
      "processing record: 'GU261687.1'  \t.. final length: 976 \n",
      "processing record: 'JN695757.1'  \t.. final length: 444 \n",
      "processing record: 'EF373886.1'  \t.. final length: 576 \n",
      "processing record: 'EF362674.1'  \t.. final length: 64 \n",
      "processing record: 'AJ490505.1'  \t.. final length: 404 \n",
      "processing record: 'NC_001323.1'  \t.. final length: 976 \n",
      "processing record: 'KM224331.1'  \t.. final length: 328 \n",
      "processing record: 'EF362697.1'  \t.. final length: 473 \n",
      "processing record: 'GU261680.1'  \t.. final length: 976 \n",
      "processing record: 'JN695761.1'  \t.. final length: 444 \n",
      "processing record: 'EF362648.1'  \t.. final length: 63 \n",
      "processing record: 'EF362720.1'  \t.. final length: 473 \n",
      "processing record: 'EF362718.1'  \t.. final length: 473 \n",
      "processing record: 'EF362668.1'  \t.. final length: 63 \n",
      "processing record: 'EF373893.1'  \t.. final length: 576 \n",
      "processing record: 'KF484729.1'  \t.. final length: 424 \n",
      "processing record: 'KP211425.1'  \t.. final length: 976 \n",
      "processing record: 'FJ610338.1'  \t.. final length: 872 \n",
      "processing record: 'EF362713.1'  \t.. final length: 473 \n",
      "processing record: 'EF373908.1'  \t.. final length: 576 \n",
      "processing record: 'GU261678.1'  \t.. final length: 976 \n",
      "processing record: 'EF362722.1'  \t.. final length: 63 \n",
      "processing record: 'AJ849444.2'  \t.. final length: 444 \n",
      "processing record: 'GU261708.1'  \t.. final length: 976 \n",
      "processing record: 'EF362691.1'  \t.. final length: 473 \n",
      "processing record: 'EF362709.1'  \t.. final length: 473 \n",
      "processing record: 'GU261693.1'  \t.. final length: 976 \n",
      "processing record: 'KF471522.1'  \t.. final length: 500 \n",
      "processing record: 'KF471521.1'  \t.. final length: 432 \n",
      "processing record: 'EF373879.1'  \t.. final length: 576 \n",
      "processing record: 'EF362705.1'  \t.. final length: 473 \n",
      "processing record: 'KP681580.1'  \t.. final length: 976 \n",
      "processing record: 'KT626853.1'  \t.. final length: 976 \n",
      "processing record: 'KF471525.1'  \t.. final length: 500 \n",
      "processing record: 'GU261681.1'  \t.. final length: 976 \n",
      "processing record: 'EF362693.1'  \t.. final length: 473 \n",
      "processing record: 'EF432760.1'  \t.. final length: 63 \n",
      "processing record: 'JN695758.1'  \t.. final length: 444 \n",
      "processing record: 'GU261691.1'  \t.. final length: 976 \n",
      "processing record: 'GU261689.1'  \t.. final length: 976 \n",
      "processing record: 'U81335.1'  \t.. final length: 328 \n",
      "processing record: 'EF362686.1'  \t.. final length: 473 \n",
      "processing record: 'GU261706.1'  \t.. final length: 976 \n",
      "processing record: 'KM433666.1'  \t.. final length: 976 \n",
      "processing record: 'EF362702.1'  \t.. final length: 473 \n",
      "processing record: 'EF362642.1'  \t.. final length: 63 \n",
      "processing record: 'EF362710.1'  \t.. final length: 473 \n",
      "processing record: 'KT626852.1'  \t.. final length: 976 \n",
      "processing record: 'JN695759.1'  \t.. final length: 444 \n",
      "processing record: 'AP003580.1'  \t.. final length: 976 \n",
      "processing record: 'KT626858.1'  \t.. final length: 976 \n",
      "processing record: 'EF373885.1'  \t.. final length: 576 \n",
      "processing record: 'EF362684.1'  \t.. final length: 473 \n",
      "processing record: 'KF471523.1'  \t.. final length: 424 \n",
      "processing record: 'EF362681.1'  \t.. final length: 473 \n",
      "processing record: 'GU261698.1'  \t.. final length: 976 \n",
      "processing record: 'GU261700.1'  \t.. final length: 976 \n",
      "processing record: 'KM886936.1'  \t.. final length: 975 \n",
      "processing record: 'AB188189.1'  \t.. final length: 783 \n",
      "processing record: 'GU261684.1'  \t.. final length: 976 \n",
      "processing record: 'EF362682.1'  \t.. final length: 473 \n",
      "processing record: 'EF362695.1'  \t.. final length: 473 \n",
      "processing record: 'GU261719.1'  \t.. final length: 976 \n",
      "processing record: 'EF122793.1'  \t.. final length: 965 \n",
      "processing record: 'KP211944.1'  \t.. final length: 444 \n",
      "processing record: 'EF362717.1'  \t.. final length: 473 \n",
      "processing record: 'EF362671.1'  \t.. final length: 63 \n",
      "processing record: 'EF373890.1'  \t.. final length: 576 \n",
      "processing record: 'EF362699.1'  \t.. final length: 473 \n",
      "processing record: 'EF362696.1'  \t.. final length: 473 \n",
      "processing record: 'GU261715.1'  \t.. final length: 976 \n",
      "processing record: 'HM637771.1'  \t.. final length: 116 \n",
      "processing record: 'GU261685.1'  \t.. final length: 976 \n",
      "processing record: 'JN695760.1'  \t.. final length: 444 \n",
      "processing record: 'EF362655.1'  \t.. final length: 63 \n",
      "processing record: 'GU261702.1'  \t.. final length: 976 \n",
      "processing record: 'EF362669.1'  \t.. final length: 63 \n",
      "processing record: 'EF373892.1'  \t.. final length: 576 \n",
      "processing record: 'EF373888.1'  \t.. final length: 576 \n",
      "processing record: 'EF362646.1'  \t.. final length: 63 \n",
      "processing record: 'AY235570.1'  \t.. final length: 975 \n",
      "processing record: 'EU851896.1'  \t.. final length: 444 \n",
      "processing record: 'EF362657.1'  \t.. final length: 63 \n",
      "processing record: 'GU261713.1'  \t.. final length: 976 \n",
      "processing record: 'GU261686.1'  \t.. final length: 976 \n",
      "processing record: 'GU261709.1'  \t.. final length: 976 \n",
      "processing record: 'KT626849.1'  \t.. final length: 976 \n",
      "processing record: 'EF362644.1'  \t.. final length: 63 \n",
      "processing record: 'EF362714.1'  \t.. final length: 473 \n",
      "processing record: 'EF362653.1'  \t.. final length: 63 \n",
      "processing record: 'GU261679.1'  \t.. final length: 976 \n",
      "processing record: 'EF362664.1'  \t.. final length: 63 \n",
      "processing record: 'HQ857212.1'  \t.. final length: 976 \n",
      "processing record: 'EF362690.1'  \t.. final length: 473 \n",
      "processing record: 'EF362649.1'  \t.. final length: 63 \n",
      "processing record: 'EF373881.1'  \t.. final length: 576 \n",
      "processing record: 'KP211418.1'  \t.. final length: 976 \n",
      "processing record: 'KR347464.1'  \t.. final length: 976 \n",
      "processing record: 'KT626850.1'  \t.. final length: 976 \n",
      "processing record: 'KT958484.1'  \t.. final length: 976 \n",
      "processing record: 'EF362662.1'  \t.. final length: 63 \n",
      "processing record: 'EF362704.1'  \t.. final length: 473 \n",
      "processing record: 'GU261694.1'  \t.. final length: 977 \n",
      "processing record: 'GU477775.1'  \t.. final length: 445 \n",
      "processing record: 'EF373887.1'  \t.. final length: 576 \n",
      "processing record: 'KT626851.1'  \t.. final length: 976 \n",
      "processing record: 'FJ610340.1'  \t.. final length: 892 \n",
      "processing record: 'EF373880.1'  \t.. final length: 576 \n",
      "processing record: 'EF362687.1'  \t.. final length: 473 \n",
      "processing record: 'EF362660.1'  \t.. final length: 63 \n",
      "processing record: 'KF471516.1'  \t.. final length: 450 \n",
      "processing record: 'GU261711.1'  \t.. final length: 976 \n",
      "processing record: 'KF471517.1'  \t.. final length: 516 \n",
      "processing record: 'EF362643.1'  \t.. final length: 63 \n",
      "processing record: 'EF362651.1'  \t.. final length: 63 \n",
      "processing record: 'GU261701.1'  \t.. final length: 976 \n",
      "processing record: 'EF373883.1'  \t.. final length: 576 \n",
      "processing record: 'HQ857209.1'  \t.. final length: 976 \n",
      "processing record: 'EF373877.1'  \t.. final length: 576 \n",
      "processing record: 'EF362685.1'  \t.. final length: 473 \n",
      "processing record: 'NC_011198.1'  \t.. final length: 965 \n",
      "processing record: 'EF362678.1'  \t.. final length: 63 \n",
      "processing record: 'EF362639.1'  \t.. final length: 63 \n",
      "processing record: 'EF362692.1'  \t.. final length: 473 \n",
      "processing record: 'GU261717.1'  \t.. final length: 976 \n",
      "processing record: 'EF362683.1'  \t.. final length: 473 \n",
      "processing record: 'EF373902.1'  \t.. final length: 576 \n",
      "processing record: 'KP211943.1'  \t.. final length: 444 \n",
      "processing record: 'EF362694.1'  \t.. final length: 473 \n",
      "processing record: 'KP211423.1'  \t.. final length: 976 \n",
      "processing record: 'GU261718.1'  \t.. final length: 976 \n",
      "processing record: 'KF981434.1'  \t.. final length: 976 \n",
      "processing record: 'AB086102.1'  \t.. final length: 976 \n",
      "processing record: 'EF373896.1'  \t.. final length: 576 \n",
      "processing record: 'KM224332.1'  \t.. final length: 328 \n",
      "processing record: 'EF362670.1'  \t.. final length: 63 \n",
      "processing record: 'JN860636.1'  \t.. final length: 965 \n",
      "processing record: 'GU261683.1'  \t.. final length: 976 \n",
      "processing record: 'KF471518.1'  \t.. final length: 436 \n",
      "processing record: 'KJ778617.1'  \t.. final length: 976 \n",
      "processing record: 'EF362641.1'  \t.. final length: 63 \n",
      "processing record: 'EF373905.1'  \t.. final length: 576 \n",
      "processing record: 'X52392.1'  \t.. final length: 976 \n",
      "processing record: 'EF373897.1'  \t.. final length: 576 \n",
      "processing record: 'EF362698.1'  \t.. final length: 473 \n",
      "processing record: 'EF362673.1'  \t.. final length: 63 \n",
      "processing record: 'KP211420.1'  \t.. final length: 976 \n",
      "processing record: 'EF373875.1'  \t.. final length: 576 \n",
      "processing record: 'EF362647.1'  \t.. final length: 63 \n",
      "processing record: 'KP234022.1'  \t.. final length: 434 \n",
      "processing record: 'EF362654.1'  \t.. final length: 63 \n",
      "processing record: 'EF373898.1'  \t.. final length: 576 \n",
      "processing record: 'EF373878.1'  \t.. final length: 576 \n",
      "processing record: 'GU261712.1'  \t.. final length: 976 \n",
      "processing record: 'KT283576.1'  \t.. final length: 976 \n",
      "processing record: 'EF373901.1'  \t.. final length: 576 \n",
      "processing record: 'FJ230852.1'  \t.. final length: 395 \n",
      "processing record: 'EF362711.1'  \t.. final length: 473 \n",
      "processing record: 'KF471524.1'  \t.. final length: 427 \n",
      "processing record: 'GU261688.1'  \t.. final length: 976 \n",
      "processing record: 'EF362645.1'  \t.. final length: 63 \n",
      "processing record: 'JQ920369.1'  \t.. final length: 440 \n",
      "processing record: 'GU261676.1'  \t.. final length: 976 \n",
      "processing record: 'EF373903.1'  \t.. final length: 576 \n",
      "processing record: 'KM224334.1'  \t.. final length: 327 \n",
      "processing record: 'KT626848.1'  \t.. final length: 976 \n",
      "processing record: 'EF373873.1'  \t.. final length: 576 \n",
      "processing record: 'KP211419.1'  \t.. final length: 976 \n",
      "processing record: 'EF362666.1'  \t.. final length: 63 \n",
      "processing record: 'EF373882.1'  \t.. final length: 576 \n",
      "processing record: 'GU261695.1'  \t.. final length: 976 \n",
      "processing record: 'EF362712.1'  \t.. final length: 473 \n",
      "processing record: 'GU261705.1'  \t.. final length: 976 \n",
      "processing record: 'AP003323.1'  \t.. final length: 976 \n",
      "processing record: 'EF362701.1'  \t.. final length: 473 \n",
      "processing record: 'KM886937.1'  \t.. final length: 975 \n",
      "processing record: 'EF362719.1'  \t.. final length: 473 \n",
      "processing record: 'AY235571.1'  \t.. final length: 975 \n",
      "processing record: 'KT626854.1'  \t.. final length: 976 \n",
      "processing record: 'EF362656.1'  \t.. final length: 63 \n",
      "processing record: 'KP211424.1'  \t.. final length: 976 \n",
      "processing record: 'KX512321.1'  \t.. final length: 976 \n",
      "processing record: 'EF362706.1'  \t.. final length: 473 \n",
      "processing record: 'GU261710.1'  \t.. final length: 976 \n",
      "processing record: 'GU261696.1'  \t.. final length: 976 \n",
      "processing record: 'KF471520.1'  \t.. final length: 450 \n",
      "processing record: 'EF362650.1'  \t.. final length: 63 \n",
      "processing record: 'KP171705.1'  \t.. final length: 265 \n",
      "processing record: 'EF362689.1'  \t.. final length: 473 \n",
      "processing record: 'KT626856.1'  \t.. final length: 976 \n",
      "processing record: 'EF373876.1'  \t.. final length: 576 \n",
      "processing record: 'EU851897.1'  \t.. final length: 444 \n",
      "processing record: 'KM224330.1'  \t.. final length: 332 \n",
      "processing record: 'EF373891.1'  \t.. final length: 576 \n",
      "processing record: 'EF362677.1'  \t.. final length: 63 \n",
      "processing record: 'EF362652.1'  \t.. final length: 63 \n",
      "processing record: 'EF362640.1'  \t.. final length: 63 \n",
      "processing record: 'GU261699.1'  \t.. final length: 976 \n",
      "processing record: 'GU261704.1'  \t.. final length: 976 \n",
      "processing record: 'EF373889.1'  \t.. final length: 576 \n",
      "processing record: 'AP003321.1'  \t.. final length: 976 \n",
      "processing record: 'EF362658.1'  \t.. final length: 63 \n",
      "processing record: 'EF362675.1'  \t.. final length: 63 \n",
      "processing record: 'EF373907.1'  \t.. final length: 576 \n",
      "processing record: 'EF373895.1'  \t.. final length: 576 \n",
      "processing record: 'GU261682.1'  \t.. final length: 976 \n",
      "processing record: 'KP211422.1'  \t.. final length: 976 \n",
      "processing record: 'GU261703.1'  \t.. final length: 976 \n",
      "processing record: 'EF362708.1'  \t.. final length: 473 \n",
      "processing record: 'EF373904.1'  \t.. final length: 576 \n",
      "processing record: 'EF362715.1'  \t.. final length: 473 \n",
      "processing record: 'EF373894.1'  \t.. final length: 576 \n",
      "processing record: 'KT626847.1'  \t.. final length: 976 \n",
      "processing record: 'KF939304.1'  \t.. final length: 976 \n",
      "processing record: 'EF362672.1'  \t.. final length: 63 \n",
      "processing record: 'EF362716.1'  \t.. final length: 473 \n",
      "processing record: 'EF373874.1'  \t.. final length: 576 \n",
      "processing record: 'GU261716.1'  \t.. final length: 976 \n",
      "processing record: 'EF362659.1'  \t.. final length: 63 \n",
      "processing record: 'GU261675.1'  \t.. final length: 976 \n",
      "processing record: 'FJ610339.1'  \t.. final length: 875 \n",
      "processing record: 'AP003318.1'  \t.. final length: 976 \n",
      "processing record: 'GU261714.1'  \t.. final length: 976 \n",
      "processing record: 'EF362721.1'  \t.. final length: 473 \n",
      "processing record: 'KP742951.1'  \t.. final length: 975 \n",
      "processing record: 'EF362663.1'  \t.. final length: 63 \n",
      "processing record: 'GU261692.1'  \t.. final length: 976 \n",
      "processing record: 'GU261677.1'  \t.. final length: 976 \n",
      "processing record: 'GU261707.1'  \t.. final length: 976 \n",
      "processing record: 'KP244335.1'  \t.. final length: 976 \n",
      "processing record: 'EF362723.1'  \t.. final length: 63 \n",
      "processing record: 'KP681581.1'  \t.. final length: 976 \n",
      "processing record: 'EF362679.1'  \t.. final length: 63 \n",
      "processing record: 'EF362665.1'  \t.. final length: 63 \n",
      "processing record: 'EF432761.1'  \t.. final length: 63 \n",
      "processing record: 'GU261690.1'  \t.. final length: 976 \n",
      "processing record: 'KM096864.1'  \t.. final length: 976 \n",
      "processing record: 'DQ648776.1'  \t.. final length: 976 \n",
      "processing record: 'EF362707.1'  \t.. final length: 473 \n",
      "processing record: 'AP003322.1'  \t.. final length: 976 \n",
      "processing record: 'AJ583547.1'  \t.. final length: 402 \n",
      "processing record: 'EF362700.1'  \t.. final length: 473 \n",
      "processing record: 'EF362667.1'  \t.. final length: 63 \n",
      "processing record: 'GU261674.1'  \t.. final length: 976\n"
     ]
    }
   ],
   "source": [
    "for r in pj.records:\n",
    "#    print r.format('genbank')\n",
    "    crop_to_CDS(record=r)"
   ]
  },
  {
   "cell_type": "markdown",
   "metadata": {},
   "source": [
    "Convert cleaned records to genbank and fasta format in order to perform vsearch and remove redundancy."
   ]
  },
  {
   "cell_type": "code",
   "execution_count": 23,
   "metadata": {
    "collapsed": false
   },
   "outputs": [
    {
     "name": "stdout",
     "output_type": "stream",
     "text": [
      "Converted 512 records\n"
     ]
    }
   ],
   "source": [
    "from Bio import SeqIO\n",
    "\n",
    "temp=[]\n",
    "for r in pj.records:\n",
    "    temp.append(r)\n",
    "\n",
    "out = open('amphib_12S_raw_cleaned.gb', 'w')\n",
    "SeqIO.write(temp, out, 'genbank')\n",
    "out.close()\n",
    "\n",
    "out = open('amphib_12S_raw_cleaned.fa', 'w')\n",
    "SeqIO.write(temp, out, 'fasta')\n",
    "out.close()\n",
    "\n",
    "print(\"Converted %i records\" % len(temp))\n",
    "\n",
    "del(temp)"
   ]
  },
  {
   "cell_type": "markdown",
   "metadata": {},
   "source": [
    "Pickle the project."
   ]
  },
  {
   "cell_type": "code",
   "execution_count": 24,
   "metadata": {
    "collapsed": false
   },
   "outputs": [
    {
     "data": {
      "text/plain": [
       "'amphib_raw.pkl'"
      ]
     },
     "execution_count": 24,
     "metadata": {},
     "output_type": "execute_result"
    }
   ],
   "source": [
    "pickle_pj(pj, 'amphib_raw.pkl')"
   ]
  },
  {
   "cell_type": "markdown",
   "metadata": {},
   "source": [
    "# Vsearch - remove redundancy"
   ]
  },
  {
   "cell_type": "markdown",
   "metadata": {},
   "source": [
    "Remove redundancy by clustering the 12S rRNA sequences with vsearch."
   ]
  },
  {
   "cell_type": "code",
   "execution_count": 25,
   "metadata": {
    "collapsed": false
   },
   "outputs": [
    {
     "name": "stdout",
     "output_type": "stream",
     "text": [
      "vsearch v1.1.0_linux_x86_64, 31.3GB RAM, 8 cores\n",
      "https://github.com/torognes/vsearch\n",
      "\n",
      "Reading file amphib_12S_raw_cleaned.fa 100%\n",
      "292254 nt in 512 seqs, min 63, max 977, avg 571\n",
      "Indexing sequences 100%\n",
      "Masking 100%\n",
      "Sorting by length 100%\n",
      "Counting unique k-mers 100%\n",
      "Clustering 100%\n",
      "Writing clusters 100%\n",
      "Clusters: 205 Size min 1, max 67, avg 2.5\n",
      "Singletons: 148, 28.9% of seqs, 72.2% of clusters\n"
     ]
    }
   ],
   "source": [
    "!vsearch -threads 5 --cluster_fast amphib_12S_raw_cleaned.fa --strand both --uc 12S_id-1.uc --id 1 --query_cov 1"
   ]
  },
  {
   "cell_type": "code",
   "execution_count": 26,
   "metadata": {
    "collapsed": true
   },
   "outputs": [],
   "source": [
    "pj = Project('target_locus.csv', pickle='amphib_nr.pkl', git=False)"
   ]
  },
  {
   "cell_type": "code",
   "execution_count": 27,
   "metadata": {
    "collapsed": true
   },
   "outputs": [],
   "source": [
    "#pj = unpickle_pj('amphib_nr.pkl', git=False)"
   ]
  },
  {
   "cell_type": "code",
   "execution_count": 28,
   "metadata": {
    "collapsed": true
   },
   "outputs": [],
   "source": [
    "pj.read_embl_genbank(['amphib_12S_raw_cleaned.gb'])"
   ]
  },
  {
   "cell_type": "code",
   "execution_count": 29,
   "metadata": {
    "collapsed": true
   },
   "outputs": [],
   "source": [
    "pj.extract_by_locus()"
   ]
  },
  {
   "cell_type": "code",
   "execution_count": 30,
   "metadata": {
    "collapsed": false
   },
   "outputs": [
    {
     "name": "stdout",
     "output_type": "stream",
     "text": [
      "Distribution Of Sequence Lengths\n",
      "Distribution Of Sequence Statistic \"Gc_Content\"\n"
     ]
    },
    {
     "data": {
      "image/png": "[encoded data removed]",
      "text/plain": [
       "<matplotlib.figure.Figure at 0x7f889c064150>"
      ]
     },
     "metadata": {},
     "output_type": "display_data"
    },
    {
     "data": {
      "image/png": "[encoded data removed]",
      "text/plain": [
       "<matplotlib.figure.Figure at 0x7f88704ea910>"
      ]
     },
     "metadata": {},
     "output_type": "display_data"
    }
   ],
   "source": [
    "%matplotlib inline\n",
    "pj.report_seq_stats()"
   ]
  },
  {
   "cell_type": "code",
   "execution_count": 31,
   "metadata": {
    "collapsed": false
   },
   "outputs": [
    {
     "name": "stdout",
     "output_type": "stream",
     "text": [
      "Total number of records: 512\n",
      "Number of species (see below for full list): 24\n",
      "['Alytes obstetricans', 'Pelophylax ridibundus', 'Discoglossus pictus', 'Lissotriton vulgaris', 'Bombina bombina', 'Lissotriton helveticus', 'Ichthyosaura alpestris', 'Rana dalmatina', 'Epidalea calamita', 'Xenopus laevis', 'Salamandra salamandra', 'Triturus carnifex', 'Rana temporaria', 'Bombina variegata', 'Cottus gobio', 'Hyla arborea', 'Gallus gallus', 'Pelophylax esculentus', 'Triturus cristatus', 'Rana catesbeiana', 'Bufo bufo', 'Pelophylax lessonae', 'Chelydra serpentina', 'Hydromantes genei']\n"
     ]
    }
   ],
   "source": [
    "species=[]\n",
    "for r in pj.records:\n",
    "    source = [f for f in r.features if f.type == 'source'][0]\n",
    "    species.append(\" \".join(source.qualifiers['organism'][0].split()[0:2]))\n",
    "    \n",
    "#print set(species)\n",
    "total=len(species)\n",
    "species=list(set(species))\n",
    "\n",
    "print \"Total number of records: %i\" %total\n",
    "print \"Number of species (see below for full list): %i\" %len(species)\n",
    "print species"
   ]
  },
  {
   "cell_type": "markdown",
   "metadata": {},
   "source": [
    "Extract ids of representative sequences identified by vsearch -> remove all others from the object."
   ]
  },
  {
   "cell_type": "code",
   "execution_count": 32,
   "metadata": {
    "collapsed": false
   },
   "outputs": [
    {
     "name": "stdout",
     "output_type": "stream",
     "text": [
      "to drop: 307\n",
      "to keep: 205\n",
      "TOTAL: 512\n"
     ]
    }
   ],
   "source": [
    "ids = []\n",
    "\n",
    "uc=open('12S_id-1.uc', 'r')\n",
    "\n",
    "for line in uc:\n",
    "    if line.startswith('C'):\n",
    "        ids.append(line.split(\"\\t\")[8])\n",
    "        \n",
    "recs_to_keep = {'rrnS': ids}\n",
    "recs_to_drop = {'rrnS': []}\n",
    "\n",
    "for r in pj.records:\n",
    "    if not r.id in recs_to_keep['rrnS']:\n",
    "        recs_to_drop['rrnS'].append(r.id)\n",
    "        \n",
    "print \"to drop: %s\" %len(recs_to_drop['rrnS'])\n",
    "print \"to keep: %s\" %len(recs_to_keep['rrnS'])\n",
    "\n",
    "print \"TOTAL: %s\" %(len(recs_to_drop['rrnS']) + len(recs_to_keep['rrnS']))"
   ]
  },
  {
   "cell_type": "markdown",
   "metadata": {},
   "source": [
    "Exclude redundant records from object."
   ]
  },
  {
   "cell_type": "code",
   "execution_count": 33,
   "metadata": {
    "collapsed": true
   },
   "outputs": [],
   "source": [
    "pj.exclude(start_from_max=False, **recs_to_drop)"
   ]
  },
  {
   "cell_type": "code",
   "execution_count": 34,
   "metadata": {
    "collapsed": false
   },
   "outputs": [
    {
     "name": "stdout",
     "output_type": "stream",
     "text": [
      "Total number of records: 205\n",
      "Number of species (see below for full list): 24\n",
      "['Alytes obstetricans', 'Pelophylax ridibundus', 'Discoglossus pictus', 'Lissotriton vulgaris', 'Pelophylax lessonae', 'Lissotriton helveticus', 'Ichthyosaura alpestris', 'Rana dalmatina', 'Triturus cristatus', 'Xenopus laevis', 'Salamandra salamandra', 'Triturus carnifex', 'Rana temporaria', 'Bombina variegata', 'Cottus gobio', 'Hyla arborea', 'Gallus gallus', 'Pelophylax esculentus', 'Epidalea calamita', 'Rana catesbeiana', 'Bufo bufo', 'Bombina bombina', 'Chelydra serpentina', 'Hydromantes genei']\n"
     ]
    }
   ],
   "source": [
    "species=[]\n",
    "for r in pj.records:\n",
    "    if r.id in recs_to_keep['rrnS']:\n",
    "        source = [f for f in r.features if f.type == 'source'][0]\n",
    "        species.append(\" \".join(source.qualifiers['organism'][0].split()[0:2]))\n",
    "    \n",
    "#print set(species)\n",
    "total=len(species)\n",
    "species=list(set(species))\n",
    "\n",
    "print \"Total number of records: %i\" %total\n",
    "print \"Number of species (see below for full list): %i\" %len(species)\n",
    "print species"
   ]
  },
  {
   "cell_type": "markdown",
   "metadata": {},
   "source": [
    "Write short 12S rRNA sequences (< 500bp) to fasta file to build new alignment outside Reprophylo later in script using hmmbuild. The Hidden Markov Model alignment will include all 12S rRNA sequences - short and long."
   ]
  },
  {
   "cell_type": "code",
   "execution_count": 35,
   "metadata": {
    "collapsed": false
   },
   "outputs": [
    {
     "name": "stdout",
     "output_type": "stream",
     "text": [
      "Total number of records: 114\n"
     ]
    }
   ],
   "source": [
    "temp_seq = []\n",
    "\n",
    "for r in pj.records_by_locus['rrnS']:\n",
    "    if len(r.seq) < 500:\n",
    "        temp_seq.append(r)\n",
    "        \n",
    "total = len(temp_seq)\n",
    "print \"Total number of records: %i\" %total\n",
    "\n",
    "from Bio import SeqIO\n",
    "\n",
    "out=open('amphib_short_to_align.fasta','w')\n",
    "SeqIO.write(temp_seq, out, 'fasta')\n",
    "out.close()"
   ]
  },
  {
   "cell_type": "markdown",
   "metadata": {},
   "source": [
    "# Filter by Length"
   ]
  },
  {
   "cell_type": "markdown",
   "metadata": {},
   "source": [
    "Write cropped records (minimum length of 500bp) to fasta and Genbank file."
   ]
  },
  {
   "cell_type": "code",
   "execution_count": 36,
   "metadata": {
    "collapsed": true
   },
   "outputs": [],
   "source": [
    "from Bio import SeqIO\n",
    "\n",
    "temp=[]\n",
    "for r in pj.records:\n",
    "    if len(r.seq) >= 500:\n",
    "        temp.append(r)\n",
    "\n",
    "out = open('amphib12S_cropped_500bp.gb', 'w')\n",
    "SeqIO.write(temp, out, 'genbank')\n",
    "out.close()\n",
    "\n",
    "out = open('amphib12S_cropped_500bp.fa', 'w')\n",
    "SeqIO.write(temp, out, 'fasta')\n",
    "out.close()\n",
    "\n",
    "\n",
    "del(temp)"
   ]
  },
  {
   "cell_type": "markdown",
   "metadata": {},
   "source": [
    "Pickle the project."
   ]
  },
  {
   "cell_type": "code",
   "execution_count": 37,
   "metadata": {
    "collapsed": false
   },
   "outputs": [
    {
     "data": {
      "text/plain": [
       "'amphib_nr.pkl'"
      ]
     },
     "execution_count": 37,
     "metadata": {},
     "output_type": "execute_result"
    }
   ],
   "source": [
    "pickle_pj(pj, 'amphib_nr.pkl')"
   ]
  },
  {
   "cell_type": "markdown",
   "metadata": {},
   "source": [
    "Now view records in cropped genbank file."
   ]
  },
  {
   "cell_type": "code",
   "execution_count": 38,
   "metadata": {
    "collapsed": false
   },
   "outputs": [
    {
     "name": "stdout",
     "output_type": "stream",
     "text": [
      "index 0, ID = AY585337.1, length 937, with 2 features\n",
      "index 1, ID = KC977221.1, length 663, with 2 features\n",
      "index 2, ID = EU115993.1, length 933, with 2 features\n",
      "index 3, ID = U52726.1, length 954, with 2 features\n",
      "index 4, ID = JX893174.1, length 933, with 2 features\n",
      "index 5, ID = AY581644.1, length 840, with 2 features\n",
      "index 6, ID = JX893176.1, length 932, with 2 features\n",
      "index 7, ID = NC_022696.1, length 937, with 2 features\n",
      "index 8, ID = JX893175.1, length 933, with 2 features\n",
      "index 9, ID = KC977215.1, length 663, with 2 features\n",
      "index 10, ID = AB761267.1, length 937, with 2 features\n",
      "index 11, ID = AY581648.1, length 840, with 2 features\n",
      "index 12, ID = X12841.1, length 937, with 2 features\n",
      "index 13, ID = JX893178.1, length 932, with 2 features\n",
      "index 14, ID = KC977204.1, length 663, with 2 features\n",
      "index 15, ID = HQ697272.1, length 924, with 2 features\n",
      "index 16, ID = M10217.1, length 819, with 2 features\n",
      "index 17, ID = KC977206.1, length 663, with 2 features\n",
      "index 18, ID = EU880335.1, length 926, with 2 features\n",
      "index 19, ID = AB640897.1, length 931, with 2 features\n",
      "index 20, ID = DQ055835.1, length 936, with 2 features\n",
      "index 21, ID = AY581641.1, length 840, with 2 features\n",
      "index 22, ID = KC977223.1, length 663, with 2 features\n",
      "index 23, ID = JN627424.1, length 930, with 2 features\n",
      "index 24, ID = DQ359960.1, length 701, with 2 features\n",
      "index 25, ID = M27605.1, length 945, with 2 features\n",
      "index 26, ID = JX893172.1, length 933, with 2 features\n",
      "index 27, ID = KJ858774.1, length 524, with 2 features\n",
      "index 28, ID = AY325988.1, length 931, with 2 features\n",
      "index 29, ID = KC977218.1, length 663, with 2 features\n",
      "index 30, ID = NC_001573.1, length 819, with 2 features\n",
      "index 31, ID = KC977216.1, length 663, with 2 features\n",
      "index 32, ID = KJ858776.1, length 524, with 2 features\n",
      "index 33, ID = D12694.1, length 620, with 2 features\n",
      "index 34, ID = KC977217.1, length 663, with 2 features\n",
      "index 35, ID = M57527.1, length 938, with 2 features\n",
      "index 36, ID = KC977209.1, length 663, with 2 features\n",
      "index 37, ID = NC_015790.1, length 926, with 2 features\n",
      "index 38, ID = KJ858769.1, length 524, with 2 features\n",
      "index 39, ID = JN627423.1, length 932, with 2 features\n",
      "index 40, ID = JN627421.1, length 932, with 2 features\n",
      "index 41, ID = KJ858770.1, length 524, with 2 features\n",
      "index 42, ID = JQ626644.1, length 525, with 2 features\n",
      "index 43, ID = Y10943.1, length 946, with 2 features\n",
      "index 44, ID = EU880339.1, length 927, with 2 features\n",
      "index 45, ID = KJ858773.1, length 524, with 2 features\n",
      "index 46, ID = JN627426.1, length 930, with 2 features\n",
      "index 47, ID = HQ697273.1, length 926, with 2 features\n",
      "index 48, ID = KJ858772.1, length 524, with 2 features\n",
      "index 49, ID = KC977225.1, length 663, with 2 features\n",
      "index 50, ID = KC977222.1, length 663, with 2 features\n",
      "index 51, ID = AY326063.1, length 930, with 2 features\n",
      "index 52, ID = JX893173.1, length 933, with 2 features\n",
      "index 53, ID = AY581639.1, length 840, with 2 features\n",
      "index 54, ID = KC977219.1, length 663, with 2 features\n",
      "index 55, ID = KJ858778.1, length 524, with 2 features\n",
      "index 56, ID = KJ858775.1, length 524, with 2 features\n",
      "index 57, ID = EU880331.1, length 921, with 2 features\n",
      "index 58, ID = JX893177.1, length 932, with 2 features\n",
      "index 59, ID = KC977207.1, length 663, with 2 features\n",
      "index 60, ID = KC977212.1, length 663, with 2 features\n",
      "index 61, ID = DQ158438.1, length 902, with 2 features\n",
      "index 62, ID = KC977208.1, length 663, with 2 features\n",
      "index 63, ID = KC977210.1, length 663, with 2 features\n",
      "index 64, ID = KJ858777.1, length 524, with 2 features\n",
      "index 65, ID = JN627422.1, length 930, with 2 features\n",
      "index 66, ID = AY928619.1, length 824, with 2 features\n",
      "index 67, ID = KJ858771.1, length 524, with 2 features\n",
      "index 68, ID = DQ283127.1, length 872, with 2 features\n",
      "index 69, ID = KC977226.1, length 663, with 2 features\n",
      "index 70, ID = JQ626651.1, length 523, with 2 features\n",
      "index 71, ID = KU840522.1, length 749, with 2 features\n",
      "index 72, ID = KC977224.1, length 663, with 2 features\n",
      "index 73, ID = JQ626643.1, length 525, with 2 features\n",
      "index 74, ID = AY971143.1, length 933, with 2 features\n",
      "index 75, ID = AY581640.1, length 840, with 2 features\n",
      "index 76, ID = AY581638.1, length 838, with 2 features\n",
      "index 77, ID = NC_009258.1, length 933, with 2 features\n",
      "index 78, ID = NC_015788.1, length 924, with 2 features\n",
      "index 79, ID = KC977213.1, length 663, with 2 features\n",
      "index 80, ID = KC977214.1, length 663, with 2 features\n",
      "index 81, ID = AY843601.1, length 925, with 2 features\n",
      "index 82, ID = KC977205.1, length 663, with 2 features\n",
      "index 83, ID = KC977211.1, length 663, with 2 features\n",
      "index 84, ID = KF049927.1, length 937, with 2 features\n",
      "index 85, ID = EU938400.1, length 932, with 2 features\n",
      "index 86, ID = AB685766.1, length 932, with 2 features\n",
      "index 87, ID = KC977220.1, length 663, with 2 features\n",
      "index 88, ID = EU880336.1, length 926, with 2 features\n",
      "index 89, ID = JN627425.1, length 930, with 2 features\n",
      "index 90, ID = KT626855.1, length 976, with 2 features\n",
      "index 91, ID = AP003317.1, length 976, with 2 features\n",
      "index 92, ID = KF826490.1, length 976, with 2 features\n",
      "index 93, ID = KP211421.1, length 976, with 2 features\n",
      "index 94, ID = GU261697.1, length 976, with 2 features\n",
      "index 95, ID = HQ857211.1, length 976, with 2 features\n",
      "index 96, ID = KT626857.1, length 976, with 2 features\n",
      "index 97, ID = KF954727.1, length 976, with 2 features\n",
      "index 98, ID = EF373884.1, length 576, with 2 features\n",
      "index 99, ID = HQ857210.1, length 976, with 2 features\n",
      "index 100, ID = KP269069.1, length 976, with 2 features\n",
      "index 101, ID = EF373900.1, length 576, with 2 features\n",
      "index 102, ID = EF373899.1, length 576, with 2 features\n",
      "index 103, ID = AP003319.1, length 976, with 2 features\n",
      "index 104, ID = EF373906.1, length 576, with 2 features\n",
      "index 105, ID = GU261687.1, length 976, with 2 features\n",
      "index 106, ID = EF373886.1, length 576, with 2 features\n",
      "index 107, ID = NC_001323.1, length 976, with 2 features\n",
      "index 108, ID = GU261680.1, length 976, with 2 features\n",
      "index 109, ID = EF373893.1, length 576, with 2 features\n",
      "index 110, ID = KP211425.1, length 976, with 2 features\n",
      "index 111, ID = FJ610338.1, length 872, with 2 features\n",
      "index 112, ID = EF373908.1, length 576, with 2 features\n",
      "index 113, ID = GU261678.1, length 976, with 2 features\n",
      "index 114, ID = GU261708.1, length 976, with 2 features\n",
      "index 115, ID = GU261693.1, length 976, with 2 features\n",
      "index 116, ID = KF471522.1, length 500, with 2 features\n",
      "index 117, ID = EF373879.1, length 576, with 2 features\n",
      "index 118, ID = KP681580.1, length 976, with 2 features\n",
      "index 119, ID = KT626853.1, length 976, with 2 features\n",
      "index 120, ID = KF471525.1, length 500, with 2 features\n",
      "index 121, ID = GU261681.1, length 976, with 2 features\n",
      "index 122, ID = GU261691.1, length 976, with 2 features\n",
      "index 123, ID = GU261689.1, length 976, with 2 features\n",
      "index 124, ID = GU261706.1, length 976, with 2 features\n",
      "index 125, ID = KM433666.1, length 976, with 2 features\n",
      "index 126, ID = KT626852.1, length 976, with 2 features\n",
      "index 127, ID = AP003580.1, length 976, with 2 features\n",
      "index 128, ID = KT626858.1, length 976, with 2 features\n",
      "index 129, ID = EF373885.1, length 576, with 2 features\n",
      "index 130, ID = GU261698.1, length 976, with 2 features\n",
      "index 131, ID = GU261700.1, length 976, with 2 features\n",
      "index 132, ID = KM886936.1, length 975, with 2 features\n",
      "index 133, ID = AB188189.1, length 783, with 2 features\n",
      "index 134, ID = GU261684.1, length 976, with 2 features\n",
      "index 135, ID = GU261719.1, length 976, with 2 features\n",
      "index 136, ID = EF122793.1, length 965, with 2 features\n",
      "index 137, ID = EF373890.1, length 576, with 2 features\n",
      "index 138, ID = GU261715.1, length 976, with 2 features\n",
      "index 139, ID = GU261685.1, length 976, with 2 features\n",
      "index 140, ID = GU261702.1, length 976, with 2 features\n",
      "index 141, ID = EF373892.1, length 576, with 2 features\n",
      "index 142, ID = EF373888.1, length 576, with 2 features\n",
      "index 143, ID = AY235570.1, length 975, with 2 features\n",
      "index 144, ID = GU261713.1, length 976, with 2 features\n",
      "index 145, ID = GU261686.1, length 976, with 2 features\n",
      "index 146, ID = GU261709.1, length 976, with 2 features\n",
      "index 147, ID = KT626849.1, length 976, with 2 features\n",
      "index 148, ID = GU261679.1, length 976, with 2 features\n",
      "index 149, ID = HQ857212.1, length 976, with 2 features\n",
      "index 150, ID = EF373881.1, length 576, with 2 features\n",
      "index 151, ID = KP211418.1, length 976, with 2 features\n",
      "index 152, ID = KR347464.1, length 976, with 2 features\n",
      "index 153, ID = KT626850.1, length 976, with 2 features\n",
      "index 154, ID = KT958484.1, length 976, with 2 features\n",
      "index 155, ID = GU261694.1, length 977, with 2 features\n",
      "index 156, ID = EF373887.1, length 576, with 2 features\n",
      "index 157, ID = KT626851.1, length 976, with 2 features\n",
      "index 158, ID = FJ610340.1, length 892, with 2 features\n",
      "index 159, ID = EF373880.1, length 576, with 2 features\n",
      "index 160, ID = GU261711.1, length 976, with 2 features\n",
      "index 161, ID = KF471517.1, length 516, with 2 features\n",
      "index 162, ID = GU261701.1, length 976, with 2 features\n",
      "index 163, ID = EF373883.1, length 576, with 2 features\n",
      "index 164, ID = HQ857209.1, length 976, with 2 features\n",
      "index 165, ID = EF373877.1, length 576, with 2 features\n",
      "index 166, ID = NC_011198.1, length 965, with 2 features\n",
      "index 167, ID = GU261717.1, length 976, with 2 features\n",
      "index 168, ID = EF373902.1, length 576, with 2 features\n",
      "index 169, ID = KP211423.1, length 976, with 2 features\n",
      "index 170, ID = GU261718.1, length 976, with 2 features\n",
      "index 171, ID = KF981434.1, length 976, with 2 features\n",
      "index 172, ID = AB086102.1, length 976, with 2 features\n",
      "index 173, ID = EF373896.1, length 576, with 2 features\n",
      "index 174, ID = JN860636.1, length 965, with 2 features\n",
      "index 175, ID = GU261683.1, length 976, with 2 features\n",
      "index 176, ID = KJ778617.1, length 976, with 2 features\n",
      "index 177, ID = EF373905.1, length 576, with 2 features\n",
      "index 178, ID = X52392.1, length 976, with 2 features\n",
      "index 179, ID = EF373897.1, length 576, with 2 features\n",
      "index 180, ID = KP211420.1, length 976, with 2 features\n",
      "index 181, ID = EF373875.1, length 576, with 2 features\n",
      "index 182, ID = EF373898.1, length 576, with 2 features\n",
      "index 183, ID = EF373878.1, length 576, with 2 features\n",
      "index 184, ID = GU261712.1, length 976, with 2 features\n",
      "index 185, ID = KT283576.1, length 976, with 2 features\n",
      "index 186, ID = EF373901.1, length 576, with 2 features\n",
      "index 187, ID = GU261688.1, length 976, with 2 features\n",
      "index 188, ID = GU261676.1, length 976, with 2 features\n",
      "index 189, ID = EF373903.1, length 576, with 2 features\n",
      "index 190, ID = KT626848.1, length 976, with 2 features\n",
      "index 191, ID = EF373873.1, length 576, with 2 features\n",
      "index 192, ID = KP211419.1, length 976, with 2 features\n",
      "index 193, ID = EF373882.1, length 576, with 2 features\n",
      "index 194, ID = GU261695.1, length 976, with 2 features\n",
      "index 195, ID = GU261705.1, length 976, with 2 features\n",
      "index 196, ID = AP003323.1, length 976, with 2 features\n",
      "index 197, ID = KM886937.1, length 975, with 2 features\n",
      "index 198, ID = AY235571.1, length 975, with 2 features\n",
      "index 199, ID = KT626854.1, length 976, with 2 features\n",
      "index 200, ID = KP211424.1, length 976, with 2 features\n",
      "index 201, ID = KX512321.1, length 976, with 2 features\n",
      "index 202, ID = GU261710.1, length 976, with 2 features\n",
      "index 203, ID = GU261696.1, length 976, with 2 features\n",
      "index 204, ID = KT626856.1, length 976, with 2 features\n",
      "index 205, ID = EF373876.1, length 576, with 2 features\n",
      "index 206, ID = EF373891.1, length 576, with 2 features\n",
      "index 207, ID = GU261699.1, length 976, with 2 features\n",
      "index 208, ID = GU261704.1, length 976, with 2 features\n",
      "index 209, ID = EF373889.1, length 576, with 2 features\n",
      "index 210, ID = AP003321.1, length 976, with 2 features\n",
      "index 211, ID = EF373907.1, length 576, with 2 features\n",
      "index 212, ID = EF373895.1, length 576, with 2 features\n",
      "index 213, ID = GU261682.1, length 976, with 2 features\n",
      "index 214, ID = KP211422.1, length 976, with 2 features\n",
      "index 215, ID = GU261703.1, length 976, with 2 features\n",
      "index 216, ID = EF373904.1, length 576, with 2 features\n",
      "index 217, ID = EF373894.1, length 576, with 2 features\n",
      "index 218, ID = KT626847.1, length 976, with 2 features\n",
      "index 219, ID = KF939304.1, length 976, with 2 features\n",
      "index 220, ID = EF373874.1, length 576, with 2 features\n",
      "index 221, ID = GU261716.1, length 976, with 2 features\n",
      "index 222, ID = GU261675.1, length 976, with 2 features\n",
      "index 223, ID = FJ610339.1, length 875, with 2 features\n",
      "index 224, ID = AP003318.1, length 976, with 2 features\n",
      "index 225, ID = GU261714.1, length 976, with 2 features\n",
      "index 226, ID = KP742951.1, length 975, with 2 features\n",
      "index 227, ID = GU261692.1, length 976, with 2 features\n",
      "index 228, ID = GU261677.1, length 976, with 2 features\n",
      "index 229, ID = GU261707.1, length 976, with 2 features\n",
      "index 230, ID = KP244335.1, length 976, with 2 features\n",
      "index 231, ID = KP681581.1, length 976, with 2 features\n",
      "index 232, ID = GU261690.1, length 976, with 2 features\n",
      "index 233, ID = KM096864.1, length 976, with 2 features\n",
      "index 234, ID = DQ648776.1, length 976, with 2 features\n",
      "index 235, ID = AP003322.1, length 976, with 2 features\n",
      "index 236, ID = GU261674.1, length 976, with 2 features\n"
     ]
    }
   ],
   "source": [
    "for index, record in enumerate(SeqIO.parse(\"amphib12S_cropped_500bp.gb\", \"genbank\")):\n",
    "        print(\"index %i, ID = %s, length %i, with %i features\"\n",
    "          % (index, record.id, len(record.seq), len(record.features)))"
   ]
  },
  {
   "cell_type": "markdown",
   "metadata": {},
   "source": [
    "Now need to filter all 12S rRNA sequences within pj.records dictionary by length to remove all sequences shorter than 500bp within Reprophylo."
   ]
  },
  {
   "cell_type": "code",
   "execution_count": 39,
   "metadata": {
    "collapsed": true
   },
   "outputs": [],
   "source": [
    "# Define minima and maxima\n",
    "\n",
    "gc_inliers = {\n",
    "    'rrnS': [34,55]\n",
    "}\n",
    "len_inliers = {\n",
    "    'rrnS': [500,1000]\n",
    "}\n",
    "\n",
    "\n",
    "# Apply to loci data\n",
    "for locus in gc_inliers:\n",
    "    # trim GC outliers\n",
    "    pj.filter_by_gc_content(locus,\n",
    "                            min_percent_gc=gc_inliers[locus][0],\n",
    "                            max_percent_gc=gc_inliers[locus][1])\n",
    "\n",
    "    # trim length outlier\n",
    "    pj.filter_by_seq_length(locus,\n",
    "                            min_length=len_inliers[locus][0],\n",
    "                            max_length=len_inliers[locus][1])"
   ]
  },
  {
   "cell_type": "markdown",
   "metadata": {},
   "source": [
    "Confirm that the length filter has worked."
   ]
  },
  {
   "cell_type": "code",
   "execution_count": 40,
   "metadata": {
    "collapsed": false
   },
   "outputs": [
    {
     "name": "stdout",
     "output_type": "stream",
     "text": [
      "Distribution Of Sequence Lengths\n",
      "Distribution Of Sequence Statistic \"Gc_Content\"\n"
     ]
    },
    {
     "data": {
      "image/png": "[encoded data removed]",
      "text/plain": [
       "<matplotlib.figure.Figure at 0x7f889c0c2e10>"
      ]
     },
     "metadata": {},
     "output_type": "display_data"
    },
    {
     "data": {
      "image/png": "[encoded data removed]",
      "text/plain": [
       "<matplotlib.figure.Figure at 0x7f8870738890>"
      ]
     },
     "metadata": {},
     "output_type": "display_data"
    }
   ],
   "source": [
    "pj.report_seq_stats()"
   ]
  },
  {
   "cell_type": "markdown",
   "metadata": {},
   "source": [
    "Pickle the project."
   ]
  },
  {
   "cell_type": "code",
   "execution_count": 41,
   "metadata": {
    "collapsed": false
   },
   "outputs": [
    {
     "data": {
      "text/plain": [
       "'amphib_nr.pkl'"
      ]
     },
     "execution_count": 41,
     "metadata": {},
     "output_type": "execute_result"
    }
   ],
   "source": [
    "pickle_pj(pj, 'amphib_nr.pkl')"
   ]
  },
  {
   "cell_type": "markdown",
   "metadata": {},
   "source": [
    "# Alignment"
   ]
  },
  {
   "cell_type": "markdown",
   "metadata": {},
   "source": [
    "Now, need to produce a sequence alignment file based on an alignment of all 12S sequences longer than 500bp. This will be done with the AlnConf class."
   ]
  },
  {
   "cell_type": "code",
   "execution_count": 42,
   "metadata": {
    "collapsed": true
   },
   "outputs": [],
   "source": [
    "pj = unpickle_pj('amphib_nr.pkl', git=False)"
   ]
  },
  {
   "cell_type": "markdown",
   "metadata": {},
   "source": [
    "muscle default configuration:"
   ]
  },
  {
   "cell_type": "code",
   "execution_count": 43,
   "metadata": {
    "collapsed": false
   },
   "outputs": [
    {
     "name": "stdout",
     "output_type": "stream",
     "text": [
      "muscle -in 116331477479220.29_rrnS.fasta\n"
     ]
    }
   ],
   "source": [
    "muscle_default = AlnConf(pj,\n",
    "                          method_name=\"muscleDefault\",\n",
    "                          program_name=\"muscle\",\n",
    "                          loci=['rrnS'])"
   ]
  },
  {
   "cell_type": "markdown",
   "metadata": {},
   "source": [
    "Once there are one or more AlnConf objects, they can be executed in one go using the Project method align. This method accepts a list of AlnConf objects and does whatever it is each of them tells it:"
   ]
  },
  {
   "cell_type": "code",
   "execution_count": 45,
   "metadata": {
    "collapsed": false
   },
   "outputs": [],
   "source": [
    "pj.align([muscle_default])"
   ]
  },
  {
   "cell_type": "markdown",
   "metadata": {},
   "source": [
    "When the process is done, the AlnConf objects will be stored in pj.used_methods, which is a dictionary using the method names as keys. If you print one of these AlnConf objects as a string, you will get complete details about the process, including programme versions and references:"
   ]
  },
  {
   "cell_type": "code",
   "execution_count": 46,
   "metadata": {
    "collapsed": false
   },
   "outputs": [
    {
     "name": "stdout",
     "output_type": "stream",
     "text": [
      "AlnConf named muscleDefault with ID 116331477479220.29\n",
      "Loci: rrnS \n",
      "Created on: Wed Oct 26 10:53:40 2016\n",
      "Commands:\n",
      "rrnS: muscle -in 116331477479220.29_rrnS.fasta\n",
      "\n",
      "Environment:\n",
      "Platform: Linux-4.4.0-38-generic-x86_64-with-Ubuntu-14.04-trusty\n",
      " Processor: x86_64\n",
      " Python build: defaultMar 22 2014 22:59:56\n",
      " Python compiler: GCC 4.8.2\n",
      " Python implementation: CPython\n",
      " Python version: 2.7.6\n",
      " ete2 version: 2.2.1072\n",
      " biopython version: 1.68\n",
      " dendropy version: 3.12.2\n",
      " cloud version: 2.8.5\n",
      " reprophylo version 1.3\n",
      " User: biopc4\n",
      " Program and version: MUSCLE v3.8.31\\nPal2Nal v14\n",
      " Program reference:\\nEdgar 2004: MUSCLE: multiple sequence alignment with high accuracy and high throughput. Nucleic Acids Research 32(5):1792-1797\\nMikita Suyama\n",
      " David Torrents\n",
      " and Peer Bork (2006) PAL2NAL: robust conversion of protein sequence alignments into the corresponding codon alignments.Nucleic Acids Res. 34\n",
      " W609-W612.\n",
      "execution time:\n",
      "14.6074130535\n",
      "\n",
      "\n",
      "==============================\n",
      "Core Methods section sentence:\n",
      "==============================\n",
      "The dataset(s) rrnS were first aligned at the protein level using the program MUSCLE v3.8.31 [1].\n",
      "The resulting alignments served as guides to codon-align the DNA sequences using Pal2Nal v14 [2].\n",
      "\n",
      "Reference:\n",
      "[1]Edgar 2004: MUSCLE: multiple sequence alignment with high accuracy and high throughput. Nucleic Acids Research 32(5):1792-1797\n",
      "[2]Mikita Suyama, David Torrents, and Peer Bork (2006) PAL2NAL: robust conversion of protein sequence alignments into the corresponding codon alignments.Nucleic Acids Res. 34, W609-W612.\n",
      "\n"
     ]
    }
   ],
   "source": [
    "print pj.used_methods['muscleDefault']"
   ]
  },
  {
   "cell_type": "markdown",
   "metadata": {},
   "source": [
    "The alignments themselves are stored in the pj.alignments dictionary, using keys that follow this pattern: locus_name@method_name where method_name is the name you have provided to your AlnConf object."
   ]
  },
  {
   "cell_type": "code",
   "execution_count": 47,
   "metadata": {
    "collapsed": false
   },
   "outputs": [
    {
     "data": {
      "text/plain": [
       "{'rrnS@muscleDefault': <<class 'Bio.Align.MultipleSeqAlignment'> instance (89 records of length 1292, IUPACProtein()) at 7f88709dd750>}"
      ]
     },
     "execution_count": 47,
     "metadata": {},
     "output_type": "execute_result"
    }
   ],
   "source": [
    "pj.alignments"
   ]
  },
  {
   "cell_type": "markdown",
   "metadata": {},
   "source": [
    "Alignment text files can be dumped in any AlignIO format for usage in an external command line or GUI program. When writing to files, you can control the header of the sequence by, for example, adding the organism name of the gene name, or by replacing the feature ID with the record ID."
   ]
  },
  {
   "cell_type": "code",
   "execution_count": 48,
   "metadata": {
    "collapsed": false
   },
   "outputs": [
    {
     "data": {
      "text/plain": [
       "['rrnS@muscleDefault_aln.fasta']"
      ]
     },
     "execution_count": 48,
     "metadata": {},
     "output_type": "execute_result"
    }
   ],
   "source": [
    "# record_id and source_organism are feature qualifiers in the SeqRecord object\n",
    "files = pj.write_alns(id=['record_id','source_organism'],\n",
    "                      format='fasta')\n",
    "files"
   ]
  },
  {
   "cell_type": "markdown",
   "metadata": {},
   "source": [
    "**NB: muscleDefault alignment was chosen as this is designed for RNA sequences and better equipped to deal with short alignments**"
   ]
  },
  {
   "cell_type": "markdown",
   "metadata": {},
   "source": [
    "Pickle the project."
   ]
  },
  {
   "cell_type": "code",
   "execution_count": 49,
   "metadata": {
    "collapsed": false
   },
   "outputs": [
    {
     "data": {
      "text/plain": [
       "'amphib_nr.pkl'"
      ]
     },
     "execution_count": 49,
     "metadata": {},
     "output_type": "execute_result"
    }
   ],
   "source": [
    "pickle_pj(pj, 'amphib_nr.pkl')"
   ]
  },
  {
   "cell_type": "markdown",
   "metadata": {},
   "source": [
    "# Build tree"
   ]
  },
  {
   "cell_type": "markdown",
   "metadata": {},
   "source": [
    "The alignment needs to be trimmed to remove large gaps in sequences. The cell below contains the reprophylo solution for clipping the alignment - the default gappyout algorithm. With TrimalConf, instead of specifying loci names, we provide alignment names, as they appear in the keys of pj.alignments."
   ]
  },
  {
   "cell_type": "code",
   "execution_count": 50,
   "metadata": {
    "collapsed": false
   },
   "outputs": [
    {
     "name": "stdout",
     "output_type": "stream",
     "text": [
      "trimal -in 828141477479418.88_rrnS@muscleDefault.fasta -gappyout\n"
     ]
    }
   ],
   "source": [
    "muscle_gappyout = TrimalConf(pj,                       # The Project\n",
    "\n",
    "                            method_name='gappyout',  # Any unique string \n",
    "                                                     # ('gappyout' is default)\n",
    "                            \n",
    "                            program_name='trimal',   # No alternatives in \n",
    "                                                     # this ReproPhylo version\n",
    "                            \n",
    "                            cmd='default',           # the default is trimal. \n",
    "                                                     # Change it here\n",
    "                                                     # or in pj.defaults['trimal']\n",
    "                            \n",
    "                            alns=['rrnS@muscleDefault'],  # 'all' by default\n",
    "                            \n",
    "                            trimal_commands={'gappyout': True} # By default, the gappyout algorithm is used.\n",
    "                           )"
   ]
  },
  {
   "cell_type": "code",
   "execution_count": 51,
   "metadata": {
    "collapsed": true
   },
   "outputs": [],
   "source": [
    "pj.trim([muscle_gappyout])"
   ]
  },
  {
   "cell_type": "code",
   "execution_count": 52,
   "metadata": {
    "collapsed": false
   },
   "outputs": [
    {
     "name": "stdout",
     "output_type": "stream",
     "text": [
      "TrimalConf named gappyout with ID 828141477479418.88\n",
      "Alignments: rrnS@muscleDefault \n",
      "Created on: Wed Oct 26 10:56:58 2016\n",
      "Commands:\n",
      "rrnS@muscleDefault@gappyout: trimal -in 828141477479418.88_rrnS@muscleDefault.fasta -gappyout\n",
      "\n",
      "Environment:Platform: Linux-4.4.0-38-generic-x86_64-with-Ubuntu-14.04-trusty\n",
      " Processor: x86_64\n",
      " Python build: defaultMar 22 2014 22:59:56\n",
      " Python compiler: GCC 4.8.2\n",
      " Python implementation: CPython\n",
      " Python version: 2.7.6\n",
      " ete2 version: 2.2.1072\n",
      " biopython version: 1.68\n",
      " dendropy version: 3.12.2\n",
      " cloud version: 2.8.5\n",
      " reprophylo version 1.3\n",
      " User: biopc4\n",
      " Program and version: trimAl 1.2rev59\n",
      " Program reference: Salvador Capella-Gutierrez; Jose M. Silla-Martinez; Toni Gabaldon. trimAl: a tool for automated alignment trimming in large-scale phylogenetic analyses. Bioinformatics 2009 25: 1972-1973.\n",
      "execution time:\n",
      "0.8931620121\n",
      "\n",
      "==============================\n",
      "Core Methods section sentence:\n",
      "==============================\n",
      "The alignment(s) rrnS@muscleDefault were trimmed using the program trimAl 1.2rev59 [1].\n",
      "\n",
      "Reference:\n",
      "Salvador Capella-Gutierrez; Jose M. Silla-Martinez; Toni Gabaldon. trimAl: a tool for automated alignment trimming in large-scale phylogenetic analyses. Bioinformatics 2009 25: 1972-1973.\n",
      "\n"
     ]
    }
   ],
   "source": [
    "print pj.used_methods['gappyout']"
   ]
  },
  {
   "cell_type": "markdown",
   "metadata": {},
   "source": [
    "The trimmed alignments themselves are stored in the pj.trimmed_alignments dictionary, using keys."
   ]
  },
  {
   "cell_type": "code",
   "execution_count": 53,
   "metadata": {
    "collapsed": false
   },
   "outputs": [
    {
     "data": {
      "text/plain": [
       "{'rrnS@muscleDefault@gappyout': <<class 'Bio.Align.MultipleSeqAlignment'> instance (89 records of length 1185, IUPACAmbiguousDNA()) at 7f88704eae10>}"
      ]
     },
     "execution_count": 53,
     "metadata": {},
     "output_type": "execute_result"
    }
   ],
   "source": [
    "pj.trimmed_alignments"
   ]
  },
  {
   "cell_type": "markdown",
   "metadata": {},
   "source": [
    "Trimmed alignment text files can be dumped in any AlignIO format for usage in an external command line or GUI program. When writing to files, you can control the header of the sequence by, for example, adding the organism name of the gene name, or by replacing the feature ID with the record ID:"
   ]
  },
  {
   "cell_type": "code",
   "execution_count": 54,
   "metadata": {
    "collapsed": false
   },
   "outputs": [
    {
     "data": {
      "text/plain": [
       "['rrnS@muscleDefault@gappyout_trimmed_aln.fasta']"
      ]
     },
     "execution_count": 54,
     "metadata": {},
     "output_type": "execute_result"
    }
   ],
   "source": [
    "files = pj.write_trimmed_alns(id=['record_id','source_organism'],\n",
    "                                   format='fasta')\n",
    "files"
   ]
  },
  {
   "cell_type": "markdown",
   "metadata": {},
   "source": [
    "Infer Maximum Likelihood tree based on the clipped alignment. We are going to use RAxML.\n",
    "\n",
    "Configure RAxML for trimmed muscle alignment."
   ]
  },
  {
   "cell_type": "code",
   "execution_count": 55,
   "metadata": {
    "collapsed": false
   },
   "outputs": [
    {
     "name": "stdout",
     "output_type": "stream",
     "text": [
      "raxmlHPC-PTHREADS-SSE3 -f a -m GTRGAMMA -n 710041477479523.67_rrnS@muscleDefault@gappyout0 -p 914 -s 710041477479523.67_rrnS@muscleDefault@gappyout.fasta -T 5 -x 770 -N 100\n"
     ]
    }
   ],
   "source": [
    "raxml = RaxmlConf(pj, method_name='raxml-muscleDefault-trimmed',\n",
    "                  program_name='raxmlHPC-PTHREADS-SSE3',\n",
    "                  keepfiles=True,\n",
    "                  cmd='raxmlHPC-PTHREADS-SSE3',\n",
    "                  preset='fa',\n",
    "                  alns=['rrnS@muscleDefault@gappyout'],\n",
    "                  model='GAMMA',\n",
    "                  threads=5,\n",
    "                  cline_args={'-#': 100})"
   ]
  },
  {
   "cell_type": "code",
   "execution_count": 56,
   "metadata": {
    "collapsed": true
   },
   "outputs": [],
   "source": [
    "pj.tree([raxml])"
   ]
  },
  {
   "cell_type": "code",
   "execution_count": 57,
   "metadata": {
    "collapsed": false
   },
   "outputs": [
    {
     "name": "stdout",
     "output_type": "stream",
     "text": [
      "RaxmlConf named raxml-muscleDefault-trimmed with ID 710041477479523.67\n",
      "Alignments: rrnS@muscleDefault@gappyout \n",
      "Created on: Wed Oct 26 10:58:43 2016\n",
      "Commands:\n",
      "rrnS@muscleDefault@gappyout:\n",
      "raxmlHPC-PTHREADS-SSE3 -f a -m GTRGAMMA -n 710041477479523.67_rrnS@muscleDefault@gappyout0 -p 914 -s 710041477479523.67_rrnS@muscleDefault@gappyout.fasta -T 5 -x 770 -N 100\n",
      "\n",
      "Environment:\n",
      "Platform: Linux-4.4.0-38-generic-x86_64-with-Ubuntu-14.04-trusty\n",
      " Processor: x86_64\n",
      " Python build: defaultMar 22 2014 22:59:56\n",
      " Python compiler: GCC 4.8.2\n",
      " Python implementation: CPython\n",
      " Python version: 2.7.6\n",
      " ete2 version: 2.2.1072\n",
      " biopython version: 1.68\n",
      " dendropy version: 3.12.2\n",
      " cloud version: 2.8.5\n",
      " reprophylo version 1.3\n",
      " User: biopc4\n",
      " Program and version: raxmlHPC-PTHREADS-SSE3RAxML version 8.0.12\n",
      " Program reference: A. Stamatakis: RAxML Version 8: A tool for Phylogenetic Analysis and Post-Analysis of Large Phylogenies. In Bioinformatics\n",
      " 2014.\n",
      "execution time:\n",
      "342.651973009\n",
      "\n",
      "==============================\n",
      "Core Methods section sentence:\n",
      "==============================\n",
      "Phylogenetic trees were reconstructed from the dataset(s) rrnS@muscleDefault@gappyout using the program raxmlHPC-PTHREADS-SSE3RAxML version 8.0.12 [1].\n",
      "\n",
      "Reference:\n",
      "A. Stamatakis: RAxML Version 8: A tool for Phylogenetic Analysis and Post-Analysis of Large Phylogenies. In Bioinformatics, 2014.\n",
      "\n"
     ]
    }
   ],
   "source": [
    "print pj.used_methods['raxml-muscleDefault-trimmed']"
   ]
  },
  {
   "cell_type": "markdown",
   "metadata": {},
   "source": [
    "Pickle the project."
   ]
  },
  {
   "cell_type": "code",
   "execution_count": 73,
   "metadata": {
    "collapsed": false
   },
   "outputs": [
    {
     "data": {
      "text/plain": [
       "'amphib_nr.pkl'"
      ]
     },
     "execution_count": 73,
     "metadata": {},
     "output_type": "execute_result"
    }
   ],
   "source": [
    "pickle_pj(pj, 'amphib_nr.pkl')"
   ]
  },
  {
   "cell_type": "markdown",
   "metadata": {},
   "source": [
    "# Visualise Trees"
   ]
  },
  {
   "cell_type": "markdown",
   "metadata": {},
   "source": [
    "Now let's visualize the trees. \n",
    "\n",
    "Prepare tree annotation:\n",
    "  - define outgroups\n",
    "  - specify support coloration"
   ]
  },
  {
   "cell_type": "code",
   "execution_count": 59,
   "metadata": {
    "collapsed": true
   },
   "outputs": [],
   "source": [
    "pj.add_qualifier_from_source('organism')"
   ]
  },
  {
   "cell_type": "code",
   "execution_count": 61,
   "metadata": {
    "collapsed": false
   },
   "outputs": [],
   "source": [
    "for species in ['Chelydra','Cottus','Gallus']:\n",
    "    pj.if_this_then_that(species, 'organism', 'outgroup', 'outgroup',\n",
    "                         mode='part')"
   ]
  },
  {
   "cell_type": "code",
   "execution_count": 62,
   "metadata": {
    "collapsed": true
   },
   "outputs": [],
   "source": [
    "supports = {'black': [100,95],\n",
    "            'dimgray': [95,75],\n",
    "            'silver': [75,50]}"
   ]
  },
  {
   "cell_type": "code",
   "execution_count": 64,
   "metadata": {
    "collapsed": false
   },
   "outputs": [],
   "source": [
    "pj.clear_tree_annotations()\n",
    "\n",
    "pj.annotate('.', 'outgroup', 'outgroup', \n",
    "            ['source_organism', 'record_id'], \n",
    "            node_support_dict=supports, multifurc=10,\n",
    "            html='muscleDefault-trimmed-500bp-raxml.html')"
   ]
  },
  {
   "cell_type": "markdown",
   "metadata": {},
   "source": [
    "Check trees out. Have a think which sequences you would consider mislabelled and should better be removed from the reference database.\n",
    "\n",
    "Create a static copy of the tree (the last *.png with the expected alignment id) for later."
   ]
  },
  {
   "cell_type": "code",
   "execution_count": 65,
   "metadata": {
    "collapsed": true
   },
   "outputs": [],
   "source": [
    "%%bash\n",
    "\n",
    "last_png=$(ls -hlrt *rrnS@muscleDefault@gappyout.png | tail -n 1 | perl -ne 'chomp; @a=split(\" \"); print \"$a[-1]\"')\n",
    "cp $last_png rrnS_muscleDefault-trimmed-500bp-raxml.png"
   ]
  },
  {
   "cell_type": "markdown",
   "metadata": {},
   "source": [
    "**=======================================================================================================**"
   ]
  },
  {
   "cell_type": "markdown",
   "metadata": {},
   "source": [
    "# Format long alignment and sequence IDs"
   ]
  },
  {
   "cell_type": "code",
   "execution_count": 1,
   "metadata": {
    "collapsed": true
   },
   "outputs": [],
   "source": [
    "from reprophylo import *"
   ]
  },
  {
   "cell_type": "code",
   "execution_count": 2,
   "metadata": {
    "collapsed": false
   },
   "outputs": [
    {
     "name": "stderr",
     "output_type": "stream",
     "text": [
      "DEBUG:Cloud:Log file (/root/.picloud/cloud.log) opened\n"
     ]
    }
   ],
   "source": [
    "pj = unpickle_pj('amphib_nr.pkl', git=False)"
   ]
  },
  {
   "cell_type": "markdown",
   "metadata": {},
   "source": [
    " - Identify the record ids of the sequences shorter than 500bp\n",
    " - write sequences for those to new fasta file (make sure the sequece ids are as Reprophylo expects them: 'id_f0')\n",
    " - prepare a hmm profile for the alignment the tree is built on (either muscle 'or mafft)"
   ]
  },
  {
   "cell_type": "code",
   "execution_count": 3,
   "metadata": {
    "collapsed": false
   },
   "outputs": [
    {
     "data": {
      "text/plain": [
       "{'rrnS@muscleDefault': <<class 'Bio.Align.MultipleSeqAlignment'> instance (89 records of length 1292, IUPACProtein()) at 7f314f69a310>}"
      ]
     },
     "execution_count": 3,
     "metadata": {},
     "output_type": "execute_result"
    }
   ],
   "source": [
    "pj.alignments"
   ]
  },
  {
   "cell_type": "code",
   "execution_count": 4,
   "metadata": {
    "collapsed": false
   },
   "outputs": [
    {
     "name": "stdout",
     "output_type": "stream",
     "text": [
      "returning trimmed alignment object rrnS@muscleDefault@gappyout\n"
     ]
    },
    {
     "data": {
      "text/plain": [
       "1"
      ]
     },
     "execution_count": 4,
     "metadata": {},
     "output_type": "execute_result"
    }
   ],
   "source": [
    "from Bio import AlignIO\n",
    "\n",
    "out=open('500bp_amphib_align.fasta','w')\n",
    "\n",
    "AlignIO.write(pj.fta('rrnS@muscleDefault'), out, 'fasta')"
   ]
  },
  {
   "cell_type": "markdown",
   "metadata": {},
   "source": [
    "Check number of records in file containing short 12S rRNA sequences."
   ]
  },
  {
   "cell_type": "code",
   "execution_count": 5,
   "metadata": {
    "collapsed": false
   },
   "outputs": [
    {
     "name": "stdout",
     "output_type": "stream",
     "text": [
      "Total records: 114\n"
     ]
    }
   ],
   "source": [
    "from Bio import SeqIO\n",
    "\n",
    "records = list(SeqIO.parse(\"amphib_short_to_align.fasta\", \"fasta\"))\n",
    "print(\"Total records: %i\" % len(records))"
   ]
  },
  {
   "cell_type": "markdown",
   "metadata": {},
   "source": [
    "Check that record IDs are in format that reprophylo expects for alignment."
   ]
  },
  {
   "cell_type": "code",
   "execution_count": 6,
   "metadata": {
    "collapsed": false
   },
   "outputs": [
    {
     "name": "stdout",
     "output_type": "stream",
     "text": [
      "AY322321.1_f0\n",
      "FJ595208.1_f0\n",
      "AY347451.1_f0\n",
      "AF161036.1_f0\n",
      "AJ440767.1_f0\n",
      "KP109553.1_f0\n",
      "KX269198.1_f0\n",
      "AJ222711.1_f0\n",
      "AY333688.1_f0\n",
      "KF645375.1_f0\n",
      "AY347456.1_f0\n",
      "AY043038.1_f0\n",
      "EU116959.1_f0\n",
      "X95493.1_f0\n",
      "AY347452.1_f0\n",
      "AB023395.1_f0\n",
      "AF218718.1_f0\n",
      "AY333663.1_f0\n",
      "AB023396.1_f0\n",
      "AY222458.1_f0\n",
      "KF664850.1_f0\n",
      "AY333653.1_f0\n",
      "KP109559.1_f0\n",
      "KF645417.1_f0\n",
      "AY333665.1_f0\n",
      "AY147254.1_f0\n",
      "KF645409.1_f0\n",
      "AY147256.1_f0\n",
      "U04702.1_f0\n",
      "DQ092285.1_f0\n",
      "KF645408.1_f0\n",
      "AJ222710.1_f0\n",
      "AY333669.1_f0\n",
      "AY880481.1_f0\n",
      "AY347457.1_f0\n",
      "AY333687.1_f0\n",
      "X86235.1_f0\n",
      "AY347458.1_f0\n",
      "DQ221219.1_f0\n",
      "FJ595204.1_f0\n",
      "KF645371.1_f0\n",
      "AY333655.1_f0\n",
      "AB023397.1_f0\n",
      "AY333683.1_f0\n",
      "X95494.1_f0\n",
      "U04704.1_f0\n",
      "AY880461.1_f0\n",
      "KP109558.1_f0\n",
      "AY043041.1_f0\n",
      "DQ092298.1_f0\n",
      "KF645367.1_f0\n",
      "DQ221215.1_f0\n",
      "KF645365.1_f0\n",
      "AY347455.1_f0\n",
      "AY333684.1_f0\n",
      "AY347454.1_f0\n",
      "AY043034.1_f0\n",
      "AJ440762.1_f0\n",
      "FJ602097.1_f0\n",
      "DQ092286.1_f0\n",
      "AY333664.1_f0\n",
      "AY043032.1_f0\n",
      "KP109557.1_f0\n",
      "KF645373.1_f0\n",
      "KF645370.1_f0\n",
      "AY333666.1_f0\n",
      "AB159478.1_f0\n",
      "KP109555.1_f0\n",
      "DQ221220.1_f0\n",
      "DQ221216.1_f0\n",
      "AY347450.1_f0\n",
      "AF124103.1_f0\n",
      "AJ309142.1_f0\n",
      "AY779191.1_f0\n",
      "KP109552.1_f0\n",
      "KF645366.1_f0\n",
      "DQ221225.1_f0\n",
      "AY333686.1_f0\n",
      "KF645364.1_f0\n",
      "DQ221223.1_f0\n",
      "EU116957.1_f0\n",
      "KP109556.1_f0\n",
      "AY347453.1_f0\n",
      "EU116960.1_f0\n",
      "M13046.1_f0\n",
      "AB023394.1_f0\n",
      "KP109554.1_f0\n",
      "AY222459.1_f0\n",
      "AY347459.1_f0\n",
      "KT074476.1_f0\n",
      "AF224726.1_f0\n",
      "DQ885561.1_f0\n",
      "JN695757.1_f0\n",
      "EF362674.1_f0\n",
      "KF484729.1_f0\n",
      "AJ849444.2_f0\n",
      "KF471521.1_f0\n",
      "EF432760.1_f0\n",
      "U81335.1_f0\n",
      "EF362642.1_f0\n",
      "KF471523.1_f0\n",
      "EF362717.1_f0\n",
      "HM637771.1_f0\n",
      "EU851896.1_f0\n",
      "GU477775.1_f0\n",
      "KF471516.1_f0\n",
      "EF362643.1_f0\n",
      "EF362639.1_f0\n",
      "KF471518.1_f0\n",
      "KP234022.1_f0\n",
      "KF471524.1_f0\n",
      "KF471520.1_f0\n",
      "KP171705.1_f0\n",
      "EF362708.1_f0\n"
     ]
    }
   ],
   "source": [
    "from Bio import SeqIO\n",
    "\n",
    "short_seq = open(\"amphib_short_to_align.fasta\", \"rU\")\n",
    "sequences = []\n",
    "\n",
    "for r in SeqIO.parse(short_seq, \"fasta\"):\n",
    "    print(r.id)"
   ]
  },
  {
   "cell_type": "markdown",
   "metadata": {
    "collapsed": true
   },
   "source": [
    "If record IDs were not in the format Reprophylo expects for tree construction, the code cells below could be used to format them to be 'id_f0'."
   ]
  },
  {
   "cell_type": "code",
   "execution_count": 7,
   "metadata": {
    "collapsed": false
   },
   "outputs": [],
   "source": [
    "#temp_seq = []\n",
    "\n",
    "#for r in pj.records:\n",
    "    #if len(r.seq) < 500:\n",
    "        #temp_seq.append(r)\n",
    "\n",
    "#from Bio import SeqIO\n",
    "\n",
    "#out=open('short_to_align.fasta','w')\n",
    "#SeqIO.write(temp_seq, out, 'fasta')\n",
    "#out.close()"
   ]
  },
  {
   "cell_type": "code",
   "execution_count": 8,
   "metadata": {
    "collapsed": false
   },
   "outputs": [],
   "source": [
    "#from Bio import SeqIO\n",
    "\n",
    "#short_seq = open(\"short_to_align.fasta\", \"rU\")\n",
    "#sequences = []\n",
    "\n",
    "#for r in SeqIO.parse(short_seq, \"fasta\"):\n",
    "    #print(r.id)\n",
    "    #r.description = r.id+'_f0'\n",
    "    #r.id = r.description\n",
    "    #print r.description\n",
    "    #sequences.append(r)\n",
    "\n",
    "\n",
    "#out = open(\"seq_to_align.fasta\", \"w\")\n",
    "#SeqIO.write(sequences, out, \"fasta\")\n",
    "#out.close()"
   ]
  },
  {
   "cell_type": "markdown",
   "metadata": {},
   "source": [
    "Check that sequences in reprophylo project have not been altered."
   ]
  },
  {
   "cell_type": "code",
   "execution_count": 9,
   "metadata": {
    "collapsed": false
   },
   "outputs": [
    {
     "name": "stdout",
     "output_type": "stream",
     "text": [
      "AY322321.1\n",
      "Rana lessonae 12S ribosomal RNA gene, partial sequence; tRNA-Val (trnV) gene, complete sequence; and 16S ribosomal RNA gene, partial sequence; mitochondrial genes for mitochondrial products.\n",
      "FJ602094.1\n",
      "Hydromantes genei isolate 7 12S ribosomal RNA gene, partial sequence; mitochondrial.\n",
      "KF664601.1\n",
      "Bufo bufo voucher vg06282 12S ribosomal RNA gene, partial sequence; mitochondrial.\n",
      "FJ595208.1\n",
      "Rana ridibunda 12S ribosomal RNA gene, partial sequence; mitochondrial.\n",
      "AY347451.1\n",
      "Discoglossus pictus pictus haplotype ph3 12S ribosomal RNA gene, partial sequence; mitochondrial.\n",
      "FJ602106.1\n",
      "Hydromantes genei isolate 4 12S ribosomal RNA gene, partial sequence; mitochondrial.\n",
      "AF161036.1\n",
      "Rana temporaria 12S ribosomal RNA gene, partial sequence; mitochondrial gene for mitochondrial product.\n",
      "AJ440767.1\n",
      "Discoglossus pictus mitochondrion partial 12S rRNA gene.\n",
      "AJ222652.1\n",
      "Rana lessonae mitochondrial 12S rRNA.\n",
      "KP109553.1\n",
      "Hyla arborea isolate H523 12S ribosomal RNA gene, partial sequence; mitochondrial.\n",
      "FJ602100.1\n",
      "Hydromantes genei isolate 13 12S ribosomal RNA gene, partial sequence; mitochondrial.\n",
      "KX269198.1\n",
      "Rana dalmatina isolate MSUZP-NPUA-R-21-1 12S ribosomal RNA gene, partial sequence; tRNA-Val gene, complete sequence; and 16S ribosomal RNA gene, partial sequence; mitochondrial.\n",
      "AJ222711.1\n",
      "Rana ridibunda mitochondrial 12S rRNA gene, isolated from Ashkhabad (Turkmenistan) and Uzbekistan.\n",
      "AY333688.1\n",
      "Bombina variegata isolate Bvs06 12S ribosomal RNA gene, partial sequence; mitochondrial gene for mitochondrial product.\n",
      "FJ602098.1\n",
      "Hydromantes genei isolate 11 12S ribosomal RNA gene, partial sequence; mitochondrial.\n",
      "KF645375.1\n",
      "Salamandra salamandra alfredschmidti isolate SS 56 12S ribosomal RNA gene, partial sequence; tRNA-Val gene, complete sequence; and 16S ribosomal RNA gene, partial sequence; mitochondrial.\n",
      "AY347456.1\n",
      "Discoglossus pictus auritus haplotype ph10 12S ribosomal RNA gene, partial sequence; mitochondrial.\n",
      "AY043038.1\n",
      "Rana dalmatina 12S ribosomal RNA gene, partial sequence; mitochondrial gene for mitochondrial product.\n",
      "EU116959.1\n",
      "Hydromantes genei isolate E3056.8 12S ribosomal RNA gene, partial sequence; mitochondrial.\n",
      "X95493.1\n",
      "R.lessonae mitochondrial 12S ribosomal RNA.\n",
      "AY347452.1\n",
      "Discoglossus pictus auritus haplotype ph4 12S ribosomal RNA gene, partial sequence; mitochondrial.\n",
      "KF645416.1\n",
      "Salamandra salamandra isolate FS19 12S ribosomal RNA gene, partial sequence; tRNA-Val gene, complete sequence; and 16S ribosomal RNA gene, partial sequence; mitochondrial.\n",
      "AY333657.1\n",
      "Bombina bombina isolate Bb01 12S ribosomal RNA gene, partial sequence; mitochondrial gene for mitochondrial product.\n",
      "AY333654.1\n",
      "Bombina variegata isolate Bvs01 12S ribosomal RNA gene, partial sequence; mitochondrial gene for mitochondrial product.\n",
      "AB023395.1\n",
      "Rana lessonae mitochondrial gene for 12S rRNA, partial sequence, strain:Luxembourg.\n",
      "AF218718.1\n",
      "Rana catesbeiana 12S ribosomal RNA gene, partial sequence; mitochondrial gene for mitochondrial product.\n",
      "AY333663.1\n",
      "Bombina bombina isolate Bb02 12S ribosomal RNA gene, partial sequence; mitochondrial gene for mitochondrial product.\n",
      "KF645419.1\n",
      "Salamandra salamandra isolate FS21 12S ribosomal RNA gene, partial sequence; tRNA-Val gene, complete sequence; and 16S ribosomal RNA gene, partial sequence; mitochondrial.\n",
      "FJ602108.1\n",
      "Hydromantes genei isolate 2 12S ribosomal RNA gene, partial sequence; mitochondrial.\n",
      "AB023396.1\n",
      "Rana esculenta mitochondrial gene for 12S rRNA, partial sequence.\n",
      "AY222458.1\n",
      "Salamandra salamandra morenica E171243 12S ribosomal RNA gene, partial sequence; mitochondrial gene for mitochondrial product.\n",
      "KF664850.1\n",
      "Epidalea calamita voucher vg07119 12S ribosomal RNA gene, partial sequence; mitochondrial.\n",
      "AY333653.1\n",
      "Bombina variegata kolombatovici 12S ribosomal RNA gene, partial sequence; mitochondrial gene for mitochondrial product.\n",
      "KP109559.1\n",
      "Hyla arborea isolate HJ57 12S ribosomal RNA gene, partial sequence; mitochondrial.\n",
      "FJ595206.1\n",
      "Rana ridibunda 12S ribosomal RNA gene, partial sequence; mitochondrial.\n",
      "FJ602105.1\n",
      "Hydromantes genei isolate 6 12S ribosomal RNA gene, partial sequence; mitochondrial.\n",
      "AY347473.1\n",
      "Discoglossus pictus auritus haplotype DaT2 12S ribosomal RNA gene, partial sequence; mitochondrial.\n",
      "KF645417.1\n",
      "Salamandra salamandra isolate FS2 12S ribosomal RNA gene, partial sequence; mitochondrial.\n",
      "AY333665.1\n",
      "Bombina variegata isolate Bvs03 12S ribosomal RNA gene, partial sequence; mitochondrial gene for mitochondrial product.\n",
      "AY147254.1\n",
      "Triturus vulgaris meridionalis 12S ribosomal RNA gene, partial sequence; mitochondrial gene for mitochondrial product.\n",
      "FJ602102.1\n",
      "Hydromantes genei isolate 15 12S ribosomal RNA gene, partial sequence; mitochondrial.\n",
      "KF645409.1\n",
      "Salamandra salamandra isolate FS12 12S ribosomal RNA gene, partial sequence; tRNA-Val gene, complete sequence; and 16S ribosomal RNA gene, partial sequence; mitochondrial.\n",
      "KF645411.1\n",
      "Salamandra salamandra isolate FS14 12S ribosomal RNA gene, partial sequence; tRNA-Val gene, complete sequence; and 16S ribosomal RNA gene, partial sequence; mitochondrial.\n",
      "AY147256.1\n",
      "Triturus alpestris 12S ribosomal RNA gene, partial sequence; mitochondrial gene for mitochondrial product.\n",
      "U04702.1\n",
      "Triturus carnifex mitochondrion 12S rRNA gene, partial sequence.\n",
      "DQ092285.1\n",
      "Salamandra salamandra bernardezi isolate E1712.19 12S ribosomal RNA gene, partial sequence; mitochondrial.\n",
      "EU116958.1\n",
      "Hydromantes genei isolate E10076.6 12S ribosomal RNA gene, partial sequence; mitochondrial.\n",
      "KF645408.1\n",
      "Salamandra salamandra isolate FS10 12S ribosomal RNA gene, partial sequence; tRNA-Val gene, complete sequence; and 16S ribosomal RNA gene, partial sequence; mitochondrial.\n",
      "AY347467.1\n",
      "Discoglossus pictus pictus haplotype DpS4 12S ribosomal RNA gene, partial sequence; mitochondrial.\n",
      "FJ595207.1\n",
      "Rana ridibunda 12S ribosomal RNA gene, partial sequence; mitochondrial.\n",
      "AJ222710.1\n",
      "Rana ridibunda mitochondrial 12S rRNA gene, isolated from Georgia.\n",
      "AY333669.1\n",
      "Alytes obstetricans boscai 12S ribosomal RNA gene, partial sequence; mitochondrial gene for mitochondrial product.\n",
      "DQ221218.1\n",
      "Salamandra salamandra morenica isolate E1712.40 12S ribosomal RNA gene, partial sequence; mitochondrial.\n",
      "AY880481.1\n",
      "Rana temporaria 12S ribosomal RNA gene, partial sequence; mitochondrial.\n",
      "AY347457.1\n",
      "Discoglossus pictus auritus haplotype ph9 12S ribosomal RNA gene, partial sequence; mitochondrial.\n",
      "AY333687.1\n",
      "Bombina variegata isolate Bvs05 12S ribosomal RNA gene, partial sequence; mitochondrial gene for mitochondrial product.\n",
      "X86235.1\n",
      "Discoglossus pictus mitochondrial partial 12S rRNA gene.\n",
      "AY347458.1\n",
      "Discoglossus pictus auritus haplotype ph8 12S ribosomal RNA gene, partial sequence; mitochondrial.\n",
      "DQ221219.1\n",
      "Salamandra salamandra almanzoris isolate E1712.17 12S ribosomal RNA gene, partial sequence; mitochondrial.\n",
      "KF645413.1\n",
      "Salamandra salamandra isolate FS16 12S ribosomal RNA gene, partial sequence; tRNA-Val gene, complete sequence; and 16S ribosomal RNA gene, partial sequence; mitochondrial.\n",
      "DQ221213.1\n",
      "Salamandra salamandra salamandra isolate E7110.15 12S ribosomal RNA gene, partial sequence; mitochondrial.\n",
      "AY333667.1\n",
      "Alytes obstetricans pertinax 12S ribosomal RNA gene, partial sequence; mitochondrial gene for mitochondrial product.\n",
      "FJ595204.1\n",
      "Rana ridibunda 12S ribosomal RNA gene, partial sequence; mitochondrial.\n",
      "AY333662.1\n",
      "Bombina variegata isolate Bvs04 12S ribosomal RNA gene, partial sequence; mitochondrial gene for mitochondrial product.\n",
      "KF645371.1\n",
      "Salamandra salamandra gigliolii isolate SPM 780 12S ribosomal RNA gene, partial sequence; tRNA-Val gene, complete sequence; and 16S ribosomal RNA gene, partial sequence; mitochondrial.\n",
      "AY333685.1\n",
      "Discoglossus pictus auritus 12S ribosomal RNA gene, partial sequence; mitochondrial gene for mitochondrial product.\n",
      "KF645418.1\n",
      "Salamandra salamandra isolate FS20 12S ribosomal RNA gene, partial sequence; tRNA-Val gene, complete sequence; and 16S ribosomal RNA gene, partial sequence; mitochondrial.\n",
      "AY333655.1\n",
      "Bombina variegata isolate Bvs02 12S ribosomal RNA gene, partial sequence; mitochondrial gene for mitochondrial product.\n",
      "KF645374.1\n",
      "Salamandra salamandra alfredschmidti isolate SS 58 12S ribosomal RNA gene, partial sequence; tRNA-Val gene, complete sequence; and 16S ribosomal RNA gene, partial sequence; mitochondrial.\n",
      "AB023397.1\n",
      "Rana ridibunda mitochondrial gene for 12S rRNA, partial sequence.\n",
      "AY333683.1\n",
      "Discoglossus pictus isolate Dpa01 12S ribosomal RNA gene, partial sequence; mitochondrial gene for mitochondrial product.\n",
      "X95494.1\n",
      "R.ridibunda mitochondrial 12S ribosomal RNA.\n",
      "U04704.1\n",
      "Triturus vulgaris mitochondrion 12S rRNA gene, partial sequence.\n",
      "AY333661.1\n",
      "Bombina variegata scabra 12S ribosomal RNA gene, partial sequence; mitochondrial gene for mitochondrial product.\n",
      "KF645415.1\n",
      "Salamandra salamandra isolate FS18 12S ribosomal RNA gene, partial sequence; tRNA-Val gene, complete sequence; and 16S ribosomal RNA gene, partial sequence; mitochondrial.\n",
      "AY880461.1\n",
      "Rana temporaria 12S ribosomal RNA gene, partial sequence; mitochondrial.\n",
      "DQ221217.1\n",
      "Salamandra salamandra crespoi isolate E1712.25 12S ribosomal RNA gene, partial sequence; mitochondrial.\n",
      "KP109558.1\n",
      "Hyla arborea isolate H463 12S ribosomal RNA gene, partial sequence; mitochondrial.\n",
      "KF645420.1\n",
      "Salamandra salamandra isolate FS5 12S ribosomal RNA gene, partial sequence; tRNA-Val gene, complete sequence; and 16S ribosomal RNA gene, partial sequence; mitochondrial.\n",
      "AB058864.1\n",
      "Rana temporaria gene for12S ribosomal RNA, partial sequence, isolate:temp. R.\n",
      "AY043041.1\n",
      "Rana temporaria 12S ribosomal RNA gene, partial sequence; mitochondrial gene for mitochondrial product.\n",
      "DQ092298.1\n",
      "Triturus alpestris inexpectatus isolate E1806.1 12S ribosomal RNA gene, partial sequence; mitochondrial.\n",
      "KF645410.1\n",
      "Salamandra salamandra isolate FS13 12S ribosomal RNA gene, partial sequence; tRNA-Val gene, complete sequence; and 16S ribosomal RNA gene, partial sequence; mitochondrial.\n",
      "KP109551.1\n",
      "Hyla arborea isolate H488 12S ribosomal RNA gene, partial sequence; mitochondrial.\n",
      "KF645367.1\n",
      "Salamandra salamandra longirostris isolate Sei3 12S ribosomal RNA gene, partial sequence; tRNA-Val gene, complete sequence; and 16S ribosomal RNA gene, partial sequence; mitochondrial.\n",
      "DQ221215.1\n",
      "Salamandra salamandra gallaica isolate E7110.11 12S ribosomal RNA gene, partial sequence; mitochondrial.\n",
      "AY333668.1\n",
      "Alytes obstetricans obstetricans 12S ribosomal RNA gene, partial sequence; mitochondrial gene for mitochondrial product.\n",
      "DQ289102.1\n",
      "Rana catesbeiana voucher KizYP06041 12S ribosomal RNA gene, partial sequence; mitochondrial.\n",
      "KF645365.1\n",
      "Salamandra salamandra salamandra isolate GAR 02 12S ribosomal RNA gene, partial sequence; tRNA-Val gene, complete sequence; and 16S ribosomal RNA gene, partial sequence; mitochondrial.\n",
      "AY347455.1\n",
      "Discoglossus pictus auritus haplotype ph7 12S ribosomal RNA gene, partial sequence; mitochondrial.\n",
      "AY333684.1\n",
      "Discoglossus pictus isolate Dpa02 12S ribosomal RNA gene, partial sequence; mitochondrial gene for mitochondrial product.\n",
      "KF645369.1\n",
      "Salamandra salamandra morenica isolate MVDNA 2829 12S ribosomal RNA gene, partial sequence; tRNA-Val gene, complete sequence; and 16S ribosomal RNA gene, partial sequence; mitochondrial.\n",
      "AY347454.1\n",
      "Discoglossus pictus auritus haplotype ph6 12S ribosomal RNA gene, partial sequence; mitochondrial.\n",
      "AY043034.1\n",
      "Rana lessonae 12S ribosomal RNA gene, partial sequence; mitochondrial gene for mitochondrial product.\n",
      "AJ440762.1\n",
      "Bombina bombina mitochondrion partial 12S rRNA gene.\n",
      "FJ602097.1\n",
      "Hydromantes genei isolate 10 12S ribosomal RNA gene, partial sequence; mitochondrial.\n",
      "KF645412.1\n",
      "Salamandra salamandra isolate FS15 12S ribosomal RNA gene, partial sequence; tRNA-Val gene, complete sequence; and 16S ribosomal RNA gene, partial sequence; mitochondrial.\n",
      "DQ092286.1\n",
      "Triturus helveticus isolate E1806.17 12S ribosomal RNA gene, partial sequence; mitochondrial.\n",
      "AY333664.1\n",
      "Bombina variegata variegata 12S ribosomal RNA gene, partial sequence; mitochondrial gene for mitochondrial product.\n",
      "KF645421.1\n",
      "Salamandra salamandra isolate FS6 12S ribosomal RNA gene, partial sequence; tRNA-Val gene, complete sequence; and 16S ribosomal RNA gene, partial sequence; mitochondrial.\n",
      "EU116961.1\n",
      "Hydromantes genei isolate E1037.2 12S ribosomal RNA gene, partial sequence; mitochondrial.\n",
      "KF645422.1\n",
      "Salamandra salamandra isolate FS7 12S ribosomal RNA gene, partial sequence; tRNA-Val gene, complete sequence; and 16S ribosomal RNA gene, partial sequence; mitochondrial.\n",
      "AY043032.1\n",
      "Rana ridibunda 12S ribosomal RNA gene, partial sequence; mitochondrial gene for mitochondrial product.\n",
      "KP109557.1\n",
      "Hyla arborea isolate H459 12S ribosomal RNA gene, partial sequence; mitochondrial.\n",
      "KF645373.1\n",
      "Salamandra salamandra alfredschmidti isolate SS 57 12S ribosomal RNA gene, partial sequence; tRNA-Val gene, complete sequence; and 16S ribosomal RNA gene, partial sequence; mitochondrial.\n",
      "KF645370.1\n",
      "Salamandra salamandra morenica isolate SS 34 12S ribosomal RNA gene, partial sequence; tRNA-Val gene, complete sequence; and 16S ribosomal RNA gene, partial sequence; mitochondrial.\n",
      "FJ602095.1\n",
      "Hydromantes genei isolate 8 12S ribosomal RNA gene, partial sequence; mitochondrial.\n",
      "AY333666.1\n",
      "Alytes obstetricans 12S ribosomal RNA gene, partial sequence; mitochondrial gene for mitochondrial product.\n",
      "M10188.1\n",
      "X.laevis mitochondrial DNA containing the D-loop, and the 12S rRNA, apocytochrome b, Glu-tRNA, Thr-tRNA, Pro-tRNA and Phe-tRNA genes.\n",
      "KF645423.1\n",
      "Salamandra salamandra isolate FS8 12S ribosomal RNA gene, partial sequence; tRNA-Val gene, complete sequence; and 16S ribosomal RNA gene, partial sequence; mitochondrial.\n",
      "AB159478.1\n",
      "Bufo bufo mitochondrial genes for tRNA-Leu(CUN), tRNA-Thr, tRNA-Pro, tRNA-Phe, and 12S rRNA, complete and partial sequence, haplotype:B.bufo.\n",
      "KP109555.1\n",
      "Hyla arborea isolate H524 12S ribosomal RNA gene, partial sequence; mitochondrial.\n",
      "AJ440764.1\n",
      "Bombina variegata variegata mitochondrion partial 12S rRNA gene.\n",
      "KF645372.1\n",
      "Salamandra salamandra werneri isolate Sei7 12S ribosomal RNA gene, partial sequence; tRNA-Val gene, complete sequence; and 16S ribosomal RNA gene, partial sequence; mitochondrial.\n",
      "DQ221220.1\n",
      "Salamandra salamandra bernardezi isolate E1712.20 12S ribosomal RNA gene, partial sequence; mitochondrial.\n",
      "DQ221216.1\n",
      "Salamandra salamandra bejarae isolate E1712.44 12S ribosomal RNA gene, partial sequence; mitochondrial.\n",
      "FJ602107.1\n",
      "Hydromantes genei isolate 1 12S ribosomal RNA gene, partial sequence; mitochondrial.\n",
      "KF645414.1\n",
      "Salamandra salamandra isolate FS17 12S ribosomal RNA gene, partial sequence; mitochondrial.\n",
      "AY347450.1\n",
      "Discoglossus pictus pictus haplotype ph1 12S ribosomal RNA gene, partial sequence; mitochondrial.\n",
      "AF124103.1\n",
      "Rana temporaria 12S ribosomal RNA gene, partial sequence; mitochondrial gene for mitochondrial product.\n",
      "AJ309142.1\n",
      "Rana ridibunda mitochondrial partial 12S rRNA gene (Albania:Durres).\n",
      "AY779191.1\n",
      "Rana temporaria voucher DMH 84-R1 12S ribosomal RNA gene, partial sequence; tRNA-Val gene, complete sequence; and 16S ribosomal RNA gene, partial sequence; mitochondrial.\n",
      "FJ595205.1\n",
      "Rana ridibunda 12S ribosomal RNA gene, partial sequence; mitochondrial.\n",
      "KP109552.1\n",
      "Hyla arborea isolate H211 12S ribosomal RNA gene, partial sequence; mitochondrial.\n",
      "AJ309138.1\n",
      "Rana ridibunda mitochondrial partial 12S rRNA gene.\n",
      "AJ440759.1\n",
      "Alytes obstetricans obstetricans mitochondrion partial 12S rRNA gene.\n",
      "KF645366.1\n",
      "Salamandra salamandra gallaica isolate Sei 6 12S ribosomal RNA gene, partial sequence; tRNA-Val gene, complete sequence; and 16S ribosomal RNA gene, partial sequence; mitochondrial.\n",
      "AY779206.1\n",
      "Rana catesbeiana voucher DMH 84-R2 12S ribosomal RNA gene, partial sequence; tRNA-Val gene, complete sequence; and 16S ribosomal RNA gene, partial sequence; mitochondrial.\n",
      "DQ221214.1\n",
      "Salamandra salamandra fastuosa isolate E1712.27 12S ribosomal RNA gene, partial sequence; mitochondrial.\n",
      "FJ602103.1\n",
      "Hydromantes genei isolate 16 12S ribosomal RNA gene, partial sequence; mitochondrial.\n",
      "DQ221225.1\n",
      "Salamandra salamandra corsica isolate E3009.18 12S ribosomal RNA gene, partial sequence; mitochondrial.\n",
      "AY333686.1\n",
      "Discoglossus pictus isolate Dpp01 12S ribosomal RNA gene, partial sequence; mitochondrial gene for mitochondrial product.\n",
      "KF645364.1\n",
      "Salamandra salamandra fastuosa isolate SS 59 12S ribosomal RNA gene, partial sequence; tRNA-Val gene, complete sequence; and 16S ribosomal RNA gene, partial sequence; mitochondrial.\n",
      "FJ602101.1\n",
      "Hydromantes genei isolate 14 12S ribosomal RNA gene, partial sequence; mitochondrial.\n",
      "KX269196.1\n",
      "Rana temporaria isolate ZMMU-A-4288-1 12S ribosomal RNA gene, partial sequence; tRNA-Val gene, complete sequence; and 16S ribosomal RNA gene, partial sequence; mitochondrial.\n",
      "DQ221223.1\n",
      "Salamandra salamandra longirostris isolate E1712.37 12S ribosomal RNA gene, partial sequence; mitochondrial.\n",
      "FJ602099.1\n",
      "Hydromantes genei isolate 12 12S ribosomal RNA gene, partial sequence; mitochondrial.\n",
      "EU116957.1\n",
      "Hydromantes genei isolate E10076.5 12S ribosomal RNA gene, partial sequence; mitochondrial.\n",
      "KF645368.1\n",
      "Salamandra salamandra longirostris isolate DD_I5 12S ribosomal RNA gene, partial sequence; tRNA-Val gene, complete sequence; and 16S ribosomal RNA gene, partial sequence; mitochondrial.\n",
      "KP109556.1\n",
      "Hyla arborea isolate H489 12S ribosomal RNA gene, partial sequence; mitochondrial.\n",
      "FJ602096.1\n",
      "Hydromantes genei isolate 9 12S ribosomal RNA gene, partial sequence; mitochondrial.\n",
      "AY347453.1\n",
      "Discoglossus pictus auritus haplotype ph5 12S ribosomal RNA gene, partial sequence; mitochondrial.\n",
      "EU116960.1\n",
      "Hydromantes genei isolate E1037.1 12S ribosomal RNA gene, partial sequence; mitochondrial.\n",
      "M13046.1\n",
      "X.laevis mitochondrial origin of replication region containing the D-loop, Phe-tRNA, Pro-tRNA, 12S rRNA genes.\n",
      "AB023394.1\n",
      "Rana lessonae mitochondrial gene for 12S rRNA, partial sequence, strain:Italy.\n",
      "KX269208.1\n",
      "Rana catesbeiana isolate SCUM0405176CJ 12S ribosomal RNA gene, partial sequence; tRNA-Val gene, complete sequence; and 16S ribosomal RNA gene, partial sequence; mitochondrial.\n",
      "KP109554.1\n",
      "Hyla arborea isolate H288 12S ribosomal RNA gene, partial sequence; mitochondrial.\n",
      "AY222459.1\n",
      "Salamandra salamandra terrestris E171249 12S ribosomal RNA gene, partial sequence; mitochondrial gene for mitochondrial product.\n",
      "DQ221221.1\n",
      "Salamandra salamandra giglioli isolate E1712.34 12S ribosomal RNA gene, partial sequence; mitochondrial.\n",
      "FJ602109.1\n",
      "Hydromantes genei isolate 3 12S ribosomal RNA gene, partial sequence; mitochondrial.\n",
      "EU116962.1\n",
      "Hydromantes genei isolate E1037.3 12S ribosomal RNA gene, partial sequence; mitochondrial.\n",
      "AY347459.1\n",
      "Discoglossus pictus auritus haplotype ph2 12S ribosomal RNA gene, partial sequence; mitochondrial.\n",
      "KT074476.1\n",
      "Rana temporaria voucher TE_OIA05 12S ribosomal RNA gene, partial sequence; mitochondrial.\n",
      "FJ602104.1\n",
      "Hydromantes genei isolate 5 12S ribosomal RNA gene, partial sequence; mitochondrial.\n",
      "AF224726.1\n",
      "Alytes obstetricans boscai 12S ribosomal RNA gene, partial sequence; mitochondrial gene for mitochondrial product.\n",
      "EF362688.1\n",
      "Gallus gallus isolate bar3-8 12S ribosomal RNA and tRNA-Val genes, partial sequence; mitochondrial.\n",
      "EF362703.1\n",
      "Gallus gallus isolate bar3-2A 12S ribosomal RNA and tRNA-Val genes, partial sequence; mitochondrial.\n",
      "KM224333.1\n",
      "Gallus gallus isolate FRT109 12S ribosomal RNA gene, partial sequence; mitochondrial.\n",
      "EF362680.1\n",
      "Gallus gallus isolate bar1-1A D-loop, partial sequence; tRNA-Phe gene, complete sequence; and 12S ribosomal RNA gene, partial sequence; mitochondrial.\n",
      "EF362661.1\n",
      "Gallus gallus isolate bar1-21 D-loop, partial sequence; tRNA-Phe gene, complete sequence; and 12S ribosomal RNA gene, partial sequence; mitochondrial.\n",
      "AY309497.1\n",
      "Gallus gallus 12S ribosomal RNA gene, partial sequence; mitochondrial gene for mitochondrial product.\n",
      "EF362676.1\n",
      "Gallus gallus isolate bar1-31 D-loop, partial sequence; tRNA-Phe gene, complete sequence; and 12S ribosomal RNA gene, partial sequence; mitochondrial.\n",
      "DQ885561.1\n",
      "Gallus gallus murghi 12S ribosomal RNA gene, partial sequence; mitochondrial.\n",
      "JN695757.1\n",
      "Gallus gallus isolate S28 12S ribosomal RNA gene, partial sequence; mitochondrial.\n",
      "EF362674.1\n",
      "Gallus gallus isolate bar1-38 D-loop, partial sequence; tRNA-Phe gene, complete sequence; and 12S ribosomal RNA gene, partial sequence; mitochondrial.\n",
      "AJ490505.1\n",
      "Gallus gallus mitochondrial partial 12S rRNA gene, strain Kadaknath.\n",
      "KM224331.1\n",
      "Gallus gallus isolate FRT107 12S ribosomal RNA gene, partial sequence; mitochondrial.\n",
      "EF362697.1\n",
      "Gallus gallus isolate bar3-23 12S ribosomal RNA and tRNA-Val genes, partial sequence; mitochondrial.\n",
      "JN695761.1\n",
      "Gallus gallus isolate S27 12S ribosomal RNA gene, partial sequence; mitochondrial.\n",
      "EF362648.1\n",
      "Gallus gallus isolate bar1-11 D-loop, partial sequence; tRNA-Phe gene, complete sequence; and 12S ribosomal RNA gene, partial sequence; mitochondrial.\n",
      "EF362720.1\n",
      "Gallus gallus isolate bar3-3A 12S ribosomal RNA and tRNA-Val genes, partial sequence; mitochondrial.\n",
      "EF362718.1\n",
      "Gallus gallus isolate bar3-261 12S ribosomal RNA and tRNA-Val genes, partial sequence; mitochondrial.\n",
      "EF362668.1\n",
      "Gallus gallus isolate bar1-4A D-loop, partial sequence; tRNA-Phe gene, complete sequence; and 12S ribosomal RNA gene, partial sequence; mitochondrial.\n",
      "KF484729.1\n",
      "Gallus gallus clone 1 12S ribosomal RNA gene, partial sequence; mitochondrial.\n",
      "EF362713.1\n",
      "Gallus gallus isolate bar3-7A 12S ribosomal RNA and tRNA-Val genes, partial sequence; mitochondrial.\n",
      "EF362722.1\n",
      "Gallus gallus isolate bar 1-6-- D-loop, partial sequence; tRNA-Phe gene, complete sequence; and 12S ribosomal RNA gene, partial sequence; mitochondrial.\n",
      "AJ849444.2\n",
      "Gallus gallus mitochondrial partial 12S rRNA gene.\n",
      "EF362691.1\n",
      "Gallus gallus isolate bar3-11 12S ribosomal RNA and tRNA-Val genes, partial sequence; mitochondrial.\n",
      "EF362709.1\n",
      "Gallus gallus isolate bar3-22 12S ribosomal RNA and tRNA-Val genes, partial sequence; mitochondrial.\n",
      "KF471521.1\n",
      "Gallus gallus 12S ribosomal RNA gene, partial sequence; mitochondrial.\n",
      "EF362705.1\n",
      "Gallus gallus isolate bar3-18 12S ribosomal RNA and tRNA-Val genes, partial sequence; mitochondrial.\n",
      "EF362693.1\n",
      "Gallus gallus isolate bar3-13 12S ribosomal RNA and tRNA-Val genes, partial sequence; mitochondrial.\n",
      "EF432760.1\n",
      "Gallus gallus isolate bar1-37 D-loop, partial sequence; tRNA-Phe gene, complete sequence; and 12S ribosomal RNA gene, partial sequence; mitochondrial.\n",
      "JN695758.1\n",
      "Gallus gallus isolate S23 12S ribosomal RNA gene, partial sequence; mitochondrial.\n",
      "U81335.1\n",
      "Chelydra serpentina 12S mitochondrial ribosomal RNA, small subunit, mitochondrial gene, partial sequence.\n",
      "EF362686.1\n",
      "Gallus gallus isolate bar3-6 12S ribosomal RNA and tRNA-Val genes, partial sequence; mitochondrial.\n",
      "EF362702.1\n",
      "Gallus gallus isolate bar3-1A 12S ribosomal RNA and tRNA-Val genes, partial sequence; mitochondrial.\n",
      "EF362642.1\n",
      "Gallus gallus isolate bar1-5 D-loop, partial sequence; tRNA-Phe gene, complete sequence; and 12S ribosomal RNA gene, partial sequence; mitochondrial.\n",
      "EF362710.1\n",
      "Gallus gallus isolate bar3-29 12S ribosomal RNA and tRNA-Val genes, partial sequence; mitochondrial.\n",
      "JN695759.1\n",
      "Gallus gallus isolate S24 12S ribosomal RNA gene, partial sequence; mitochondrial.\n",
      "EF362684.1\n",
      "Gallus gallus isolate bar3-4 12S ribosomal RNA and tRNA-Val genes, partial sequence; mitochondrial.\n",
      "KF471523.1\n",
      "Gallus gallus 12S ribosomal RNA gene, partial sequence; mitochondrial.\n",
      "EF362681.1\n",
      "Gallus gallus isolate bar3-1 12S ribosomal RNA and tRNA-Val genes, partial sequence; mitochondrial.\n",
      "EF362682.1\n",
      "Gallus gallus isolate bar3-2 12S ribosomal RNA and tRNA-Val genes, partial sequence; mitochondrial.\n",
      "EF362695.1\n",
      "Gallus gallus isolate bar3-15 12S ribosomal RNA and tRNA-Val genes, partial sequence; mitochondrial.\n",
      "KP211944.1\n",
      "Gallus gallus isolate J2 12S ribosomal RNA gene, partial sequence; mitochondrial.\n",
      "EF362717.1\n",
      "Gallus gallus isolate bar3-34 12S ribosomal RNA and tRNA-Val genes, partial sequence; mitochondrial.\n",
      "EF362671.1\n",
      "Gallus gallus isolate bar1-34 D-loop, partial sequence; tRNA-Phe gene, complete sequence; and 12S ribosomal RNA gene, partial sequence; mitochondrial.\n",
      "EF362699.1\n",
      "Gallus gallus isolate bar3-26 12S ribosomal RNA and tRNA-Val genes, partial sequence; mitochondrial.\n",
      "EF362696.1\n",
      "Gallus gallus isolate bar3-16 12S ribosomal RNA and tRNA-Val genes, partial sequence; mitochondrial.\n",
      "HM637771.1\n",
      "Gallus gallus 12S ribosomal RNA gene, partial sequence; mitochondrial.\n",
      "JN695760.1\n",
      "Gallus gallus isolate S26 12S ribosomal RNA gene, partial sequence; mitochondrial.\n",
      "EF362655.1\n",
      "Gallus gallus isolate bar1-16 D-loop, partial sequence; tRNA-Phe gene, complete sequence; and 12S ribosomal RNA gene, partial sequence; mitochondrial.\n",
      "EF362669.1\n",
      "Gallus gallus isolate bar1-25 D-loop, partial sequence; tRNA-Phe gene, complete sequence; and 12S ribosomal RNA gene, partial sequence; mitochondrial.\n",
      "EF362646.1\n",
      "Gallus gallus isolate bar1-8-- D-loop, partial sequence; tRNA-Phe gene, complete sequence; and 12S ribosomal RNA gene, partial sequence; mitochondrial.\n",
      "EU851896.1\n",
      "Gallus gallus isolate Gallus1 12S ribosomal RNA gene, partial sequence; mitochondrial.\n",
      "EF362657.1\n",
      "Gallus gallus isolate bar1-33 D-loop, partial sequence; tRNA-Phe gene, complete sequence; and 12S ribosomal RNA gene, partial sequence; mitochondrial.\n",
      "EF362644.1\n",
      "Gallus gallus isolate bar1-7 D-loop, partial sequence; tRNA-Phe gene, complete sequence; and 12S ribosomal RNA gene, partial sequence; mitochondrial.\n",
      "EF362714.1\n",
      "Gallus gallus isolate bar3-8A 12S ribosomal RNA and tRNA-Val genes, partial sequence; mitochondrial.\n",
      "EF362653.1\n",
      "Gallus gallus isolate bar1-14 D-loop, partial sequence; tRNA-Phe gene, complete sequence; and 12S ribosomal RNA gene, partial sequence; mitochondrial.\n",
      "EF362664.1\n",
      "Gallus gallus isolate bar1-35 D-loop, partial sequence; tRNA-Phe gene, complete sequence; and 12S ribosomal RNA gene, partial sequence; mitochondrial.\n",
      "EF362690.1\n",
      "Gallus gallus isolate bar3-10 12S ribosomal RNA and tRNA-Val genes, partial sequence; mitochondrial.\n",
      "EF362649.1\n",
      "Gallus gallus isolate bar1-12 D-loop, partial sequence; tRNA-Phe gene, complete sequence; and 12S ribosomal RNA gene, partial sequence; mitochondrial.\n",
      "EF362662.1\n",
      "Gallus gallus isolate bar1-22 D-loop, partial sequence; tRNA-Phe gene, complete sequence; and 12S ribosomal RNA gene, partial sequence; mitochondrial.\n",
      "EF362704.1\n",
      "Gallus gallus isolate bar3-17 12S ribosomal RNA and tRNA-Val genes, partial sequence; mitochondrial.\n",
      "GU477775.1\n",
      "Chelydra serpentina 12S ribosomal RNA gene, partial sequence; mitochondrial.\n",
      "EF362687.1\n",
      "Gallus gallus isolate bar3-7 12S ribosomal RNA and tRNA-Val genes, partial sequence; mitochondrial.\n",
      "EF362660.1\n",
      "Gallus gallus isolate bar1-18 D-loop, partial sequence; tRNA-Phe gene, complete sequence; and 12S ribosomal RNA gene, partial sequence; mitochondrial.\n",
      "KF471516.1\n",
      "Gallus gallus 12S ribosomal RNA gene, partial sequence; mitochondrial.\n",
      "EF362643.1\n",
      "Gallus gallus isolate bar1-26 D-loop, partial sequence; tRNA-Phe gene, complete sequence; and 12S ribosomal RNA gene, partial sequence; mitochondrial.\n",
      "EF362651.1\n",
      "Gallus gallus isolate bar1-12-3 D-loop, partial sequence; tRNA-Phe gene, complete sequence; and 12S ribosomal RNA gene, partial sequence; mitochondrial.\n",
      "EF362685.1\n",
      "Gallus gallus isolate bar3-5 12S ribosomal RNA and tRNA-Val genes, partial sequence; mitochondrial.\n",
      "EF362678.1\n",
      "Gallus gallus isolate bar1-6A D-loop, partial sequence; tRNA-Phe gene, complete sequence; and 12S ribosomal RNA gene, partial sequence; mitochondrial.\n",
      "EF362639.1\n",
      "Gallus gallus isolate bar1-1 D-loop, partial sequence; tRNA-Phe gene, complete sequence; and 12S ribosomal RNA gene, partial sequence; mitochondrial.\n",
      "EF362692.1\n",
      "Gallus gallus isolate bar3-12 12S ribosomal RNA and tRNA-Val genes, partial sequence; mitochondrial.\n",
      "EF362683.1\n",
      "Gallus gallus isolate bar3-3 12S ribosomal RNA and tRNA-Val genes, partial sequence; mitochondrial.\n",
      "KP211943.1\n",
      "Gallus gallus isolate J1 12S ribosomal RNA gene, partial sequence; mitochondrial.\n",
      "EF362694.1\n",
      "Gallus gallus isolate bar3-14 12S ribosomal RNA and tRNA-Val genes, partial sequence; mitochondrial.\n",
      "KM224332.1\n",
      "Gallus gallus isolate FRT108 12S ribosomal RNA gene, partial sequence; mitochondrial.\n",
      "EF362670.1\n",
      "Gallus gallus isolate bar1-2A D-loop, partial sequence; tRNA-Phe gene, complete sequence; and 12S ribosomal RNA gene, partial sequence; mitochondrial.\n",
      "KF471518.1\n",
      "Gallus gallus 12S ribosomal RNA gene, partial sequence; mitochondrial.\n",
      "EF362641.1\n",
      "Gallus gallus isolate bar1-3 D-loop, partial sequence; tRNA-Phe gene, complete sequence; and 12S ribosomal RNA gene, partial sequence; mitochondrial.\n",
      "EF362698.1\n",
      "Gallus gallus isolate bar3-25 12S ribosomal RNA and tRNA-Val genes, partial sequence; mitochondrial.\n",
      "EF362673.1\n",
      "Gallus gallus isolate bar1-19 D-loop, partial sequence; tRNA-Phe gene, complete sequence; and 12S ribosomal RNA gene, partial sequence; mitochondrial.\n",
      "EF362647.1\n",
      "Gallus gallus isolate bar1-23 D-loop, partial sequence; tRNA-Phe gene, complete sequence; and 12S ribosomal RNA gene, partial sequence; mitochondrial.\n",
      "KP234022.1\n",
      "Gallus gallus isolate GG clone J3 12S ribosomal RNA gene, partial sequence; mitochondrial.\n",
      "EF362654.1\n",
      "Gallus gallus isolate bar1-15 D-loop, partial sequence; tRNA-Phe gene, complete sequence; and 12S ribosomal RNA gene, partial sequence; mitochondrial.\n",
      "FJ230852.1\n",
      "Chelydra serpentina 12S ribosomal RNA gene, partial sequence; mitochondrial.\n",
      "EF362711.1\n",
      "Gallus gallus isolate bar3-30 12S ribosomal RNA and tRNA-Val genes, partial sequence; mitochondrial.\n",
      "KF471524.1\n",
      "Gallus gallus 12S ribosomal RNA gene, partial sequence; mitochondrial.\n",
      "EF362645.1\n",
      "Gallus gallus isolate bar1-7-3 D-loop, partial sequence; tRNA-Phe gene, complete sequence; and 12S ribosomal RNA gene, partial sequence; mitochondrial.\n",
      "JQ920369.1\n",
      "Chelydra serpentina 12S ribosomal RNA gene, partial sequence; mitochondrial.\n",
      "KM224334.1\n",
      "Gallus gallus isolate FRT110 12S ribosomal RNA gene, partial sequence; mitochondrial.\n",
      "EF362666.1\n",
      "Gallus gallus isolate bar1-7-- D-loop, partial sequence; tRNA-Phe gene, complete sequence; and 12S ribosomal RNA gene, partial sequence; mitochondrial.\n",
      "EF362712.1\n",
      "Gallus gallus isolate bar3-31 12S ribosomal RNA and tRNA-Val genes, partial sequence; mitochondrial.\n",
      "EF362701.1\n",
      "Gallus gallus isolate bar3-28 12S ribosomal RNA and tRNA-Val genes, partial sequence; mitochondrial.\n",
      "EF362719.1\n",
      "Gallus gallus isolate bar3-271 12S ribosomal RNA and tRNA-Val genes, partial sequence; mitochondrial.\n",
      "EF362656.1\n",
      "Gallus gallus isolate bar1-24 D-loop, partial sequence; tRNA-Phe gene, complete sequence; and 12S ribosomal RNA gene, partial sequence; mitochondrial.\n",
      "EF362706.1\n",
      "Gallus gallus isolate bar3-19 12S ribosomal RNA and tRNA-Val genes, partial sequence; mitochondrial.\n",
      "KF471520.1\n",
      "Gallus gallus 12S ribosomal RNA gene, partial sequence; mitochondrial.\n",
      "EF362650.1\n",
      "Gallus gallus isolate bar1-12-- D-loop, partial sequence; tRNA-Phe gene, complete sequence; and 12S ribosomal RNA gene, partial sequence; mitochondrial.\n",
      "KP171705.1\n",
      "Gallus gallus 12S ribosomal RNA gene, partial sequence; mitochondrial.\n",
      "EF362689.1\n",
      "Gallus gallus isolate bar3-9 12S ribosomal RNA and tRNA-Val genes, partial sequence; mitochondrial.\n",
      "EU851897.1\n",
      "Gallus gallus isolate Gallus2 12S ribosomal RNA gene, partial sequence; mitochondrial.\n",
      "KM224330.1\n",
      "Gallus gallus isolate FRT106 12S ribosomal RNA gene, partial sequence; mitochondrial.\n",
      "EF362677.1\n",
      "Gallus gallus isolate bar1-5A D-loop, partial sequence; tRNA-Phe gene, complete sequence; and 12S ribosomal RNA gene, partial sequence; mitochondrial.\n",
      "EF362652.1\n",
      "Gallus gallus isolate bar1-13 D-loop, partial sequence; tRNA-Phe gene, complete sequence; and 12S ribosomal RNA gene, partial sequence; mitochondrial.\n",
      "EF362640.1\n",
      "Gallus gallus isolate bar1-2 D-loop, partial sequence; tRNA-Phe gene, complete sequence; and 12S ribosomal RNA gene, partial sequence; mitochondrial.\n",
      "EF362658.1\n",
      "Gallus gallus isolate bar1-9 D-loop, partial sequence; tRNA-Phe gene, complete sequence; and 12S ribosomal RNA gene, partial sequence; mitochondrial.\n",
      "EF362675.1\n",
      "Gallus gallus isolate bar1-29 D-loop, partial sequence; tRNA-Phe gene, complete sequence; and 12S ribosomal RNA gene, partial sequence; mitochondrial.\n",
      "EF362708.1\n",
      "Gallus gallus isolate bar3-21 12S ribosomal RNA and tRNA-Val genes, partial sequence; mitochondrial.\n",
      "EF362715.1\n",
      "Gallus gallus isolate bar3-6A 12S ribosomal RNA and tRNA-Val genes, partial sequence; mitochondrial.\n",
      "EF362672.1\n",
      "Gallus gallus isolate bar1-8A D-loop, partial sequence; tRNA-Phe gene, complete sequence; and 12S ribosomal RNA gene, partial sequence; mitochondrial.\n",
      "EF362716.1\n",
      "Gallus gallus isolate bar3-33 12S ribosomal RNA and tRNA-Val genes, partial sequence; mitochondrial.\n",
      "EF362659.1\n",
      "Gallus gallus isolate bar1-17 D-loop, partial sequence; tRNA-Phe gene, complete sequence; and 12S ribosomal RNA gene, partial sequence; mitochondrial.\n",
      "EF362721.1\n",
      "Gallus gallus isolate bar3-4A 12S ribosomal RNA and tRNA-Val genes, partial sequence; mitochondrial.\n",
      "EF362663.1\n",
      "Gallus gallus isolate bar1-4-- D-loop, partial sequence; tRNA-Phe gene, complete sequence; and 12S ribosomal RNA gene, partial sequence; mitochondrial.\n",
      "EF362723.1\n",
      "Gallus gallus isolate bar 1-16 D-loop, partial sequence; tRNA-Phe gene, complete sequence; and 12S ribosomal RNA gene, partial sequence; mitochondrial.\n",
      "EF362679.1\n",
      "Gallus gallus isolate bar1-7A D-loop, partial sequence; tRNA-Phe gene, complete sequence; and 12S ribosomal RNA gene, partial sequence; mitochondrial.\n",
      "EF362665.1\n",
      "Gallus gallus isolate bar1-36 D-loop, partial sequence; tRNA-Phe gene, complete sequence; and 12S ribosomal RNA gene, partial sequence; mitochondrial.\n",
      "EF432761.1\n",
      "Gallus gallus isolate bar1-20 D-loop, partial sequence; tRNA-Phe gene, complete sequence; and 12S ribosomal RNA gene, partial sequence; mitochondrial.\n",
      "EF362707.1\n",
      "Gallus gallus isolate bar3-20 12S ribosomal RNA and tRNA-Val genes, partial sequence; mitochondrial.\n",
      "AJ583547.1\n",
      "Gallus gallus partial 12S rRNA gene.\n",
      "EF362700.1\n",
      "Gallus gallus isolate bar3-27 12S ribosomal RNA and tRNA-Val genes, partial sequence; mitochondrial.\n",
      "EF362667.1\n",
      "Gallus gallus isolate bar1-3A D-loop, partial sequence; tRNA-Phe gene, complete sequence; and 12S ribosomal RNA gene, partial sequence; mitochondrial.\n"
     ]
    }
   ],
   "source": [
    "for r in pj.records:\n",
    "    if len(r.seq) < 500:\n",
    "        print r.id\n",
    "        print r.description"
   ]
  },
  {
   "cell_type": "markdown",
   "metadata": {},
   "source": [
    "Pickle the project."
   ]
  },
  {
   "cell_type": "code",
   "execution_count": 10,
   "metadata": {
    "collapsed": false
   },
   "outputs": [
    {
     "ename": "NameError",
     "evalue": "name 'pj' is not defined",
     "output_type": "error",
     "traceback": [
      "\u001b[1;31m---------------------------------------------------------------------------\u001b[0m",
      "\u001b[1;31mNameError\u001b[0m                                 Traceback (most recent call last)",
      "\u001b[1;32m<ipython-input-10-84df912a657e>\u001b[0m in \u001b[0;36m<module>\u001b[1;34m()\u001b[0m\n\u001b[1;32m----> 1\u001b[1;33m \u001b[0mpickle_pj\u001b[0m\u001b[1;33m(\u001b[0m\u001b[0mpj\u001b[0m\u001b[1;33m,\u001b[0m \u001b[1;34m'amphib_nr.pkl'\u001b[0m\u001b[1;33m)\u001b[0m\u001b[1;33m\u001b[0m\u001b[0m\n\u001b[0m",
      "\u001b[1;31mNameError\u001b[0m: name 'pj' is not defined"
     ]
    }
   ],
   "source": [
    "pickle_pj(pj, 'amphib_nr.pkl')"
   ]
  },
  {
   "cell_type": "markdown",
   "metadata": {},
   "source": [
    "# Feed short 12S rRNA sequences into long alignment"
   ]
  },
  {
   "cell_type": "markdown",
   "metadata": {},
   "source": [
    "Previously, sequences shorter than 500bp were removed from the pj.records dictionary before a muscle alignment was performed. Short sequences can cause problems in global paired alignments when the alignment algorithm attempts to match them to much longer sequences.\n",
    "\n",
    "Instead, we performed the long alignment of sequences longer than 500bp first and now we will attempt to incorporate the shorter sequences. This will be done using the hmmbuild command within the hmmer v3 program suite. to construct a Hidden Markov Model and produce a hmm file."
   ]
  },
  {
   "cell_type": "code",
   "execution_count": 2,
   "metadata": {
    "collapsed": false
   },
   "outputs": [
    {
     "name": "stdout",
     "output_type": "stream",
     "text": [
      "# hmmbuild :: profile HMM construction from multiple sequence alignments\r\n",
      "# HMMER 3.1b1 (May 2013); http://hmmer.org/\r\n",
      "# Copyright (C) 2013 Howard Hughes Medical Institute.\r\n",
      "# Freely distributed under the GNU General Public License (GPLv3).\r\n",
      "# - - - - - - - - - - - - - - - - - - - - - - - - - - - - - - - - - - - -\r\n",
      "Usage: hmmbuild [-options] <hmmfile_out> <msafile>\r\n",
      "\r\n",
      "Basic options:\r\n",
      "  -h     : show brief help on version and usage\r\n",
      "  -n <s> : name the HMM <s>\r\n",
      "  -o <f> : direct summary output to file <f>, not stdout\r\n",
      "  -O <f> : resave annotated, possibly modified MSA to file <f>\r\n",
      "\r\n",
      "Options for selecting alphabet rather than guessing it:\r\n",
      "  --amino : input alignment is protein sequence data\r\n",
      "  --dna   : input alignment is DNA sequence data\r\n",
      "  --rna   : input alignment is RNA sequence data\r\n",
      "\r\n",
      "Alternative model construction strategies:\r\n",
      "  --fast           : assign cols w/ >= symfrac residues as consensus  [default]\r\n",
      "  --hand           : manual construction (requires reference annotation)\r\n",
      "  --symfrac <x>    : sets sym fraction controlling --fast construction  [0.5]\r\n",
      "  --fragthresh <x> : if L <= x*alen, tag sequence as a fragment  [0.5]\r\n",
      "\r\n",
      "Alternative relative sequence weighting strategies:\r\n",
      "  --wpb     : Henikoff position-based weights  [default]\r\n",
      "  --wgsc    : Gerstein/Sonnhammer/Chothia tree weights\r\n",
      "  --wblosum : Henikoff simple filter weights\r\n",
      "  --wnone   : don't do any relative weighting; set all to 1\r\n",
      "  --wgiven  : use weights as given in MSA file\r\n",
      "  --wid <x> : for --wblosum: set identity cutoff  [0.62]  (0<=x<=1)\r\n",
      "\r\n",
      "Alternative effective sequence weighting strategies:\r\n",
      "  --eent       : adjust eff seq # to achieve relative entropy target  [default]\r\n",
      "  --eclust     : eff seq # is # of single linkage clusters\r\n",
      "  --enone      : no effective seq # weighting: just use nseq\r\n",
      "  --eset <x>   : set eff seq # for all models to <x>\r\n",
      "  --ere <x>    : for --eent: set minimum rel entropy/position to <x>\r\n",
      "  --esigma <x> : for --eent: set sigma param to <x>  [45.0]\r\n",
      "  --eid <x>    : for --eclust: set fractional identity cutoff to <x>  [0.62]\r\n",
      "\r\n",
      "Alternative prior strategies:\r\n",
      "  --pnone    : don't use any prior; parameters are frequencies\r\n",
      "  --plaplace : use a Laplace +1 prior\r\n",
      "\r\n",
      "Handling single sequence inputs:\r\n",
      "  --singlemx    : use substitution score matrix for single-sequence inputs\r\n",
      "  --popen <x>   : gap open probability (with --singlemx)\r\n",
      "  --pextend <x> : gap extend probability (with --singlemx)\r\n",
      "  --mx <s>      : substitution score matrix (built-in matrices, with --singlemx)\r\n",
      "  --mxfile <f>  : read substitution score matrix from file <f> (with --singlemx)\r\n",
      "\r\n",
      "Control of E-value calibration:\r\n",
      "  --EmL <n> : length of sequences for MSV Gumbel mu fit  [200]  (n>0)\r\n",
      "  --EmN <n> : number of sequences for MSV Gumbel mu fit  [200]  (n>0)\r\n",
      "  --EvL <n> : length of sequences for Viterbi Gumbel mu fit  [200]  (n>0)\r\n",
      "  --EvN <n> : number of sequences for Viterbi Gumbel mu fit  [200]  (n>0)\r\n",
      "  --EfL <n> : length of sequences for Forward exp tail tau fit  [100]  (n>0)\r\n",
      "  --EfN <n> : number of sequences for Forward exp tail tau fit  [200]  (n>0)\r\n",
      "  --Eft <x> : tail mass for Forward exponential tail tau fit  [0.04]  (0<x<1)\r\n",
      "\r\n",
      "Other options:\r\n",
      "  --cpu <n>          : number of parallel CPU workers for multithreads\r\n",
      "  --stall            : arrest after start: for attaching debugger to process\r\n",
      "  --informat <s>     : assert input alifile is in format <s> (no autodetect)\r\n",
      "  --seed <n>         : set RNG seed to <n> (if 0: one-time arbitrary seed)  [42]\r\n",
      "  --w_beta <x>       : tail mass at which window length is determined\r\n",
      "  --w_length <n>     : window length \r\n",
      "  --maxinsertlen <n> : pretend all inserts are length <= <n>\r\n"
     ]
    }
   ],
   "source": [
    "!hmmbuild -h #for help"
   ]
  },
  {
   "cell_type": "code",
   "execution_count": 3,
   "metadata": {
    "collapsed": false
   },
   "outputs": [
    {
     "name": "stdout",
     "output_type": "stream",
     "text": [
      "# hmmbuild :: profile HMM construction from multiple sequence alignments\n",
      "# HMMER 3.1b1 (May 2013); http://hmmer.org/\n",
      "# Copyright (C) 2013 Howard Hughes Medical Institute.\n",
      "# Freely distributed under the GNU General Public License (GPLv3).\n",
      "# - - - - - - - - - - - - - - - - - - - - - - - - - - - - - - - - - - - -\n",
      "# input alignment file:             500bp_amphib_align.fasta\n",
      "# output HMM file:                  12S_amphib_ref.hmm\n",
      "# - - - - - - - - - - - - - - - - - - - - - - - - - - - - - - - - - - - -\n",
      "\n",
      "# idx name                  nseq  alen  mlen     W eff_nseq re/pos description\n",
      "#---- -------------------- ----- ----- ----- ----- -------- ------ -----------\n",
      "1     500bp_amphib_align      89  1185   948  1146     2.59  0.450 \n",
      "\n",
      "# CPU time: 0.35u 0.00s 00:00:00.35 Elapsed: 00:00:00.35\n"
     ]
    }
   ],
   "source": [
    "!hmmbuild 12S_amphib_ref.hmm 500bp_amphib_align.fasta"
   ]
  },
  {
   "cell_type": "markdown",
   "metadata": {},
   "source": [
    "Now use hmmalign to align the short 12S rRNA sequences to the longer reference alignment."
   ]
  },
  {
   "cell_type": "code",
   "execution_count": 4,
   "metadata": {
    "collapsed": false
   },
   "outputs": [
    {
     "name": "stdout",
     "output_type": "stream",
     "text": [
      "# hmmalign :: align sequences to a profile HMM\r\n",
      "# HMMER 3.1b1 (May 2013); http://hmmer.org/\r\n",
      "# Copyright (C) 2013 Howard Hughes Medical Institute.\r\n",
      "# Freely distributed under the GNU General Public License (GPLv3).\r\n",
      "# - - - - - - - - - - - - - - - - - - - - - - - - - - - - - - - - - - - -\r\n",
      "Usage: hmmalign [-options] <hmmfile> <seqfile>\r\n",
      "\r\n",
      "Basic options:\r\n",
      "  -h     : show brief help on version and usage\r\n",
      "  -o <f> : output alignment to file <f>, not stdout\r\n",
      "\r\n",
      "Less common options:\r\n",
      "  --mapali <f>    : include alignment in file <f> (same ali that HMM came from)\r\n",
      "  --trim          : trim terminal tails of nonaligned residues from alignment\r\n",
      "  --amino         : assert <seqfile>, <hmmfile> both protein: no autodetection\r\n",
      "  --dna           : assert <seqfile>, <hmmfile> both DNA: no autodetection\r\n",
      "  --rna           : assert <seqfile>, <hmmfile> both RNA: no autodetection\r\n",
      "  --informat <s>  : assert <seqfile> is in format <s>: no autodetection\r\n",
      "  --outformat <s> : output alignment in format <s>  [Stockholm]\r\n",
      "\r\n",
      "Sequence input formats include:   FASTA, EMBL, GenBank, UniProt\r\n",
      "Alignment output formats include: Stockholm, Pfam, A2M, PSIBLAST\r\n",
      "\r\n"
     ]
    }
   ],
   "source": [
    "!hmmalign -h #for help"
   ]
  },
  {
   "cell_type": "code",
   "execution_count": 5,
   "metadata": {
    "collapsed": true
   },
   "outputs": [],
   "source": [
    "%%bash\n",
    "\n",
    "hmmalign -o 12S_amphib500bpref_plus_short_query.sto \\\n",
    "--mapali 500bp_amphib_align.fasta \\\n",
    "12S_amphib_ref.hmm amphib_short_to_align.fasta"
   ]
  },
  {
   "cell_type": "markdown",
   "metadata": {},
   "source": [
    "The hmmalign command has produced a file containing a new alignment of all 12S rRNA sequences (long and short) in stockholm output format. This must be converted to a more useful file format such as fasta or GenBank using the Seq command in BioPython."
   ]
  },
  {
   "cell_type": "code",
   "execution_count": 6,
   "metadata": {
    "collapsed": false
   },
   "outputs": [
    {
     "name": "stdout",
     "output_type": "stream",
     "text": [
      "Converted 203 records\n"
     ]
    }
   ],
   "source": [
    "from Bio import AlignIO\n",
    "\n",
    "input_file = open(\"12S_amphib500bpref_plus_short_query.sto\", \"rU\")\n",
    "output_file = open(\"12S_AmphibAlign_ALL.fasta\", \"w\")\n",
    "\n",
    "alignment = AlignIO.read(input_file, \"stockholm\")\n",
    "count = len(alignment)\n",
    "AlignIO.write(alignment, output_file, \"fasta\")\n",
    "\n",
    "output_file.close()\n",
    "input_file.close()\n",
    "print(\"Converted %i records\" % count)"
   ]
  },
  {
   "cell_type": "markdown",
   "metadata": {},
   "source": [
    "# Tree Building"
   ]
  },
  {
   "cell_type": "markdown",
   "metadata": {},
   "source": [
    "The fasta file containing the 12S rRNA amphibian sequence alignment must now be converted into a format which can be used for alignment trimming. The alignment must be parsed to an alignment object, aln."
   ]
  },
  {
   "cell_type": "code",
   "execution_count": 3,
   "metadata": {
    "collapsed": false
   },
   "outputs": [
    {
     "name": "stderr",
     "output_type": "stream",
     "text": [
      "DEBUG:Cloud:Log file (/root/.picloud/cloud.log) opened\n"
     ]
    }
   ],
   "source": [
    "pj=unpickle_pj('amphib_nr.pkl', git=False)"
   ]
  },
  {
   "cell_type": "code",
   "execution_count": 4,
   "metadata": {
    "collapsed": false
   },
   "outputs": [
    {
     "name": "stdout",
     "output_type": "stream",
     "text": [
      "EF122793.1_f0 is 1552bp\n",
      "JN860636.1_f0 is 1552bp\n",
      "AB188189.1_f0 is 1552bp\n",
      "JN627421.1_f0 is 1552bp\n",
      "JN627422.1_f0 is 1552bp\n",
      "JN627426.1_f0 is 1552bp\n",
      "JN627424.1_f0 is 1552bp\n",
      "JN627425.1_f0 is 1552bp\n",
      "KC977226.1_f0 is 1552bp\n",
      "KC977215.1_f0 is 1552bp\n",
      "AY326063.1_f0 is 1552bp\n",
      "KC977206.1_f0 is 1552bp\n",
      "KC977218.1_f0 is 1552bp\n",
      "KC977222.1_f0 is 1552bp\n",
      "KC977217.1_f0 is 1552bp\n",
      "KC977220.1_f0 is 1552bp\n",
      "KC977225.1_f0 is 1552bp\n",
      "KC977204.1_f0 is 1552bp\n",
      "AB685766.1_f0 is 1552bp\n",
      "KC977224.1_f0 is 1552bp\n",
      "KF049927.1_f0 is 1552bp\n",
      "M57527.1_f0 is 1552bp\n",
      "D12694.1_f0 is 1552bp\n",
      "KU840522.1_f0 is 1552bp\n",
      "AB761267.1_f0 is 1552bp\n",
      "DQ055835.1_f0 is 1552bp\n",
      "AY843601.1_f0 is 1552bp\n",
      "AY325988.1_f0 is 1552bp\n",
      "DQ158438.1_f0 is 1552bp\n",
      "U52726.1_f0 is 1552bp\n",
      "EU938400.1_f0 is 1552bp\n",
      "EU880331.1_f0 is 1552bp\n",
      "AY928619.1_f0 is 1552bp\n",
      "EU880335.1_f0 is 1552bp\n",
      "EU880339.1_f0 is 1552bp\n",
      "HQ697272.1_f0 is 1552bp\n",
      "EU880336.1_f0 is 1552bp\n",
      "KF471517.1_f0 is 1552bp\n",
      "EF373884.1_f0 is 1552bp\n",
      "EF373885.1_f0 is 1552bp\n",
      "EF373883.1_f0 is 1552bp\n",
      "KP211422.1_f0 is 1552bp\n",
      "EF373899.1_f0 is 1552bp\n",
      "AP003321.1_f0 is 1552bp\n",
      "FJ610338.1_f0 is 1552bp\n",
      "FJ610339.1_f0 is 1552bp\n",
      "KX512321.1_f0 is 1552bp\n",
      "EF373904.1_f0 is 1552bp\n",
      "KM886936.1_f0 is 1552bp\n",
      "AY235570.1_f0 is 1552bp\n",
      "GU261698.1_f0 is 1552bp\n",
      "GU261674.1_f0 is 1552bp\n",
      "AP003317.1_f0 is 1552bp\n",
      "GU261680.1_f0 is 1552bp\n",
      "GU261678.1_f0 is 1552bp\n",
      "GU261693.1_f0 is 1552bp\n",
      "AB086102.1_f0 is 1552bp\n",
      "GU261683.1_f0 is 1552bp\n",
      "KT626848.1_f0 is 1552bp\n",
      "KP211419.1_f0 is 1552bp\n",
      "GU261707.1_f0 is 1552bp\n",
      "GU261694.1_f0 is 1552bp\n",
      "AP003318.1_f0 is 1552bp\n",
      "KJ858774.1_f0 is 1552bp\n",
      "KJ858773.1_f0 is 1552bp\n",
      "AY585337.1_f0 is 1552bp\n",
      "KJ858770.1_f0 is 1552bp\n",
      "KJ858771.1_f0 is 1552bp\n",
      "KJ858772.1_f0 is 1552bp\n",
      "KJ858776.1_f0 is 1552bp\n",
      "KJ858778.1_f0 is 1552bp\n",
      "M10217.1_f0 is 1552bp\n",
      "Y10943.1_f0 is 1552bp\n",
      "M27605.1_f0 is 1552bp\n",
      "AY581639.1_f0 is 1552bp\n",
      "AY581648.1_f0 is 1552bp\n",
      "AY581644.1_f0 is 1552bp\n",
      "AY581640.1_f0 is 1552bp\n",
      "AY581638.1_f0 is 1552bp\n",
      "JQ626644.1_f0 is 1552bp\n",
      "JQ626643.1_f0 is 1552bp\n",
      "EU115993.1_f0 is 1552bp\n",
      "JX893172.1_f0 is 1552bp\n",
      "AY971143.1_f0 is 1552bp\n",
      "JX893174.1_f0 is 1552bp\n",
      "JX893175.1_f0 is 1552bp\n",
      "JX893178.1_f0 is 1552bp\n",
      "JX893176.1_f0 is 1552bp\n",
      "JX893177.1_f0 is 1552bp\n",
      "AY322321.1_f0 is 1552bp\n",
      "FJ595208.1_f0 is 1552bp\n",
      "AY347451.1_f0 is 1552bp\n",
      "AF161036.1_f0 is 1552bp\n",
      "AJ440767.1_f0 is 1552bp\n",
      "KP109553.1_f0 is 1552bp\n",
      "KX269198.1_f0 is 1552bp\n",
      "AJ222711.1_f0 is 1552bp\n",
      "AY333688.1_f0 is 1552bp\n",
      "KF645375.1_f0 is 1552bp\n",
      "AY347456.1_f0 is 1552bp\n",
      "AY043038.1_f0 is 1552bp\n",
      "EU116959.1_f0 is 1552bp\n",
      "X95493.1_f0 is 1552bp\n",
      "AY347452.1_f0 is 1552bp\n",
      "AB023395.1_f0 is 1552bp\n",
      "AF218718.1_f0 is 1552bp\n",
      "AY333663.1_f0 is 1552bp\n",
      "AB023396.1_f0 is 1552bp\n",
      "AY222458.1_f0 is 1552bp\n",
      "KF664850.1_f0 is 1552bp\n",
      "AY333653.1_f0 is 1552bp\n",
      "KP109559.1_f0 is 1552bp\n",
      "KF645417.1_f0 is 1552bp\n",
      "AY333665.1_f0 is 1552bp\n",
      "AY147254.1_f0 is 1552bp\n",
      "KF645409.1_f0 is 1552bp\n",
      "AY147256.1_f0 is 1552bp\n",
      "U04702.1_f0 is 1552bp\n",
      "DQ092285.1_f0 is 1552bp\n",
      "KF645408.1_f0 is 1552bp\n",
      "AJ222710.1_f0 is 1552bp\n",
      "AY333669.1_f0 is 1552bp\n",
      "AY880481.1_f0 is 1552bp\n",
      "AY347457.1_f0 is 1552bp\n",
      "AY333687.1_f0 is 1552bp\n",
      "X86235.1_f0 is 1552bp\n",
      "AY347458.1_f0 is 1552bp\n",
      "DQ221219.1_f0 is 1552bp\n",
      "FJ595204.1_f0 is 1552bp\n",
      "KF645371.1_f0 is 1552bp\n",
      "AY333655.1_f0 is 1552bp\n",
      "AB023397.1_f0 is 1552bp\n",
      "AY333683.1_f0 is 1552bp\n",
      "X95494.1_f0 is 1552bp\n",
      "U04704.1_f0 is 1552bp\n",
      "AY880461.1_f0 is 1552bp\n",
      "KP109558.1_f0 is 1552bp\n",
      "AY043041.1_f0 is 1552bp\n",
      "DQ092298.1_f0 is 1552bp\n",
      "KF645367.1_f0 is 1552bp\n",
      "DQ221215.1_f0 is 1552bp\n",
      "KF645365.1_f0 is 1552bp\n",
      "AY347455.1_f0 is 1552bp\n",
      "AY333684.1_f0 is 1552bp\n",
      "AY347454.1_f0 is 1552bp\n",
      "AY043034.1_f0 is 1552bp\n",
      "AJ440762.1_f0 is 1552bp\n",
      "FJ602097.1_f0 is 1552bp\n",
      "DQ092286.1_f0 is 1552bp\n",
      "AY333664.1_f0 is 1552bp\n",
      "AY043032.1_f0 is 1552bp\n",
      "KP109557.1_f0 is 1552bp\n",
      "KF645373.1_f0 is 1552bp\n",
      "KF645370.1_f0 is 1552bp\n",
      "AY333666.1_f0 is 1552bp\n",
      "AB159478.1_f0 is 1552bp\n",
      "KP109555.1_f0 is 1552bp\n",
      "DQ221220.1_f0 is 1552bp\n",
      "DQ221216.1_f0 is 1552bp\n",
      "AY347450.1_f0 is 1552bp\n",
      "AF124103.1_f0 is 1552bp\n",
      "AJ309142.1_f0 is 1552bp\n",
      "AY779191.1_f0 is 1552bp\n",
      "KP109552.1_f0 is 1552bp\n",
      "KF645366.1_f0 is 1552bp\n",
      "DQ221225.1_f0 is 1552bp\n",
      "AY333686.1_f0 is 1552bp\n",
      "KF645364.1_f0 is 1552bp\n",
      "DQ221223.1_f0 is 1552bp\n",
      "EU116957.1_f0 is 1552bp\n",
      "KP109556.1_f0 is 1552bp\n",
      "AY347453.1_f0 is 1552bp\n",
      "EU116960.1_f0 is 1552bp\n",
      "M13046.1_f0 is 1552bp\n",
      "AB023394.1_f0 is 1552bp\n",
      "KP109554.1_f0 is 1552bp\n",
      "AY222459.1_f0 is 1552bp\n",
      "AY347459.1_f0 is 1552bp\n",
      "KT074476.1_f0 is 1552bp\n",
      "AF224726.1_f0 is 1552bp\n",
      "DQ885561.1_f0 is 1552bp\n",
      "JN695757.1_f0 is 1552bp\n",
      "EF362674.1_f0 is 1552bp\n",
      "KF484729.1_f0 is 1552bp\n",
      "AJ849444.2_f0 is 1552bp\n",
      "KF471521.1_f0 is 1552bp\n",
      "EF432760.1_f0 is 1552bp\n",
      "U81335.1_f0 is 1552bp\n",
      "EF362642.1_f0 is 1552bp\n",
      "KF471523.1_f0 is 1552bp\n",
      "EF362717.1_f0 is 1552bp\n",
      "HM637771.1_f0 is 1552bp\n",
      "EU851896.1_f0 is 1552bp\n",
      "GU477775.1_f0 is 1552bp\n",
      "KF471516.1_f0 is 1552bp\n",
      "EF362643.1_f0 is 1552bp\n",
      "EF362639.1_f0 is 1552bp\n",
      "KF471518.1_f0 is 1552bp\n",
      "KP234022.1_f0 is 1552bp\n",
      "KF471524.1_f0 is 1552bp\n",
      "KF471520.1_f0 is 1552bp\n",
      "KP171705.1_f0 is 1552bp\n",
      "EF362708.1_f0 is 1552bp\n"
     ]
    }
   ],
   "source": [
    "from Bio import AlignIO\n",
    "from Bio.Alphabet import generic_dna\n",
    "\n",
    "aln = AlignIO.read(open(\"12S_amphib500bpref_plus_short_query.sto\"), \"stockholm\", alphabet=generic_dna)\n",
    "for r in aln:\n",
    "    print(r.id + \" is \" + str(len(r)) + \"bp\")"
   ]
  },
  {
   "cell_type": "code",
   "execution_count": 5,
   "metadata": {
    "collapsed": false
   },
   "outputs": [],
   "source": [
    "pj.alignments['rrnS@amphib_align_allseq'] = aln"
   ]
  },
  {
   "cell_type": "code",
   "execution_count": 6,
   "metadata": {
    "collapsed": false
   },
   "outputs": [
    {
     "data": {
      "text/plain": [
       "{'rrnS@amphib_align_allseq': <<class 'Bio.Align.MultipleSeqAlignment'> instance (203 records of length 1552, DNAAlphabet()) at 7fb520bc9690>,\n",
       " 'rrnS@muscleDefault': <<class 'Bio.Align.MultipleSeqAlignment'> instance (89 records of length 1292, IUPACProtein()) at 7fb51fe0a790>}"
      ]
     },
     "execution_count": 6,
     "metadata": {},
     "output_type": "execute_result"
    }
   ],
   "source": [
    "pj.alignments"
   ]
  },
  {
   "cell_type": "code",
   "execution_count": 7,
   "metadata": {
    "collapsed": false
   },
   "outputs": [
    {
     "data": {
      "text/plain": [
       "['rrnS@amphib_align_allseq', 'rrnS@muscleDefault']"
      ]
     },
     "execution_count": 7,
     "metadata": {},
     "output_type": "execute_result"
    }
   ],
   "source": [
    "pj.alignments.keys()"
   ]
  },
  {
   "cell_type": "markdown",
   "metadata": {},
   "source": [
    "The alignment needs trimming and removal of gaps within sequences. The below cell contains the reprophylo solution for clipping the alignment - the default gappyout algorithm.\n",
    "\n",
    "With TrimalConf, instead of specifying loci names, we provide alignment names, as they appear in the keys of pj.alignments."
   ]
  },
  {
   "cell_type": "code",
   "execution_count": 8,
   "metadata": {
    "collapsed": false
   },
   "outputs": [
    {
     "name": "stdout",
     "output_type": "stream",
     "text": [
      "trimal -in 475441477481445.48_rrnS@amphib_align_allseq.fasta -gappyout\n"
     ]
    }
   ],
   "source": [
    "gappyout = TrimalConf(pj,                      # The Project\n",
    "\n",
    "                      method_name='gappyout',  # Any unique string \n",
    "                                               # ('gappyout' is default)\n",
    "\n",
    "                      program_name='trimal',   # No alternatives in \n",
    "                                               # this ReproPhylo version\n",
    "\n",
    "                      cmd='default',           # the default is trimal. \n",
    "                                               # Change it here\n",
    "                                               # or in pj.defaults['trimal']\n",
    "\n",
    "                      alns=['rrnS@amphib_align_allseq'],# 'all' by default\n",
    "\n",
    "                      trimal_commands={'gappyout': True} # By default, the gappyout algorithm is used.\n",
    "                      )"
   ]
  },
  {
   "cell_type": "code",
   "execution_count": 9,
   "metadata": {
    "collapsed": true
   },
   "outputs": [],
   "source": [
    "pj.trim([gappyout])"
   ]
  },
  {
   "cell_type": "code",
   "execution_count": 10,
   "metadata": {
    "collapsed": false
   },
   "outputs": [
    {
     "name": "stdout",
     "output_type": "stream",
     "text": [
      "TrimalConf named gappyout with ID 475441477481445.48\n",
      "Alignments: rrnS@amphib_align_allseq \n",
      "Created on: Wed Oct 26 11:30:45 2016\n",
      "Commands:\n",
      "rrnS@amphib_align_allseq@gappyout: trimal -in 475441477481445.48_rrnS@amphib_align_allseq.fasta -gappyout\n",
      "\n",
      "Environment:Platform: Linux-4.4.0-38-generic-x86_64-with-Ubuntu-14.04-trusty\n",
      " Processor: x86_64\n",
      " Python build: defaultMar 22 2014 22:59:56\n",
      " Python compiler: GCC 4.8.2\n",
      " Python implementation: CPython\n",
      " Python version: 2.7.6\n",
      " ete2 version: 2.2.1072\n",
      " biopython version: 1.68\n",
      " dendropy version: 3.12.2\n",
      " cloud version: 2.8.5\n",
      " reprophylo version 1.3\n",
      " User: biopc4\n",
      " Program and version: trimAl 1.2rev59\n",
      " Program reference: Salvador Capella-Gutierrez; Jose M. Silla-Martinez; Toni Gabaldon. trimAl: a tool for automated alignment trimming in large-scale phylogenetic analyses. Bioinformatics 2009 25: 1972-1973.\n",
      "execution time:\n",
      "2.18569493294\n",
      "\n",
      "==============================\n",
      "Core Methods section sentence:\n",
      "==============================\n",
      "The alignment(s) rrnS@amphib_align_allseq were trimmed using the program trimAl 1.2rev59 [1].\n",
      "\n",
      "Reference:\n",
      "Salvador Capella-Gutierrez; Jose M. Silla-Martinez; Toni Gabaldon. trimAl: a tool for automated alignment trimming in large-scale phylogenetic analyses. Bioinformatics 2009 25: 1972-1973.\n",
      "\n"
     ]
    }
   ],
   "source": [
    "print pj.used_methods['gappyout']"
   ]
  },
  {
   "cell_type": "markdown",
   "metadata": {},
   "source": [
    "The trimmed alignments themselves are stored in the pj.trimmed_alignments dictionary, using keys."
   ]
  },
  {
   "cell_type": "code",
   "execution_count": 11,
   "metadata": {
    "collapsed": false
   },
   "outputs": [
    {
     "data": {
      "text/plain": [
       "{'rrnS@amphib_align_allseq@gappyout': <<class 'Bio.Align.MultipleSeqAlignment'> instance (203 records of length 1192, IUPACAmbiguousDNA()) at 7fb51ffa2790>,\n",
       " 'rrnS@muscleDefault@gappyout': <<class 'Bio.Align.MultipleSeqAlignment'> instance (89 records of length 1185, IUPACAmbiguousDNA()) at 7fb520d43210>}"
      ]
     },
     "execution_count": 11,
     "metadata": {},
     "output_type": "execute_result"
    }
   ],
   "source": [
    "pj.trimmed_alignments"
   ]
  },
  {
   "cell_type": "markdown",
   "metadata": {},
   "source": [
    "Trimmed alignment text files can be dumped in any AlignIO format for usage in an external command line or GUI program. When writing to files, you can control the header of the sequence by, for example, adding the organism name of the gene name, or by replacing the feature ID with the record ID:"
   ]
  },
  {
   "cell_type": "code",
   "execution_count": 12,
   "metadata": {
    "collapsed": false
   },
   "outputs": [
    {
     "data": {
      "text/plain": [
       "['rrnS@muscleDefault@gappyout_trimmed_aln.fasta',\n",
       " 'rrnS@amphib_align_allseq@gappyout_trimmed_aln.fasta']"
      ]
     },
     "execution_count": 12,
     "metadata": {},
     "output_type": "execute_result"
    }
   ],
   "source": [
    "files = pj.write_trimmed_alns(id=['record_id','source_organism'],\n",
    "                                   format='fasta')\n",
    "files"
   ]
  },
  {
   "cell_type": "markdown",
   "metadata": {},
   "source": [
    "Write clipped alignment to file for downstream taxonomic curation using SATIVA."
   ]
  },
  {
   "cell_type": "code",
   "execution_count": 13,
   "metadata": {
    "collapsed": true
   },
   "outputs": [],
   "source": [
    "from Bio import AlignIO\n",
    "\n",
    "clipped_aln = pj.trimmed_alignments[\"rrnS@amphib_align_allseq@gappyout\"]"
   ]
  },
  {
   "cell_type": "code",
   "execution_count": 14,
   "metadata": {
    "collapsed": true
   },
   "outputs": [],
   "source": [
    "out=open('trimmed_amphib_align_ALL.phy', 'w')\n",
    "AlignIO.write(clipped_aln, out, 'phylip-relaxed')\n",
    "out.close()"
   ]
  },
  {
   "cell_type": "markdown",
   "metadata": {},
   "source": [
    "SATIVA requires a taxonomic file that has been generated from a genbank file containing all record IDs included in the trimmed alignment.\n",
    "\n",
    "First, the alignment must be parsed in fasta format and record IDs altered to contain only the ID as entered on genbank e.g. EU116957.1\n",
    "\n",
    "Next, the record IDs must be extracted from the trimmed alignment file."
   ]
  },
  {
   "cell_type": "code",
   "execution_count": 15,
   "metadata": {
    "collapsed": false
   },
   "outputs": [
    {
     "name": "stdout",
     "output_type": "stream",
     "text": [
      "EF122793.1\n",
      "JN860636.1\n",
      "AB188189.1\n",
      "JN627421.1\n",
      "JN627422.1\n",
      "JN627426.1\n",
      "JN627424.1\n",
      "JN627425.1\n",
      "KC977226.1\n",
      "KC977215.1\n",
      "AY326063.1\n",
      "KC977206.1\n",
      "KC977218.1\n",
      "KC977222.1\n",
      "KC977217.1\n",
      "KC977220.1\n",
      "KC977225.1\n",
      "KC977204.1\n",
      "AB685766.1\n",
      "KC977224.1\n",
      "KF049927.1\n",
      "M57527.1\n",
      "D12694.1\n",
      "KU840522.1\n",
      "AB761267.1\n",
      "DQ055835.1\n",
      "AY843601.1\n",
      "AY325988.1\n",
      "DQ158438.1\n",
      "U52726.1\n",
      "EU938400.1\n",
      "EU880331.1\n",
      "AY928619.1\n",
      "EU880335.1\n",
      "EU880339.1\n",
      "HQ697272.1\n",
      "EU880336.1\n",
      "KF471517.1\n",
      "EF373884.1\n",
      "EF373885.1\n",
      "EF373883.1\n",
      "KP211422.1\n",
      "EF373899.1\n",
      "AP003321.1\n",
      "FJ610338.1\n",
      "FJ610339.1\n",
      "KX512321.1\n",
      "EF373904.1\n",
      "KM886936.1\n",
      "AY235570.1\n",
      "GU261698.1\n",
      "GU261674.1\n",
      "AP003317.1\n",
      "GU261680.1\n",
      "GU261678.1\n",
      "GU261693.1\n",
      "AB086102.1\n",
      "GU261683.1\n",
      "KT626848.1\n",
      "KP211419.1\n",
      "GU261707.1\n",
      "GU261694.1\n",
      "AP003318.1\n",
      "KJ858774.1\n",
      "KJ858773.1\n",
      "AY585337.1\n",
      "KJ858770.1\n",
      "KJ858771.1\n",
      "KJ858772.1\n",
      "KJ858776.1\n",
      "KJ858778.1\n",
      "M10217.1\n",
      "Y10943.1\n",
      "M27605.1\n",
      "AY581639.1\n",
      "AY581648.1\n",
      "AY581644.1\n",
      "AY581640.1\n",
      "AY581638.1\n",
      "JQ626644.1\n",
      "JQ626643.1\n",
      "EU115993.1\n",
      "JX893172.1\n",
      "AY971143.1\n",
      "JX893174.1\n",
      "JX893175.1\n",
      "JX893178.1\n",
      "JX893176.1\n",
      "JX893177.1\n",
      "AY322321.1\n",
      "FJ595208.1\n",
      "AY347451.1\n",
      "AF161036.1\n",
      "AJ440767.1\n",
      "KP109553.1\n",
      "KX269198.1\n",
      "AJ222711.1\n",
      "AY333688.1\n",
      "KF645375.1\n",
      "AY347456.1\n",
      "AY043038.1\n",
      "EU116959.1\n",
      "X95493.1\n",
      "AY347452.1\n",
      "AB023395.1\n",
      "AF218718.1\n",
      "AY333663.1\n",
      "AB023396.1\n",
      "AY222458.1\n",
      "KF664850.1\n",
      "AY333653.1\n",
      "KP109559.1\n",
      "KF645417.1\n",
      "AY333665.1\n",
      "AY147254.1\n",
      "KF645409.1\n",
      "AY147256.1\n",
      "U04702.1\n",
      "DQ092285.1\n",
      "KF645408.1\n",
      "AJ222710.1\n",
      "AY333669.1\n",
      "AY880481.1\n",
      "AY347457.1\n",
      "AY333687.1\n",
      "X86235.1\n",
      "AY347458.1\n",
      "DQ221219.1\n",
      "FJ595204.1\n",
      "KF645371.1\n",
      "AY333655.1\n",
      "AB023397.1\n",
      "AY333683.1\n",
      "X95494.1\n",
      "U04704.1\n",
      "AY880461.1\n",
      "KP109558.1\n",
      "AY043041.1\n",
      "DQ092298.1\n",
      "KF645367.1\n",
      "DQ221215.1\n",
      "KF645365.1\n",
      "AY347455.1\n",
      "AY333684.1\n",
      "AY347454.1\n",
      "AY043034.1\n",
      "AJ440762.1\n",
      "FJ602097.1\n",
      "DQ092286.1\n",
      "AY333664.1\n",
      "AY043032.1\n",
      "KP109557.1\n",
      "KF645373.1\n",
      "KF645370.1\n",
      "AY333666.1\n",
      "AB159478.1\n",
      "KP109555.1\n",
      "DQ221220.1\n",
      "DQ221216.1\n",
      "AY347450.1\n",
      "AF124103.1\n",
      "AJ309142.1\n",
      "AY779191.1\n",
      "KP109552.1\n",
      "KF645366.1\n",
      "DQ221225.1\n",
      "AY333686.1\n",
      "KF645364.1\n",
      "DQ221223.1\n",
      "EU116957.1\n",
      "KP109556.1\n",
      "AY347453.1\n",
      "EU116960.1\n",
      "M13046.1\n",
      "AB023394.1\n",
      "KP109554.1\n",
      "AY222459.1\n",
      "AY347459.1\n",
      "KT074476.1\n",
      "AF224726.1\n",
      "DQ885561.1\n",
      "JN695757.1\n",
      "EF362674.1\n",
      "KF484729.1\n",
      "AJ849444.2\n",
      "KF471521.1\n",
      "EF432760.1\n",
      "U81335.1\n",
      "EF362642.1\n",
      "KF471523.1\n",
      "EF362717.1\n",
      "HM637771.1\n",
      "EU851896.1\n",
      "GU477775.1\n",
      "KF471516.1\n",
      "EF362643.1\n",
      "EF362639.1\n",
      "KF471518.1\n",
      "KP234022.1\n",
      "KF471524.1\n",
      "KF471520.1\n",
      "KP171705.1\n",
      "EF362708.1\n"
     ]
    }
   ],
   "source": [
    "from Bio import AlignIO\n",
    "from Bio.Alphabet import generic_dna\n",
    "\n",
    "input_file = AlignIO.read(open(\"rrnS@amphib_align_allseq@gappyout_trimmed_aln.fasta\"), \"fasta\")#, alphabet=generic_dna)\n",
    "\n",
    "to_keep = []\n",
    "\n",
    "for r in input_file:\n",
    "    record_id = \"_\".join(r.id.split(\"_\")[:-1])\n",
    "    print record_id\n",
    "    to_keep.append(record_id)\n"
   ]
  },
  {
   "cell_type": "markdown",
   "metadata": {},
   "source": [
    "We must create an empty list in which the record IDs in pj.records that match the record IDs from the trimmed alignment can be stored and then written out in a reduced genbank file."
   ]
  },
  {
   "cell_type": "code",
   "execution_count": 16,
   "metadata": {
    "collapsed": false
   },
   "outputs": [
    {
     "name": "stdout",
     "output_type": "stream",
     "text": [
      "AY585337.1\n",
      "AY322321.1\n",
      "EU115993.1\n",
      "FJ595208.1\n",
      "U52726.1\n",
      "AY347451.1\n",
      "JX893174.1\n",
      "AF161036.1\n",
      "AY581644.1\n",
      "JX893176.1\n",
      "AJ440767.1\n",
      "KP109553.1\n",
      "JX893175.1\n",
      "KX269198.1\n",
      "KC977215.1\n",
      "AJ222711.1\n",
      "AY333688.1\n",
      "AB761267.1\n",
      "AY581648.1\n",
      "KF645375.1\n",
      "JX893178.1\n",
      "AY347456.1\n",
      "AY043038.1\n",
      "KC977204.1\n",
      "HQ697272.1\n",
      "EU116959.1\n",
      "X95493.1\n",
      "AY347452.1\n",
      "M10217.1\n",
      "AB023395.1\n",
      "AF218718.1\n",
      "KC977206.1\n",
      "AY333663.1\n",
      "EU880335.1\n",
      "DQ055835.1\n",
      "AB023396.1\n",
      "AY222458.1\n",
      "KF664850.1\n",
      "AY333653.1\n",
      "KP109559.1\n",
      "JN627424.1\n",
      "KF645417.1\n",
      "M27605.1\n",
      "AY333665.1\n",
      "AY147254.1\n",
      "KF645409.1\n",
      "JX893172.1\n",
      "AY147256.1\n",
      "U04702.1\n",
      "DQ092285.1\n",
      "KJ858774.1\n",
      "KF645408.1\n",
      "AY325988.1\n",
      "KC977218.1\n",
      "AJ222710.1\n",
      "AY333669.1\n",
      "KJ858776.1\n",
      "AY880481.1\n",
      "D12694.1\n",
      "AY347457.1\n",
      "KC977217.1\n",
      "AY333687.1\n",
      "X86235.1\n",
      "M57527.1\n",
      "AY347458.1\n",
      "DQ221219.1\n",
      "FJ595204.1\n",
      "KF645371.1\n",
      "AY333655.1\n",
      "AB023397.1\n",
      "AY333683.1\n",
      "X95494.1\n",
      "U04704.1\n",
      "JN627421.1\n",
      "KJ858770.1\n",
      "JQ626644.1\n",
      "AY880461.1\n",
      "Y10943.1\n",
      "EU880339.1\n",
      "KP109558.1\n",
      "KJ858773.1\n",
      "AY043041.1\n",
      "JN627426.1\n",
      "KJ858772.1\n",
      "DQ092298.1\n",
      "KC977225.1\n",
      "KC977222.1\n",
      "AY326063.1\n",
      "KF645367.1\n",
      "AY581639.1\n",
      "KJ858778.1\n",
      "DQ221215.1\n",
      "EU880331.1\n",
      "KF645365.1\n",
      "AY347455.1\n",
      "JX893177.1\n",
      "AY333684.1\n",
      "AY347454.1\n",
      "AY043034.1\n",
      "AJ440762.1\n",
      "FJ602097.1\n",
      "DQ092286.1\n",
      "AY333664.1\n",
      "DQ158438.1\n",
      "AY043032.1\n",
      "KP109557.1\n",
      "KF645373.1\n",
      "KF645370.1\n",
      "AY333666.1\n",
      "AB159478.1\n",
      "KP109555.1\n",
      "JN627422.1\n",
      "AY928619.1\n",
      "DQ221220.1\n",
      "KJ858771.1\n",
      "DQ221216.1\n",
      "KC977226.1\n",
      "AY347450.1\n",
      "AF124103.1\n",
      "AJ309142.1\n",
      "KU840522.1\n",
      "AY779191.1\n",
      "KC977224.1\n",
      "KP109552.1\n",
      "JQ626643.1\n",
      "KF645366.1\n",
      "AY971143.1\n",
      "AY581640.1\n",
      "DQ221225.1\n",
      "AY333686.1\n",
      "KF645364.1\n",
      "AY581638.1\n",
      "DQ221223.1\n",
      "EU116957.1\n",
      "AY843601.1\n",
      "KP109556.1\n",
      "AY347453.1\n",
      "EU116960.1\n",
      "KF049927.1\n",
      "M13046.1\n",
      "AB023394.1\n",
      "KP109554.1\n",
      "AY222459.1\n",
      "EU938400.1\n",
      "AY347459.1\n",
      "KT074476.1\n",
      "AB685766.1\n",
      "KC977220.1\n",
      "EU880336.1\n",
      "AF224726.1\n",
      "JN627425.1\n",
      "AP003317.1\n",
      "EF373884.1\n",
      "EF373899.1\n",
      "DQ885561.1\n",
      "JN695757.1\n",
      "EF362674.1\n",
      "GU261680.1\n",
      "KF484729.1\n",
      "FJ610338.1\n",
      "GU261678.1\n",
      "AJ849444.2\n",
      "GU261693.1\n",
      "KF471521.1\n",
      "EF432760.1\n",
      "U81335.1\n",
      "EF362642.1\n",
      "EF373885.1\n",
      "KF471523.1\n",
      "GU261698.1\n",
      "KM886936.1\n",
      "AB188189.1\n",
      "EF122793.1\n",
      "EF362717.1\n",
      "HM637771.1\n",
      "AY235570.1\n",
      "EU851896.1\n",
      "GU261694.1\n",
      "GU477775.1\n",
      "KF471516.1\n",
      "KF471517.1\n",
      "EF362643.1\n",
      "EF373883.1\n",
      "EF362639.1\n",
      "AB086102.1\n",
      "JN860636.1\n",
      "GU261683.1\n",
      "KF471518.1\n",
      "KP234022.1\n",
      "KF471524.1\n",
      "KT626848.1\n",
      "KP211419.1\n",
      "KX512321.1\n",
      "KF471520.1\n",
      "KP171705.1\n",
      "AP003321.1\n",
      "KP211422.1\n",
      "EF362708.1\n",
      "EF373904.1\n",
      "FJ610339.1\n",
      "AP003318.1\n",
      "GU261707.1\n",
      "GU261674.1\n"
     ]
    }
   ],
   "source": [
    "out_gb = []\n",
    "\n",
    "for r in pj.records:\n",
    "    if r.id in to_keep:\n",
    "        out_gb.append(r)\n",
    "\n",
    "for r in out_gb:\n",
    "    print r.id\n",
    "    \n",
    "out = open(\"12S_preSATIVA_amphib.gb\", \"w\")\n",
    "SeqIO.write(out_gb, out, \"genbank\")\n",
    "out.close()"
   ]
  },
  {
   "cell_type": "markdown",
   "metadata": {},
   "source": [
    "How to run SATIVA is described in a different notebook. It may be a good strategy to set this going now in a separate notebook. Then contnue onwards in this notebook.\n",
    "\n",
    "**==============================================================================================================**\n",
    "\n",
    "Infer Maximum Likelihood tree based on the clipped alignment. We are going to use RAxML.\n",
    "\n",
    "Configure RAxML."
   ]
  },
  {
   "cell_type": "code",
   "execution_count": 17,
   "metadata": {
    "collapsed": false
   },
   "outputs": [
    {
     "name": "stdout",
     "output_type": "stream",
     "text": [
      "raxmlHPC-PTHREADS-SSE3 -f a -m GTRGAMMA -n 403741477481564.12_rrnS@amphib_align_allseq@gappyout0 -p 655 -s 403741477481564.12_rrnS@amphib_align_allseq@gappyout.fasta -T 5 -x 260 -N 100\n"
     ]
    }
   ],
   "source": [
    "raxml = RaxmlConf(pj, method_name='raxml-muscleDefault-trimmed',\n",
    "                  program_name='raxmlHPC-PTHREADS-SSE3',\n",
    "                  keepfiles=True,\n",
    "                  cmd='raxmlHPC-PTHREADS-SSE3',\n",
    "                  preset='fa',\n",
    "                  alns=['rrnS@amphib_align_allseq@gappyout'],\n",
    "                  model='GAMMA',\n",
    "                  threads=5,\n",
    "                  cline_args={'-#': 100})"
   ]
  },
  {
   "cell_type": "code",
   "execution_count": 18,
   "metadata": {
    "collapsed": true
   },
   "outputs": [],
   "source": [
    "pj.tree([raxml])"
   ]
  },
  {
   "cell_type": "code",
   "execution_count": 19,
   "metadata": {
    "collapsed": false
   },
   "outputs": [
    {
     "name": "stdout",
     "output_type": "stream",
     "text": [
      "RaxmlConf named raxml-muscleDefault-trimmed with ID 403741477481564.12\n",
      "Alignments: rrnS@amphib_align_allseq@gappyout \n",
      "Created on: Wed Oct 26 11:32:44 2016\n",
      "Commands:\n",
      "rrnS@amphib_align_allseq@gappyout:\n",
      "raxmlHPC-PTHREADS-SSE3 -f a -m GTRGAMMA -n 403741477481564.12_rrnS@amphib_align_allseq@gappyout0 -p 655 -s 403741477481564.12_rrnS@amphib_align_allseq@gappyout.fasta -T 5 -x 260 -N 100\n",
      "\n",
      "Environment:\n",
      "Platform: Linux-4.4.0-38-generic-x86_64-with-Ubuntu-14.04-trusty\n",
      " Processor: x86_64\n",
      " Python build: defaultMar 22 2014 22:59:56\n",
      " Python compiler: GCC 4.8.2\n",
      " Python implementation: CPython\n",
      " Python version: 2.7.6\n",
      " ete2 version: 2.2.1072\n",
      " biopython version: 1.68\n",
      " dendropy version: 3.12.2\n",
      " cloud version: 2.8.5\n",
      " reprophylo version 1.3\n",
      " User: biopc4\n",
      " Program and version: raxmlHPC-PTHREADS-SSE3RAxML version 8.0.12\n",
      " Program reference: A. Stamatakis: RAxML Version 8: A tool for Phylogenetic Analysis and Post-Analysis of Large Phylogenies. In Bioinformatics\n",
      " 2014.\n",
      "execution time:\n",
      "2243.74979591\n",
      "\n",
      "==============================\n",
      "Core Methods section sentence:\n",
      "==============================\n",
      "Phylogenetic trees were reconstructed from the dataset(s) rrnS@amphib_align_allseq@gappyout using the program raxmlHPC-PTHREADS-SSE3RAxML version 8.0.12 [1].\n",
      "\n",
      "Reference:\n",
      "A. Stamatakis: RAxML Version 8: A tool for Phylogenetic Analysis and Post-Analysis of Large Phylogenies. In Bioinformatics, 2014.\n",
      "\n"
     ]
    }
   ],
   "source": [
    "print pj.used_methods['raxml-muscleDefault-trimmed']"
   ]
  },
  {
   "cell_type": "code",
   "execution_count": 20,
   "metadata": {
    "collapsed": false
   },
   "outputs": [
    {
     "data": {
      "text/plain": [
       "['rrnS@muscleDefault@gappyout@raxml-muscleDefault-trimmed',\n",
       " 'rrnS@amphib_align_allseq@gappyout@raxml-muscleDefault-trimmed']"
      ]
     },
     "execution_count": 20,
     "metadata": {},
     "output_type": "execute_result"
    }
   ],
   "source": [
    "pj.trees.keys()"
   ]
  },
  {
   "cell_type": "markdown",
   "metadata": {},
   "source": [
    "Pickle the project."
   ]
  },
  {
   "cell_type": "code",
   "execution_count": 21,
   "metadata": {
    "collapsed": false
   },
   "outputs": [
    {
     "data": {
      "text/plain": [
       "'amphib_nr.pkl'"
      ]
     },
     "execution_count": 21,
     "metadata": {},
     "output_type": "execute_result"
    }
   ],
   "source": [
    "pickle_pj(pj, 'amphib_nr.pkl')"
   ]
  },
  {
   "cell_type": "markdown",
   "metadata": {},
   "source": [
    "# Visualise tree"
   ]
  },
  {
   "cell_type": "markdown",
   "metadata": {},
   "source": [
    "Now let's visualize the tree. \n",
    "\n",
    "Prepare tree annotation:\n",
    "\n",
    "  - define outgroups\n",
    "  - specify support coloration"
   ]
  },
  {
   "cell_type": "code",
   "execution_count": 22,
   "metadata": {
    "collapsed": false
   },
   "outputs": [],
   "source": [
    "pj.add_qualifier_from_source('organism')"
   ]
  },
  {
   "cell_type": "code",
   "execution_count": 23,
   "metadata": {
    "collapsed": true
   },
   "outputs": [],
   "source": [
    "for species in ['Chelydra','Cottus','Gallus']:\n",
    "    pj.if_this_then_that(species, 'organism', 'outgroup', 'outgroup',\n",
    "                         mode='part')"
   ]
  },
  {
   "cell_type": "code",
   "execution_count": 24,
   "metadata": {
    "collapsed": true
   },
   "outputs": [],
   "source": [
    "supports = {'black': [100,95],\n",
    "            'dimgray': [95,75],\n",
    "            'silver': [75,50]}"
   ]
  },
  {
   "cell_type": "code",
   "execution_count": 25,
   "metadata": {
    "collapsed": true
   },
   "outputs": [],
   "source": [
    "pj.clear_tree_annotations()\n",
    "pj.annotate('.', 'outgroup', 'outgroup', \n",
    "            ['source_organism', 'record_id'], \n",
    "            node_support_dict=supports, multifurc=10,\n",
    "            html='muscleDefault-trimmed-amphib-all-raxml.html')"
   ]
  },
  {
   "cell_type": "markdown",
   "metadata": {},
   "source": [
    "Check tree out. Have a think which sequences you would consider mislabelled and should better be removed from the reference database.\n",
    "\n",
    "Create a static copy of the tree (the last *.png with the expected alignment id) for later."
   ]
  },
  {
   "cell_type": "code",
   "execution_count": 26,
   "metadata": {
    "collapsed": false
   },
   "outputs": [],
   "source": [
    "%%bash\n",
    "\n",
    "last_png=$(ls -hlrt *rrnS@amphib_align_allseq@gappyout.png | tail -n 1 | perl -ne 'chomp; @a=split(\" \"); print \"$a[-1]\"')\n",
    "cp $last_png rrnS_muscleDefault-trimmed-amphib-all-raxml.png"
   ]
  },
  {
   "cell_type": "markdown",
   "metadata": {},
   "source": [
    "**===========================================================================================**"
   ]
  },
  {
   "cell_type": "markdown",
   "metadata": {},
   "source": [
    "In the meantime we have run SATIVA on the alignment that was the basis of the above tree.\n",
    "\n",
    "Now we are going to highlight the records that SATIVA considers mislabelled in the tree. We are also going to add a heatmap to the tree illustrating the confidence that SATIVA has in a given call.\n",
    "\n",
    "Parse SATIVA output and record putatively mislabelled sequence records and the confidence of the call."
   ]
  },
  {
   "cell_type": "code",
   "execution_count": 27,
   "metadata": {
    "collapsed": true
   },
   "outputs": [],
   "source": [
    "rec_mislabelled = {}\n",
    "sativa=open('../SATIVA/12S.mis', 'r')\n",
    "\n",
    "for line in sativa:\n",
    "    if not line.startswith(\";\"):\n",
    "        rec_mislabelled[line.split(\"\\t\")[0]] = line.split(\"\\t\")[4]"
   ]
  },
  {
   "cell_type": "markdown",
   "metadata": {},
   "source": [
    "Add two new qualifiers containing info about he SATIVA results to the sequence features."
   ]
  },
  {
   "cell_type": "code",
   "execution_count": 28,
   "metadata": {
    "collapsed": true
   },
   "outputs": [],
   "source": [
    "for r in pj.records:\n",
    "    if r.id in rec_mislabelled:\n",
    "        for f in r.features:\n",
    "            f.qualifiers['mislabeled'] = ['yes']\n",
    "            f.qualifiers['mislabeled_conf'] = [rec_mislabelled[r.id]]\n",
    "    else:\n",
    "        for f in r.features:\n",
    "            f.qualifiers['mislabeled'] = ['no']\n",
    "            f.qualifiers['mislabeled_conf'] = [0.0001]"
   ]
  },
  {
   "cell_type": "code",
   "execution_count": 29,
   "metadata": {
    "collapsed": true
   },
   "outputs": [],
   "source": [
    "pj.propagate_metadata()"
   ]
  },
  {
   "cell_type": "markdown",
   "metadata": {},
   "source": [
    "Prepare tree annotation:\n",
    "\n",
    "- color records that were identified by SATIVA as being mislabelled.\n",
    "- add heatmap with mislabel confidence"
   ]
  },
  {
   "cell_type": "code",
   "execution_count": 30,
   "metadata": {
    "collapsed": true
   },
   "outputs": [],
   "source": [
    "leaf_colors = {'yes':'red', 'no': 'black'}\n",
    "bg_colors = {'yes':'red', 'no': 'white'}"
   ]
  },
  {
   "cell_type": "code",
   "execution_count": 31,
   "metadata": {
    "collapsed": true
   },
   "outputs": [],
   "source": [
    "pj.clear_tree_annotations()\n",
    "pj.annotate('.', 'outgroup', 'outgroup', \n",
    "            ['source_organism', 'record_id'], \n",
    "            node_support_dict=supports, multifurc=10,\n",
    "            html='rrnS_muscleDefault-trimmed-amphib-all-raxml-SATIVA.html',\n",
    "            fsize=13,\n",
    "            heat_map_meta = ['mislabeled_conf'], heat_map_colour_scheme = 1,\n",
    "            leaf_node_color_meta = 'mislabeled', leaf_label_colors = leaf_colors)"
   ]
  },
  {
   "cell_type": "code",
   "execution_count": 32,
   "metadata": {
    "collapsed": true
   },
   "outputs": [],
   "source": [
    "%%bash\n",
    "\n",
    "last_png=$(ls -hlrt *rrnS@amphib_align_allseq@gappyout.png | tail -n 1 | perl -ne 'chomp; @a=split(\" \"); print \"$a[-1]\"')\n",
    "cp $last_png 12S_muscleDefault_trimmed_amphib_all_raxml_SATIVA_leaf_colored.png"
   ]
  },
  {
   "cell_type": "code",
   "execution_count": 33,
   "metadata": {
    "collapsed": true
   },
   "outputs": [],
   "source": [
    "pj.clear_tree_annotations()\n",
    "pj.annotate('.', 'outgroup', 'outgroup', \n",
    "            ['source_organism', 'record_id'], \n",
    "            node_support_dict=supports, multifurc=10,\n",
    "            html='rrnS_muscleDefault-trimmed-amphib-all-raxml-SATIVA.html',\n",
    "            fsize=13,\n",
    "            heat_map_meta = ['mislabeled_conf'], heat_map_colour_scheme = 1,\n",
    "            node_bg_meta = 'mislabeled', node_bg_color = bg_colors)"
   ]
  },
  {
   "cell_type": "code",
   "execution_count": 34,
   "metadata": {
    "collapsed": true
   },
   "outputs": [],
   "source": [
    "%%bash\n",
    "\n",
    "target=12S_muscleDefault_trimmed_amphib_all_SATIVA_bg_colored.png\n",
    "\n",
    "last_png=$(ls -hlrt *rrnS@amphib_align_allseq@gappyout.png | tail -n 1 | perl -ne 'chomp; @a=split(\" \"); print \"$a[-1]\"')\n",
    "cp $last_png $target"
   ]
  },
  {
   "cell_type": "code",
   "execution_count": 35,
   "metadata": {
    "collapsed": false
   },
   "outputs": [
    {
     "data": {
      "text/plain": [
       "'amphib_nr.pkl'"
      ]
     },
     "execution_count": 35,
     "metadata": {},
     "output_type": "execute_result"
    }
   ],
   "source": [
    "pickle_pj(pj, 'amphib_nr.pkl')"
   ]
  }
 ],
 "metadata": {
  "kernelspec": {
   "display_name": "Python 2",
   "language": "python",
   "name": "python2"
  },
  "language_info": {
   "codemirror_mode": {
    "name": "ipython",
    "version": 2
   },
   "file_extension": ".py",
   "mimetype": "text/x-python",
   "name": "python",
   "nbconvert_exporter": "python",
   "pygments_lexer": "ipython2",
   "version": "2.7.6"
  }
 },
 "nbformat": 4,
 "nbformat_minor": 0
}
