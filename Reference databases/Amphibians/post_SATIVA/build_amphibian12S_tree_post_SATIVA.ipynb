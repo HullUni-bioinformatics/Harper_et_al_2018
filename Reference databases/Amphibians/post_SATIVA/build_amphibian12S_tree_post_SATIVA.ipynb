{
 "cells": [
  {
   "cell_type": "markdown",
   "metadata": {},
   "source": [
    "Exclude the records that SATIVA has highligted, redo the alignment and rebuild the tree."
   ]
  },
  {
   "cell_type": "code",
   "execution_count": 1,
   "metadata": {
    "collapsed": true
   },
   "outputs": [],
   "source": [
    "from reprophylo import *"
   ]
  },
  {
   "cell_type": "code",
   "execution_count": 2,
   "metadata": {
    "collapsed": false
   },
   "outputs": [
    {
     "name": "stderr",
     "output_type": "stream",
     "text": [
      "DEBUG:Cloud:Log file (/root/.picloud/cloud.log) opened\n"
     ]
    }
   ],
   "source": [
    "pj=Project('../fetch_clean_align_tree/target_locus.csv', pickle='amphib_post_SATIVA.pkl', git=False)"
   ]
  },
  {
   "cell_type": "code",
   "execution_count": 3,
   "metadata": {
    "collapsed": false
   },
   "outputs": [
    {
     "name": "stderr",
     "output_type": "stream",
     "text": [
      "/home/reprophylo/reprophylo.py:1015: UserWarning: Version control off\n",
      "  warnings.warn('Version control off')\n"
     ]
    }
   ],
   "source": [
    "pj.read_embl_genbank(['../fetch_clean_align_tree/12S_preSATIVA_amphib.gb'])"
   ]
  },
  {
   "cell_type": "code",
   "execution_count": 4,
   "metadata": {
    "collapsed": true
   },
   "outputs": [],
   "source": [
    "pj.extract_by_locus()"
   ]
  },
  {
   "cell_type": "markdown",
   "metadata": {},
   "source": [
    "Set the stage:"
   ]
  },
  {
   "cell_type": "code",
   "execution_count": 5,
   "metadata": {
    "collapsed": false
   },
   "outputs": [
    {
     "name": "stdout",
     "output_type": "stream",
     "text": [
      "to drop: 0\n",
      "to keep: 0\n",
      "TOTAL: 0\n"
     ]
    }
   ],
   "source": [
    "recs_to_keep = {'rrnS': []}\n",
    "recs_to_drop = {'rrnS': []}\n",
    "\n",
    "print \"to drop: %s\" %len(recs_to_drop['rrnS'])\n",
    "print \"to keep: %s\" %len(recs_to_keep['rrnS'])\n",
    "\n",
    "print \"TOTAL: %s\" %(len(recs_to_drop['rrnS']) + len(recs_to_keep['rrnS']))"
   ]
  },
  {
   "cell_type": "markdown",
   "metadata": {},
   "source": [
    "Record all record ids and assign them the status keep."
   ]
  },
  {
   "cell_type": "code",
   "execution_count": 6,
   "metadata": {
    "collapsed": true
   },
   "outputs": [],
   "source": [
    "for r in pj.records_by_locus['rrnS']:\n",
    "    recs_to_keep['rrnS'].append(\"_\".join(r.id.split(\"_\")[:-1]))"
   ]
  },
  {
   "cell_type": "code",
   "execution_count": 7,
   "metadata": {
    "collapsed": false
   },
   "outputs": [
    {
     "name": "stdout",
     "output_type": "stream",
     "text": [
      "to drop: 0\n",
      "to keep: 203\n",
      "TOTAL: 203\n"
     ]
    }
   ],
   "source": [
    "print \"to drop: %s\" %len(recs_to_drop['rrnS'])\n",
    "print \"to keep: %s\" %len(recs_to_keep['rrnS'])\n",
    "\n",
    "print \"TOTAL: %s\" %(len(recs_to_drop['rrnS']) + len(recs_to_keep['rrnS']))"
   ]
  },
  {
   "cell_type": "markdown",
   "metadata": {},
   "source": [
    "How many do we want to drop? Parse SATIVA output and extract records ids putatively mislabeled."
   ]
  },
  {
   "cell_type": "code",
   "execution_count": 8,
   "metadata": {
    "collapsed": true
   },
   "outputs": [],
   "source": [
    "rec_mislabelled = {}\n",
    "sativa=open('../SATIVA/12S.mis', 'r')\n",
    "\n",
    "for line in sativa:\n",
    "    if not line.startswith(\";\"):\n",
    "        rec_mislabelled[line.split(\"\\t\")[0]] = line.split(\"\\t\")[4]\n"
   ]
  },
  {
   "cell_type": "code",
   "execution_count": 9,
   "metadata": {
    "collapsed": false
   },
   "outputs": [
    {
     "name": "stdout",
     "output_type": "stream",
     "text": [
      "5\n"
     ]
    }
   ],
   "source": [
    "print len(rec_mislabelled)"
   ]
  },
  {
   "cell_type": "markdown",
   "metadata": {},
   "source": [
    "Adjust lists accordingly."
   ]
  },
  {
   "cell_type": "code",
   "execution_count": 10,
   "metadata": {
    "collapsed": false
   },
   "outputs": [
    {
     "name": "stdout",
     "output_type": "stream",
     "text": [
      "X95494.1\n",
      "\tadd to droplist\n",
      "\tremove from keeplist\n",
      "JN627424.1\n",
      "\tadd to droplist\n",
      "\tremove from keeplist\n",
      "HQ697272.1\n",
      "\tadd to droplist\n",
      "\tremove from keeplist\n",
      "AB023396.1\n",
      "\tadd to droplist\n",
      "\tremove from keeplist\n",
      "JN627425.1\n",
      "\tadd to droplist\n",
      "\tremove from keeplist\n"
     ]
    }
   ],
   "source": [
    "for r in rec_mislabelled:\n",
    "    print r\n",
    "    if not r in recs_to_drop['rrnS']:\n",
    "        print \"\\tadd to droplist\"\n",
    "        recs_to_drop['rrnS'].append(r)\n",
    "    for i in reversed(range(len(recs_to_keep['rrnS']))):\n",
    "#        print i\n",
    "        if r in recs_to_keep['rrnS'][i]:\n",
    "            print \"\\tremove from keeplist\"\n",
    "            del(recs_to_keep['rrnS'][i])"
   ]
  },
  {
   "cell_type": "code",
   "execution_count": 11,
   "metadata": {
    "collapsed": false
   },
   "outputs": [
    {
     "name": "stdout",
     "output_type": "stream",
     "text": [
      "to drop: 5\n",
      "to keep: 198\n",
      "TOTAL: 203\n"
     ]
    }
   ],
   "source": [
    "print \"to drop: %s\" %len(recs_to_drop['rrnS'])\n",
    "print \"to keep: %s\" %len(recs_to_keep['rrnS'])\n",
    "\n",
    "print \"TOTAL: %s\" %(len(recs_to_drop['rrnS']) + len(recs_to_keep['rrnS']))"
   ]
  },
  {
   "cell_type": "markdown",
   "metadata": {},
   "source": [
    "Write out good records in full Genbank format including all metadata. Adjust to valid species and taxids before doing it.\n",
    "\n",
    "Identify records with Subspecies."
   ]
  },
  {
   "cell_type": "code",
   "execution_count": 12,
   "metadata": {
    "collapsed": false
   },
   "outputs": [
    {
     "name": "stdout",
     "output_type": "stream",
     "text": [
      "subspecies: Alytes obstetricans pertinax\n",
      "Pelophylax lessonae  .. add to records\n",
      "Bombina bombina  .. add to records\n",
      "Pelophylax ridibundus  .. add to records\n",
      "Epidalea calamita  .. add to records\n",
      "subspecies: Discoglossus pictus pictus\n",
      "subspecies: Bombina variegata variegata\n",
      "Rana temporaria  .. add to records\n",
      "Xenopus laevis  .. add to records\n",
      "subspecies: Bombina variegata scabra\n",
      "Discoglossus pictus  .. add to records\n",
      "Hyla arborea  .. add to records\n",
      "subspecies: Bombina variegata variegata\n",
      "Rana dalmatina  .. add to records\n",
      "Rana temporaria  .. already covered\n",
      "Pelophylax ridibundus  .. already covered\n",
      "Bombina variegata  .. add to records\n",
      "Rana catesbeiana  .. add to records\n",
      "Xenopus laevis  .. already covered\n",
      "subspecies: Salamandra salamandra alfredschmidti\n",
      "subspecies: Bombina variegata scabra\n",
      "subspecies: Discoglossus pictus auritus\n",
      "Rana dalmatina  .. already covered\n",
      "Rana temporaria  .. already covered\n",
      "Hydromantes genei  .. add to records\n",
      "Pelophylax lessonae  .. already covered\n",
      "subspecies: Discoglossus pictus auritus\n",
      "Xenopus laevis  .. already covered\n",
      "Pelophylax lessonae  .. already covered\n",
      "Rana catesbeiana  .. already covered\n",
      "Rana temporaria  .. already covered\n",
      "Bombina bombina  .. already covered\n",
      "Ichthyosaura alpestris  .. add to records\n",
      "Hyla arborea  .. already covered\n",
      "subspecies: Salamandra salamandra morenica\n",
      "Epidalea calamita  .. already covered\n",
      "subspecies: Bombina variegata kolombatovici\n",
      "Hyla arborea  .. already covered\n",
      "Salamandra salamandra  .. add to records\n",
      "Xenopus laevis  .. already covered\n",
      "Bombina variegata  .. already covered\n",
      "subspecies: Lissotriton vulgaris meridionalis\n",
      "Salamandra salamandra  .. already covered\n",
      "Bombina bombina  .. already covered\n",
      "Ichthyosaura alpestris  .. already covered\n",
      "Triturus carnifex  .. add to records\n",
      "subspecies: Salamandra salamandra bernardezi\n",
      "subspecies: Alytes obstetricans boscai\n",
      "Salamandra salamandra  .. already covered\n",
      "Bufo bufo  .. add to records\n",
      "Rana temporaria  .. already covered\n",
      "Pelophylax ridibundus  .. already covered\n",
      "subspecies: Alytes obstetricans boscai\n",
      "subspecies: Alytes obstetricans almogavarii\n",
      "Rana temporaria  .. already covered\n",
      "Rana catesbeiana  .. already covered\n",
      "subspecies: Discoglossus pictus auritus\n",
      "Rana temporaria  .. already covered\n",
      "Bombina variegata  .. already covered\n",
      "Discoglossus pictus  .. already covered\n",
      "Rana catesbeiana  .. already covered\n",
      "subspecies: Discoglossus pictus auritus\n",
      "subspecies: Salamandra salamandra almanzoris\n",
      "Pelophylax ridibundus  .. already covered\n",
      "subspecies: Salamandra salamandra gigliolii\n",
      "Bombina variegata  .. already covered\n",
      "Pelophylax ridibundus  .. already covered\n",
      "Discoglossus pictus  .. already covered\n",
      "Lissotriton vulgaris  .. add to records\n",
      "Pelophylax ridibundus  .. already covered\n",
      "subspecies: Alytes obstetricans pertinax\n",
      "Discoglossus pictus  .. already covered\n",
      "Rana temporaria  .. already covered\n",
      "Xenopus laevis  .. already covered\n",
      "Lissotriton vulgaris  .. already covered\n",
      "Hyla arborea  .. already covered\n",
      "subspecies: Alytes obstetricans boscai\n",
      "Rana temporaria  .. already covered\n",
      "Pelophylax lessonae  .. already covered\n",
      "subspecies: Alytes obstetricans obstetricans\n",
      "subspecies: Ichthyosaura alpestris inexpectatus\n",
      "Rana temporaria  .. already covered\n",
      "Rana temporaria  .. already covered\n",
      "Rana temporaria  .. already covered\n",
      "subspecies: Salamandra salamandra longirostris\n",
      "Xenopus laevis  .. already covered\n",
      "subspecies: Alytes obstetricans almogavarii\n",
      "subspecies: Salamandra salamandra gallaica\n",
      "Salamandra salamandra  .. already covered\n",
      "subspecies: Salamandra salamandra salamandra\n",
      "subspecies: Discoglossus pictus auritus\n",
      "subspecies: Bombina variegata variegata\n",
      "Discoglossus pictus  .. already covered\n",
      "subspecies: Discoglossus pictus auritus\n",
      "Pelophylax lessonae  .. already covered\n",
      "Bombina bombina  .. already covered\n",
      "Hydromantes genei  .. already covered\n",
      "Lissotriton helveticus  .. add to records\n",
      "subspecies: Bombina variegata variegata\n",
      "Bufo bufo  .. already covered\n",
      "Pelophylax ridibundus  .. already covered\n",
      "Hyla arborea  .. already covered\n",
      "subspecies: Salamandra salamandra alfredschmidti\n",
      "subspecies: Salamandra salamandra morenica\n",
      "Alytes obstetricans  .. add to records\n",
      "Bufo bufo  .. already covered\n",
      "Hyla arborea  .. already covered\n",
      "Pelophylax lessonae  .. already covered\n",
      "Salamandra salamandra  .. already covered\n",
      "subspecies: Salamandra salamandra bernardezi\n",
      "subspecies: Alytes obstetricans obstetricans\n",
      "subspecies: Salamandra salamandra bejarae\n",
      "Rana temporaria  .. already covered\n",
      "subspecies: Discoglossus pictus pictus\n",
      "Rana temporaria  .. already covered\n",
      "Pelophylax ridibundus  .. already covered\n",
      "Rana catesbeiana  .. already covered\n",
      "Rana temporaria  .. already covered\n",
      "Rana temporaria  .. already covered\n",
      "Hyla arborea  .. already covered\n",
      "Discoglossus pictus  .. already covered\n",
      "subspecies: Salamandra salamandra gallaica\n",
      "Bombina variegata  .. already covered\n",
      "subspecies: Xenopus laevis sudanensis\n",
      "subspecies: Salamandra salamandra corsica\n",
      "Discoglossus pictus  .. already covered\n",
      "subspecies: Salamandra salamandra fastuosa\n",
      "Xenopus laevis  .. already covered\n",
      "subspecies: Salamandra salamandra longirostris\n",
      "Hydromantes genei  .. already covered\n",
      "Hyla arborea  .. already covered\n",
      "Hyla arborea  .. already covered\n",
      "subspecies: Discoglossus pictus auritus\n",
      "Hydromantes genei  .. already covered\n",
      "Rana catesbeiana  .. already covered\n",
      "Xenopus laevis  .. already covered\n",
      "Pelophylax lessonae  .. already covered\n",
      "Hyla arborea  .. already covered\n",
      "subspecies: Salamandra salamandra terrestris\n",
      "Epidalea calamita  .. already covered\n",
      "subspecies: Discoglossus pictus auritus\n",
      "Rana temporaria  .. already covered\n",
      "Rana temporaria  .. already covered\n",
      "Rana temporaria  .. already covered\n",
      "Triturus cristatus  .. add to records\n",
      "subspecies: Alytes obstetricans boscai\n",
      "Gallus gallus  .. add to records\n",
      "Gallus gallus  .. already covered\n",
      "Gallus gallus  .. already covered\n",
      "subspecies: Gallus gallus murghi\n",
      "Gallus gallus  .. already covered\n",
      "Gallus gallus  .. already covered\n",
      "Gallus gallus  .. already covered\n",
      "Gallus gallus  .. already covered\n",
      "Gallus gallus  .. already covered\n",
      "Gallus gallus  .. already covered\n",
      "Gallus gallus  .. already covered\n",
      "subspecies: Gallus gallus spadiceus\n",
      "Gallus gallus  .. already covered\n",
      "Gallus gallus  .. already covered\n",
      "Chelydra serpentina  .. add to records\n",
      "Gallus gallus  .. already covered\n",
      "Gallus gallus  .. already covered\n",
      "Gallus gallus  .. already covered\n",
      "Gallus gallus  .. already covered\n",
      "Gallus gallus  .. already covered\n",
      "Cottus gobio  .. add to records\n",
      "Chelydra serpentina  .. already covered\n",
      "Gallus gallus  .. already covered\n",
      "Gallus gallus  .. already covered\n",
      "Gallus gallus  .. already covered\n",
      "Gallus gallus  .. already covered\n",
      "Gallus gallus  .. already covered\n",
      "Chelydra serpentina  .. already covered\n",
      "Gallus gallus  .. already covered\n",
      "Gallus gallus  .. already covered\n",
      "Gallus gallus  .. already covered\n",
      "Gallus gallus  .. already covered\n",
      "Gallus gallus  .. already covered\n",
      "Gallus gallus  .. already covered\n",
      "Chelydra serpentina  .. already covered\n",
      "Gallus gallus  .. already covered\n",
      "Gallus gallus  .. already covered\n",
      "Gallus gallus  .. already covered\n",
      "Gallus gallus  .. already covered\n",
      "Gallus gallus  .. already covered\n",
      "Gallus gallus  .. already covered\n",
      "Gallus gallus  .. already covered\n",
      "Gallus gallus  .. already covered\n",
      "Gallus gallus  .. already covered\n",
      "subspecies: Gallus gallus spadiceus\n",
      "Gallus gallus  .. already covered\n",
      "Gallus gallus  .. already covered\n",
      "Gallus gallus  .. already covered\n",
      "Gallus gallus  .. already covered\n",
      "Gallus gallus  .. already covered\n",
      "subspecies: Gallus gallus murghi\n",
      "subspecies: Gallus gallus jabouillei\n"
     ]
    }
   ],
   "source": [
    "from collections import defaultdict\n",
    "\n",
    "Seqs = []\n",
    "taxon_to_taxid = {}\n",
    "recs_to_adjust = defaultdict(list)\n",
    "taxon_to_recs = defaultdict(list)\n",
    "\n",
    "for r in pj.records:\n",
    "    if r.id in recs_to_keep['rrnS']:\n",
    "        Seqs.append(r)\n",
    "        \n",
    "        source = [f for f in r.features if f.type == 'source'][0]\n",
    "\n",
    "        #screen for subspecies and record taxids of valid species\n",
    "        #if valid species record the taxid\n",
    "        if (len(source.qualifiers['organism'][0].split(\" \")) == 2):\n",
    "            print source.qualifiers['organism'][0],\n",
    "            if 'db_xref' in source.qualifiers:\n",
    "#                print source.qualifiers['db_xref']\n",
    "                for t in source.qualifiers['db_xref']:\n",
    "#                    print t\n",
    "                    if 'taxon' in t:\n",
    "                        if not source.qualifiers['organism'][0] in taxon_to_taxid:\n",
    "                            print \" .. add to records\"\n",
    "                            taxon_to_taxid[source.qualifiers['organism'][0]] = t.split(\":\")[1]\n",
    "                        else:\n",
    "                            print \" .. already covered\"\n",
    "                        taxon_to_recs[source.qualifiers['organism'][0]].append(r.id)\n",
    "        #if the species status is 'sp.' but has a valid taxid\n",
    "        elif (len(source.qualifiers['organism'][0].split(\" \")) > 2 and source.qualifiers['organism'][0].split(\" \")[1] == 'sp.'):\n",
    "            print source.qualifiers['organism'][0],\n",
    "            if 'db_xref' in source.qualifiers:\n",
    "                for t in source.qualifiers['db_xref']:\n",
    "                    if 'taxon' in t:\n",
    "                        if not source.qualifiers['organism'][0] in taxon_to_taxid:\n",
    "                            print \" .. add to records\"\n",
    "                            taxon_to_taxid[source.qualifiers['organism'][0]] = t.split(\":\")[1]\n",
    "                        else:\n",
    "                            print \" .. already covered\" \n",
    "                        taxon_to_recs[source.qualifiers['organism'][0]].append(r.id)\n",
    "        #all other cases we consider dubious, e.g. supspecies\n",
    "        else:\n",
    "            print \"subspecies: %s\" %source.qualifiers['organism'][0]\n",
    "            recs_to_adjust[r.id] = []"
   ]
  },
  {
   "cell_type": "markdown",
   "metadata": {},
   "source": [
    "Check if any of the taxa that were considered dubious are not already covered in the list after removing subspecies."
   ]
  },
  {
   "cell_type": "code",
   "execution_count": 13,
   "metadata": {
    "collapsed": false
   },
   "outputs": [
    {
     "name": "stdout",
     "output_type": "stream",
     "text": [
      "Alytes obstetricans pertinax -> Alytes obstetricans\n",
      "Discoglossus pictus pictus -> Discoglossus pictus\n",
      "Bombina variegata variegata -> Bombina variegata\n",
      "Bombina variegata scabra -> Bombina variegata\n",
      "Bombina variegata variegata -> Bombina variegata\n",
      "Salamandra salamandra alfredschmidti -> Salamandra salamandra\n",
      "Bombina variegata scabra -> Bombina variegata\n",
      "Discoglossus pictus auritus -> Discoglossus pictus\n",
      "Discoglossus pictus auritus -> Discoglossus pictus\n",
      "Salamandra salamandra morenica -> Salamandra salamandra\n",
      "Bombina variegata kolombatovici -> Bombina variegata\n",
      "Lissotriton vulgaris meridionalis -> Lissotriton vulgaris\n",
      "Salamandra salamandra bernardezi -> Salamandra salamandra\n",
      "Alytes obstetricans boscai -> Alytes obstetricans\n",
      "Alytes obstetricans boscai -> Alytes obstetricans\n",
      "Alytes obstetricans almogavarii -> Alytes obstetricans\n",
      "Discoglossus pictus auritus -> Discoglossus pictus\n",
      "Discoglossus pictus auritus -> Discoglossus pictus\n",
      "Salamandra salamandra almanzoris -> Salamandra salamandra\n",
      "Salamandra salamandra gigliolii -> Salamandra salamandra\n",
      "Alytes obstetricans pertinax -> Alytes obstetricans\n",
      "Alytes obstetricans boscai -> Alytes obstetricans\n",
      "Alytes obstetricans obstetricans -> Alytes obstetricans\n",
      "Ichthyosaura alpestris inexpectatus -> Ichthyosaura alpestris\n",
      "Salamandra salamandra longirostris -> Salamandra salamandra\n",
      "Alytes obstetricans almogavarii -> Alytes obstetricans\n",
      "Salamandra salamandra gallaica -> Salamandra salamandra\n",
      "Salamandra salamandra salamandra -> Salamandra salamandra\n",
      "Discoglossus pictus auritus -> Discoglossus pictus\n",
      "Bombina variegata variegata -> Bombina variegata\n",
      "Discoglossus pictus auritus -> Discoglossus pictus\n",
      "Bombina variegata variegata -> Bombina variegata\n",
      "Salamandra salamandra alfredschmidti -> Salamandra salamandra\n",
      "Salamandra salamandra morenica -> Salamandra salamandra\n",
      "Salamandra salamandra bernardezi -> Salamandra salamandra\n",
      "Alytes obstetricans obstetricans -> Alytes obstetricans\n",
      "Salamandra salamandra bejarae -> Salamandra salamandra\n",
      "Discoglossus pictus pictus -> Discoglossus pictus\n",
      "Salamandra salamandra gallaica -> Salamandra salamandra\n",
      "Xenopus laevis sudanensis -> Xenopus laevis\n",
      "Salamandra salamandra corsica -> Salamandra salamandra\n",
      "Salamandra salamandra fastuosa -> Salamandra salamandra\n",
      "Salamandra salamandra longirostris -> Salamandra salamandra\n",
      "Discoglossus pictus auritus -> Discoglossus pictus\n",
      "Salamandra salamandra terrestris -> Salamandra salamandra\n",
      "Discoglossus pictus auritus -> Discoglossus pictus\n",
      "Alytes obstetricans boscai -> Alytes obstetricans\n",
      "Gallus gallus murghi -> Gallus gallus\n",
      "Gallus gallus spadiceus -> Gallus gallus\n",
      "Gallus gallus spadiceus -> Gallus gallus\n",
      "Gallus gallus murghi -> Gallus gallus\n",
      "Gallus gallus jabouillei -> Gallus gallus\n"
     ]
    }
   ],
   "source": [
    "from collections import defaultdict\n",
    "\n",
    "to_fetch = defaultdict(list)\n",
    "\n",
    "for r in Seqs:\n",
    "    if r.id in recs_to_adjust:\n",
    "        source = [f for f in r.features if f.type == 'source'][0]\n",
    "        adjust_from = source.qualifiers['organism'][0]\n",
    "        adjust_to = \" \".join(adjust_from.split(\" \")[:2])\n",
    "        print \"%s -> %s\" %(adjust_from,adjust_to)\n",
    "        if adjust_to in taxon_to_taxid:\n",
    "            taxon_to_recs[adjust_to].append(r.id)\n",
    "            recs_to_adjust[r.id].append(adjust_to)\n",
    "            recs_to_adjust[r.id].append(taxon_to_taxid[adjust_to])\n",
    "        else:\n",
    "            to_fetch[adjust_to].append(r.id)\n",
    "            recs_to_adjust[r.id].append(adjust_to)"
   ]
  },
  {
   "cell_type": "code",
   "execution_count": 14,
   "metadata": {
    "collapsed": false
   },
   "outputs": [
    {
     "name": "stdout",
     "output_type": "stream",
     "text": [
      "0\n"
     ]
    }
   ],
   "source": [
    "print len(to_fetch)"
   ]
  },
  {
   "cell_type": "code",
   "execution_count": 15,
   "metadata": {
    "collapsed": false
   },
   "outputs": [
    {
     "name": "stdout",
     "output_type": "stream",
     "text": [
      "adjusting AY585337.1\n",
      "Alytes obstetricans pertinax\t->\tAlytes obstetricans\n",
      "adjusting AY347451.1\n",
      "Discoglossus pictus pictus\t->\tDiscoglossus pictus\n",
      "adjusting JX893174.1\n",
      "Bombina variegata variegata\t->\tBombina variegata\n",
      "adjusting JX893176.1\n",
      "Bombina variegata scabra\t->\tBombina variegata\n",
      "adjusting JX893175.1\n",
      "Bombina variegata variegata\t->\tBombina variegata\n",
      "adjusting KF645375.1\n",
      "Salamandra salamandra alfredschmidti\t->\tSalamandra salamandra\n",
      "adjusting JX893178.1\n",
      "Bombina variegata scabra\t->\tBombina variegata\n",
      "adjusting AY347456.1\n",
      "Discoglossus pictus auritus\t->\tDiscoglossus pictus\n",
      "adjusting AY347452.1\n",
      "Discoglossus pictus auritus\t->\tDiscoglossus pictus\n",
      "adjusting AY222458.1\n",
      "Salamandra salamandra morenica\t->\tSalamandra salamandra\n",
      "adjusting AY333653.1\n",
      "Bombina variegata kolombatovici\t->\tBombina variegata\n",
      "adjusting AY147254.1\n",
      "Lissotriton vulgaris meridionalis\t->\tLissotriton vulgaris\n",
      "adjusting DQ092285.1\n",
      "Salamandra salamandra bernardezi\t->\tSalamandra salamandra\n",
      "adjusting KJ858774.1\n",
      "Alytes obstetricans boscai\t->\tAlytes obstetricans\n",
      "adjusting AY333669.1\n",
      "Alytes obstetricans boscai\t->\tAlytes obstetricans\n",
      "adjusting KJ858776.1\n",
      "Alytes obstetricans almogavarii\t->\tAlytes obstetricans\n",
      "adjusting AY347457.1\n",
      "Discoglossus pictus auritus\t->\tDiscoglossus pictus\n",
      "adjusting AY347458.1\n",
      "Discoglossus pictus auritus\t->\tDiscoglossus pictus\n",
      "adjusting DQ221219.1\n",
      "Salamandra salamandra almanzoris\t->\tSalamandra salamandra\n",
      "adjusting KF645371.1\n",
      "Salamandra salamandra gigliolii\t->\tSalamandra salamandra\n",
      "adjusting KJ858770.1\n",
      "Alytes obstetricans pertinax\t->\tAlytes obstetricans\n",
      "adjusting KJ858773.1\n",
      "Alytes obstetricans boscai\t->\tAlytes obstetricans\n",
      "adjusting KJ858772.1\n",
      "Alytes obstetricans obstetricans\t->\tAlytes obstetricans\n",
      "adjusting DQ092298.1\n",
      "Ichthyosaura alpestris inexpectatus\t->\tIchthyosaura alpestris\n",
      "adjusting KF645367.1\n",
      "Salamandra salamandra longirostris\t->\tSalamandra salamandra\n",
      "adjusting KJ858778.1\n",
      "Alytes obstetricans almogavarii\t->\tAlytes obstetricans\n",
      "adjusting DQ221215.1\n",
      "Salamandra salamandra gallaica\t->\tSalamandra salamandra\n",
      "adjusting KF645365.1\n",
      "Salamandra salamandra salamandra\t->\tSalamandra salamandra\n",
      "adjusting AY347455.1\n",
      "Discoglossus pictus auritus\t->\tDiscoglossus pictus\n",
      "adjusting JX893177.1\n",
      "Bombina variegata variegata\t->\tBombina variegata\n",
      "adjusting AY347454.1\n",
      "Discoglossus pictus auritus\t->\tDiscoglossus pictus\n",
      "adjusting AY333664.1\n",
      "Bombina variegata variegata\t->\tBombina variegata\n",
      "adjusting KF645373.1\n",
      "Salamandra salamandra alfredschmidti\t->\tSalamandra salamandra\n",
      "adjusting KF645370.1\n",
      "Salamandra salamandra morenica\t->\tSalamandra salamandra\n",
      "adjusting DQ221220.1\n",
      "Salamandra salamandra bernardezi\t->\tSalamandra salamandra\n",
      "adjusting KJ858771.1\n",
      "Alytes obstetricans obstetricans\t->\tAlytes obstetricans\n",
      "adjusting DQ221216.1\n",
      "Salamandra salamandra bejarae\t->\tSalamandra salamandra\n",
      "adjusting AY347450.1\n",
      "Discoglossus pictus pictus\t->\tDiscoglossus pictus\n",
      "adjusting KF645366.1\n",
      "Salamandra salamandra gallaica\t->\tSalamandra salamandra\n",
      "adjusting AY581640.1\n",
      "Xenopus laevis sudanensis\t->\tXenopus laevis\n",
      "adjusting DQ221225.1\n",
      "Salamandra salamandra corsica\t->\tSalamandra salamandra\n",
      "adjusting KF645364.1\n",
      "Salamandra salamandra fastuosa\t->\tSalamandra salamandra\n",
      "adjusting DQ221223.1\n",
      "Salamandra salamandra longirostris\t->\tSalamandra salamandra\n",
      "adjusting AY347453.1\n",
      "Discoglossus pictus auritus\t->\tDiscoglossus pictus\n",
      "adjusting AY222459.1\n",
      "Salamandra salamandra terrestris\t->\tSalamandra salamandra\n",
      "adjusting AY347459.1\n",
      "Discoglossus pictus auritus\t->\tDiscoglossus pictus\n",
      "adjusting AF224726.1\n",
      "Alytes obstetricans boscai\t->\tAlytes obstetricans\n",
      "adjusting DQ885561.1\n",
      "Gallus gallus murghi\t->\tGallus gallus\n",
      "adjusting GU261693.1\n",
      "Gallus gallus spadiceus\t->\tGallus gallus\n",
      "adjusting AP003321.1\n",
      "Gallus gallus spadiceus\t->\tGallus gallus\n",
      "adjusting GU261707.1\n",
      "Gallus gallus murghi\t->\tGallus gallus\n",
      "adjusting GU261674.1\n",
      "Gallus gallus jabouillei\t->\tGallus gallus\n"
     ]
    }
   ],
   "source": [
    "for r in Seqs:\n",
    "    if r.id in recs_to_adjust:\n",
    "        print \"adjusting %s\" %r.id\n",
    "        source = r.features[0]\n",
    "        print \"%s\\t->\\t%s\" %(source.qualifiers['organism'][0],recs_to_adjust[r.id][0])\n",
    "        source = r.features[0]\n",
    "        source.qualifiers['organism'] = [recs_to_adjust[r.id][0]]\n",
    "        for i in range(len(source.qualifiers['db_xref'])):\n",
    "            if 'taxon' in source.qualifiers['db_xref'][i]:\n",
    "                source.qualifiers['db_xref'][i] = \"taxon:\"+recs_to_adjust[r.id][1]\n",
    "        if not 'note' in source.qualifiers:\n",
    "            source.qualifiers['note'] = ['modified from original record: adjusted to species']\n",
    "        else:\n",
    "            source.qualifiers['note'].append('modified from original record: adjusted to species')\n",
    "#        print r.format('genbank')       \n",
    "#    print r,recs_to_adjust[r]"
   ]
  },
  {
   "cell_type": "markdown",
   "metadata": {},
   "source": [
    "Write only good records with all metadata in Genbank format."
   ]
  },
  {
   "cell_type": "code",
   "execution_count": 16,
   "metadata": {
    "collapsed": true
   },
   "outputs": [],
   "source": [
    "from Bio import SeqIO\n",
    "       \n",
    "out = open('../12S_UKamphibians_SATIVA_cleaned.gb','w')\n",
    "SeqIO.write(Seqs, out, \"genbank\")\n",
    "out.close()"
   ]
  },
  {
   "cell_type": "markdown",
   "metadata": {},
   "source": [
    "Exclude the records that were highlighted by SATIVA. Then realign and rebuild phylogeny."
   ]
  },
  {
   "cell_type": "code",
   "execution_count": 17,
   "metadata": {
    "collapsed": true
   },
   "outputs": [],
   "source": [
    "pj.exclude(start_from_max=False, **recs_to_drop)"
   ]
  },
  {
   "cell_type": "code",
   "execution_count": 18,
   "metadata": {
    "collapsed": false
   },
   "outputs": [
    {
     "name": "stdout",
     "output_type": "stream",
     "text": [
      "Total number of records: 198\n",
      "Number of species (see below for full list): 23\n",
      "['Alytes obstetricans', 'Bombina bombina', 'Bombina variegata', 'Bufo bufo', 'Chelydra serpentina', 'Cottus gobio', 'Discoglossus pictus', 'Epidalea calamita', 'Gallus gallus', 'Hydromantes genei', 'Hyla arborea', 'Ichthyosaura alpestris', 'Lissotriton helveticus', 'Lissotriton vulgaris', 'Pelophylax lessonae', 'Pelophylax ridibundus', 'Rana catesbeiana', 'Rana dalmatina', 'Rana temporaria', 'Salamandra salamandra', 'Triturus carnifex', 'Triturus cristatus', 'Xenopus laevis']\n"
     ]
    }
   ],
   "source": [
    "species=[]\n",
    "for r in pj.records:\n",
    "    if r.id in recs_to_keep['rrnS']:\n",
    "        source = [f for f in r.features if f.type == 'source'][0]\n",
    "        species.append(\" \".join(source.qualifiers['organism'][0].split()[0:2]))\n",
    "    \n",
    "#print set(species)\n",
    "total=len(species)\n",
    "species=list(set(species))\n",
    "\n",
    "print \"Total number of records: %i\" %total\n",
    "print \"Number of species (see below for full list): %i\" %len(species)\n",
    "print sorted(species)"
   ]
  },
  {
   "cell_type": "markdown",
   "metadata": {},
   "source": [
    "Write short 12S rRNA sequences (< 500bp) to fasta file to build new alignment outside Reprophylo later in script using hmmbuild. The Hidden Markov Model alignment will include all 12S rRNA sequences - short and long."
   ]
  },
  {
   "cell_type": "code",
   "execution_count": 19,
   "metadata": {
    "collapsed": false
   },
   "outputs": [
    {
     "name": "stdout",
     "output_type": "stream",
     "text": [
      "Total number of records: 112\n"
     ]
    }
   ],
   "source": [
    "temp_seq = []\n",
    "\n",
    "for r in pj.records_by_locus['rrnS']:\n",
    "    if len(r.seq) < 500:\n",
    "        temp_seq.append(r)\n",
    "        \n",
    "total = len(temp_seq)\n",
    "print \"Total number of records: %i\" %total\n",
    "\n",
    "from Bio import SeqIO\n",
    "\n",
    "out=open('amphib_short_to_align_SATIVA.fasta','w')\n",
    "SeqIO.write(temp_seq, out, 'fasta')\n",
    "out.close()"
   ]
  },
  {
   "cell_type": "markdown",
   "metadata": {},
   "source": [
    "# Filter by Length"
   ]
  },
  {
   "cell_type": "markdown",
   "metadata": {},
   "source": [
    "Write cropped records (minimum length of 500bp) to fasta and Genbank file."
   ]
  },
  {
   "cell_type": "code",
   "execution_count": 20,
   "metadata": {
    "collapsed": true
   },
   "outputs": [],
   "source": [
    "from Bio import SeqIO\n",
    "\n",
    "temp=[]\n",
    "for r in pj.records:\n",
    "    if len(r.seq) >= 500:\n",
    "        temp.append(r)\n",
    "\n",
    "out = open('amphib12S_cropped_500bp_SATIVA.gb', 'w')\n",
    "SeqIO.write(temp, out, 'genbank')\n",
    "out.close()\n",
    "\n",
    "out = open('amphib12S_cropped_500bp_SATIVA.fa', 'w')\n",
    "SeqIO.write(temp, out, 'fasta')\n",
    "out.close()\n",
    "\n",
    "\n",
    "del(temp)"
   ]
  },
  {
   "cell_type": "markdown",
   "metadata": {},
   "source": [
    "Now view records in cropped genbank file."
   ]
  },
  {
   "cell_type": "code",
   "execution_count": 21,
   "metadata": {
    "collapsed": false
   },
   "outputs": [
    {
     "name": "stdout",
     "output_type": "stream",
     "text": [
      "index 0, ID = AY585337.1, length 937, with 2 features\n",
      "index 1, ID = EU115993.1, length 933, with 2 features\n",
      "index 2, ID = U52726.1, length 954, with 2 features\n",
      "index 3, ID = JX893174.1, length 933, with 2 features\n",
      "index 4, ID = AY581644.1, length 840, with 2 features\n",
      "index 5, ID = JX893176.1, length 932, with 2 features\n",
      "index 6, ID = JX893175.1, length 933, with 2 features\n",
      "index 7, ID = KC977215.1, length 663, with 2 features\n",
      "index 8, ID = AB761267.1, length 937, with 2 features\n",
      "index 9, ID = AY581648.1, length 840, with 2 features\n",
      "index 10, ID = JX893178.1, length 932, with 2 features\n",
      "index 11, ID = KC977204.1, length 663, with 2 features\n",
      "index 12, ID = HQ697272.1, length 924, with 2 features\n",
      "index 13, ID = M10217.1, length 819, with 2 features\n",
      "index 14, ID = KC977206.1, length 663, with 2 features\n",
      "index 15, ID = EU880335.1, length 926, with 2 features\n",
      "index 16, ID = DQ055835.1, length 936, with 2 features\n",
      "index 17, ID = JN627424.1, length 930, with 2 features\n",
      "index 18, ID = M27605.1, length 945, with 2 features\n",
      "index 19, ID = JX893172.1, length 933, with 2 features\n",
      "index 20, ID = KJ858774.1, length 524, with 2 features\n",
      "index 21, ID = AY325988.1, length 931, with 2 features\n",
      "index 22, ID = KC977218.1, length 663, with 2 features\n",
      "index 23, ID = KJ858776.1, length 524, with 2 features\n",
      "index 24, ID = D12694.1, length 620, with 2 features\n",
      "index 25, ID = KC977217.1, length 663, with 2 features\n",
      "index 26, ID = M57527.1, length 938, with 2 features\n",
      "index 27, ID = JN627421.1, length 932, with 2 features\n",
      "index 28, ID = KJ858770.1, length 524, with 2 features\n",
      "index 29, ID = JQ626644.1, length 525, with 2 features\n",
      "index 30, ID = Y10943.1, length 946, with 2 features\n",
      "index 31, ID = EU880339.1, length 927, with 2 features\n",
      "index 32, ID = KJ858773.1, length 524, with 2 features\n",
      "index 33, ID = JN627426.1, length 930, with 2 features\n",
      "index 34, ID = KJ858772.1, length 524, with 2 features\n",
      "index 35, ID = KC977225.1, length 663, with 2 features\n",
      "index 36, ID = KC977222.1, length 663, with 2 features\n",
      "index 37, ID = AY326063.1, length 930, with 2 features\n",
      "index 38, ID = AY581639.1, length 840, with 2 features\n",
      "index 39, ID = KJ858778.1, length 524, with 2 features\n",
      "index 40, ID = EU880331.1, length 921, with 2 features\n",
      "index 41, ID = JX893177.1, length 932, with 2 features\n",
      "index 42, ID = DQ158438.1, length 902, with 2 features\n",
      "index 43, ID = JN627422.1, length 930, with 2 features\n",
      "index 44, ID = AY928619.1, length 824, with 2 features\n",
      "index 45, ID = KJ858771.1, length 524, with 2 features\n",
      "index 46, ID = KC977226.1, length 663, with 2 features\n",
      "index 47, ID = KU840522.1, length 749, with 2 features\n",
      "index 48, ID = KC977224.1, length 663, with 2 features\n",
      "index 49, ID = JQ626643.1, length 525, with 2 features\n",
      "index 50, ID = AY971143.1, length 933, with 2 features\n",
      "index 51, ID = AY581640.1, length 840, with 2 features\n",
      "index 52, ID = AY581638.1, length 838, with 2 features\n",
      "index 53, ID = AY843601.1, length 925, with 2 features\n",
      "index 54, ID = KF049927.1, length 937, with 2 features\n",
      "index 55, ID = EU938400.1, length 932, with 2 features\n",
      "index 56, ID = AB685766.1, length 932, with 2 features\n",
      "index 57, ID = KC977220.1, length 663, with 2 features\n",
      "index 58, ID = EU880336.1, length 926, with 2 features\n",
      "index 59, ID = JN627425.1, length 930, with 2 features\n",
      "index 60, ID = AP003317.1, length 976, with 2 features\n",
      "index 61, ID = EF373884.1, length 576, with 2 features\n",
      "index 62, ID = EF373899.1, length 576, with 2 features\n",
      "index 63, ID = GU261680.1, length 976, with 2 features\n",
      "index 64, ID = FJ610338.1, length 872, with 2 features\n",
      "index 65, ID = GU261678.1, length 976, with 2 features\n",
      "index 66, ID = GU261693.1, length 976, with 2 features\n",
      "index 67, ID = EF373885.1, length 576, with 2 features\n",
      "index 68, ID = GU261698.1, length 976, with 2 features\n",
      "index 69, ID = KM886936.1, length 975, with 2 features\n",
      "index 70, ID = AB188189.1, length 783, with 2 features\n",
      "index 71, ID = EF122793.1, length 965, with 2 features\n",
      "index 72, ID = AY235570.1, length 975, with 2 features\n",
      "index 73, ID = GU261694.1, length 977, with 2 features\n",
      "index 74, ID = KF471517.1, length 516, with 2 features\n",
      "index 75, ID = EF373883.1, length 576, with 2 features\n",
      "index 76, ID = AB086102.1, length 976, with 2 features\n",
      "index 77, ID = JN860636.1, length 965, with 2 features\n",
      "index 78, ID = GU261683.1, length 976, with 2 features\n",
      "index 79, ID = KT626848.1, length 976, with 2 features\n",
      "index 80, ID = KP211419.1, length 976, with 2 features\n",
      "index 81, ID = KX512321.1, length 976, with 2 features\n",
      "index 82, ID = AP003321.1, length 976, with 2 features\n",
      "index 83, ID = KP211422.1, length 976, with 2 features\n",
      "index 84, ID = EF373904.1, length 576, with 2 features\n",
      "index 85, ID = FJ610339.1, length 875, with 2 features\n",
      "index 86, ID = AP003318.1, length 976, with 2 features\n",
      "index 87, ID = GU261707.1, length 976, with 2 features\n",
      "index 88, ID = GU261674.1, length 976, with 2 features\n"
     ]
    }
   ],
   "source": [
    "for index, record in enumerate(SeqIO.parse(\"amphib12S_cropped_500bp_SATIVA.gb\", \"genbank\")):\n",
    "        print(\"index %i, ID = %s, length %i, with %i features\"\n",
    "          % (index, record.id, len(record.seq), len(record.features)))"
   ]
  },
  {
   "cell_type": "markdown",
   "metadata": {},
   "source": [
    "Now need to filter all 12S rRNA sequences within pj.records dictionary by length to remove all sequences shorter than 500bp within Reprophylo."
   ]
  },
  {
   "cell_type": "code",
   "execution_count": 22,
   "metadata": {
    "collapsed": false
   },
   "outputs": [
    {
     "name": "stdout",
     "output_type": "stream",
     "text": [
      "Distribution Of Sequence Lengths\n",
      "Distribution Of Sequence Statistic \"Gc_Content\"\n"
     ]
    },
    {
     "name": "stderr",
     "output_type": "stream",
     "text": [
      "/usr/lib/pymodules/python2.7/matplotlib/figure.py:371: UserWarning: matplotlib is currently using a non-GUI backend, so cannot show the figure\n",
      "  \"matplotlib is currently using a non-GUI backend, \"\n"
     ]
    },
    {
     "data": {
      "image/png": "[encoded data removed]",
      "text/plain": [
       "<matplotlib.figure.Figure at 0x7f6affe5f490>"
      ]
     },
     "metadata": {},
     "output_type": "display_data"
    },
    {
     "data": {
      "image/png": "[encoded data removed]",
      "text/plain": [
       "<matplotlib.figure.Figure at 0x7f6affd2be10>"
      ]
     },
     "metadata": {},
     "output_type": "display_data"
    }
   ],
   "source": [
    "%matplotlib inline\n",
    "pj.report_seq_stats()"
   ]
  },
  {
   "cell_type": "code",
   "execution_count": 23,
   "metadata": {
    "collapsed": true
   },
   "outputs": [],
   "source": [
    "# Define minima and maxima\n",
    "\n",
    "gc_inliers = {\n",
    "    'rrnS': [34,55]\n",
    "}\n",
    "len_inliers = {\n",
    "    'rrnS': [500,1000]\n",
    "}\n",
    "\n",
    "\n",
    "# Apply to loci data\n",
    "for locus in gc_inliers:\n",
    "    # trim GC outliers\n",
    "    pj.filter_by_gc_content(locus,\n",
    "                            min_percent_gc=gc_inliers[locus][0],\n",
    "                            max_percent_gc=gc_inliers[locus][1])\n",
    "\n",
    "    # trim length outlier\n",
    "    pj.filter_by_seq_length(locus,\n",
    "                            min_length=len_inliers[locus][0],\n",
    "                            max_length=len_inliers[locus][1])"
   ]
  },
  {
   "cell_type": "markdown",
   "metadata": {},
   "source": [
    "Confirm that the length filter has worked."
   ]
  },
  {
   "cell_type": "code",
   "execution_count": 24,
   "metadata": {
    "collapsed": false
   },
   "outputs": [
    {
     "name": "stdout",
     "output_type": "stream",
     "text": [
      "Distribution Of Sequence Lengths\n",
      "Distribution Of Sequence Statistic \"Gc_Content\"\n"
     ]
    },
    {
     "data": {
      "image/png": "[encoded data removed]",
      "text/plain": [
       "<matplotlib.figure.Figure at 0x7f6affffc8d0>"
      ]
     },
     "metadata": {},
     "output_type": "display_data"
    },
    {
     "data": {
      "image/png": "[encoded data removed]",
      "text/plain": [
       "<matplotlib.figure.Figure at 0x7f6affc87350>"
      ]
     },
     "metadata": {},
     "output_type": "display_data"
    }
   ],
   "source": [
    "pj.report_seq_stats()"
   ]
  },
  {
   "cell_type": "markdown",
   "metadata": {},
   "source": [
    "Pickle the project."
   ]
  },
  {
   "cell_type": "code",
   "execution_count": 25,
   "metadata": {
    "collapsed": false
   },
   "outputs": [
    {
     "data": {
      "text/plain": [
       "'amphib_post_SATIVA.pkl'"
      ]
     },
     "execution_count": 25,
     "metadata": {},
     "output_type": "execute_result"
    }
   ],
   "source": [
    "pickle_pj(pj, 'amphib_post_SATIVA.pkl')"
   ]
  },
  {
   "cell_type": "markdown",
   "metadata": {},
   "source": [
    "# Long Alignment"
   ]
  },
  {
   "cell_type": "markdown",
   "metadata": {},
   "source": [
    "Now, need to produce a sequence alignment file based on an alignment of all 12S sequences longer than 500bp. This will be done with the AlnConf class."
   ]
  },
  {
   "cell_type": "code",
   "execution_count": 26,
   "metadata": {
    "collapsed": false
   },
   "outputs": [],
   "source": [
    "pj = unpickle_pj('amphib_post_SATIVA.pkl', git=False)"
   ]
  },
  {
   "cell_type": "markdown",
   "metadata": {},
   "source": [
    "muscle default configuration:"
   ]
  },
  {
   "cell_type": "code",
   "execution_count": 27,
   "metadata": {
    "collapsed": false
   },
   "outputs": [
    {
     "name": "stdout",
     "output_type": "stream",
     "text": [
      "muscle -in 750651477486369.36_rrnS.fasta\n"
     ]
    }
   ],
   "source": [
    "muscle_default = AlnConf(pj,\n",
    "                         method_name=\"muscleDefault-500bp-SATIVA\",\n",
    "                         program_name=\"muscle\",\n",
    "                         loci=['rrnS'])"
   ]
  },
  {
   "cell_type": "code",
   "execution_count": 28,
   "metadata": {
    "collapsed": true
   },
   "outputs": [],
   "source": [
    "pj.align([muscle_default])"
   ]
  },
  {
   "cell_type": "code",
   "execution_count": 29,
   "metadata": {
    "collapsed": false
   },
   "outputs": [
    {
     "name": "stdout",
     "output_type": "stream",
     "text": [
      "AlnConf named muscleDefault-500bp-SATIVA with ID 750651477486369.36\n",
      "Loci: rrnS \n",
      "Created on: Wed Oct 26 12:52:49 2016\n",
      "Commands:\n",
      "rrnS: muscle -in 750651477486369.36_rrnS.fasta\n",
      "\n",
      "Environment:\n",
      "Platform: Linux-4.4.0-38-generic-x86_64-with-Ubuntu-14.04-trusty\n",
      " Processor: x86_64\n",
      " Python build: defaultMar 22 2014 22:59:56\n",
      " Python compiler: GCC 4.8.2\n",
      " Python implementation: CPython\n",
      " Python version: 2.7.6\n",
      " ete2 version: 2.2.1072\n",
      " biopython version: 1.68\n",
      " dendropy version: 3.12.2\n",
      " cloud version: 2.8.5\n",
      " reprophylo version 1.3\n",
      " User: biopc4\n",
      " Program and version: MUSCLE v3.8.31\\nPal2Nal v14\n",
      " Program reference:\\nEdgar 2004: MUSCLE: multiple sequence alignment with high accuracy and high throughput. Nucleic Acids Research 32(5):1792-1797\\nMikita Suyama\n",
      " David Torrents\n",
      " and Peer Bork (2006) PAL2NAL: robust conversion of protein sequence alignments into the corresponding codon alignments.Nucleic Acids Res. 34\n",
      " W609-W612.\n",
      "execution time:\n",
      "14.8714580536\n",
      "\n",
      "\n",
      "==============================\n",
      "Core Methods section sentence:\n",
      "==============================\n",
      "The dataset(s) rrnS were first aligned at the protein level using the program MUSCLE v3.8.31 [1].\n",
      "The resulting alignments served as guides to codon-align the DNA sequences using Pal2Nal v14 [2].\n",
      "\n",
      "Reference:\n",
      "[1]Edgar 2004: MUSCLE: multiple sequence alignment with high accuracy and high throughput. Nucleic Acids Research 32(5):1792-1797\n",
      "[2]Mikita Suyama, David Torrents, and Peer Bork (2006) PAL2NAL: robust conversion of protein sequence alignments into the corresponding codon alignments.Nucleic Acids Res. 34, W609-W612.\n",
      "\n"
     ]
    }
   ],
   "source": [
    "print pj.used_methods['muscleDefault-500bp-SATIVA']"
   ]
  },
  {
   "cell_type": "code",
   "execution_count": 30,
   "metadata": {
    "collapsed": false
   },
   "outputs": [
    {
     "data": {
      "text/plain": [
       "{'rrnS@muscleDefault-500bp-SATIVA': <<class 'Bio.Align.MultipleSeqAlignment'> instance (86 records of length 1291, IUPACProtein()) at 7f6affe6bb10>}"
      ]
     },
     "execution_count": 30,
     "metadata": {},
     "output_type": "execute_result"
    }
   ],
   "source": [
    "pj.alignments"
   ]
  },
  {
   "cell_type": "code",
   "execution_count": 31,
   "metadata": {
    "collapsed": false
   },
   "outputs": [
    {
     "data": {
      "text/plain": [
       "['rrnS@muscleDefault-500bp-SATIVA_aln.fasta']"
      ]
     },
     "execution_count": 31,
     "metadata": {},
     "output_type": "execute_result"
    }
   ],
   "source": [
    "# record_id and source_organism are feature qualifiers in the SeqRecord object\n",
    "files = pj.write_alns(id=['record_id','source_organism'],\n",
    "                      format='fasta')\n",
    "files"
   ]
  },
  {
   "cell_type": "markdown",
   "metadata": {},
   "source": [
    "Pickle the project."
   ]
  },
  {
   "cell_type": "code",
   "execution_count": 32,
   "metadata": {
    "collapsed": false
   },
   "outputs": [
    {
     "data": {
      "text/plain": [
       "'amphib_post_SATIVA.pkl'"
      ]
     },
     "execution_count": 32,
     "metadata": {},
     "output_type": "execute_result"
    }
   ],
   "source": [
    "pickle_pj(pj, 'amphib_post_SATIVA.pkl')"
   ]
  },
  {
   "cell_type": "markdown",
   "metadata": {},
   "source": [
    "# Build tree from long alignment"
   ]
  },
  {
   "cell_type": "markdown",
   "metadata": {},
   "source": [
    "Trim the alignment."
   ]
  },
  {
   "cell_type": "code",
   "execution_count": 33,
   "metadata": {
    "collapsed": false
   },
   "outputs": [
    {
     "name": "stdout",
     "output_type": "stream",
     "text": [
      "trimal -in 536331477486453.01_rrnS@muscleDefault-500bp-SATIVA.fasta -gappyout\n"
     ]
    }
   ],
   "source": [
    "muscle_gappyout = TrimalConf(pj,                       # The Project\n",
    "\n",
    "                            method_name='gappyout',  # Any unique string \n",
    "                                                     # ('gappyout' is default)\n",
    "                            \n",
    "                            program_name='trimal',   # No alternatives in \n",
    "                                                     # this ReproPhylo version\n",
    "                            \n",
    "                            cmd='default',           # the default is trimal. \n",
    "                                                     # Change it here\n",
    "                                                     # or in pj.defaults['trimal']\n",
    "                            \n",
    "                            alns=['rrnS@muscleDefault-500bp-SATIVA'],  # 'all' by default\n",
    "                            \n",
    "                            trimal_commands={'gappyout': True} # By default, the gappyout algorithm is used.\n",
    "                           )"
   ]
  },
  {
   "cell_type": "code",
   "execution_count": 34,
   "metadata": {
    "collapsed": true
   },
   "outputs": [],
   "source": [
    "pj.trim([muscle_gappyout])"
   ]
  },
  {
   "cell_type": "code",
   "execution_count": 35,
   "metadata": {
    "collapsed": false
   },
   "outputs": [
    {
     "name": "stdout",
     "output_type": "stream",
     "text": [
      "TrimalConf named gappyout with ID 536331477486453.01\n",
      "Alignments: rrnS@muscleDefault-500bp-SATIVA \n",
      "Created on: Wed Oct 26 12:54:13 2016\n",
      "Commands:\n",
      "rrnS@muscleDefault-500bp-SATIVA@gappyout: trimal -in 536331477486453.01_rrnS@muscleDefault-500bp-SATIVA.fasta -gappyout\n",
      "\n",
      "Environment:Platform: Linux-4.4.0-38-generic-x86_64-with-Ubuntu-14.04-trusty\n",
      " Processor: x86_64\n",
      " Python build: defaultMar 22 2014 22:59:56\n",
      " Python compiler: GCC 4.8.2\n",
      " Python implementation: CPython\n",
      " Python version: 2.7.6\n",
      " ete2 version: 2.2.1072\n",
      " biopython version: 1.68\n",
      " dendropy version: 3.12.2\n",
      " cloud version: 2.8.5\n",
      " reprophylo version 1.3\n",
      " User: biopc4\n",
      " Program and version: trimAl 1.2rev59\n",
      " Program reference: Salvador Capella-Gutierrez; Jose M. Silla-Martinez; Toni Gabaldon. trimAl: a tool for automated alignment trimming in large-scale phylogenetic analyses. Bioinformatics 2009 25: 1972-1973.\n",
      "execution time:\n",
      "0.859714984894\n",
      "\n",
      "==============================\n",
      "Core Methods section sentence:\n",
      "==============================\n",
      "The alignment(s) rrnS@muscleDefault-500bp-SATIVA were trimmed using the program trimAl 1.2rev59 [1].\n",
      "\n",
      "Reference:\n",
      "Salvador Capella-Gutierrez; Jose M. Silla-Martinez; Toni Gabaldon. trimAl: a tool for automated alignment trimming in large-scale phylogenetic analyses. Bioinformatics 2009 25: 1972-1973.\n",
      "\n"
     ]
    }
   ],
   "source": [
    "print pj.used_methods['gappyout']"
   ]
  },
  {
   "cell_type": "code",
   "execution_count": 36,
   "metadata": {
    "collapsed": false
   },
   "outputs": [
    {
     "data": {
      "text/plain": [
       "{'rrnS@muscleDefault-500bp-SATIVA@gappyout': <<class 'Bio.Align.MultipleSeqAlignment'> instance (86 records of length 1182, IUPACAmbiguousDNA()) at 7f6affac5d50>}"
      ]
     },
     "execution_count": 36,
     "metadata": {},
     "output_type": "execute_result"
    }
   ],
   "source": [
    "pj.trimmed_alignments"
   ]
  },
  {
   "cell_type": "code",
   "execution_count": 37,
   "metadata": {
    "collapsed": false
   },
   "outputs": [
    {
     "data": {
      "text/plain": [
       "['rrnS@muscleDefault-500bp-SATIVA@gappyout_trimmed_aln.fasta']"
      ]
     },
     "execution_count": 37,
     "metadata": {},
     "output_type": "execute_result"
    }
   ],
   "source": [
    "files = pj.write_trimmed_alns(id=['record_id','source_organism'],\n",
    "                                   format='fasta')\n",
    "files"
   ]
  },
  {
   "cell_type": "markdown",
   "metadata": {},
   "source": [
    "Infer Maximum Likelihood tree based on the clipped alignment. We are going to use RAxML. Configure RAxML for trimmed muscle alignment."
   ]
  },
  {
   "cell_type": "code",
   "execution_count": 38,
   "metadata": {
    "collapsed": false
   },
   "outputs": [
    {
     "name": "stdout",
     "output_type": "stream",
     "text": [
      "raxmlHPC-PTHREADS-SSE3 -f a -m GTRGAMMA -n 899801477486484.35_rrnS@muscleDefault-500bp-SATIVA@gappyout0 -p 619 -s 899801477486484.35_rrnS@muscleDefault-500bp-SATIVA@gappyout.fasta -T 5 -x 417 -N 100\n"
     ]
    }
   ],
   "source": [
    "raxml = RaxmlConf(pj, method_name='raxml-muscleDefault-500bp-SATIVA-trimmed',\n",
    "                  program_name='raxmlHPC-PTHREADS-SSE3',\n",
    "                  keepfiles=True,\n",
    "                  cmd='raxmlHPC-PTHREADS-SSE3',\n",
    "                  preset='fa',\n",
    "                  alns=['rrnS@muscleDefault-500bp-SATIVA@gappyout'],\n",
    "                  model='GAMMA',\n",
    "                  threads=5,\n",
    "                  cline_args={'-#': 100})"
   ]
  },
  {
   "cell_type": "markdown",
   "metadata": {},
   "source": [
    "Infer tree."
   ]
  },
  {
   "cell_type": "code",
   "execution_count": 39,
   "metadata": {
    "collapsed": false
   },
   "outputs": [],
   "source": [
    "pj.tree([raxml])"
   ]
  },
  {
   "cell_type": "code",
   "execution_count": 40,
   "metadata": {
    "collapsed": false
   },
   "outputs": [
    {
     "name": "stdout",
     "output_type": "stream",
     "text": [
      "RaxmlConf named raxml-muscleDefault-500bp-SATIVA-trimmed with ID 899801477486484.35\n",
      "Alignments: rrnS@muscleDefault-500bp-SATIVA@gappyout \n",
      "Created on: Wed Oct 26 12:54:44 2016\n",
      "Commands:\n",
      "rrnS@muscleDefault-500bp-SATIVA@gappyout:\n",
      "raxmlHPC-PTHREADS-SSE3 -f a -m GTRGAMMA -n 899801477486484.35_rrnS@muscleDefault-500bp-SATIVA@gappyout0 -p 619 -s 899801477486484.35_rrnS@muscleDefault-500bp-SATIVA@gappyout.fasta -T 5 -x 417 -N 100\n",
      "\n",
      "Environment:\n",
      "Platform: Linux-4.4.0-38-generic-x86_64-with-Ubuntu-14.04-trusty\n",
      " Processor: x86_64\n",
      " Python build: defaultMar 22 2014 22:59:56\n",
      " Python compiler: GCC 4.8.2\n",
      " Python implementation: CPython\n",
      " Python version: 2.7.6\n",
      " ete2 version: 2.2.1072\n",
      " biopython version: 1.68\n",
      " dendropy version: 3.12.2\n",
      " cloud version: 2.8.5\n",
      " reprophylo version 1.3\n",
      " User: biopc4\n",
      " Program and version: raxmlHPC-PTHREADS-SSE3RAxML version 8.0.12\n",
      " Program reference: A. Stamatakis: RAxML Version 8: A tool for Phylogenetic Analysis and Post-Analysis of Large Phylogenies. In Bioinformatics\n",
      " 2014.\n",
      "execution time:\n",
      "330.802323103\n",
      "\n",
      "==============================\n",
      "Core Methods section sentence:\n",
      "==============================\n",
      "Phylogenetic trees were reconstructed from the dataset(s) rrnS@muscleDefault-500bp-SATIVA@gappyout using the program raxmlHPC-PTHREADS-SSE3RAxML version 8.0.12 [1].\n",
      "\n",
      "Reference:\n",
      "A. Stamatakis: RAxML Version 8: A tool for Phylogenetic Analysis and Post-Analysis of Large Phylogenies. In Bioinformatics, 2014.\n",
      "\n"
     ]
    }
   ],
   "source": [
    "print pj.used_methods['raxml-muscleDefault-500bp-SATIVA-trimmed']"
   ]
  },
  {
   "cell_type": "code",
   "execution_count": 41,
   "metadata": {
    "collapsed": false
   },
   "outputs": [
    {
     "data": {
      "text/plain": [
       "'amphib_post_SATIVA.pkl'"
      ]
     },
     "execution_count": 41,
     "metadata": {},
     "output_type": "execute_result"
    }
   ],
   "source": [
    "pickle_pj(pj, 'amphib_post_SATIVA.pkl')"
   ]
  },
  {
   "cell_type": "markdown",
   "metadata": {},
   "source": [
    "# Visualise Tree"
   ]
  },
  {
   "cell_type": "markdown",
   "metadata": {},
   "source": [
    "Annotate final tree."
   ]
  },
  {
   "cell_type": "code",
   "execution_count": 42,
   "metadata": {
    "collapsed": true
   },
   "outputs": [],
   "source": [
    "pj.add_qualifier_from_source('organism')"
   ]
  },
  {
   "cell_type": "code",
   "execution_count": 43,
   "metadata": {
    "collapsed": true
   },
   "outputs": [],
   "source": [
    "supports = {'black': [100,95],\n",
    "            'dimgray': [95,75],\n",
    "            'silver': [75,50]}"
   ]
  },
  {
   "cell_type": "code",
   "execution_count": 44,
   "metadata": {
    "collapsed": true
   },
   "outputs": [],
   "source": [
    "for species in ['Chelydra','Cottus','Gallus']:\n",
    "    pj.if_this_then_that(species, 'organism', 'outgroup', 'outgroup',\n",
    "                         mode='part')"
   ]
  },
  {
   "cell_type": "code",
   "execution_count": 45,
   "metadata": {
    "collapsed": true
   },
   "outputs": [],
   "source": [
    "pj.clear_tree_annotations()\n",
    "pj.annotate('.', 'outgroup', 'outgroup', \n",
    "            ['source_organism', 'record_id'], \n",
    "            node_support_dict=supports, multifurc=None,\n",
    "            html='muscleDefault-trimmed-amphib-raxml-post_SATIVA.html')"
   ]
  },
  {
   "cell_type": "markdown",
   "metadata": {},
   "source": [
    "Create a static copy of the tree (the last *.png with the expected alignment id) for later."
   ]
  },
  {
   "cell_type": "code",
   "execution_count": 46,
   "metadata": {
    "collapsed": true
   },
   "outputs": [],
   "source": [
    "%%bash\n",
    "\n",
    "last_png=$(ls -hlrt *rrnS@muscleDefault-500bp-SATIVA@gappyout.png | tail -n 1 | perl -ne 'chomp; @a=split(\" \"); print \"$a[-1]\"')\n",
    "cp $last_png rrnS_muscleDefault_trimmed_amphib_500bp_SATIVA_raxml.png"
   ]
  },
  {
   "cell_type": "markdown",
   "metadata": {},
   "source": [
    "Pickle the project."
   ]
  },
  {
   "cell_type": "code",
   "execution_count": 47,
   "metadata": {
    "collapsed": false
   },
   "outputs": [
    {
     "data": {
      "text/plain": [
       "'amphib_post_SATIVA.pkl'"
      ]
     },
     "execution_count": 47,
     "metadata": {},
     "output_type": "execute_result"
    }
   ],
   "source": [
    "pickle_pj(pj, 'amphib_post_SATIVA.pkl')"
   ]
  },
  {
   "cell_type": "markdown",
   "metadata": {},
   "source": [
    "**=======================================================================================================**"
   ]
  },
  {
   "cell_type": "code",
   "execution_count": 48,
   "metadata": {
    "collapsed": true
   },
   "outputs": [],
   "source": [
    "from reprophylo import *"
   ]
  },
  {
   "cell_type": "code",
   "execution_count": 49,
   "metadata": {
    "collapsed": false
   },
   "outputs": [],
   "source": [
    "pj = unpickle_pj('amphib_post_SATIVA.pkl', git=False)"
   ]
  },
  {
   "cell_type": "markdown",
   "metadata": {},
   "source": [
    "- Identify the record IDs of the sequences shorter than 500bp\n",
    "- Write these sequences to new fasta file (make sure the sequence IDs are as Reprophylo expects them: 'id_f0')\n",
    "- Prepare a hmm profile for the alignment the tree is built on (either muscle 'or mafft)"
   ]
  },
  {
   "cell_type": "code",
   "execution_count": 50,
   "metadata": {
    "collapsed": false
   },
   "outputs": [
    {
     "data": {
      "text/plain": [
       "{'rrnS@muscleDefault-500bp-SATIVA': <<class 'Bio.Align.MultipleSeqAlignment'> instance (86 records of length 1291, IUPACProtein()) at 7f6afbc6c590>}"
      ]
     },
     "execution_count": 50,
     "metadata": {},
     "output_type": "execute_result"
    }
   ],
   "source": [
    "pj.alignments"
   ]
  },
  {
   "cell_type": "code",
   "execution_count": 51,
   "metadata": {
    "collapsed": false
   },
   "outputs": [
    {
     "name": "stdout",
     "output_type": "stream",
     "text": [
      "returning trimmed alignment object rrnS@muscleDefault-500bp-SATIVA@gappyout\n"
     ]
    },
    {
     "data": {
      "text/plain": [
       "1"
      ]
     },
     "execution_count": 51,
     "metadata": {},
     "output_type": "execute_result"
    }
   ],
   "source": [
    "from Bio import AlignIO\n",
    "\n",
    "out=open('500bp_amphib_align_SATIVA.fasta','w')\n",
    "\n",
    "AlignIO.write(pj.fta('rrnS@muscleDefault-500bp-SATIVA'), out, 'fasta')"
   ]
  },
  {
   "cell_type": "markdown",
   "metadata": {},
   "source": [
    "Check number of records in file containing short 12S rRNA sequences."
   ]
  },
  {
   "cell_type": "code",
   "execution_count": 53,
   "metadata": {
    "collapsed": false
   },
   "outputs": [
    {
     "name": "stdout",
     "output_type": "stream",
     "text": [
      "Total records: 112\n"
     ]
    }
   ],
   "source": [
    "from Bio import SeqIO\n",
    "\n",
    "records = list(SeqIO.parse(\"amphib_short_to_align_SATIVA.fasta\", \"fasta\"))\n",
    "print(\"Total records: %i\" % len(records))"
   ]
  },
  {
   "cell_type": "markdown",
   "metadata": {},
   "source": [
    "Check that record IDs are in format that reprophylo expects for alignment."
   ]
  },
  {
   "cell_type": "code",
   "execution_count": 54,
   "metadata": {
    "collapsed": false
   },
   "outputs": [
    {
     "name": "stdout",
     "output_type": "stream",
     "text": [
      "AY322321.1_f0\n",
      "FJ595208.1_f0\n",
      "AY347451.1_f0\n",
      "AF161036.1_f0\n",
      "AJ440767.1_f0\n",
      "KP109553.1_f0\n",
      "KX269198.1_f0\n",
      "AJ222711.1_f0\n",
      "AY333688.1_f0\n",
      "KF645375.1_f0\n",
      "AY347456.1_f0\n",
      "AY043038.1_f0\n",
      "EU116959.1_f0\n",
      "X95493.1_f0\n",
      "AY347452.1_f0\n",
      "AB023395.1_f0\n",
      "AF218718.1_f0\n",
      "AY333663.1_f0\n",
      "AY222458.1_f0\n",
      "KF664850.1_f0\n",
      "AY333653.1_f0\n",
      "KP109559.1_f0\n",
      "KF645417.1_f0\n",
      "AY333665.1_f0\n",
      "AY147254.1_f0\n",
      "KF645409.1_f0\n",
      "AY147256.1_f0\n",
      "U04702.1_f0\n",
      "DQ092285.1_f0\n",
      "KF645408.1_f0\n",
      "AJ222710.1_f0\n",
      "AY333669.1_f0\n",
      "AY880481.1_f0\n",
      "AY347457.1_f0\n",
      "AY333687.1_f0\n",
      "X86235.1_f0\n",
      "AY347458.1_f0\n",
      "DQ221219.1_f0\n",
      "FJ595204.1_f0\n",
      "KF645371.1_f0\n",
      "AY333655.1_f0\n",
      "AB023397.1_f0\n",
      "AY333683.1_f0\n",
      "U04704.1_f0\n",
      "AY880461.1_f0\n",
      "KP109558.1_f0\n",
      "AY043041.1_f0\n",
      "DQ092298.1_f0\n",
      "KF645367.1_f0\n",
      "DQ221215.1_f0\n",
      "KF645365.1_f0\n",
      "AY347455.1_f0\n",
      "AY333684.1_f0\n",
      "AY347454.1_f0\n",
      "AY043034.1_f0\n",
      "AJ440762.1_f0\n",
      "FJ602097.1_f0\n",
      "DQ092286.1_f0\n",
      "AY333664.1_f0\n",
      "AY043032.1_f0\n",
      "KP109557.1_f0\n",
      "KF645373.1_f0\n",
      "KF645370.1_f0\n",
      "AY333666.1_f0\n",
      "AB159478.1_f0\n",
      "KP109555.1_f0\n",
      "DQ221220.1_f0\n",
      "DQ221216.1_f0\n",
      "AY347450.1_f0\n",
      "AF124103.1_f0\n",
      "AJ309142.1_f0\n",
      "AY779191.1_f0\n",
      "KP109552.1_f0\n",
      "KF645366.1_f0\n",
      "DQ221225.1_f0\n",
      "AY333686.1_f0\n",
      "KF645364.1_f0\n",
      "DQ221223.1_f0\n",
      "EU116957.1_f0\n",
      "KP109556.1_f0\n",
      "AY347453.1_f0\n",
      "EU116960.1_f0\n",
      "M13046.1_f0\n",
      "AB023394.1_f0\n",
      "KP109554.1_f0\n",
      "AY222459.1_f0\n",
      "AY347459.1_f0\n",
      "KT074476.1_f0\n",
      "AF224726.1_f0\n",
      "DQ885561.1_f0\n",
      "JN695757.1_f0\n",
      "EF362674.1_f0\n",
      "KF484729.1_f0\n",
      "AJ849444.2_f0\n",
      "KF471521.1_f0\n",
      "EF432760.1_f0\n",
      "U81335.1_f0\n",
      "EF362642.1_f0\n",
      "KF471523.1_f0\n",
      "EF362717.1_f0\n",
      "HM637771.1_f0\n",
      "EU851896.1_f0\n",
      "GU477775.1_f0\n",
      "KF471516.1_f0\n",
      "EF362643.1_f0\n",
      "EF362639.1_f0\n",
      "KF471518.1_f0\n",
      "KP234022.1_f0\n",
      "KF471524.1_f0\n",
      "KF471520.1_f0\n",
      "KP171705.1_f0\n",
      "EF362708.1_f0\n"
     ]
    }
   ],
   "source": [
    "from Bio import SeqIO\n",
    "\n",
    "short_seq = open(\"amphib_short_to_align_SATIVA.fasta\", \"rU\")\n",
    "sequences = []\n",
    "\n",
    "for r in SeqIO.parse(short_seq, \"fasta\"):\n",
    "    print(r.id)"
   ]
  },
  {
   "cell_type": "markdown",
   "metadata": {},
   "source": [
    "If record IDs were not in the format Reprophylo expects for tree construction, the code cells below could be used to format them to be 'id_f0'."
   ]
  },
  {
   "cell_type": "code",
   "execution_count": 55,
   "metadata": {
    "collapsed": true
   },
   "outputs": [],
   "source": [
    "#temp_seq = []\n",
    "\n",
    "#for r in pj.records:\n",
    "    #if len(r.seq) < 500:\n",
    "        #temp_seq.append(r)\n",
    "\n",
    "#from Bio import SeqIO\n",
    "\n",
    "#out=open('short_to_align.fasta','w')\n",
    "#SeqIO.write(temp_seq, out, 'fasta')\n",
    "#out.close()"
   ]
  },
  {
   "cell_type": "code",
   "execution_count": 56,
   "metadata": {
    "collapsed": true
   },
   "outputs": [],
   "source": [
    "#from Bio import SeqIO\n",
    "\n",
    "#short_seq = open(\"short_to_align.fasta\", \"rU\")\n",
    "#sequences = []\n",
    "\n",
    "#for r in SeqIO.parse(short_seq, \"fasta\"):\n",
    "    #print(r.id)\n",
    "    #r.description = r.id+'_f0'\n",
    "    #r.id = r.description\n",
    "    #print r.description\n",
    "    #sequences.append(r)\n",
    "\n",
    "\n",
    "#out = open(\"seq_to_align.fasta\", \"w\")\n",
    "#SeqIO.write(sequences, out, \"fasta\")\n",
    "#out.close()"
   ]
  },
  {
   "cell_type": "markdown",
   "metadata": {},
   "source": [
    "Check that sequences in reprophylo project have not been altered."
   ]
  },
  {
   "cell_type": "code",
   "execution_count": 57,
   "metadata": {
    "collapsed": false
   },
   "outputs": [
    {
     "name": "stdout",
     "output_type": "stream",
     "text": [
      "AY322321.1\n",
      "Rana lessonae 12S ribosomal RNA gene, partial sequence; tRNA-Val (trnV) gene, complete sequence; and 16S ribosomal RNA gene, partial sequence; mitochondrial genes for mitochondrial products.\n",
      "FJ595208.1\n",
      "Rana ridibunda 12S ribosomal RNA gene, partial sequence; mitochondrial.\n",
      "AY347451.1\n",
      "Discoglossus pictus pictus haplotype ph3 12S ribosomal RNA gene, partial sequence; mitochondrial.\n",
      "AF161036.1\n",
      "Rana temporaria 12S ribosomal RNA gene, partial sequence; mitochondrial gene for mitochondrial product.\n",
      "AJ440767.1\n",
      "Discoglossus pictus mitochondrion partial 12S rRNA gene.\n",
      "KP109553.1\n",
      "Hyla arborea isolate H523 12S ribosomal RNA gene, partial sequence; mitochondrial.\n",
      "KX269198.1\n",
      "Rana dalmatina isolate MSUZP-NPUA-R-21-1 12S ribosomal RNA gene, partial sequence; tRNA-Val gene, complete sequence; and 16S ribosomal RNA gene, partial sequence; mitochondrial.\n",
      "AJ222711.1\n",
      "Rana ridibunda mitochondrial 12S rRNA gene, isolated from Ashkhabad (Turkmenistan) and Uzbekistan.\n",
      "AY333688.1\n",
      "Bombina variegata isolate Bvs06 12S ribosomal RNA gene, partial sequence; mitochondrial gene for mitochondrial product.\n",
      "KF645375.1\n",
      "Salamandra salamandra alfredschmidti isolate SS 56 12S ribosomal RNA gene, partial sequence; tRNA-Val gene, complete sequence; and 16S ribosomal RNA gene, partial sequence; mitochondrial.\n",
      "AY347456.1\n",
      "Discoglossus pictus auritus haplotype ph10 12S ribosomal RNA gene, partial sequence; mitochondrial.\n",
      "AY043038.1\n",
      "Rana dalmatina 12S ribosomal RNA gene, partial sequence; mitochondrial gene for mitochondrial product.\n",
      "EU116959.1\n",
      "Hydromantes genei isolate E3056.8 12S ribosomal RNA gene, partial sequence; mitochondrial.\n",
      "X95493.1\n",
      "R.lessonae mitochondrial 12S ribosomal RNA.\n",
      "AY347452.1\n",
      "Discoglossus pictus auritus haplotype ph4 12S ribosomal RNA gene, partial sequence; mitochondrial.\n",
      "AB023395.1\n",
      "Rana lessonae mitochondrial gene for 12S rRNA, partial sequence, strain:Luxembourg.\n",
      "AF218718.1\n",
      "Rana catesbeiana 12S ribosomal RNA gene, partial sequence; mitochondrial gene for mitochondrial product.\n",
      "AY333663.1\n",
      "Bombina bombina isolate Bb02 12S ribosomal RNA gene, partial sequence; mitochondrial gene for mitochondrial product.\n",
      "AB023396.1\n",
      "Rana esculenta mitochondrial gene for 12S rRNA, partial sequence.\n",
      "AY222458.1\n",
      "Salamandra salamandra morenica E171243 12S ribosomal RNA gene, partial sequence; mitochondrial gene for mitochondrial product.\n",
      "KF664850.1\n",
      "Epidalea calamita voucher vg07119 12S ribosomal RNA gene, partial sequence; mitochondrial.\n",
      "AY333653.1\n",
      "Bombina variegata kolombatovici 12S ribosomal RNA gene, partial sequence; mitochondrial gene for mitochondrial product.\n",
      "KP109559.1\n",
      "Hyla arborea isolate HJ57 12S ribosomal RNA gene, partial sequence; mitochondrial.\n",
      "KF645417.1\n",
      "Salamandra salamandra isolate FS2 12S ribosomal RNA gene, partial sequence; mitochondrial.\n",
      "AY333665.1\n",
      "Bombina variegata isolate Bvs03 12S ribosomal RNA gene, partial sequence; mitochondrial gene for mitochondrial product.\n",
      "AY147254.1\n",
      "Triturus vulgaris meridionalis 12S ribosomal RNA gene, partial sequence; mitochondrial gene for mitochondrial product.\n",
      "KF645409.1\n",
      "Salamandra salamandra isolate FS12 12S ribosomal RNA gene, partial sequence; tRNA-Val gene, complete sequence; and 16S ribosomal RNA gene, partial sequence; mitochondrial.\n",
      "AY147256.1\n",
      "Triturus alpestris 12S ribosomal RNA gene, partial sequence; mitochondrial gene for mitochondrial product.\n",
      "U04702.1\n",
      "Triturus carnifex mitochondrion 12S rRNA gene, partial sequence.\n",
      "DQ092285.1\n",
      "Salamandra salamandra bernardezi isolate E1712.19 12S ribosomal RNA gene, partial sequence; mitochondrial.\n",
      "KF645408.1\n",
      "Salamandra salamandra isolate FS10 12S ribosomal RNA gene, partial sequence; tRNA-Val gene, complete sequence; and 16S ribosomal RNA gene, partial sequence; mitochondrial.\n",
      "AJ222710.1\n",
      "Rana ridibunda mitochondrial 12S rRNA gene, isolated from Georgia.\n",
      "AY333669.1\n",
      "Alytes obstetricans boscai 12S ribosomal RNA gene, partial sequence; mitochondrial gene for mitochondrial product.\n",
      "AY880481.1\n",
      "Rana temporaria 12S ribosomal RNA gene, partial sequence; mitochondrial.\n",
      "AY347457.1\n",
      "Discoglossus pictus auritus haplotype ph9 12S ribosomal RNA gene, partial sequence; mitochondrial.\n",
      "AY333687.1\n",
      "Bombina variegata isolate Bvs05 12S ribosomal RNA gene, partial sequence; mitochondrial gene for mitochondrial product.\n",
      "X86235.1\n",
      "Discoglossus pictus mitochondrial partial 12S rRNA gene.\n",
      "AY347458.1\n",
      "Discoglossus pictus auritus haplotype ph8 12S ribosomal RNA gene, partial sequence; mitochondrial.\n",
      "DQ221219.1\n",
      "Salamandra salamandra almanzoris isolate E1712.17 12S ribosomal RNA gene, partial sequence; mitochondrial.\n",
      "FJ595204.1\n",
      "Rana ridibunda 12S ribosomal RNA gene, partial sequence; mitochondrial.\n",
      "KF645371.1\n",
      "Salamandra salamandra gigliolii isolate SPM 780 12S ribosomal RNA gene, partial sequence; tRNA-Val gene, complete sequence; and 16S ribosomal RNA gene, partial sequence; mitochondrial.\n",
      "AY333655.1\n",
      "Bombina variegata isolate Bvs02 12S ribosomal RNA gene, partial sequence; mitochondrial gene for mitochondrial product.\n",
      "AB023397.1\n",
      "Rana ridibunda mitochondrial gene for 12S rRNA, partial sequence.\n",
      "AY333683.1\n",
      "Discoglossus pictus isolate Dpa01 12S ribosomal RNA gene, partial sequence; mitochondrial gene for mitochondrial product.\n",
      "X95494.1\n",
      "R.ridibunda mitochondrial 12S ribosomal RNA.\n",
      "U04704.1\n",
      "Triturus vulgaris mitochondrion 12S rRNA gene, partial sequence.\n",
      "AY880461.1\n",
      "Rana temporaria 12S ribosomal RNA gene, partial sequence; mitochondrial.\n",
      "KP109558.1\n",
      "Hyla arborea isolate H463 12S ribosomal RNA gene, partial sequence; mitochondrial.\n",
      "AY043041.1\n",
      "Rana temporaria 12S ribosomal RNA gene, partial sequence; mitochondrial gene for mitochondrial product.\n",
      "DQ092298.1\n",
      "Triturus alpestris inexpectatus isolate E1806.1 12S ribosomal RNA gene, partial sequence; mitochondrial.\n",
      "KF645367.1\n",
      "Salamandra salamandra longirostris isolate Sei3 12S ribosomal RNA gene, partial sequence; tRNA-Val gene, complete sequence; and 16S ribosomal RNA gene, partial sequence; mitochondrial.\n",
      "DQ221215.1\n",
      "Salamandra salamandra gallaica isolate E7110.11 12S ribosomal RNA gene, partial sequence; mitochondrial.\n",
      "KF645365.1\n",
      "Salamandra salamandra salamandra isolate GAR 02 12S ribosomal RNA gene, partial sequence; tRNA-Val gene, complete sequence; and 16S ribosomal RNA gene, partial sequence; mitochondrial.\n",
      "AY347455.1\n",
      "Discoglossus pictus auritus haplotype ph7 12S ribosomal RNA gene, partial sequence; mitochondrial.\n",
      "AY333684.1\n",
      "Discoglossus pictus isolate Dpa02 12S ribosomal RNA gene, partial sequence; mitochondrial gene for mitochondrial product.\n",
      "AY347454.1\n",
      "Discoglossus pictus auritus haplotype ph6 12S ribosomal RNA gene, partial sequence; mitochondrial.\n",
      "AY043034.1\n",
      "Rana lessonae 12S ribosomal RNA gene, partial sequence; mitochondrial gene for mitochondrial product.\n",
      "AJ440762.1\n",
      "Bombina bombina mitochondrion partial 12S rRNA gene.\n",
      "FJ602097.1\n",
      "Hydromantes genei isolate 10 12S ribosomal RNA gene, partial sequence; mitochondrial.\n",
      "DQ092286.1\n",
      "Triturus helveticus isolate E1806.17 12S ribosomal RNA gene, partial sequence; mitochondrial.\n",
      "AY333664.1\n",
      "Bombina variegata variegata 12S ribosomal RNA gene, partial sequence; mitochondrial gene for mitochondrial product.\n",
      "AY043032.1\n",
      "Rana ridibunda 12S ribosomal RNA gene, partial sequence; mitochondrial gene for mitochondrial product.\n",
      "KP109557.1\n",
      "Hyla arborea isolate H459 12S ribosomal RNA gene, partial sequence; mitochondrial.\n",
      "KF645373.1\n",
      "Salamandra salamandra alfredschmidti isolate SS 57 12S ribosomal RNA gene, partial sequence; tRNA-Val gene, complete sequence; and 16S ribosomal RNA gene, partial sequence; mitochondrial.\n",
      "KF645370.1\n",
      "Salamandra salamandra morenica isolate SS 34 12S ribosomal RNA gene, partial sequence; tRNA-Val gene, complete sequence; and 16S ribosomal RNA gene, partial sequence; mitochondrial.\n",
      "AY333666.1\n",
      "Alytes obstetricans 12S ribosomal RNA gene, partial sequence; mitochondrial gene for mitochondrial product.\n",
      "AB159478.1\n",
      "Bufo bufo mitochondrial genes for tRNA-Leu(CUN), tRNA-Thr, tRNA-Pro, tRNA-Phe, and 12S rRNA, complete and partial sequence, haplotype:B.bufo.\n",
      "KP109555.1\n",
      "Hyla arborea isolate H524 12S ribosomal RNA gene, partial sequence; mitochondrial.\n",
      "DQ221220.1\n",
      "Salamandra salamandra bernardezi isolate E1712.20 12S ribosomal RNA gene, partial sequence; mitochondrial.\n",
      "DQ221216.1\n",
      "Salamandra salamandra bejarae isolate E1712.44 12S ribosomal RNA gene, partial sequence; mitochondrial.\n",
      "AY347450.1\n",
      "Discoglossus pictus pictus haplotype ph1 12S ribosomal RNA gene, partial sequence; mitochondrial.\n",
      "AF124103.1\n",
      "Rana temporaria 12S ribosomal RNA gene, partial sequence; mitochondrial gene for mitochondrial product.\n",
      "AJ309142.1\n",
      "Rana ridibunda mitochondrial partial 12S rRNA gene (Albania:Durres).\n",
      "AY779191.1\n",
      "Rana temporaria voucher DMH 84-R1 12S ribosomal RNA gene, partial sequence; tRNA-Val gene, complete sequence; and 16S ribosomal RNA gene, partial sequence; mitochondrial.\n",
      "KP109552.1\n",
      "Hyla arborea isolate H211 12S ribosomal RNA gene, partial sequence; mitochondrial.\n",
      "KF645366.1\n",
      "Salamandra salamandra gallaica isolate Sei 6 12S ribosomal RNA gene, partial sequence; tRNA-Val gene, complete sequence; and 16S ribosomal RNA gene, partial sequence; mitochondrial.\n",
      "DQ221225.1\n",
      "Salamandra salamandra corsica isolate E3009.18 12S ribosomal RNA gene, partial sequence; mitochondrial.\n",
      "AY333686.1\n",
      "Discoglossus pictus isolate Dpp01 12S ribosomal RNA gene, partial sequence; mitochondrial gene for mitochondrial product.\n",
      "KF645364.1\n",
      "Salamandra salamandra fastuosa isolate SS 59 12S ribosomal RNA gene, partial sequence; tRNA-Val gene, complete sequence; and 16S ribosomal RNA gene, partial sequence; mitochondrial.\n",
      "DQ221223.1\n",
      "Salamandra salamandra longirostris isolate E1712.37 12S ribosomal RNA gene, partial sequence; mitochondrial.\n",
      "EU116957.1\n",
      "Hydromantes genei isolate E10076.5 12S ribosomal RNA gene, partial sequence; mitochondrial.\n",
      "KP109556.1\n",
      "Hyla arborea isolate H489 12S ribosomal RNA gene, partial sequence; mitochondrial.\n",
      "AY347453.1\n",
      "Discoglossus pictus auritus haplotype ph5 12S ribosomal RNA gene, partial sequence; mitochondrial.\n",
      "EU116960.1\n",
      "Hydromantes genei isolate E1037.1 12S ribosomal RNA gene, partial sequence; mitochondrial.\n",
      "M13046.1\n",
      "X.laevis mitochondrial origin of replication region containing the D-loop, Phe-tRNA, Pro-tRNA, 12S rRNA genes.\n",
      "AB023394.1\n",
      "Rana lessonae mitochondrial gene for 12S rRNA, partial sequence, strain:Italy.\n",
      "KP109554.1\n",
      "Hyla arborea isolate H288 12S ribosomal RNA gene, partial sequence; mitochondrial.\n",
      "AY222459.1\n",
      "Salamandra salamandra terrestris E171249 12S ribosomal RNA gene, partial sequence; mitochondrial gene for mitochondrial product.\n",
      "AY347459.1\n",
      "Discoglossus pictus auritus haplotype ph2 12S ribosomal RNA gene, partial sequence; mitochondrial.\n",
      "KT074476.1\n",
      "Rana temporaria voucher TE_OIA05 12S ribosomal RNA gene, partial sequence; mitochondrial.\n",
      "AF224726.1\n",
      "Alytes obstetricans boscai 12S ribosomal RNA gene, partial sequence; mitochondrial gene for mitochondrial product.\n",
      "DQ885561.1\n",
      "Gallus gallus murghi 12S ribosomal RNA gene, partial sequence; mitochondrial.\n",
      "JN695757.1\n",
      "Gallus gallus isolate S28 12S ribosomal RNA gene, partial sequence; mitochondrial.\n",
      "EF362674.1\n",
      "Gallus gallus isolate bar1-38 D-loop, partial sequence; tRNA-Phe gene, complete sequence; and 12S ribosomal RNA gene, partial sequence; mitochondrial.\n",
      "KF484729.1\n",
      "Gallus gallus clone 1 12S ribosomal RNA gene, partial sequence; mitochondrial.\n",
      "AJ849444.2\n",
      "Gallus gallus mitochondrial partial 12S rRNA gene.\n",
      "KF471521.1\n",
      "Gallus gallus 12S ribosomal RNA gene, partial sequence; mitochondrial.\n",
      "EF432760.1\n",
      "Gallus gallus isolate bar1-37 D-loop, partial sequence; tRNA-Phe gene, complete sequence; and 12S ribosomal RNA gene, partial sequence; mitochondrial.\n",
      "U81335.1\n",
      "Chelydra serpentina 12S mitochondrial ribosomal RNA, small subunit, mitochondrial gene, partial sequence.\n",
      "EF362642.1\n",
      "Gallus gallus isolate bar1-5 D-loop, partial sequence; tRNA-Phe gene, complete sequence; and 12S ribosomal RNA gene, partial sequence; mitochondrial.\n",
      "KF471523.1\n",
      "Gallus gallus 12S ribosomal RNA gene, partial sequence; mitochondrial.\n",
      "EF362717.1\n",
      "Gallus gallus isolate bar3-34 12S ribosomal RNA and tRNA-Val genes, partial sequence; mitochondrial.\n",
      "HM637771.1\n",
      "Gallus gallus 12S ribosomal RNA gene, partial sequence; mitochondrial.\n",
      "EU851896.1\n",
      "Gallus gallus isolate Gallus1 12S ribosomal RNA gene, partial sequence; mitochondrial.\n",
      "GU477775.1\n",
      "Chelydra serpentina 12S ribosomal RNA gene, partial sequence; mitochondrial.\n",
      "KF471516.1\n",
      "Gallus gallus 12S ribosomal RNA gene, partial sequence; mitochondrial.\n",
      "EF362643.1\n",
      "Gallus gallus isolate bar1-26 D-loop, partial sequence; tRNA-Phe gene, complete sequence; and 12S ribosomal RNA gene, partial sequence; mitochondrial.\n",
      "EF362639.1\n",
      "Gallus gallus isolate bar1-1 D-loop, partial sequence; tRNA-Phe gene, complete sequence; and 12S ribosomal RNA gene, partial sequence; mitochondrial.\n",
      "KF471518.1\n",
      "Gallus gallus 12S ribosomal RNA gene, partial sequence; mitochondrial.\n",
      "KP234022.1\n",
      "Gallus gallus isolate GG clone J3 12S ribosomal RNA gene, partial sequence; mitochondrial.\n",
      "KF471524.1\n",
      "Gallus gallus 12S ribosomal RNA gene, partial sequence; mitochondrial.\n",
      "KF471520.1\n",
      "Gallus gallus 12S ribosomal RNA gene, partial sequence; mitochondrial.\n",
      "KP171705.1\n",
      "Gallus gallus 12S ribosomal RNA gene, partial sequence; mitochondrial.\n",
      "EF362708.1\n",
      "Gallus gallus isolate bar3-21 12S ribosomal RNA and tRNA-Val genes, partial sequence; mitochondrial.\n"
     ]
    }
   ],
   "source": [
    "for r in pj.records:\n",
    "    if len(r.seq) < 500:\n",
    "        print r.id\n",
    "        print r.description"
   ]
  },
  {
   "cell_type": "markdown",
   "metadata": {},
   "source": [
    "Pickle the project."
   ]
  },
  {
   "cell_type": "code",
   "execution_count": 58,
   "metadata": {
    "collapsed": false
   },
   "outputs": [
    {
     "data": {
      "text/plain": [
       "'amphib_post_SATIVA.pkl'"
      ]
     },
     "execution_count": 58,
     "metadata": {},
     "output_type": "execute_result"
    }
   ],
   "source": [
    "pickle_pj(pj, 'amphib_post_SATIVA.pkl')"
   ]
  },
  {
   "cell_type": "markdown",
   "metadata": {},
   "source": [
    "# Add short sequences to reference alignment"
   ]
  },
  {
   "cell_type": "code",
   "execution_count": 2,
   "metadata": {
    "collapsed": false
   },
   "outputs": [
    {
     "name": "stdout",
     "output_type": "stream",
     "text": [
      "# hmmbuild :: profile HMM construction from multiple sequence alignments\n",
      "# HMMER 3.1b1 (May 2013); http://hmmer.org/\n",
      "# Copyright (C) 2013 Howard Hughes Medical Institute.\n",
      "# Freely distributed under the GNU General Public License (GPLv3).\n",
      "# - - - - - - - - - - - - - - - - - - - - - - - - - - - - - - - - - - - -\n",
      "# input alignment file:             500bp_amphib_align_SATIVA.fasta\n",
      "# output HMM file:                  12S_amphib_ref_SATIVA.hmm\n",
      "# - - - - - - - - - - - - - - - - - - - - - - - - - - - - - - - - - - - -\n",
      "\n",
      "# idx name                  nseq  alen  mlen     W eff_nseq re/pos description\n",
      "#---- -------------------- ----- ----- ----- ----- -------- ------ -----------\n",
      "1     500bp_amphib_align_SATIVA    86  1182   943  1143     2.61  0.450 \n",
      "\n",
      "# CPU time: 0.37u 0.00s 00:00:00.37 Elapsed: 00:00:00.38\n"
     ]
    }
   ],
   "source": [
    "!hmmbuild 12S_amphib_ref_SATIVA.hmm 500bp_amphib_align_SATIVA.fasta"
   ]
  },
  {
   "cell_type": "markdown",
   "metadata": {},
   "source": [
    "Now use hmmalign to align the short 12S rRNA sequences to the longer reference alignment."
   ]
  },
  {
   "cell_type": "code",
   "execution_count": 3,
   "metadata": {
    "collapsed": false
   },
   "outputs": [],
   "source": [
    "%%bash\n",
    "\n",
    "hmmalign -o 12S_amphib500bpref_plus_short_query_SATIVA.sto \\\n",
    "--mapali 500bp_amphib_align_SATIVA.fasta \\\n",
    "12S_amphib_ref_SATIVA.hmm amphib_short_to_align_SATIVA.fasta"
   ]
  },
  {
   "cell_type": "markdown",
   "metadata": {},
   "source": [
    "The hmmalign command has produced a file containing a new alignment of all 12S rRNA sequences (long and short) in stockholm output format. This must be converted to a more useful file format such as fasta or GenBank using the Seq command in BioPython."
   ]
  },
  {
   "cell_type": "code",
   "execution_count": 4,
   "metadata": {
    "collapsed": false
   },
   "outputs": [
    {
     "name": "stdout",
     "output_type": "stream",
     "text": [
      "Converted 198 records\n"
     ]
    }
   ],
   "source": [
    "from Bio import AlignIO\n",
    "\n",
    "input_file = open(\"12S_amphib500bpref_plus_short_query_SATIVA.sto\", \"rU\")\n",
    "output_file = open(\"12S_AmphibAlign_ALL_SATIVA.fasta\", \"w\")\n",
    "\n",
    "alignment = AlignIO.read(input_file, \"stockholm\")\n",
    "count = len(alignment)\n",
    "AlignIO.write(alignment, output_file, \"fasta\")\n",
    "\n",
    "output_file.close()\n",
    "input_file.close()\n",
    "print(\"Converted %i records\" % count)"
   ]
  },
  {
   "cell_type": "markdown",
   "metadata": {},
   "source": [
    "# Tree Building"
   ]
  },
  {
   "cell_type": "markdown",
   "metadata": {},
   "source": [
    "The fasta file containing the 12S rRNA amphibian sequence alignment must now be converted into a format which can be used for alignment trimming. The alignment must be parsed to an alignment object, aln."
   ]
  },
  {
   "cell_type": "code",
   "execution_count": 5,
   "metadata": {
    "collapsed": false
   },
   "outputs": [
    {
     "name": "stderr",
     "output_type": "stream",
     "text": [
      "DEBUG:Cloud:Log file (/root/.picloud/cloud.log) opened\n"
     ]
    }
   ],
   "source": [
    "pj=unpickle_pj('amphib_post_SATIVA.pkl', git=False)"
   ]
  },
  {
   "cell_type": "code",
   "execution_count": 6,
   "metadata": {
    "collapsed": false
   },
   "outputs": [
    {
     "name": "stdout",
     "output_type": "stream",
     "text": [
      "AB188189.1_f0 is 1559bp\n",
      "EF122793.1_f0 is 1559bp\n",
      "JN860636.1_f0 is 1559bp\n",
      "JN627421.1_f0 is 1559bp\n",
      "JN627426.1_f0 is 1559bp\n",
      "JN627422.1_f0 is 1559bp\n",
      "KC977226.1_f0 is 1559bp\n",
      "KC977215.1_f0 is 1559bp\n",
      "AY326063.1_f0 is 1559bp\n",
      "KC977206.1_f0 is 1559bp\n",
      "KC977218.1_f0 is 1559bp\n",
      "KC977222.1_f0 is 1559bp\n",
      "KC977217.1_f0 is 1559bp\n",
      "KC977220.1_f0 is 1559bp\n",
      "KC977225.1_f0 is 1559bp\n",
      "KC977204.1_f0 is 1559bp\n",
      "AB685766.1_f0 is 1559bp\n",
      "KC977224.1_f0 is 1559bp\n",
      "KF049927.1_f0 is 1559bp\n",
      "M57527.1_f0 is 1559bp\n",
      "D12694.1_f0 is 1559bp\n",
      "KU840522.1_f0 is 1559bp\n",
      "AB761267.1_f0 is 1559bp\n",
      "DQ055835.1_f0 is 1559bp\n",
      "AY843601.1_f0 is 1559bp\n",
      "AY325988.1_f0 is 1559bp\n",
      "DQ158438.1_f0 is 1559bp\n",
      "U52726.1_f0 is 1559bp\n",
      "EU938400.1_f0 is 1559bp\n",
      "EU880331.1_f0 is 1559bp\n",
      "AY928619.1_f0 is 1559bp\n",
      "EU880335.1_f0 is 1559bp\n",
      "EU880336.1_f0 is 1559bp\n",
      "EU880339.1_f0 is 1559bp\n",
      "KF471517.1_f0 is 1559bp\n",
      "EF373884.1_f0 is 1559bp\n",
      "EF373885.1_f0 is 1559bp\n",
      "EF373883.1_f0 is 1559bp\n",
      "KP211422.1_f0 is 1559bp\n",
      "EF373899.1_f0 is 1559bp\n",
      "AP003321.1_f0 is 1559bp\n",
      "FJ610338.1_f0 is 1559bp\n",
      "FJ610339.1_f0 is 1559bp\n",
      "KX512321.1_f0 is 1559bp\n",
      "EF373904.1_f0 is 1559bp\n",
      "KM886936.1_f0 is 1559bp\n",
      "AY235570.1_f0 is 1559bp\n",
      "GU261698.1_f0 is 1559bp\n",
      "GU261674.1_f0 is 1559bp\n",
      "AP003317.1_f0 is 1559bp\n",
      "GU261680.1_f0 is 1559bp\n",
      "GU261678.1_f0 is 1559bp\n",
      "GU261693.1_f0 is 1559bp\n",
      "AB086102.1_f0 is 1559bp\n",
      "GU261683.1_f0 is 1559bp\n",
      "KT626848.1_f0 is 1559bp\n",
      "KP211419.1_f0 is 1559bp\n",
      "GU261707.1_f0 is 1559bp\n",
      "GU261694.1_f0 is 1559bp\n",
      "AP003318.1_f0 is 1559bp\n",
      "KJ858774.1_f0 is 1559bp\n",
      "KJ858773.1_f0 is 1559bp\n",
      "AY585337.1_f0 is 1559bp\n",
      "KJ858770.1_f0 is 1559bp\n",
      "KJ858771.1_f0 is 1559bp\n",
      "KJ858772.1_f0 is 1559bp\n",
      "KJ858776.1_f0 is 1559bp\n",
      "KJ858778.1_f0 is 1559bp\n",
      "M10217.1_f0 is 1559bp\n",
      "Y10943.1_f0 is 1559bp\n",
      "M27605.1_f0 is 1559bp\n",
      "AY581639.1_f0 is 1559bp\n",
      "AY581648.1_f0 is 1559bp\n",
      "AY581644.1_f0 is 1559bp\n",
      "AY581640.1_f0 is 1559bp\n",
      "AY581638.1_f0 is 1559bp\n",
      "JQ626644.1_f0 is 1559bp\n",
      "JQ626643.1_f0 is 1559bp\n",
      "EU115993.1_f0 is 1559bp\n",
      "JX893172.1_f0 is 1559bp\n",
      "AY971143.1_f0 is 1559bp\n",
      "JX893174.1_f0 is 1559bp\n",
      "JX893175.1_f0 is 1559bp\n",
      "JX893178.1_f0 is 1559bp\n",
      "JX893176.1_f0 is 1559bp\n",
      "JX893177.1_f0 is 1559bp\n",
      "AY322321.1_f0 is 1559bp\n",
      "FJ595208.1_f0 is 1559bp\n",
      "AY347451.1_f0 is 1559bp\n",
      "AF161036.1_f0 is 1559bp\n",
      "AJ440767.1_f0 is 1559bp\n",
      "KP109553.1_f0 is 1559bp\n",
      "KX269198.1_f0 is 1559bp\n",
      "AJ222711.1_f0 is 1559bp\n",
      "AY333688.1_f0 is 1559bp\n",
      "KF645375.1_f0 is 1559bp\n",
      "AY347456.1_f0 is 1559bp\n",
      "AY043038.1_f0 is 1559bp\n",
      "EU116959.1_f0 is 1559bp\n",
      "X95493.1_f0 is 1559bp\n",
      "AY347452.1_f0 is 1559bp\n",
      "AB023395.1_f0 is 1559bp\n",
      "AF218718.1_f0 is 1559bp\n",
      "AY333663.1_f0 is 1559bp\n",
      "AY222458.1_f0 is 1559bp\n",
      "KF664850.1_f0 is 1559bp\n",
      "AY333653.1_f0 is 1559bp\n",
      "KP109559.1_f0 is 1559bp\n",
      "KF645417.1_f0 is 1559bp\n",
      "AY333665.1_f0 is 1559bp\n",
      "AY147254.1_f0 is 1559bp\n",
      "KF645409.1_f0 is 1559bp\n",
      "AY147256.1_f0 is 1559bp\n",
      "U04702.1_f0 is 1559bp\n",
      "DQ092285.1_f0 is 1559bp\n",
      "KF645408.1_f0 is 1559bp\n",
      "AJ222710.1_f0 is 1559bp\n",
      "AY333669.1_f0 is 1559bp\n",
      "AY880481.1_f0 is 1559bp\n",
      "AY347457.1_f0 is 1559bp\n",
      "AY333687.1_f0 is 1559bp\n",
      "X86235.1_f0 is 1559bp\n",
      "AY347458.1_f0 is 1559bp\n",
      "DQ221219.1_f0 is 1559bp\n",
      "FJ595204.1_f0 is 1559bp\n",
      "KF645371.1_f0 is 1559bp\n",
      "AY333655.1_f0 is 1559bp\n",
      "AB023397.1_f0 is 1559bp\n",
      "AY333683.1_f0 is 1559bp\n",
      "U04704.1_f0 is 1559bp\n",
      "AY880461.1_f0 is 1559bp\n",
      "KP109558.1_f0 is 1559bp\n",
      "AY043041.1_f0 is 1559bp\n",
      "DQ092298.1_f0 is 1559bp\n",
      "KF645367.1_f0 is 1559bp\n",
      "DQ221215.1_f0 is 1559bp\n",
      "KF645365.1_f0 is 1559bp\n",
      "AY347455.1_f0 is 1559bp\n",
      "AY333684.1_f0 is 1559bp\n",
      "AY347454.1_f0 is 1559bp\n",
      "AY043034.1_f0 is 1559bp\n",
      "AJ440762.1_f0 is 1559bp\n",
      "FJ602097.1_f0 is 1559bp\n",
      "DQ092286.1_f0 is 1559bp\n",
      "AY333664.1_f0 is 1559bp\n",
      "AY043032.1_f0 is 1559bp\n",
      "KP109557.1_f0 is 1559bp\n",
      "KF645373.1_f0 is 1559bp\n",
      "KF645370.1_f0 is 1559bp\n",
      "AY333666.1_f0 is 1559bp\n",
      "AB159478.1_f0 is 1559bp\n",
      "KP109555.1_f0 is 1559bp\n",
      "DQ221220.1_f0 is 1559bp\n",
      "DQ221216.1_f0 is 1559bp\n",
      "AY347450.1_f0 is 1559bp\n",
      "AF124103.1_f0 is 1559bp\n",
      "AJ309142.1_f0 is 1559bp\n",
      "AY779191.1_f0 is 1559bp\n",
      "KP109552.1_f0 is 1559bp\n",
      "KF645366.1_f0 is 1559bp\n",
      "DQ221225.1_f0 is 1559bp\n",
      "AY333686.1_f0 is 1559bp\n",
      "KF645364.1_f0 is 1559bp\n",
      "DQ221223.1_f0 is 1559bp\n",
      "EU116957.1_f0 is 1559bp\n",
      "KP109556.1_f0 is 1559bp\n",
      "AY347453.1_f0 is 1559bp\n",
      "EU116960.1_f0 is 1559bp\n",
      "M13046.1_f0 is 1559bp\n",
      "AB023394.1_f0 is 1559bp\n",
      "KP109554.1_f0 is 1559bp\n",
      "AY222459.1_f0 is 1559bp\n",
      "AY347459.1_f0 is 1559bp\n",
      "KT074476.1_f0 is 1559bp\n",
      "AF224726.1_f0 is 1559bp\n",
      "DQ885561.1_f0 is 1559bp\n",
      "JN695757.1_f0 is 1559bp\n",
      "EF362674.1_f0 is 1559bp\n",
      "KF484729.1_f0 is 1559bp\n",
      "AJ849444.2_f0 is 1559bp\n",
      "KF471521.1_f0 is 1559bp\n",
      "EF432760.1_f0 is 1559bp\n",
      "U81335.1_f0 is 1559bp\n",
      "EF362642.1_f0 is 1559bp\n",
      "KF471523.1_f0 is 1559bp\n",
      "EF362717.1_f0 is 1559bp\n",
      "HM637771.1_f0 is 1559bp\n",
      "EU851896.1_f0 is 1559bp\n",
      "GU477775.1_f0 is 1559bp\n",
      "KF471516.1_f0 is 1559bp\n",
      "EF362643.1_f0 is 1559bp\n",
      "EF362639.1_f0 is 1559bp\n",
      "KF471518.1_f0 is 1559bp\n",
      "KP234022.1_f0 is 1559bp\n",
      "KF471524.1_f0 is 1559bp\n",
      "KF471520.1_f0 is 1559bp\n",
      "KP171705.1_f0 is 1559bp\n",
      "EF362708.1_f0 is 1559bp\n"
     ]
    }
   ],
   "source": [
    "from Bio import AlignIO\n",
    "from Bio.Alphabet import generic_dna\n",
    "\n",
    "aln = AlignIO.read(open(\"12S_amphib500bpref_plus_short_query_SATIVA.sto\"), \"stockholm\", alphabet=generic_dna)\n",
    "for r in aln:\n",
    "    print(r.id + \" is \" + str(len(r)) + \"bp\")"
   ]
  },
  {
   "cell_type": "code",
   "execution_count": 7,
   "metadata": {
    "collapsed": true
   },
   "outputs": [],
   "source": [
    "pj.alignments['rrnS@amphib_align_allseq_SATIVA'] = aln"
   ]
  },
  {
   "cell_type": "code",
   "execution_count": 8,
   "metadata": {
    "collapsed": false
   },
   "outputs": [
    {
     "data": {
      "text/plain": [
       "{'rrnS@amphib_align_allseq_SATIVA': <<class 'Bio.Align.MultipleSeqAlignment'> instance (198 records of length 1559, DNAAlphabet()) at 7f3b048f3f50>,\n",
       " 'rrnS@muscleDefault-500bp-SATIVA': <<class 'Bio.Align.MultipleSeqAlignment'> instance (86 records of length 1291, IUPACProtein()) at 7f3b04916790>}"
      ]
     },
     "execution_count": 8,
     "metadata": {},
     "output_type": "execute_result"
    }
   ],
   "source": [
    "pj.alignments"
   ]
  },
  {
   "cell_type": "code",
   "execution_count": 9,
   "metadata": {
    "collapsed": false
   },
   "outputs": [
    {
     "data": {
      "text/plain": [
       "['rrnS@amphib_align_allseq_SATIVA', 'rrnS@muscleDefault-500bp-SATIVA']"
      ]
     },
     "execution_count": 9,
     "metadata": {},
     "output_type": "execute_result"
    }
   ],
   "source": [
    "pj.alignments.keys()"
   ]
  },
  {
   "cell_type": "markdown",
   "metadata": {},
   "source": [
    "Trim the alignment."
   ]
  },
  {
   "cell_type": "code",
   "execution_count": 10,
   "metadata": {
    "collapsed": false
   },
   "outputs": [
    {
     "name": "stdout",
     "output_type": "stream",
     "text": [
      "trimal -in 506711477489096.71_rrnS@amphib_align_allseq_SATIVA.fasta -gappyout\n"
     ]
    }
   ],
   "source": [
    "gappyout = TrimalConf(pj,                      # The Project\n",
    "\n",
    "                      method_name='gappyout',  # Any unique string \n",
    "                                               # ('gappyout' is default)\n",
    "\n",
    "                      program_name='trimal',   # No alternatives in \n",
    "                                               # this ReproPhylo version\n",
    "\n",
    "                      cmd='default',           # the default is trimal. \n",
    "                                               # Change it here\n",
    "                                               # or in pj.defaults['trimal']\n",
    "\n",
    "                      alns=['rrnS@amphib_align_allseq_SATIVA'],# 'all' by default\n",
    "\n",
    "                      trimal_commands={'gappyout': True} # By default, the gappyout algorithm is used.\n",
    "                      )"
   ]
  },
  {
   "cell_type": "code",
   "execution_count": 11,
   "metadata": {
    "collapsed": true
   },
   "outputs": [],
   "source": [
    "pj.trim([gappyout])"
   ]
  },
  {
   "cell_type": "code",
   "execution_count": 12,
   "metadata": {
    "collapsed": false
   },
   "outputs": [
    {
     "name": "stdout",
     "output_type": "stream",
     "text": [
      "TrimalConf named gappyout with ID 506711477489096.71\n",
      "Alignments: rrnS@amphib_align_allseq_SATIVA \n",
      "Created on: Wed Oct 26 13:38:16 2016\n",
      "Commands:\n",
      "rrnS@amphib_align_allseq_SATIVA@gappyout: trimal -in 506711477489096.71_rrnS@amphib_align_allseq_SATIVA.fasta -gappyout\n",
      "\n",
      "Environment:Platform: Linux-4.4.0-38-generic-x86_64-with-Ubuntu-14.04-trusty\n",
      " Processor: x86_64\n",
      " Python build: defaultMar 22 2014 22:59:56\n",
      " Python compiler: GCC 4.8.2\n",
      " Python implementation: CPython\n",
      " Python version: 2.7.6\n",
      " ete2 version: 2.2.1072\n",
      " biopython version: 1.68\n",
      " dendropy version: 3.12.2\n",
      " cloud version: 2.8.5\n",
      " reprophylo version 1.3\n",
      " User: biopc4\n",
      " Program and version: trimAl 1.2rev59\n",
      " Program reference: Salvador Capella-Gutierrez; Jose M. Silla-Martinez; Toni Gabaldon. trimAl: a tool for automated alignment trimming in large-scale phylogenetic analyses. Bioinformatics 2009 25: 1972-1973.\n",
      "execution time:\n",
      "1.96037101746\n",
      "\n",
      "==============================\n",
      "Core Methods section sentence:\n",
      "==============================\n",
      "The alignment(s) rrnS@amphib_align_allseq_SATIVA were trimmed using the program trimAl 1.2rev59 [1].\n",
      "\n",
      "Reference:\n",
      "Salvador Capella-Gutierrez; Jose M. Silla-Martinez; Toni Gabaldon. trimAl: a tool for automated alignment trimming in large-scale phylogenetic analyses. Bioinformatics 2009 25: 1972-1973.\n",
      "\n"
     ]
    }
   ],
   "source": [
    "print pj.used_methods['gappyout']"
   ]
  },
  {
   "cell_type": "code",
   "execution_count": 13,
   "metadata": {
    "collapsed": false
   },
   "outputs": [
    {
     "data": {
      "text/plain": [
       "{'rrnS@amphib_align_allseq_SATIVA@gappyout': <<class 'Bio.Align.MultipleSeqAlignment'> instance (198 records of length 1189, IUPACAmbiguousDNA()) at 7f3b04e9ec90>,\n",
       " 'rrnS@muscleDefault-500bp-SATIVA@gappyout': <<class 'Bio.Align.MultipleSeqAlignment'> instance (86 records of length 1182, IUPACAmbiguousDNA()) at 7f3b054f39d0>}"
      ]
     },
     "execution_count": 13,
     "metadata": {},
     "output_type": "execute_result"
    }
   ],
   "source": [
    "pj.trimmed_alignments"
   ]
  },
  {
   "cell_type": "code",
   "execution_count": 14,
   "metadata": {
    "collapsed": false
   },
   "outputs": [
    {
     "data": {
      "text/plain": [
       "['rrnS@muscleDefault-500bp-SATIVA@gappyout_trimmed_aln.fasta',\n",
       " 'rrnS@amphib_align_allseq_SATIVA@gappyout_trimmed_aln.fasta']"
      ]
     },
     "execution_count": 14,
     "metadata": {},
     "output_type": "execute_result"
    }
   ],
   "source": [
    "files = pj.write_trimmed_alns(id=['record_id','source_organism'],\n",
    "                                   format='fasta')\n",
    "files"
   ]
  },
  {
   "cell_type": "markdown",
   "metadata": {},
   "source": [
    "Infer Maximum Likelihood tree based on the clipped alignment. We are going to use RAxML.\n",
    "\n",
    "Configure RAxML."
   ]
  },
  {
   "cell_type": "code",
   "execution_count": 15,
   "metadata": {
    "collapsed": false
   },
   "outputs": [
    {
     "name": "stdout",
     "output_type": "stream",
     "text": [
      "raxmlHPC-PTHREADS-SSE3 -f a -m GTRGAMMA -n 280851477489120.51_rrnS@amphib_align_allseq_SATIVA@gappyout0 -p 987 -s 280851477489120.51_rrnS@amphib_align_allseq_SATIVA@gappyout.fasta -T 5 -x 315 -N 100\n"
     ]
    }
   ],
   "source": [
    "raxml = RaxmlConf(pj, method_name='raxml-muscleDefault-trimmed',\n",
    "                  program_name='raxmlHPC-PTHREADS-SSE3',\n",
    "                  keepfiles=True,\n",
    "                  cmd='raxmlHPC-PTHREADS-SSE3',\n",
    "                  preset='fa',\n",
    "                  alns=['rrnS@amphib_align_allseq_SATIVA@gappyout'],\n",
    "                  model='GAMMA',\n",
    "                  threads=5,\n",
    "                  cline_args={'-#': 100})"
   ]
  },
  {
   "cell_type": "code",
   "execution_count": 16,
   "metadata": {
    "collapsed": false
   },
   "outputs": [],
   "source": [
    "pj.tree([raxml])"
   ]
  },
  {
   "cell_type": "code",
   "execution_count": 17,
   "metadata": {
    "collapsed": false
   },
   "outputs": [
    {
     "name": "stdout",
     "output_type": "stream",
     "text": [
      "RaxmlConf named raxml-muscleDefault-trimmed with ID 280851477489120.51\n",
      "Alignments: rrnS@amphib_align_allseq_SATIVA@gappyout \n",
      "Created on: Wed Oct 26 13:38:40 2016\n",
      "Commands:\n",
      "rrnS@amphib_align_allseq_SATIVA@gappyout:\n",
      "raxmlHPC-PTHREADS-SSE3 -f a -m GTRGAMMA -n 280851477489120.51_rrnS@amphib_align_allseq_SATIVA@gappyout0 -p 987 -s 280851477489120.51_rrnS@amphib_align_allseq_SATIVA@gappyout.fasta -T 5 -x 315 -N 100\n",
      "\n",
      "Environment:\n",
      "Platform: Linux-4.4.0-38-generic-x86_64-with-Ubuntu-14.04-trusty\n",
      " Processor: x86_64\n",
      " Python build: defaultMar 22 2014 22:59:56\n",
      " Python compiler: GCC 4.8.2\n",
      " Python implementation: CPython\n",
      " Python version: 2.7.6\n",
      " ete2 version: 2.2.1072\n",
      " biopython version: 1.68\n",
      " dendropy version: 3.12.2\n",
      " cloud version: 2.8.5\n",
      " reprophylo version 1.3\n",
      " User: biopc4\n",
      " Program and version: raxmlHPC-PTHREADS-SSE3RAxML version 8.0.12\n",
      " Program reference: A. Stamatakis: RAxML Version 8: A tool for Phylogenetic Analysis and Post-Analysis of Large Phylogenies. In Bioinformatics\n",
      " 2014.\n",
      "execution time:\n",
      "1863.336128\n",
      "\n",
      "==============================\n",
      "Core Methods section sentence:\n",
      "==============================\n",
      "Phylogenetic trees were reconstructed from the dataset(s) rrnS@amphib_align_allseq_SATIVA@gappyout using the program raxmlHPC-PTHREADS-SSE3RAxML version 8.0.12 [1].\n",
      "\n",
      "Reference:\n",
      "A. Stamatakis: RAxML Version 8: A tool for Phylogenetic Analysis and Post-Analysis of Large Phylogenies. In Bioinformatics, 2014.\n",
      "\n"
     ]
    }
   ],
   "source": [
    "print pj.used_methods['raxml-muscleDefault-trimmed']"
   ]
  },
  {
   "cell_type": "code",
   "execution_count": 18,
   "metadata": {
    "collapsed": false
   },
   "outputs": [
    {
     "data": {
      "text/plain": [
       "['rrnS@muscleDefault-500bp-SATIVA@gappyout@raxml-muscleDefault-500bp-SATIVA-trimmed',\n",
       " 'rrnS@amphib_align_allseq_SATIVA@gappyout@raxml-muscleDefault-trimmed']"
      ]
     },
     "execution_count": 18,
     "metadata": {},
     "output_type": "execute_result"
    }
   ],
   "source": [
    "pj.trees.keys()"
   ]
  },
  {
   "cell_type": "markdown",
   "metadata": {},
   "source": [
    "Pickle the project."
   ]
  },
  {
   "cell_type": "code",
   "execution_count": 19,
   "metadata": {
    "collapsed": false
   },
   "outputs": [
    {
     "data": {
      "text/plain": [
       "'amphib_post_SATIVA.pkl'"
      ]
     },
     "execution_count": 19,
     "metadata": {},
     "output_type": "execute_result"
    }
   ],
   "source": [
    "pickle_pj(pj, 'amphib_post_SATIVA.pkl')"
   ]
  },
  {
   "cell_type": "markdown",
   "metadata": {},
   "source": [
    "# Visualise tree"
   ]
  },
  {
   "cell_type": "markdown",
   "metadata": {},
   "source": [
    "Now let's visualize the tree containing all 12S rRNA sequences with outliers identified by SATIVA removed.\n",
    "\n",
    "- Prepare tree annotation:\n",
    "- define outgroups\n",
    "- specify support coloration"
   ]
  },
  {
   "cell_type": "code",
   "execution_count": 20,
   "metadata": {
    "collapsed": true
   },
   "outputs": [],
   "source": [
    "pj.add_qualifier_from_source('organism')"
   ]
  },
  {
   "cell_type": "code",
   "execution_count": 21,
   "metadata": {
    "collapsed": true
   },
   "outputs": [],
   "source": [
    "for species in ['Chelydra','Cottus','Gallus']:\n",
    "    pj.if_this_then_that(species, 'organism', 'outgroup', 'outgroup',\n",
    "                         mode='part')"
   ]
  },
  {
   "cell_type": "code",
   "execution_count": 22,
   "metadata": {
    "collapsed": true
   },
   "outputs": [],
   "source": [
    "supports = {'black': [100,95],\n",
    "            'dimgray': [95,75],\n",
    "            'silver': [75,50]}"
   ]
  },
  {
   "cell_type": "code",
   "execution_count": 23,
   "metadata": {
    "collapsed": true
   },
   "outputs": [],
   "source": [
    "pj.clear_tree_annotations()\n",
    "pj.annotate('.', 'outgroup', 'outgroup', \n",
    "            ['source_organism', 'record_id'], \n",
    "            node_support_dict=supports, multifurc=10,\n",
    "            html='muscleDefault-trimmed-amphib-all-SATIVA-raxml.html')"
   ]
  },
  {
   "cell_type": "markdown",
   "metadata": {},
   "source": [
    "Create a static copy of the tree (the last *.png with the expected alignment id) for later."
   ]
  },
  {
   "cell_type": "code",
   "execution_count": 24,
   "metadata": {
    "collapsed": true
   },
   "outputs": [],
   "source": [
    "%%bash\n",
    "\n",
    "last_png=$(ls -hlrt *rrnS@amphib_align_allseq_SATIVA@gappyout.png | tail -n 1 | perl -ne 'chomp; @a=split(\" \"); print \"$a[-1]\"')\n",
    "cp $last_png rrnS_muscleDefault-trimmed-amphib-all-SATIVA-raxml.png"
   ]
  },
  {
   "cell_type": "markdown",
   "metadata": {},
   "source": [
    "Pickle the project."
   ]
  },
  {
   "cell_type": "code",
   "execution_count": 25,
   "metadata": {
    "collapsed": false
   },
   "outputs": [
    {
     "data": {
      "text/plain": [
       "'amphib_post_SATIVA.pkl'"
      ]
     },
     "execution_count": 25,
     "metadata": {},
     "output_type": "execute_result"
    }
   ],
   "source": [
    "pickle_pj(pj, 'amphib_post_SATIVA.pkl')"
   ]
  },
  {
   "cell_type": "markdown",
   "metadata": {},
   "source": [
    "Write out alignment for pplacer input. Need to modify record id - remove the '_f0' that is appended by Reprophylo."
   ]
  },
  {
   "cell_type": "code",
   "execution_count": 26,
   "metadata": {
    "collapsed": false
   },
   "outputs": [
    {
     "name": "stdout",
     "output_type": "stream",
     "text": [
      "returning trimmed alignment object rrnS@amphib_align_allseq_SATIVA@gappyout\n"
     ]
    }
   ],
   "source": [
    "from Bio import AlignIO\n",
    "\n",
    "aln = pj.fta('rrnS@amphib_align_allseq_SATIVA@gappyout')\n",
    "\n",
    "for r in aln:\n",
    "    r.id = \"_\".join(r.id.split(\"_\")[:-1])\n",
    "    r.description = r.id\n",
    "    \n",
    "out=open('../12S_UKamphibians_SATIVA_cleaned.alignment.fasta', 'w')\n",
    "AlignIO.write(aln, out, 'fasta')\n",
    "out.close()\n",
    "\n",
    "out=open('../12S_UKamphibians_SATIVA_cleaned.alignment.phylip', 'w')\n",
    "AlignIO.write(aln, out, 'phylip-relaxed')\n",
    "out.close()"
   ]
  }
 ],
 "metadata": {
  "kernelspec": {
   "display_name": "Python 2",
   "language": "python",
   "name": "python2"
  },
  "language_info": {
   "codemirror_mode": {
    "name": "ipython",
    "version": 2
   },
   "file_extension": ".py",
   "mimetype": "text/x-python",
   "name": "python",
   "nbconvert_exporter": "python",
   "pygments_lexer": "ipython2",
   "version": "2.7.6"
  }
 },
 "nbformat": 4,
 "nbformat_minor": 0
}
