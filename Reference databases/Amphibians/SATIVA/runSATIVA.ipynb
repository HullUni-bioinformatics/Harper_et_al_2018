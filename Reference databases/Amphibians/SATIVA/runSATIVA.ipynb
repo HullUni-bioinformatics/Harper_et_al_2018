{
 "cells": [
  {
   "cell_type": "markdown",
   "metadata": {},
   "source": [
    "Prepare input files.\n",
    "\n",
    "The ailgnment has been produced using Reprophylo (see notebook). We'll just cleanup the sequence headers and create a local copy."
   ]
  },
  {
   "cell_type": "code",
   "execution_count": 1,
   "metadata": {
    "collapsed": true
   },
   "outputs": [],
   "source": [
    "!cat ../fetch_clean_align_tree/trimmed_amphib_align_ALL.phy | sed 's/_f[0-9] / /' > alignment.phy"
   ]
  },
  {
   "cell_type": "markdown",
   "metadata": {},
   "source": [
    "The tax file has been generated from a Genbank file using this notebook."
   ]
  },
  {
   "cell_type": "code",
   "execution_count": 2,
   "metadata": {
    "collapsed": false
   },
   "outputs": [
    {
     "name": "stdout",
     "output_type": "stream",
     "text": [
      "AJ222711.1\tEukaryota;Chordata;Amphibia;Anura;Ranidae;Pelophylax;Pelophylax ridibundus\r\n",
      "AJ222710.1\tEukaryota;Chordata;Amphibia;Anura;Ranidae;Pelophylax;Pelophylax ridibundus\r\n",
      "FJ595208.1\tEukaryota;Chordata;Amphibia;Anura;Ranidae;Pelophylax;Pelophylax ridibundus\r\n",
      "FJ595204.1\tEukaryota;Chordata;Amphibia;Anura;Ranidae;Pelophylax;Pelophylax ridibundus\r\n",
      "AB023397.1\tEukaryota;Chordata;Amphibia;Anura;Ranidae;Pelophylax;Pelophylax ridibundus\r\n",
      "X95494.1\tEukaryota;Chordata;Amphibia;Anura;Ranidae;Pelophylax;Pelophylax ridibundus\r\n",
      "AY043032.1\tEukaryota;Chordata;Amphibia;Anura;Ranidae;Pelophylax;Pelophylax ridibundus\r\n",
      "JN627421.1\tEukaryota;Chordata;Amphibia;Anura;Ranidae;Pelophylax;Pelophylax ridibundus\r\n",
      "AJ309142.1\tEukaryota;Chordata;Amphibia;Anura;Ranidae;Pelophylax;Pelophylax ridibundus\r\n",
      "JN627425.1\tEukaryota;Chordata;Amphibia;Anura;Ranidae;Pelophylax;Pelophylax ridibundus\r\n"
     ]
    }
   ],
   "source": [
    "!head tax_for_SATIVA.tax"
   ]
  },
  {
   "cell_type": "markdown",
   "metadata": {},
   "source": [
    "Let's now run SATIVA."
   ]
  },
  {
   "cell_type": "code",
   "execution_count": 3,
   "metadata": {
    "collapsed": false,
    "scrolled": true
   },
   "outputs": [
    {
     "name": "stdout",
     "output_type": "stream",
     "text": [
      "\n",
      "SATIVA v0.9-55-g0cbb090, released on 2016-06-28. Last version: https://github.com/amkozlov/sativa \n",
      "By A.Kozlov and J.Zhang, the Exelixis Lab. Based on RAxML 8.2.3 by A.Stamatakis.\n",
      "\n",
      "SATIVA was called as follows:\n",
      "\n",
      "./sativa/sativa.py -s alignment.phy -t tax_for_SATIVA.tax -x zoo -n 12S -o ./ -T 5 -v\n",
      "\n",
      "Mislabels search is running with the following parameters:\n",
      " Alignment:                        alignment.phy\n",
      " Taxonomy:                         tax_for_SATIVA.tax\n",
      " Output directory:                 /home/working/Reference_Alignment/Amphibians/SATIVA\n",
      " Job name / output files prefix:   12S\n",
      " Model of rate heterogeneity:      AUTO\n",
      " Confidence cut-off:               0.000000\n",
      " Number of threads:                5\n",
      "\n",
      "*** STEP 1: Building the reference tree using provided alignment and taxonomic annotations ***\n",
      "\n",
      "=> Loading taxonomy from file: tax_for_SATIVA.tax ...\n",
      "\n",
      "==> Loading reference alignment from file: alignment.phy ...\n",
      "\n",
      "Guessing input format: not fasta\n",
      "Guessing input format: not phylip_relaxed\n",
      "===> Validating taxonomy and alignment ...\n",
      "\n",
      "NOTE: Following sequences are identical: KF645375.1, KF645373.1\n",
      "NOTE: Following sequences are identical: GU261694.1, AP003318.1\n",
      "\n",
      "NOTE: Found 2 sequence duplicates\n",
      "====> Building a multifurcating tree from taxonomy with 203 seqs ...\n",
      "\n",
      "Total nodes in resulting tree: 203\n",
      "=====> Building the reference alignment ...\n",
      "\n",
      "======> Saving the outgroup for later re-rooting ...\n",
      "\n",
      "Outgroup for rooting was saved to: /home/working/Reference_Alignment/Amphibians/SATIVA/sativa/tmp/12S_1477481707816/12S_outgr.tre, outgroup size: 1\n",
      "=======> Resolving multifurcation: choosing the best topology from 1 independent RAxML runs ...\n",
      "\n",
      "\n",
      "Reducing the alignment: \n",
      "\n",
      "/home/working/Reference_Alignment/Amphibians/SATIVA/sativa/raxml//run_raxml.sh -w /home/working/Reference_Alignment/Amphibians/SATIVA/sativa/tmp/12S_1477481707816 -T 5 -f c -s /home/working/Reference_Alignment/Amphibians/SATIVA/sativa/tmp/12S_1477481707816/12S_matrix.afa --no-dup-check -m GTRGAMMA -n reduce --verbose -p 13332\n",
      "\n",
      "\n",
      "Constrained ML inference: \n",
      "\n",
      "/home/working/Reference_Alignment/Amphibians/SATIVA/sativa/raxml//run_raxml.sh -w /home/working/Reference_Alignment/Amphibians/SATIVA/sativa/tmp/12S_1477481707816 -T 5 -s /home/working/Reference_Alignment/Amphibians/SATIVA/sativa/tmp/12S_1477481707816/12S_matrix.afa -g /home/working/Reference_Alignment/Amphibians/SATIVA/sativa/tmp/12S_1477481707816/12S_mfu.tre --no-seq-check -N 1 -m GTRGAMMA -n mfresolv_12S --verbose -p 326\n",
      "\n",
      "\n",
      "GAMMA-based logLH of the reference tree: -14865.501482\n",
      "\n",
      "========> Calling RAxML-EPA to obtain branch labels ...\n",
      "\n",
      "/home/working/Reference_Alignment/Amphibians/SATIVA/sativa/raxml//run_raxml.sh -w /home/working/Reference_Alignment/Amphibians/SATIVA/sativa/tmp/12S_1477481707816 -T 5 -s /home/working/Reference_Alignment/Amphibians/SATIVA/sativa/tmp/12S_1477481707816/12S_lblq.fa -t /home/working/Reference_Alignment/Amphibians/SATIVA/sativa/tmp/12S_1477481707816/12S_bfu.tre --no-seq-check -f y --epa-accumulated-threshold 0.999 -R /home/working/Reference_Alignment/Amphibians/SATIVA/sativa/tmp/12S_1477481707816/12S.opt -m GTRGAMMA -n epalbl_12S --verbose -p 26407\n",
      "\n",
      "=========> Post-processing the EPA tree (re-rooting, taxonomic labeling etc.) ...\n",
      "\n",
      "\n",
      "==========> Checking branch labels ...\n",
      "shared rank names before training: set(['Eukaryota', 'Chordata'])\n",
      "shared rank names after  training: set(['Eukaryota', 'Chordata'])\n",
      "\n",
      "==========> Saving the reference JSON file: ./12S.refjson\n",
      "\n",
      "Calculating the speciation rate...\n",
      "\n",
      "Writing down the reference file...\n",
      "\n",
      "*** STEP 2: Searching for mislabels ***\n",
      "\n",
      "Running the leave-one-sequence-out test...\n",
      "\n",
      "/home/working/Reference_Alignment/Amphibians/SATIVA/sativa/raxml//run_raxml.sh -w /home/working/Reference_Alignment/Amphibians/SATIVA/sativa/tmp/12S_1477481707816 -T 5 -s /home/working/Reference_Alignment/Amphibians/SATIVA/sativa/tmp/12S_1477481707816/12S.refaln -t /home/working/Reference_Alignment/Amphibians/SATIVA/sativa/tmp/12S_1477481707816/ref_12S.tre --no-seq-check -f O --epa-accumulated-threshold 0.999 -R /home/working/Reference_Alignment/Amphibians/SATIVA/sativa/tmp/12S_1477481707816/12S.opt -m GTRGAMMA -n l1out_seq_12S --verbose -p 13332\n",
      "\n",
      "Leave-one-out test identified 6 suspicious sequences; running final EPA test to check them...\n",
      "\n",
      "/home/working/Reference_Alignment/Amphibians/SATIVA/sativa/raxml//run_raxml.sh -w /home/working/Reference_Alignment/Amphibians/SATIVA/sativa/tmp/12S_1477481707816 -T 5 -s /home/working/Reference_Alignment/Amphibians/SATIVA/sativa/tmp/12S_1477481707816/12S.refaln -t /home/working/Reference_Alignment/Amphibians/SATIVA/sativa/tmp/12S_1477481707816/final_ref_12S.tre --no-seq-check -f v --epa-accumulated-threshold 0.999 -m GTRGAMMA -n final_epa_12S --verbose -p 326\n",
      "\n",
      "JN627425.1\tSpecies\tPelophylax ridibundus\tPelophylax lessonae\t1.000\tEukaryota;Chordata;Amphibia;Anura;Ranidae;Pelophylax;Pelophylax ridibundus\tEukaryota;Chordata;Amphibia;Anura;Ranidae;Pelophylax;Pelophylax lessonae\t1.000;1.000;1.000;1.000;1.000;1.000;1.000\n",
      "\n",
      "JN627424.1\tSpecies\tPelophylax esculentus\tPelophylax lessonae\t1.000\tEukaryota;Chordata;Amphibia;Anura;Ranidae;Pelophylax;Pelophylax esculentus\tEukaryota;Chordata;Amphibia;Anura;Ranidae;Pelophylax;Pelophylax lessonae\t1.000;1.000;1.000;1.000;1.000;1.000;1.000\n",
      "\n",
      "AB023396.1\tSpecies\tPelophylax esculentus\tPelophylax lessonae\t1.000\tEukaryota;Chordata;Amphibia;Anura;Ranidae;Pelophylax;Pelophylax esculentus\tEukaryota;Chordata;Amphibia;Anura;Ranidae;Pelophylax;Pelophylax lessonae\t1.000;1.000;1.000;1.000;1.000;1.000;1.000\n",
      "\n",
      "X95494.1\tSpecies\tPelophylax ridibundus\tPelophylax lessonae\t0.998\tEukaryota;Chordata;Amphibia;Anura;Ranidae;Pelophylax;Pelophylax ridibundus\tEukaryota;Chordata;Amphibia;Anura;Ranidae;Pelophylax;Pelophylax lessonae\t1.000;1.000;1.000;1.000;1.000;1.000;0.998\n",
      "\n",
      "HQ697272.1\tSpecies\tTriturus carnifex\tTriturus cristatus\t0.492\tEukaryota;Chordata;Amphibia;Caudata;Salamandridae;Triturus;Triturus carnifex\tEukaryota;Chordata;Amphibia;Caudata;Salamandridae;Triturus;Triturus cristatus\t1.000;1.000;1.000;1.000;1.000;0.993;0.492\n",
      "\n",
      "Mislabeled sequences by rank:\n",
      "Species     :\t5\n",
      "\n",
      "Total mislabels: 5 / 2.46 %\n",
      "\n",
      "Results were saved to: /home/working/Reference_Alignment/Amphibians/SATIVA/12S.mis\n",
      "Execution log was saved to: /home/working/Reference_Alignment/Amphibians/SATIVA/12S.log\n",
      "\n",
      "Analysis completed successfully, elapsed time: 460 seconds (223s reftree, 237s leave-one-out)\n",
      "\n"
     ]
    }
   ],
   "source": [
    "!./sativa/sativa.py -s alignment.phy -t tax_for_SATIVA.tax -x zoo -n 12S -o ./ -T 5 -v"
   ]
  },
  {
   "cell_type": "markdown",
   "metadata": {},
   "source": [
    "SATIVA (among other things) writes a report to a text file."
   ]
  },
  {
   "cell_type": "code",
   "execution_count": 4,
   "metadata": {
    "collapsed": false
   },
   "outputs": [
    {
     "name": "stdout",
     "output_type": "stream",
     "text": [
      ";WARNING: The revised taxon name suggested here is not necessarily the one that has priority in nomenclature. \r\n",
      ";Our suggestion should only be taken as indicative of an affiliation to the same group, whose correct name must be determined \r\n",
      ";in an additional step according to the specific rules of nomenclature that apply to the studied organisms.\r\n",
      ";\r\n",
      ";SeqID\tMislabeledLevel\tOriginalLabel\tProposedLabel\tConfidence\tOriginalTaxonomyPath\tProposedTaxonomyPath\tPerRankConfidence\r\n",
      "JN627425.1\tSpecies\tPelophylax ridibundus\tPelophylax lessonae\t1.000\tEukaryota;Chordata;Amphibia;Anura;Ranidae;Pelophylax;Pelophylax ridibundus\tEukaryota;Chordata;Amphibia;Anura;Ranidae;Pelophylax;Pelophylax lessonae\t1.000;1.000;1.000;1.000;1.000;1.000;1.000\r\n",
      "JN627424.1\tSpecies\tPelophylax esculentus\tPelophylax lessonae\t1.000\tEukaryota;Chordata;Amphibia;Anura;Ranidae;Pelophylax;Pelophylax esculentus\tEukaryota;Chordata;Amphibia;Anura;Ranidae;Pelophylax;Pelophylax lessonae\t1.000;1.000;1.000;1.000;1.000;1.000;1.000\r\n",
      "AB023396.1\tSpecies\tPelophylax esculentus\tPelophylax lessonae\t1.000\tEukaryota;Chordata;Amphibia;Anura;Ranidae;Pelophylax;Pelophylax esculentus\tEukaryota;Chordata;Amphibia;Anura;Ranidae;Pelophylax;Pelophylax lessonae\t1.000;1.000;1.000;1.000;1.000;1.000;1.000\r\n",
      "X95494.1\tSpecies\tPelophylax ridibundus\tPelophylax lessonae\t0.998\tEukaryota;Chordata;Amphibia;Anura;Ranidae;Pelophylax;Pelophylax ridibundus\tEukaryota;Chordata;Amphibia;Anura;Ranidae;Pelophylax;Pelophylax lessonae\t1.000;1.000;1.000;1.000;1.000;1.000;0.998\r\n",
      "HQ697272.1\tSpecies\tTriturus carnifex\tTriturus cristatus\t0.492\tEukaryota;Chordata;Amphibia;Caudata;Salamandridae;Triturus;Triturus carnifex\tEukaryota;Chordata;Amphibia;Caudata;Salamandridae;Triturus;Triturus cristatus\t1.000;1.000;1.000;1.000;1.000;0.993;0.492\r\n"
     ]
    }
   ],
   "source": [
    "!cat 12S.mis"
   ]
  }
 ],
 "metadata": {
  "kernelspec": {
   "display_name": "Python 2",
   "language": "python",
   "name": "python2"
  },
  "language_info": {
   "codemirror_mode": {
    "name": "ipython",
    "version": 2
   },
   "file_extension": ".py",
   "mimetype": "text/x-python",
   "name": "python",
   "nbconvert_exporter": "python",
   "pygments_lexer": "ipython2",
   "version": "2.7.6"
  }
 },
 "nbformat": 4,
 "nbformat_minor": 0
}
